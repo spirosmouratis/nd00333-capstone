{
  "cells": [
    {
      "cell_type": "markdown",
      "source": [
        "# Automated ML\n",
        "\n",
        "TODO: Import Dependencies. In the cell below, import all the dependencies that you will need to complete the project."
      ],
      "metadata": {}
    },
    {
      "cell_type": "code",
      "source": [
        "import azureml\r\n",
        "from azureml.core.experiment import Experiment\r\n",
        "from azureml.core.workspace import Workspace\r\n",
        "from azureml.core.compute import AmlCompute\r\n",
        "from azureml.core.compute import ComputeTarget\r\n",
        "from azureml.core.compute_target import ComputeTargetException\r\n",
        "from azureml.train.automl import AutoMLConfig\r\n",
        "from azureml.widgets import RunDetails\r\n",
        "\r\n",
        "print(\"SDK version:\", azureml.core.VERSION)"
      ],
      "outputs": [
        {
          "output_type": "stream",
          "name": "stdout",
          "text": [
            "SDK version: 1.26.0\n"
          ]
        }
      ],
      "execution_count": 3,
      "metadata": {
        "gather": {
          "logged": 1618177404196
        },
        "jupyter": {
          "outputs_hidden": false,
          "source_hidden": false
        },
        "nteract": {
          "transient": {
            "deleting": false
          }
        }
      }
    },
    {
      "cell_type": "markdown",
      "source": [
        "## Dataset\n",
        "\n",
        "### Overview\n",
        "TODO: In this markdown cell, give an overview of the dataset you are using. Also mention the task you will be performing.\n",
        "\n",
        "The dataset we are using here is the \"hottest\" dataset in Kaggle for credit card fraud detection.<br>\n",
        "The target of problem is to identify based on the given features if a transaction is fraudulent or not. <br>\n",
        "The dataset contains only numerical input variables which are a result of a PCA transformation. <br>\n",
        "This means that the datset does not require any cleaning, nomralisation or any kind of encoding. <br>\n",
        "\n",
        "TODO: Get data. In the cell below, write code to access the data you will be using in this project. Remember that the dataset needs to be external."
      ],
      "metadata": {}
    },
    {
      "cell_type": "code",
      "source": [
        "ws = Workspace.from_config()\n",
        "\n",
        "# choose a name for experiment\n",
        "experiment_name = 'capstone-fraud-credit-exp'\n",
        "\n",
        "experiment=Experiment(ws, experiment_name)"
      ],
      "outputs": [
        {
          "output_type": "stream",
          "name": "stdout",
          "text": [
            "Performing interactive authentication. Please follow the instructions on the terminal.\n",
            "To sign in, use a web browser to open the page https://microsoft.com/devicelogin and enter the code FAM64W8VJ to authenticate.\n",
            "You have logged in. Now let us find all the subscriptions to which you have access...\n",
            "Interactive authentication successfully completed.\n"
          ]
        }
      ],
      "execution_count": 4,
      "metadata": {
        "gather": {
          "logged": 1618177422606
        },
        "jupyter": {
          "outputs_hidden": false,
          "source_hidden": false
        },
        "nteract": {
          "transient": {
            "deleting": false
          }
        }
      }
    },
    {
      "cell_type": "markdown",
      "source": [
        "In the cell below we are creating a cluster to run our AutoML experiment"
      ],
      "metadata": {
        "nteract": {
          "transient": {
            "deleting": false
          }
        }
      }
    },
    {
      "cell_type": "code",
      "source": [
        "# NOTE: update the cluster name to match the existing cluster\r\n",
        "# Choose a name for your CPU cluster\r\n",
        "amlcompute_cluster_name = \"auto-ml\"\r\n",
        "\r\n",
        "# Verify that cluster does not exist already\r\n",
        "try:\r\n",
        "    compute_target = ComputeTarget(workspace=ws, name=amlcompute_cluster_name)\r\n",
        "    print('Found existing cluster, use it.')\r\n",
        "except ComputeTargetException:\r\n",
        "    compute_config = AmlCompute.provisioning_configuration(vm_size='STANDARD_DS12_V2',# for GPU, use \"STANDARD_NC6\"\r\n",
        "                                                           #vm_priority = 'lowpriority', # optional\r\n",
        "                                                           max_nodes=4)\r\n",
        "    compute_target = ComputeTarget.create(ws, amlcompute_cluster_name, compute_config)\r\n",
        "\r\n",
        "compute_target.wait_for_completion(show_output=True, min_node_count = 1, timeout_in_minutes = 10)\r\n",
        "# For a more detailed view of current AmlCompute status, use get_status()."
      ],
      "outputs": [
        {
          "output_type": "stream",
          "name": "stdout",
          "text": [
            "Creating....\n",
            "SucceededProvisioning operation finished, operation \"Succeeded\"\n",
            "Succeeded.....................................................................................................................\n",
            "AmlCompute wait for completion finished\n",
            "\n",
            "Wait timeout has been reached\n",
            "Current provisioning state of AmlCompute is \"Succeeded\" and current node count is \"0\"\n"
          ]
        }
      ],
      "execution_count": 5,
      "metadata": {
        "collapsed": true,
        "jupyter": {
          "source_hidden": false,
          "outputs_hidden": false
        },
        "nteract": {
          "transient": {
            "deleting": false
          }
        },
        "gather": {
          "logged": 1618178050498
        }
      }
    },
    {
      "cell_type": "markdown",
      "source": [
        "In the cell below we read the data if they are already saved in the Workspace <br>\r\n",
        "If they are not then we can download the data from a URL <br>\r\n",
        "Here the URL thought doesn't work properly so it's in comments <br>"
      ],
      "metadata": {
        "nteract": {
          "transient": {
            "deleting": false
          }
        }
      }
    },
    {
      "cell_type": "code",
      "source": [
        "# Try to load the dataset from the Workspace. Otherwise, create it from the file\r\n",
        "# NOTE: update the key to match the dataset name\r\n",
        "found = False\r\n",
        "key = \"fraud-capstone\"\r\n",
        "description_text = \"Credit Card Fraud Detection Data\"\r\n",
        "\r\n",
        "if key in ws.datasets.keys(): \r\n",
        "        found = True\r\n",
        "        dataset = ws.datasets[key] \r\n",
        "\r\n",
        "# if not found:\r\n",
        "#         # Create AML Dataset and register it into Workspace\r\n",
        "#         example_data = 'https://drive.google.com/file/d/1qEMDzGfw-iT4H127-ph3h_gmUfrSocpQ/view?usp=sharing'\r\n",
        "#         dataset = Dataset.Tabular.from_delimited_files(example_data)        \r\n",
        "#         #Register Dataset in Workspace\r\n",
        "#         dataset = dataset.register(workspace=ws,\r\n",
        "#                                    name=key,\r\n",
        "#                                    description=description_text)\r\n",
        "\r\n",
        "\r\n",
        "df = dataset.to_pandas_dataframe()\r\n",
        "df.describe()"
      ],
      "outputs": [
        {
          "output_type": "execute_result",
          "execution_count": 12,
          "data": {
            "text/plain": "                Time            V1            V2            V3            V4  \\\ncount  284806.000000  2.848070e+05  2.848070e+05  2.848070e+05  2.848070e+05   \nmean    94813.841366  3.918649e-15  5.682686e-16 -8.761736e-15  2.811118e-15   \nstd     47488.228330  1.958696e+00  1.651309e+00  1.516255e+00  1.415869e+00   \nmin         0.000000 -5.640751e+01 -7.271573e+01 -4.832559e+01 -5.683171e+00   \n25%     54201.250000 -9.203734e-01 -5.985499e-01 -8.903648e-01 -8.486401e-01   \n50%     84691.500000  1.810880e-02  6.548556e-02  1.798463e-01 -1.984653e-02   \n75%    139320.750000  1.315642e+00  8.037239e-01  1.027196e+00  7.433413e-01   \nmax    172792.000000  2.454930e+00  2.205773e+01  9.382558e+00  1.687534e+01   \n\n                 V5            V6            V7            V8            V9  \\\ncount  2.848070e+05  2.848070e+05  2.848070e+05  2.848070e+05  2.848070e+05   \nmean  -1.552103e-15  2.040130e-15 -1.698953e-15 -1.958151e-16 -3.147640e-15   \nstd    1.380247e+00  1.332271e+00  1.237094e+00  1.194353e+00  1.098632e+00   \nmin   -1.137433e+02 -2.616051e+01 -4.355724e+01 -7.321672e+01 -1.343407e+01   \n25%   -6.915971e-01 -7.682956e-01 -5.540759e-01 -2.086297e-01 -6.430976e-01   \n50%   -5.433583e-02 -2.741871e-01  4.010308e-02  2.235804e-02 -5.142873e-02   \n75%    6.119264e-01  3.985649e-01  5.704361e-01  3.273459e-01  5.971390e-01   \nmax    3.480167e+01  7.330163e+01  1.205895e+02  2.000721e+01  1.559499e+01   \n\n       ...           V21           V22           V23           V24  \\\ncount  ...  2.848070e+05  2.848070e+05  2.848070e+05  2.848070e+05   \nmean   ...  1.471982e-16  8.042109e-16  5.282450e-16  4.458267e-15   \nstd    ...  7.345240e-01  7.257016e-01  6.244603e-01  6.056471e-01   \nmin    ... -3.483038e+01 -1.093314e+01 -4.480774e+01 -2.836627e+00   \n25%    ... -2.283949e-01 -5.423504e-01 -1.618463e-01 -3.545861e-01   \n50%    ... -2.945017e-02  6.781943e-03 -1.119293e-02  4.097606e-02   \n75%    ...  1.863772e-01  5.285536e-01  1.476421e-01  4.395266e-01   \nmax    ...  2.720284e+01  1.050309e+01  2.252841e+01  4.584549e+00   \n\n                V25           V26           V27           V28         Amount  \\\ncount  2.848070e+05  2.848070e+05  2.848070e+05  2.848070e+05  284807.000000   \nmean   1.426896e-15  1.701640e-15 -3.671606e-16 -1.218152e-16      88.349619   \nstd    5.212781e-01  4.822270e-01  4.036325e-01  3.300833e-01     250.120109   \nmin   -1.029540e+01 -2.604551e+00 -2.256568e+01 -1.543008e+01       0.000000   \n25%   -3.171451e-01 -3.269839e-01 -7.083953e-02 -5.295979e-02       5.600000   \n50%    1.659350e-02 -5.213911e-02  1.342146e-03  1.124383e-02      22.000000   \n75%    3.507156e-01  2.409522e-01  9.104512e-02  7.827995e-02      77.165000   \nmax    7.519589e+00  3.517346e+00  3.161220e+01  3.384781e+01   25691.160000   \n\n               Class  \ncount  284807.000000  \nmean        0.001727  \nstd         0.041527  \nmin         0.000000  \n25%         0.000000  \n50%         0.000000  \n75%         0.000000  \nmax         1.000000  \n\n[8 rows x 31 columns]",
            "text/html": "<div>\n<style scoped>\n    .dataframe tbody tr th:only-of-type {\n        vertical-align: middle;\n    }\n\n    .dataframe tbody tr th {\n        vertical-align: top;\n    }\n\n    .dataframe thead th {\n        text-align: right;\n    }\n</style>\n<table border=\"1\" class=\"dataframe\">\n  <thead>\n    <tr style=\"text-align: right;\">\n      <th></th>\n      <th>Time</th>\n      <th>V1</th>\n      <th>V2</th>\n      <th>V3</th>\n      <th>V4</th>\n      <th>V5</th>\n      <th>V6</th>\n      <th>V7</th>\n      <th>V8</th>\n      <th>V9</th>\n      <th>...</th>\n      <th>V21</th>\n      <th>V22</th>\n      <th>V23</th>\n      <th>V24</th>\n      <th>V25</th>\n      <th>V26</th>\n      <th>V27</th>\n      <th>V28</th>\n      <th>Amount</th>\n      <th>Class</th>\n    </tr>\n  </thead>\n  <tbody>\n    <tr>\n      <th>count</th>\n      <td>284806.000000</td>\n      <td>2.848070e+05</td>\n      <td>2.848070e+05</td>\n      <td>2.848070e+05</td>\n      <td>2.848070e+05</td>\n      <td>2.848070e+05</td>\n      <td>2.848070e+05</td>\n      <td>2.848070e+05</td>\n      <td>2.848070e+05</td>\n      <td>2.848070e+05</td>\n      <td>...</td>\n      <td>2.848070e+05</td>\n      <td>2.848070e+05</td>\n      <td>2.848070e+05</td>\n      <td>2.848070e+05</td>\n      <td>2.848070e+05</td>\n      <td>2.848070e+05</td>\n      <td>2.848070e+05</td>\n      <td>2.848070e+05</td>\n      <td>284807.000000</td>\n      <td>284807.000000</td>\n    </tr>\n    <tr>\n      <th>mean</th>\n      <td>94813.841366</td>\n      <td>3.918649e-15</td>\n      <td>5.682686e-16</td>\n      <td>-8.761736e-15</td>\n      <td>2.811118e-15</td>\n      <td>-1.552103e-15</td>\n      <td>2.040130e-15</td>\n      <td>-1.698953e-15</td>\n      <td>-1.958151e-16</td>\n      <td>-3.147640e-15</td>\n      <td>...</td>\n      <td>1.471982e-16</td>\n      <td>8.042109e-16</td>\n      <td>5.282450e-16</td>\n      <td>4.458267e-15</td>\n      <td>1.426896e-15</td>\n      <td>1.701640e-15</td>\n      <td>-3.671606e-16</td>\n      <td>-1.218152e-16</td>\n      <td>88.349619</td>\n      <td>0.001727</td>\n    </tr>\n    <tr>\n      <th>std</th>\n      <td>47488.228330</td>\n      <td>1.958696e+00</td>\n      <td>1.651309e+00</td>\n      <td>1.516255e+00</td>\n      <td>1.415869e+00</td>\n      <td>1.380247e+00</td>\n      <td>1.332271e+00</td>\n      <td>1.237094e+00</td>\n      <td>1.194353e+00</td>\n      <td>1.098632e+00</td>\n      <td>...</td>\n      <td>7.345240e-01</td>\n      <td>7.257016e-01</td>\n      <td>6.244603e-01</td>\n      <td>6.056471e-01</td>\n      <td>5.212781e-01</td>\n      <td>4.822270e-01</td>\n      <td>4.036325e-01</td>\n      <td>3.300833e-01</td>\n      <td>250.120109</td>\n      <td>0.041527</td>\n    </tr>\n    <tr>\n      <th>min</th>\n      <td>0.000000</td>\n      <td>-5.640751e+01</td>\n      <td>-7.271573e+01</td>\n      <td>-4.832559e+01</td>\n      <td>-5.683171e+00</td>\n      <td>-1.137433e+02</td>\n      <td>-2.616051e+01</td>\n      <td>-4.355724e+01</td>\n      <td>-7.321672e+01</td>\n      <td>-1.343407e+01</td>\n      <td>...</td>\n      <td>-3.483038e+01</td>\n      <td>-1.093314e+01</td>\n      <td>-4.480774e+01</td>\n      <td>-2.836627e+00</td>\n      <td>-1.029540e+01</td>\n      <td>-2.604551e+00</td>\n      <td>-2.256568e+01</td>\n      <td>-1.543008e+01</td>\n      <td>0.000000</td>\n      <td>0.000000</td>\n    </tr>\n    <tr>\n      <th>25%</th>\n      <td>54201.250000</td>\n      <td>-9.203734e-01</td>\n      <td>-5.985499e-01</td>\n      <td>-8.903648e-01</td>\n      <td>-8.486401e-01</td>\n      <td>-6.915971e-01</td>\n      <td>-7.682956e-01</td>\n      <td>-5.540759e-01</td>\n      <td>-2.086297e-01</td>\n      <td>-6.430976e-01</td>\n      <td>...</td>\n      <td>-2.283949e-01</td>\n      <td>-5.423504e-01</td>\n      <td>-1.618463e-01</td>\n      <td>-3.545861e-01</td>\n      <td>-3.171451e-01</td>\n      <td>-3.269839e-01</td>\n      <td>-7.083953e-02</td>\n      <td>-5.295979e-02</td>\n      <td>5.600000</td>\n      <td>0.000000</td>\n    </tr>\n    <tr>\n      <th>50%</th>\n      <td>84691.500000</td>\n      <td>1.810880e-02</td>\n      <td>6.548556e-02</td>\n      <td>1.798463e-01</td>\n      <td>-1.984653e-02</td>\n      <td>-5.433583e-02</td>\n      <td>-2.741871e-01</td>\n      <td>4.010308e-02</td>\n      <td>2.235804e-02</td>\n      <td>-5.142873e-02</td>\n      <td>...</td>\n      <td>-2.945017e-02</td>\n      <td>6.781943e-03</td>\n      <td>-1.119293e-02</td>\n      <td>4.097606e-02</td>\n      <td>1.659350e-02</td>\n      <td>-5.213911e-02</td>\n      <td>1.342146e-03</td>\n      <td>1.124383e-02</td>\n      <td>22.000000</td>\n      <td>0.000000</td>\n    </tr>\n    <tr>\n      <th>75%</th>\n      <td>139320.750000</td>\n      <td>1.315642e+00</td>\n      <td>8.037239e-01</td>\n      <td>1.027196e+00</td>\n      <td>7.433413e-01</td>\n      <td>6.119264e-01</td>\n      <td>3.985649e-01</td>\n      <td>5.704361e-01</td>\n      <td>3.273459e-01</td>\n      <td>5.971390e-01</td>\n      <td>...</td>\n      <td>1.863772e-01</td>\n      <td>5.285536e-01</td>\n      <td>1.476421e-01</td>\n      <td>4.395266e-01</td>\n      <td>3.507156e-01</td>\n      <td>2.409522e-01</td>\n      <td>9.104512e-02</td>\n      <td>7.827995e-02</td>\n      <td>77.165000</td>\n      <td>0.000000</td>\n    </tr>\n    <tr>\n      <th>max</th>\n      <td>172792.000000</td>\n      <td>2.454930e+00</td>\n      <td>2.205773e+01</td>\n      <td>9.382558e+00</td>\n      <td>1.687534e+01</td>\n      <td>3.480167e+01</td>\n      <td>7.330163e+01</td>\n      <td>1.205895e+02</td>\n      <td>2.000721e+01</td>\n      <td>1.559499e+01</td>\n      <td>...</td>\n      <td>2.720284e+01</td>\n      <td>1.050309e+01</td>\n      <td>2.252841e+01</td>\n      <td>4.584549e+00</td>\n      <td>7.519589e+00</td>\n      <td>3.517346e+00</td>\n      <td>3.161220e+01</td>\n      <td>3.384781e+01</td>\n      <td>25691.160000</td>\n      <td>1.000000</td>\n    </tr>\n  </tbody>\n</table>\n<p>8 rows × 31 columns</p>\n</div>"
          },
          "metadata": {}
        }
      ],
      "execution_count": 12,
      "metadata": {
        "collapsed": true,
        "jupyter": {
          "source_hidden": false,
          "outputs_hidden": false
        },
        "nteract": {
          "transient": {
            "deleting": false
          }
        },
        "gather": {
          "logged": 1618178496786
        }
      }
    },
    {
      "cell_type": "markdown",
      "source": [
        "## AutoML Configuration\n",
        "\n",
        "TODO: Explain why you chose the automl settings and cofiguration you used below.\n",
        "\n",
        "I am giving the experiment a timeout after 30 minutes <br>\n",
        "It can run up to 5 Runs at the same time <br>\n",
        "Because the dataset is highly imbalanced we use AUC and its weighted <br>\n",
        "The problem is a binary classification <br>\n",
        "XGboostClassifier was giving me an error so I removed it <br>"
      ],
      "metadata": {}
    },
    {
      "cell_type": "code",
      "source": [
        "# TODO: Put your automl settings here\n",
        "automl_settings = {\n",
        "    \"experiment_timeout_minutes\": 30,\n",
        "    \"max_concurrent_iterations\": 5,\n",
        "    \"primary_metric\" : 'AUC_weighted'\n",
        "}\n",
        "\n",
        "# TODO: Put your automl config here\n",
        "automl_config = AutoMLConfig(compute_target=compute_target,\n",
        "                             task = \"classification\",\n",
        "                             training_data=dataset,\n",
        "                             label_column_name=\"Class\",   \n",
        "                             enable_early_stopping= True,\n",
        "                             featurization= 'auto',\n",
        "                             debug_log = \"automl_errors.log\",\n",
        "                             blocked_models=[\"XGBoostClassifier\"],\n",
        "                             **automl_settings\n",
        "                            )"
      ],
      "outputs": [],
      "execution_count": 9,
      "metadata": {
        "gather": {
          "logged": 1618178077178
        },
        "jupyter": {
          "outputs_hidden": false,
          "source_hidden": false
        },
        "nteract": {
          "transient": {
            "deleting": false
          }
        }
      }
    },
    {
      "cell_type": "code",
      "source": [
        "# TODO: Submit your experiment\n",
        "remote_run = experiment.submit(automl_config)"
      ],
      "outputs": [
        {
          "output_type": "stream",
          "name": "stdout",
          "text": [
            "Submitting remote run.\n"
          ]
        },
        {
          "output_type": "display_data",
          "data": {
            "text/plain": "<IPython.core.display.HTML object>",
            "text/html": "<table style=\"width:100%\"><tr><th>Experiment</th><th>Id</th><th>Type</th><th>Status</th><th>Details Page</th><th>Docs Page</th></tr><tr><td>capstone-fraud-credit-exp</td><td>AutoML_88dd3a46-5320-4270-af26-9741d9c3cc7c</td><td>automl</td><td>NotStarted</td><td><a href=\"https://ml.azure.com/runs/AutoML_88dd3a46-5320-4270-af26-9741d9c3cc7c?wsid=/subscriptions/cdbe0b43-92a0-4715-838a-f2648cc7ad21/resourcegroups/aml-quickstarts-142435/workspaces/quick-starts-ws-142435&amp;tid=660b3398-b80e-49d2-bc5b-ac1dc93b5254\" target=\"_blank\" rel=\"noopener\">Link to Azure Machine Learning studio</a></td><td><a href=\"https://docs.microsoft.com/en-us/python/api/overview/azure/ml/intro?view=azure-ml-py\" target=\"_blank\" rel=\"noopener\">Link to Documentation</a></td></tr></table>"
          },
          "metadata": {}
        }
      ],
      "execution_count": 10,
      "metadata": {
        "gather": {
          "logged": 1618178085926
        },
        "jupyter": {
          "outputs_hidden": false,
          "source_hidden": false
        },
        "nteract": {
          "transient": {
            "deleting": false
          }
        }
      }
    },
    {
      "cell_type": "markdown",
      "source": [
        "## Run Details\n",
        "\n",
        "OPTIONAL: Write about the different models trained and their performance. Why do you think some models did better than others?\n",
        "\n",
        "TODO: In the cell below, use the `RunDetails` widget to show the different experiments."
      ],
      "metadata": {}
    },
    {
      "cell_type": "code",
      "source": [
        "# submit script to AML\r\n",
        "RunDetails(remote_run).show()"
      ],
      "outputs": [
        {
          "output_type": "display_data",
          "data": {
            "text/plain": "_AutoMLWidget(widget_settings={'childWidgetDisplay': 'popup', 'send_telemetry': False, 'log_level': 'INFO', 's…",
            "application/vnd.jupyter.widget-view+json": {
              "version_major": 2,
              "version_minor": 0,
              "model_id": "dc80bb1fd8634ac9b25eda0a03831188"
            }
          },
          "metadata": {}
        },
        {
          "output_type": "display_data",
          "data": {
            "application/aml.mini.widget.v1": "{\"status\": \"Completed\", \"workbench_run_details_uri\": \"https://ml.azure.com/runs/AutoML_88dd3a46-5320-4270-af26-9741d9c3cc7c?wsid=/subscriptions/cdbe0b43-92a0-4715-838a-f2648cc7ad21/resourcegroups/aml-quickstarts-142435/workspaces/quick-starts-ws-142435&tid=660b3398-b80e-49d2-bc5b-ac1dc93b5254\", \"run_id\": \"AutoML_88dd3a46-5320-4270-af26-9741d9c3cc7c\", \"run_properties\": {\"run_id\": \"AutoML_88dd3a46-5320-4270-af26-9741d9c3cc7c\", \"created_utc\": \"2021-04-11T21:54:44.587825Z\", \"properties\": {\"num_iterations\": \"1000\", \"training_type\": \"TrainFull\", \"acquisition_function\": \"EI\", \"primary_metric\": \"AUC_weighted\", \"train_split\": \"0\", \"acquisition_parameter\": \"0\", \"num_cross_validation\": null, \"target\": \"auto-ml\", \"AMLSettingsJsonString\": \"{\\\"path\\\":null,\\\"name\\\":\\\"capstone-fraud-credit-exp\\\",\\\"subscription_id\\\":\\\"cdbe0b43-92a0-4715-838a-f2648cc7ad21\\\",\\\"resource_group\\\":\\\"aml-quickstarts-142435\\\",\\\"workspace_name\\\":\\\"quick-starts-ws-142435\\\",\\\"region\\\":\\\"southcentralus\\\",\\\"compute_target\\\":\\\"auto-ml\\\",\\\"spark_service\\\":null,\\\"azure_service\\\":\\\"remote\\\",\\\"many_models\\\":false,\\\"pipeline_fetch_max_batch_size\\\":1,\\\"enable_batch_run\\\":false,\\\"enable_run_restructure\\\":false,\\\"iterations\\\":1000,\\\"primary_metric\\\":\\\"AUC_weighted\\\",\\\"task_type\\\":\\\"classification\\\",\\\"data_script\\\":null,\\\"test_size\\\":0.0,\\\"validation_size\\\":0.0,\\\"n_cross_validations\\\":null,\\\"y_min\\\":null,\\\"y_max\\\":null,\\\"num_classes\\\":null,\\\"featurization\\\":\\\"auto\\\",\\\"_ignore_package_version_incompatibilities\\\":false,\\\"is_timeseries\\\":false,\\\"max_cores_per_iteration\\\":1,\\\"max_concurrent_iterations\\\":5,\\\"iteration_timeout_minutes\\\":null,\\\"mem_in_mb\\\":null,\\\"enforce_time_on_windows\\\":false,\\\"experiment_timeout_minutes\\\":30,\\\"experiment_exit_score\\\":null,\\\"whitelist_models\\\":null,\\\"blacklist_algos\\\":[\\\"XGBoostClassifier\\\",\\\"TensorFlowLinearClassifier\\\",\\\"TensorFlowDNN\\\"],\\\"supported_models\\\":[\\\"RandomForest\\\",\\\"LogisticRegression\\\",\\\"SVM\\\",\\\"ExtremeRandomTrees\\\",\\\"KNN\\\",\\\"LightGBM\\\",\\\"LinearSVM\\\",\\\"GradientBoosting\\\",\\\"MultinomialNaiveBayes\\\",\\\"BernoulliNaiveBayes\\\",\\\"TensorFlowLinearClassifier\\\",\\\"SGD\\\",\\\"TensorFlowDNN\\\",\\\"AveragedPerceptronClassifier\\\",\\\"XGBoostClassifier\\\",\\\"DecisionTree\\\"],\\\"private_models\\\":[],\\\"auto_blacklist\\\":true,\\\"blacklist_samples_reached\\\":false,\\\"exclude_nan_labels\\\":true,\\\"verbosity\\\":20,\\\"_debug_log\\\":\\\"azureml_automl.log\\\",\\\"show_warnings\\\":false,\\\"model_explainability\\\":true,\\\"service_url\\\":null,\\\"sdk_url\\\":null,\\\"sdk_packages\\\":null,\\\"enable_onnx_compatible_models\\\":false,\\\"enable_split_onnx_featurizer_estimator_models\\\":false,\\\"vm_type\\\":\\\"STANDARD_DS12_V2\\\",\\\"telemetry_verbosity\\\":20,\\\"send_telemetry\\\":true,\\\"enable_dnn\\\":false,\\\"scenario\\\":\\\"SDK-1.13.0\\\",\\\"environment_label\\\":null,\\\"save_mlflow\\\":false,\\\"force_text_dnn\\\":false,\\\"enable_feature_sweeping\\\":true,\\\"enable_early_stopping\\\":true,\\\"early_stopping_n_iters\\\":10,\\\"metrics\\\":null,\\\"enable_metric_confidence\\\":false,\\\"enable_ensembling\\\":true,\\\"enable_stack_ensembling\\\":true,\\\"ensemble_iterations\\\":15,\\\"enable_tf\\\":false,\\\"enable_subsampling\\\":null,\\\"subsample_seed\\\":null,\\\"enable_nimbusml\\\":false,\\\"enable_streaming\\\":false,\\\"force_streaming\\\":false,\\\"track_child_runs\\\":true,\\\"allowed_private_models\\\":[],\\\"label_column_name\\\":\\\"Class\\\",\\\"weight_column_name\\\":null,\\\"cv_split_column_names\\\":null,\\\"enable_local_managed\\\":false,\\\"_local_managed_run_id\\\":null,\\\"cost_mode\\\":1,\\\"lag_length\\\":0,\\\"metric_operation\\\":\\\"maximize\\\",\\\"preprocess\\\":true}\", \"DataPrepJsonString\": \"{\\\\\\\"training_data\\\\\\\": {\\\\\\\"datasetId\\\\\\\": \\\\\\\"36fcb197-e792-450a-a89e-d7d42f9683a0\\\\\\\"}, \\\\\\\"datasets\\\\\\\": 0}\", \"EnableSubsampling\": null, \"runTemplate\": \"AutoML\", \"azureml.runsource\": \"automl\", \"display_task_type\": \"classification\", \"dependencies_versions\": \"{\\\"azureml-widgets\\\": \\\"1.26.0\\\", \\\"azureml-train\\\": \\\"1.26.0\\\", \\\"azureml-train-restclients-hyperdrive\\\": \\\"1.26.0\\\", \\\"azureml-train-core\\\": \\\"1.26.0\\\", \\\"azureml-train-automl\\\": \\\"1.26.0\\\", \\\"azureml-train-automl-runtime\\\": \\\"1.26.0\\\", \\\"azureml-train-automl-client\\\": \\\"1.26.0\\\", \\\"azureml-tensorboard\\\": \\\"1.26.0\\\", \\\"azureml-telemetry\\\": \\\"1.26.0\\\", \\\"azureml-sdk\\\": \\\"1.26.0\\\", \\\"azureml-samples\\\": \\\"0+unknown\\\", \\\"azureml-pipeline\\\": \\\"1.26.0\\\", \\\"azureml-pipeline-steps\\\": \\\"1.26.0\\\", \\\"azureml-pipeline-core\\\": \\\"1.26.0\\\", \\\"azureml-opendatasets\\\": \\\"1.26.0\\\", \\\"azureml-model-management-sdk\\\": \\\"1.0.1b6.post1\\\", \\\"azureml-mlflow\\\": \\\"1.26.0\\\", \\\"azureml-interpret\\\": \\\"1.26.0\\\", \\\"azureml-explain-model\\\": \\\"1.26.0\\\", \\\"azureml-defaults\\\": \\\"1.26.0\\\", \\\"azureml-dataset-runtime\\\": \\\"1.26.0\\\", \\\"azureml-dataprep\\\": \\\"2.13.2\\\", \\\"azureml-dataprep-rslex\\\": \\\"1.11.2\\\", \\\"azureml-dataprep-native\\\": \\\"32.0.0\\\", \\\"azureml-datadrift\\\": \\\"1.26.0\\\", \\\"azureml-core\\\": \\\"1.26.0\\\", \\\"azureml-contrib-services\\\": \\\"1.26.0\\\", \\\"azureml-contrib-server\\\": \\\"1.26.0\\\", \\\"azureml-contrib-reinforcementlearning\\\": \\\"1.26.0\\\", \\\"azureml-contrib-pipeline-steps\\\": \\\"1.26.0\\\", \\\"azureml-contrib-notebook\\\": \\\"1.26.0\\\", \\\"azureml-contrib-gbdt\\\": \\\"1.26.0\\\", \\\"azureml-contrib-fairness\\\": \\\"1.26.0\\\", \\\"azureml-contrib-dataset\\\": \\\"1.26.0\\\", \\\"azureml-cli-common\\\": \\\"1.26.0\\\", \\\"azureml-automl-runtime\\\": \\\"1.26.0\\\", \\\"azureml-automl-dnn-nlp\\\": \\\"1.26.0\\\", \\\"azureml-automl-core\\\": \\\"1.26.0\\\", \\\"azureml-accel-models\\\": \\\"1.26.0\\\"}\", \"_aml_system_scenario_identification\": \"Remote.Parent\", \"ClientType\": \"SDK\", \"environment_cpu_name\": \"AzureML-AutoML\", \"environment_cpu_label\": \"prod\", \"environment_gpu_name\": \"AzureML-AutoML-GPU\", \"environment_gpu_label\": \"prod\", \"root_attribution\": \"automl\", \"attribution\": \"AutoML\", \"Orchestrator\": \"AutoML\", \"CancelUri\": \"https://southcentralus.experiments.azureml.net/jasmine/v1.0/subscriptions/cdbe0b43-92a0-4715-838a-f2648cc7ad21/resourceGroups/aml-quickstarts-142435/providers/Microsoft.MachineLearningServices/workspaces/quick-starts-ws-142435/experimentids/09b75d63-5600-479d-81d7-5e90cec05433/cancel/AutoML_88dd3a46-5320-4270-af26-9741d9c3cc7c\", \"ClientSdkVersion\": \"1.25.0\", \"snapshotId\": \"00000000-0000-0000-0000-000000000000\", \"SetupRunId\": \"AutoML_88dd3a46-5320-4270-af26-9741d9c3cc7c_setup\", \"SetupRunContainerId\": \"dcid.AutoML_88dd3a46-5320-4270-af26-9741d9c3cc7c_setup\", \"FeaturizationRunJsonPath\": \"featurizer_container.json\", \"FeaturizationRunId\": \"AutoML_88dd3a46-5320-4270-af26-9741d9c3cc7c_featurize\", \"ProblemInfoJsonString\": \"{\\\"dataset_num_categorical\\\": 0, \\\"is_sparse\\\": false, \\\"subsampling\\\": false, \\\"dataset_classes\\\": 2, \\\"dataset_features\\\": 30, \\\"dataset_samples\\\": 256326, \\\"single_frequency_class_detected\\\": false}\", \"ModelExplainRunId\": \"AutoML_88dd3a46-5320-4270-af26-9741d9c3cc7c_ModelExplain\"}, \"tags\": {\"model_explain_run\": \"best_run\", \"_aml_system_azureml.automlComponent\": \"AutoML\", \"pipeline_id\": \"\", \"score\": \"\", \"predicted_cost\": \"\", \"fit_time\": \"\", \"training_percent\": \"\", \"iteration\": \"\", \"run_preprocessor\": \"\", \"run_algorithm\": \"\", \"dynamic_whitelisting_iterations\": \"<25>;<30>;<35>;\", \"automl_best_child_run_id\": \"AutoML_88dd3a46-5320-4270-af26-9741d9c3cc7c_38\", \"model_explain_best_run_child_id\": \"AutoML_88dd3a46-5320-4270-af26-9741d9c3cc7c_38\"}, \"end_time_utc\": \"2021-04-11T22:33:13.398898Z\", \"status\": \"Completed\", \"log_files\": {}, \"log_groups\": [], \"run_duration\": \"0:38:28\", \"run_number\": \"1\", \"run_queued_details\": {\"status\": \"Completed\", \"details\": null}}, \"child_runs\": [{\"run_id\": \"AutoML_88dd3a46-5320-4270-af26-9741d9c3cc7c_0\", \"run_number\": 5, \"metric\": null, \"status\": \"Completed\", \"run_type\": \"azureml.scriptrun\", \"training_percent\": \"100\", \"start_time\": \"2021-04-11T22:05:56.960365Z\", \"end_time\": \"2021-04-11T22:08:04.416516Z\", \"created_time\": \"2021-04-11T22:02:14.600037Z\", \"created_time_dt\": \"2021-04-11T22:02:14.600037Z\", \"duration\": \"0:05:49\", \"iteration\": \"0\", \"goal\": \"AUC_weighted_max\", \"run_name\": \"MaxAbsScaler, LightGBM\", \"run_properties\": \"copy=True\", \"primary_metric\": 0.92515188, \"best_metric\": 0.92515188}, {\"run_id\": \"AutoML_88dd3a46-5320-4270-af26-9741d9c3cc7c_2\", \"run_number\": 6, \"metric\": null, \"status\": \"Completed\", \"run_type\": \"azureml.scriptrun\", \"training_percent\": \"100\", \"start_time\": \"2021-04-11T22:05:57.844082Z\", \"end_time\": \"2021-04-11T22:06:57.716527Z\", \"created_time\": \"2021-04-11T22:02:14.758912Z\", \"created_time_dt\": \"2021-04-11T22:02:14.758912Z\", \"duration\": \"0:04:42\", \"iteration\": \"2\", \"goal\": \"AUC_weighted_max\", \"run_name\": \"RobustScaler, ExtremeRandomTrees\", \"run_properties\": \"copy=True, quantile_range=[10, 90], with_centering=False,\\n             with_scaling=False\", \"primary_metric\": 0.9419345, \"best_metric\": 0.95658277}, {\"run_id\": \"AutoML_88dd3a46-5320-4270-af26-9741d9c3cc7c_1\", \"run_number\": 7, \"metric\": null, \"status\": \"Completed\", \"run_type\": \"azureml.scriptrun\", \"training_percent\": \"100\", \"start_time\": \"2021-04-11T22:07:14.665605Z\", \"end_time\": \"2021-04-11T22:08:26.372154Z\", \"created_time\": \"2021-04-11T22:02:14.776562Z\", \"created_time_dt\": \"2021-04-11T22:02:14.776562Z\", \"duration\": \"0:06:11\", \"iteration\": \"1\", \"goal\": \"AUC_weighted_max\", \"run_name\": \"MinMaxScaler, RandomForest\", \"run_properties\": \"copy=True, feature_range=(0, 1\", \"primary_metric\": 0.95658277, \"best_metric\": 0.95658277}, {\"run_id\": \"AutoML_88dd3a46-5320-4270-af26-9741d9c3cc7c_4\", \"run_number\": 8, \"metric\": null, \"status\": \"Completed\", \"run_type\": \"azureml.scriptrun\", \"training_percent\": \"100\", \"start_time\": \"2021-04-11T22:05:54.420723Z\", \"end_time\": \"2021-04-11T22:08:00.45226Z\", \"created_time\": \"2021-04-11T22:02:14.781685Z\", \"created_time_dt\": \"2021-04-11T22:02:14.781685Z\", \"duration\": \"0:05:45\", \"iteration\": \"4\", \"goal\": \"AUC_weighted_max\", \"run_name\": \"MinMaxScaler, RandomForest\", \"run_properties\": \"copy=True, feature_range=(0, 1\", \"primary_metric\": 0.95908713, \"best_metric\": 0.97841825}, {\"run_id\": \"AutoML_88dd3a46-5320-4270-af26-9741d9c3cc7c_3\", \"run_number\": 9, \"metric\": null, \"status\": \"Completed\", \"run_type\": \"azureml.scriptrun\", \"training_percent\": \"100\", \"start_time\": \"2021-04-11T22:05:54.358499Z\", \"end_time\": \"2021-04-11T22:08:00.69014Z\", \"created_time\": \"2021-04-11T22:02:14.832882Z\", \"created_time_dt\": \"2021-04-11T22:02:14.832882Z\", \"duration\": \"0:05:45\", \"iteration\": \"3\", \"goal\": \"AUC_weighted_max\", \"run_name\": \"MinMaxScaler, RandomForest\", \"run_properties\": \"copy=True, feature_range=(0, 1\", \"primary_metric\": 0.97841825, \"best_metric\": 0.97841825}, {\"run_id\": \"AutoML_88dd3a46-5320-4270-af26-9741d9c3cc7c_5\", \"run_number\": 10, \"metric\": null, \"status\": \"Completed\", \"run_type\": \"azureml.scriptrun\", \"training_percent\": \"100\", \"start_time\": \"2021-04-11T22:13:10.37554Z\", \"end_time\": \"2021-04-11T22:14:24.849771Z\", \"created_time\": \"2021-04-11T22:07:00.297263Z\", \"created_time_dt\": \"2021-04-11T22:07:00.297263Z\", \"duration\": \"0:07:24\", \"iteration\": \"5\", \"goal\": \"AUC_weighted_max\", \"run_name\": \"StandardScalerWrapper, RandomForest\", \"run_properties\": \"<azureml.automl.runtime.shared.model_wrappers.StandardScalerWrapper object at 0x7fd750396b00\", \"primary_metric\": 0.96170383, \"best_metric\": 0.97841825}, {\"run_id\": \"AutoML_88dd3a46-5320-4270-af26-9741d9c3cc7c_6\", \"run_number\": 11, \"metric\": null, \"status\": \"Completed\", \"run_type\": \"azureml.scriptrun\", \"training_percent\": \"100\", \"start_time\": \"2021-04-11T22:13:25.079132Z\", \"end_time\": \"2021-04-11T22:14:23.947006Z\", \"created_time\": \"2021-04-11T22:08:03.626006Z\", \"created_time_dt\": \"2021-04-11T22:08:03.626006Z\", \"duration\": \"0:06:20\", \"iteration\": \"6\", \"goal\": \"AUC_weighted_max\", \"run_name\": \"MinMaxScaler, ExtremeRandomTrees\", \"run_properties\": \"copy=True, feature_range=(0, 1\", \"primary_metric\": 0.97213294, \"best_metric\": 0.97841825}, {\"run_id\": \"AutoML_88dd3a46-5320-4270-af26-9741d9c3cc7c_7\", \"run_number\": 12, \"metric\": null, \"status\": \"Completed\", \"run_type\": \"azureml.scriptrun\", \"training_percent\": \"100\", \"start_time\": \"2021-04-11T22:13:27.872098Z\", \"end_time\": \"2021-04-11T22:14:19.399211Z\", \"created_time\": \"2021-04-11T22:08:03.733503Z\", \"created_time_dt\": \"2021-04-11T22:08:03.733503Z\", \"duration\": \"0:06:15\", \"iteration\": \"7\", \"goal\": \"AUC_weighted_max\", \"run_name\": \"MinMaxScaler, ExtremeRandomTrees\", \"run_properties\": \"copy=True, feature_range=(0, 1\", \"primary_metric\": 0.95980205, \"best_metric\": 0.97841825}, {\"run_id\": \"AutoML_88dd3a46-5320-4270-af26-9741d9c3cc7c_8\", \"run_number\": 13, \"metric\": null, \"status\": \"Completed\", \"run_type\": \"azureml.scriptrun\", \"training_percent\": \"100\", \"start_time\": \"2021-04-11T22:13:25.409145Z\", \"end_time\": \"2021-04-11T22:14:23.654115Z\", \"created_time\": \"2021-04-11T22:08:12.388055Z\", \"created_time_dt\": \"2021-04-11T22:08:12.388055Z\", \"duration\": \"0:06:11\", \"iteration\": \"8\", \"goal\": \"AUC_weighted_max\", \"run_name\": \"MinMaxScaler, ExtremeRandomTrees\", \"run_properties\": \"copy=True, feature_range=(0, 1\", \"primary_metric\": 0.96178027, \"best_metric\": 0.97841825}, {\"run_id\": \"AutoML_88dd3a46-5320-4270-af26-9741d9c3cc7c_9\", \"run_number\": 14, \"metric\": null, \"status\": \"Completed\", \"run_type\": \"azureml.scriptrun\", \"training_percent\": \"100\", \"start_time\": \"2021-04-11T22:14:34.279314Z\", \"end_time\": \"2021-04-11T22:15:39.177225Z\", \"created_time\": \"2021-04-11T22:08:30.567229Z\", \"created_time_dt\": \"2021-04-11T22:08:30.567229Z\", \"duration\": \"0:07:08\", \"iteration\": \"9\", \"goal\": \"AUC_weighted_max\", \"run_name\": \"RobustScaler, ExtremeRandomTrees\", \"run_properties\": \"copy=True, quantile_range=[10, 90], with_centering=True,\\n             with_scaling=False\", \"primary_metric\": 0.95213786, \"best_metric\": 0.97841825}, {\"run_id\": \"AutoML_88dd3a46-5320-4270-af26-9741d9c3cc7c_10\", \"run_number\": 15, \"metric\": null, \"status\": \"Completed\", \"run_type\": \"azureml.scriptrun\", \"training_percent\": \"100\", \"start_time\": \"2021-04-11T22:18:56.137159Z\", \"end_time\": \"2021-04-11T22:20:26.474136Z\", \"created_time\": \"2021-04-11T22:14:22.204791Z\", \"created_time_dt\": \"2021-04-11T22:14:22.204791Z\", \"duration\": \"0:06:04\", \"iteration\": \"10\", \"goal\": \"AUC_weighted_max\", \"run_name\": \"StandardScalerWrapper, RandomForest\", \"run_properties\": \"<azureml.automl.runtime.shared.model_wrappers.StandardScalerWrapper object at 0x7fad5d8afb70\", \"primary_metric\": 0.96806667, \"best_metric\": 0.97841825}, {\"run_id\": \"AutoML_88dd3a46-5320-4270-af26-9741d9c3cc7c_11\", \"run_number\": 16, \"metric\": null, \"status\": \"Completed\", \"run_type\": \"azureml.scriptrun\", \"training_percent\": \"100\", \"start_time\": \"2021-04-11T22:19:02.58974Z\", \"end_time\": \"2021-04-11T22:19:48.653151Z\", \"created_time\": \"2021-04-11T22:14:27.61946Z\", \"created_time_dt\": \"2021-04-11T22:14:27.61946Z\", \"duration\": \"0:05:21\", \"iteration\": \"11\", \"goal\": \"AUC_weighted_max\", \"run_name\": \"StandardScalerWrapper, SGD\", \"run_properties\": \"<azureml.automl.runtime.shared.model_wrappers.StandardScalerWrapper object at 0x7f22961f6f28\", \"primary_metric\": 0.93972011, \"best_metric\": 0.97841825}, {\"run_id\": \"AutoML_88dd3a46-5320-4270-af26-9741d9c3cc7c_12\", \"run_number\": 17, \"metric\": null, \"status\": \"Completed\", \"run_type\": \"azureml.scriptrun\", \"training_percent\": \"100\", \"start_time\": \"2021-04-11T22:19:02.726689Z\", \"end_time\": \"2021-04-11T22:20:03.393459Z\", \"created_time\": \"2021-04-11T22:14:27.649379Z\", \"created_time_dt\": \"2021-04-11T22:14:27.649379Z\", \"duration\": \"0:05:35\", \"iteration\": \"12\", \"goal\": \"AUC_weighted_max\", \"run_name\": \"RobustScaler, RandomForest\", \"run_properties\": \"copy=True, quantile_range=[10, 90], with_centering=True,\\n             with_scaling=False\", \"primary_metric\": 0.96247366, \"best_metric\": 0.97841825}, {\"run_id\": \"AutoML_88dd3a46-5320-4270-af26-9741d9c3cc7c_13\", \"run_number\": 18, \"metric\": null, \"status\": \"Completed\", \"run_type\": \"azureml.scriptrun\", \"training_percent\": \"100\", \"start_time\": \"2021-04-11T22:19:01.568378Z\", \"end_time\": \"2021-04-11T22:19:54.383709Z\", \"created_time\": \"2021-04-11T22:14:28.027066Z\", \"created_time_dt\": \"2021-04-11T22:14:28.027066Z\", \"duration\": \"0:05:26\", \"iteration\": \"13\", \"goal\": \"AUC_weighted_max\", \"run_name\": \"MinMaxScaler, RandomForest\", \"run_properties\": \"copy=True, feature_range=(0, 1\", \"primary_metric\": 0.95416274, \"best_metric\": 0.97841825}, {\"run_id\": \"AutoML_88dd3a46-5320-4270-af26-9741d9c3cc7c_14\", \"run_number\": 19, \"metric\": null, \"status\": \"Completed\", \"run_type\": \"azureml.scriptrun\", \"training_percent\": \"100\", \"start_time\": \"2021-04-11T22:20:04.627109Z\", \"end_time\": \"2021-04-11T22:20:56.096777Z\", \"created_time\": \"2021-04-11T22:15:41.967989Z\", \"created_time_dt\": \"2021-04-11T22:15:41.967989Z\", \"duration\": \"0:05:14\", \"iteration\": \"14\", \"goal\": \"AUC_weighted_max\", \"run_name\": \"MinMaxScaler, ExtremeRandomTrees\", \"run_properties\": \"copy=True, feature_range=(0, 1\", \"primary_metric\": 0.94689765, \"best_metric\": 0.97841825}, {\"run_id\": \"AutoML_88dd3a46-5320-4270-af26-9741d9c3cc7c_15\", \"run_number\": 20, \"metric\": null, \"status\": \"Completed\", \"run_type\": \"azureml.scriptrun\", \"training_percent\": \"100\", \"start_time\": \"2021-04-11T22:20:06.214559Z\", \"end_time\": \"2021-04-11T22:21:04.337534Z\", \"created_time\": \"2021-04-11T22:19:52.073583Z\", \"created_time_dt\": \"2021-04-11T22:19:52.073583Z\", \"duration\": \"0:01:12\", \"iteration\": \"15\", \"goal\": \"AUC_weighted_max\", \"run_name\": \"MinMaxScaler, RandomForest\", \"run_properties\": \"copy=True, feature_range=(0, 1\", \"primary_metric\": 0.96713103, \"best_metric\": 0.97841825}, {\"run_id\": \"AutoML_88dd3a46-5320-4270-af26-9741d9c3cc7c_16\", \"run_number\": 21, \"metric\": null, \"status\": \"Completed\", \"run_type\": \"azureml.scriptrun\", \"training_percent\": \"100\", \"start_time\": \"2021-04-11T22:20:21.767032Z\", \"end_time\": \"2021-04-11T22:21:20.640729Z\", \"created_time\": \"2021-04-11T22:19:58.347717Z\", \"created_time_dt\": \"2021-04-11T22:19:58.347717Z\", \"duration\": \"0:01:22\", \"iteration\": \"16\", \"goal\": \"AUC_weighted_max\", \"run_name\": \"MinMaxScaler, RandomForest\", \"run_properties\": \"copy=True, feature_range=(0, 1\", \"primary_metric\": 0.96933069, \"best_metric\": 0.97841825}, {\"run_id\": \"AutoML_88dd3a46-5320-4270-af26-9741d9c3cc7c_17\", \"run_number\": 22, \"metric\": null, \"status\": \"Completed\", \"run_type\": \"azureml.scriptrun\", \"training_percent\": \"100\", \"start_time\": \"2021-04-11T22:24:25.807344Z\", \"end_time\": \"2021-04-11T22:25:31.187646Z\", \"created_time\": \"2021-04-11T22:20:06.539569Z\", \"created_time_dt\": \"2021-04-11T22:20:06.539569Z\", \"duration\": \"0:05:24\", \"iteration\": \"17\", \"goal\": \"AUC_weighted_max\", \"run_name\": \"MaxAbsScaler, RandomForest\", \"run_properties\": \"copy=True\", \"primary_metric\": 0.97116787, \"best_metric\": 0.97841825}, {\"run_id\": \"AutoML_88dd3a46-5320-4270-af26-9741d9c3cc7c_18\", \"run_number\": 23, \"metric\": null, \"status\": \"Completed\", \"run_type\": \"azureml.scriptrun\", \"training_percent\": \"100\", \"start_time\": \"2021-04-11T22:24:28.595621Z\", \"end_time\": \"2021-04-11T22:25:30.229976Z\", \"created_time\": \"2021-04-11T22:20:29.987545Z\", \"created_time_dt\": \"2021-04-11T22:20:29.987545Z\", \"duration\": \"0:05:00\", \"iteration\": \"18\", \"goal\": \"AUC_weighted_max\", \"run_name\": \"MaxAbsScaler, RandomForest\", \"run_properties\": \"copy=True\", \"primary_metric\": 0.95703641, \"best_metric\": 0.97841825}, {\"run_id\": \"AutoML_88dd3a46-5320-4270-af26-9741d9c3cc7c_19\", \"run_number\": 24, \"metric\": null, \"status\": \"Completed\", \"run_type\": \"azureml.scriptrun\", \"training_percent\": \"100\", \"start_time\": \"2021-04-11T22:24:27.825222Z\", \"end_time\": \"2021-04-11T22:25:18.083021Z\", \"created_time\": \"2021-04-11T22:20:59.570375Z\", \"created_time_dt\": \"2021-04-11T22:20:59.570375Z\", \"duration\": \"0:04:18\", \"iteration\": \"19\", \"goal\": \"AUC_weighted_max\", \"run_name\": \"StandardScalerWrapper, ExtremeRandomTrees\", \"run_properties\": \"<azureml.automl.runtime.shared.model_wrappers.StandardScalerWrapper object at 0x7fde44900278\", \"primary_metric\": 0.96408222, \"best_metric\": 0.97841825}, {\"run_id\": \"AutoML_88dd3a46-5320-4270-af26-9741d9c3cc7c_20\", \"run_number\": 25, \"metric\": null, \"status\": \"Completed\", \"run_type\": \"azureml.scriptrun\", \"training_percent\": \"100\", \"start_time\": \"2021-04-11T22:24:31.048493Z\", \"end_time\": \"2021-04-11T22:25:20.418121Z\", \"created_time\": \"2021-04-11T22:21:08.296611Z\", \"created_time_dt\": \"2021-04-11T22:21:08.296611Z\", \"duration\": \"0:04:12\", \"iteration\": \"20\", \"goal\": \"AUC_weighted_max\", \"run_name\": \"MaxAbsScaler, ExtremeRandomTrees\", \"run_properties\": \"copy=True\", \"primary_metric\": 0.95765155, \"best_metric\": 0.97841825}, {\"run_id\": \"AutoML_88dd3a46-5320-4270-af26-9741d9c3cc7c_21\", \"run_number\": 26, \"metric\": null, \"status\": \"Completed\", \"run_type\": \"azureml.scriptrun\", \"training_percent\": \"100\", \"start_time\": \"2021-04-11T22:25:28.602592Z\", \"end_time\": \"2021-04-11T22:26:24.477124Z\", \"created_time\": \"2021-04-11T22:21:23.976858Z\", \"created_time_dt\": \"2021-04-11T22:21:23.976858Z\", \"duration\": \"0:05:00\", \"iteration\": \"21\", \"goal\": \"AUC_weighted_max\", \"run_name\": \"MaxAbsScaler, ExtremeRandomTrees\", \"run_properties\": \"copy=True\", \"primary_metric\": 0.95785074, \"best_metric\": 0.97841825}, {\"run_id\": \"AutoML_88dd3a46-5320-4270-af26-9741d9c3cc7c_22\", \"run_number\": 27, \"metric\": null, \"status\": \"Completed\", \"run_type\": \"azureml.scriptrun\", \"training_percent\": \"100\", \"start_time\": \"2021-04-11T22:25:36.362648Z\", \"end_time\": \"2021-04-11T22:26:40.101607Z\", \"created_time\": \"2021-04-11T22:25:21.986545Z\", \"created_time_dt\": \"2021-04-11T22:25:21.986545Z\", \"duration\": \"0:01:18\", \"iteration\": \"22\", \"goal\": \"AUC_weighted_max\", \"run_name\": \"MaxAbsScaler, RandomForest\", \"run_properties\": \"copy=True\", \"primary_metric\": 0.97489176, \"best_metric\": 0.97841825}, {\"run_id\": \"AutoML_88dd3a46-5320-4270-af26-9741d9c3cc7c_23\", \"run_number\": 28, \"metric\": null, \"status\": \"Completed\", \"run_type\": \"azureml.scriptrun\", \"training_percent\": \"100\", \"start_time\": \"2021-04-11T22:25:40.979769Z\", \"end_time\": \"2021-04-11T22:26:54.756072Z\", \"created_time\": \"2021-04-11T22:25:27.526889Z\", \"created_time_dt\": \"2021-04-11T22:25:27.526889Z\", \"duration\": \"0:01:27\", \"iteration\": \"23\", \"goal\": \"AUC_weighted_max\", \"run_name\": \"MinMaxScaler, RandomForest\", \"run_properties\": \"copy=True, feature_range=(0, 1\", \"primary_metric\": 0.95728835, \"best_metric\": 0.97841825}, {\"run_id\": \"AutoML_88dd3a46-5320-4270-af26-9741d9c3cc7c_24\", \"run_number\": 29, \"metric\": null, \"status\": \"Completed\", \"run_type\": \"azureml.scriptrun\", \"training_percent\": \"100\", \"start_time\": \"2021-04-11T22:25:47.434609Z\", \"end_time\": \"2021-04-11T22:26:45.133456Z\", \"created_time\": \"2021-04-11T22:25:33.528753Z\", \"created_time_dt\": \"2021-04-11T22:25:33.528753Z\", \"duration\": \"0:01:11\", \"iteration\": \"24\", \"goal\": \"AUC_weighted_max\", \"run_name\": \"MaxAbsScaler, ExtremeRandomTrees\", \"run_properties\": \"copy=True\", \"primary_metric\": 0.94577467, \"best_metric\": 0.97841825}, {\"run_id\": \"AutoML_88dd3a46-5320-4270-af26-9741d9c3cc7c_25\", \"run_number\": 30, \"metric\": null, \"status\": \"Completed\", \"run_type\": \"azureml.scriptrun\", \"training_percent\": \"100\", \"start_time\": \"2021-04-11T22:26:42.853251Z\", \"end_time\": \"2021-04-11T22:27:40.528066Z\", \"created_time\": \"2021-04-11T22:25:40.387195Z\", \"created_time_dt\": \"2021-04-11T22:25:40.387195Z\", \"duration\": \"0:02:00\", \"iteration\": \"25\", \"goal\": \"AUC_weighted_max\", \"run_name\": \"MaxAbsScaler, RandomForest\", \"run_properties\": \"copy=True\", \"primary_metric\": 0.5, \"best_metric\": 0.97841825}, {\"run_id\": \"AutoML_88dd3a46-5320-4270-af26-9741d9c3cc7c_26\", \"run_number\": 31, \"metric\": null, \"status\": \"Completed\", \"run_type\": \"azureml.scriptrun\", \"training_percent\": \"100\", \"start_time\": \"2021-04-11T22:26:56.380089Z\", \"end_time\": \"2021-04-11T22:27:48.284157Z\", \"created_time\": \"2021-04-11T22:26:27.127154Z\", \"created_time_dt\": \"2021-04-11T22:26:27.127154Z\", \"duration\": \"0:01:21\", \"iteration\": \"26\", \"goal\": \"AUC_weighted_max\", \"run_name\": \"SparseNormalizer, ExtremeRandomTrees\", \"run_properties\": \"<azureml.automl.runtime.shared.model_wrappers.SparseNormalizer object at 0x7ff5c58d06d8\", \"primary_metric\": 0.5, \"best_metric\": 0.97841825}, {\"run_id\": \"AutoML_88dd3a46-5320-4270-af26-9741d9c3cc7c_27\", \"run_number\": 32, \"metric\": null, \"status\": \"Completed\", \"run_type\": \"azureml.scriptrun\", \"training_percent\": \"100\", \"start_time\": \"2021-04-11T22:27:00.433418Z\", \"end_time\": \"2021-04-11T22:27:50.793118Z\", \"created_time\": \"2021-04-11T22:26:42.417699Z\", \"created_time_dt\": \"2021-04-11T22:26:42.417699Z\", \"duration\": \"0:01:08\", \"iteration\": \"27\", \"goal\": \"AUC_weighted_max\", \"run_name\": \"StandardScalerWrapper, LightGBM\", \"run_properties\": \"<azureml.automl.runtime.shared.model_wrappers.StandardScalerWrapper object at 0x7f23a4dec320\", \"primary_metric\": 0.96478565, \"best_metric\": 0.97841825}, {\"run_id\": \"AutoML_88dd3a46-5320-4270-af26-9741d9c3cc7c_28\", \"run_number\": 33, \"metric\": null, \"status\": \"Completed\", \"run_type\": \"azureml.scriptrun\", \"training_percent\": \"100\", \"start_time\": \"2021-04-11T22:27:08.01632Z\", \"end_time\": \"2021-04-11T22:28:01.57403Z\", \"created_time\": \"2021-04-11T22:26:47.502031Z\", \"created_time_dt\": \"2021-04-11T22:26:47.502031Z\", \"duration\": \"0:01:14\", \"iteration\": \"28\", \"goal\": \"AUC_weighted_max\", \"run_name\": \"StandardScalerWrapper, LightGBM\", \"run_properties\": \"<azureml.automl.runtime.shared.model_wrappers.StandardScalerWrapper object at 0x7f9333559ba8\", \"primary_metric\": 0.9697951, \"best_metric\": 0.97841825}, {\"run_id\": \"AutoML_88dd3a46-5320-4270-af26-9741d9c3cc7c_29\", \"run_number\": 34, \"metric\": null, \"status\": \"Completed\", \"run_type\": \"azureml.scriptrun\", \"training_percent\": \"100\", \"start_time\": \"2021-04-11T22:27:56.348308Z\", \"end_time\": \"2021-04-11T22:28:43.085305Z\", \"created_time\": \"2021-04-11T22:26:57.411909Z\", \"created_time_dt\": \"2021-04-11T22:26:57.411909Z\", \"duration\": \"0:01:45\", \"iteration\": \"29\", \"goal\": \"AUC_weighted_max\", \"run_name\": \"MaxAbsScaler, LightGBM\", \"run_properties\": \"copy=True\", \"primary_metric\": 0.95916968, \"best_metric\": 0.97841825}, {\"run_id\": \"AutoML_88dd3a46-5320-4270-af26-9741d9c3cc7c_30\", \"run_number\": 35, \"metric\": null, \"status\": \"Completed\", \"run_type\": \"azureml.scriptrun\", \"training_percent\": \"100\", \"start_time\": \"2021-04-11T22:28:03.878584Z\", \"end_time\": \"2021-04-11T22:28:56.380589Z\", \"created_time\": \"2021-04-11T22:27:43.686911Z\", \"created_time_dt\": \"2021-04-11T22:27:43.686911Z\", \"duration\": \"0:01:12\", \"iteration\": \"30\", \"goal\": \"AUC_weighted_max\", \"run_name\": \"TruncatedSVDWrapper, RandomForest\", \"run_properties\": \"n_components=0.3068421052631579, random_state=None\", \"primary_metric\": 0.92103393, \"best_metric\": 0.97841825}, {\"run_id\": \"AutoML_88dd3a46-5320-4270-af26-9741d9c3cc7c_31\", \"run_number\": 36, \"metric\": null, \"status\": \"Completed\", \"run_type\": \"azureml.scriptrun\", \"training_percent\": \"100\", \"start_time\": \"2021-04-11T22:28:06.828072Z\", \"end_time\": \"2021-04-11T22:29:13.501017Z\", \"created_time\": \"2021-04-11T22:27:51.324097Z\", \"created_time_dt\": \"2021-04-11T22:27:51.324097Z\", \"duration\": \"0:01:22\", \"iteration\": \"31\", \"goal\": \"AUC_weighted_max\", \"run_name\": \"MinMaxScaler, LightGBM\", \"run_properties\": \"copy=True, feature_range=(0, 1\", \"primary_metric\": 0.97607396, \"best_metric\": 0.97841825}, {\"run_id\": \"AutoML_88dd3a46-5320-4270-af26-9741d9c3cc7c_32\", \"run_number\": 37, \"metric\": null, \"status\": \"Completed\", \"run_type\": \"azureml.scriptrun\", \"training_percent\": \"100\", \"start_time\": \"2021-04-11T22:28:15.412255Z\", \"end_time\": \"2021-04-11T22:29:31.219798Z\", \"created_time\": \"2021-04-11T22:27:55.533358Z\", \"created_time_dt\": \"2021-04-11T22:27:55.533358Z\", \"duration\": \"0:01:35\", \"iteration\": \"32\", \"goal\": \"AUC_weighted_max\", \"run_name\": \"MaxAbsScaler, LightGBM\", \"run_properties\": \"copy=True\", \"primary_metric\": 0.97157557, \"best_metric\": 0.97841825}, {\"run_id\": \"AutoML_88dd3a46-5320-4270-af26-9741d9c3cc7c_33\", \"run_number\": 38, \"metric\": null, \"status\": \"Completed\", \"run_type\": \"azureml.scriptrun\", \"training_percent\": \"100\", \"start_time\": \"2021-04-11T22:29:01.020085Z\", \"end_time\": \"2021-04-11T22:29:56.164723Z\", \"created_time\": \"2021-04-11T22:28:04.26839Z\", \"created_time_dt\": \"2021-04-11T22:28:04.26839Z\", \"duration\": \"0:01:51\", \"iteration\": \"33\", \"goal\": \"AUC_weighted_max\", \"run_name\": \"MaxAbsScaler, LightGBM\", \"run_properties\": \"copy=True\", \"primary_metric\": 0.94959366, \"best_metric\": 0.97841825}, {\"run_id\": \"AutoML_88dd3a46-5320-4270-af26-9741d9c3cc7c_34\", \"run_number\": 39, \"metric\": null, \"status\": \"Canceled\", \"run_type\": \"azureml.scriptrun\", \"training_percent\": \"100\", \"start_time\": \"2021-04-11T22:29:10.371904Z\", \"end_time\": \"2021-04-11T22:30:04.096821Z\", \"created_time\": \"2021-04-11T22:28:46.858129Z\", \"created_time_dt\": \"2021-04-11T22:28:46.858129Z\", \"duration\": \"0:01:17\", \"iteration\": \"34\", \"goal\": \"AUC_weighted_max\", \"run_name\": \"MinMaxScaler, LightGBM\", \"run_properties\": \"copy=True, feature_range=(0, 1\", \"primary_metric\": 0.96594273, \"best_metric\": 0.97841825}, {\"run_id\": \"AutoML_88dd3a46-5320-4270-af26-9741d9c3cc7c_35\", \"run_number\": 40, \"metric\": null, \"status\": \"Canceled\", \"run_type\": \"azureml.scriptrun\", \"training_percent\": \"100\", \"start_time\": \"2021-04-11T22:29:28.870218Z\", \"end_time\": \"2021-04-11T22:30:03.902669Z\", \"created_time\": \"2021-04-11T22:29:00.799606Z\", \"created_time_dt\": \"2021-04-11T22:29:00.799606Z\", \"duration\": \"0:01:03\", \"iteration\": \"35\", \"goal\": \"AUC_weighted_max\", \"run_name\": \"PCA, RandomForest\", \"run_properties\": \"copy=True, iterated_power='auto', n_components=0.05947368421052632,\\n    random_state=None, svd_solver='auto', tol=0.0, whiten=True\", \"primary_metric\": 0.59893566, \"best_metric\": 0.97841825}, {\"run_id\": \"AutoML_88dd3a46-5320-4270-af26-9741d9c3cc7c_36\", \"run_number\": 41, \"metric\": null, \"status\": \"Canceled\", \"run_type\": \"azureml.scriptrun\", \"training_percent\": \"100\", \"start_time\": \"2021-04-11T22:29:47.090777Z\", \"end_time\": \"2021-04-11T22:30:03.385187Z\", \"created_time\": \"2021-04-11T22:29:16.718778Z\", \"created_time_dt\": \"2021-04-11T22:29:16.718778Z\", \"duration\": \"0:00:46\", \"iteration\": \"36\", \"goal\": null, \"run_name\": \"Canceled\", \"run_properties\": null}, {\"run_id\": \"AutoML_88dd3a46-5320-4270-af26-9741d9c3cc7c_37\", \"run_number\": 42, \"metric\": null, \"status\": \"Canceled\", \"run_type\": \"azureml.scriptrun\", \"training_percent\": \"100\", \"start_time\": \"2021-04-11T22:29:35.136903Z\", \"end_time\": \"2021-04-11T22:30:03.268043Z\", \"created_time\": \"2021-04-11T22:29:35.136903Z\", \"created_time_dt\": \"2021-04-11T22:29:35.136903Z\", \"duration\": \"0:00:28\", \"iteration\": \"37\", \"goal\": null, \"run_name\": \"Canceled\", \"run_properties\": null}, {\"run_id\": \"AutoML_88dd3a46-5320-4270-af26-9741d9c3cc7c_38\", \"run_number\": 43, \"metric\": null, \"status\": \"Completed\", \"run_type\": \"azureml.scriptrun\", \"training_percent\": \"100\", \"start_time\": \"2021-04-11T22:30:18.300928Z\", \"end_time\": \"2021-04-11T22:31:30.610304Z\", \"created_time\": \"2021-04-11T22:30:07.626732Z\", \"created_time_dt\": \"2021-04-11T22:30:07.626732Z\", \"duration\": \"0:01:22\", \"iteration\": \"38\", \"goal\": \"AUC_weighted_max\", \"run_name\": \"VotingEnsemble\", \"run_properties\": \"classification_labels=None,\\n                              estimators=[('3',\\n                                           Pipeline(memory=None,\\n                                                    steps=[('minmaxscaler',\\n                                                            MinMaxScaler(copy=True,\\n                                                                         feature_range=(0,\\n                                                                                        1\", \"primary_metric\": 0.98326979, \"best_metric\": 0.98326979}, {\"run_id\": \"AutoML_88dd3a46-5320-4270-af26-9741d9c3cc7c_39\", \"run_number\": 44, \"metric\": null, \"status\": \"Completed\", \"run_type\": \"azureml.scriptrun\", \"training_percent\": \"100\", \"start_time\": \"2021-04-11T22:30:18.205293Z\", \"end_time\": \"2021-04-11T22:33:05.745678Z\", \"created_time\": \"2021-04-11T22:30:07.809932Z\", \"created_time_dt\": \"2021-04-11T22:30:07.809932Z\", \"duration\": \"0:02:57\", \"iteration\": \"39\", \"goal\": \"AUC_weighted_max\", \"run_name\": \"StackEnsemble\", \"run_properties\": \"base_learners=[('3',\\n                                        Pipeline(memory=None,\\n                                                 steps=[('minmaxscaler',\\n                                                         MinMaxScaler(copy=True,\\n                                                                      feature_range=(0,\\n                                                                                     1\", \"primary_metric\": 0.98138631, \"best_metric\": 0.98326979}], \"children_metrics\": {\"categories\": [0], \"series\": {\"norm_macro_recall\": [{\"categories\": [\"0\", \"1\", \"2\", \"3\", \"4\", \"5\", \"6\", \"7\", \"8\", \"9\", \"10\", \"11\", \"12\", \"13\", \"14\", \"15\", \"16\", \"17\", \"18\", \"19\", \"20\", \"21\", \"22\", \"23\", \"24\", \"25\", \"26\", \"27\", \"28\", \"29\", \"30\", \"31\", \"32\", \"33\", \"34\", \"35\", \"38\", \"39\"], \"mode\": \"markers\", \"name\": \"norm_macro_recall\", \"stepped\": false, \"type\": \"scatter\", \"data\": [0.8364533207768194, 0.8741565984863275, 0.82333429995521, 0.8318365050015504, 0.8776034189702893, 0.899093289538663, 0.8893155742882408, 0.8600707165252146, 0.859156253947837, 0.8615565387663224, 0.2531568339209629, 0.8176006052392819, 0.695493292984048, 0.8375960401042803, 0.0, 0.40953854811480017, 0.2564715813168261, 0.0, 0.8978622822229623, 0.868696381197386, 0.010094259988745025, 0.0, 0.019238885762521196, 0.3067232379727356, 0.8720376867685735, 0.0, 0.0, 0.8785092680853996, 0.8771024025817418, 0.8728114627955854, 0.7145656518094012, 0.8562635662030709, 0.8902565950409427, 0.8785882248228498, 0.8977215956725966, 0.19931982359629274, 0.8953916541292939, 0.8956026839548423]}, {\"categories\": [\"0\", \"1\", \"2\", \"3\", \"4\", \"5\", \"6\", \"7\", \"8\", \"9\", \"10\", \"11\", \"12\", \"13\", \"14\", \"15\", \"16\", \"17\", \"18\", \"19\", \"20\", \"21\", \"22\", \"23\", \"24\", \"25\", \"26\", \"27\", \"28\", \"29\", \"30\", \"31\", \"32\", \"33\", \"34\", \"35\", \"38\", \"39\"], \"mode\": \"lines\", \"name\": \"norm_macro_recall_max\", \"stepped\": true, \"type\": \"scatter\", \"data\": [0.8364533207768194, 0.8741565984863275, 0.8741565984863275, 0.8741565984863275, 0.8776034189702893, 0.899093289538663, 0.899093289538663, 0.899093289538663, 0.899093289538663, 0.899093289538663, 0.899093289538663, 0.899093289538663, 0.899093289538663, 0.899093289538663, 0.899093289538663, 0.899093289538663, 0.899093289538663, 0.899093289538663, 0.899093289538663, 0.899093289538663, 0.899093289538663, 0.899093289538663, 0.899093289538663, 0.899093289538663, 0.899093289538663, 0.899093289538663, 0.899093289538663, 0.899093289538663, 0.899093289538663, 0.899093289538663, 0.899093289538663, 0.899093289538663, 0.899093289538663, 0.899093289538663, 0.899093289538663, 0.899093289538663, 0.899093289538663, 0.899093289538663]}], \"balanced_accuracy\": [{\"categories\": [\"0\", \"1\", \"2\", \"3\", \"4\", \"5\", \"6\", \"7\", \"8\", \"9\", \"10\", \"11\", \"12\", \"13\", \"14\", \"15\", \"16\", \"17\", \"18\", \"19\", \"20\", \"21\", \"22\", \"23\", \"24\", \"25\", \"26\", \"27\", \"28\", \"29\", \"30\", \"31\", \"32\", \"33\", \"34\", \"35\", \"38\", \"39\"], \"mode\": \"markers\", \"name\": \"balanced_accuracy\", \"stepped\": false, \"type\": \"scatter\", \"data\": [0.9182266603884097, 0.9370782992431638, 0.911667149977605, 0.9159182525007752, 0.9388017094851446, 0.9495466447693315, 0.9446577871441204, 0.9300353582626073, 0.9295781269739185, 0.9307782693831612, 0.6265784169604814, 0.908800302619641, 0.847746646492024, 0.9187980200521402, 0.5, 0.7047692740574001, 0.6282357906584131, 0.5, 0.9489311411114811, 0.934348190598693, 0.5050471299943725, 0.5, 0.5096194428812606, 0.6533616189863678, 0.9360188433842868, 0.5, 0.5, 0.9392546340426998, 0.9385512012908709, 0.9364057313977927, 0.8572828259047006, 0.9281317831015354, 0.9451282975204713, 0.9392941124114249, 0.9488607978362983, 0.5996599117981464, 0.947695827064647, 0.9478013419774212]}, {\"categories\": [\"0\", \"1\", \"2\", \"3\", \"4\", \"5\", \"6\", \"7\", \"8\", \"9\", \"10\", \"11\", \"12\", \"13\", \"14\", \"15\", \"16\", \"17\", \"18\", \"19\", \"20\", \"21\", \"22\", \"23\", \"24\", \"25\", \"26\", \"27\", \"28\", \"29\", \"30\", \"31\", \"32\", \"33\", \"34\", \"35\", \"38\", \"39\"], \"mode\": \"lines\", \"name\": \"balanced_accuracy_max\", \"stepped\": true, \"type\": \"scatter\", \"data\": [0.9182266603884097, 0.9370782992431638, 0.9370782992431638, 0.9370782992431638, 0.9388017094851446, 0.9495466447693315, 0.9495466447693315, 0.9495466447693315, 0.9495466447693315, 0.9495466447693315, 0.9495466447693315, 0.9495466447693315, 0.9495466447693315, 0.9495466447693315, 0.9495466447693315, 0.9495466447693315, 0.9495466447693315, 0.9495466447693315, 0.9495466447693315, 0.9495466447693315, 0.9495466447693315, 0.9495466447693315, 0.9495466447693315, 0.9495466447693315, 0.9495466447693315, 0.9495466447693315, 0.9495466447693315, 0.9495466447693315, 0.9495466447693315, 0.9495466447693315, 0.9495466447693315, 0.9495466447693315, 0.9495466447693315, 0.9495466447693315, 0.9495466447693315, 0.9495466447693315, 0.9495466447693315, 0.9495466447693315]}], \"AUC_weighted\": [{\"categories\": [\"0\", \"1\", \"2\", \"3\", \"4\", \"5\", \"6\", \"7\", \"8\", \"9\", \"10\", \"11\", \"12\", \"13\", \"14\", \"15\", \"16\", \"17\", \"18\", \"19\", \"20\", \"21\", \"22\", \"23\", \"24\", \"25\", \"26\", \"27\", \"28\", \"29\", \"30\", \"31\", \"32\", \"33\", \"34\", \"35\", \"38\", \"39\"], \"mode\": \"markers\", \"name\": \"AUC_weighted\", \"stepped\": false, \"type\": \"scatter\", \"data\": [0.9251518840513135, 0.9565827667589264, 0.9419344974906114, 0.9784182525007753, 0.9590871309131418, 0.9617038289710934, 0.9721329373054791, 0.9598020482813272, 0.9617802734487154, 0.9521378613347421, 0.9680666653267949, 0.9397201067437607, 0.9624736571612327, 0.9541627427560783, 0.9468976462278779, 0.9671310279880101, 0.96933069091452, 0.9711678706372814, 0.9570364091050038, 0.9640822212396495, 0.9576515538685931, 0.9578507401835245, 0.9748917574908409, 0.9572883528763221, 0.9457746660847792, 0.5, 0.5, 0.9647856539914783, 0.9697951000884316, 0.9591696765932034, 0.9210339312990249, 0.976073955187027, 0.9715755745179333, 0.9495936599175405, 0.9659427290893846, 0.5989356631791716, 0.9832697851228279, 0.98138630804038]}, {\"categories\": [\"0\", \"1\", \"2\", \"3\", \"4\", \"5\", \"6\", \"7\", \"8\", \"9\", \"10\", \"11\", \"12\", \"13\", \"14\", \"15\", \"16\", \"17\", \"18\", \"19\", \"20\", \"21\", \"22\", \"23\", \"24\", \"25\", \"26\", \"27\", \"28\", \"29\", \"30\", \"31\", \"32\", \"33\", \"34\", \"35\", \"38\", \"39\"], \"mode\": \"lines\", \"name\": \"AUC_weighted_max\", \"stepped\": true, \"type\": \"scatter\", \"data\": [0.9251518840513135, 0.9565827667589264, 0.9565827667589264, 0.9784182525007753, 0.9784182525007753, 0.9784182525007753, 0.9784182525007753, 0.9784182525007753, 0.9784182525007753, 0.9784182525007753, 0.9784182525007753, 0.9784182525007753, 0.9784182525007753, 0.9784182525007753, 0.9784182525007753, 0.9784182525007753, 0.9784182525007753, 0.9784182525007753, 0.9784182525007753, 0.9784182525007753, 0.9784182525007753, 0.9784182525007753, 0.9784182525007753, 0.9784182525007753, 0.9784182525007753, 0.9784182525007753, 0.9784182525007753, 0.9784182525007753, 0.9784182525007753, 0.9784182525007753, 0.9784182525007753, 0.9784182525007753, 0.9784182525007753, 0.9784182525007753, 0.9784182525007753, 0.9784182525007753, 0.9832697851228279, 0.9832697851228279]}], \"log_loss\": [{\"categories\": [\"0\", \"1\", \"2\", \"3\", \"4\", \"5\", \"6\", \"7\", \"8\", \"9\", \"10\", \"11\", \"12\", \"13\", \"14\", \"15\", \"16\", \"17\", \"18\", \"19\", \"20\", \"21\", \"22\", \"23\", \"24\", \"25\", \"26\", \"27\", \"28\", \"29\", \"30\", \"31\", \"32\", \"33\", \"34\", \"35\", \"38\", \"39\"], \"mode\": \"markers\", \"name\": \"log_loss\", \"stepped\": false, \"type\": \"scatter\", \"data\": [0.0039053037916055794, 0.17338669225702671, 0.581394142392093, 0.2680415730192368, 0.2015648808377226, 0.12023033824015589, 0.23435951119500592, 0.40255985536270855, 0.4633845029324536, 0.3508684860540084, 1.1452345019994106, 2.2543661205594048, 0.6452333361534275, 0.25724726892536265, 5.924411295020754, 1.1432720170329045, 1.5733970412111609, 2.0050353411916904, 0.13494536135336244, 0.35148902525709164, 2.5119129226641754, 4.4155436390493215, 2.2246145780141404, 1.496134070146863, 0.1866065285617347, 6.3456955677110605, 0.6965766606740738, 0.2946391009413141, 0.09016233178903585, 0.20470614841775556, 0.41267063941422744, 0.004525990946102138, 0.03018238789181306, 0.30427589388428583, 0.07880976949330748, 0.678555756244336, 0.2911348699063982, 0.33871690571481533]}, {\"categories\": [\"0\", \"1\", \"2\", \"3\", \"4\", \"5\", \"6\", \"7\", \"8\", \"9\", \"10\", \"11\", \"12\", \"13\", \"14\", \"15\", \"16\", \"17\", \"18\", \"19\", \"20\", \"21\", \"22\", \"23\", \"24\", \"25\", \"26\", \"27\", \"28\", \"29\", \"30\", \"31\", \"32\", \"33\", \"34\", \"35\", \"38\", \"39\"], \"mode\": \"lines\", \"name\": \"log_loss_min\", \"stepped\": true, \"type\": \"scatter\", \"data\": [0.0039053037916055794, 0.0039053037916055794, 0.0039053037916055794, 0.0039053037916055794, 0.0039053037916055794, 0.0039053037916055794, 0.0039053037916055794, 0.0039053037916055794, 0.0039053037916055794, 0.0039053037916055794, 0.0039053037916055794, 0.0039053037916055794, 0.0039053037916055794, 0.0039053037916055794, 0.0039053037916055794, 0.0039053037916055794, 0.0039053037916055794, 0.0039053037916055794, 0.0039053037916055794, 0.0039053037916055794, 0.0039053037916055794, 0.0039053037916055794, 0.0039053037916055794, 0.0039053037916055794, 0.0039053037916055794, 0.0039053037916055794, 0.0039053037916055794, 0.0039053037916055794, 0.0039053037916055794, 0.0039053037916055794, 0.0039053037916055794, 0.0039053037916055794, 0.0039053037916055794, 0.0039053037916055794, 0.0039053037916055794, 0.0039053037916055794, 0.0039053037916055794, 0.0039053037916055794]}], \"f1_score_micro\": [{\"categories\": [\"0\", \"1\", \"2\", \"3\", \"4\", \"5\", \"6\", \"7\", \"8\", \"9\", \"10\", \"11\", \"12\", \"13\", \"14\", \"15\", \"16\", \"17\", \"18\", \"19\", \"20\", \"21\", \"22\", \"23\", \"24\", \"25\", \"26\", \"27\", \"28\", \"29\", \"30\", \"31\", \"32\", \"33\", \"34\", \"35\", \"38\", \"39\"], \"mode\": \"markers\", \"name\": \"f1_score_micro\", \"stepped\": false, \"type\": \"scatter\", \"data\": [0.9994382219725431, 0.9557248692110529, 0.9863417717074541, 0.9338155261402339, 0.9591657596292265, 0.980618658052737, 0.9708577648256732, 0.9823391032618237, 0.9814262139672062, 0.9634844282153013, 0.2747796776798567, 0.8992661774516344, 0.7570310031248902, 0.9599030932902637, 0.0017204452090867595, 0.41055440469084653, 0.25775078122256945, 0.0017204452090867595, 0.9793897686176749, 0.9706119869386609, 0.011797338576594922, 0.0017204452090867595, 0.020926231522769567, 0.3282539236684105, 0.9739475439766863, 0.0017204452090867595, 0.0017204452090867595, 0.9804079912924406, 0.9790035462237984, 0.9747199887644394, 0.8370843720374986, 0.9988764439450862, 0.9921351076156034, 0.9601488711772761, 0.9792493241108107, 0.4447526421122854, 0.9972613321161476, 0.997471998876444]}, {\"categories\": [\"0\", \"1\", \"2\", \"3\", \"4\", \"5\", \"6\", \"7\", \"8\", \"9\", \"10\", \"11\", \"12\", \"13\", \"14\", \"15\", \"16\", \"17\", \"18\", \"19\", \"20\", \"21\", \"22\", \"23\", \"24\", \"25\", \"26\", \"27\", \"28\", \"29\", \"30\", \"31\", \"32\", \"33\", \"34\", \"35\", \"38\", \"39\"], \"mode\": \"lines\", \"name\": \"f1_score_micro_max\", \"stepped\": true, \"type\": \"scatter\", \"data\": [0.9994382219725431, 0.9994382219725431, 0.9994382219725431, 0.9994382219725431, 0.9994382219725431, 0.9994382219725431, 0.9994382219725431, 0.9994382219725431, 0.9994382219725431, 0.9994382219725431, 0.9994382219725431, 0.9994382219725431, 0.9994382219725431, 0.9994382219725431, 0.9994382219725431, 0.9994382219725431, 0.9994382219725431, 0.9994382219725431, 0.9994382219725431, 0.9994382219725431, 0.9994382219725431, 0.9994382219725431, 0.9994382219725431, 0.9994382219725431, 0.9994382219725431, 0.9994382219725431, 0.9994382219725431, 0.9994382219725431, 0.9994382219725431, 0.9994382219725431, 0.9994382219725431, 0.9994382219725431, 0.9994382219725431, 0.9994382219725431, 0.9994382219725431, 0.9994382219725431, 0.9994382219725431, 0.9994382219725431]}], \"weighted_accuracy\": [{\"categories\": [\"0\", \"1\", \"2\", \"3\", \"4\", \"5\", \"6\", \"7\", \"8\", \"9\", \"10\", \"11\", \"12\", \"13\", \"14\", \"15\", \"16\", \"17\", \"18\", \"19\", \"20\", \"21\", \"22\", \"23\", \"24\", \"25\", \"26\", \"27\", \"28\", \"29\", \"30\", \"31\", \"32\", \"33\", \"34\", \"35\", \"38\", \"39\"], \"mode\": \"markers\", \"name\": \"weighted_accuracy\", \"stepped\": false, \"type\": \"scatter\", \"data\": [0.999718142815141, 0.9557891403994793, 0.9865991609587816, 0.9338772146463976, 0.959235950645922, 0.9807257573864997, 0.9709480711772026, 0.9825193843460143, 0.9816049244847131, 0.9635971601386858, 0.27356709418061853, 0.8992333151313143, 0.7567183235158197, 0.9600447746778815, 2.9701340404421287e-06, 0.40954030186445795, 0.2564737896958924, 2.9701340404421287e-06, 0.979494753727056, 0.9707369813634603, 0.010097200141480312, 2.9701340404421287e-06, 0.01924179875449204, 0.3271333391329911, 0.9740782770105223, 2.9701340404421287e-06, 2.9701340404421287e-06, 0.9805498391058844, 0.9791429777808057, 0.9748520507393156, 0.8370147517997469, 0.9991202873669628, 0.9922971311702918, 0.9602207535734772, 0.979354067594548, 0.44421870614788356, 0.9974321750068291, 0.997643204205591]}, {\"categories\": [\"0\", \"1\", \"2\", \"3\", \"4\", \"5\", \"6\", \"7\", \"8\", \"9\", \"10\", \"11\", \"12\", \"13\", \"14\", \"15\", \"16\", \"17\", \"18\", \"19\", \"20\", \"21\", \"22\", \"23\", \"24\", \"25\", \"26\", \"27\", \"28\", \"29\", \"30\", \"31\", \"32\", \"33\", \"34\", \"35\", \"38\", \"39\"], \"mode\": \"lines\", \"name\": \"weighted_accuracy_max\", \"stepped\": true, \"type\": \"scatter\", \"data\": [0.999718142815141, 0.999718142815141, 0.999718142815141, 0.999718142815141, 0.999718142815141, 0.999718142815141, 0.999718142815141, 0.999718142815141, 0.999718142815141, 0.999718142815141, 0.999718142815141, 0.999718142815141, 0.999718142815141, 0.999718142815141, 0.999718142815141, 0.999718142815141, 0.999718142815141, 0.999718142815141, 0.999718142815141, 0.999718142815141, 0.999718142815141, 0.999718142815141, 0.999718142815141, 0.999718142815141, 0.999718142815141, 0.999718142815141, 0.999718142815141, 0.999718142815141, 0.999718142815141, 0.999718142815141, 0.999718142815141, 0.999718142815141, 0.999718142815141, 0.999718142815141, 0.999718142815141, 0.999718142815141, 0.999718142815141, 0.999718142815141]}], \"recall_score_weighted\": [{\"categories\": [\"0\", \"1\", \"2\", \"3\", \"4\", \"5\", \"6\", \"7\", \"8\", \"9\", \"10\", \"11\", \"12\", \"13\", \"14\", \"15\", \"16\", \"17\", \"18\", \"19\", \"20\", \"21\", \"22\", \"23\", \"24\", \"25\", \"26\", \"27\", \"28\", \"29\", \"30\", \"31\", \"32\", \"33\", \"34\", \"35\", \"38\", \"39\"], \"mode\": \"markers\", \"name\": \"recall_score_weighted\", \"stepped\": false, \"type\": \"scatter\", \"data\": [0.9994382219725431, 0.9557248692110529, 0.9863417717074541, 0.9338155261402339, 0.9591657596292265, 0.980618658052737, 0.9708577648256732, 0.9823391032618237, 0.9814262139672062, 0.9634844282153014, 0.2747796776798567, 0.8992661774516344, 0.7570310031248902, 0.9599030932902637, 0.0017204452090867595, 0.41055440469084653, 0.25775078122256945, 0.0017204452090867595, 0.9793897686176749, 0.9706119869386609, 0.011797338576594922, 0.0017204452090867595, 0.020926231522769567, 0.3282539236684105, 0.9739475439766863, 0.0017204452090867595, 0.0017204452090867595, 0.9804079912924406, 0.9790035462237984, 0.9747199887644394, 0.8370843720374986, 0.9988764439450862, 0.9921351076156034, 0.9601488711772761, 0.9792493241108107, 0.4447526421122854, 0.9972613321161476, 0.997471998876444]}, {\"categories\": [\"0\", \"1\", \"2\", \"3\", \"4\", \"5\", \"6\", \"7\", \"8\", \"9\", \"10\", \"11\", \"12\", \"13\", \"14\", \"15\", \"16\", \"17\", \"18\", \"19\", \"20\", \"21\", \"22\", \"23\", \"24\", \"25\", \"26\", \"27\", \"28\", \"29\", \"30\", \"31\", \"32\", \"33\", \"34\", \"35\", \"38\", \"39\"], \"mode\": \"lines\", \"name\": \"recall_score_weighted_max\", \"stepped\": true, \"type\": \"scatter\", \"data\": [0.9994382219725431, 0.9994382219725431, 0.9994382219725431, 0.9994382219725431, 0.9994382219725431, 0.9994382219725431, 0.9994382219725431, 0.9994382219725431, 0.9994382219725431, 0.9994382219725431, 0.9994382219725431, 0.9994382219725431, 0.9994382219725431, 0.9994382219725431, 0.9994382219725431, 0.9994382219725431, 0.9994382219725431, 0.9994382219725431, 0.9994382219725431, 0.9994382219725431, 0.9994382219725431, 0.9994382219725431, 0.9994382219725431, 0.9994382219725431, 0.9994382219725431, 0.9994382219725431, 0.9994382219725431, 0.9994382219725431, 0.9994382219725431, 0.9994382219725431, 0.9994382219725431, 0.9994382219725431, 0.9994382219725431, 0.9994382219725431, 0.9994382219725431, 0.9994382219725431, 0.9994382219725431, 0.9994382219725431]}], \"f1_score_weighted\": [{\"categories\": [\"0\", \"1\", \"2\", \"3\", \"4\", \"5\", \"6\", \"7\", \"8\", \"9\", \"10\", \"11\", \"12\", \"13\", \"14\", \"15\", \"16\", \"17\", \"18\", \"19\", \"20\", \"21\", \"22\", \"23\", \"24\", \"25\", \"26\", \"27\", \"28\", \"29\", \"30\", \"31\", \"32\", \"33\", \"34\", \"35\", \"38\", \"39\"], \"mode\": \"markers\", \"name\": \"f1_score_weighted\", \"stepped\": false, \"type\": \"scatter\", \"data\": [0.9994382219725431, 0.9757578079917038, 0.9917048747145198, 0.964135683264918, 0.9775627073130302, 0.9887364646531932, 0.9836630187282541, 0.9896233971259741, 0.9891480344307924, 0.979819176775904, 0.42886208520417285, 0.9452966066949081, 0.8600019370865349, 0.9779451087135315, 5.909696126551085e-06, 0.5801061588861689, 0.4075465410297294, 5.909696126551085e-06, 0.9880971460898655, 0.9835323673380669, 0.019958351951013566, 5.909696126551085e-06, 0.037692551077928245, 0.49213760539401447, 0.9852658644291324, 5.909696126551085e-06, 5.909696126551085e-06, 0.9886225914847393, 0.9878923356500372, 0.9856671066785593, 0.9096360567007518, 0.9989634385134355, 0.9948175072390942, 0.9780774962883654, 0.9880241130770129, 0.6139375440957492, 0.9978206246334519, 0.9979604194237898]}, {\"categories\": [\"0\", \"1\", \"2\", \"3\", \"4\", \"5\", \"6\", \"7\", \"8\", \"9\", \"10\", \"11\", \"12\", \"13\", \"14\", \"15\", \"16\", \"17\", \"18\", \"19\", \"20\", \"21\", \"22\", \"23\", \"24\", \"25\", \"26\", \"27\", \"28\", \"29\", \"30\", \"31\", \"32\", \"33\", \"34\", \"35\", \"38\", \"39\"], \"mode\": \"lines\", \"name\": \"f1_score_weighted_max\", \"stepped\": true, \"type\": \"scatter\", \"data\": [0.9994382219725431, 0.9994382219725431, 0.9994382219725431, 0.9994382219725431, 0.9994382219725431, 0.9994382219725431, 0.9994382219725431, 0.9994382219725431, 0.9994382219725431, 0.9994382219725431, 0.9994382219725431, 0.9994382219725431, 0.9994382219725431, 0.9994382219725431, 0.9994382219725431, 0.9994382219725431, 0.9994382219725431, 0.9994382219725431, 0.9994382219725431, 0.9994382219725431, 0.9994382219725431, 0.9994382219725431, 0.9994382219725431, 0.9994382219725431, 0.9994382219725431, 0.9994382219725431, 0.9994382219725431, 0.9994382219725431, 0.9994382219725431, 0.9994382219725431, 0.9994382219725431, 0.9994382219725431, 0.9994382219725431, 0.9994382219725431, 0.9994382219725431, 0.9994382219725431, 0.9994382219725431, 0.9994382219725431]}], \"precision_score_macro\": [{\"categories\": [\"0\", \"1\", \"2\", \"3\", \"4\", \"5\", \"6\", \"7\", \"8\", \"9\", \"10\", \"11\", \"12\", \"13\", \"14\", \"15\", \"16\", \"17\", \"18\", \"19\", \"20\", \"21\", \"22\", \"23\", \"24\", \"25\", \"26\", \"27\", \"28\", \"29\", \"30\", \"31\", \"32\", \"33\", \"34\", \"35\", \"38\", \"39\"], \"mode\": \"markers\", \"name\": \"precision_score_macro\", \"stepped\": false, \"type\": \"scatter\", \"data\": [0.9182266603884097, 0.5172075197661247, 0.5484356422967245, 0.5113403742955274, 0.5186143857949519, 0.5378709489850513, 0.5257599390560085, 0.5397074457156416, 0.5378783966217486, 0.5202980150884314, 0.5010950326655612, 0.5076537451615413, 0.503233464838518, 0.518125910985031, 0.0008602226045433798, 0.5014551285858526, 0.5011562603237529, 0.0008602226045433798, 0.535756219927138, 0.5250235919473922, 0.5008689792154359, 0.0008602226045433798, 0.5008770673730937, 0.5011976168031829, 0.5280787613769258, 0.0008602226045433798, 0.0008602226045433798, 0.5367612641219774, 0.5344471057294543, 0.5288953261627609, 0.5044709346269425, 0.8133096571061774, 0.5835615941823936, 0.5190594064031032, 0.5355294499586605, 0.500693394582464, 0.6879460481385457, 0.6981100769433515]}, {\"categories\": [\"0\", \"1\", \"2\", \"3\", \"4\", \"5\", \"6\", \"7\", \"8\", \"9\", \"10\", \"11\", \"12\", \"13\", \"14\", \"15\", \"16\", \"17\", \"18\", \"19\", \"20\", \"21\", \"22\", \"23\", \"24\", \"25\", \"26\", \"27\", \"28\", \"29\", \"30\", \"31\", \"32\", \"33\", \"34\", \"35\", \"38\", \"39\"], \"mode\": \"lines\", \"name\": \"precision_score_macro_max\", \"stepped\": true, \"type\": \"scatter\", \"data\": [0.9182266603884097, 0.9182266603884097, 0.9182266603884097, 0.9182266603884097, 0.9182266603884097, 0.9182266603884097, 0.9182266603884097, 0.9182266603884097, 0.9182266603884097, 0.9182266603884097, 0.9182266603884097, 0.9182266603884097, 0.9182266603884097, 0.9182266603884097, 0.9182266603884097, 0.9182266603884097, 0.9182266603884097, 0.9182266603884097, 0.9182266603884097, 0.9182266603884097, 0.9182266603884097, 0.9182266603884097, 0.9182266603884097, 0.9182266603884097, 0.9182266603884097, 0.9182266603884097, 0.9182266603884097, 0.9182266603884097, 0.9182266603884097, 0.9182266603884097, 0.9182266603884097, 0.9182266603884097, 0.9182266603884097, 0.9182266603884097, 0.9182266603884097, 0.9182266603884097, 0.9182266603884097, 0.9182266603884097]}], \"AUC_macro\": [{\"categories\": [\"0\", \"1\", \"2\", \"3\", \"4\", \"5\", \"6\", \"7\", \"8\", \"9\", \"10\", \"11\", \"12\", \"13\", \"14\", \"15\", \"16\", \"17\", \"18\", \"19\", \"20\", \"21\", \"22\", \"23\", \"24\", \"25\", \"26\", \"27\", \"28\", \"29\", \"30\", \"31\", \"32\", \"33\", \"34\", \"35\", \"38\", \"39\"], \"mode\": \"markers\", \"name\": \"AUC_macro\", \"stepped\": false, \"type\": \"scatter\", \"data\": [0.9251518840513133, 0.9565827667589264, 0.9419344974906113, 0.9784182525007752, 0.9590871309131419, 0.9617038289710933, 0.9721329373054792, 0.9598020482813272, 0.9617802734487154, 0.9521378613347422, 0.9680666653267949, 0.9385729143936696, 0.9624736571612327, 0.9541627427560784, 0.9468976462278778, 0.9671310279880101, 0.96933069091452, 0.9711678706372814, 0.9570364091050039, 0.9640822212396494, 0.957651553868593, 0.9578507401835243, 0.974891757490841, 0.9572883528763221, 0.9457746660847794, 0.5, 0.5, 0.9647856539914783, 0.9697951000884315, 0.9591696765932034, 0.921033931299025, 0.976073955187027, 0.9715755745179333, 0.9495936599175405, 0.9659427290893847, 0.5989356631791715, 0.9832697851228279, 0.98138630804038]}, {\"categories\": [\"0\", \"1\", \"2\", \"3\", \"4\", \"5\", \"6\", \"7\", \"8\", \"9\", \"10\", \"11\", \"12\", \"13\", \"14\", \"15\", \"16\", \"17\", \"18\", \"19\", \"20\", \"21\", \"22\", \"23\", \"24\", \"25\", \"26\", \"27\", \"28\", \"29\", \"30\", \"31\", \"32\", \"33\", \"34\", \"35\", \"38\", \"39\"], \"mode\": \"lines\", \"name\": \"AUC_macro_max\", \"stepped\": true, \"type\": \"scatter\", \"data\": [0.9251518840513133, 0.9565827667589264, 0.9565827667589264, 0.9784182525007752, 0.9784182525007752, 0.9784182525007752, 0.9784182525007752, 0.9784182525007752, 0.9784182525007752, 0.9784182525007752, 0.9784182525007752, 0.9784182525007752, 0.9784182525007752, 0.9784182525007752, 0.9784182525007752, 0.9784182525007752, 0.9784182525007752, 0.9784182525007752, 0.9784182525007752, 0.9784182525007752, 0.9784182525007752, 0.9784182525007752, 0.9784182525007752, 0.9784182525007752, 0.9784182525007752, 0.9784182525007752, 0.9784182525007752, 0.9784182525007752, 0.9784182525007752, 0.9784182525007752, 0.9784182525007752, 0.9784182525007752, 0.9784182525007752, 0.9784182525007752, 0.9784182525007752, 0.9784182525007752, 0.9832697851228279, 0.9832697851228279]}], \"recall_score_macro\": [{\"categories\": [\"0\", \"1\", \"2\", \"3\", \"4\", \"5\", \"6\", \"7\", \"8\", \"9\", \"10\", \"11\", \"12\", \"13\", \"14\", \"15\", \"16\", \"17\", \"18\", \"19\", \"20\", \"21\", \"22\", \"23\", \"24\", \"25\", \"26\", \"27\", \"28\", \"29\", \"30\", \"31\", \"32\", \"33\", \"34\", \"35\", \"38\", \"39\"], \"mode\": \"markers\", \"name\": \"recall_score_macro\", \"stepped\": false, \"type\": \"scatter\", \"data\": [0.9182266603884097, 0.9370782992431638, 0.911667149977605, 0.9159182525007752, 0.9388017094851446, 0.9495466447693315, 0.9446577871441204, 0.9300353582626073, 0.9295781269739185, 0.9307782693831612, 0.6265784169604814, 0.908800302619641, 0.847746646492024, 0.9187980200521402, 0.5, 0.7047692740574001, 0.6282357906584131, 0.5, 0.9489311411114811, 0.934348190598693, 0.5050471299943725, 0.5, 0.5096194428812606, 0.6533616189863678, 0.9360188433842868, 0.5, 0.5, 0.9392546340426998, 0.9385512012908709, 0.9364057313977927, 0.8572828259047006, 0.9281317831015354, 0.9451282975204713, 0.9392941124114249, 0.9488607978362983, 0.5996599117981464, 0.947695827064647, 0.9478013419774212]}, {\"categories\": [\"0\", \"1\", \"2\", \"3\", \"4\", \"5\", \"6\", \"7\", \"8\", \"9\", \"10\", \"11\", \"12\", \"13\", \"14\", \"15\", \"16\", \"17\", \"18\", \"19\", \"20\", \"21\", \"22\", \"23\", \"24\", \"25\", \"26\", \"27\", \"28\", \"29\", \"30\", \"31\", \"32\", \"33\", \"34\", \"35\", \"38\", \"39\"], \"mode\": \"lines\", \"name\": \"recall_score_macro_max\", \"stepped\": true, \"type\": \"scatter\", \"data\": [0.9182266603884097, 0.9370782992431638, 0.9370782992431638, 0.9370782992431638, 0.9388017094851446, 0.9495466447693315, 0.9495466447693315, 0.9495466447693315, 0.9495466447693315, 0.9495466447693315, 0.9495466447693315, 0.9495466447693315, 0.9495466447693315, 0.9495466447693315, 0.9495466447693315, 0.9495466447693315, 0.9495466447693315, 0.9495466447693315, 0.9495466447693315, 0.9495466447693315, 0.9495466447693315, 0.9495466447693315, 0.9495466447693315, 0.9495466447693315, 0.9495466447693315, 0.9495466447693315, 0.9495466447693315, 0.9495466447693315, 0.9495466447693315, 0.9495466447693315, 0.9495466447693315, 0.9495466447693315, 0.9495466447693315, 0.9495466447693315, 0.9495466447693315, 0.9495466447693315, 0.9495466447693315, 0.9495466447693315]}], \"recall_score_micro\": [{\"categories\": [\"0\", \"1\", \"2\", \"3\", \"4\", \"5\", \"6\", \"7\", \"8\", \"9\", \"10\", \"11\", \"12\", \"13\", \"14\", \"15\", \"16\", \"17\", \"18\", \"19\", \"20\", \"21\", \"22\", \"23\", \"24\", \"25\", \"26\", \"27\", \"28\", \"29\", \"30\", \"31\", \"32\", \"33\", \"34\", \"35\", \"38\", \"39\"], \"mode\": \"markers\", \"name\": \"recall_score_micro\", \"stepped\": false, \"type\": \"scatter\", \"data\": [0.9994382219725431, 0.9557248692110529, 0.9863417717074541, 0.9338155261402339, 0.9591657596292265, 0.980618658052737, 0.9708577648256732, 0.9823391032618237, 0.9814262139672062, 0.9634844282153014, 0.2747796776798567, 0.8992661774516344, 0.7570310031248902, 0.9599030932902637, 0.0017204452090867595, 0.41055440469084653, 0.25775078122256945, 0.0017204452090867595, 0.9793897686176749, 0.9706119869386609, 0.011797338576594922, 0.0017204452090867595, 0.020926231522769567, 0.3282539236684105, 0.9739475439766863, 0.0017204452090867595, 0.0017204452090867595, 0.9804079912924406, 0.9790035462237984, 0.9747199887644394, 0.8370843720374986, 0.9988764439450862, 0.9921351076156034, 0.9601488711772761, 0.9792493241108107, 0.4447526421122854, 0.9972613321161476, 0.997471998876444]}, {\"categories\": [\"0\", \"1\", \"2\", \"3\", \"4\", \"5\", \"6\", \"7\", \"8\", \"9\", \"10\", \"11\", \"12\", \"13\", \"14\", \"15\", \"16\", \"17\", \"18\", \"19\", \"20\", \"21\", \"22\", \"23\", \"24\", \"25\", \"26\", \"27\", \"28\", \"29\", \"30\", \"31\", \"32\", \"33\", \"34\", \"35\", \"38\", \"39\"], \"mode\": \"lines\", \"name\": \"recall_score_micro_max\", \"stepped\": true, \"type\": \"scatter\", \"data\": [0.9994382219725431, 0.9994382219725431, 0.9994382219725431, 0.9994382219725431, 0.9994382219725431, 0.9994382219725431, 0.9994382219725431, 0.9994382219725431, 0.9994382219725431, 0.9994382219725431, 0.9994382219725431, 0.9994382219725431, 0.9994382219725431, 0.9994382219725431, 0.9994382219725431, 0.9994382219725431, 0.9994382219725431, 0.9994382219725431, 0.9994382219725431, 0.9994382219725431, 0.9994382219725431, 0.9994382219725431, 0.9994382219725431, 0.9994382219725431, 0.9994382219725431, 0.9994382219725431, 0.9994382219725431, 0.9994382219725431, 0.9994382219725431, 0.9994382219725431, 0.9994382219725431, 0.9994382219725431, 0.9994382219725431, 0.9994382219725431, 0.9994382219725431, 0.9994382219725431, 0.9994382219725431, 0.9994382219725431]}], \"average_precision_score_macro\": [{\"categories\": [\"0\", \"1\", \"2\", \"3\", \"4\", \"5\", \"6\", \"7\", \"8\", \"9\", \"10\", \"11\", \"12\", \"13\", \"14\", \"15\", \"16\", \"17\", \"18\", \"19\", \"20\", \"21\", \"22\", \"23\", \"24\", \"25\", \"26\", \"27\", \"28\", \"29\", \"30\", \"31\", \"32\", \"33\", \"34\", \"35\", \"38\", \"39\"], \"mode\": \"markers\", \"name\": \"average_precision_score_macro\", \"stepped\": false, \"type\": \"scatter\", \"data\": [0.9230587466456577, 0.8443838801435943, 0.8420331845756672, 0.8263519067296468, 0.8486795545568153, 0.8353437980665193, 0.851615104306688, 0.8247469934171647, 0.8251450536142324, 0.8558841435247531, 0.831624599815271, 0.5179452937151865, 0.8457597514178303, 0.8201170403745947, 0.7708454597565708, 0.8563913019492952, 0.8153343339987595, 0.8047866392417254, 0.857336208827464, 0.8287965963680668, 0.8500661312318725, 0.7894490144310877, 0.8103922853330315, 0.6115415585396057, 0.8179086763211573, 0.5, 0.5, 0.8564462383013891, 0.839436737820064, 0.8218462188395763, 0.6050675563261501, 0.9291186120338597, 0.906356326390146, 0.6783803481312212, 0.8475330315028788, 0.500432490441131, 0.923689063757553, 0.9308451904443061]}, {\"categories\": [\"0\", \"1\", \"2\", \"3\", \"4\", \"5\", \"6\", \"7\", \"8\", \"9\", \"10\", \"11\", \"12\", \"13\", \"14\", \"15\", \"16\", \"17\", \"18\", \"19\", \"20\", \"21\", \"22\", \"23\", \"24\", \"25\", \"26\", \"27\", \"28\", \"29\", \"30\", \"31\", \"32\", \"33\", \"34\", \"35\", \"38\", \"39\"], \"mode\": \"lines\", \"name\": \"average_precision_score_macro_max\", \"stepped\": true, \"type\": \"scatter\", \"data\": [0.9230587466456577, 0.9230587466456577, 0.9230587466456577, 0.9230587466456577, 0.9230587466456577, 0.9230587466456577, 0.9230587466456577, 0.9230587466456577, 0.9230587466456577, 0.9230587466456577, 0.9230587466456577, 0.9230587466456577, 0.9230587466456577, 0.9230587466456577, 0.9230587466456577, 0.9230587466456577, 0.9230587466456577, 0.9230587466456577, 0.9230587466456577, 0.9230587466456577, 0.9230587466456577, 0.9230587466456577, 0.9230587466456577, 0.9230587466456577, 0.9230587466456577, 0.9230587466456577, 0.9230587466456577, 0.9230587466456577, 0.9230587466456577, 0.9230587466456577, 0.9230587466456577, 0.9291186120338597, 0.9291186120338597, 0.9291186120338597, 0.9291186120338597, 0.9291186120338597, 0.9291186120338597, 0.9308451904443061]}], \"average_precision_score_weighted\": [{\"categories\": [\"0\", \"1\", \"2\", \"3\", \"4\", \"5\", \"6\", \"7\", \"8\", \"9\", \"10\", \"11\", \"12\", \"13\", \"14\", \"15\", \"16\", \"17\", \"18\", \"19\", \"20\", \"21\", \"22\", \"23\", \"24\", \"25\", \"26\", \"27\", \"28\", \"29\", \"30\", \"31\", \"32\", \"33\", \"34\", \"35\", \"38\", \"39\"], \"mode\": \"markers\", \"name\": \"average_precision_score_weighted\", \"stepped\": false, \"type\": \"scatter\", \"data\": [0.9991205202051671, 0.9993396979179402, 0.9992936355385269, 0.9993587780883517, 0.9993816521423248, 0.9993341890542456, 0.9994188773262876, 0.9992674967338182, 0.9993099019542158, 0.9993764385361803, 0.9993336280834638, 0.9981380045808426, 0.9993470125554844, 0.9992464903687291, 0.9990839924768782, 0.9994335054364853, 0.9992848744967398, 0.9992633931611345, 0.9993962435043654, 0.9993088672863163, 0.9993779490624555, 0.9991683812775536, 0.9992859356283357, 0.9985460143443616, 0.999216985471625, 0.9965650294452614, 0.9965650294452614, 0.9994177345808598, 0.9993797177924485, 0.999279209557354, 0.998378515203298, 0.999705146062144, 0.9996135156400594, 0.9987168313563491, 0.9993959150419487, 0.9969713207922586, 0.9997044252592046, 0.9997223909980637]}, {\"categories\": [\"0\", \"1\", \"2\", \"3\", \"4\", \"5\", \"6\", \"7\", \"8\", \"9\", \"10\", \"11\", \"12\", \"13\", \"14\", \"15\", \"16\", \"17\", \"18\", \"19\", \"20\", \"21\", \"22\", \"23\", \"24\", \"25\", \"26\", \"27\", \"28\", \"29\", \"30\", \"31\", \"32\", \"33\", \"34\", \"35\", \"38\", \"39\"], \"mode\": \"lines\", \"name\": \"average_precision_score_weighted_max\", \"stepped\": true, \"type\": \"scatter\", \"data\": [0.9991205202051671, 0.9993396979179402, 0.9993396979179402, 0.9993587780883517, 0.9993816521423248, 0.9993816521423248, 0.9994188773262876, 0.9994188773262876, 0.9994188773262876, 0.9994188773262876, 0.9994188773262876, 0.9994188773262876, 0.9994188773262876, 0.9994188773262876, 0.9994188773262876, 0.9994335054364853, 0.9994335054364853, 0.9994335054364853, 0.9994335054364853, 0.9994335054364853, 0.9994335054364853, 0.9994335054364853, 0.9994335054364853, 0.9994335054364853, 0.9994335054364853, 0.9994335054364853, 0.9994335054364853, 0.9994335054364853, 0.9994335054364853, 0.9994335054364853, 0.9994335054364853, 0.999705146062144, 0.999705146062144, 0.999705146062144, 0.999705146062144, 0.999705146062144, 0.999705146062144, 0.9997223909980637]}], \"precision_score_micro\": [{\"categories\": [\"0\", \"1\", \"2\", \"3\", \"4\", \"5\", \"6\", \"7\", \"8\", \"9\", \"10\", \"11\", \"12\", \"13\", \"14\", \"15\", \"16\", \"17\", \"18\", \"19\", \"20\", \"21\", \"22\", \"23\", \"24\", \"25\", \"26\", \"27\", \"28\", \"29\", \"30\", \"31\", \"32\", \"33\", \"34\", \"35\", \"38\", \"39\"], \"mode\": \"markers\", \"name\": \"precision_score_micro\", \"stepped\": false, \"type\": \"scatter\", \"data\": [0.9994382219725431, 0.9557248692110529, 0.9863417717074541, 0.9338155261402339, 0.9591657596292265, 0.980618658052737, 0.9708577648256732, 0.9823391032618237, 0.9814262139672062, 0.9634844282153014, 0.2747796776798567, 0.8992661774516344, 0.7570310031248902, 0.9599030932902637, 0.0017204452090867595, 0.41055440469084653, 0.25775078122256945, 0.0017204452090867595, 0.9793897686176749, 0.9706119869386609, 0.011797338576594922, 0.0017204452090867595, 0.020926231522769567, 0.3282539236684105, 0.9739475439766863, 0.0017204452090867595, 0.0017204452090867595, 0.9804079912924406, 0.9790035462237984, 0.9747199887644394, 0.8370843720374986, 0.9988764439450862, 0.9921351076156034, 0.9601488711772761, 0.9792493241108107, 0.4447526421122854, 0.9972613321161476, 0.997471998876444]}, {\"categories\": [\"0\", \"1\", \"2\", \"3\", \"4\", \"5\", \"6\", \"7\", \"8\", \"9\", \"10\", \"11\", \"12\", \"13\", \"14\", \"15\", \"16\", \"17\", \"18\", \"19\", \"20\", \"21\", \"22\", \"23\", \"24\", \"25\", \"26\", \"27\", \"28\", \"29\", \"30\", \"31\", \"32\", \"33\", \"34\", \"35\", \"38\", \"39\"], \"mode\": \"lines\", \"name\": \"precision_score_micro_max\", \"stepped\": true, \"type\": \"scatter\", \"data\": [0.9994382219725431, 0.9994382219725431, 0.9994382219725431, 0.9994382219725431, 0.9994382219725431, 0.9994382219725431, 0.9994382219725431, 0.9994382219725431, 0.9994382219725431, 0.9994382219725431, 0.9994382219725431, 0.9994382219725431, 0.9994382219725431, 0.9994382219725431, 0.9994382219725431, 0.9994382219725431, 0.9994382219725431, 0.9994382219725431, 0.9994382219725431, 0.9994382219725431, 0.9994382219725431, 0.9994382219725431, 0.9994382219725431, 0.9994382219725431, 0.9994382219725431, 0.9994382219725431, 0.9994382219725431, 0.9994382219725431, 0.9994382219725431, 0.9994382219725431, 0.9994382219725431, 0.9994382219725431, 0.9994382219725431, 0.9994382219725431, 0.9994382219725431, 0.9994382219725431, 0.9994382219725431, 0.9994382219725431]}], \"f1_score_macro\": [{\"categories\": [\"0\", \"1\", \"2\", \"3\", \"4\", \"5\", \"6\", \"7\", \"8\", \"9\", \"10\", \"11\", \"12\", \"13\", \"14\", \"15\", \"16\", \"17\", \"18\", \"19\", \"20\", \"21\", \"22\", \"23\", \"24\", \"25\", \"26\", \"27\", \"28\", \"29\", \"30\", \"31\", \"32\", \"33\", \"34\", \"35\", \"38\", \"39\"], \"mode\": \"markers\", \"name\": \"f1_score_macro\", \"stepped\": false, \"type\": \"scatter\", \"data\": [0.9182266603884097, 0.5219709752612858, 0.5836058059489851, 0.5051612727742987, 0.5254756370884464, 0.565192889762107, 0.5415078830628581, 0.5685437377651048, 0.5652245717267899, 0.529693770566601, 0.21710975030064003, 0.4886445014128957, 0.43729091327494063, 0.5247711938829028, 0.0017174903610234842, 0.2934497710302102, 0.20642766446366403, 0.0017174903610234842, 0.5612551861707188, 0.540099287681064, 0.011728327342517409, 0.0017174903610234842, 0.02062680074857308, 0.24898493741608355, 0.5464026275414492, 0.0017174903610234842, 0.0017174903610234842, 0.563157268021208, 0.5588268419681672, 0.5480445042046678, 0.46468478924242934, 0.8617875033211326, 0.6390485889515015, 0.5265529474613464, 0.5608288553965404, 0.30982259330432077, 0.7643735728886388, 0.7743662194993134]}, {\"categories\": [\"0\", \"1\", \"2\", \"3\", \"4\", \"5\", \"6\", \"7\", \"8\", \"9\", \"10\", \"11\", \"12\", \"13\", \"14\", \"15\", \"16\", \"17\", \"18\", \"19\", \"20\", \"21\", \"22\", \"23\", \"24\", \"25\", \"26\", \"27\", \"28\", \"29\", \"30\", \"31\", \"32\", \"33\", \"34\", \"35\", \"38\", \"39\"], \"mode\": \"lines\", \"name\": \"f1_score_macro_max\", \"stepped\": true, \"type\": \"scatter\", \"data\": [0.9182266603884097, 0.9182266603884097, 0.9182266603884097, 0.9182266603884097, 0.9182266603884097, 0.9182266603884097, 0.9182266603884097, 0.9182266603884097, 0.9182266603884097, 0.9182266603884097, 0.9182266603884097, 0.9182266603884097, 0.9182266603884097, 0.9182266603884097, 0.9182266603884097, 0.9182266603884097, 0.9182266603884097, 0.9182266603884097, 0.9182266603884097, 0.9182266603884097, 0.9182266603884097, 0.9182266603884097, 0.9182266603884097, 0.9182266603884097, 0.9182266603884097, 0.9182266603884097, 0.9182266603884097, 0.9182266603884097, 0.9182266603884097, 0.9182266603884097, 0.9182266603884097, 0.9182266603884097, 0.9182266603884097, 0.9182266603884097, 0.9182266603884097, 0.9182266603884097, 0.9182266603884097, 0.9182266603884097]}], \"AUC_micro\": [{\"categories\": [\"0\", \"1\", \"2\", \"3\", \"4\", \"5\", \"6\", \"7\", \"8\", \"9\", \"10\", \"11\", \"12\", \"13\", \"14\", \"15\", \"16\", \"17\", \"18\", \"19\", \"20\", \"21\", \"22\", \"23\", \"24\", \"25\", \"26\", \"27\", \"28\", \"29\", \"30\", \"31\", \"32\", \"33\", \"34\", \"35\", \"38\", \"39\"], \"mode\": \"markers\", \"name\": \"AUC_micro\", \"stepped\": false, \"type\": \"scatter\", \"data\": [0.9997415009403958, 0.9928226919869869, 0.9985148502541881, 0.9798786911496554, 0.9938510395760364, 0.9977641408084218, 0.9957334883448299, 0.9976142975013019, 0.9974812916566548, 0.99404165375436, 0.21251843366513362, 0.9302809232483406, 0.7854211974389339, 0.9944043779148062, 0.0032555254648614956, 0.28376835911670756, 0.14895733458881122, 0.003338892971064698, 0.9977623507955715, 0.9955975348963777, 0.0035524198069897426, 0.0032931490200824275, 0.004648049442413401, 0.23783331440033123, 0.9958401851920666, 0.001720445209086761, 0.001720445209086761, 0.9979253220963855, 0.9970761755045516, 0.9966401175256361, 0.9386566195924642, 0.9998951856249552, 0.9992563014378977, 0.9896581563764373, 0.9973783486586807, 0.6907891662569001, 0.9992999249879828, 0.9995127589952426]}, {\"categories\": [\"0\", \"1\", \"2\", \"3\", \"4\", \"5\", \"6\", \"7\", \"8\", \"9\", \"10\", \"11\", \"12\", \"13\", \"14\", \"15\", \"16\", \"17\", \"18\", \"19\", \"20\", \"21\", \"22\", \"23\", \"24\", \"25\", \"26\", \"27\", \"28\", \"29\", \"30\", \"31\", \"32\", \"33\", \"34\", \"35\", \"38\", \"39\"], \"mode\": \"lines\", \"name\": \"AUC_micro_max\", \"stepped\": true, \"type\": \"scatter\", \"data\": [0.9997415009403958, 0.9997415009403958, 0.9997415009403958, 0.9997415009403958, 0.9997415009403958, 0.9997415009403958, 0.9997415009403958, 0.9997415009403958, 0.9997415009403958, 0.9997415009403958, 0.9997415009403958, 0.9997415009403958, 0.9997415009403958, 0.9997415009403958, 0.9997415009403958, 0.9997415009403958, 0.9997415009403958, 0.9997415009403958, 0.9997415009403958, 0.9997415009403958, 0.9997415009403958, 0.9997415009403958, 0.9997415009403958, 0.9997415009403958, 0.9997415009403958, 0.9997415009403958, 0.9997415009403958, 0.9997415009403958, 0.9997415009403958, 0.9997415009403958, 0.9997415009403958, 0.9998951856249552, 0.9998951856249552, 0.9998951856249552, 0.9998951856249552, 0.9998951856249552, 0.9998951856249552, 0.9998951856249552]}], \"matthews_correlation\": [{\"categories\": [\"0\", \"1\", \"2\", \"3\", \"4\", \"5\", \"6\", \"7\", \"8\", \"9\", \"10\", \"11\", \"12\", \"13\", \"14\", \"15\", \"16\", \"17\", \"18\", \"19\", \"20\", \"21\", \"22\", \"23\", \"24\", \"25\", \"26\", \"27\", \"28\", \"29\", \"30\", \"31\", \"32\", \"33\", \"34\", \"35\", \"38\", \"39\"], \"mode\": \"markers\", \"name\": \"matthews_correlation\", \"stepped\": false, \"type\": \"scatter\", \"data\": [0.8364533207768194, 0.17344778434527083, 0.2824136173885905, 0.13735601420688429, 0.18075424540343055, 0.26095791270210844, 0.21405006421500694, 0.26134732173120845, 0.2551213881550975, 0.18701811475584687, 0.023546337407482368, 0.11187230824849742, 0.0670649402935553, 0.17425378770256125, 0.0, 0.03452336160834894, 0.024353558821938497, 0.0, 0.2533936117089231, 0.20850853109290127, 0.004188484720140633, 0.0, 0.005809268283869246, 0.027104866859027077, 0.2212949982193956, 0.0, 0.0, 0.2541460652368731, 0.24581960539099262, 0.2245892779990839, 0.07993467727961859, 0.7324966133977643, 0.3857233731912309, 0.1830047542435975, 0.25256901833066664, 0.01662572018646678, 0.5801470898484905, 0.595697770062917]}, {\"categories\": [\"0\", \"1\", \"2\", \"3\", \"4\", \"5\", \"6\", \"7\", \"8\", \"9\", \"10\", \"11\", \"12\", \"13\", \"14\", \"15\", \"16\", \"17\", \"18\", \"19\", \"20\", \"21\", \"22\", \"23\", \"24\", \"25\", \"26\", \"27\", \"28\", \"29\", \"30\", \"31\", \"32\", \"33\", \"34\", \"35\", \"38\", \"39\"], \"mode\": \"lines\", \"name\": \"matthews_correlation_max\", \"stepped\": true, \"type\": \"scatter\", \"data\": [0.8364533207768194, 0.8364533207768194, 0.8364533207768194, 0.8364533207768194, 0.8364533207768194, 0.8364533207768194, 0.8364533207768194, 0.8364533207768194, 0.8364533207768194, 0.8364533207768194, 0.8364533207768194, 0.8364533207768194, 0.8364533207768194, 0.8364533207768194, 0.8364533207768194, 0.8364533207768194, 0.8364533207768194, 0.8364533207768194, 0.8364533207768194, 0.8364533207768194, 0.8364533207768194, 0.8364533207768194, 0.8364533207768194, 0.8364533207768194, 0.8364533207768194, 0.8364533207768194, 0.8364533207768194, 0.8364533207768194, 0.8364533207768194, 0.8364533207768194, 0.8364533207768194, 0.8364533207768194, 0.8364533207768194, 0.8364533207768194, 0.8364533207768194, 0.8364533207768194, 0.8364533207768194, 0.8364533207768194]}], \"precision_score_weighted\": [{\"categories\": [\"0\", \"1\", \"2\", \"3\", \"4\", \"5\", \"6\", \"7\", \"8\", \"9\", \"10\", \"11\", \"12\", \"13\", \"14\", \"15\", \"16\", \"17\", \"18\", \"19\", \"20\", \"21\", \"22\", \"23\", \"24\", \"25\", \"26\", \"27\", \"28\", \"29\", \"30\", \"31\", \"32\", \"33\", \"34\", \"35\", \"38\", \"39\"], \"mode\": \"markers\", \"name\": \"precision_score_weighted\", \"stepped\": false, \"type\": \"scatter\", \"data\": [0.9994382219725431, 0.9981920979357503, 0.9981620840619212, 0.998130949329356, 0.9981974657450233, 0.9982669272399742, 0.9982238153722653, 0.998202184452669, 0.9981956915764498, 0.9981675574574604, 0.9981552137813432, 0.9981500015354751, 0.9981517423501706, 0.9981229161287519, 2.959931717469584e-06, 0.9982845617289214, 0.9982835333559821, 2.959931717469584e-06, 0.9982594710743743, 0.9981851548579829, 0.9982825448531693, 2.959931717469584e-06, 0.9982825726836334, 0.998176541805131, 0.9981962864160803, 2.959931717469584e-06, 2.959931717469584e-06, 0.9982273489711457, 0.9982191294935947, 0.9981992388810579, 0.9980437476150648, 0.9991121092474532, 0.9983904989140979, 0.9981991468709875, 0.9982586702276277, 0.9973359899409497, 0.9987505833152467, 0.9987855937778807]}, {\"categories\": [\"0\", \"1\", \"2\", \"3\", \"4\", \"5\", \"6\", \"7\", \"8\", \"9\", \"10\", \"11\", \"12\", \"13\", \"14\", \"15\", \"16\", \"17\", \"18\", \"19\", \"20\", \"21\", \"22\", \"23\", \"24\", \"25\", \"26\", \"27\", \"28\", \"29\", \"30\", \"31\", \"32\", \"33\", \"34\", \"35\", \"38\", \"39\"], \"mode\": \"lines\", \"name\": \"precision_score_weighted_max\", \"stepped\": true, \"type\": \"scatter\", \"data\": [0.9994382219725431, 0.9994382219725431, 0.9994382219725431, 0.9994382219725431, 0.9994382219725431, 0.9994382219725431, 0.9994382219725431, 0.9994382219725431, 0.9994382219725431, 0.9994382219725431, 0.9994382219725431, 0.9994382219725431, 0.9994382219725431, 0.9994382219725431, 0.9994382219725431, 0.9994382219725431, 0.9994382219725431, 0.9994382219725431, 0.9994382219725431, 0.9994382219725431, 0.9994382219725431, 0.9994382219725431, 0.9994382219725431, 0.9994382219725431, 0.9994382219725431, 0.9994382219725431, 0.9994382219725431, 0.9994382219725431, 0.9994382219725431, 0.9994382219725431, 0.9994382219725431, 0.9994382219725431, 0.9994382219725431, 0.9994382219725431, 0.9994382219725431, 0.9994382219725431, 0.9994382219725431, 0.9994382219725431]}], \"average_precision_score_micro\": [{\"categories\": [\"0\", \"1\", \"2\", \"3\", \"4\", \"5\", \"6\", \"7\", \"8\", \"9\", \"10\", \"11\", \"12\", \"13\", \"14\", \"15\", \"16\", \"17\", \"18\", \"19\", \"20\", \"21\", \"22\", \"23\", \"24\", \"25\", \"26\", \"27\", \"28\", \"29\", \"30\", \"31\", \"32\", \"33\", \"34\", \"35\", \"38\", \"39\"], \"mode\": \"markers\", \"name\": \"average_precision_score_micro\", \"stepped\": false, \"type\": \"scatter\", \"data\": [0.9993073134574981, 0.9929887051100754, 0.9977090451111222, 0.9793233600804663, 0.9939716434497838, 0.9977564638873371, 0.9957648756286983, 0.9971671453332158, 0.9972179255190264, 0.994077949702616, 0.34738880144039713, 0.9265118545909381, 0.7640731860522441, 0.9944436590224912, 0.3081314129119728, 0.37235698106895226, 0.33067703698324336, 0.3082301112998998, 0.9977417085052942, 0.9955825515213638, 0.308423933277516, 0.3081792431771859, 0.3082832920067034, 0.35451904227239095, 0.9958292688544864, 0.49914273732717407, 0.49914273732717407, 0.9972503970027613, 0.9966314798737482, 0.9957382093691884, 0.9425233023057641, 0.9998959446535505, 0.9992373363108406, 0.988917400868385, 0.9971892206391506, 0.778981325221838, 0.9988903756874385, 0.9989389396777255]}, {\"categories\": [\"0\", \"1\", \"2\", \"3\", \"4\", \"5\", \"6\", \"7\", \"8\", \"9\", \"10\", \"11\", \"12\", \"13\", \"14\", \"15\", \"16\", \"17\", \"18\", \"19\", \"20\", \"21\", \"22\", \"23\", \"24\", \"25\", \"26\", \"27\", \"28\", \"29\", \"30\", \"31\", \"32\", \"33\", \"34\", \"35\", \"38\", \"39\"], \"mode\": \"lines\", \"name\": \"average_precision_score_micro_max\", \"stepped\": true, \"type\": \"scatter\", \"data\": [0.9993073134574981, 0.9993073134574981, 0.9993073134574981, 0.9993073134574981, 0.9993073134574981, 0.9993073134574981, 0.9993073134574981, 0.9993073134574981, 0.9993073134574981, 0.9993073134574981, 0.9993073134574981, 0.9993073134574981, 0.9993073134574981, 0.9993073134574981, 0.9993073134574981, 0.9993073134574981, 0.9993073134574981, 0.9993073134574981, 0.9993073134574981, 0.9993073134574981, 0.9993073134574981, 0.9993073134574981, 0.9993073134574981, 0.9993073134574981, 0.9993073134574981, 0.9993073134574981, 0.9993073134574981, 0.9993073134574981, 0.9993073134574981, 0.9993073134574981, 0.9993073134574981, 0.9998959446535505, 0.9998959446535505, 0.9998959446535505, 0.9998959446535505, 0.9998959446535505, 0.9998959446535505, 0.9998959446535505]}], \"accuracy\": [{\"categories\": [\"0\", \"1\", \"2\", \"3\", \"4\", \"5\", \"6\", \"7\", \"8\", \"9\", \"10\", \"11\", \"12\", \"13\", \"14\", \"15\", \"16\", \"17\", \"18\", \"19\", \"20\", \"21\", \"22\", \"23\", \"24\", \"25\", \"26\", \"27\", \"28\", \"29\", \"30\", \"31\", \"32\", \"33\", \"34\", \"35\", \"38\", \"39\"], \"mode\": \"markers\", \"name\": \"accuracy\", \"stepped\": false, \"type\": \"scatter\", \"data\": [0.9994382219725431, 0.9557248692110529, 0.9863417717074541, 0.9338155261402339, 0.9591657596292265, 0.980618658052737, 0.9708577648256732, 0.9823391032618237, 0.9814262139672062, 0.9634844282153014, 0.2747796776798567, 0.8992661774516344, 0.7570310031248902, 0.9599030932902637, 0.0017204452090867595, 0.41055440469084653, 0.25775078122256945, 0.0017204452090867595, 0.9793897686176749, 0.9706119869386609, 0.011797338576594922, 0.0017204452090867595, 0.020926231522769567, 0.3282539236684105, 0.9739475439766863, 0.0017204452090867595, 0.0017204452090867595, 0.9804079912924406, 0.9790035462237984, 0.9747199887644394, 0.8370843720374986, 0.9988764439450862, 0.9921351076156034, 0.9601488711772761, 0.9792493241108107, 0.4447526421122854, 0.9972613321161476, 0.997471998876444]}, {\"categories\": [\"0\", \"1\", \"2\", \"3\", \"4\", \"5\", \"6\", \"7\", \"8\", \"9\", \"10\", \"11\", \"12\", \"13\", \"14\", \"15\", \"16\", \"17\", \"18\", \"19\", \"20\", \"21\", \"22\", \"23\", \"24\", \"25\", \"26\", \"27\", \"28\", \"29\", \"30\", \"31\", \"32\", \"33\", \"34\", \"35\", \"38\", \"39\"], \"mode\": \"lines\", \"name\": \"accuracy_max\", \"stepped\": true, \"type\": \"scatter\", \"data\": [0.9994382219725431, 0.9994382219725431, 0.9994382219725431, 0.9994382219725431, 0.9994382219725431, 0.9994382219725431, 0.9994382219725431, 0.9994382219725431, 0.9994382219725431, 0.9994382219725431, 0.9994382219725431, 0.9994382219725431, 0.9994382219725431, 0.9994382219725431, 0.9994382219725431, 0.9994382219725431, 0.9994382219725431, 0.9994382219725431, 0.9994382219725431, 0.9994382219725431, 0.9994382219725431, 0.9994382219725431, 0.9994382219725431, 0.9994382219725431, 0.9994382219725431, 0.9994382219725431, 0.9994382219725431, 0.9994382219725431, 0.9994382219725431, 0.9994382219725431, 0.9994382219725431, 0.9994382219725431, 0.9994382219725431, 0.9994382219725431, 0.9994382219725431, 0.9994382219725431, 0.9994382219725431, 0.9994382219725431]}]}, \"metricName\": null, \"primaryMetricName\": \"AUC_weighted\", \"showLegend\": false}, \"run_metrics\": [{\"name\": \"experiment_status\", \"run_id\": \"AutoML_88dd3a46-5320-4270-af26-9741d9c3cc7c\", \"categories\": [0, 1, 2, 3, 4, 5, 6, 7, 8, 9, 10, 11, 12, 13], \"series\": [{\"data\": [\"DatasetEvaluation\", \"FeaturesGeneration\", \"DatasetFeaturization\", \"DatasetFeaturizationCompleted\", \"DatasetBalancing\", \"ModelSelection\", \"BestRunExplainModel\", \"ModelExplanationDataSetSetup\", \"PickSurrogateModel\", \"EngineeredFeatureExplanations\", \"EngineeredFeatureExplanations\", \"RawFeaturesExplanations\", \"RawFeaturesExplanations\", \"BestRunExplainModel\"]}]}, {\"name\": \"experiment_status_description\", \"run_id\": \"AutoML_88dd3a46-5320-4270-af26-9741d9c3cc7c\", \"categories\": [0, 1, 2, 3, 4, 5, 6, 7, 8, 9, 10, 11, 12, 13], \"series\": [{\"data\": [\"Gathering dataset statistics.\", \"Generating features for the dataset.\", \"Beginning to fit featurizers and featurize the dataset.\", \"Completed fit featurizers and featurizing the dataset.\", \"Performing class balancing sweeping\", \"Beginning model selection.\", \"Best run model explanations started\", \"Model explanations data setup completed\", \"Choosing LightGBM as the surrogate model for explanations\", \"Computation of engineered features started\", \"Computation of engineered features completed\", \"Computation of raw features started\", \"Computation of raw features completed\", \"Best run model explanations completed\"]}]}, {\"name\": \"accuracy\", \"run_id\": \"AutoML_88dd3a46-5320-4270-af26-9741d9c3cc7c\", \"categories\": [0], \"series\": [{\"data\": [0.9972613321161476]}]}, {\"name\": \"f1_score_weighted\", \"run_id\": \"AutoML_88dd3a46-5320-4270-af26-9741d9c3cc7c\", \"categories\": [0], \"series\": [{\"data\": [0.9978206246334519]}]}, {\"name\": \"matthews_correlation\", \"run_id\": \"AutoML_88dd3a46-5320-4270-af26-9741d9c3cc7c\", \"categories\": [0], \"series\": [{\"data\": [0.5801470898484905]}]}, {\"name\": \"average_precision_score_macro\", \"run_id\": \"AutoML_88dd3a46-5320-4270-af26-9741d9c3cc7c\", \"categories\": [0], \"series\": [{\"data\": [0.923689063757553]}]}, {\"name\": \"AUC_weighted\", \"run_id\": \"AutoML_88dd3a46-5320-4270-af26-9741d9c3cc7c\", \"categories\": [0], \"series\": [{\"data\": [0.9832697851228279]}]}, {\"name\": \"AUC_macro\", \"run_id\": \"AutoML_88dd3a46-5320-4270-af26-9741d9c3cc7c\", \"categories\": [0], \"series\": [{\"data\": [0.9832697851228279]}]}, {\"name\": \"balanced_accuracy\", \"run_id\": \"AutoML_88dd3a46-5320-4270-af26-9741d9c3cc7c\", \"categories\": [0], \"series\": [{\"data\": [0.947695827064647]}]}, {\"name\": \"recall_score_macro\", \"run_id\": \"AutoML_88dd3a46-5320-4270-af26-9741d9c3cc7c\", \"categories\": [0], \"series\": [{\"data\": [0.947695827064647]}]}, {\"name\": \"recall_score_weighted\", \"run_id\": \"AutoML_88dd3a46-5320-4270-af26-9741d9c3cc7c\", \"categories\": [0], \"series\": [{\"data\": [0.9972613321161476]}]}, {\"name\": \"average_precision_score_weighted\", \"run_id\": \"AutoML_88dd3a46-5320-4270-af26-9741d9c3cc7c\", \"categories\": [0], \"series\": [{\"data\": [0.9997044252592046]}]}, {\"name\": \"precision_score_weighted\", \"run_id\": \"AutoML_88dd3a46-5320-4270-af26-9741d9c3cc7c\", \"categories\": [0], \"series\": [{\"data\": [0.9987505833152467]}]}, {\"name\": \"recall_score_micro\", \"run_id\": \"AutoML_88dd3a46-5320-4270-af26-9741d9c3cc7c\", \"categories\": [0], \"series\": [{\"data\": [0.9972613321161476]}]}, {\"name\": \"f1_score_micro\", \"run_id\": \"AutoML_88dd3a46-5320-4270-af26-9741d9c3cc7c\", \"categories\": [0], \"series\": [{\"data\": [0.9972613321161476]}]}, {\"name\": \"precision_score_macro\", \"run_id\": \"AutoML_88dd3a46-5320-4270-af26-9741d9c3cc7c\", \"categories\": [0], \"series\": [{\"data\": [0.6879460481385457]}]}, {\"name\": \"AUC_micro\", \"run_id\": \"AutoML_88dd3a46-5320-4270-af26-9741d9c3cc7c\", \"categories\": [0], \"series\": [{\"data\": [0.9992999249879828]}]}, {\"name\": \"precision_score_micro\", \"run_id\": \"AutoML_88dd3a46-5320-4270-af26-9741d9c3cc7c\", \"categories\": [0], \"series\": [{\"data\": [0.9972613321161476]}]}, {\"name\": \"weighted_accuracy\", \"run_id\": \"AutoML_88dd3a46-5320-4270-af26-9741d9c3cc7c\", \"categories\": [0], \"series\": [{\"data\": [0.9974321750068291]}]}, {\"name\": \"log_loss\", \"run_id\": \"AutoML_88dd3a46-5320-4270-af26-9741d9c3cc7c\", \"categories\": [0], \"series\": [{\"data\": [0.2911348699063982]}]}, {\"name\": \"norm_macro_recall\", \"run_id\": \"AutoML_88dd3a46-5320-4270-af26-9741d9c3cc7c\", \"categories\": [0], \"series\": [{\"data\": [0.8953916541292939]}]}, {\"name\": \"f1_score_macro\", \"run_id\": \"AutoML_88dd3a46-5320-4270-af26-9741d9c3cc7c\", \"categories\": [0], \"series\": [{\"data\": [0.7643735728886388]}]}, {\"name\": \"average_precision_score_micro\", \"run_id\": \"AutoML_88dd3a46-5320-4270-af26-9741d9c3cc7c\", \"categories\": [0], \"series\": [{\"data\": [0.9988903756874385]}]}], \"run_logs\": \"\\nRun is completed.\", \"graph\": {}, \"widget_settings\": {\"childWidgetDisplay\": \"popup\", \"send_telemetry\": false, \"log_level\": \"INFO\", \"sdk_version\": \"1.26.0\"}, \"loading\": false}"
          },
          "metadata": {}
        }
      ],
      "execution_count": 13,
      "metadata": {
        "gather": {
          "logged": 1618178638116
        },
        "jupyter": {
          "outputs_hidden": false,
          "source_hidden": false
        },
        "nteract": {
          "transient": {
            "deleting": false
          }
        }
      }
    },
    {
      "cell_type": "markdown",
      "source": [
        "## Best Model\n",
        "\n",
        "TODO: In the cell below, get the best model from the automl experiments and display all the properties of the model.\n",
        "\n"
      ],
      "metadata": {}
    },
    {
      "cell_type": "code",
      "source": [
        "automl_best_run, automl_fitted_model = remote_run.get_output()\r\n",
        "print(automl_fitted_model)"
      ],
      "outputs": [
        {
          "output_type": "stream",
          "name": "stdout",
          "text": [
            "Pipeline(memory=None,\n",
            "         steps=[('datatransformer',\n",
            "                 DataTransformer(enable_dnn=None, enable_feature_sweeping=None,\n",
            "                                 feature_sweeping_config=None,\n",
            "                                 feature_sweeping_timeout=None,\n",
            "                                 featurization_config=None, force_text_dnn=None,\n",
            "                                 is_cross_validation=None,\n",
            "                                 is_onnx_compatible=None, logger=None,\n",
            "                                 observer=None, task=None, working_dir=None)),\n",
            "                ('prefittedsoftvotingclassifier',...\n",
            "                                                                                                n_estimators=100,\n",
            "                                                                                                n_jobs=1,\n",
            "                                                                                                num_leaves=31,\n",
            "                                                                                                objective=None,\n",
            "                                                                                                random_state=None,\n",
            "                                                                                                reg_alpha=0.0,\n",
            "                                                                                                reg_lambda=0.0,\n",
            "                                                                                                silent=True,\n",
            "                                                                                                subsample=1.0,\n",
            "                                                                                                subsample_for_bin=200000,\n",
            "                                                                                                subsample_freq=0,\n",
            "                                                                                                verbose=-10))],\n",
            "                                                                     verbose=False))],\n",
            "                                               flatten_transform=None,\n",
            "                                               weights=[0.2, 0.2,\n",
            "                                                        0.06666666666666667,\n",
            "                                                        0.06666666666666667,\n",
            "                                                        0.06666666666666667,\n",
            "                                                        0.13333333333333333,\n",
            "                                                        0.2,\n",
            "                                                        0.06666666666666667]))],\n",
            "         verbose=False)\n"
          ]
        }
      ],
      "execution_count": 20,
      "metadata": {
        "gather": {
          "logged": 1618180707097
        },
        "jupyter": {
          "outputs_hidden": false,
          "source_hidden": false
        },
        "nteract": {
          "transient": {
            "deleting": false
          }
        }
      }
    },
    {
      "cell_type": "code",
      "source": [
        "automl_best_run.properties"
      ],
      "outputs": [
        {
          "output_type": "execute_result",
          "execution_count": 21,
          "data": {
            "text/plain": "{'runTemplate': 'automl_child',\n 'pipeline_id': '__AutoML_Ensemble__',\n 'pipeline_spec': '{\"pipeline_id\":\"__AutoML_Ensemble__\",\"objects\":[{\"module\":\"azureml.train.automl.ensemble\",\"class_name\":\"Ensemble\",\"spec_class\":\"sklearn\",\"param_args\":[],\"param_kwargs\":{\"automl_settings\":\"{\\'task_type\\':\\'classification\\',\\'primary_metric\\':\\'AUC_weighted\\',\\'verbosity\\':20,\\'ensemble_iterations\\':15,\\'is_timeseries\\':False,\\'name\\':\\'capstone-fraud-credit-exp\\',\\'compute_target\\':\\'auto-ml\\',\\'subscription_id\\':\\'cdbe0b43-92a0-4715-838a-f2648cc7ad21\\',\\'region\\':\\'southcentralus\\',\\'spark_service\\':None}\",\"ensemble_run_id\":\"AutoML_88dd3a46-5320-4270-af26-9741d9c3cc7c_38\",\"experiment_name\":\"capstone-fraud-credit-exp\",\"workspace_name\":\"quick-starts-ws-142435\",\"subscription_id\":\"cdbe0b43-92a0-4715-838a-f2648cc7ad21\",\"resource_group_name\":\"aml-quickstarts-142435\"}}]}',\n 'training_percent': '100',\n 'predicted_cost': None,\n 'iteration': '38',\n '_aml_system_scenario_identification': 'Remote.Child',\n '_azureml.ComputeTargetType': 'amlcompute',\n 'ContentSnapshotId': '93dd5f68-a587-4fc0-8c94-d65b743ec253',\n 'ProcessInfoFile': 'azureml-logs/process_info.json',\n 'ProcessStatusFile': 'azureml-logs/process_status.json',\n 'run_template': 'automl_child',\n 'run_preprocessor': '',\n 'run_algorithm': 'VotingEnsemble',\n 'model_output_path': 'outputs/model.pkl',\n 'conda_env_data_location': 'aml://artifact/ExperimentRun/dcid.AutoML_88dd3a46-5320-4270-af26-9741d9c3cc7c_38/outputs/conda_env_v_1_0_0.yml',\n 'model_data_location': 'aml://artifact/ExperimentRun/dcid.AutoML_88dd3a46-5320-4270-af26-9741d9c3cc7c_38/outputs/model.pkl',\n 'model_size_on_disk': '9799529',\n 'scoring_data_location': 'aml://artifact/ExperimentRun/dcid.AutoML_88dd3a46-5320-4270-af26-9741d9c3cc7c_38/outputs/scoring_file_v_1_0_0.py',\n 'model_exp_support': 'True',\n 'pipeline_graph_version': '1.0.0',\n 'model_name': 'AutoML88dd3a46538',\n 'staticProperties': '{}',\n 'score': '0.9832697851228279',\n 'score_table': 'NaN',\n 'run_properties': \"classification_labels=None,\\n                              estimators=[('3',\\n                                           Pipeline(memory=None,\\n                                                    steps=[('minmaxscaler',\\n                                                            MinMaxScaler(copy=True,\\n                                                                         feature_range=(0,\\n                                                                                        1\",\n 'pipeline_script': '{\"pipeline_id\":\"__AutoML_Ensemble__\",\"objects\":[{\"module\":\"azureml.train.automl.ensemble\",\"class_name\":\"Ensemble\",\"spec_class\":\"sklearn\",\"param_args\":[],\"param_kwargs\":{\"automl_settings\":\"{\\'task_type\\':\\'classification\\',\\'primary_metric\\':\\'AUC_weighted\\',\\'verbosity\\':20,\\'ensemble_iterations\\':15,\\'is_timeseries\\':False,\\'name\\':\\'capstone-fraud-credit-exp\\',\\'compute_target\\':\\'auto-ml\\',\\'subscription_id\\':\\'cdbe0b43-92a0-4715-838a-f2648cc7ad21\\',\\'region\\':\\'southcentralus\\',\\'spark_service\\':None}\",\"ensemble_run_id\":\"AutoML_88dd3a46-5320-4270-af26-9741d9c3cc7c_38\",\"experiment_name\":\"capstone-fraud-credit-exp\",\"workspace_name\":\"quick-starts-ws-142435\",\"subscription_id\":\"cdbe0b43-92a0-4715-838a-f2648cc7ad21\",\"resource_group_name\":\"aml-quickstarts-142435\"}}]}',\n 'training_type': 'train_valid',\n 'num_classes': '',\n 'framework': 'sklearn',\n 'fit_time': '19',\n 'goal': 'AUC_weighted_max',\n 'class_labels': '',\n 'primary_metric': 'AUC_weighted',\n 'errors': '{}',\n 'onnx_model_resource': '{}',\n 'error_code': '',\n 'failure_reason': '',\n 'dependencies_versions': '{\"azureml-train-automl-runtime\": \"1.25.0\", \"azureml-train-automl-client\": \"1.25.0\", \"azureml-telemetry\": \"1.25.0\", \"azureml-pipeline-core\": \"1.25.0\", \"azureml-model-management-sdk\": \"1.0.1b6.post1\", \"azureml-mlflow\": \"1.25.0\", \"azureml-interpret\": \"1.25.0\", \"azureml-defaults\": \"1.25.0\", \"azureml-dataset-runtime\": \"1.25.0\", \"azureml-dataprep\": \"2.11.2\", \"azureml-dataprep-rslex\": \"1.9.1\", \"azureml-dataprep-native\": \"30.0.0\", \"azureml-core\": \"1.25.0\", \"azureml-automl-runtime\": \"1.25.0\", \"azureml-automl-core\": \"1.25.0\"}',\n 'num_cores': '4',\n 'num_logical_cores': '4',\n 'peak_memory_usage': '894904',\n 'vm_configuration': 'Intel(R) Xeon(R) Platinum 8171M CPU @ 2.60GHz',\n 'core_hours': '0.008664390833333334',\n 'feature_skus': 'automatedml_sdk_guardrails'}"
          },
          "metadata": {}
        }
      ],
      "execution_count": 21,
      "metadata": {
        "collapsed": true,
        "jupyter": {
          "source_hidden": false,
          "outputs_hidden": false
        },
        "nteract": {
          "transient": {
            "deleting": false
          }
        },
        "gather": {
          "logged": 1618180707405
        }
      }
    },
    {
      "cell_type": "code",
      "source": [
        "#TODO: Save the best model\r\n",
        "import joblib\r\n",
        "\r\n",
        "joblib.dump(automl_fitted_model,\"best_automl_model.joblib\")"
      ],
      "outputs": [
        {
          "output_type": "execute_result",
          "execution_count": 22,
          "data": {
            "text/plain": "['best_automl_model.joblib']"
          },
          "metadata": {}
        }
      ],
      "execution_count": 22,
      "metadata": {
        "gather": {
          "logged": 1618180707713
        },
        "jupyter": {
          "outputs_hidden": false,
          "source_hidden": false
        },
        "nteract": {
          "transient": {
            "deleting": false
          }
        }
      }
    },
    {
      "cell_type": "markdown",
      "source": [
        "## Model Deployment\n",
        "\n",
        "Remember you have to deploy only one of the two models you trained.. Perform the steps in the rest of this notebook only if you wish to deploy this model.\n",
        "\n",
        "TODO: In the cell below, register the model, create an inference config and deploy the model as a web service.\n",
        "\n",
        "All the information about the deployment of the model are coming from https://docs.microsoft.com/en-us/azure/machine-learning/how-to-deploy-and-where?tabs=python\n"
      ],
      "metadata": {}
    },
    {
      "cell_type": "code",
      "source": [
        "automl_best_run.properties['model_name']"
      ],
      "outputs": [
        {
          "output_type": "execute_result",
          "execution_count": 23,
          "data": {
            "text/plain": "'AutoML88dd3a46538'"
          },
          "metadata": {}
        }
      ],
      "execution_count": 23,
      "metadata": {
        "collapsed": true,
        "jupyter": {
          "source_hidden": false,
          "outputs_hidden": false
        },
        "nteract": {
          "transient": {
            "deleting": false
          }
        },
        "gather": {
          "logged": 1618182585794
        }
      }
    },
    {
      "cell_type": "code",
      "source": [
        "model = remote_run.register_model(model_name=automl_best_run.properties['model_name'])\r\n",
        "print(model.name, model.id, model.version, sep='\\t')\r\n"
      ],
      "outputs": [
        {
          "output_type": "stream",
          "name": "stdout",
          "text": [
            "AutoML88dd3a46538\tAutoML88dd3a46538:1\t1\n"
          ]
        }
      ],
      "execution_count": 24,
      "metadata": {
        "gather": {
          "logged": 1618182588795
        },
        "jupyter": {
          "outputs_hidden": false,
          "source_hidden": false
        },
        "nteract": {
          "transient": {
            "deleting": false
          }
        }
      }
    },
    {
      "cell_type": "code",
      "source": [
        "from azureml.core.environment import Environment\r\n",
        "from azureml.core.model import InferenceConfig\r\n",
        "\r\n",
        "\r\n",
        "env = automl_best_run.get_environment()\r\n",
        "\r\n",
        "for pip_package in [\"scikit-learn\"]:\r\n",
        "    env.python.conda_dependencies.add_pip_package(pip_package)\r\n",
        "\r\n",
        "inference_config = InferenceConfig(entry_script='score.py',\r\n",
        "                                    environment=env)"
      ],
      "outputs": [],
      "execution_count": 25,
      "metadata": {
        "collapsed": true,
        "jupyter": {
          "source_hidden": false,
          "outputs_hidden": false
        },
        "nteract": {
          "transient": {
            "deleting": false
          }
        },
        "gather": {
          "logged": 1618182590279
        }
      }
    },
    {
      "cell_type": "code",
      "source": [
        "from azureml.core.webservice import AciWebservice\r\n",
        "from azureml.core.model import Model\r\n",
        "\r\n",
        "\r\n",
        "deployment_config = AciWebservice.deploy_configuration(cpu_cores=1, memory_gb=1)\r\n",
        "service = Model.deploy(ws, 'capstone-fraud-service', [model], inference_config, deployment_config, overwrite=True)\r\n",
        "service.wait_for_deployment(show_output=True)\r\n",
        "print(service.state)"
      ],
      "outputs": [
        {
          "output_type": "stream",
          "name": "stdout",
          "text": [
            "Tips: You can try get_logs(): https://aka.ms/debugimage#dockerlog or local deployment: https://aka.ms/debugimage#debug-locally to debug if deployment takes longer than 10 minutes.\n",
            "Running\n",
            "2021-04-11 23:28:25+00:00 Creating Container Registry if not exists.\n",
            "2021-04-11 23:28:26+00:00 Registering the environment.\n",
            "2021-04-11 23:28:26+00:00 Use the existing image.\n",
            "2021-04-11 23:28:27+00:00 Generating deployment configuration.\n",
            "2021-04-11 23:28:30+00:00 Submitting deployment to compute..\n",
            "2021-04-11 23:28:33+00:00 Checking the status of deployment capstone-fraud-service..\n",
            "2021-04-11 23:31:23+00:00 Checking the status of inference endpoint capstone-fraud-service.\n",
            "Succeeded\n",
            "ACI service creation operation finished, operation \"Succeeded\"\n",
            "Healthy\n"
          ]
        }
      ],
      "execution_count": 33,
      "metadata": {
        "collapsed": true,
        "jupyter": {
          "source_hidden": false,
          "outputs_hidden": false
        },
        "nteract": {
          "transient": {
            "deleting": false
          }
        },
        "gather": {
          "logged": 1618183884957
        }
      }
    },
    {
      "cell_type": "markdown",
      "source": [
        "TODO: In the cell below, send a request to the web service you deployed to test it."
      ],
      "metadata": {
        "collapsed": true,
        "gather": {
          "logged": 1598431657736
        },
        "jupyter": {
          "outputs_hidden": false,
          "source_hidden": false
        },
        "nteract": {
          "transient": {
            "deleting": false
          }
        }
      }
    },
    {
      "cell_type": "code",
      "source": [
        "import json\r\n",
        "\r\n",
        "data = {\"data\":\r\n",
        "        [\r\n",
        "          {\r\n",
        "            \"Time\": 0.0, \"V1\": 0.0, \"V2\": 0.0, \"V3\": 0.0, \"V4\": 0.0, \"V5\": 0.0, \"V6\": 0.0, \"V7\": 0.0, \"V8\": 0.0, \"V9\": 0.0, \"V10\": 0.0, \"V11\": 0.0, \"V12\": 0.0, \"V13\": 0.0, \"V14\": 0.0, \"V15\": 0.0, \"V16\": 0.0, \"V17\": 0.0, \"V18\": 0.0, \"V19\": 0.0, \"V20\": 0.0, \"V21\": 0.0, \"V22\": 0.0, \"V23\": 0.0, \"V24\": 0.0, \"V25\": 0.0, \"V26\": 0.0, \"V27\": 0.0, \"V28\": 0.0, \"Amount\": 0.0\r\n",
        "          }\r\n",
        "        ]\r\n",
        "    }\r\n",
        "# Convert to JSON string\r\n",
        "input_data = json.dumps(data)"
      ],
      "outputs": [],
      "execution_count": 27,
      "metadata": {
        "gather": {
          "logged": 1618183631812
        },
        "jupyter": {
          "outputs_hidden": false,
          "source_hidden": false
        },
        "nteract": {
          "transient": {
            "deleting": false
          }
        }
      }
    },
    {
      "cell_type": "code",
      "source": [
        "input_data"
      ],
      "outputs": [
        {
          "output_type": "execute_result",
          "execution_count": 28,
          "data": {
            "text/plain": "'{\"data\": [{\"Time\": 0.0, \"V1\": 0.0, \"V2\": 0.0, \"V3\": 0.0, \"V4\": 0.0, \"V5\": 0.0, \"V6\": 0.0, \"V7\": 0.0, \"V8\": 0.0, \"V9\": 0.0, \"V10\": 0.0, \"V11\": 0.0, \"V12\": 0.0, \"V13\": 0.0, \"V14\": 0.0, \"V15\": 0.0, \"V16\": 0.0, \"V17\": 0.0, \"V18\": 0.0, \"V19\": 0.0, \"V20\": 0.0, \"V21\": 0.0, \"V22\": 0.0, \"V23\": 0.0, \"V24\": 0.0, \"V25\": 0.0, \"V26\": 0.0, \"V27\": 0.0, \"V28\": 0.0, \"Amount\": 0.0}]}'"
          },
          "metadata": {}
        }
      ],
      "execution_count": 28,
      "metadata": {
        "collapsed": true,
        "jupyter": {
          "source_hidden": false,
          "outputs_hidden": false
        },
        "nteract": {
          "transient": {
            "deleting": false
          }
        },
        "gather": {
          "logged": 1618183631873
        }
      }
    },
    {
      "cell_type": "code",
      "source": [
        "service.run(input_data)\r\n"
      ],
      "outputs": [
        {
          "output_type": "execute_result",
          "execution_count": 29,
          "data": {
            "text/plain": "'{\"error\": \"\\'MinMaxScaler\\' object has no attribute \\'clip\\'\"}'"
          },
          "metadata": {}
        }
      ],
      "execution_count": 29,
      "metadata": {
        "collapsed": true,
        "jupyter": {
          "source_hidden": false,
          "outputs_hidden": false
        },
        "nteract": {
          "transient": {
            "deleting": false
          }
        },
        "gather": {
          "logged": 1618183632057
        }
      }
    },
    {
      "cell_type": "code",
      "source": [
        "service.scoring_uri"
      ],
      "outputs": [
        {
          "output_type": "execute_result",
          "execution_count": 30,
          "data": {
            "text/plain": "'http://2b3a2ca3-18d5-4bb0-92ba-7a43e3d28d6f.southcentralus.azurecontainer.io/score'"
          },
          "metadata": {}
        }
      ],
      "execution_count": 30,
      "metadata": {
        "collapsed": true,
        "jupyter": {
          "source_hidden": false,
          "outputs_hidden": false
        },
        "nteract": {
          "transient": {
            "deleting": false
          }
        },
        "gather": {
          "logged": 1618183632101
        }
      }
    },
    {
      "cell_type": "markdown",
      "source": [
        "TODO: In the cell below, print the logs of the web service and delete the service"
      ],
      "metadata": {
        "collapsed": true,
        "gather": {
          "logged": 1598432765711
        },
        "jupyter": {
          "outputs_hidden": false,
          "source_hidden": false
        },
        "nteract": {
          "transient": {
            "deleting": false
          }
        }
      }
    },
    {
      "cell_type": "code",
      "source": [
        "service.get_logs()\r\n"
      ],
      "outputs": [
        {
          "output_type": "execute_result",
          "execution_count": 31,
          "data": {
            "text/plain": "'2021-04-11T23:26:58,613984200+00:00 - gunicorn/run \\n2021-04-11T23:26:58,616826000+00:00 - rsyslog/run \\n2021-04-11T23:26:58,631419600+00:00 - iot-server/run \\n2021-04-11T23:26:58,666577000+00:00 - nginx/run \\nrsyslogd: /azureml-envs/azureml_29318f7eab6a00068bd5370f799e3963/lib/libuuid.so.1: no version information available (required by rsyslogd)\\n/usr/sbin/nginx: /azureml-envs/azureml_29318f7eab6a00068bd5370f799e3963/lib/libcrypto.so.1.0.0: no version information available (required by /usr/sbin/nginx)\\n/usr/sbin/nginx: /azureml-envs/azureml_29318f7eab6a00068bd5370f799e3963/lib/libcrypto.so.1.0.0: no version information available (required by /usr/sbin/nginx)\\n/usr/sbin/nginx: /azureml-envs/azureml_29318f7eab6a00068bd5370f799e3963/lib/libssl.so.1.0.0: no version information available (required by /usr/sbin/nginx)\\n/usr/sbin/nginx: /azureml-envs/azureml_29318f7eab6a00068bd5370f799e3963/lib/libssl.so.1.0.0: no version information available (required by /usr/sbin/nginx)\\n/usr/sbin/nginx: /azureml-envs/azureml_29318f7eab6a00068bd5370f799e3963/lib/libssl.so.1.0.0: no version information available (required by /usr/sbin/nginx)\\nEdgeHubConnectionString and IOTEDGE_IOTHUBHOSTNAME are not set. Exiting...\\n2021-04-11T23:26:59,040117700+00:00 - iot-server/finish 1 0\\n2021-04-11T23:26:59,043893400+00:00 - Exit code 1 is normal. Not restarting iot-server.\\nStarting gunicorn 19.9.0\\nListening at: http://127.0.0.1:31311 (72)\\nUsing worker: sync\\nworker timeout is set to 300\\nBooting worker with pid: 99\\nSPARK_HOME not set. Skipping PySpark Initialization.\\nGenerating new fontManager, this may take some time...\\nInitializing logger\\n2021-04-11 23:27:01,762 | root | INFO | Starting up app insights client\\n2021-04-11 23:27:01,763 | root | INFO | Starting up request id generator\\n2021-04-11 23:27:01,763 | root | INFO | Starting up app insight hooks\\n2021-04-11 23:27:01,763 | root | INFO | Invoking user\\'s init function\\n2021-04-11 23:27:06,892 | azureml.core | WARNING | Failure while loading azureml_run_type_providers. Failed to load entrypoint automl = azureml.train.automl.run:AutoMLRun._from_run_dto with exception cannot import name \\'RunType\\'.\\nFailure while loading azureml_run_type_providers. Failed to load entrypoint automl = azureml.train.automl.run:AutoMLRun._from_run_dto with exception cannot import name \\'RunType\\'.\\n2021-04-11 23:27:07,565 | root | INFO | Users\\'s init has completed successfully\\n2021-04-11 23:27:07,571 | root | INFO | Skipping middleware: dbg_model_info as it\\'s not enabled.\\n2021-04-11 23:27:07,571 | root | INFO | Skipping middleware: dbg_resource_usage as it\\'s not enabled.\\n2021-04-11 23:27:07,573 | root | INFO | Scoring timeout is found from os.environ: 60000 ms\\n2021-04-11 23:27:07,629 | root | INFO | 200\\n127.0.0.1 - - [11/Apr/2021:23:27:07 +0000] \"GET /swagger.json HTTP/1.0\" 200 3740 \"-\" \"Go-http-client/1.1\"\\n2021-04-11 23:27:11,537 | root | INFO | 200\\n127.0.0.1 - - [11/Apr/2021:23:27:11 +0000] \"GET /swagger.json HTTP/1.0\" 200 3740 \"-\" \"Go-http-client/1.1\"\\n2021-04-11 23:27:11,781 | root | INFO | Validation Request Content-Type\\n2021-04-11 23:27:11,781 | root | INFO | Scoring Timer is set to 60.0 seconds\\n2021-04-11 23:27:12,118 | root | INFO | 200\\n127.0.0.1 - - [11/Apr/2021:23:27:12 +0000] \"POST /score HTTP/1.0\" 200 64 \"-\" \"python-requests/2.25.1\"\\n'"
          },
          "metadata": {}
        }
      ],
      "execution_count": 31,
      "metadata": {
        "jupyter": {
          "outputs_hidden": false,
          "source_hidden": false
        },
        "nteract": {
          "transient": {
            "deleting": false
          }
        },
        "gather": {
          "logged": 1618183632475
        }
      }
    },
    {
      "cell_type": "code",
      "source": [
        "service.delete()"
      ],
      "outputs": [],
      "execution_count": 32,
      "metadata": {
        "collapsed": true,
        "jupyter": {
          "source_hidden": false,
          "outputs_hidden": false
        },
        "nteract": {
          "transient": {
            "deleting": false
          }
        },
        "gather": {
          "logged": 1618183633889
        }
      }
    },
    {
      "cell_type": "code",
      "source": [],
      "outputs": [],
      "execution_count": null,
      "metadata": {
        "collapsed": true,
        "jupyter": {
          "source_hidden": false,
          "outputs_hidden": false
        },
        "nteract": {
          "transient": {
            "deleting": false
          }
        }
      }
    },
    {
      "cell_type": "code",
      "source": [],
      "outputs": [],
      "execution_count": null,
      "metadata": {
        "collapsed": true,
        "jupyter": {
          "source_hidden": false,
          "outputs_hidden": false
        },
        "nteract": {
          "transient": {
            "deleting": false
          }
        }
      }
    },
    {
      "cell_type": "code",
      "source": [],
      "outputs": [],
      "execution_count": null,
      "metadata": {
        "collapsed": true,
        "jupyter": {
          "source_hidden": false,
          "outputs_hidden": false
        },
        "nteract": {
          "transient": {
            "deleting": false
          }
        }
      }
    },
    {
      "cell_type": "code",
      "source": [],
      "outputs": [],
      "execution_count": null,
      "metadata": {
        "collapsed": true,
        "jupyter": {
          "source_hidden": false,
          "outputs_hidden": false
        },
        "nteract": {
          "transient": {
            "deleting": false
          }
        }
      }
    },
    {
      "cell_type": "code",
      "source": [],
      "outputs": [],
      "execution_count": null,
      "metadata": {
        "collapsed": true,
        "jupyter": {
          "source_hidden": false,
          "outputs_hidden": false
        },
        "nteract": {
          "transient": {
            "deleting": false
          }
        }
      }
    },
    {
      "cell_type": "code",
      "source": [],
      "outputs": [],
      "execution_count": null,
      "metadata": {
        "collapsed": true,
        "jupyter": {
          "source_hidden": false,
          "outputs_hidden": false
        },
        "nteract": {
          "transient": {
            "deleting": false
          }
        }
      }
    },
    {
      "cell_type": "code",
      "source": [],
      "outputs": [],
      "execution_count": null,
      "metadata": {
        "collapsed": true,
        "jupyter": {
          "source_hidden": false,
          "outputs_hidden": false
        },
        "nteract": {
          "transient": {
            "deleting": false
          }
        }
      }
    },
    {
      "cell_type": "code",
      "source": [],
      "outputs": [],
      "execution_count": null,
      "metadata": {
        "collapsed": true,
        "jupyter": {
          "source_hidden": false,
          "outputs_hidden": false
        },
        "nteract": {
          "transient": {
            "deleting": false
          }
        }
      }
    }
  ],
  "metadata": {
    "kernel_info": {
      "name": "python3"
    },
    "kernelspec": {
      "name": "python3",
      "language": "python",
      "display_name": "Python 3"
    },
    "language_info": {
      "name": "python",
      "version": "3.6.9",
      "mimetype": "text/x-python",
      "codemirror_mode": {
        "name": "ipython",
        "version": 3
      },
      "pygments_lexer": "ipython3",
      "nbconvert_exporter": "python",
      "file_extension": ".py"
    },
    "nteract": {
      "version": "nteract-front-end@1.0.0"
    },
    "microsoft": {
      "host": {
        "AzureML": {
          "notebookHasBeenCompleted": true
        }
      }
    }
  },
  "nbformat": 4,
  "nbformat_minor": 2
}