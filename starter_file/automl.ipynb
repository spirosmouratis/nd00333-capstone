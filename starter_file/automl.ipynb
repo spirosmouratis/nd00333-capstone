{
  "cells": [
    {
      "cell_type": "markdown",
      "source": [
        "# Automated ML\n",
        "\n",
        "TODO: Import Dependencies. In the cell below, import all the dependencies that you will need to complete the project."
      ],
      "metadata": {}
    },
    {
      "cell_type": "code",
      "source": [
        "import azureml\r\n",
        "from azureml.core.experiment import Experiment\r\n",
        "from azureml.core.workspace import Workspace\r\n",
        "from azureml.core.compute import AmlCompute\r\n",
        "from azureml.core.compute import ComputeTarget\r\n",
        "from azureml.core.compute_target import ComputeTargetException\r\n",
        "from azureml.train.automl import AutoMLConfig\r\n",
        "from azureml.widgets import RunDetails\r\n",
        "\r\n",
        "print(\"SDK version:\", azureml.core.VERSION)"
      ],
      "outputs": [
        {
          "output_type": "stream",
          "name": "stdout",
          "text": [
            "SDK version: 1.24.0\n"
          ]
        }
      ],
      "execution_count": 1,
      "metadata": {
        "gather": {
          "logged": 1618006177771
        },
        "jupyter": {
          "outputs_hidden": false,
          "source_hidden": false
        },
        "nteract": {
          "transient": {
            "deleting": false
          }
        }
      }
    },
    {
      "cell_type": "markdown",
      "source": [
        "## Dataset\n",
        "\n",
        "### Overview\n",
        "TODO: In this markdown cell, give an overview of the dataset you are using. Also mention the task you will be performing.\n",
        "\n",
        "The dataset we are using here is the \"hottest\" dataset in Kaggle for credit card fraud detection.<br>\n",
        "The target of problem is to identify based on the given features if a transaction is fraudulent or not. <br>\n",
        "The dataset contains only numerical input variables which are a result of a PCA transformation. <br>\n",
        "This means that the datset does not require any cleaning, nomralisation or any kind of encoding. <br>\n",
        "\n",
        "TODO: Get data. In the cell below, write code to access the data you will be using in this project. Remember that the dataset needs to be external."
      ],
      "metadata": {}
    },
    {
      "cell_type": "code",
      "source": [
        "ws = Workspace.from_config()\n",
        "\n",
        "# choose a name for experiment\n",
        "experiment_name = 'capstone-fraud-credit-exp'\n",
        "\n",
        "experiment=Experiment(ws, experiment_name)"
      ],
      "outputs": [
        {
          "output_type": "stream",
          "name": "stdout",
          "text": [
            "Performing interactive authentication. Please follow the instructions on the terminal.\n",
            "To sign in, use a web browser to open the page https://microsoft.com/devicelogin and enter the code AUPY27XU8 to authenticate.\n",
            "You have logged in. Now let us find all the subscriptions to which you have access...\n",
            "Interactive authentication successfully completed.\n"
          ]
        }
      ],
      "execution_count": 2,
      "metadata": {
        "gather": {
          "logged": 1618006254252
        },
        "jupyter": {
          "outputs_hidden": false,
          "source_hidden": false
        },
        "nteract": {
          "transient": {
            "deleting": false
          }
        }
      }
    },
    {
      "cell_type": "markdown",
      "source": [
        "In the cell below we are creating a cluster to run our AutoML experiment"
      ],
      "metadata": {
        "nteract": {
          "transient": {
            "deleting": false
          }
        }
      }
    },
    {
      "cell_type": "code",
      "source": [
        "# NOTE: update the cluster name to match the existing cluster\r\n",
        "# Choose a name for your CPU cluster\r\n",
        "amlcompute_cluster_name = \"auto-ml\"\r\n",
        "\r\n",
        "# Verify that cluster does not exist already\r\n",
        "try:\r\n",
        "    compute_target = ComputeTarget(workspace=ws, name=amlcompute_cluster_name)\r\n",
        "    print('Found existing cluster, use it.')\r\n",
        "except ComputeTargetException:\r\n",
        "    compute_config = AmlCompute.provisioning_configuration(vm_size='STANDARD_DS12_V2',# for GPU, use \"STANDARD_NC6\"\r\n",
        "                                                           #vm_priority = 'lowpriority', # optional\r\n",
        "                                                           max_nodes=4)\r\n",
        "    compute_target = ComputeTarget.create(ws, amlcompute_cluster_name, compute_config)\r\n",
        "\r\n",
        "compute_target.wait_for_completion(show_output=True, min_node_count = 1, timeout_in_minutes = 10)\r\n",
        "# For a more detailed view of current AmlCompute status, use get_status()."
      ],
      "outputs": [
        {
          "output_type": "stream",
          "name": "stdout",
          "text": [
            "Creating....\n",
            "SucceededProvisioning operation finished, operation \"Succeeded\"\n",
            "Succeeded.....................................................................................................................\n",
            "AmlCompute wait for completion finished\n",
            "\n",
            "Wait timeout has been reached\n",
            "Current provisioning state of AmlCompute is \"Succeeded\" and current node count is \"0\"\n"
          ]
        }
      ],
      "execution_count": 3,
      "metadata": {
        "collapsed": true,
        "jupyter": {
          "source_hidden": false,
          "outputs_hidden": false
        },
        "nteract": {
          "transient": {
            "deleting": false
          }
        },
        "gather": {
          "logged": 1618006886225
        }
      }
    },
    {
      "cell_type": "markdown",
      "source": [
        "In the cell below we read the data if they are already saved in the Workspace <br>\r\n",
        "If they are not then we can download the data from a URL <br>\r\n",
        "Here the URL thought doesn't work properly so it's in comments <br>"
      ],
      "metadata": {
        "nteract": {
          "transient": {
            "deleting": false
          }
        }
      }
    },
    {
      "cell_type": "code",
      "source": [
        "# Try to load the dataset from the Workspace. Otherwise, create it from the file\r\n",
        "# NOTE: update the key to match the dataset name\r\n",
        "found = False\r\n",
        "key = \"fraud-capstone\"\r\n",
        "description_text = \"Credit Card Fraud Detection Data\"\r\n",
        "\r\n",
        "if key in ws.datasets.keys(): \r\n",
        "        found = True\r\n",
        "        dataset = ws.datasets[key] \r\n",
        "\r\n",
        "# if not found:\r\n",
        "#         # Create AML Dataset and register it into Workspace\r\n",
        "#         example_data = 'https://drive.google.com/file/d/1qEMDzGfw-iT4H127-ph3h_gmUfrSocpQ/view?usp=sharing'\r\n",
        "#         dataset = Dataset.Tabular.from_delimited_files(example_data)        \r\n",
        "#         #Register Dataset in Workspace\r\n",
        "#         dataset = dataset.register(workspace=ws,\r\n",
        "#                                    name=key,\r\n",
        "#                                    description=description_text)\r\n",
        "\r\n",
        "\r\n",
        "df = dataset.to_pandas_dataframe()\r\n",
        "df.describe()"
      ],
      "outputs": [
        {
          "output_type": "execute_result",
          "execution_count": 4,
          "data": {
            "text/plain": "                Time            V1            V2            V3            V4  \\\ncount  284806.000000  2.848070e+05  2.848070e+05  2.848070e+05  2.848070e+05   \nmean    94813.841366  3.918649e-15  5.682686e-16 -8.761736e-15  2.811118e-15   \nstd     47488.228330  1.958696e+00  1.651309e+00  1.516255e+00  1.415869e+00   \nmin         0.000000 -5.640751e+01 -7.271573e+01 -4.832559e+01 -5.683171e+00   \n25%     54201.250000 -9.203734e-01 -5.985499e-01 -8.903648e-01 -8.486401e-01   \n50%     84691.500000  1.810880e-02  6.548556e-02  1.798463e-01 -1.984653e-02   \n75%    139320.750000  1.315642e+00  8.037239e-01  1.027196e+00  7.433413e-01   \nmax    172792.000000  2.454930e+00  2.205773e+01  9.382558e+00  1.687534e+01   \n\n                 V5            V6            V7            V8            V9  \\\ncount  2.848070e+05  2.848070e+05  2.848070e+05  2.848070e+05  2.848070e+05   \nmean  -1.552103e-15  2.040130e-15 -1.698953e-15 -1.958151e-16 -3.147640e-15   \nstd    1.380247e+00  1.332271e+00  1.237094e+00  1.194353e+00  1.098632e+00   \nmin   -1.137433e+02 -2.616051e+01 -4.355724e+01 -7.321672e+01 -1.343407e+01   \n25%   -6.915971e-01 -7.682956e-01 -5.540759e-01 -2.086297e-01 -6.430976e-01   \n50%   -5.433583e-02 -2.741871e-01  4.010308e-02  2.235804e-02 -5.142873e-02   \n75%    6.119264e-01  3.985649e-01  5.704361e-01  3.273459e-01  5.971390e-01   \nmax    3.480167e+01  7.330163e+01  1.205895e+02  2.000721e+01  1.559499e+01   \n\n       ...           V21           V22           V23           V24  \\\ncount  ...  2.848070e+05  2.848070e+05  2.848070e+05  2.848070e+05   \nmean   ...  1.471982e-16  8.042109e-16  5.282450e-16  4.458267e-15   \nstd    ...  7.345240e-01  7.257016e-01  6.244603e-01  6.056471e-01   \nmin    ... -3.483038e+01 -1.093314e+01 -4.480774e+01 -2.836627e+00   \n25%    ... -2.283949e-01 -5.423504e-01 -1.618463e-01 -3.545861e-01   \n50%    ... -2.945017e-02  6.781943e-03 -1.119293e-02  4.097606e-02   \n75%    ...  1.863772e-01  5.285536e-01  1.476421e-01  4.395266e-01   \nmax    ...  2.720284e+01  1.050309e+01  2.252841e+01  4.584549e+00   \n\n                V25           V26           V27           V28         Amount  \\\ncount  2.848070e+05  2.848070e+05  2.848070e+05  2.848070e+05  284807.000000   \nmean   1.426896e-15  1.701640e-15 -3.671606e-16 -1.218152e-16      88.349619   \nstd    5.212781e-01  4.822270e-01  4.036325e-01  3.300833e-01     250.120109   \nmin   -1.029540e+01 -2.604551e+00 -2.256568e+01 -1.543008e+01       0.000000   \n25%   -3.171451e-01 -3.269839e-01 -7.083953e-02 -5.295979e-02       5.600000   \n50%    1.659350e-02 -5.213911e-02  1.342146e-03  1.124383e-02      22.000000   \n75%    3.507156e-01  2.409522e-01  9.104512e-02  7.827995e-02      77.165000   \nmax    7.519589e+00  3.517346e+00  3.161220e+01  3.384781e+01   25691.160000   \n\n               Class  \ncount  284807.000000  \nmean        0.001727  \nstd         0.041527  \nmin         0.000000  \n25%         0.000000  \n50%         0.000000  \n75%         0.000000  \nmax         1.000000  \n\n[8 rows x 31 columns]",
            "text/html": "<div>\n<style scoped>\n    .dataframe tbody tr th:only-of-type {\n        vertical-align: middle;\n    }\n\n    .dataframe tbody tr th {\n        vertical-align: top;\n    }\n\n    .dataframe thead th {\n        text-align: right;\n    }\n</style>\n<table border=\"1\" class=\"dataframe\">\n  <thead>\n    <tr style=\"text-align: right;\">\n      <th></th>\n      <th>Time</th>\n      <th>V1</th>\n      <th>V2</th>\n      <th>V3</th>\n      <th>V4</th>\n      <th>V5</th>\n      <th>V6</th>\n      <th>V7</th>\n      <th>V8</th>\n      <th>V9</th>\n      <th>...</th>\n      <th>V21</th>\n      <th>V22</th>\n      <th>V23</th>\n      <th>V24</th>\n      <th>V25</th>\n      <th>V26</th>\n      <th>V27</th>\n      <th>V28</th>\n      <th>Amount</th>\n      <th>Class</th>\n    </tr>\n  </thead>\n  <tbody>\n    <tr>\n      <th>count</th>\n      <td>284806.000000</td>\n      <td>2.848070e+05</td>\n      <td>2.848070e+05</td>\n      <td>2.848070e+05</td>\n      <td>2.848070e+05</td>\n      <td>2.848070e+05</td>\n      <td>2.848070e+05</td>\n      <td>2.848070e+05</td>\n      <td>2.848070e+05</td>\n      <td>2.848070e+05</td>\n      <td>...</td>\n      <td>2.848070e+05</td>\n      <td>2.848070e+05</td>\n      <td>2.848070e+05</td>\n      <td>2.848070e+05</td>\n      <td>2.848070e+05</td>\n      <td>2.848070e+05</td>\n      <td>2.848070e+05</td>\n      <td>2.848070e+05</td>\n      <td>284807.000000</td>\n      <td>284807.000000</td>\n    </tr>\n    <tr>\n      <th>mean</th>\n      <td>94813.841366</td>\n      <td>3.918649e-15</td>\n      <td>5.682686e-16</td>\n      <td>-8.761736e-15</td>\n      <td>2.811118e-15</td>\n      <td>-1.552103e-15</td>\n      <td>2.040130e-15</td>\n      <td>-1.698953e-15</td>\n      <td>-1.958151e-16</td>\n      <td>-3.147640e-15</td>\n      <td>...</td>\n      <td>1.471982e-16</td>\n      <td>8.042109e-16</td>\n      <td>5.282450e-16</td>\n      <td>4.458267e-15</td>\n      <td>1.426896e-15</td>\n      <td>1.701640e-15</td>\n      <td>-3.671606e-16</td>\n      <td>-1.218152e-16</td>\n      <td>88.349619</td>\n      <td>0.001727</td>\n    </tr>\n    <tr>\n      <th>std</th>\n      <td>47488.228330</td>\n      <td>1.958696e+00</td>\n      <td>1.651309e+00</td>\n      <td>1.516255e+00</td>\n      <td>1.415869e+00</td>\n      <td>1.380247e+00</td>\n      <td>1.332271e+00</td>\n      <td>1.237094e+00</td>\n      <td>1.194353e+00</td>\n      <td>1.098632e+00</td>\n      <td>...</td>\n      <td>7.345240e-01</td>\n      <td>7.257016e-01</td>\n      <td>6.244603e-01</td>\n      <td>6.056471e-01</td>\n      <td>5.212781e-01</td>\n      <td>4.822270e-01</td>\n      <td>4.036325e-01</td>\n      <td>3.300833e-01</td>\n      <td>250.120109</td>\n      <td>0.041527</td>\n    </tr>\n    <tr>\n      <th>min</th>\n      <td>0.000000</td>\n      <td>-5.640751e+01</td>\n      <td>-7.271573e+01</td>\n      <td>-4.832559e+01</td>\n      <td>-5.683171e+00</td>\n      <td>-1.137433e+02</td>\n      <td>-2.616051e+01</td>\n      <td>-4.355724e+01</td>\n      <td>-7.321672e+01</td>\n      <td>-1.343407e+01</td>\n      <td>...</td>\n      <td>-3.483038e+01</td>\n      <td>-1.093314e+01</td>\n      <td>-4.480774e+01</td>\n      <td>-2.836627e+00</td>\n      <td>-1.029540e+01</td>\n      <td>-2.604551e+00</td>\n      <td>-2.256568e+01</td>\n      <td>-1.543008e+01</td>\n      <td>0.000000</td>\n      <td>0.000000</td>\n    </tr>\n    <tr>\n      <th>25%</th>\n      <td>54201.250000</td>\n      <td>-9.203734e-01</td>\n      <td>-5.985499e-01</td>\n      <td>-8.903648e-01</td>\n      <td>-8.486401e-01</td>\n      <td>-6.915971e-01</td>\n      <td>-7.682956e-01</td>\n      <td>-5.540759e-01</td>\n      <td>-2.086297e-01</td>\n      <td>-6.430976e-01</td>\n      <td>...</td>\n      <td>-2.283949e-01</td>\n      <td>-5.423504e-01</td>\n      <td>-1.618463e-01</td>\n      <td>-3.545861e-01</td>\n      <td>-3.171451e-01</td>\n      <td>-3.269839e-01</td>\n      <td>-7.083953e-02</td>\n      <td>-5.295979e-02</td>\n      <td>5.600000</td>\n      <td>0.000000</td>\n    </tr>\n    <tr>\n      <th>50%</th>\n      <td>84691.500000</td>\n      <td>1.810880e-02</td>\n      <td>6.548556e-02</td>\n      <td>1.798463e-01</td>\n      <td>-1.984653e-02</td>\n      <td>-5.433583e-02</td>\n      <td>-2.741871e-01</td>\n      <td>4.010308e-02</td>\n      <td>2.235804e-02</td>\n      <td>-5.142873e-02</td>\n      <td>...</td>\n      <td>-2.945017e-02</td>\n      <td>6.781943e-03</td>\n      <td>-1.119293e-02</td>\n      <td>4.097606e-02</td>\n      <td>1.659350e-02</td>\n      <td>-5.213911e-02</td>\n      <td>1.342146e-03</td>\n      <td>1.124383e-02</td>\n      <td>22.000000</td>\n      <td>0.000000</td>\n    </tr>\n    <tr>\n      <th>75%</th>\n      <td>139320.750000</td>\n      <td>1.315642e+00</td>\n      <td>8.037239e-01</td>\n      <td>1.027196e+00</td>\n      <td>7.433413e-01</td>\n      <td>6.119264e-01</td>\n      <td>3.985649e-01</td>\n      <td>5.704361e-01</td>\n      <td>3.273459e-01</td>\n      <td>5.971390e-01</td>\n      <td>...</td>\n      <td>1.863772e-01</td>\n      <td>5.285536e-01</td>\n      <td>1.476421e-01</td>\n      <td>4.395266e-01</td>\n      <td>3.507156e-01</td>\n      <td>2.409522e-01</td>\n      <td>9.104512e-02</td>\n      <td>7.827995e-02</td>\n      <td>77.165000</td>\n      <td>0.000000</td>\n    </tr>\n    <tr>\n      <th>max</th>\n      <td>172792.000000</td>\n      <td>2.454930e+00</td>\n      <td>2.205773e+01</td>\n      <td>9.382558e+00</td>\n      <td>1.687534e+01</td>\n      <td>3.480167e+01</td>\n      <td>7.330163e+01</td>\n      <td>1.205895e+02</td>\n      <td>2.000721e+01</td>\n      <td>1.559499e+01</td>\n      <td>...</td>\n      <td>2.720284e+01</td>\n      <td>1.050309e+01</td>\n      <td>2.252841e+01</td>\n      <td>4.584549e+00</td>\n      <td>7.519589e+00</td>\n      <td>3.517346e+00</td>\n      <td>3.161220e+01</td>\n      <td>3.384781e+01</td>\n      <td>25691.160000</td>\n      <td>1.000000</td>\n    </tr>\n  </tbody>\n</table>\n<p>8 rows × 31 columns</p>\n</div>"
          },
          "metadata": {}
        }
      ],
      "execution_count": 4,
      "metadata": {
        "collapsed": true,
        "jupyter": {
          "source_hidden": false,
          "outputs_hidden": false
        },
        "nteract": {
          "transient": {
            "deleting": false
          }
        },
        "gather": {
          "logged": 1618006903185
        }
      }
    },
    {
      "cell_type": "markdown",
      "source": [
        "## AutoML Configuration\n",
        "\n",
        "TODO: Explain why you chose the automl settings and cofiguration you used below.\n",
        "\n",
        "I am giving the experiment a timeout after 30 minutes <br>\n",
        "It can run up to 5 Runs at the same time <br>\n",
        "Because the dataset is highly imbalanced we use AUC and its weighted <br>\n",
        "The problem is a binary classification <br>\n",
        "XGboostClassifier was giving me an error so I removed it <br>"
      ],
      "metadata": {}
    },
    {
      "cell_type": "code",
      "source": [
        "# TODO: Put your automl settings here\n",
        "automl_settings = {\n",
        "    \"experiment_timeout_minutes\": 30,\n",
        "    \"max_concurrent_iterations\": 5,\n",
        "    \"primary_metric\" : 'AUC_weighted'\n",
        "}\n",
        "\n",
        "# TODO: Put your automl config here\n",
        "automl_config = AutoMLConfig(compute_target=compute_target,\n",
        "                             task = \"classification\",\n",
        "                             training_data=dataset,\n",
        "                             label_column_name=\"Class\",   \n",
        "                             enable_early_stopping= True,\n",
        "                             featurization= 'auto',\n",
        "                             debug_log = \"automl_errors.log\",\n",
        "                             blocked_models=[\"XGBoostClassifier\"],\n",
        "                             **automl_settings\n",
        "                            )"
      ],
      "outputs": [],
      "execution_count": 5,
      "metadata": {
        "gather": {
          "logged": 1618006903250
        },
        "jupyter": {
          "outputs_hidden": false,
          "source_hidden": false
        },
        "nteract": {
          "transient": {
            "deleting": false
          }
        }
      }
    },
    {
      "cell_type": "code",
      "source": [
        "# TODO: Submit your experiment\n",
        "remote_run = experiment.submit(automl_config)"
      ],
      "outputs": [
        {
          "output_type": "stream",
          "name": "stdout",
          "text": [
            "Running on remote.\n"
          ]
        }
      ],
      "execution_count": 6,
      "metadata": {
        "gather": {
          "logged": 1618006909528
        },
        "jupyter": {
          "outputs_hidden": false,
          "source_hidden": false
        },
        "nteract": {
          "transient": {
            "deleting": false
          }
        }
      }
    },
    {
      "cell_type": "markdown",
      "source": [
        "## Run Details\n",
        "\n",
        "OPTIONAL: Write about the different models trained and their performance. Why do you think some models did better than others?\n",
        "\n",
        "TODO: In the cell below, use the `RunDetails` widget to show the different experiments."
      ],
      "metadata": {}
    },
    {
      "cell_type": "code",
      "source": [
        "# submit script to AML\r\n",
        "RunDetails(remote_run).show()"
      ],
      "outputs": [
        {
          "output_type": "display_data",
          "data": {
            "text/plain": "_AutoMLWidget(widget_settings={'childWidgetDisplay': 'popup', 'send_telemetry': False, 'log_level': 'INFO', 's…",
            "application/vnd.jupyter.widget-view+json": {
              "version_major": 2,
              "version_minor": 0,
              "model_id": "b223cbee3f7445dab61b8fb01bfae4f0"
            }
          },
          "metadata": {}
        },
        {
          "output_type": "display_data",
          "data": {
            "application/aml.mini.widget.v1": "{\"status\": \"Completed\", \"workbench_run_details_uri\": \"https://ml.azure.com/experiments/capstone-fraud-credit-exp/runs/AutoML_4b044773-3eab-4b65-99fa-d34196707638?wsid=/subscriptions/510b94ba-e453-4417-988b-fbdc37b55ca7/resourcegroups/aml-quickstarts-142315/workspaces/quick-starts-ws-142315\", \"run_id\": \"AutoML_4b044773-3eab-4b65-99fa-d34196707638\", \"run_properties\": {\"run_id\": \"AutoML_4b044773-3eab-4b65-99fa-d34196707638\", \"created_utc\": \"2021-04-09T22:21:47.332103Z\", \"properties\": {\"num_iterations\": \"1000\", \"training_type\": \"TrainFull\", \"acquisition_function\": \"EI\", \"primary_metric\": \"AUC_weighted\", \"train_split\": \"0\", \"acquisition_parameter\": \"0\", \"num_cross_validation\": null, \"target\": \"auto-ml\", \"AMLSettingsJsonString\": \"{\\\"path\\\":null,\\\"name\\\":\\\"capstone-fraud-credit-exp\\\",\\\"subscription_id\\\":\\\"510b94ba-e453-4417-988b-fbdc37b55ca7\\\",\\\"resource_group\\\":\\\"aml-quickstarts-142315\\\",\\\"workspace_name\\\":\\\"quick-starts-ws-142315\\\",\\\"region\\\":\\\"southcentralus\\\",\\\"compute_target\\\":\\\"auto-ml\\\",\\\"spark_service\\\":null,\\\"azure_service\\\":\\\"remote\\\",\\\"many_models\\\":false,\\\"pipeline_fetch_max_batch_size\\\":1,\\\"enable_batch_run\\\":false,\\\"iterations\\\":1000,\\\"primary_metric\\\":\\\"AUC_weighted\\\",\\\"task_type\\\":\\\"classification\\\",\\\"data_script\\\":null,\\\"validation_size\\\":0.0,\\\"n_cross_validations\\\":null,\\\"y_min\\\":null,\\\"y_max\\\":null,\\\"num_classes\\\":null,\\\"featurization\\\":\\\"auto\\\",\\\"_ignore_package_version_incompatibilities\\\":false,\\\"is_timeseries\\\":false,\\\"max_cores_per_iteration\\\":1,\\\"max_concurrent_iterations\\\":5,\\\"iteration_timeout_minutes\\\":null,\\\"mem_in_mb\\\":null,\\\"enforce_time_on_windows\\\":false,\\\"experiment_timeout_minutes\\\":30,\\\"experiment_exit_score\\\":null,\\\"whitelist_models\\\":null,\\\"blacklist_algos\\\":[\\\"XGBoostClassifier\\\",\\\"TensorFlowLinearClassifier\\\",\\\"TensorFlowDNN\\\"],\\\"supported_models\\\":[\\\"TensorFlowDNN\\\",\\\"TensorFlowLinearClassifier\\\",\\\"LightGBM\\\",\\\"ExtremeRandomTrees\\\",\\\"MultinomialNaiveBayes\\\",\\\"SVM\\\",\\\"SGD\\\",\\\"XGBoostClassifier\\\",\\\"LinearSVM\\\",\\\"LogisticRegression\\\",\\\"AveragedPerceptronClassifier\\\",\\\"KNN\\\",\\\"DecisionTree\\\",\\\"BernoulliNaiveBayes\\\",\\\"RandomForest\\\",\\\"GradientBoosting\\\"],\\\"private_models\\\":[],\\\"auto_blacklist\\\":true,\\\"blacklist_samples_reached\\\":false,\\\"exclude_nan_labels\\\":true,\\\"verbosity\\\":20,\\\"_debug_log\\\":\\\"azureml_automl.log\\\",\\\"show_warnings\\\":false,\\\"model_explainability\\\":true,\\\"service_url\\\":null,\\\"sdk_url\\\":null,\\\"sdk_packages\\\":null,\\\"enable_onnx_compatible_models\\\":false,\\\"enable_split_onnx_featurizer_estimator_models\\\":false,\\\"vm_type\\\":\\\"STANDARD_DS12_V2\\\",\\\"telemetry_verbosity\\\":20,\\\"send_telemetry\\\":true,\\\"enable_dnn\\\":false,\\\"scenario\\\":\\\"SDK-1.13.0\\\",\\\"environment_label\\\":null,\\\"save_mlflow\\\":false,\\\"force_text_dnn\\\":false,\\\"enable_feature_sweeping\\\":true,\\\"enable_early_stopping\\\":true,\\\"early_stopping_n_iters\\\":10,\\\"metrics\\\":null,\\\"enable_metric_confidence\\\":false,\\\"enable_ensembling\\\":true,\\\"enable_stack_ensembling\\\":true,\\\"ensemble_iterations\\\":15,\\\"enable_tf\\\":false,\\\"enable_subsampling\\\":null,\\\"subsample_seed\\\":null,\\\"enable_nimbusml\\\":false,\\\"enable_streaming\\\":false,\\\"force_streaming\\\":false,\\\"track_child_runs\\\":true,\\\"allowed_private_models\\\":[],\\\"label_column_name\\\":\\\"Class\\\",\\\"weight_column_name\\\":null,\\\"cv_split_column_names\\\":null,\\\"enable_local_managed\\\":false,\\\"_local_managed_run_id\\\":null,\\\"cost_mode\\\":1,\\\"lag_length\\\":0,\\\"metric_operation\\\":\\\"maximize\\\",\\\"preprocess\\\":true}\", \"DataPrepJsonString\": \"{\\\\\\\"training_data\\\\\\\": \\\\\\\"{\\\\\\\\\\\\\\\"blocks\\\\\\\\\\\\\\\": [{\\\\\\\\\\\\\\\"id\\\\\\\\\\\\\\\": \\\\\\\\\\\\\\\"5d58a5f4-911c-4f18-9b31-43b7a4e16158\\\\\\\\\\\\\\\", \\\\\\\\\\\\\\\"type\\\\\\\\\\\\\\\": \\\\\\\\\\\\\\\"Microsoft.DPrep.GetDatastoreFilesBlock\\\\\\\\\\\\\\\", \\\\\\\\\\\\\\\"arguments\\\\\\\\\\\\\\\": {\\\\\\\\\\\\\\\"datastores\\\\\\\\\\\\\\\": [{\\\\\\\\\\\\\\\"datastoreName\\\\\\\\\\\\\\\": \\\\\\\\\\\\\\\"workspaceblobstore\\\\\\\\\\\\\\\", \\\\\\\\\\\\\\\"path\\\\\\\\\\\\\\\": \\\\\\\\\\\\\\\"UI/04-09-2021_100641_UTC/creditcard.csv\\\\\\\\\\\\\\\", \\\\\\\\\\\\\\\"resourceGroup\\\\\\\\\\\\\\\": \\\\\\\\\\\\\\\"aml-quickstarts-142315\\\\\\\\\\\\\\\", \\\\\\\\\\\\\\\"subscription\\\\\\\\\\\\\\\": \\\\\\\\\\\\\\\"510b94ba-e453-4417-988b-fbdc37b55ca7\\\\\\\\\\\\\\\", \\\\\\\\\\\\\\\"workspaceName\\\\\\\\\\\\\\\": \\\\\\\\\\\\\\\"quick-starts-ws-142315\\\\\\\\\\\\\\\"}]}, \\\\\\\\\\\\\\\"localData\\\\\\\\\\\\\\\": {}, \\\\\\\\\\\\\\\"isEnabled\\\\\\\\\\\\\\\": true, \\\\\\\\\\\\\\\"name\\\\\\\\\\\\\\\": null, \\\\\\\\\\\\\\\"annotation\\\\\\\\\\\\\\\": null}, {\\\\\\\\\\\\\\\"id\\\\\\\\\\\\\\\": \\\\\\\\\\\\\\\"c69f8110-087a-46b0-8a54-ec7bc4de0e2d\\\\\\\\\\\\\\\", \\\\\\\\\\\\\\\"type\\\\\\\\\\\\\\\": \\\\\\\\\\\\\\\"Microsoft.DPrep.ParseDelimitedBlock\\\\\\\\\\\\\\\", \\\\\\\\\\\\\\\"arguments\\\\\\\\\\\\\\\": {\\\\\\\\\\\\\\\"columnHeadersMode\\\\\\\\\\\\\\\": 1, \\\\\\\\\\\\\\\"fileEncoding\\\\\\\\\\\\\\\": 0, \\\\\\\\\\\\\\\"handleQuotedLineBreaks\\\\\\\\\\\\\\\": false, \\\\\\\\\\\\\\\"preview\\\\\\\\\\\\\\\": false, \\\\\\\\\\\\\\\"separator\\\\\\\\\\\\\\\": \\\\\\\\\\\\\\\",\\\\\\\\\\\\\\\", \\\\\\\\\\\\\\\"skipRows\\\\\\\\\\\\\\\": 0, \\\\\\\\\\\\\\\"skipRowsMode\\\\\\\\\\\\\\\": 0}, \\\\\\\\\\\\\\\"localData\\\\\\\\\\\\\\\": {}, \\\\\\\\\\\\\\\"isEnabled\\\\\\\\\\\\\\\": true, \\\\\\\\\\\\\\\"name\\\\\\\\\\\\\\\": null, \\\\\\\\\\\\\\\"annotation\\\\\\\\\\\\\\\": null}, {\\\\\\\\\\\\\\\"id\\\\\\\\\\\\\\\": \\\\\\\\\\\\\\\"7ce6f8ff-a135-4ded-9df6-f245d787d99e\\\\\\\\\\\\\\\", \\\\\\\\\\\\\\\"type\\\\\\\\\\\\\\\": \\\\\\\\\\\\\\\"Microsoft.DPrep.DropColumnsBlock\\\\\\\\\\\\\\\", \\\\\\\\\\\\\\\"arguments\\\\\\\\\\\\\\\": {\\\\\\\\\\\\\\\"columns\\\\\\\\\\\\\\\": {\\\\\\\\\\\\\\\"type\\\\\\\\\\\\\\\": 0, \\\\\\\\\\\\\\\"details\\\\\\\\\\\\\\\": {\\\\\\\\\\\\\\\"selectedColumns\\\\\\\\\\\\\\\": [\\\\\\\\\\\\\\\"Path\\\\\\\\\\\\\\\"]}}}, \\\\\\\\\\\\\\\"localData\\\\\\\\\\\\\\\": {}, \\\\\\\\\\\\\\\"isEnabled\\\\\\\\\\\\\\\": true, \\\\\\\\\\\\\\\"name\\\\\\\\\\\\\\\": null, \\\\\\\\\\\\\\\"annotation\\\\\\\\\\\\\\\": null}, {\\\\\\\\\\\\\\\"id\\\\\\\\\\\\\\\": \\\\\\\\\\\\\\\"a6cd4352-51f8-4878-ab67-ce295642317b\\\\\\\\\\\\\\\", \\\\\\\\\\\\\\\"type\\\\\\\\\\\\\\\": \\\\\\\\\\\\\\\"Microsoft.DPrep.SetColumnTypesBlock\\\\\\\\\\\\\\\", \\\\\\\\\\\\\\\"arguments\\\\\\\\\\\\\\\": {\\\\\\\\\\\\\\\"columnConversion\\\\\\\\\\\\\\\": [{\\\\\\\\\\\\\\\"column\\\\\\\\\\\\\\\": {\\\\\\\\\\\\\\\"type\\\\\\\\\\\\\\\": 2, \\\\\\\\\\\\\\\"details\\\\\\\\\\\\\\\": {\\\\\\\\\\\\\\\"selectedColumn\\\\\\\\\\\\\\\": \\\\\\\\\\\\\\\"Path\\\\\\\\\\\\\\\"}}, \\\\\\\\\\\\\\\"typeProperty\\\\\\\\\\\\\\\": 0}, {\\\\\\\\\\\\\\\"column\\\\\\\\\\\\\\\": {\\\\\\\\\\\\\\\"type\\\\\\\\\\\\\\\": 2, \\\\\\\\\\\\\\\"details\\\\\\\\\\\\\\\": {\\\\\\\\\\\\\\\"selectedColumn\\\\\\\\\\\\\\\": \\\\\\\\\\\\\\\"Time\\\\\\\\\\\\\\\"}}, \\\\\\\\\\\\\\\"typeProperty\\\\\\\\\\\\\\\": 2}, {\\\\\\\\\\\\\\\"column\\\\\\\\\\\\\\\": {\\\\\\\\\\\\\\\"type\\\\\\\\\\\\\\\": 2, \\\\\\\\\\\\\\\"details\\\\\\\\\\\\\\\": {\\\\\\\\\\\\\\\"selectedColumn\\\\\\\\\\\\\\\": \\\\\\\\\\\\\\\"V1\\\\\\\\\\\\\\\"}}, \\\\\\\\\\\\\\\"typeProperty\\\\\\\\\\\\\\\": 3}, {\\\\\\\\\\\\\\\"column\\\\\\\\\\\\\\\": {\\\\\\\\\\\\\\\"type\\\\\\\\\\\\\\\": 2, \\\\\\\\\\\\\\\"details\\\\\\\\\\\\\\\": {\\\\\\\\\\\\\\\"selectedColumn\\\\\\\\\\\\\\\": \\\\\\\\\\\\\\\"V2\\\\\\\\\\\\\\\"}}, \\\\\\\\\\\\\\\"typeProperty\\\\\\\\\\\\\\\": 3}, {\\\\\\\\\\\\\\\"column\\\\\\\\\\\\\\\": {\\\\\\\\\\\\\\\"type\\\\\\\\\\\\\\\": 2, \\\\\\\\\\\\\\\"details\\\\\\\\\\\\\\\": {\\\\\\\\\\\\\\\"selectedColumn\\\\\\\\\\\\\\\": \\\\\\\\\\\\\\\"V3\\\\\\\\\\\\\\\"}}, \\\\\\\\\\\\\\\"typeProperty\\\\\\\\\\\\\\\": 3}, {\\\\\\\\\\\\\\\"column\\\\\\\\\\\\\\\": {\\\\\\\\\\\\\\\"type\\\\\\\\\\\\\\\": 2, \\\\\\\\\\\\\\\"details\\\\\\\\\\\\\\\": {\\\\\\\\\\\\\\\"selectedColumn\\\\\\\\\\\\\\\": \\\\\\\\\\\\\\\"V4\\\\\\\\\\\\\\\"}}, \\\\\\\\\\\\\\\"typeProperty\\\\\\\\\\\\\\\": 3}, {\\\\\\\\\\\\\\\"column\\\\\\\\\\\\\\\": {\\\\\\\\\\\\\\\"type\\\\\\\\\\\\\\\": 2, \\\\\\\\\\\\\\\"details\\\\\\\\\\\\\\\": {\\\\\\\\\\\\\\\"selectedColumn\\\\\\\\\\\\\\\": \\\\\\\\\\\\\\\"V5\\\\\\\\\\\\\\\"}}, \\\\\\\\\\\\\\\"typeProperty\\\\\\\\\\\\\\\": 3}, {\\\\\\\\\\\\\\\"column\\\\\\\\\\\\\\\": {\\\\\\\\\\\\\\\"type\\\\\\\\\\\\\\\": 2, \\\\\\\\\\\\\\\"details\\\\\\\\\\\\\\\": {\\\\\\\\\\\\\\\"selectedColumn\\\\\\\\\\\\\\\": \\\\\\\\\\\\\\\"V6\\\\\\\\\\\\\\\"}}, \\\\\\\\\\\\\\\"typeProperty\\\\\\\\\\\\\\\": 3}, {\\\\\\\\\\\\\\\"column\\\\\\\\\\\\\\\": {\\\\\\\\\\\\\\\"type\\\\\\\\\\\\\\\": 2, \\\\\\\\\\\\\\\"details\\\\\\\\\\\\\\\": {\\\\\\\\\\\\\\\"selectedColumn\\\\\\\\\\\\\\\": \\\\\\\\\\\\\\\"V7\\\\\\\\\\\\\\\"}}, \\\\\\\\\\\\\\\"typeProperty\\\\\\\\\\\\\\\": 3}, {\\\\\\\\\\\\\\\"column\\\\\\\\\\\\\\\": {\\\\\\\\\\\\\\\"type\\\\\\\\\\\\\\\": 2, \\\\\\\\\\\\\\\"details\\\\\\\\\\\\\\\": {\\\\\\\\\\\\\\\"selectedColumn\\\\\\\\\\\\\\\": \\\\\\\\\\\\\\\"V8\\\\\\\\\\\\\\\"}}, \\\\\\\\\\\\\\\"typeProperty\\\\\\\\\\\\\\\": 3}, {\\\\\\\\\\\\\\\"column\\\\\\\\\\\\\\\": {\\\\\\\\\\\\\\\"type\\\\\\\\\\\\\\\": 2, \\\\\\\\\\\\\\\"details\\\\\\\\\\\\\\\": {\\\\\\\\\\\\\\\"selectedColumn\\\\\\\\\\\\\\\": \\\\\\\\\\\\\\\"V9\\\\\\\\\\\\\\\"}}, \\\\\\\\\\\\\\\"typeProperty\\\\\\\\\\\\\\\": 3}, {\\\\\\\\\\\\\\\"column\\\\\\\\\\\\\\\": {\\\\\\\\\\\\\\\"type\\\\\\\\\\\\\\\": 2, \\\\\\\\\\\\\\\"details\\\\\\\\\\\\\\\": {\\\\\\\\\\\\\\\"selectedColumn\\\\\\\\\\\\\\\": \\\\\\\\\\\\\\\"V10\\\\\\\\\\\\\\\"}}, \\\\\\\\\\\\\\\"typeProperty\\\\\\\\\\\\\\\": 3}, {\\\\\\\\\\\\\\\"column\\\\\\\\\\\\\\\": {\\\\\\\\\\\\\\\"type\\\\\\\\\\\\\\\": 2, \\\\\\\\\\\\\\\"details\\\\\\\\\\\\\\\": {\\\\\\\\\\\\\\\"selectedColumn\\\\\\\\\\\\\\\": \\\\\\\\\\\\\\\"V11\\\\\\\\\\\\\\\"}}, \\\\\\\\\\\\\\\"typeProperty\\\\\\\\\\\\\\\": 3}, {\\\\\\\\\\\\\\\"column\\\\\\\\\\\\\\\": {\\\\\\\\\\\\\\\"type\\\\\\\\\\\\\\\": 2, \\\\\\\\\\\\\\\"details\\\\\\\\\\\\\\\": {\\\\\\\\\\\\\\\"selectedColumn\\\\\\\\\\\\\\\": \\\\\\\\\\\\\\\"V12\\\\\\\\\\\\\\\"}}, \\\\\\\\\\\\\\\"typeProperty\\\\\\\\\\\\\\\": 3}, {\\\\\\\\\\\\\\\"column\\\\\\\\\\\\\\\": {\\\\\\\\\\\\\\\"type\\\\\\\\\\\\\\\": 2, \\\\\\\\\\\\\\\"details\\\\\\\\\\\\\\\": {\\\\\\\\\\\\\\\"selectedColumn\\\\\\\\\\\\\\\": \\\\\\\\\\\\\\\"V13\\\\\\\\\\\\\\\"}}, \\\\\\\\\\\\\\\"typeProperty\\\\\\\\\\\\\\\": 3}, {\\\\\\\\\\\\\\\"column\\\\\\\\\\\\\\\": {\\\\\\\\\\\\\\\"type\\\\\\\\\\\\\\\": 2, \\\\\\\\\\\\\\\"details\\\\\\\\\\\\\\\": {\\\\\\\\\\\\\\\"selectedColumn\\\\\\\\\\\\\\\": \\\\\\\\\\\\\\\"V14\\\\\\\\\\\\\\\"}}, \\\\\\\\\\\\\\\"typeProperty\\\\\\\\\\\\\\\": 3}, {\\\\\\\\\\\\\\\"column\\\\\\\\\\\\\\\": {\\\\\\\\\\\\\\\"type\\\\\\\\\\\\\\\": 2, \\\\\\\\\\\\\\\"details\\\\\\\\\\\\\\\": {\\\\\\\\\\\\\\\"selectedColumn\\\\\\\\\\\\\\\": \\\\\\\\\\\\\\\"V15\\\\\\\\\\\\\\\"}}, \\\\\\\\\\\\\\\"typeProperty\\\\\\\\\\\\\\\": 3}, {\\\\\\\\\\\\\\\"column\\\\\\\\\\\\\\\": {\\\\\\\\\\\\\\\"type\\\\\\\\\\\\\\\": 2, \\\\\\\\\\\\\\\"details\\\\\\\\\\\\\\\": {\\\\\\\\\\\\\\\"selectedColumn\\\\\\\\\\\\\\\": \\\\\\\\\\\\\\\"V16\\\\\\\\\\\\\\\"}}, \\\\\\\\\\\\\\\"typeProperty\\\\\\\\\\\\\\\": 3}, {\\\\\\\\\\\\\\\"column\\\\\\\\\\\\\\\": {\\\\\\\\\\\\\\\"type\\\\\\\\\\\\\\\": 2, \\\\\\\\\\\\\\\"details\\\\\\\\\\\\\\\": {\\\\\\\\\\\\\\\"selectedColumn\\\\\\\\\\\\\\\": \\\\\\\\\\\\\\\"V17\\\\\\\\\\\\\\\"}}, \\\\\\\\\\\\\\\"typeProperty\\\\\\\\\\\\\\\": 3}, {\\\\\\\\\\\\\\\"column\\\\\\\\\\\\\\\": {\\\\\\\\\\\\\\\"type\\\\\\\\\\\\\\\": 2, \\\\\\\\\\\\\\\"details\\\\\\\\\\\\\\\": {\\\\\\\\\\\\\\\"selectedColumn\\\\\\\\\\\\\\\": \\\\\\\\\\\\\\\"V18\\\\\\\\\\\\\\\"}}, \\\\\\\\\\\\\\\"typeProperty\\\\\\\\\\\\\\\": 3}, {\\\\\\\\\\\\\\\"column\\\\\\\\\\\\\\\": {\\\\\\\\\\\\\\\"type\\\\\\\\\\\\\\\": 2, \\\\\\\\\\\\\\\"details\\\\\\\\\\\\\\\": {\\\\\\\\\\\\\\\"selectedColumn\\\\\\\\\\\\\\\": \\\\\\\\\\\\\\\"V19\\\\\\\\\\\\\\\"}}, \\\\\\\\\\\\\\\"typeProperty\\\\\\\\\\\\\\\": 3}, {\\\\\\\\\\\\\\\"column\\\\\\\\\\\\\\\": {\\\\\\\\\\\\\\\"type\\\\\\\\\\\\\\\": 2, \\\\\\\\\\\\\\\"details\\\\\\\\\\\\\\\": {\\\\\\\\\\\\\\\"selectedColumn\\\\\\\\\\\\\\\": \\\\\\\\\\\\\\\"V20\\\\\\\\\\\\\\\"}}, \\\\\\\\\\\\\\\"typeProperty\\\\\\\\\\\\\\\": 3}, {\\\\\\\\\\\\\\\"column\\\\\\\\\\\\\\\": {\\\\\\\\\\\\\\\"type\\\\\\\\\\\\\\\": 2, \\\\\\\\\\\\\\\"details\\\\\\\\\\\\\\\": {\\\\\\\\\\\\\\\"selectedColumn\\\\\\\\\\\\\\\": \\\\\\\\\\\\\\\"V21\\\\\\\\\\\\\\\"}}, \\\\\\\\\\\\\\\"typeProperty\\\\\\\\\\\\\\\": 3}, {\\\\\\\\\\\\\\\"column\\\\\\\\\\\\\\\": {\\\\\\\\\\\\\\\"type\\\\\\\\\\\\\\\": 2, \\\\\\\\\\\\\\\"details\\\\\\\\\\\\\\\": {\\\\\\\\\\\\\\\"selectedColumn\\\\\\\\\\\\\\\": \\\\\\\\\\\\\\\"V22\\\\\\\\\\\\\\\"}}, \\\\\\\\\\\\\\\"typeProperty\\\\\\\\\\\\\\\": 3}, {\\\\\\\\\\\\\\\"column\\\\\\\\\\\\\\\": {\\\\\\\\\\\\\\\"type\\\\\\\\\\\\\\\": 2, \\\\\\\\\\\\\\\"details\\\\\\\\\\\\\\\": {\\\\\\\\\\\\\\\"selectedColumn\\\\\\\\\\\\\\\": \\\\\\\\\\\\\\\"V23\\\\\\\\\\\\\\\"}}, \\\\\\\\\\\\\\\"typeProperty\\\\\\\\\\\\\\\": 3}, {\\\\\\\\\\\\\\\"column\\\\\\\\\\\\\\\": {\\\\\\\\\\\\\\\"type\\\\\\\\\\\\\\\": 2, \\\\\\\\\\\\\\\"details\\\\\\\\\\\\\\\": {\\\\\\\\\\\\\\\"selectedColumn\\\\\\\\\\\\\\\": \\\\\\\\\\\\\\\"V24\\\\\\\\\\\\\\\"}}, \\\\\\\\\\\\\\\"typeProperty\\\\\\\\\\\\\\\": 3}, {\\\\\\\\\\\\\\\"column\\\\\\\\\\\\\\\": {\\\\\\\\\\\\\\\"type\\\\\\\\\\\\\\\": 2, \\\\\\\\\\\\\\\"details\\\\\\\\\\\\\\\": {\\\\\\\\\\\\\\\"selectedColumn\\\\\\\\\\\\\\\": \\\\\\\\\\\\\\\"V25\\\\\\\\\\\\\\\"}}, \\\\\\\\\\\\\\\"typeProperty\\\\\\\\\\\\\\\": 3}, {\\\\\\\\\\\\\\\"column\\\\\\\\\\\\\\\": {\\\\\\\\\\\\\\\"type\\\\\\\\\\\\\\\": 2, \\\\\\\\\\\\\\\"details\\\\\\\\\\\\\\\": {\\\\\\\\\\\\\\\"selectedColumn\\\\\\\\\\\\\\\": \\\\\\\\\\\\\\\"V26\\\\\\\\\\\\\\\"}}, \\\\\\\\\\\\\\\"typeProperty\\\\\\\\\\\\\\\": 3}, {\\\\\\\\\\\\\\\"column\\\\\\\\\\\\\\\": {\\\\\\\\\\\\\\\"type\\\\\\\\\\\\\\\": 2, \\\\\\\\\\\\\\\"details\\\\\\\\\\\\\\\": {\\\\\\\\\\\\\\\"selectedColumn\\\\\\\\\\\\\\\": \\\\\\\\\\\\\\\"V27\\\\\\\\\\\\\\\"}}, \\\\\\\\\\\\\\\"typeProperty\\\\\\\\\\\\\\\": 3}, {\\\\\\\\\\\\\\\"column\\\\\\\\\\\\\\\": {\\\\\\\\\\\\\\\"type\\\\\\\\\\\\\\\": 2, \\\\\\\\\\\\\\\"details\\\\\\\\\\\\\\\": {\\\\\\\\\\\\\\\"selectedColumn\\\\\\\\\\\\\\\": \\\\\\\\\\\\\\\"V28\\\\\\\\\\\\\\\"}}, \\\\\\\\\\\\\\\"typeProperty\\\\\\\\\\\\\\\": 3}, {\\\\\\\\\\\\\\\"column\\\\\\\\\\\\\\\": {\\\\\\\\\\\\\\\"type\\\\\\\\\\\\\\\": 2, \\\\\\\\\\\\\\\"details\\\\\\\\\\\\\\\": {\\\\\\\\\\\\\\\"selectedColumn\\\\\\\\\\\\\\\": \\\\\\\\\\\\\\\"Amount\\\\\\\\\\\\\\\"}}, \\\\\\\\\\\\\\\"typeProperty\\\\\\\\\\\\\\\": 3}, {\\\\\\\\\\\\\\\"column\\\\\\\\\\\\\\\": {\\\\\\\\\\\\\\\"type\\\\\\\\\\\\\\\": 2, \\\\\\\\\\\\\\\"details\\\\\\\\\\\\\\\": {\\\\\\\\\\\\\\\"selectedColumn\\\\\\\\\\\\\\\": \\\\\\\\\\\\\\\"Class\\\\\\\\\\\\\\\"}}, \\\\\\\\\\\\\\\"typeProperty\\\\\\\\\\\\\\\": 2}]}, \\\\\\\\\\\\\\\"localData\\\\\\\\\\\\\\\": {}, \\\\\\\\\\\\\\\"isEnabled\\\\\\\\\\\\\\\": true, \\\\\\\\\\\\\\\"name\\\\\\\\\\\\\\\": null, \\\\\\\\\\\\\\\"annotation\\\\\\\\\\\\\\\": null}], \\\\\\\\\\\\\\\"inspectors\\\\\\\\\\\\\\\": [], \\\\\\\\\\\\\\\"meta\\\\\\\\\\\\\\\": {\\\\\\\\\\\\\\\"savedDatasetId\\\\\\\\\\\\\\\": \\\\\\\\\\\\\\\"b1575e76-8cbe-4ca0-8462-3735ff18e53d\\\\\\\\\\\\\\\", \\\\\\\\\\\\\\\"datasetType\\\\\\\\\\\\\\\": \\\\\\\\\\\\\\\"tabular\\\\\\\\\\\\\\\", \\\\\\\\\\\\\\\"subscriptionId\\\\\\\\\\\\\\\": \\\\\\\\\\\\\\\"510b94ba-e453-4417-988b-fbdc37b55ca7\\\\\\\\\\\\\\\", \\\\\\\\\\\\\\\"workspaceId\\\\\\\\\\\\\\\": \\\\\\\\\\\\\\\"aa24d0f2-c683-48b0-b7ff-2977f36ac3b1\\\\\\\\\\\\\\\", \\\\\\\\\\\\\\\"workspaceLocation\\\\\\\\\\\\\\\": \\\\\\\\\\\\\\\"southcentralus\\\\\\\\\\\\\\\"}}\\\\\\\", \\\\\\\"activities\\\\\\\": 0}\", \"EnableSubsampling\": null, \"runTemplate\": \"AutoML\", \"azureml.runsource\": \"automl\", \"display_task_type\": \"classification\", \"dependencies_versions\": \"{\\\"azureml-widgets\\\": \\\"1.24.0\\\", \\\"azureml-train\\\": \\\"1.24.0\\\", \\\"azureml-train-restclients-hyperdrive\\\": \\\"1.24.0\\\", \\\"azureml-train-core\\\": \\\"1.24.0\\\", \\\"azureml-train-automl\\\": \\\"1.24.0\\\", \\\"azureml-train-automl-runtime\\\": \\\"1.24.0\\\", \\\"azureml-train-automl-client\\\": \\\"1.24.0\\\", \\\"azureml-tensorboard\\\": \\\"1.24.0\\\", \\\"azureml-telemetry\\\": \\\"1.24.0\\\", \\\"azureml-sdk\\\": \\\"1.24.0\\\", \\\"azureml-samples\\\": \\\"0+unknown\\\", \\\"azureml-pipeline\\\": \\\"1.24.0\\\", \\\"azureml-pipeline-steps\\\": \\\"1.24.0\\\", \\\"azureml-pipeline-core\\\": \\\"1.24.0\\\", \\\"azureml-opendatasets\\\": \\\"1.24.0\\\", \\\"azureml-model-management-sdk\\\": \\\"1.0.1b6.post1\\\", \\\"azureml-mlflow\\\": \\\"1.24.0\\\", \\\"azureml-interpret\\\": \\\"1.24.0\\\", \\\"azureml-explain-model\\\": \\\"1.24.0\\\", \\\"azureml-defaults\\\": \\\"1.24.0\\\", \\\"azureml-dataset-runtime\\\": \\\"1.24.0\\\", \\\"azureml-dataprep\\\": \\\"2.11.1\\\", \\\"azureml-dataprep-rslex\\\": \\\"1.9.0\\\", \\\"azureml-dataprep-native\\\": \\\"30.0.0\\\", \\\"azureml-datadrift\\\": \\\"1.24.0\\\", \\\"azureml-core\\\": \\\"1.24.0\\\", \\\"azureml-contrib-services\\\": \\\"1.24.0\\\", \\\"azureml-contrib-server\\\": \\\"1.24.0\\\", \\\"azureml-contrib-reinforcementlearning\\\": \\\"1.24.0\\\", \\\"azureml-contrib-pipeline-steps\\\": \\\"1.24.0\\\", \\\"azureml-contrib-notebook\\\": \\\"1.24.0\\\", \\\"azureml-contrib-gbdt\\\": \\\"1.24.0\\\", \\\"azureml-contrib-fairness\\\": \\\"1.24.0\\\", \\\"azureml-contrib-dataset\\\": \\\"1.24.0\\\", \\\"azureml-cli-common\\\": \\\"1.24.0\\\", \\\"azureml-automl-runtime\\\": \\\"1.24.0\\\", \\\"azureml-automl-dnn-nlp\\\": \\\"1.24.0\\\", \\\"azureml-automl-core\\\": \\\"1.24.0\\\", \\\"azureml-accel-models\\\": \\\"1.24.0\\\"}\", \"_aml_system_scenario_identification\": \"Remote.Parent\", \"ClientType\": \"SDK\", \"environment_cpu_name\": \"AzureML-AutoML\", \"environment_cpu_label\": \"prod\", \"environment_gpu_name\": \"AzureML-AutoML-GPU\", \"environment_gpu_label\": \"prod\", \"root_attribution\": \"automl\", \"attribution\": \"AutoML\", \"Orchestrator\": \"AutoML\", \"CancelUri\": \"https://southcentralus.experiments.azureml.net/jasmine/v1.0/subscriptions/510b94ba-e453-4417-988b-fbdc37b55ca7/resourceGroups/aml-quickstarts-142315/providers/Microsoft.MachineLearningServices/workspaces/quick-starts-ws-142315/experimentids/6e282122-ab69-4b11-83fa-94be12249ca3/cancel/AutoML_4b044773-3eab-4b65-99fa-d34196707638\", \"ClientSdkVersion\": \"1.25.0\", \"snapshotId\": \"00000000-0000-0000-0000-000000000000\", \"SetupRunId\": \"AutoML_4b044773-3eab-4b65-99fa-d34196707638_setup\", \"SetupRunContainerId\": \"dcid.AutoML_4b044773-3eab-4b65-99fa-d34196707638_setup\", \"FeaturizationRunJsonPath\": \"featurizer_container.json\", \"FeaturizationRunId\": \"AutoML_4b044773-3eab-4b65-99fa-d34196707638_featurize\", \"ProblemInfoJsonString\": \"{\\\"dataset_num_categorical\\\": 0, \\\"is_sparse\\\": false, \\\"subsampling\\\": false, \\\"dataset_classes\\\": 2, \\\"dataset_features\\\": 30, \\\"dataset_samples\\\": 256326, \\\"single_frequency_class_detected\\\": false}\", \"ModelExplainRunId\": \"AutoML_4b044773-3eab-4b65-99fa-d34196707638_ModelExplain\"}, \"tags\": {\"model_explain_run\": \"best_run\", \"_aml_system_azureml.automlComponent\": \"AutoML\", \"pipeline_id\": \"\", \"score\": \"\", \"predicted_cost\": \"\", \"fit_time\": \"\", \"training_percent\": \"\", \"iteration\": \"\", \"run_preprocessor\": \"\", \"run_algorithm\": \"\", \"dynamic_whitelisting_iterations\": \"<25>;<30>;<35>;\", \"automl_best_child_run_id\": \"AutoML_4b044773-3eab-4b65-99fa-d34196707638_38\", \"model_explain_best_run_child_id\": \"AutoML_4b044773-3eab-4b65-99fa-d34196707638_38\"}, \"end_time_utc\": \"2021-04-09T22:51:03.13752Z\", \"status\": \"Completed\", \"log_files\": {}, \"log_groups\": [], \"run_duration\": \"0:29:15\", \"run_number\": \"1\", \"run_queued_details\": {\"status\": \"Completed\", \"details\": null}}, \"child_runs\": [{\"run_id\": \"AutoML_4b044773-3eab-4b65-99fa-d34196707638_0\", \"run_number\": 5, \"metric\": null, \"status\": \"Completed\", \"run_type\": \"azureml.scriptrun\", \"training_percent\": \"100\", \"start_time\": \"2021-04-09T22:32:06.841697Z\", \"end_time\": \"2021-04-09T22:33:01.040596Z\", \"created_time\": \"2021-04-09T22:29:10.444154Z\", \"created_time_dt\": \"2021-04-09T22:29:10.444154Z\", \"duration\": \"0:03:50\", \"iteration\": \"0\", \"goal\": \"AUC_weighted_max\", \"run_name\": \"MaxAbsScaler, LightGBM\", \"run_properties\": \"copy=True\", \"primary_metric\": 0.92515188, \"best_metric\": 0.92515188}, {\"run_id\": \"AutoML_4b044773-3eab-4b65-99fa-d34196707638_4\", \"run_number\": 6, \"metric\": null, \"status\": \"Completed\", \"run_type\": \"azureml.scriptrun\", \"training_percent\": \"100\", \"start_time\": \"2021-04-09T22:32:56.308365Z\", \"end_time\": \"2021-04-09T22:34:45.599017Z\", \"created_time\": \"2021-04-09T22:29:10.489004Z\", \"created_time_dt\": \"2021-04-09T22:29:10.489004Z\", \"duration\": \"0:05:35\", \"iteration\": \"4\", \"goal\": \"AUC_weighted_max\", \"run_name\": \"MinMaxScaler, RandomForest\", \"run_properties\": \"copy=True, feature_range=(0, 1\", \"primary_metric\": 0.96375563, \"best_metric\": 0.97964065}, {\"run_id\": \"AutoML_4b044773-3eab-4b65-99fa-d34196707638_1\", \"run_number\": 7, \"metric\": null, \"status\": \"Completed\", \"run_type\": \"azureml.scriptrun\", \"training_percent\": \"100\", \"start_time\": \"2021-04-09T22:30:47.179132Z\", \"end_time\": \"2021-04-09T22:31:50.877991Z\", \"created_time\": \"2021-04-09T22:29:10.50206Z\", \"created_time_dt\": \"2021-04-09T22:29:10.50206Z\", \"duration\": \"0:02:40\", \"iteration\": \"1\", \"goal\": \"AUC_weighted_max\", \"run_name\": \"MinMaxScaler, RandomForest\", \"run_properties\": \"copy=True, feature_range=(0, 1\", \"primary_metric\": 0.94899287, \"best_metric\": 0.94899287}, {\"run_id\": \"AutoML_4b044773-3eab-4b65-99fa-d34196707638_2\", \"run_number\": 8, \"metric\": null, \"status\": \"Completed\", \"run_type\": \"azureml.scriptrun\", \"training_percent\": \"100\", \"start_time\": \"2021-04-09T22:32:56.926889Z\", \"end_time\": \"2021-04-09T22:34:32.201311Z\", \"created_time\": \"2021-04-09T22:29:10.491226Z\", \"created_time_dt\": \"2021-04-09T22:29:10.491226Z\", \"duration\": \"0:05:21\", \"iteration\": \"2\", \"goal\": \"AUC_weighted_max\", \"run_name\": \"RobustScaler, ExtremeRandomTrees\", \"run_properties\": \"copy=True, quantile_range=[10, 90], with_centering=False,\\n             with_scaling=False\", \"primary_metric\": 0.96311249, \"best_metric\": 0.96311249}, {\"run_id\": \"AutoML_4b044773-3eab-4b65-99fa-d34196707638_3\", \"run_number\": 9, \"metric\": null, \"status\": \"Completed\", \"run_type\": \"azureml.scriptrun\", \"training_percent\": \"100\", \"start_time\": \"2021-04-09T22:29:23.335024Z\", \"end_time\": \"2021-04-09T22:30:32.696686Z\", \"created_time\": \"2021-04-09T22:29:10.491468Z\", \"created_time_dt\": \"2021-04-09T22:29:10.491468Z\", \"duration\": \"0:01:22\", \"iteration\": \"3\", \"goal\": \"AUC_weighted_max\", \"run_name\": \"MinMaxScaler, RandomForest\", \"run_properties\": \"copy=True, feature_range=(0, 1\", \"primary_metric\": 0.97964065, \"best_metric\": 0.97964065}, {\"run_id\": \"AutoML_4b044773-3eab-4b65-99fa-d34196707638_5\", \"run_number\": 10, \"metric\": null, \"status\": \"Completed\", \"run_type\": \"azureml.scriptrun\", \"training_percent\": \"100\", \"start_time\": \"2021-04-09T22:32:53.95818Z\", \"end_time\": \"2021-04-09T22:35:07.251874Z\", \"created_time\": \"2021-04-09T22:30:35.439432Z\", \"created_time_dt\": \"2021-04-09T22:30:35.439432Z\", \"duration\": \"0:04:31\", \"iteration\": \"5\", \"goal\": \"AUC_weighted_max\", \"run_name\": \"StandardScalerWrapper, RandomForest\", \"run_properties\": \"<azureml.automl.runtime.shared.model_wrappers.StandardScalerWrapper object at 0x7f8366fc8940\", \"primary_metric\": 0.96210005, \"best_metric\": 0.97964065}, {\"run_id\": \"AutoML_4b044773-3eab-4b65-99fa-d34196707638_6\", \"run_number\": 11, \"metric\": null, \"status\": \"Completed\", \"run_type\": \"azureml.scriptrun\", \"training_percent\": \"100\", \"start_time\": \"2021-04-09T22:33:13.921126Z\", \"end_time\": \"2021-04-09T22:34:00.45735Z\", \"created_time\": \"2021-04-09T22:31:53.564306Z\", \"created_time_dt\": \"2021-04-09T22:31:53.564306Z\", \"duration\": \"0:02:06\", \"iteration\": \"6\", \"goal\": \"AUC_weighted_max\", \"run_name\": \"MinMaxScaler, ExtremeRandomTrees\", \"run_properties\": \"copy=True, feature_range=(0, 1\", \"primary_metric\": 0.94801991, \"best_metric\": 0.97964065}, {\"run_id\": \"AutoML_4b044773-3eab-4b65-99fa-d34196707638_7\", \"run_number\": 12, \"metric\": null, \"status\": \"Completed\", \"run_type\": \"azureml.scriptrun\", \"training_percent\": \"100\", \"start_time\": \"2021-04-09T22:34:16.879358Z\", \"end_time\": \"2021-04-09T22:35:05.776573Z\", \"created_time\": \"2021-04-09T22:33:04.255423Z\", \"created_time_dt\": \"2021-04-09T22:33:04.255423Z\", \"duration\": \"0:02:01\", \"iteration\": \"7\", \"goal\": \"AUC_weighted_max\", \"run_name\": \"MinMaxScaler, ExtremeRandomTrees\", \"run_properties\": \"copy=True, feature_range=(0, 1\", \"primary_metric\": 0.94986355, \"best_metric\": 0.97964065}, {\"run_id\": \"AutoML_4b044773-3eab-4b65-99fa-d34196707638_8\", \"run_number\": 13, \"metric\": null, \"status\": \"Completed\", \"run_type\": \"azureml.scriptrun\", \"training_percent\": \"100\", \"start_time\": \"2021-04-09T22:34:43.534761Z\", \"end_time\": \"2021-04-09T22:35:37.947753Z\", \"created_time\": \"2021-04-09T22:34:03.223626Z\", \"created_time_dt\": \"2021-04-09T22:34:03.223626Z\", \"duration\": \"0:01:34\", \"iteration\": \"8\", \"goal\": \"AUC_weighted_max\", \"run_name\": \"MinMaxScaler, ExtremeRandomTrees\", \"run_properties\": \"copy=True, feature_range=(0, 1\", \"primary_metric\": 0.95144197, \"best_metric\": 0.97964065}, {\"run_id\": \"AutoML_4b044773-3eab-4b65-99fa-d34196707638_9\", \"run_number\": 14, \"metric\": null, \"status\": \"Completed\", \"run_type\": \"azureml.scriptrun\", \"training_percent\": \"100\", \"start_time\": \"2021-04-09T22:35:14.072932Z\", \"end_time\": \"2021-04-09T22:36:00.607913Z\", \"created_time\": \"2021-04-09T22:34:35.175964Z\", \"created_time_dt\": \"2021-04-09T22:34:35.175964Z\", \"duration\": \"0:01:25\", \"iteration\": \"9\", \"goal\": \"AUC_weighted_max\", \"run_name\": \"RobustScaler, ExtremeRandomTrees\", \"run_properties\": \"copy=True, quantile_range=[10, 90], with_centering=True,\\n             with_scaling=False\", \"primary_metric\": 0.94600938, \"best_metric\": 0.97964065}, {\"run_id\": \"AutoML_4b044773-3eab-4b65-99fa-d34196707638_12\", \"run_number\": 15, \"metric\": null, \"status\": \"Completed\", \"run_type\": \"azureml.scriptrun\", \"training_percent\": \"100\", \"start_time\": \"2021-04-09T22:35:22.608359Z\", \"end_time\": \"2021-04-09T22:36:19.82447Z\", \"created_time\": \"2021-04-09T22:35:11.530518Z\", \"created_time_dt\": \"2021-04-09T22:35:11.530518Z\", \"duration\": \"0:01:08\", \"iteration\": \"12\", \"goal\": \"AUC_weighted_max\", \"run_name\": \"RobustScaler, RandomForest\", \"run_properties\": \"copy=True, quantile_range=[10, 90], with_centering=True,\\n             with_scaling=False\", \"primary_metric\": 0.96205698, \"best_metric\": 0.97964065}, {\"run_id\": \"AutoML_4b044773-3eab-4b65-99fa-d34196707638_11\", \"run_number\": 16, \"metric\": null, \"status\": \"Completed\", \"run_type\": \"azureml.scriptrun\", \"training_percent\": \"100\", \"start_time\": \"2021-04-09T22:35:19.723224Z\", \"end_time\": \"2021-04-09T22:36:23.836172Z\", \"created_time\": \"2021-04-09T22:35:11.536692Z\", \"created_time_dt\": \"2021-04-09T22:35:11.536692Z\", \"duration\": \"0:01:12\", \"iteration\": \"11\", \"goal\": \"AUC_weighted_max\", \"run_name\": \"StandardScalerWrapper, SGD\", \"run_properties\": \"<azureml.automl.runtime.shared.model_wrappers.StandardScalerWrapper object at 0x7f4746789c88\", \"primary_metric\": 0.96083975, \"best_metric\": 0.97964065}, {\"run_id\": \"AutoML_4b044773-3eab-4b65-99fa-d34196707638_10\", \"run_number\": 17, \"metric\": null, \"status\": \"Completed\", \"run_type\": \"azureml.scriptrun\", \"training_percent\": \"100\", \"start_time\": \"2021-04-09T22:35:53.934578Z\", \"end_time\": \"2021-04-09T22:37:30.378398Z\", \"created_time\": \"2021-04-09T22:35:11.820542Z\", \"created_time_dt\": \"2021-04-09T22:35:11.820542Z\", \"duration\": \"0:02:18\", \"iteration\": \"10\", \"goal\": \"AUC_weighted_max\", \"run_name\": \"StandardScalerWrapper, RandomForest\", \"run_properties\": \"<azureml.automl.runtime.shared.model_wrappers.StandardScalerWrapper object at 0x7f9bf96f7320\", \"primary_metric\": 0.97099632, \"best_metric\": 0.97964065}, {\"run_id\": \"AutoML_4b044773-3eab-4b65-99fa-d34196707638_13\", \"run_number\": 18, \"metric\": null, \"status\": \"Completed\", \"run_type\": \"azureml.scriptrun\", \"training_percent\": \"100\", \"start_time\": \"2021-04-09T22:36:14.819789Z\", \"end_time\": \"2021-04-09T22:37:09.683482Z\", \"created_time\": \"2021-04-09T22:35:42.476306Z\", \"created_time_dt\": \"2021-04-09T22:35:42.476306Z\", \"duration\": \"0:01:27\", \"iteration\": \"13\", \"goal\": \"AUC_weighted_max\", \"run_name\": \"MinMaxScaler, RandomForest\", \"run_properties\": \"copy=True, feature_range=(0, 1\", \"primary_metric\": 0.96086796, \"best_metric\": 0.97964065}, {\"run_id\": \"AutoML_4b044773-3eab-4b65-99fa-d34196707638_14\", \"run_number\": 19, \"metric\": null, \"status\": \"Completed\", \"run_type\": \"azureml.scriptrun\", \"training_percent\": \"100\", \"start_time\": \"2021-04-09T22:36:39.715334Z\", \"end_time\": \"2021-04-09T22:37:24.292842Z\", \"created_time\": \"2021-04-09T22:36:04.581811Z\", \"created_time_dt\": \"2021-04-09T22:36:04.581811Z\", \"duration\": \"0:01:19\", \"iteration\": \"14\", \"goal\": \"AUC_weighted_max\", \"run_name\": \"MinMaxScaler, ExtremeRandomTrees\", \"run_properties\": \"copy=True, feature_range=(0, 1\", \"primary_metric\": 0.94856507, \"best_metric\": 0.97964065}, {\"run_id\": \"AutoML_4b044773-3eab-4b65-99fa-d34196707638_16\", \"run_number\": 20, \"metric\": null, \"status\": \"Completed\", \"run_type\": \"azureml.scriptrun\", \"training_percent\": \"100\", \"start_time\": \"2021-04-09T22:37:36.367488Z\", \"end_time\": \"2021-04-09T22:38:36.7816Z\", \"created_time\": \"2021-04-09T22:36:46.090526Z\", \"created_time_dt\": \"2021-04-09T22:36:46.090526Z\", \"duration\": \"0:01:50\", \"iteration\": \"16\", \"goal\": \"AUC_weighted_max\", \"run_name\": \"MinMaxScaler, RandomForest\", \"run_properties\": \"copy=True, feature_range=(0, 1\", \"primary_metric\": 0.97197538, \"best_metric\": 0.97964065}, {\"run_id\": \"AutoML_4b044773-3eab-4b65-99fa-d34196707638_15\", \"run_number\": 21, \"metric\": null, \"status\": \"Completed\", \"run_type\": \"azureml.scriptrun\", \"training_percent\": \"100\", \"start_time\": \"2021-04-09T22:36:57.454306Z\", \"end_time\": \"2021-04-09T22:37:48.739438Z\", \"created_time\": \"2021-04-09T22:36:46.356829Z\", \"created_time_dt\": \"2021-04-09T22:36:46.356829Z\", \"duration\": \"0:01:02\", \"iteration\": \"15\", \"goal\": \"AUC_weighted_max\", \"run_name\": \"MinMaxScaler, RandomForest\", \"run_properties\": \"copy=True, feature_range=(0, 1\", \"primary_metric\": 0.94132545, \"best_metric\": 0.97964065}, {\"run_id\": \"AutoML_4b044773-3eab-4b65-99fa-d34196707638_17\", \"run_number\": 22, \"metric\": null, \"status\": \"Completed\", \"run_type\": \"azureml.scriptrun\", \"training_percent\": \"100\", \"start_time\": \"2021-04-09T22:38:03.217758Z\", \"end_time\": \"2021-04-09T22:39:00.781903Z\", \"created_time\": \"2021-04-09T22:37:34.072845Z\", \"created_time_dt\": \"2021-04-09T22:37:34.072845Z\", \"duration\": \"0:01:26\", \"iteration\": \"17\", \"goal\": \"AUC_weighted_max\", \"run_name\": \"MaxAbsScaler, RandomForest\", \"run_properties\": \"copy=True\", \"primary_metric\": 0.97423929, \"best_metric\": 0.97964065}, {\"run_id\": \"AutoML_4b044773-3eab-4b65-99fa-d34196707638_19\", \"run_number\": 23, \"metric\": null, \"status\": \"Completed\", \"run_type\": \"azureml.scriptrun\", \"training_percent\": \"100\", \"start_time\": \"2021-04-09T22:37:45.959434Z\", \"end_time\": \"2021-04-09T22:38:31.665687Z\", \"created_time\": \"2021-04-09T22:37:34.074394Z\", \"created_time_dt\": \"2021-04-09T22:37:34.074394Z\", \"duration\": \"0:00:57\", \"iteration\": \"19\", \"goal\": \"AUC_weighted_max\", \"run_name\": \"StandardScalerWrapper, ExtremeRandomTrees\", \"run_properties\": \"<azureml.automl.runtime.shared.model_wrappers.StandardScalerWrapper object at 0x7f2ca0530588\", \"primary_metric\": 0.97380897, \"best_metric\": 0.97964065}, {\"run_id\": \"AutoML_4b044773-3eab-4b65-99fa-d34196707638_18\", \"run_number\": 24, \"metric\": null, \"status\": \"Completed\", \"run_type\": \"azureml.scriptrun\", \"training_percent\": \"100\", \"start_time\": \"2021-04-09T22:37:49.665706Z\", \"end_time\": \"2021-04-09T22:38:45.317709Z\", \"created_time\": \"2021-04-09T22:37:34.174212Z\", \"created_time_dt\": \"2021-04-09T22:37:34.174212Z\", \"duration\": \"0:01:11\", \"iteration\": \"18\", \"goal\": \"AUC_weighted_max\", \"run_name\": \"MaxAbsScaler, RandomForest\", \"run_properties\": \"copy=True\", \"primary_metric\": 0.96819623, \"best_metric\": 0.97964065}, {\"run_id\": \"AutoML_4b044773-3eab-4b65-99fa-d34196707638_20\", \"run_number\": 25, \"metric\": null, \"status\": \"Completed\", \"run_type\": \"azureml.scriptrun\", \"training_percent\": \"100\", \"start_time\": \"2021-04-09T22:38:49.274357Z\", \"end_time\": \"2021-04-09T22:39:35.521755Z\", \"created_time\": \"2021-04-09T22:37:53.156407Z\", \"created_time_dt\": \"2021-04-09T22:37:53.156407Z\", \"duration\": \"0:01:42\", \"iteration\": \"20\", \"goal\": \"AUC_weighted_max\", \"run_name\": \"MaxAbsScaler, ExtremeRandomTrees\", \"run_properties\": \"copy=True\", \"primary_metric\": 0.95908354, \"best_metric\": 0.97964065}, {\"run_id\": \"AutoML_4b044773-3eab-4b65-99fa-d34196707638_21\", \"run_number\": 26, \"metric\": null, \"status\": \"Completed\", \"run_type\": \"azureml.scriptrun\", \"training_percent\": \"100\", \"start_time\": \"2021-04-09T22:38:52.038302Z\", \"end_time\": \"2021-04-09T22:39:41.895054Z\", \"created_time\": \"2021-04-09T22:38:36.186729Z\", \"created_time_dt\": \"2021-04-09T22:38:36.186729Z\", \"duration\": \"0:01:05\", \"iteration\": \"21\", \"goal\": \"AUC_weighted_max\", \"run_name\": \"MaxAbsScaler, ExtremeRandomTrees\", \"run_properties\": \"copy=True\", \"primary_metric\": 0.94659043, \"best_metric\": 0.97964065}, {\"run_id\": \"AutoML_4b044773-3eab-4b65-99fa-d34196707638_22\", \"run_number\": 27, \"metric\": null, \"status\": \"Completed\", \"run_type\": \"azureml.scriptrun\", \"training_percent\": \"100\", \"start_time\": \"2021-04-09T22:39:01.343241Z\", \"end_time\": \"2021-04-09T22:40:07.258322Z\", \"created_time\": \"2021-04-09T22:38:43.182808Z\", \"created_time_dt\": \"2021-04-09T22:38:43.182808Z\", \"duration\": \"0:01:24\", \"iteration\": \"22\", \"goal\": \"AUC_weighted_max\", \"run_name\": \"MaxAbsScaler, RandomForest\", \"run_properties\": \"copy=True\", \"primary_metric\": 0.96278482, \"best_metric\": 0.97964065}, {\"run_id\": \"AutoML_4b044773-3eab-4b65-99fa-d34196707638_23\", \"run_number\": 28, \"metric\": null, \"status\": \"Completed\", \"run_type\": \"azureml.scriptrun\", \"training_percent\": \"100\", \"start_time\": \"2021-04-09T22:39:15.310609Z\", \"end_time\": \"2021-04-09T22:40:21.053745Z\", \"created_time\": \"2021-04-09T22:38:49.986637Z\", \"created_time_dt\": \"2021-04-09T22:38:49.986637Z\", \"duration\": \"0:01:31\", \"iteration\": \"23\", \"goal\": \"AUC_weighted_max\", \"run_name\": \"MaxAbsScaler, RandomForest\", \"run_properties\": \"copy=True\", \"primary_metric\": 0.9642588, \"best_metric\": 0.97964065}, {\"run_id\": \"AutoML_4b044773-3eab-4b65-99fa-d34196707638_24\", \"run_number\": 29, \"metric\": null, \"status\": \"Canceled\", \"run_type\": \"azureml.scriptrun\", \"training_percent\": \"100\", \"start_time\": \"2021-04-09T22:39:51.779888Z\", \"end_time\": \"2021-04-09T22:44:29.06296Z\", \"created_time\": \"2021-04-09T22:39:03.894398Z\", \"created_time_dt\": \"2021-04-09T22:39:03.894398Z\", \"duration\": \"0:05:25\", \"iteration\": \"24\", \"goal\": \"AUC_weighted_max\", \"run_name\": \"RobustScaler, GradientBoosting\", \"run_properties\": \"copy=True, quantile_range=[25, 75], with_centering=True,\\n             with_scaling=False\", \"primary_metric\": 0.97346838, \"best_metric\": 0.97964065}, {\"run_id\": \"AutoML_4b044773-3eab-4b65-99fa-d34196707638_25\", \"run_number\": 30, \"metric\": null, \"status\": \"Completed\", \"run_type\": \"azureml.scriptrun\", \"training_percent\": \"100\", \"start_time\": \"2021-04-09T22:39:59.367371Z\", \"end_time\": \"2021-04-09T22:40:46.759083Z\", \"created_time\": \"2021-04-09T22:39:38.857207Z\", \"created_time_dt\": \"2021-04-09T22:39:38.857207Z\", \"duration\": \"0:01:07\", \"iteration\": \"25\", \"goal\": \"AUC_weighted_max\", \"run_name\": \"TruncatedSVDWrapper, RandomForest\", \"run_properties\": \"n_components=0.45526315789473687, random_state=None\", \"primary_metric\": 0.95245333, \"best_metric\": 0.97964065}, {\"run_id\": \"AutoML_4b044773-3eab-4b65-99fa-d34196707638_26\", \"run_number\": 31, \"metric\": null, \"status\": \"Completed\", \"run_type\": \"azureml.scriptrun\", \"training_percent\": \"100\", \"start_time\": \"2021-04-09T22:40:23.824648Z\", \"end_time\": \"2021-04-09T22:41:28.260604Z\", \"created_time\": \"2021-04-09T22:39:46.159983Z\", \"created_time_dt\": \"2021-04-09T22:39:46.159983Z\", \"duration\": \"0:01:42\", \"iteration\": \"26\", \"goal\": \"AUC_weighted_max\", \"run_name\": \"RobustScaler, LightGBM\", \"run_properties\": \"copy=True, quantile_range=[25, 75], with_centering=False,\\n             with_scaling=True\", \"primary_metric\": 0.97359974, \"best_metric\": 0.97964065}, {\"run_id\": \"AutoML_4b044773-3eab-4b65-99fa-d34196707638_27\", \"run_number\": 32, \"metric\": null, \"status\": \"Completed\", \"run_type\": \"azureml.scriptrun\", \"training_percent\": \"100\", \"start_time\": \"2021-04-09T22:40:35.810651Z\", \"end_time\": \"2021-04-09T22:41:29.095134Z\", \"created_time\": \"2021-04-09T22:40:09.607163Z\", \"created_time_dt\": \"2021-04-09T22:40:09.607163Z\", \"duration\": \"0:01:19\", \"iteration\": \"27\", \"goal\": \"AUC_weighted_max\", \"run_name\": \"StandardScalerWrapper, LightGBM\", \"run_properties\": \"<azureml.automl.runtime.shared.model_wrappers.StandardScalerWrapper object at 0x7f95df143d68\", \"primary_metric\": 0.9763381, \"best_metric\": 0.97964065}, {\"run_id\": \"AutoML_4b044773-3eab-4b65-99fa-d34196707638_28\", \"run_number\": 33, \"metric\": null, \"status\": \"Completed\", \"run_type\": \"azureml.scriptrun\", \"training_percent\": \"100\", \"start_time\": \"2021-04-09T22:41:02.316086Z\", \"end_time\": \"2021-04-09T22:41:55.685083Z\", \"created_time\": \"2021-04-09T22:40:23.320331Z\", \"created_time_dt\": \"2021-04-09T22:40:23.320331Z\", \"duration\": \"0:01:32\", \"iteration\": \"28\", \"goal\": \"AUC_weighted_max\", \"run_name\": \"RobustScaler, LightGBM\", \"run_properties\": \"copy=True, quantile_range=[10, 90], with_centering=False,\\n             with_scaling=False\", \"primary_metric\": 0.97110399, \"best_metric\": 0.97964065}, {\"run_id\": \"AutoML_4b044773-3eab-4b65-99fa-d34196707638_29\", \"run_number\": 34, \"metric\": null, \"status\": \"Completed\", \"run_type\": \"azureml.scriptrun\", \"training_percent\": \"100\", \"start_time\": \"2021-04-09T22:41:45.912732Z\", \"end_time\": \"2021-04-09T22:43:09.233317Z\", \"created_time\": \"2021-04-09T22:40:48.955812Z\", \"created_time_dt\": \"2021-04-09T22:40:48.955812Z\", \"duration\": \"0:02:20\", \"iteration\": \"29\", \"goal\": \"AUC_weighted_max\", \"run_name\": \"StandardScalerWrapper, LightGBM\", \"run_properties\": \"<azureml.automl.runtime.shared.model_wrappers.StandardScalerWrapper object at 0x7f4c543ecc50\", \"primary_metric\": 0.97397586, \"best_metric\": 0.97964065}, {\"run_id\": \"AutoML_4b044773-3eab-4b65-99fa-d34196707638_30\", \"run_number\": 35, \"metric\": null, \"status\": \"Completed\", \"run_type\": \"azureml.scriptrun\", \"training_percent\": \"100\", \"start_time\": \"2021-04-09T22:41:45.52293Z\", \"end_time\": \"2021-04-09T22:42:40.413779Z\", \"created_time\": \"2021-04-09T22:41:31.300772Z\", \"created_time_dt\": \"2021-04-09T22:41:31.300772Z\", \"duration\": \"0:01:09\", \"iteration\": \"30\", \"goal\": \"AUC_weighted_max\", \"run_name\": \"MinMaxScaler, RandomForest\", \"run_properties\": \"copy=True, feature_range=(0, 1\", \"primary_metric\": 0.5, \"best_metric\": 0.97964065}, {\"run_id\": \"AutoML_4b044773-3eab-4b65-99fa-d34196707638_31\", \"run_number\": 36, \"metric\": null, \"status\": \"Completed\", \"run_type\": \"azureml.scriptrun\", \"training_percent\": \"100\", \"start_time\": \"2021-04-09T22:42:12.589706Z\", \"end_time\": \"2021-04-09T22:43:24.137624Z\", \"created_time\": \"2021-04-09T22:41:34.523311Z\", \"created_time_dt\": \"2021-04-09T22:41:34.523311Z\", \"duration\": \"0:01:49\", \"iteration\": \"31\", \"goal\": \"AUC_weighted_max\", \"run_name\": \"StandardScalerWrapper, LightGBM\", \"run_properties\": \"<azureml.automl.runtime.shared.model_wrappers.StandardScalerWrapper object at 0x7f3e2c583eb8\", \"primary_metric\": 0.97720663, \"best_metric\": 0.97964065}, {\"run_id\": \"AutoML_4b044773-3eab-4b65-99fa-d34196707638_32\", \"run_number\": 37, \"metric\": null, \"status\": \"Completed\", \"run_type\": \"azureml.scriptrun\", \"training_percent\": \"100\", \"start_time\": \"2021-04-09T22:42:54.751106Z\", \"end_time\": \"2021-04-09T22:44:06.878212Z\", \"created_time\": \"2021-04-09T22:41:57.563446Z\", \"created_time_dt\": \"2021-04-09T22:41:57.563446Z\", \"duration\": \"0:02:09\", \"iteration\": \"32\", \"goal\": \"AUC_weighted_max\", \"run_name\": \"StandardScalerWrapper, LogisticRegression\", \"run_properties\": \"<azureml.automl.runtime.shared.model_wrappers.StandardScalerWrapper object at 0x7fc09ca98390\", \"primary_metric\": 0.96123655, \"best_metric\": 0.97964065}, {\"run_id\": \"AutoML_4b044773-3eab-4b65-99fa-d34196707638_33\", \"run_number\": 38, \"metric\": null, \"status\": \"Completed\", \"run_type\": \"azureml.scriptrun\", \"training_percent\": \"100\", \"start_time\": \"2021-04-09T22:43:21.859729Z\", \"end_time\": \"2021-04-09T22:44:13.142892Z\", \"created_time\": \"2021-04-09T22:42:42.153413Z\", \"created_time_dt\": \"2021-04-09T22:42:42.153413Z\", \"duration\": \"0:01:30\", \"iteration\": \"33\", \"goal\": \"AUC_weighted_max\", \"run_name\": \"MaxAbsScaler, LightGBM\", \"run_properties\": \"copy=True\", \"primary_metric\": 0.95916968, \"best_metric\": 0.97964065}, {\"run_id\": \"AutoML_4b044773-3eab-4b65-99fa-d34196707638_34\", \"run_number\": 39, \"metric\": null, \"status\": \"Completed\", \"run_type\": \"azureml.scriptrun\", \"training_percent\": \"100\", \"start_time\": \"2021-04-09T22:43:37.913864Z\", \"end_time\": \"2021-04-09T22:44:22.511027Z\", \"created_time\": \"2021-04-09T22:43:11.221143Z\", \"created_time_dt\": \"2021-04-09T22:43:11.221143Z\", \"duration\": \"0:01:11\", \"iteration\": \"34\", \"goal\": \"AUC_weighted_max\", \"run_name\": \"RobustScaler, LightGBM\", \"run_properties\": \"copy=True, quantile_range=[10, 90], with_centering=False,\\n             with_scaling=False\", \"primary_metric\": 0.96382812, \"best_metric\": 0.97964065}, {\"run_id\": \"AutoML_4b044773-3eab-4b65-99fa-d34196707638_35\", \"run_number\": 40, \"metric\": null, \"status\": \"Canceled\", \"run_type\": \"azureml.scriptrun\", \"training_percent\": \"100\", \"start_time\": \"2021-04-09T22:44:20.139077Z\", \"end_time\": \"2021-04-09T22:44:29.310185Z\", \"created_time\": \"2021-04-09T22:43:27.092109Z\", \"created_time_dt\": \"2021-04-09T22:43:27.092109Z\", \"duration\": \"0:01:02\", \"iteration\": \"35\", \"goal\": null, \"run_name\": \"Canceled\", \"run_properties\": null}, {\"run_id\": \"AutoML_4b044773-3eab-4b65-99fa-d34196707638_36\", \"run_number\": 41, \"metric\": null, \"status\": \"Canceled\", \"run_type\": \"azureml.scriptrun\", \"training_percent\": \"100\", \"start_time\": \"2021-04-09T22:44:10.676586Z\", \"end_time\": \"2021-04-09T22:44:29.509371Z\", \"created_time\": \"2021-04-09T22:44:10.676586Z\", \"created_time_dt\": \"2021-04-09T22:44:10.676586Z\", \"duration\": \"0:00:18\", \"iteration\": \"36\", \"goal\": null, \"run_name\": \"Canceled\", \"run_properties\": null}, {\"run_id\": \"AutoML_4b044773-3eab-4b65-99fa-d34196707638_37\", \"run_number\": 42, \"metric\": null, \"status\": \"Canceled\", \"run_type\": \"azureml.scriptrun\", \"training_percent\": \"100\", \"start_time\": \"2021-04-09T22:44:15.075869Z\", \"end_time\": \"2021-04-09T22:44:32.187921Z\", \"created_time\": \"2021-04-09T22:44:15.075869Z\", \"created_time_dt\": \"2021-04-09T22:44:15.075869Z\", \"duration\": \"0:00:17\", \"iteration\": \"37\", \"goal\": null, \"run_name\": \"Canceled\", \"run_properties\": null}, {\"run_id\": \"AutoML_4b044773-3eab-4b65-99fa-d34196707638_38\", \"run_number\": 43, \"metric\": null, \"status\": \"Completed\", \"run_type\": \"azureml.scriptrun\", \"training_percent\": \"100\", \"start_time\": \"2021-04-09T22:44:42.967179Z\", \"end_time\": \"2021-04-09T22:46:03.02643Z\", \"created_time\": \"2021-04-09T22:44:33.196946Z\", \"created_time_dt\": \"2021-04-09T22:44:33.196946Z\", \"duration\": \"0:01:29\", \"iteration\": \"38\", \"goal\": \"AUC_weighted_max\", \"run_name\": \"VotingEnsemble\", \"run_properties\": \"classification_labels=None,\\n                              estimators=[('3',\\n                                           Pipeline(memory=None,\\n                                                    steps=[('minmaxscaler',\\n                                                            MinMaxScaler(copy=True,\\n                                                                         feature_range=(0,\\n                                                                                        1\", \"primary_metric\": 0.98663406, \"best_metric\": 0.98663406}, {\"run_id\": \"AutoML_4b044773-3eab-4b65-99fa-d34196707638_39\", \"run_number\": 44, \"metric\": null, \"status\": \"Completed\", \"run_type\": \"azureml.scriptrun\", \"training_percent\": \"100\", \"start_time\": \"2021-04-09T22:44:45.156185Z\", \"end_time\": \"2021-04-09T22:50:54.869641Z\", \"created_time\": \"2021-04-09T22:44:33.245371Z\", \"created_time_dt\": \"2021-04-09T22:44:33.245371Z\", \"duration\": \"0:06:21\", \"iteration\": \"39\", \"goal\": \"AUC_weighted_max\", \"run_name\": \"StackEnsemble\", \"run_properties\": \"base_learners=[('3',\\n                                        Pipeline(memory=None,\\n                                                 steps=[('minmaxscaler',\\n                                                         MinMaxScaler(copy=True,\\n                                                                      feature_range=(0,\\n                                                                                     1\", \"primary_metric\": 0.98552436, \"best_metric\": 0.98663406}], \"children_metrics\": {\"categories\": [0], \"series\": {\"weighted_accuracy\": [{\"categories\": [\"0\", \"1\", \"2\", \"3\", \"4\", \"5\", \"6\", \"7\", \"8\", \"9\", \"10\", \"11\", \"12\", \"13\", \"14\", \"15\", \"16\", \"17\", \"18\", \"19\", \"20\", \"21\", \"22\", \"23\", \"24\", \"25\", \"26\", \"27\", \"28\", \"29\", \"30\", \"31\", \"32\", \"33\", \"34\", \"38\", \"39\"], \"mode\": \"markers\", \"name\": \"weighted_accuracy\", \"stepped\": false, \"type\": \"scatter\", \"data\": [0.999718142815141, 0.9626124178261111, 0.9923674136215652, 0.9273353094847816, 0.9587434885671643, 0.9839615384341808, 0.9750278477899701, 0.9713699477297848, 0.9775600163301703, 0.9681343485270452, 0.3059953083386636, 0.9514630418248622, 0.788478217929472, 0.9748871616574621, 2.9701340404421287e-06, 0.15862652392168652, 0.3465480254190776, 2.9701340404421287e-06, 0.9785098901845203, 0.9677825119658146, 0.000389856998437092, 2.9701340404421287e-06, 0.04987620410808133, 0.4066561755330661, 0.9755204310986888, 0.8923396340234481, 0.9997884858813948, 0.9932818734828666, 0.9835394194216768, 0.9973969428587217, 2.9701340404421287e-06, 0.9963769683980397, 0.46982418841412066, 0.9748520507393156, 0.978545001102667, 0.9880062041288018, 0.9963418574798931]}, {\"categories\": [\"0\", \"1\", \"2\", \"3\", \"4\", \"5\", \"6\", \"7\", \"8\", \"9\", \"10\", \"11\", \"12\", \"13\", \"14\", \"15\", \"16\", \"17\", \"18\", \"19\", \"20\", \"21\", \"22\", \"23\", \"24\", \"25\", \"26\", \"27\", \"28\", \"29\", \"30\", \"31\", \"32\", \"33\", \"34\", \"38\", \"39\"], \"mode\": \"lines\", \"name\": \"weighted_accuracy_max\", \"stepped\": true, \"type\": \"scatter\", \"data\": [0.999718142815141, 0.999718142815141, 0.999718142815141, 0.999718142815141, 0.999718142815141, 0.999718142815141, 0.999718142815141, 0.999718142815141, 0.999718142815141, 0.999718142815141, 0.999718142815141, 0.999718142815141, 0.999718142815141, 0.999718142815141, 0.999718142815141, 0.999718142815141, 0.999718142815141, 0.999718142815141, 0.999718142815141, 0.999718142815141, 0.999718142815141, 0.999718142815141, 0.999718142815141, 0.999718142815141, 0.999718142815141, 0.999718142815141, 0.9997884858813948, 0.9997884858813948, 0.9997884858813948, 0.9997884858813948, 0.9997884858813948, 0.9997884858813948, 0.9997884858813948, 0.9997884858813948, 0.9997884858813948, 0.9997884858813948, 0.9997884858813948]}], \"f1_score_micro\": [{\"categories\": [\"0\", \"1\", \"2\", \"3\", \"4\", \"5\", \"6\", \"7\", \"8\", \"9\", \"10\", \"11\", \"12\", \"13\", \"14\", \"15\", \"16\", \"17\", \"18\", \"19\", \"20\", \"21\", \"22\", \"23\", \"24\", \"25\", \"26\", \"27\", \"28\", \"29\", \"30\", \"31\", \"32\", \"33\", \"34\", \"38\", \"39\"], \"mode\": \"markers\", \"name\": \"f1_score_micro\", \"stepped\": false, \"type\": \"scatter\", \"data\": [0.9994382219725431, 0.9625364277939679, 0.9921702187423195, 0.9272848565710473, 0.9586390927284857, 0.9838488817106141, 0.9748604332713037, 0.9711737649661177, 0.9772831010147116, 0.9680488746883887, 0.30718724763877675, 0.951406200624978, 0.788736350549489, 0.9747199887644394, 0.0017204452090867595, 0.1600365155717847, 0.3476352656156736, 0.0017204452090867595, 0.9783715459429093, 0.967627541167796, 0.002106667602963379, 0.0017204452090867595, 0.05150802289245462, 0.40764018117341383, 0.9754573224254767, 0.8923492854885713, 0.9995084442259752, 0.9930831080369369, 0.9833924370633054, 0.9971911098627155, 0.0017204452090867595, 0.9961728871879498, 0.47066465362873494, 0.9747199887644394, 0.9783715459429093, 0.9878515501562445, 0.9961728871879498]}, {\"categories\": [\"0\", \"1\", \"2\", \"3\", \"4\", \"5\", \"6\", \"7\", \"8\", \"9\", \"10\", \"11\", \"12\", \"13\", \"14\", \"15\", \"16\", \"17\", \"18\", \"19\", \"20\", \"21\", \"22\", \"23\", \"24\", \"25\", \"26\", \"27\", \"28\", \"29\", \"30\", \"31\", \"32\", \"33\", \"34\", \"38\", \"39\"], \"mode\": \"lines\", \"name\": \"f1_score_micro_max\", \"stepped\": true, \"type\": \"scatter\", \"data\": [0.9994382219725431, 0.9994382219725431, 0.9994382219725431, 0.9994382219725431, 0.9994382219725431, 0.9994382219725431, 0.9994382219725431, 0.9994382219725431, 0.9994382219725431, 0.9994382219725431, 0.9994382219725431, 0.9994382219725431, 0.9994382219725431, 0.9994382219725431, 0.9994382219725431, 0.9994382219725431, 0.9994382219725431, 0.9994382219725431, 0.9994382219725431, 0.9994382219725431, 0.9994382219725431, 0.9994382219725431, 0.9994382219725431, 0.9994382219725431, 0.9994382219725431, 0.9994382219725431, 0.9995084442259752, 0.9995084442259752, 0.9995084442259752, 0.9995084442259752, 0.9995084442259752, 0.9995084442259752, 0.9995084442259752, 0.9995084442259752, 0.9995084442259752, 0.9995084442259752, 0.9995084442259752]}], \"precision_score_micro\": [{\"categories\": [\"0\", \"1\", \"2\", \"3\", \"4\", \"5\", \"6\", \"7\", \"8\", \"9\", \"10\", \"11\", \"12\", \"13\", \"14\", \"15\", \"16\", \"17\", \"18\", \"19\", \"20\", \"21\", \"22\", \"23\", \"24\", \"25\", \"26\", \"27\", \"28\", \"29\", \"30\", \"31\", \"32\", \"33\", \"34\", \"38\", \"39\"], \"mode\": \"markers\", \"name\": \"precision_score_micro\", \"stepped\": false, \"type\": \"scatter\", \"data\": [0.9994382219725431, 0.9625364277939679, 0.9921702187423195, 0.9272848565710473, 0.9586390927284857, 0.9838488817106141, 0.9748604332713037, 0.9711737649661177, 0.9772831010147116, 0.9680488746883887, 0.30718724763877675, 0.951406200624978, 0.7887363505494891, 0.9747199887644394, 0.0017204452090867595, 0.1600365155717847, 0.3476352656156736, 0.0017204452090867595, 0.9783715459429093, 0.967627541167796, 0.002106667602963379, 0.0017204452090867595, 0.05150802289245462, 0.40764018117341383, 0.9754573224254767, 0.8923492854885713, 0.9995084442259752, 0.9930831080369369, 0.9833924370633054, 0.9971911098627155, 0.0017204452090867595, 0.9961728871879498, 0.47066465362873494, 0.9747199887644394, 0.9783715459429093, 0.9878515501562445, 0.9961728871879498]}, {\"categories\": [\"0\", \"1\", \"2\", \"3\", \"4\", \"5\", \"6\", \"7\", \"8\", \"9\", \"10\", \"11\", \"12\", \"13\", \"14\", \"15\", \"16\", \"17\", \"18\", \"19\", \"20\", \"21\", \"22\", \"23\", \"24\", \"25\", \"26\", \"27\", \"28\", \"29\", \"30\", \"31\", \"32\", \"33\", \"34\", \"38\", \"39\"], \"mode\": \"lines\", \"name\": \"precision_score_micro_max\", \"stepped\": true, \"type\": \"scatter\", \"data\": [0.9994382219725431, 0.9994382219725431, 0.9994382219725431, 0.9994382219725431, 0.9994382219725431, 0.9994382219725431, 0.9994382219725431, 0.9994382219725431, 0.9994382219725431, 0.9994382219725431, 0.9994382219725431, 0.9994382219725431, 0.9994382219725431, 0.9994382219725431, 0.9994382219725431, 0.9994382219725431, 0.9994382219725431, 0.9994382219725431, 0.9994382219725431, 0.9994382219725431, 0.9994382219725431, 0.9994382219725431, 0.9994382219725431, 0.9994382219725431, 0.9994382219725431, 0.9994382219725431, 0.9995084442259752, 0.9995084442259752, 0.9995084442259752, 0.9995084442259752, 0.9995084442259752, 0.9995084442259752, 0.9995084442259752, 0.9995084442259752, 0.9995084442259752, 0.9995084442259752, 0.9995084442259752]}], \"f1_score_weighted\": [{\"categories\": [\"0\", \"1\", \"2\", \"3\", \"4\", \"5\", \"6\", \"7\", \"8\", \"9\", \"10\", \"11\", \"12\", \"13\", \"14\", \"15\", \"16\", \"17\", \"18\", \"19\", \"20\", \"21\", \"22\", \"23\", \"24\", \"25\", \"26\", \"27\", \"28\", \"29\", \"30\", \"31\", \"32\", \"33\", \"34\", \"38\", \"39\"], \"mode\": \"markers\", \"name\": \"f1_score_weighted\", \"stepped\": false, \"type\": \"scatter\", \"data\": [0.9994382219725431, 0.9793261283653739, 0.9948289128460875, 0.9606247929114696, 0.9772850002734796, 0.9904208177910502, 0.9857366881360214, 0.9838186328849209, 0.9869833786808405, 0.9822013368049843, 0.4678008177965981, 0.9734851843662325, 0.8801875935134922, 0.9856637584013012, 5.909696126551085e-06, 0.2733420790877005, 0.5138284357753645, 5.909696126551085e-06, 0.9875638947082653, 0.9819768669277739, 0.0007780580292426742, 5.909696126551085e-06, 0.09485113728790419, 0.5771872921707466, 0.9860569228336828, 0.9414452140140083, 0.9995033324974358, 0.9953326412629068, 0.9901774807217497, 0.9977647432137969, 5.909696126551085e-06, 0.9971214890671708, 0.6381719495381406, 0.9856671066785593, 0.9875599944277157, 0.9925180709706095, 0.997131184828711]}, {\"categories\": [\"0\", \"1\", \"2\", \"3\", \"4\", \"5\", \"6\", \"7\", \"8\", \"9\", \"10\", \"11\", \"12\", \"13\", \"14\", \"15\", \"16\", \"17\", \"18\", \"19\", \"20\", \"21\", \"22\", \"23\", \"24\", \"25\", \"26\", \"27\", \"28\", \"29\", \"30\", \"31\", \"32\", \"33\", \"34\", \"38\", \"39\"], \"mode\": \"lines\", \"name\": \"f1_score_weighted_max\", \"stepped\": true, \"type\": \"scatter\", \"data\": [0.9994382219725431, 0.9994382219725431, 0.9994382219725431, 0.9994382219725431, 0.9994382219725431, 0.9994382219725431, 0.9994382219725431, 0.9994382219725431, 0.9994382219725431, 0.9994382219725431, 0.9994382219725431, 0.9994382219725431, 0.9994382219725431, 0.9994382219725431, 0.9994382219725431, 0.9994382219725431, 0.9994382219725431, 0.9994382219725431, 0.9994382219725431, 0.9994382219725431, 0.9994382219725431, 0.9994382219725431, 0.9994382219725431, 0.9994382219725431, 0.9994382219725431, 0.9994382219725431, 0.9995033324974358, 0.9995033324974358, 0.9995033324974358, 0.9995033324974358, 0.9995033324974358, 0.9995033324974358, 0.9995033324974358, 0.9995033324974358, 0.9995033324974358, 0.9995033324974358, 0.9995033324974358]}], \"log_loss\": [{\"categories\": [\"0\", \"1\", \"2\", \"3\", \"4\", \"5\", \"6\", \"7\", \"8\", \"9\", \"10\", \"11\", \"12\", \"13\", \"14\", \"15\", \"16\", \"17\", \"18\", \"19\", \"20\", \"21\", \"22\", \"23\", \"24\", \"25\", \"26\", \"27\", \"28\", \"29\", \"30\", \"31\", \"32\", \"33\", \"34\", \"38\", \"39\"], \"mode\": \"markers\", \"name\": \"log_loss\", \"stepped\": false, \"type\": \"scatter\", \"data\": [0.0039053037916055794, 0.16815301402146268, 0.5263210754703093, 0.26666109848848885, 0.21055267514538428, 0.11209214242257944, 0.26148390915393727, 0.4373413285750472, 0.5496705493768309, 0.3312078229156594, 1.16180103521427, 0.7426850785201116, 0.6179872540427334, 0.23130872078665438, 5.969143612871906, 1.4971931244550036, 1.3618242958907614, 2.213659977184976, 0.13494055645625555, 0.314559633906905, 3.368023927600082, 4.675171188195189, 2.3799249210874645, 1.3252044100812397, 0.08138476470049726, 0.46396587500503134, 0.0027613253944592277, 0.044701140308535454, 0.09516939648952481, 0.012751010236847556, 0.6960632256209652, 0.017168530668423745, 2.0914196458944705, 0.20470614841775556, 0.3529032142976087, 0.2667528660849534, 0.26903689044473345]}, {\"categories\": [\"0\", \"1\", \"2\", \"3\", \"4\", \"5\", \"6\", \"7\", \"8\", \"9\", \"10\", \"11\", \"12\", \"13\", \"14\", \"15\", \"16\", \"17\", \"18\", \"19\", \"20\", \"21\", \"22\", \"23\", \"24\", \"25\", \"26\", \"27\", \"28\", \"29\", \"30\", \"31\", \"32\", \"33\", \"34\", \"38\", \"39\"], \"mode\": \"lines\", \"name\": \"log_loss_min\", \"stepped\": true, \"type\": \"scatter\", \"data\": [0.0039053037916055794, 0.0039053037916055794, 0.0039053037916055794, 0.0039053037916055794, 0.0039053037916055794, 0.0039053037916055794, 0.0039053037916055794, 0.0039053037916055794, 0.0039053037916055794, 0.0039053037916055794, 0.0039053037916055794, 0.0039053037916055794, 0.0039053037916055794, 0.0039053037916055794, 0.0039053037916055794, 0.0039053037916055794, 0.0039053037916055794, 0.0039053037916055794, 0.0039053037916055794, 0.0039053037916055794, 0.0039053037916055794, 0.0039053037916055794, 0.0039053037916055794, 0.0039053037916055794, 0.0039053037916055794, 0.0039053037916055794, 0.0027613253944592277, 0.0027613253944592277, 0.0027613253944592277, 0.0027613253944592277, 0.0027613253944592277, 0.0027613253944592277, 0.0027613253944592277, 0.0027613253944592277, 0.0027613253944592277, 0.0027613253944592277, 0.0027613253944592277]}], \"recall_score_weighted\": [{\"categories\": [\"0\", \"1\", \"2\", \"3\", \"4\", \"5\", \"6\", \"7\", \"8\", \"9\", \"10\", \"11\", \"12\", \"13\", \"14\", \"15\", \"16\", \"17\", \"18\", \"19\", \"20\", \"21\", \"22\", \"23\", \"24\", \"25\", \"26\", \"27\", \"28\", \"29\", \"30\", \"31\", \"32\", \"33\", \"34\", \"38\", \"39\"], \"mode\": \"markers\", \"name\": \"recall_score_weighted\", \"stepped\": false, \"type\": \"scatter\", \"data\": [0.9994382219725431, 0.9625364277939679, 0.9921702187423195, 0.9272848565710473, 0.9586390927284857, 0.9838488817106141, 0.9748604332713037, 0.9711737649661177, 0.9772831010147116, 0.9680488746883887, 0.30718724763877675, 0.951406200624978, 0.7887363505494891, 0.9747199887644394, 0.0017204452090867595, 0.1600365155717847, 0.3476352656156736, 0.0017204452090867595, 0.9783715459429093, 0.967627541167796, 0.002106667602963379, 0.0017204452090867595, 0.05150802289245462, 0.40764018117341383, 0.9754573224254767, 0.8923492854885713, 0.9995084442259752, 0.9930831080369369, 0.9833924370633054, 0.9971911098627155, 0.0017204452090867595, 0.9961728871879498, 0.47066465362873494, 0.9747199887644394, 0.9783715459429093, 0.9878515501562445, 0.9961728871879498]}, {\"categories\": [\"0\", \"1\", \"2\", \"3\", \"4\", \"5\", \"6\", \"7\", \"8\", \"9\", \"10\", \"11\", \"12\", \"13\", \"14\", \"15\", \"16\", \"17\", \"18\", \"19\", \"20\", \"21\", \"22\", \"23\", \"24\", \"25\", \"26\", \"27\", \"28\", \"29\", \"30\", \"31\", \"32\", \"33\", \"34\", \"38\", \"39\"], \"mode\": \"lines\", \"name\": \"recall_score_weighted_max\", \"stepped\": true, \"type\": \"scatter\", \"data\": [0.9994382219725431, 0.9994382219725431, 0.9994382219725431, 0.9994382219725431, 0.9994382219725431, 0.9994382219725431, 0.9994382219725431, 0.9994382219725431, 0.9994382219725431, 0.9994382219725431, 0.9994382219725431, 0.9994382219725431, 0.9994382219725431, 0.9994382219725431, 0.9994382219725431, 0.9994382219725431, 0.9994382219725431, 0.9994382219725431, 0.9994382219725431, 0.9994382219725431, 0.9994382219725431, 0.9994382219725431, 0.9994382219725431, 0.9994382219725431, 0.9994382219725431, 0.9994382219725431, 0.9995084442259752, 0.9995084442259752, 0.9995084442259752, 0.9995084442259752, 0.9995084442259752, 0.9995084442259752, 0.9995084442259752, 0.9995084442259752, 0.9995084442259752, 0.9995084442259752, 0.9995084442259752]}], \"balanced_accuracy\": [{\"categories\": [\"0\", \"1\", \"2\", \"3\", \"4\", \"5\", \"6\", \"7\", \"8\", \"9\", \"10\", \"11\", \"12\", \"13\", \"14\", \"15\", \"16\", \"17\", \"18\", \"19\", \"20\", \"21\", \"22\", \"23\", \"24\", \"25\", \"26\", \"27\", \"28\", \"29\", \"30\", \"31\", \"32\", \"33\", \"34\", \"38\", \"39\"], \"mode\": \"markers\", \"name\": \"balanced_accuracy\", \"stepped\": false, \"type\": \"scatter\", \"data\": [0.9182266603884097, 0.9404899480895341, 0.9349593875254096, 0.9126472902047706, 0.9283514263893515, 0.951164540098538, 0.9262895788591182, 0.91425657207171, 0.8969435129144512, 0.9432509216404625, 0.6529966235227912, 0.9349152435312899, 0.8636266408645619, 0.9262192355839354, 0.5, 0.5691079611360582, 0.663068990961607, 0.5, 0.9382346565525479, 0.9226669001871992, 0.5001934440067529, 0.5, 0.5249366910523354, 0.6931231552834978, 0.9571480252202176, 0.8951494005030263, 0.9182618320260012, 0.9354166188140984, 0.9407494286403363, 0.9374741596131981, 0.5, 0.9369641708681221, 0.7145032042079634, 0.9364057313977927, 0.9280481607386906, 0.942982827627393, 0.9471506666819796]}, {\"categories\": [\"0\", \"1\", \"2\", \"3\", \"4\", \"5\", \"6\", \"7\", \"8\", \"9\", \"10\", \"11\", \"12\", \"13\", \"14\", \"15\", \"16\", \"17\", \"18\", \"19\", \"20\", \"21\", \"22\", \"23\", \"24\", \"25\", \"26\", \"27\", \"28\", \"29\", \"30\", \"31\", \"32\", \"33\", \"34\", \"38\", \"39\"], \"mode\": \"lines\", \"name\": \"balanced_accuracy_max\", \"stepped\": true, \"type\": \"scatter\", \"data\": [0.9182266603884097, 0.9404899480895341, 0.9404899480895341, 0.9404899480895341, 0.9404899480895341, 0.951164540098538, 0.951164540098538, 0.951164540098538, 0.951164540098538, 0.951164540098538, 0.951164540098538, 0.951164540098538, 0.951164540098538, 0.951164540098538, 0.951164540098538, 0.951164540098538, 0.951164540098538, 0.951164540098538, 0.951164540098538, 0.951164540098538, 0.951164540098538, 0.951164540098538, 0.951164540098538, 0.951164540098538, 0.9571480252202176, 0.9571480252202176, 0.9571480252202176, 0.9571480252202176, 0.9571480252202176, 0.9571480252202176, 0.9571480252202176, 0.9571480252202176, 0.9571480252202176, 0.9571480252202176, 0.9571480252202176, 0.9571480252202176, 0.9571480252202176]}], \"precision_score_weighted\": [{\"categories\": [\"0\", \"1\", \"2\", \"3\", \"4\", \"5\", \"6\", \"7\", \"8\", \"9\", \"10\", \"11\", \"12\", \"13\", \"14\", \"15\", \"16\", \"17\", \"18\", \"19\", \"20\", \"21\", \"22\", \"23\", \"24\", \"25\", \"26\", \"27\", \"28\", \"29\", \"30\", \"31\", \"32\", \"33\", \"34\", \"38\", \"39\"], \"mode\": \"markers\", \"name\": \"precision_score_weighted\", \"stepped\": false, \"type\": \"scatter\", \"data\": [0.9994382219725431, 0.9982035504782181, 0.9983518481072773, 0.9981261553591402, 0.9981586800869034, 0.9982913724946737, 0.9981617851824856, 0.9981110114434075, 0.9980579068268715, 0.9982159178034018, 0.9982838165479146, 0.9981862974789484, 0.998159041345961, 0.9981612348831558, 2.959931717469584e-06, 0.998061701039747, 0.998182681175666, 2.959931717469584e-06, 0.9982157477647607, 0.9981390644130059, 0.9982825158662643, 2.959931717469584e-06, 0.9982826698119843, 0.9981981021056596, 0.9982782482083062, 0.998107237111452, 0.9994994994402474, 0.9983836584844573, 0.9982489437621616, 0.9987006833530276, 2.959931717469584e-06, 0.9985748733148794, 0.9981354593348759, 0.9981992388810579, 0.998177606744893, 0.9982985219975208, 0.9986148694488886]}, {\"categories\": [\"0\", \"1\", \"2\", \"3\", \"4\", \"5\", \"6\", \"7\", \"8\", \"9\", \"10\", \"11\", \"12\", \"13\", \"14\", \"15\", \"16\", \"17\", \"18\", \"19\", \"20\", \"21\", \"22\", \"23\", \"24\", \"25\", \"26\", \"27\", \"28\", \"29\", \"30\", \"31\", \"32\", \"33\", \"34\", \"38\", \"39\"], \"mode\": \"lines\", \"name\": \"precision_score_weighted_max\", \"stepped\": true, \"type\": \"scatter\", \"data\": [0.9994382219725431, 0.9994382219725431, 0.9994382219725431, 0.9994382219725431, 0.9994382219725431, 0.9994382219725431, 0.9994382219725431, 0.9994382219725431, 0.9994382219725431, 0.9994382219725431, 0.9994382219725431, 0.9994382219725431, 0.9994382219725431, 0.9994382219725431, 0.9994382219725431, 0.9994382219725431, 0.9994382219725431, 0.9994382219725431, 0.9994382219725431, 0.9994382219725431, 0.9994382219725431, 0.9994382219725431, 0.9994382219725431, 0.9994382219725431, 0.9994382219725431, 0.9994382219725431, 0.9994994994402474, 0.9994994994402474, 0.9994994994402474, 0.9994994994402474, 0.9994994994402474, 0.9994994994402474, 0.9994994994402474, 0.9994994994402474, 0.9994994994402474, 0.9994994994402474, 0.9994994994402474]}], \"f1_score_macro\": [{\"categories\": [\"0\", \"1\", \"2\", \"3\", \"4\", \"5\", \"6\", \"7\", \"8\", \"9\", \"10\", \"11\", \"12\", \"13\", \"14\", \"15\", \"16\", \"17\", \"18\", \"19\", \"20\", \"21\", \"22\", \"23\", \"24\", \"25\", \"26\", \"27\", \"28\", \"29\", \"30\", \"31\", \"32\", \"33\", \"34\", \"38\", \"39\"], \"mode\": \"markers\", \"name\": \"f1_score_macro\", \"stepped\": false, \"type\": \"scatter\", \"data\": [0.9182266603884097, 0.5293336153170106, 0.6371904543283053, 0.5014848544591615, 0.5241798685529616, 0.5777410351118073, 0.5472413162251067, 0.5390859363057551, 0.5492679875874588, 0.5368694828633715, 0.23677026023581135, 0.5180580073836543, 0.44836915580806924, 0.5469391629167737, 0.0017174903610234842, 0.13890155363842002, 0.2599227005701484, 0.0017174903610234842, 0.5570252230793842, 0.5344198196250775, 0.0021048911994659162, 0.0017174903610234842, 0.04931150539754937, 0.2919151568078148, 0.5519321632577567, 0.4854603516653591, 0.9269602369312653, 0.6502056058428854, 0.5742381844849782, 0.7583318696293733, 0.0017174903610234842, 0.7195527556864248, 0.3227287714730754, 0.5480445042046678, 0.5557789789570806, 0.5983220582499957, 0.722390155154768]}, {\"categories\": [\"0\", \"1\", \"2\", \"3\", \"4\", \"5\", \"6\", \"7\", \"8\", \"9\", \"10\", \"11\", \"12\", \"13\", \"14\", \"15\", \"16\", \"17\", \"18\", \"19\", \"20\", \"21\", \"22\", \"23\", \"24\", \"25\", \"26\", \"27\", \"28\", \"29\", \"30\", \"31\", \"32\", \"33\", \"34\", \"38\", \"39\"], \"mode\": \"lines\", \"name\": \"f1_score_macro_max\", \"stepped\": true, \"type\": \"scatter\", \"data\": [0.9182266603884097, 0.9182266603884097, 0.9182266603884097, 0.9182266603884097, 0.9182266603884097, 0.9182266603884097, 0.9182266603884097, 0.9182266603884097, 0.9182266603884097, 0.9182266603884097, 0.9182266603884097, 0.9182266603884097, 0.9182266603884097, 0.9182266603884097, 0.9182266603884097, 0.9182266603884097, 0.9182266603884097, 0.9182266603884097, 0.9182266603884097, 0.9182266603884097, 0.9182266603884097, 0.9182266603884097, 0.9182266603884097, 0.9182266603884097, 0.9182266603884097, 0.9182266603884097, 0.9269602369312653, 0.9269602369312653, 0.9269602369312653, 0.9269602369312653, 0.9269602369312653, 0.9269602369312653, 0.9269602369312653, 0.9269602369312653, 0.9269602369312653, 0.9269602369312653, 0.9269602369312653]}], \"average_precision_score_micro\": [{\"categories\": [\"0\", \"1\", \"2\", \"3\", \"4\", \"5\", \"6\", \"7\", \"8\", \"9\", \"10\", \"11\", \"12\", \"13\", \"14\", \"15\", \"16\", \"17\", \"18\", \"19\", \"20\", \"21\", \"22\", \"23\", \"24\", \"25\", \"26\", \"27\", \"28\", \"29\", \"30\", \"31\", \"32\", \"33\", \"34\", \"38\", \"39\"], \"mode\": \"markers\", \"name\": \"average_precision_score_micro\", \"stepped\": false, \"type\": \"scatter\", \"data\": [0.9993073134574981, 0.9940282492874595, 0.997690831943057, 0.9784515651039482, 0.9922544344977583, 0.9964054539370424, 0.996645625418713, 0.9945947468096721, 0.9944813920048188, 0.9963380112498315, 0.3554261890939694, 0.9790723920305398, 0.8104188805459968, 0.9969702579893334, 0.30813281992875124, 0.3135610585126532, 0.3593931467858163, 0.30834707605615486, 0.9975140619010461, 0.9945997214804361, 0.3081164355969294, 0.3083168411986826, 0.30853335060237397, 0.5287437886885664, 0.9966227277183426, 0.960747000545758, 0.9998965029219264, 0.9987198565613324, 0.9972386238741866, 0.999690528867428, 0.49914273732717407, 0.9996319709308337, 0.4721604762058515, 0.9957382093691884, 0.9970837774552755, 0.9971217507404015, 0.9991527238137898]}, {\"categories\": [\"0\", \"1\", \"2\", \"3\", \"4\", \"5\", \"6\", \"7\", \"8\", \"9\", \"10\", \"11\", \"12\", \"13\", \"14\", \"15\", \"16\", \"17\", \"18\", \"19\", \"20\", \"21\", \"22\", \"23\", \"24\", \"25\", \"26\", \"27\", \"28\", \"29\", \"30\", \"31\", \"32\", \"33\", \"34\", \"38\", \"39\"], \"mode\": \"lines\", \"name\": \"average_precision_score_micro_max\", \"stepped\": true, \"type\": \"scatter\", \"data\": [0.9993073134574981, 0.9993073134574981, 0.9993073134574981, 0.9993073134574981, 0.9993073134574981, 0.9993073134574981, 0.9993073134574981, 0.9993073134574981, 0.9993073134574981, 0.9993073134574981, 0.9993073134574981, 0.9993073134574981, 0.9993073134574981, 0.9993073134574981, 0.9993073134574981, 0.9993073134574981, 0.9993073134574981, 0.9993073134574981, 0.9993073134574981, 0.9993073134574981, 0.9993073134574981, 0.9993073134574981, 0.9993073134574981, 0.9993073134574981, 0.9993073134574981, 0.9993073134574981, 0.9998965029219264, 0.9998965029219264, 0.9998965029219264, 0.9998965029219264, 0.9998965029219264, 0.9998965029219264, 0.9998965029219264, 0.9998965029219264, 0.9998965029219264, 0.9998965029219264, 0.9998965029219264]}], \"AUC_weighted\": [{\"categories\": [\"0\", \"1\", \"2\", \"3\", \"4\", \"5\", \"6\", \"7\", \"8\", \"9\", \"10\", \"11\", \"12\", \"13\", \"14\", \"15\", \"16\", \"17\", \"18\", \"19\", \"20\", \"21\", \"22\", \"23\", \"24\", \"25\", \"26\", \"27\", \"28\", \"29\", \"30\", \"31\", \"32\", \"33\", \"34\", \"38\", \"39\"], \"mode\": \"markers\", \"name\": \"AUC_weighted\", \"stepped\": false, \"type\": \"scatter\", \"data\": [0.9251518840513135, 0.9489928709243965, 0.9631124889460568, 0.9796406463542084, 0.9637556274620147, 0.9621000500877623, 0.948019908582454, 0.9498635484019156, 0.951441965362397, 0.946009382931563, 0.9709963191804579, 0.9608397467505516, 0.9620569809240521, 0.9608679642369046, 0.9485650689651213, 0.9413254539294617, 0.97197538272484, 0.9742392877240937, 0.9681962261550654, 0.9738089735049901, 0.9590835419705306, 0.9465904327403444, 0.9627848184856383, 0.9642587972161291, 0.973468382851171, 0.9524533293902819, 0.973599738150747, 0.9763381013632239, 0.9711039874587989, 0.973975859336419, 0.5, 0.977206625475176, 0.9612365486430926, 0.9591696765932034, 0.9638281241027643, 0.9866340599267281, 0.9855243588712919]}, {\"categories\": [\"0\", \"1\", \"2\", \"3\", \"4\", \"5\", \"6\", \"7\", \"8\", \"9\", \"10\", \"11\", \"12\", \"13\", \"14\", \"15\", \"16\", \"17\", \"18\", \"19\", \"20\", \"21\", \"22\", \"23\", \"24\", \"25\", \"26\", \"27\", \"28\", \"29\", \"30\", \"31\", \"32\", \"33\", \"34\", \"38\", \"39\"], \"mode\": \"lines\", \"name\": \"AUC_weighted_max\", \"stepped\": true, \"type\": \"scatter\", \"data\": [0.9251518840513135, 0.9489928709243965, 0.9631124889460568, 0.9796406463542084, 0.9796406463542084, 0.9796406463542084, 0.9796406463542084, 0.9796406463542084, 0.9796406463542084, 0.9796406463542084, 0.9796406463542084, 0.9796406463542084, 0.9796406463542084, 0.9796406463542084, 0.9796406463542084, 0.9796406463542084, 0.9796406463542084, 0.9796406463542084, 0.9796406463542084, 0.9796406463542084, 0.9796406463542084, 0.9796406463542084, 0.9796406463542084, 0.9796406463542084, 0.9796406463542084, 0.9796406463542084, 0.9796406463542084, 0.9796406463542084, 0.9796406463542084, 0.9796406463542084, 0.9796406463542084, 0.9796406463542084, 0.9796406463542084, 0.9796406463542084, 0.9796406463542084, 0.9866340599267281, 0.9866340599267281]}], \"precision_score_macro\": [{\"categories\": [\"0\", \"1\", \"2\", \"3\", \"4\", \"5\", \"6\", \"7\", \"8\", \"9\", \"10\", \"11\", \"12\", \"13\", \"14\", \"15\", \"16\", \"17\", \"18\", \"19\", \"20\", \"21\", \"22\", \"23\", \"24\", \"25\", \"26\", \"27\", \"28\", \"29\", \"30\", \"31\", \"32\", \"33\", \"34\", \"38\", \"39\"], \"mode\": \"markers\", \"name\": \"precision_score_macro\", \"stepped\": false, \"type\": \"scatter\", \"data\": [0.9182266603884097, 0.5202337945069854, 0.5825860038760007, 0.5103317391770833, 0.5179855431031822, 0.5448387000124126, 0.5284442629558703, 0.5244060134477946, 0.5293366720363043, 0.5235866579733494, 0.501238562256711, 0.515715552927262, 0.5037284779724571, 0.5282933757111761, 0.0008602226045433798, 0.5008904113959785, 0.5012377114308263, 0.0008602226045433798, 0.5334979422287793, 0.5223101829466373, 0.500860554970144, 0.0008602226045433798, 0.5009052950522854, 0.5013753660270559, 0.5309432290928271, 0.5069868279307873, 0.9360295361112483, 0.5917741359115665, 0.5428793653241089, 0.6836549158859129, 0.0008602226045433798, 0.6471543978476689, 0.5014792797184547, 0.5288953261627609, 0.5328171566267605, 0.5570538765050439, 0.6485604123164566]}, {\"categories\": [\"0\", \"1\", \"2\", \"3\", \"4\", \"5\", \"6\", \"7\", \"8\", \"9\", \"10\", \"11\", \"12\", \"13\", \"14\", \"15\", \"16\", \"17\", \"18\", \"19\", \"20\", \"21\", \"22\", \"23\", \"24\", \"25\", \"26\", \"27\", \"28\", \"29\", \"30\", \"31\", \"32\", \"33\", \"34\", \"38\", \"39\"], \"mode\": \"lines\", \"name\": \"precision_score_macro_max\", \"stepped\": true, \"type\": \"scatter\", \"data\": [0.9182266603884097, 0.9182266603884097, 0.9182266603884097, 0.9182266603884097, 0.9182266603884097, 0.9182266603884097, 0.9182266603884097, 0.9182266603884097, 0.9182266603884097, 0.9182266603884097, 0.9182266603884097, 0.9182266603884097, 0.9182266603884097, 0.9182266603884097, 0.9182266603884097, 0.9182266603884097, 0.9182266603884097, 0.9182266603884097, 0.9182266603884097, 0.9182266603884097, 0.9182266603884097, 0.9182266603884097, 0.9182266603884097, 0.9182266603884097, 0.9182266603884097, 0.9182266603884097, 0.9360295361112483, 0.9360295361112483, 0.9360295361112483, 0.9360295361112483, 0.9360295361112483, 0.9360295361112483, 0.9360295361112483, 0.9360295361112483, 0.9360295361112483, 0.9360295361112483, 0.9360295361112483]}], \"AUC_macro\": [{\"categories\": [\"0\", \"1\", \"2\", \"3\", \"4\", \"5\", \"6\", \"7\", \"8\", \"9\", \"10\", \"11\", \"12\", \"13\", \"14\", \"15\", \"16\", \"17\", \"18\", \"19\", \"20\", \"21\", \"22\", \"23\", \"24\", \"25\", \"26\", \"27\", \"28\", \"29\", \"30\", \"31\", \"32\", \"33\", \"34\", \"38\", \"39\"], \"mode\": \"markers\", \"name\": \"AUC_macro\", \"stepped\": false, \"type\": \"scatter\", \"data\": [0.9251518840513133, 0.9489928709243968, 0.9631124889460567, 0.9796406463542084, 0.9637556274620146, 0.9621005865767804, 0.9480199085824539, 0.9498635484019156, 0.951441965362397, 0.9460093829315631, 0.9709963191804578, 0.958800015504232, 0.9620569809240522, 0.9608679642369047, 0.9485650689651213, 0.9413254539294615, 0.9719753827248401, 0.9742392877240936, 0.9681962261550653, 0.97380897350499, 0.9590835419705305, 0.9465904327403443, 0.9627848184856385, 0.9642587972161291, 0.9734683828511709, 0.9524533293902817, 0.9735997381507471, 0.976338101363224, 0.9711039874587989, 0.973975859336419, 0.5, 0.9772066254751761, 0.9612365486430927, 0.9591696765932034, 0.9638281241027644, 0.986634059926728, 0.9855243588712919]}, {\"categories\": [\"0\", \"1\", \"2\", \"3\", \"4\", \"5\", \"6\", \"7\", \"8\", \"9\", \"10\", \"11\", \"12\", \"13\", \"14\", \"15\", \"16\", \"17\", \"18\", \"19\", \"20\", \"21\", \"22\", \"23\", \"24\", \"25\", \"26\", \"27\", \"28\", \"29\", \"30\", \"31\", \"32\", \"33\", \"34\", \"38\", \"39\"], \"mode\": \"lines\", \"name\": \"AUC_macro_max\", \"stepped\": true, \"type\": \"scatter\", \"data\": [0.9251518840513133, 0.9489928709243968, 0.9631124889460567, 0.9796406463542084, 0.9796406463542084, 0.9796406463542084, 0.9796406463542084, 0.9796406463542084, 0.9796406463542084, 0.9796406463542084, 0.9796406463542084, 0.9796406463542084, 0.9796406463542084, 0.9796406463542084, 0.9796406463542084, 0.9796406463542084, 0.9796406463542084, 0.9796406463542084, 0.9796406463542084, 0.9796406463542084, 0.9796406463542084, 0.9796406463542084, 0.9796406463542084, 0.9796406463542084, 0.9796406463542084, 0.9796406463542084, 0.9796406463542084, 0.9796406463542084, 0.9796406463542084, 0.9796406463542084, 0.9796406463542084, 0.9796406463542084, 0.9796406463542084, 0.9796406463542084, 0.9796406463542084, 0.986634059926728, 0.986634059926728]}], \"recall_score_micro\": [{\"categories\": [\"0\", \"1\", \"2\", \"3\", \"4\", \"5\", \"6\", \"7\", \"8\", \"9\", \"10\", \"11\", \"12\", \"13\", \"14\", \"15\", \"16\", \"17\", \"18\", \"19\", \"20\", \"21\", \"22\", \"23\", \"24\", \"25\", \"26\", \"27\", \"28\", \"29\", \"30\", \"31\", \"32\", \"33\", \"34\", \"38\", \"39\"], \"mode\": \"markers\", \"name\": \"recall_score_micro\", \"stepped\": false, \"type\": \"scatter\", \"data\": [0.9994382219725431, 0.9625364277939679, 0.9921702187423195, 0.9272848565710473, 0.9586390927284857, 0.9838488817106141, 0.9748604332713037, 0.9711737649661177, 0.9772831010147116, 0.9680488746883887, 0.30718724763877675, 0.951406200624978, 0.7887363505494891, 0.9747199887644394, 0.0017204452090867595, 0.1600365155717847, 0.3476352656156736, 0.0017204452090867595, 0.9783715459429093, 0.967627541167796, 0.002106667602963379, 0.0017204452090867595, 0.05150802289245462, 0.40764018117341383, 0.9754573224254767, 0.8923492854885713, 0.9995084442259752, 0.9930831080369369, 0.9833924370633054, 0.9971911098627155, 0.0017204452090867595, 0.9961728871879498, 0.47066465362873494, 0.9747199887644394, 0.9783715459429093, 0.9878515501562445, 0.9961728871879498]}, {\"categories\": [\"0\", \"1\", \"2\", \"3\", \"4\", \"5\", \"6\", \"7\", \"8\", \"9\", \"10\", \"11\", \"12\", \"13\", \"14\", \"15\", \"16\", \"17\", \"18\", \"19\", \"20\", \"21\", \"22\", \"23\", \"24\", \"25\", \"26\", \"27\", \"28\", \"29\", \"30\", \"31\", \"32\", \"33\", \"34\", \"38\", \"39\"], \"mode\": \"lines\", \"name\": \"recall_score_micro_max\", \"stepped\": true, \"type\": \"scatter\", \"data\": [0.9994382219725431, 0.9994382219725431, 0.9994382219725431, 0.9994382219725431, 0.9994382219725431, 0.9994382219725431, 0.9994382219725431, 0.9994382219725431, 0.9994382219725431, 0.9994382219725431, 0.9994382219725431, 0.9994382219725431, 0.9994382219725431, 0.9994382219725431, 0.9994382219725431, 0.9994382219725431, 0.9994382219725431, 0.9994382219725431, 0.9994382219725431, 0.9994382219725431, 0.9994382219725431, 0.9994382219725431, 0.9994382219725431, 0.9994382219725431, 0.9994382219725431, 0.9994382219725431, 0.9995084442259752, 0.9995084442259752, 0.9995084442259752, 0.9995084442259752, 0.9995084442259752, 0.9995084442259752, 0.9995084442259752, 0.9995084442259752, 0.9995084442259752, 0.9995084442259752, 0.9995084442259752]}], \"average_precision_score_macro\": [{\"categories\": [\"0\", \"1\", \"2\", \"3\", \"4\", \"5\", \"6\", \"7\", \"8\", \"9\", \"10\", \"11\", \"12\", \"13\", \"14\", \"15\", \"16\", \"17\", \"18\", \"19\", \"20\", \"21\", \"22\", \"23\", \"24\", \"25\", \"26\", \"27\", \"28\", \"29\", \"30\", \"31\", \"32\", \"33\", \"34\", \"38\", \"39\"], \"mode\": \"markers\", \"name\": \"average_precision_score_macro\", \"stepped\": false, \"type\": \"scatter\", \"data\": [0.9230587466456577, 0.845922578814591, 0.8219408158622565, 0.8225090224942181, 0.8417847622236905, 0.8490955237005366, 0.866445352080981, 0.7594004307149784, 0.7447567046896835, 0.8425761578448991, 0.8362131528765587, 0.5756395928220557, 0.8409563282011409, 0.8508981529719035, 0.6986698640634085, 0.8494261079202664, 0.7661549740702327, 0.838365514664182, 0.8298197057221941, 0.7932910872307346, 0.7695576767860124, 0.8278771930537867, 0.8137244099061949, 0.5625595436981538, 0.853848528547948, 0.6978479998265918, 0.9440161750406144, 0.8465000841999017, 0.8470752751518473, 0.906686872894332, 0.5, 0.9043912894135451, 0.7615035057788444, 0.8218462188395763, 0.8486657422505683, 0.9357010594301476, 0.9329202598821469]}, {\"categories\": [\"0\", \"1\", \"2\", \"3\", \"4\", \"5\", \"6\", \"7\", \"8\", \"9\", \"10\", \"11\", \"12\", \"13\", \"14\", \"15\", \"16\", \"17\", \"18\", \"19\", \"20\", \"21\", \"22\", \"23\", \"24\", \"25\", \"26\", \"27\", \"28\", \"29\", \"30\", \"31\", \"32\", \"33\", \"34\", \"38\", \"39\"], \"mode\": \"lines\", \"name\": \"average_precision_score_macro_max\", \"stepped\": true, \"type\": \"scatter\", \"data\": [0.9230587466456577, 0.9230587466456577, 0.9230587466456577, 0.9230587466456577, 0.9230587466456577, 0.9230587466456577, 0.9230587466456577, 0.9230587466456577, 0.9230587466456577, 0.9230587466456577, 0.9230587466456577, 0.9230587466456577, 0.9230587466456577, 0.9230587466456577, 0.9230587466456577, 0.9230587466456577, 0.9230587466456577, 0.9230587466456577, 0.9230587466456577, 0.9230587466456577, 0.9230587466456577, 0.9230587466456577, 0.9230587466456577, 0.9230587466456577, 0.9230587466456577, 0.9230587466456577, 0.9440161750406144, 0.9440161750406144, 0.9440161750406144, 0.9440161750406144, 0.9440161750406144, 0.9440161750406144, 0.9440161750406144, 0.9440161750406144, 0.9440161750406144, 0.9440161750406144, 0.9440161750406144]}], \"AUC_micro\": [{\"categories\": [\"0\", \"1\", \"2\", \"3\", \"4\", \"5\", \"6\", \"7\", \"8\", \"9\", \"10\", \"11\", \"12\", \"13\", \"14\", \"15\", \"16\", \"17\", \"18\", \"19\", \"20\", \"21\", \"22\", \"23\", \"24\", \"25\", \"26\", \"27\", \"28\", \"29\", \"30\", \"31\", \"32\", \"33\", \"34\", \"38\", \"39\"], \"mode\": \"markers\", \"name\": \"AUC_micro\", \"stepped\": false, \"type\": \"scatter\", \"data\": [0.9997415009403958, 0.9939121564335229, 0.9990357945380891, 0.9787268326739295, 0.9920455687565566, 0.996408641865954, 0.9967509171020504, 0.9951910269229878, 0.9958816636854302, 0.9965250623539327, 0.23750718071606436, 0.9804593099253163, 0.8255095954236746, 0.9970289768599306, 0.003261253012866229, 0.05595302915547164, 0.2490340301056566, 0.0033494431983192184, 0.9975094264178611, 0.9946270483632046, 0.0032975328256581553, 0.0032544701955778, 0.01010793998157428, 0.414282584774759, 0.9966706660920495, 0.9591278759550583, 0.9999079992568882, 0.9991871233586284, 0.9982024683559722, 0.9996871397787909, 0.001720445209086761, 0.9996308098496088, 0.45522249322849667, 0.9966401175256361, 0.9975539412759977, 0.9982769523686493, 0.9995546652671593]}, {\"categories\": [\"0\", \"1\", \"2\", \"3\", \"4\", \"5\", \"6\", \"7\", \"8\", \"9\", \"10\", \"11\", \"12\", \"13\", \"14\", \"15\", \"16\", \"17\", \"18\", \"19\", \"20\", \"21\", \"22\", \"23\", \"24\", \"25\", \"26\", \"27\", \"28\", \"29\", \"30\", \"31\", \"32\", \"33\", \"34\", \"38\", \"39\"], \"mode\": \"lines\", \"name\": \"AUC_micro_max\", \"stepped\": true, \"type\": \"scatter\", \"data\": [0.9997415009403958, 0.9997415009403958, 0.9997415009403958, 0.9997415009403958, 0.9997415009403958, 0.9997415009403958, 0.9997415009403958, 0.9997415009403958, 0.9997415009403958, 0.9997415009403958, 0.9997415009403958, 0.9997415009403958, 0.9997415009403958, 0.9997415009403958, 0.9997415009403958, 0.9997415009403958, 0.9997415009403958, 0.9997415009403958, 0.9997415009403958, 0.9997415009403958, 0.9997415009403958, 0.9997415009403958, 0.9997415009403958, 0.9997415009403958, 0.9997415009403958, 0.9997415009403958, 0.9999079992568882, 0.9999079992568882, 0.9999079992568882, 0.9999079992568882, 0.9999079992568882, 0.9999079992568882, 0.9999079992568882, 0.9999079992568882, 0.9999079992568882, 0.9999079992568882, 0.9999079992568882]}], \"recall_score_macro\": [{\"categories\": [\"0\", \"1\", \"2\", \"3\", \"4\", \"5\", \"6\", \"7\", \"8\", \"9\", \"10\", \"11\", \"12\", \"13\", \"14\", \"15\", \"16\", \"17\", \"18\", \"19\", \"20\", \"21\", \"22\", \"23\", \"24\", \"25\", \"26\", \"27\", \"28\", \"29\", \"30\", \"31\", \"32\", \"33\", \"34\", \"38\", \"39\"], \"mode\": \"markers\", \"name\": \"recall_score_macro\", \"stepped\": false, \"type\": \"scatter\", \"data\": [0.9182266603884097, 0.9404899480895341, 0.9349593875254096, 0.9126472902047706, 0.9283514263893515, 0.951164540098538, 0.9262895788591182, 0.91425657207171, 0.8969435129144512, 0.9432509216404625, 0.6529966235227912, 0.9349152435312899, 0.8636266408645619, 0.9262192355839354, 0.5, 0.5691079611360582, 0.663068990961607, 0.5, 0.9382346565525479, 0.9226669001871992, 0.5001934440067529, 0.5, 0.5249366910523354, 0.6931231552834978, 0.9571480252202176, 0.8951494005030263, 0.9182618320260012, 0.9354166188140984, 0.9407494286403363, 0.9374741596131981, 0.5, 0.9369641708681221, 0.7145032042079634, 0.9364057313977927, 0.9280481607386906, 0.942982827627393, 0.9471506666819796]}, {\"categories\": [\"0\", \"1\", \"2\", \"3\", \"4\", \"5\", \"6\", \"7\", \"8\", \"9\", \"10\", \"11\", \"12\", \"13\", \"14\", \"15\", \"16\", \"17\", \"18\", \"19\", \"20\", \"21\", \"22\", \"23\", \"24\", \"25\", \"26\", \"27\", \"28\", \"29\", \"30\", \"31\", \"32\", \"33\", \"34\", \"38\", \"39\"], \"mode\": \"lines\", \"name\": \"recall_score_macro_max\", \"stepped\": true, \"type\": \"scatter\", \"data\": [0.9182266603884097, 0.9404899480895341, 0.9404899480895341, 0.9404899480895341, 0.9404899480895341, 0.951164540098538, 0.951164540098538, 0.951164540098538, 0.951164540098538, 0.951164540098538, 0.951164540098538, 0.951164540098538, 0.951164540098538, 0.951164540098538, 0.951164540098538, 0.951164540098538, 0.951164540098538, 0.951164540098538, 0.951164540098538, 0.951164540098538, 0.951164540098538, 0.951164540098538, 0.951164540098538, 0.951164540098538, 0.9571480252202176, 0.9571480252202176, 0.9571480252202176, 0.9571480252202176, 0.9571480252202176, 0.9571480252202176, 0.9571480252202176, 0.9571480252202176, 0.9571480252202176, 0.9571480252202176, 0.9571480252202176, 0.9571480252202176, 0.9571480252202176]}], \"average_precision_score_weighted\": [{\"categories\": [\"0\", \"1\", \"2\", \"3\", \"4\", \"5\", \"6\", \"7\", \"8\", \"9\", \"10\", \"11\", \"12\", \"13\", \"14\", \"15\", \"16\", \"17\", \"18\", \"19\", \"20\", \"21\", \"22\", \"23\", \"24\", \"25\", \"26\", \"27\", \"28\", \"29\", \"30\", \"31\", \"32\", \"33\", \"34\", \"38\", \"39\"], \"mode\": \"markers\", \"name\": \"average_precision_score_weighted\", \"stepped\": false, \"type\": \"scatter\", \"data\": [0.9991205202051671, 0.9993269649513151, 0.9993012636150566, 0.9993502052882691, 0.9993731649300304, 0.9993587523058112, 0.9993675883588967, 0.9990272803534419, 0.9989140797392797, 0.9992523477739806, 0.9993743584811315, 0.998414383679762, 0.9993554440209796, 0.9993943528021703, 0.9988340788137415, 0.9992494433799815, 0.9991218429779125, 0.999390794243835, 0.9993446283477152, 0.9992355965768188, 0.9990821408519166, 0.9992165686476192, 0.9992654311153254, 0.9983913843313434, 0.9994276907929373, 0.9988004802756711, 0.9997359282609956, 0.9994225772681454, 0.9994095646032184, 0.9996233158296539, 0.9965650294452614, 0.9996216235863117, 0.9990809049102617, 0.999279209557354, 0.9993756016109052, 0.9997533783590155, 0.9997413768731624]}, {\"categories\": [\"0\", \"1\", \"2\", \"3\", \"4\", \"5\", \"6\", \"7\", \"8\", \"9\", \"10\", \"11\", \"12\", \"13\", \"14\", \"15\", \"16\", \"17\", \"18\", \"19\", \"20\", \"21\", \"22\", \"23\", \"24\", \"25\", \"26\", \"27\", \"28\", \"29\", \"30\", \"31\", \"32\", \"33\", \"34\", \"38\", \"39\"], \"mode\": \"lines\", \"name\": \"average_precision_score_weighted_max\", \"stepped\": true, \"type\": \"scatter\", \"data\": [0.9991205202051671, 0.9993269649513151, 0.9993269649513151, 0.9993502052882691, 0.9993731649300304, 0.9993731649300304, 0.9993731649300304, 0.9993731649300304, 0.9993731649300304, 0.9993731649300304, 0.9993743584811315, 0.9993743584811315, 0.9993743584811315, 0.9993943528021703, 0.9993943528021703, 0.9993943528021703, 0.9993943528021703, 0.9993943528021703, 0.9993943528021703, 0.9993943528021703, 0.9993943528021703, 0.9993943528021703, 0.9993943528021703, 0.9993943528021703, 0.9994276907929373, 0.9994276907929373, 0.9997359282609956, 0.9997359282609956, 0.9997359282609956, 0.9997359282609956, 0.9997359282609956, 0.9997359282609956, 0.9997359282609956, 0.9997359282609956, 0.9997359282609956, 0.9997533783590155, 0.9997533783590155]}], \"matthews_correlation\": [{\"categories\": [\"0\", \"1\", \"2\", \"3\", \"4\", \"5\", \"6\", \"7\", \"8\", \"9\", \"10\", \"11\", \"12\", \"13\", \"14\", \"15\", \"16\", \"17\", \"18\", \"19\", \"20\", \"21\", \"22\", \"23\", \"24\", \"25\", \"26\", \"27\", \"28\", \"29\", \"30\", \"31\", \"32\", \"33\", \"34\", \"38\", \"39\"], \"mode\": \"markers\", \"name\": \"matthews_correlation\", \"stepped\": false, \"type\": \"scatter\", \"data\": [0.8364533207768194, 0.1888150745256988, 0.3790596663538677, 0.13058888428232893, 0.1755463818212756, 0.2844618179630894, 0.2202316314829999, 0.20110048700905192, 0.21582401771174378, 0.20449750986362147, 0.027531497837898274, 0.16534731359884886, 0.07364167083009757, 0.2196286044003061, 0.0, 0.015688787862468724, 0.028413542836224357, 0.0, 0.2423217630164177, 0.1942140661091724, 0.0008160127485666546, 0.0, 0.009502644480364197, 0.032595400093557256, 0.23787085633782612, 0.10508740872756168, 0.8541065802142919, 0.39979986970082815, 0.2749476733275713, 0.5669013317536742, 0.0, 0.5071536234519257, 0.03562640815622035, 0.2245892779990839, 0.2370428107727245, 0.31795526440874317, 0.51547604177053]}, {\"categories\": [\"0\", \"1\", \"2\", \"3\", \"4\", \"5\", \"6\", \"7\", \"8\", \"9\", \"10\", \"11\", \"12\", \"13\", \"14\", \"15\", \"16\", \"17\", \"18\", \"19\", \"20\", \"21\", \"22\", \"23\", \"24\", \"25\", \"26\", \"27\", \"28\", \"29\", \"30\", \"31\", \"32\", \"33\", \"34\", \"38\", \"39\"], \"mode\": \"lines\", \"name\": \"matthews_correlation_max\", \"stepped\": true, \"type\": \"scatter\", \"data\": [0.8364533207768194, 0.8364533207768194, 0.8364533207768194, 0.8364533207768194, 0.8364533207768194, 0.8364533207768194, 0.8364533207768194, 0.8364533207768194, 0.8364533207768194, 0.8364533207768194, 0.8364533207768194, 0.8364533207768194, 0.8364533207768194, 0.8364533207768194, 0.8364533207768194, 0.8364533207768194, 0.8364533207768194, 0.8364533207768194, 0.8364533207768194, 0.8364533207768194, 0.8364533207768194, 0.8364533207768194, 0.8364533207768194, 0.8364533207768194, 0.8364533207768194, 0.8364533207768194, 0.8541065802142919, 0.8541065802142919, 0.8541065802142919, 0.8541065802142919, 0.8541065802142919, 0.8541065802142919, 0.8541065802142919, 0.8541065802142919, 0.8541065802142919, 0.8541065802142919, 0.8541065802142919]}], \"accuracy\": [{\"categories\": [\"0\", \"1\", \"2\", \"3\", \"4\", \"5\", \"6\", \"7\", \"8\", \"9\", \"10\", \"11\", \"12\", \"13\", \"14\", \"15\", \"16\", \"17\", \"18\", \"19\", \"20\", \"21\", \"22\", \"23\", \"24\", \"25\", \"26\", \"27\", \"28\", \"29\", \"30\", \"31\", \"32\", \"33\", \"34\", \"38\", \"39\"], \"mode\": \"markers\", \"name\": \"accuracy\", \"stepped\": false, \"type\": \"scatter\", \"data\": [0.9994382219725431, 0.9625364277939679, 0.9921702187423195, 0.9272848565710473, 0.9586390927284857, 0.9838488817106141, 0.9748604332713037, 0.9711737649661177, 0.9772831010147116, 0.9680488746883887, 0.30718724763877675, 0.951406200624978, 0.7887363505494891, 0.9747199887644394, 0.0017204452090867595, 0.1600365155717847, 0.3476352656156736, 0.0017204452090867595, 0.9783715459429093, 0.967627541167796, 0.002106667602963379, 0.0017204452090867595, 0.05150802289245462, 0.40764018117341383, 0.9754573224254767, 0.8923492854885713, 0.9995084442259752, 0.9930831080369369, 0.9833924370633054, 0.9971911098627155, 0.0017204452090867595, 0.9961728871879498, 0.47066465362873494, 0.9747199887644394, 0.9783715459429093, 0.9878515501562445, 0.9961728871879498]}, {\"categories\": [\"0\", \"1\", \"2\", \"3\", \"4\", \"5\", \"6\", \"7\", \"8\", \"9\", \"10\", \"11\", \"12\", \"13\", \"14\", \"15\", \"16\", \"17\", \"18\", \"19\", \"20\", \"21\", \"22\", \"23\", \"24\", \"25\", \"26\", \"27\", \"28\", \"29\", \"30\", \"31\", \"32\", \"33\", \"34\", \"38\", \"39\"], \"mode\": \"lines\", \"name\": \"accuracy_max\", \"stepped\": true, \"type\": \"scatter\", \"data\": [0.9994382219725431, 0.9994382219725431, 0.9994382219725431, 0.9994382219725431, 0.9994382219725431, 0.9994382219725431, 0.9994382219725431, 0.9994382219725431, 0.9994382219725431, 0.9994382219725431, 0.9994382219725431, 0.9994382219725431, 0.9994382219725431, 0.9994382219725431, 0.9994382219725431, 0.9994382219725431, 0.9994382219725431, 0.9994382219725431, 0.9994382219725431, 0.9994382219725431, 0.9994382219725431, 0.9994382219725431, 0.9994382219725431, 0.9994382219725431, 0.9994382219725431, 0.9994382219725431, 0.9995084442259752, 0.9995084442259752, 0.9995084442259752, 0.9995084442259752, 0.9995084442259752, 0.9995084442259752, 0.9995084442259752, 0.9995084442259752, 0.9995084442259752, 0.9995084442259752, 0.9995084442259752]}], \"norm_macro_recall\": [{\"categories\": [\"0\", \"1\", \"2\", \"3\", \"4\", \"5\", \"6\", \"7\", \"8\", \"9\", \"10\", \"11\", \"12\", \"13\", \"14\", \"15\", \"16\", \"17\", \"18\", \"19\", \"20\", \"21\", \"22\", \"23\", \"24\", \"25\", \"26\", \"27\", \"28\", \"29\", \"30\", \"31\", \"32\", \"33\", \"34\", \"38\", \"39\"], \"mode\": \"markers\", \"name\": \"norm_macro_recall\", \"stepped\": false, \"type\": \"scatter\", \"data\": [0.8364533207768194, 0.8809798961790682, 0.8699187750508193, 0.8252945804095413, 0.8567028527787031, 0.902329080197076, 0.8525791577182364, 0.8285131441434199, 0.7938870258289024, 0.8865018432809251, 0.3059932470455824, 0.8698304870625797, 0.7272532817291237, 0.8524384711678707, 0.0, 0.13821592227211643, 0.32613798192321397, 0.0, 0.8764693131050958, 0.8453338003743984, 0.00038688801350583724, 0.0, 0.04987338210467085, 0.38624631056699554, 0.9142960504404352, 0.7902988010060525, 0.8365236640520024, 0.8708332376281969, 0.8814988572806726, 0.8749483192263963, 0.0, 0.8739283417362442, 0.42900640841592685, 0.8728114627955854, 0.8560963214773811, 0.8859656552547861, 0.8943013333639591]}, {\"categories\": [\"0\", \"1\", \"2\", \"3\", \"4\", \"5\", \"6\", \"7\", \"8\", \"9\", \"10\", \"11\", \"12\", \"13\", \"14\", \"15\", \"16\", \"17\", \"18\", \"19\", \"20\", \"21\", \"22\", \"23\", \"24\", \"25\", \"26\", \"27\", \"28\", \"29\", \"30\", \"31\", \"32\", \"33\", \"34\", \"38\", \"39\"], \"mode\": \"lines\", \"name\": \"norm_macro_recall_max\", \"stepped\": true, \"type\": \"scatter\", \"data\": [0.8364533207768194, 0.8809798961790682, 0.8809798961790682, 0.8809798961790682, 0.8809798961790682, 0.902329080197076, 0.902329080197076, 0.902329080197076, 0.902329080197076, 0.902329080197076, 0.902329080197076, 0.902329080197076, 0.902329080197076, 0.902329080197076, 0.902329080197076, 0.902329080197076, 0.902329080197076, 0.902329080197076, 0.902329080197076, 0.902329080197076, 0.902329080197076, 0.902329080197076, 0.902329080197076, 0.902329080197076, 0.9142960504404352, 0.9142960504404352, 0.9142960504404352, 0.9142960504404352, 0.9142960504404352, 0.9142960504404352, 0.9142960504404352, 0.9142960504404352, 0.9142960504404352, 0.9142960504404352, 0.9142960504404352, 0.9142960504404352, 0.9142960504404352]}]}, \"metricName\": null, \"primaryMetricName\": \"AUC_weighted\", \"showLegend\": false}, \"run_metrics\": [{\"name\": \"experiment_status\", \"run_id\": \"AutoML_4b044773-3eab-4b65-99fa-d34196707638\", \"categories\": [0, 1, 2, 3, 4, 5, 6, 7, 8, 9, 10, 11, 12, 13], \"series\": [{\"data\": [\"DatasetEvaluation\", \"FeaturesGeneration\", \"DatasetFeaturization\", \"DatasetFeaturizationCompleted\", \"DatasetBalancing\", \"ModelSelection\", \"BestRunExplainModel\", \"ModelExplanationDataSetSetup\", \"PickSurrogateModel\", \"EngineeredFeatureExplanations\", \"EngineeredFeatureExplanations\", \"RawFeaturesExplanations\", \"RawFeaturesExplanations\", \"BestRunExplainModel\"]}]}, {\"name\": \"experiment_status_description\", \"run_id\": \"AutoML_4b044773-3eab-4b65-99fa-d34196707638\", \"categories\": [0, 1, 2, 3, 4, 5, 6, 7, 8, 9, 10, 11, 12, 13], \"series\": [{\"data\": [\"Gathering dataset statistics.\", \"Generating features for the dataset.\", \"Beginning to fit featurizers and featurize the dataset.\", \"Completed fit featurizers and featurizing the dataset.\", \"Performing class balancing sweeping\", \"Beginning model selection.\", \"Best run model explanations started\", \"Model explanations data setup completed\", \"Choosing LightGBM as the surrogate model for explanations\", \"Computation of engineered features started\", \"Computation of engineered features completed\", \"Computation of raw features started\", \"Computation of raw features completed\", \"Best run model explanations completed\"]}]}], \"run_logs\": \"\\nRun is completed.\", \"graph\": {}, \"widget_settings\": {\"childWidgetDisplay\": \"popup\", \"send_telemetry\": false, \"log_level\": \"INFO\", \"sdk_version\": \"1.24.0\"}, \"loading\": false}"
          },
          "metadata": {}
        }
      ],
      "execution_count": 7,
      "metadata": {
        "gather": {
          "logged": 1618006909718
        },
        "jupyter": {
          "outputs_hidden": false,
          "source_hidden": false
        },
        "nteract": {
          "transient": {
            "deleting": false
          }
        }
      }
    },
    {
      "cell_type": "markdown",
      "source": [
        "## Best Model\n",
        "\n",
        "TODO: In the cell below, get the best model from the automl experiments and display all the properties of the model.\n",
        "\n"
      ],
      "metadata": {}
    },
    {
      "cell_type": "code",
      "source": [
        "automl_best_run, automl_fitted_model = remote_run.get_output()\r\n",
        "print(automl_fitted_model)"
      ],
      "outputs": [
        {
          "output_type": "stream",
          "name": "stderr",
          "text": [
            "WARNING:root:The version of the SDK does not match the version the model was trained on.\n",
            "WARNING:root:The consistency in the result may not be guaranteed.\n",
            "WARNING:root:Package:azureml-automl-core, training version:1.25.0, current version:1.24.0\n",
            "Package:azureml-automl-runtime, training version:1.25.0, current version:1.24.0\n",
            "Package:azureml-core, training version:1.25.0, current version:1.24.0\n",
            "Package:azureml-dataset-runtime, training version:1.25.0, current version:1.24.0\n",
            "Package:azureml-defaults, training version:1.25.0, current version:1.24.0\n",
            "Package:azureml-interpret, training version:1.25.0, current version:1.24.0\n",
            "Package:azureml-mlflow, training version:1.25.0, current version:1.24.0\n",
            "Package:azureml-pipeline-core, training version:1.25.0, current version:1.24.0\n",
            "Package:azureml-telemetry, training version:1.25.0, current version:1.24.0\n",
            "Package:azureml-train-automl-client, training version:1.25.0, current version:1.24.0\n",
            "Package:azureml-train-automl-runtime, training version:1.25.0, current version:1.24.0\n",
            "WARNING:root:Please ensure the version of your local conda dependencies match the version on which your model was trained in order to properly retrieve your model.\n"
          ]
        },
        {
          "output_type": "stream",
          "name": "stdout",
          "text": [
            "Pipeline(memory=None,\n",
            "         steps=[('datatransformer',\n",
            "                 DataTransformer(enable_dnn=None, enable_feature_sweeping=None,\n",
            "                                 feature_sweeping_config=None,\n",
            "                                 feature_sweeping_timeout=None,\n",
            "                                 featurization_config=None, force_text_dnn=None,\n",
            "                                 is_cross_validation=None,\n",
            "                                 is_onnx_compatible=None, logger=None,\n",
            "                                 observer=None, task=None, working_dir=None)),\n",
            "                ('prefittedsoftvotingclassifier',...\n",
            "                                                                                                        min_samples_split=0.29105263157894734,\n",
            "                                                                                                        min_weight_fraction_leaf=0.0,\n",
            "                                                                                                        n_estimators=600,\n",
            "                                                                                                        n_iter_no_change=None,\n",
            "                                                                                                        presort='deprecated',\n",
            "                                                                                                        random_state=None,\n",
            "                                                                                                        subsample=1,\n",
            "                                                                                                        tol=0.0001,\n",
            "                                                                                                        validation_fraction=0.1,\n",
            "                                                                                                        verbose=0,\n",
            "                                                                                                        warm_start=False))],\n",
            "                                                                     verbose=False))],\n",
            "                                               flatten_transform=None,\n",
            "                                               weights=[0.2,\n",
            "                                                        0.06666666666666667,\n",
            "                                                        0.06666666666666667,\n",
            "                                                        0.2,\n",
            "                                                        0.06666666666666667,\n",
            "                                                        0.2, 0.2]))],\n",
            "         verbose=False)\n"
          ]
        }
      ],
      "execution_count": 8,
      "metadata": {
        "gather": {
          "logged": 1618009215354
        },
        "jupyter": {
          "outputs_hidden": false,
          "source_hidden": false
        },
        "nteract": {
          "transient": {
            "deleting": false
          }
        }
      }
    },
    {
      "cell_type": "code",
      "source": [
        "automl_best_run.properties"
      ],
      "outputs": [
        {
          "output_type": "execute_result",
          "execution_count": 10,
          "data": {
            "text/plain": "{'runTemplate': 'automl_child',\n 'pipeline_id': '__AutoML_Ensemble__',\n 'pipeline_spec': '{\"pipeline_id\":\"__AutoML_Ensemble__\",\"objects\":[{\"module\":\"azureml.train.automl.ensemble\",\"class_name\":\"Ensemble\",\"spec_class\":\"sklearn\",\"param_args\":[],\"param_kwargs\":{\"automl_settings\":\"{\\'task_type\\':\\'classification\\',\\'primary_metric\\':\\'AUC_weighted\\',\\'verbosity\\':20,\\'ensemble_iterations\\':15,\\'is_timeseries\\':False,\\'name\\':\\'capstone-fraud-credit-exp\\',\\'compute_target\\':\\'auto-ml\\',\\'subscription_id\\':\\'510b94ba-e453-4417-988b-fbdc37b55ca7\\',\\'region\\':\\'southcentralus\\',\\'spark_service\\':None}\",\"ensemble_run_id\":\"AutoML_4b044773-3eab-4b65-99fa-d34196707638_38\",\"experiment_name\":\"capstone-fraud-credit-exp\",\"workspace_name\":\"quick-starts-ws-142315\",\"subscription_id\":\"510b94ba-e453-4417-988b-fbdc37b55ca7\",\"resource_group_name\":\"aml-quickstarts-142315\"}}]}',\n 'training_percent': '100',\n 'predicted_cost': None,\n 'iteration': '38',\n '_aml_system_scenario_identification': 'Remote.Child',\n '_azureml.ComputeTargetType': 'amlcompute',\n 'ContentSnapshotId': 'f9f12a0f-023a-4c70-9195-a763986ae0aa',\n 'ProcessInfoFile': 'azureml-logs/process_info.json',\n 'ProcessStatusFile': 'azureml-logs/process_status.json',\n 'run_template': 'automl_child',\n 'run_preprocessor': '',\n 'run_algorithm': 'VotingEnsemble',\n 'model_output_path': 'outputs/model.pkl',\n 'conda_env_data_location': 'aml://artifact/ExperimentRun/dcid.AutoML_4b044773-3eab-4b65-99fa-d34196707638_38/outputs/conda_env_v_1_0_0.yml',\n 'model_data_location': 'aml://artifact/ExperimentRun/dcid.AutoML_4b044773-3eab-4b65-99fa-d34196707638_38/outputs/model.pkl',\n 'model_size_on_disk': '7718355',\n 'scoring_data_location': 'aml://artifact/ExperimentRun/dcid.AutoML_4b044773-3eab-4b65-99fa-d34196707638_38/outputs/scoring_file_v_1_0_0.py',\n 'model_exp_support': 'True',\n 'pipeline_graph_version': '1.0.0',\n 'model_name': 'AutoML4b044773338',\n 'staticProperties': '{}',\n 'score': '0.9866340599267281',\n 'score_table': 'NaN',\n 'run_properties': \"classification_labels=None,\\n                              estimators=[('3',\\n                                           Pipeline(memory=None,\\n                                                    steps=[('minmaxscaler',\\n                                                            MinMaxScaler(copy=True,\\n                                                                         feature_range=(0,\\n                                                                                        1\",\n 'pipeline_script': '{\"pipeline_id\":\"__AutoML_Ensemble__\",\"objects\":[{\"module\":\"azureml.train.automl.ensemble\",\"class_name\":\"Ensemble\",\"spec_class\":\"sklearn\",\"param_args\":[],\"param_kwargs\":{\"automl_settings\":\"{\\'task_type\\':\\'classification\\',\\'primary_metric\\':\\'AUC_weighted\\',\\'verbosity\\':20,\\'ensemble_iterations\\':15,\\'is_timeseries\\':False,\\'name\\':\\'capstone-fraud-credit-exp\\',\\'compute_target\\':\\'auto-ml\\',\\'subscription_id\\':\\'510b94ba-e453-4417-988b-fbdc37b55ca7\\',\\'region\\':\\'southcentralus\\',\\'spark_service\\':None}\",\"ensemble_run_id\":\"AutoML_4b044773-3eab-4b65-99fa-d34196707638_38\",\"experiment_name\":\"capstone-fraud-credit-exp\",\"workspace_name\":\"quick-starts-ws-142315\",\"subscription_id\":\"510b94ba-e453-4417-988b-fbdc37b55ca7\",\"resource_group_name\":\"aml-quickstarts-142315\"}}]}',\n 'training_type': 'train_valid',\n 'num_classes': '',\n 'framework': 'sklearn',\n 'fit_time': '22',\n 'goal': 'AUC_weighted_max',\n 'class_labels': '',\n 'primary_metric': 'AUC_weighted',\n 'errors': '{}',\n 'onnx_model_resource': '{}',\n 'error_code': '',\n 'failure_reason': '',\n 'dependencies_versions': '{\"azureml-train-automl-runtime\": \"1.25.0\", \"azureml-train-automl-client\": \"1.25.0\", \"azureml-telemetry\": \"1.25.0\", \"azureml-pipeline-core\": \"1.25.0\", \"azureml-model-management-sdk\": \"1.0.1b6.post1\", \"azureml-mlflow\": \"1.25.0\", \"azureml-interpret\": \"1.25.0\", \"azureml-defaults\": \"1.25.0\", \"azureml-dataset-runtime\": \"1.25.0\", \"azureml-dataprep\": \"2.11.2\", \"azureml-dataprep-rslex\": \"1.9.1\", \"azureml-dataprep-native\": \"30.0.0\", \"azureml-core\": \"1.25.0\", \"azureml-automl-runtime\": \"1.25.0\", \"azureml-automl-core\": \"1.25.0\"}',\n 'num_cores': '4',\n 'num_logical_cores': '4',\n 'peak_memory_usage': '922088',\n 'vm_configuration': 'Intel(R) Xeon(R) Platinum 8171M CPU @ 2.60GHz',\n 'core_hours': '0.009657836111111113',\n 'feature_skus': 'automatedml_sdk_guardrails'}"
          },
          "metadata": {}
        }
      ],
      "execution_count": 10,
      "metadata": {
        "collapsed": true,
        "jupyter": {
          "source_hidden": false,
          "outputs_hidden": false
        },
        "nteract": {
          "transient": {
            "deleting": false
          }
        },
        "gather": {
          "logged": 1618009310057
        }
      }
    },
    {
      "cell_type": "code",
      "source": [
        "#TODO: Save the best model\r\n",
        "import joblib\r\n",
        "\r\n",
        "joblib.dump(automl_fitted_model,\"best_automl_model.joblib\")"
      ],
      "outputs": [
        {
          "output_type": "execute_result",
          "execution_count": 12,
          "data": {
            "text/plain": "['best_automl_model.joblib']"
          },
          "metadata": {}
        }
      ],
      "execution_count": 12,
      "metadata": {
        "gather": {
          "logged": 1618009448065
        },
        "jupyter": {
          "outputs_hidden": false,
          "source_hidden": false
        },
        "nteract": {
          "transient": {
            "deleting": false
          }
        }
      }
    },
    {
      "cell_type": "markdown",
      "source": [
        "## Model Deployment\n",
        "\n",
        "Remember you have to deploy only one of the two models you trained.. Perform the steps in the rest of this notebook only if you wish to deploy this model.\n",
        "\n",
        "TODO: In the cell below, register the model, create an inference config and deploy the model as a web service."
      ],
      "metadata": {}
    },
    {
      "cell_type": "code",
      "source": [],
      "outputs": [],
      "execution_count": null,
      "metadata": {
        "gather": {
          "logged": 1598431435189
        },
        "jupyter": {
          "outputs_hidden": false,
          "source_hidden": false
        },
        "nteract": {
          "transient": {
            "deleting": false
          }
        }
      }
    },
    {
      "cell_type": "markdown",
      "source": [
        "TODO: In the cell below, send a request to the web service you deployed to test it."
      ],
      "metadata": {
        "collapsed": true,
        "gather": {
          "logged": 1598431657736
        },
        "jupyter": {
          "outputs_hidden": false,
          "source_hidden": false
        },
        "nteract": {
          "transient": {
            "deleting": false
          }
        }
      }
    },
    {
      "cell_type": "code",
      "source": [],
      "outputs": [],
      "execution_count": null,
      "metadata": {
        "gather": {
          "logged": 1598432707604
        },
        "jupyter": {
          "outputs_hidden": false,
          "source_hidden": false
        },
        "nteract": {
          "transient": {
            "deleting": false
          }
        }
      }
    },
    {
      "cell_type": "markdown",
      "source": [
        "TODO: In the cell below, print the logs of the web service and delete the service"
      ],
      "metadata": {
        "collapsed": true,
        "gather": {
          "logged": 1598432765711
        },
        "jupyter": {
          "outputs_hidden": false,
          "source_hidden": false
        },
        "nteract": {
          "transient": {
            "deleting": false
          }
        }
      }
    },
    {
      "cell_type": "code",
      "source": [],
      "outputs": [],
      "execution_count": null,
      "metadata": {
        "jupyter": {
          "outputs_hidden": false,
          "source_hidden": false
        },
        "nteract": {
          "transient": {
            "deleting": false
          }
        }
      }
    }
  ],
  "metadata": {
    "kernel_info": {
      "name": "python3"
    },
    "kernelspec": {
      "name": "python3",
      "language": "python",
      "display_name": "Python 3"
    },
    "language_info": {
      "name": "python",
      "version": "3.6.9",
      "mimetype": "text/x-python",
      "codemirror_mode": {
        "name": "ipython",
        "version": 3
      },
      "pygments_lexer": "ipython3",
      "nbconvert_exporter": "python",
      "file_extension": ".py"
    },
    "nteract": {
      "version": "nteract-front-end@1.0.0"
    },
    "microsoft": {
      "host": {
        "AzureML": {
          "notebookHasBeenCompleted": true
        }
      }
    }
  },
  "nbformat": 4,
  "nbformat_minor": 2
}