{
 "cells": [
  {
   "cell_type": "markdown",
   "metadata": {},
   "source": [
    "# Automated ML\n",
    "\n",
    "TODO: Import Dependencies. In the cell below, import all the dependencies that you will need to complete the project."
   ]
  },
  {
   "cell_type": "code",
   "execution_count": 1,
   "metadata": {
    "gather": {
     "logged": 1618177404196
    },
    "jupyter": {
     "outputs_hidden": false,
     "source_hidden": false
    },
    "nteract": {
     "transient": {
      "deleting": false
     }
    }
   },
   "outputs": [
    {
     "name": "stdout",
     "output_type": "stream",
     "text": [
      "SDK version: 1.26.0\n"
     ]
    }
   ],
   "source": [
    "import azureml\n",
    "from azureml.core.experiment import Experiment\n",
    "from azureml.core.workspace import Workspace\n",
    "from azureml.core.compute import AmlCompute\n",
    "from azureml.core.compute import ComputeTarget\n",
    "from azureml.core.compute_target import ComputeTargetException\n",
    "from azureml.train.automl import AutoMLConfig\n",
    "from azureml.widgets import RunDetails\n",
    "\n",
    "print(\"SDK version:\", azureml.core.VERSION)"
   ]
  },
  {
   "cell_type": "markdown",
   "metadata": {},
   "source": [
    "## Dataset\n",
    "\n",
    "### Overview\n",
    "TODO: In this markdown cell, give an overview of the dataset you are using. Also mention the task you will be performing.\n",
    "\n",
    "The dataset we are using here is the \"hottest\" dataset in Kaggle for credit card fraud detection.<br>\n",
    "The target of problem is to identify based on the given features if a transaction is fraudulent or not. <br>\n",
    "The dataset contains only numerical input variables which are a result of a PCA transformation. <br>\n",
    "This means that the datset does not require any cleaning, nomralisation or any kind of encoding. <br>\n",
    "\n",
    "TODO: Get data. In the cell below, write code to access the data you will be using in this project. Remember that the dataset needs to be external."
   ]
  },
  {
   "cell_type": "code",
   "execution_count": 2,
   "metadata": {
    "gather": {
     "logged": 1618177422606
    },
    "jupyter": {
     "outputs_hidden": false,
     "source_hidden": false
    },
    "nteract": {
     "transient": {
      "deleting": false
     }
    }
   },
   "outputs": [],
   "source": [
    "ws = Workspace.from_config()\n",
    "\n",
    "# choose a name for experiment\n",
    "experiment_name = 'capstone-fraud-credit-exp'\n",
    "\n",
    "experiment=Experiment(ws, experiment_name)"
   ]
  },
  {
   "cell_type": "markdown",
   "metadata": {
    "nteract": {
     "transient": {
      "deleting": false
     }
    }
   },
   "source": [
    "In the cell below we are creating a cluster to run our AutoML experiment"
   ]
  },
  {
   "cell_type": "code",
   "execution_count": 3,
   "metadata": {
    "gather": {
     "logged": 1618178050498
    },
    "jupyter": {
     "outputs_hidden": false,
     "source_hidden": false
    },
    "nteract": {
     "transient": {
      "deleting": false
     }
    }
   },
   "outputs": [
    {
     "name": "stdout",
     "output_type": "stream",
     "text": [
      "Creating....\n",
      "SucceededProvisioning operation finished, operation \"Succeeded\"\n",
      "Succeeded\n",
      "AmlCompute wait for completion finished\n",
      "\n",
      "Minimum number of nodes requested have been provisioned\n"
     ]
    }
   ],
   "source": [
    "# NOTE: update the cluster name to match the existing cluster\n",
    "# Choose a name for your CPU cluster\n",
    "amlcompute_cluster_name = \"auto-ml\"\n",
    "\n",
    "# Verify that cluster does not exist already\n",
    "try:\n",
    "    compute_target = ComputeTarget(workspace=ws, name=amlcompute_cluster_name)\n",
    "    print('Found existing cluster, use it.')\n",
    "except ComputeTargetException:\n",
    "    compute_config = AmlCompute.provisioning_configuration(vm_size='STANDARD_DS12_V2',# for GPU, use \"STANDARD_NC6\"\n",
    "                                                           #vm_priority = 'lowpriority', # optional\n",
    "                                                           max_nodes=10)\n",
    "    compute_target = ComputeTarget.create(ws, amlcompute_cluster_name, compute_config)\n",
    "\n",
    "compute_target.wait_for_completion(show_output=True)\n",
    "# For a more detailed view of current AmlCompute status, use get_status()."
   ]
  },
  {
   "cell_type": "markdown",
   "metadata": {
    "nteract": {
     "transient": {
      "deleting": false
     }
    }
   },
   "source": [
    "In the cell below we read the data if they are already saved in the Workspace <br>\n",
    "If they are not then we can download the data from a URL <br>\n",
    "Here the URL thought doesn't work properly so it's in comments <br>"
   ]
  },
  {
   "cell_type": "code",
   "execution_count": 4,
   "metadata": {
    "gather": {
     "logged": 1618178496786
    },
    "jupyter": {
     "outputs_hidden": false,
     "source_hidden": false
    },
    "nteract": {
     "transient": {
      "deleting": false
     }
    }
   },
   "outputs": [
    {
     "data": {
      "text/html": [
       "<div>\n",
       "<style scoped>\n",
       "    .dataframe tbody tr th:only-of-type {\n",
       "        vertical-align: middle;\n",
       "    }\n",
       "\n",
       "    .dataframe tbody tr th {\n",
       "        vertical-align: top;\n",
       "    }\n",
       "\n",
       "    .dataframe thead th {\n",
       "        text-align: right;\n",
       "    }\n",
       "</style>\n",
       "<table border=\"1\" class=\"dataframe\">\n",
       "  <thead>\n",
       "    <tr style=\"text-align: right;\">\n",
       "      <th></th>\n",
       "      <th>Time</th>\n",
       "      <th>V1</th>\n",
       "      <th>V2</th>\n",
       "      <th>V3</th>\n",
       "      <th>V4</th>\n",
       "      <th>V5</th>\n",
       "      <th>V6</th>\n",
       "      <th>V7</th>\n",
       "      <th>V8</th>\n",
       "      <th>V9</th>\n",
       "      <th>...</th>\n",
       "      <th>V21</th>\n",
       "      <th>V22</th>\n",
       "      <th>V23</th>\n",
       "      <th>V24</th>\n",
       "      <th>V25</th>\n",
       "      <th>V26</th>\n",
       "      <th>V27</th>\n",
       "      <th>V28</th>\n",
       "      <th>Amount</th>\n",
       "      <th>Class</th>\n",
       "    </tr>\n",
       "  </thead>\n",
       "  <tbody>\n",
       "    <tr>\n",
       "      <th>count</th>\n",
       "      <td>284806.000000</td>\n",
       "      <td>2.848070e+05</td>\n",
       "      <td>2.848070e+05</td>\n",
       "      <td>2.848070e+05</td>\n",
       "      <td>2.848070e+05</td>\n",
       "      <td>2.848070e+05</td>\n",
       "      <td>2.848070e+05</td>\n",
       "      <td>2.848070e+05</td>\n",
       "      <td>2.848070e+05</td>\n",
       "      <td>2.848070e+05</td>\n",
       "      <td>...</td>\n",
       "      <td>2.848070e+05</td>\n",
       "      <td>2.848070e+05</td>\n",
       "      <td>2.848070e+05</td>\n",
       "      <td>2.848070e+05</td>\n",
       "      <td>2.848070e+05</td>\n",
       "      <td>2.848070e+05</td>\n",
       "      <td>2.848070e+05</td>\n",
       "      <td>2.848070e+05</td>\n",
       "      <td>284807.000000</td>\n",
       "      <td>284807.000000</td>\n",
       "    </tr>\n",
       "    <tr>\n",
       "      <th>mean</th>\n",
       "      <td>94813.841366</td>\n",
       "      <td>3.918649e-15</td>\n",
       "      <td>5.682686e-16</td>\n",
       "      <td>-8.761736e-15</td>\n",
       "      <td>2.811118e-15</td>\n",
       "      <td>-1.552103e-15</td>\n",
       "      <td>2.040130e-15</td>\n",
       "      <td>-1.698953e-15</td>\n",
       "      <td>-1.958151e-16</td>\n",
       "      <td>-3.147640e-15</td>\n",
       "      <td>...</td>\n",
       "      <td>1.471982e-16</td>\n",
       "      <td>8.042109e-16</td>\n",
       "      <td>5.282450e-16</td>\n",
       "      <td>4.458267e-15</td>\n",
       "      <td>1.426896e-15</td>\n",
       "      <td>1.701640e-15</td>\n",
       "      <td>-3.671606e-16</td>\n",
       "      <td>-1.218152e-16</td>\n",
       "      <td>88.349619</td>\n",
       "      <td>0.001727</td>\n",
       "    </tr>\n",
       "    <tr>\n",
       "      <th>std</th>\n",
       "      <td>47488.228330</td>\n",
       "      <td>1.958696e+00</td>\n",
       "      <td>1.651309e+00</td>\n",
       "      <td>1.516255e+00</td>\n",
       "      <td>1.415869e+00</td>\n",
       "      <td>1.380247e+00</td>\n",
       "      <td>1.332271e+00</td>\n",
       "      <td>1.237094e+00</td>\n",
       "      <td>1.194353e+00</td>\n",
       "      <td>1.098632e+00</td>\n",
       "      <td>...</td>\n",
       "      <td>7.345240e-01</td>\n",
       "      <td>7.257016e-01</td>\n",
       "      <td>6.244603e-01</td>\n",
       "      <td>6.056471e-01</td>\n",
       "      <td>5.212781e-01</td>\n",
       "      <td>4.822270e-01</td>\n",
       "      <td>4.036325e-01</td>\n",
       "      <td>3.300833e-01</td>\n",
       "      <td>250.120109</td>\n",
       "      <td>0.041527</td>\n",
       "    </tr>\n",
       "    <tr>\n",
       "      <th>min</th>\n",
       "      <td>0.000000</td>\n",
       "      <td>-5.640751e+01</td>\n",
       "      <td>-7.271573e+01</td>\n",
       "      <td>-4.832559e+01</td>\n",
       "      <td>-5.683171e+00</td>\n",
       "      <td>-1.137433e+02</td>\n",
       "      <td>-2.616051e+01</td>\n",
       "      <td>-4.355724e+01</td>\n",
       "      <td>-7.321672e+01</td>\n",
       "      <td>-1.343407e+01</td>\n",
       "      <td>...</td>\n",
       "      <td>-3.483038e+01</td>\n",
       "      <td>-1.093314e+01</td>\n",
       "      <td>-4.480774e+01</td>\n",
       "      <td>-2.836627e+00</td>\n",
       "      <td>-1.029540e+01</td>\n",
       "      <td>-2.604551e+00</td>\n",
       "      <td>-2.256568e+01</td>\n",
       "      <td>-1.543008e+01</td>\n",
       "      <td>0.000000</td>\n",
       "      <td>0.000000</td>\n",
       "    </tr>\n",
       "    <tr>\n",
       "      <th>25%</th>\n",
       "      <td>54201.250000</td>\n",
       "      <td>-9.203734e-01</td>\n",
       "      <td>-5.985499e-01</td>\n",
       "      <td>-8.903648e-01</td>\n",
       "      <td>-8.486401e-01</td>\n",
       "      <td>-6.915971e-01</td>\n",
       "      <td>-7.682956e-01</td>\n",
       "      <td>-5.540759e-01</td>\n",
       "      <td>-2.086297e-01</td>\n",
       "      <td>-6.430976e-01</td>\n",
       "      <td>...</td>\n",
       "      <td>-2.283949e-01</td>\n",
       "      <td>-5.423504e-01</td>\n",
       "      <td>-1.618463e-01</td>\n",
       "      <td>-3.545861e-01</td>\n",
       "      <td>-3.171451e-01</td>\n",
       "      <td>-3.269839e-01</td>\n",
       "      <td>-7.083953e-02</td>\n",
       "      <td>-5.295979e-02</td>\n",
       "      <td>5.600000</td>\n",
       "      <td>0.000000</td>\n",
       "    </tr>\n",
       "    <tr>\n",
       "      <th>50%</th>\n",
       "      <td>84691.500000</td>\n",
       "      <td>1.810880e-02</td>\n",
       "      <td>6.548556e-02</td>\n",
       "      <td>1.798463e-01</td>\n",
       "      <td>-1.984653e-02</td>\n",
       "      <td>-5.433583e-02</td>\n",
       "      <td>-2.741871e-01</td>\n",
       "      <td>4.010308e-02</td>\n",
       "      <td>2.235804e-02</td>\n",
       "      <td>-5.142873e-02</td>\n",
       "      <td>...</td>\n",
       "      <td>-2.945017e-02</td>\n",
       "      <td>6.781943e-03</td>\n",
       "      <td>-1.119293e-02</td>\n",
       "      <td>4.097606e-02</td>\n",
       "      <td>1.659350e-02</td>\n",
       "      <td>-5.213911e-02</td>\n",
       "      <td>1.342146e-03</td>\n",
       "      <td>1.124383e-02</td>\n",
       "      <td>22.000000</td>\n",
       "      <td>0.000000</td>\n",
       "    </tr>\n",
       "    <tr>\n",
       "      <th>75%</th>\n",
       "      <td>139320.750000</td>\n",
       "      <td>1.315642e+00</td>\n",
       "      <td>8.037239e-01</td>\n",
       "      <td>1.027196e+00</td>\n",
       "      <td>7.433413e-01</td>\n",
       "      <td>6.119264e-01</td>\n",
       "      <td>3.985649e-01</td>\n",
       "      <td>5.704361e-01</td>\n",
       "      <td>3.273459e-01</td>\n",
       "      <td>5.971390e-01</td>\n",
       "      <td>...</td>\n",
       "      <td>1.863772e-01</td>\n",
       "      <td>5.285536e-01</td>\n",
       "      <td>1.476421e-01</td>\n",
       "      <td>4.395266e-01</td>\n",
       "      <td>3.507156e-01</td>\n",
       "      <td>2.409522e-01</td>\n",
       "      <td>9.104512e-02</td>\n",
       "      <td>7.827995e-02</td>\n",
       "      <td>77.165000</td>\n",
       "      <td>0.000000</td>\n",
       "    </tr>\n",
       "    <tr>\n",
       "      <th>max</th>\n",
       "      <td>172792.000000</td>\n",
       "      <td>2.454930e+00</td>\n",
       "      <td>2.205773e+01</td>\n",
       "      <td>9.382558e+00</td>\n",
       "      <td>1.687534e+01</td>\n",
       "      <td>3.480167e+01</td>\n",
       "      <td>7.330163e+01</td>\n",
       "      <td>1.205895e+02</td>\n",
       "      <td>2.000721e+01</td>\n",
       "      <td>1.559499e+01</td>\n",
       "      <td>...</td>\n",
       "      <td>2.720284e+01</td>\n",
       "      <td>1.050309e+01</td>\n",
       "      <td>2.252841e+01</td>\n",
       "      <td>4.584549e+00</td>\n",
       "      <td>7.519589e+00</td>\n",
       "      <td>3.517346e+00</td>\n",
       "      <td>3.161220e+01</td>\n",
       "      <td>3.384781e+01</td>\n",
       "      <td>25691.160000</td>\n",
       "      <td>1.000000</td>\n",
       "    </tr>\n",
       "  </tbody>\n",
       "</table>\n",
       "<p>8 rows × 31 columns</p>\n",
       "</div>"
      ],
      "text/plain": [
       "                Time            V1            V2            V3            V4  \\\n",
       "count  284806.000000  2.848070e+05  2.848070e+05  2.848070e+05  2.848070e+05   \n",
       "mean    94813.841366  3.918649e-15  5.682686e-16 -8.761736e-15  2.811118e-15   \n",
       "std     47488.228330  1.958696e+00  1.651309e+00  1.516255e+00  1.415869e+00   \n",
       "min         0.000000 -5.640751e+01 -7.271573e+01 -4.832559e+01 -5.683171e+00   \n",
       "25%     54201.250000 -9.203734e-01 -5.985499e-01 -8.903648e-01 -8.486401e-01   \n",
       "50%     84691.500000  1.810880e-02  6.548556e-02  1.798463e-01 -1.984653e-02   \n",
       "75%    139320.750000  1.315642e+00  8.037239e-01  1.027196e+00  7.433413e-01   \n",
       "max    172792.000000  2.454930e+00  2.205773e+01  9.382558e+00  1.687534e+01   \n",
       "\n",
       "                 V5            V6            V7            V8            V9  \\\n",
       "count  2.848070e+05  2.848070e+05  2.848070e+05  2.848070e+05  2.848070e+05   \n",
       "mean  -1.552103e-15  2.040130e-15 -1.698953e-15 -1.958151e-16 -3.147640e-15   \n",
       "std    1.380247e+00  1.332271e+00  1.237094e+00  1.194353e+00  1.098632e+00   \n",
       "min   -1.137433e+02 -2.616051e+01 -4.355724e+01 -7.321672e+01 -1.343407e+01   \n",
       "25%   -6.915971e-01 -7.682956e-01 -5.540759e-01 -2.086297e-01 -6.430976e-01   \n",
       "50%   -5.433583e-02 -2.741871e-01  4.010308e-02  2.235804e-02 -5.142873e-02   \n",
       "75%    6.119264e-01  3.985649e-01  5.704361e-01  3.273459e-01  5.971390e-01   \n",
       "max    3.480167e+01  7.330163e+01  1.205895e+02  2.000721e+01  1.559499e+01   \n",
       "\n",
       "       ...           V21           V22           V23           V24  \\\n",
       "count  ...  2.848070e+05  2.848070e+05  2.848070e+05  2.848070e+05   \n",
       "mean   ...  1.471982e-16  8.042109e-16  5.282450e-16  4.458267e-15   \n",
       "std    ...  7.345240e-01  7.257016e-01  6.244603e-01  6.056471e-01   \n",
       "min    ... -3.483038e+01 -1.093314e+01 -4.480774e+01 -2.836627e+00   \n",
       "25%    ... -2.283949e-01 -5.423504e-01 -1.618463e-01 -3.545861e-01   \n",
       "50%    ... -2.945017e-02  6.781943e-03 -1.119293e-02  4.097606e-02   \n",
       "75%    ...  1.863772e-01  5.285536e-01  1.476421e-01  4.395266e-01   \n",
       "max    ...  2.720284e+01  1.050309e+01  2.252841e+01  4.584549e+00   \n",
       "\n",
       "                V25           V26           V27           V28         Amount  \\\n",
       "count  2.848070e+05  2.848070e+05  2.848070e+05  2.848070e+05  284807.000000   \n",
       "mean   1.426896e-15  1.701640e-15 -3.671606e-16 -1.218152e-16      88.349619   \n",
       "std    5.212781e-01  4.822270e-01  4.036325e-01  3.300833e-01     250.120109   \n",
       "min   -1.029540e+01 -2.604551e+00 -2.256568e+01 -1.543008e+01       0.000000   \n",
       "25%   -3.171451e-01 -3.269839e-01 -7.083953e-02 -5.295979e-02       5.600000   \n",
       "50%    1.659350e-02 -5.213911e-02  1.342146e-03  1.124383e-02      22.000000   \n",
       "75%    3.507156e-01  2.409522e-01  9.104512e-02  7.827995e-02      77.165000   \n",
       "max    7.519589e+00  3.517346e+00  3.161220e+01  3.384781e+01   25691.160000   \n",
       "\n",
       "               Class  \n",
       "count  284807.000000  \n",
       "mean        0.001727  \n",
       "std         0.041527  \n",
       "min         0.000000  \n",
       "25%         0.000000  \n",
       "50%         0.000000  \n",
       "75%         0.000000  \n",
       "max         1.000000  \n",
       "\n",
       "[8 rows x 31 columns]"
      ]
     },
     "metadata": {},
     "output_type": "display_data"
    },
    {
     "data": {
      "text/html": [
       "<div>\n",
       "<style scoped>\n",
       "    .dataframe tbody tr th:only-of-type {\n",
       "        vertical-align: middle;\n",
       "    }\n",
       "\n",
       "    .dataframe tbody tr th {\n",
       "        vertical-align: top;\n",
       "    }\n",
       "\n",
       "    .dataframe thead th {\n",
       "        text-align: right;\n",
       "    }\n",
       "</style>\n",
       "<table border=\"1\" class=\"dataframe\">\n",
       "  <thead>\n",
       "    <tr style=\"text-align: right;\">\n",
       "      <th></th>\n",
       "      <th>Time</th>\n",
       "      <th>V1</th>\n",
       "      <th>V2</th>\n",
       "      <th>V3</th>\n",
       "      <th>V4</th>\n",
       "      <th>V5</th>\n",
       "      <th>V6</th>\n",
       "      <th>V7</th>\n",
       "      <th>V8</th>\n",
       "      <th>V9</th>\n",
       "      <th>...</th>\n",
       "      <th>V21</th>\n",
       "      <th>V22</th>\n",
       "      <th>V23</th>\n",
       "      <th>V24</th>\n",
       "      <th>V25</th>\n",
       "      <th>V26</th>\n",
       "      <th>V27</th>\n",
       "      <th>V28</th>\n",
       "      <th>Amount</th>\n",
       "      <th>Class</th>\n",
       "    </tr>\n",
       "  </thead>\n",
       "  <tbody>\n",
       "    <tr>\n",
       "      <th>0</th>\n",
       "      <td>0.0</td>\n",
       "      <td>-1.359807</td>\n",
       "      <td>-0.072781</td>\n",
       "      <td>2.536347</td>\n",
       "      <td>1.378155</td>\n",
       "      <td>-0.338321</td>\n",
       "      <td>0.462388</td>\n",
       "      <td>0.239599</td>\n",
       "      <td>0.098698</td>\n",
       "      <td>0.363787</td>\n",
       "      <td>...</td>\n",
       "      <td>-0.018307</td>\n",
       "      <td>0.277838</td>\n",
       "      <td>-0.110474</td>\n",
       "      <td>0.066928</td>\n",
       "      <td>0.128539</td>\n",
       "      <td>-0.189115</td>\n",
       "      <td>0.133558</td>\n",
       "      <td>-0.021053</td>\n",
       "      <td>149.62</td>\n",
       "      <td>0</td>\n",
       "    </tr>\n",
       "    <tr>\n",
       "      <th>1</th>\n",
       "      <td>0.0</td>\n",
       "      <td>1.191857</td>\n",
       "      <td>0.266151</td>\n",
       "      <td>0.166480</td>\n",
       "      <td>0.448154</td>\n",
       "      <td>0.060018</td>\n",
       "      <td>-0.082361</td>\n",
       "      <td>-0.078803</td>\n",
       "      <td>0.085102</td>\n",
       "      <td>-0.255425</td>\n",
       "      <td>...</td>\n",
       "      <td>-0.225775</td>\n",
       "      <td>-0.638672</td>\n",
       "      <td>0.101288</td>\n",
       "      <td>-0.339846</td>\n",
       "      <td>0.167170</td>\n",
       "      <td>0.125895</td>\n",
       "      <td>-0.008983</td>\n",
       "      <td>0.014724</td>\n",
       "      <td>2.69</td>\n",
       "      <td>0</td>\n",
       "    </tr>\n",
       "    <tr>\n",
       "      <th>2</th>\n",
       "      <td>1.0</td>\n",
       "      <td>-1.358354</td>\n",
       "      <td>-1.340163</td>\n",
       "      <td>1.773209</td>\n",
       "      <td>0.379780</td>\n",
       "      <td>-0.503198</td>\n",
       "      <td>1.800499</td>\n",
       "      <td>0.791461</td>\n",
       "      <td>0.247676</td>\n",
       "      <td>-1.514654</td>\n",
       "      <td>...</td>\n",
       "      <td>0.247998</td>\n",
       "      <td>0.771679</td>\n",
       "      <td>0.909412</td>\n",
       "      <td>-0.689281</td>\n",
       "      <td>-0.327642</td>\n",
       "      <td>-0.139097</td>\n",
       "      <td>-0.055353</td>\n",
       "      <td>-0.059752</td>\n",
       "      <td>378.66</td>\n",
       "      <td>0</td>\n",
       "    </tr>\n",
       "    <tr>\n",
       "      <th>3</th>\n",
       "      <td>1.0</td>\n",
       "      <td>-0.966272</td>\n",
       "      <td>-0.185226</td>\n",
       "      <td>1.792993</td>\n",
       "      <td>-0.863291</td>\n",
       "      <td>-0.010309</td>\n",
       "      <td>1.247203</td>\n",
       "      <td>0.237609</td>\n",
       "      <td>0.377436</td>\n",
       "      <td>-1.387024</td>\n",
       "      <td>...</td>\n",
       "      <td>-0.108300</td>\n",
       "      <td>0.005274</td>\n",
       "      <td>-0.190321</td>\n",
       "      <td>-1.175575</td>\n",
       "      <td>0.647376</td>\n",
       "      <td>-0.221929</td>\n",
       "      <td>0.062723</td>\n",
       "      <td>0.061458</td>\n",
       "      <td>123.50</td>\n",
       "      <td>0</td>\n",
       "    </tr>\n",
       "    <tr>\n",
       "      <th>4</th>\n",
       "      <td>2.0</td>\n",
       "      <td>-1.158233</td>\n",
       "      <td>0.877737</td>\n",
       "      <td>1.548718</td>\n",
       "      <td>0.403034</td>\n",
       "      <td>-0.407193</td>\n",
       "      <td>0.095921</td>\n",
       "      <td>0.592941</td>\n",
       "      <td>-0.270533</td>\n",
       "      <td>0.817739</td>\n",
       "      <td>...</td>\n",
       "      <td>-0.009431</td>\n",
       "      <td>0.798278</td>\n",
       "      <td>-0.137458</td>\n",
       "      <td>0.141267</td>\n",
       "      <td>-0.206010</td>\n",
       "      <td>0.502292</td>\n",
       "      <td>0.219422</td>\n",
       "      <td>0.215153</td>\n",
       "      <td>69.99</td>\n",
       "      <td>0</td>\n",
       "    </tr>\n",
       "  </tbody>\n",
       "</table>\n",
       "<p>5 rows × 31 columns</p>\n",
       "</div>"
      ],
      "text/plain": [
       "   Time        V1        V2        V3        V4        V5        V6        V7  \\\n",
       "0   0.0 -1.359807 -0.072781  2.536347  1.378155 -0.338321  0.462388  0.239599   \n",
       "1   0.0  1.191857  0.266151  0.166480  0.448154  0.060018 -0.082361 -0.078803   \n",
       "2   1.0 -1.358354 -1.340163  1.773209  0.379780 -0.503198  1.800499  0.791461   \n",
       "3   1.0 -0.966272 -0.185226  1.792993 -0.863291 -0.010309  1.247203  0.237609   \n",
       "4   2.0 -1.158233  0.877737  1.548718  0.403034 -0.407193  0.095921  0.592941   \n",
       "\n",
       "         V8        V9  ...       V21       V22       V23       V24       V25  \\\n",
       "0  0.098698  0.363787  ... -0.018307  0.277838 -0.110474  0.066928  0.128539   \n",
       "1  0.085102 -0.255425  ... -0.225775 -0.638672  0.101288 -0.339846  0.167170   \n",
       "2  0.247676 -1.514654  ...  0.247998  0.771679  0.909412 -0.689281 -0.327642   \n",
       "3  0.377436 -1.387024  ... -0.108300  0.005274 -0.190321 -1.175575  0.647376   \n",
       "4 -0.270533  0.817739  ... -0.009431  0.798278 -0.137458  0.141267 -0.206010   \n",
       "\n",
       "        V26       V27       V28  Amount  Class  \n",
       "0 -0.189115  0.133558 -0.021053  149.62      0  \n",
       "1  0.125895 -0.008983  0.014724    2.69      0  \n",
       "2 -0.139097 -0.055353 -0.059752  378.66      0  \n",
       "3 -0.221929  0.062723  0.061458  123.50      0  \n",
       "4  0.502292  0.219422  0.215153   69.99      0  \n",
       "\n",
       "[5 rows x 31 columns]"
      ]
     },
     "metadata": {},
     "output_type": "display_data"
    }
   ],
   "source": [
    "# Try to load the dataset from the Workspace. Otherwise, create it from the file\n",
    "# NOTE: update the key to match the dataset name\n",
    "found = False\n",
    "key = \"fraud-capstone\"\n",
    "description_text = \"Credit Card Fraud Detection Data\"\n",
    "\n",
    "if key in ws.datasets.keys(): \n",
    "        found = True\n",
    "        dataset = ws.datasets[key] \n",
    "\n",
    "# if not found:\n",
    "#         # Create AML Dataset and register it into Workspace\n",
    "#         example_data = 'https://drive.google.com/file/d/1qEMDzGfw-iT4H127-ph3h_gmUfrSocpQ/view?usp=sharing'\n",
    "#         dataset = Dataset.Tabular.from_delimited_files(example_data)        \n",
    "#         #Register Dataset in Workspace\n",
    "#         dataset = dataset.register(workspace=ws,\n",
    "#                                    name=key,\n",
    "#                                    description=description_text)\n",
    "\n",
    "\n",
    "df = dataset.to_pandas_dataframe()\n",
    "display(df.describe())\n",
    "display(df.head())"
   ]
  },
  {
   "cell_type": "markdown",
   "metadata": {},
   "source": [
    "## AutoML Configuration\n",
    "\n",
    "TODO: Explain why you chose the automl settings and cofiguration you used below.\n",
    "\n",
    "I am giving the experiment a timeout after 30 minutes <br>\n",
    "It can run up to 5 Runs at the same time <br>\n",
    "Because the dataset is highly imbalanced we use AUC and its weighted <br>\n",
    "The problem is a binary classification <br>\n",
    "XGboostClassifier was giving me an error so I removed it <br>"
   ]
  },
  {
   "cell_type": "code",
   "execution_count": 5,
   "metadata": {
    "gather": {
     "logged": 1618178077178
    },
    "jupyter": {
     "outputs_hidden": false,
     "source_hidden": false
    },
    "nteract": {
     "transient": {
      "deleting": false
     }
    }
   },
   "outputs": [],
   "source": [
    "# TODO: Put your automl settings here\n",
    "automl_settings = {\n",
    "    \"experiment_timeout_minutes\": 30,\n",
    "    \"max_concurrent_iterations\": 5,\n",
    "    \"primary_metric\" : 'AUC_weighted'\n",
    "}\n",
    "\n",
    "# TODO: Put your automl config here\n",
    "automl_config = AutoMLConfig(compute_target=compute_target,\n",
    "                             task = \"classification\",\n",
    "                             training_data=dataset,\n",
    "                             label_column_name=\"Class\",   \n",
    "                             enable_early_stopping= True,\n",
    "                             featurization= 'auto',\n",
    "                             debug_log = \"automl_errors.log\",\n",
    "                             blocked_models=[\"XGBoostClassifier\"],\n",
    "                             **automl_settings\n",
    "                            )"
   ]
  },
  {
   "cell_type": "code",
   "execution_count": 6,
   "metadata": {
    "gather": {
     "logged": 1618178085926
    },
    "jupyter": {
     "outputs_hidden": false,
     "source_hidden": false
    },
    "nteract": {
     "transient": {
      "deleting": false
     }
    }
   },
   "outputs": [
    {
     "name": "stdout",
     "output_type": "stream",
     "text": [
      "Submitting remote run.\n"
     ]
    },
    {
     "data": {
      "text/html": [
       "<table style=\"width:100%\"><tr><th>Experiment</th><th>Id</th><th>Type</th><th>Status</th><th>Details Page</th><th>Docs Page</th></tr><tr><td>capstone-fraud-credit-exp</td><td>AutoML_49013142-f08d-4273-bdfc-1663ea9056f8</td><td>automl</td><td>NotStarted</td><td><a href=\"https://ml.azure.com/runs/AutoML_49013142-f08d-4273-bdfc-1663ea9056f8?wsid=/subscriptions/d4ad7261-832d-46b2-b093-22156001df5b/resourcegroups/aml-quickstarts-142627/workspaces/quick-starts-ws-142627&amp;tid=660b3398-b80e-49d2-bc5b-ac1dc93b5254\" target=\"_blank\" rel=\"noopener\">Link to Azure Machine Learning studio</a></td><td><a href=\"https://docs.microsoft.com/en-us/python/api/overview/azure/ml/intro?view=azure-ml-py\" target=\"_blank\" rel=\"noopener\">Link to Documentation</a></td></tr></table>"
      ],
      "text/plain": [
       "<IPython.core.display.HTML object>"
      ]
     },
     "metadata": {},
     "output_type": "display_data"
    }
   ],
   "source": [
    "# TODO: Submit your experiment\n",
    "remote_run = experiment.submit(automl_config)"
   ]
  },
  {
   "cell_type": "markdown",
   "metadata": {},
   "source": [
    "## Run Details\n",
    "\n",
    "OPTIONAL: Write about the different models trained and their performance. Why do you think some models did better than others?\n",
    "\n",
    "TODO: In the cell below, use the `RunDetails` widget to show the different experiments."
   ]
  },
  {
   "cell_type": "code",
   "execution_count": 7,
   "metadata": {
    "gather": {
     "logged": 1618178638116
    },
    "jupyter": {
     "outputs_hidden": false,
     "source_hidden": false
    },
    "nteract": {
     "transient": {
      "deleting": false
     }
    }
   },
   "outputs": [
    {
     "data": {
      "application/vnd.jupyter.widget-view+json": {
       "model_id": "22ab591781ad4dbabe68ae74732e5796",
       "version_major": 2,
       "version_minor": 0
      },
      "text/plain": [
       "_AutoMLWidget(widget_settings={'childWidgetDisplay': 'popup', 'send_telemetry': False, 'log_level': 'INFO', 's…"
      ]
     },
     "metadata": {},
     "output_type": "display_data"
    },
    {
     "data": {
      "application/aml.mini.widget.v1": "{\"status\": \"Completed\", \"workbench_run_details_uri\": \"https://ml.azure.com/runs/AutoML_49013142-f08d-4273-bdfc-1663ea9056f8?wsid=/subscriptions/d4ad7261-832d-46b2-b093-22156001df5b/resourcegroups/aml-quickstarts-142627/workspaces/quick-starts-ws-142627&tid=660b3398-b80e-49d2-bc5b-ac1dc93b5254\", \"run_id\": \"AutoML_49013142-f08d-4273-bdfc-1663ea9056f8\", \"run_properties\": {\"run_id\": \"AutoML_49013142-f08d-4273-bdfc-1663ea9056f8\", \"created_utc\": \"2021-04-13T21:12:10.918024Z\", \"properties\": {\"num_iterations\": \"1000\", \"training_type\": \"TrainFull\", \"acquisition_function\": \"EI\", \"primary_metric\": \"AUC_weighted\", \"train_split\": \"0\", \"acquisition_parameter\": \"0\", \"num_cross_validation\": null, \"target\": \"auto-ml\", \"AMLSettingsJsonString\": \"{\\\"path\\\":null,\\\"name\\\":\\\"capstone-fraud-credit-exp\\\",\\\"subscription_id\\\":\\\"d4ad7261-832d-46b2-b093-22156001df5b\\\",\\\"resource_group\\\":\\\"aml-quickstarts-142627\\\",\\\"workspace_name\\\":\\\"quick-starts-ws-142627\\\",\\\"region\\\":\\\"southcentralus\\\",\\\"compute_target\\\":\\\"auto-ml\\\",\\\"spark_service\\\":null,\\\"azure_service\\\":\\\"remote\\\",\\\"many_models\\\":false,\\\"pipeline_fetch_max_batch_size\\\":1,\\\"enable_batch_run\\\":false,\\\"enable_run_restructure\\\":false,\\\"iterations\\\":1000,\\\"primary_metric\\\":\\\"AUC_weighted\\\",\\\"task_type\\\":\\\"classification\\\",\\\"data_script\\\":null,\\\"test_size\\\":0.0,\\\"validation_size\\\":0.0,\\\"n_cross_validations\\\":null,\\\"y_min\\\":null,\\\"y_max\\\":null,\\\"num_classes\\\":null,\\\"featurization\\\":\\\"auto\\\",\\\"_ignore_package_version_incompatibilities\\\":false,\\\"is_timeseries\\\":false,\\\"max_cores_per_iteration\\\":1,\\\"max_concurrent_iterations\\\":5,\\\"iteration_timeout_minutes\\\":null,\\\"mem_in_mb\\\":null,\\\"enforce_time_on_windows\\\":false,\\\"experiment_timeout_minutes\\\":30,\\\"experiment_exit_score\\\":null,\\\"whitelist_models\\\":null,\\\"blacklist_algos\\\":[\\\"XGBoostClassifier\\\",\\\"TensorFlowLinearClassifier\\\",\\\"TensorFlowDNN\\\"],\\\"supported_models\\\":[\\\"TensorFlowLinearClassifier\\\",\\\"MultinomialNaiveBayes\\\",\\\"AveragedPerceptronClassifier\\\",\\\"SVM\\\",\\\"DecisionTree\\\",\\\"KNN\\\",\\\"ExtremeRandomTrees\\\",\\\"LightGBM\\\",\\\"GradientBoosting\\\",\\\"XGBoostClassifier\\\",\\\"RandomForest\\\",\\\"TensorFlowDNN\\\",\\\"LinearSVM\\\",\\\"SGD\\\",\\\"LogisticRegression\\\",\\\"BernoulliNaiveBayes\\\"],\\\"private_models\\\":[],\\\"auto_blacklist\\\":true,\\\"blacklist_samples_reached\\\":false,\\\"exclude_nan_labels\\\":true,\\\"verbosity\\\":20,\\\"_debug_log\\\":\\\"azureml_automl.log\\\",\\\"show_warnings\\\":false,\\\"model_explainability\\\":true,\\\"service_url\\\":null,\\\"sdk_url\\\":null,\\\"sdk_packages\\\":null,\\\"enable_onnx_compatible_models\\\":false,\\\"enable_split_onnx_featurizer_estimator_models\\\":false,\\\"vm_type\\\":\\\"STANDARD_DS12_V2\\\",\\\"telemetry_verbosity\\\":20,\\\"send_telemetry\\\":true,\\\"enable_dnn\\\":false,\\\"scenario\\\":\\\"SDK-1.13.0\\\",\\\"environment_label\\\":null,\\\"save_mlflow\\\":false,\\\"force_text_dnn\\\":false,\\\"enable_feature_sweeping\\\":true,\\\"enable_early_stopping\\\":true,\\\"early_stopping_n_iters\\\":10,\\\"metrics\\\":null,\\\"enable_metric_confidence\\\":false,\\\"enable_ensembling\\\":true,\\\"enable_stack_ensembling\\\":true,\\\"ensemble_iterations\\\":15,\\\"enable_tf\\\":false,\\\"enable_subsampling\\\":null,\\\"subsample_seed\\\":null,\\\"enable_nimbusml\\\":false,\\\"enable_streaming\\\":false,\\\"force_streaming\\\":false,\\\"track_child_runs\\\":true,\\\"allowed_private_models\\\":[],\\\"label_column_name\\\":\\\"Class\\\",\\\"weight_column_name\\\":null,\\\"cv_split_column_names\\\":null,\\\"enable_local_managed\\\":false,\\\"_local_managed_run_id\\\":null,\\\"cost_mode\\\":1,\\\"lag_length\\\":0,\\\"metric_operation\\\":\\\"maximize\\\",\\\"preprocess\\\":true}\", \"DataPrepJsonString\": \"{\\\\\\\"training_data\\\\\\\": {\\\\\\\"datasetId\\\\\\\": \\\\\\\"5d5809e1-e0f9-4ee6-a71c-67707843426e\\\\\\\"}, \\\\\\\"datasets\\\\\\\": 0}\", \"EnableSubsampling\": null, \"runTemplate\": \"AutoML\", \"azureml.runsource\": \"automl\", \"display_task_type\": \"classification\", \"dependencies_versions\": \"{\\\"azureml-widgets\\\": \\\"1.26.0\\\", \\\"azureml-train\\\": \\\"1.26.0\\\", \\\"azureml-train-restclients-hyperdrive\\\": \\\"1.26.0\\\", \\\"azureml-train-core\\\": \\\"1.26.0\\\", \\\"azureml-train-automl\\\": \\\"1.26.0\\\", \\\"azureml-train-automl-runtime\\\": \\\"1.26.0\\\", \\\"azureml-train-automl-client\\\": \\\"1.26.0\\\", \\\"azureml-tensorboard\\\": \\\"1.26.0\\\", \\\"azureml-telemetry\\\": \\\"1.26.0\\\", \\\"azureml-sdk\\\": \\\"1.26.0\\\", \\\"azureml-samples\\\": \\\"0+unknown\\\", \\\"azureml-pipeline\\\": \\\"1.26.0\\\", \\\"azureml-pipeline-steps\\\": \\\"1.26.0\\\", \\\"azureml-pipeline-core\\\": \\\"1.26.0\\\", \\\"azureml-opendatasets\\\": \\\"1.26.0\\\", \\\"azureml-model-management-sdk\\\": \\\"1.0.1b6.post1\\\", \\\"azureml-mlflow\\\": \\\"1.26.0\\\", \\\"azureml-interpret\\\": \\\"1.26.0\\\", \\\"azureml-explain-model\\\": \\\"1.26.0\\\", \\\"azureml-defaults\\\": \\\"1.26.0\\\", \\\"azureml-dataset-runtime\\\": \\\"1.26.0\\\", \\\"azureml-dataprep\\\": \\\"2.13.2\\\", \\\"azureml-dataprep-rslex\\\": \\\"1.11.2\\\", \\\"azureml-dataprep-native\\\": \\\"32.0.0\\\", \\\"azureml-datadrift\\\": \\\"1.26.0\\\", \\\"azureml-core\\\": \\\"1.26.0\\\", \\\"azureml-contrib-services\\\": \\\"1.26.0\\\", \\\"azureml-contrib-server\\\": \\\"1.26.0\\\", \\\"azureml-contrib-reinforcementlearning\\\": \\\"1.26.0\\\", \\\"azureml-contrib-pipeline-steps\\\": \\\"1.26.0\\\", \\\"azureml-contrib-notebook\\\": \\\"1.26.0\\\", \\\"azureml-contrib-gbdt\\\": \\\"1.26.0\\\", \\\"azureml-contrib-fairness\\\": \\\"1.26.0\\\", \\\"azureml-contrib-dataset\\\": \\\"1.26.0\\\", \\\"azureml-cli-common\\\": \\\"1.26.0\\\", \\\"azureml-automl-runtime\\\": \\\"1.26.0\\\", \\\"azureml-automl-dnn-nlp\\\": \\\"1.26.0\\\", \\\"azureml-automl-core\\\": \\\"1.26.0\\\", \\\"azureml-accel-models\\\": \\\"1.26.0\\\"}\", \"_aml_system_scenario_identification\": \"Remote.Parent\", \"ClientType\": \"SDK\", \"environment_cpu_name\": \"AzureML-AutoML\", \"environment_cpu_label\": \"prod\", \"environment_gpu_name\": \"AzureML-AutoML-GPU\", \"environment_gpu_label\": \"prod\", \"root_attribution\": \"automl\", \"attribution\": \"AutoML\", \"Orchestrator\": \"AutoML\", \"CancelUri\": \"https://southcentralus.experiments.azureml.net/jasmine/v1.0/subscriptions/d4ad7261-832d-46b2-b093-22156001df5b/resourceGroups/aml-quickstarts-142627/providers/Microsoft.MachineLearningServices/workspaces/quick-starts-ws-142627/experimentids/7b13a5c2-e55c-4f04-a5b1-765b979136a4/cancel/AutoML_49013142-f08d-4273-bdfc-1663ea9056f8\", \"ClientSdkVersion\": \"1.25.0\", \"snapshotId\": \"00000000-0000-0000-0000-000000000000\", \"SetupRunId\": \"AutoML_49013142-f08d-4273-bdfc-1663ea9056f8_setup\", \"SetupRunContainerId\": \"dcid.AutoML_49013142-f08d-4273-bdfc-1663ea9056f8_setup\", \"FeaturizationRunJsonPath\": \"featurizer_container.json\", \"FeaturizationRunId\": \"AutoML_49013142-f08d-4273-bdfc-1663ea9056f8_featurize\", \"ProblemInfoJsonString\": \"{\\\"dataset_num_categorical\\\": 0, \\\"is_sparse\\\": false, \\\"subsampling\\\": false, \\\"dataset_classes\\\": 2, \\\"dataset_features\\\": 30, \\\"dataset_samples\\\": 256326, \\\"single_frequency_class_detected\\\": false}\", \"ModelExplainRunId\": \"AutoML_49013142-f08d-4273-bdfc-1663ea9056f8_ModelExplain\"}, \"tags\": {\"model_explain_run\": \"best_run\", \"_aml_system_azureml.automlComponent\": \"AutoML\", \"pipeline_id\": \"\", \"score\": \"\", \"predicted_cost\": \"\", \"fit_time\": \"\", \"training_percent\": \"\", \"iteration\": \"\", \"run_preprocessor\": \"\", \"run_algorithm\": \"\", \"dynamic_whitelisting_iterations\": \"<25>;<30>;<35>;\", \"automl_best_child_run_id\": \"AutoML_49013142-f08d-4273-bdfc-1663ea9056f8_38\", \"model_explain_best_run_child_id\": \"AutoML_49013142-f08d-4273-bdfc-1663ea9056f8_38\"}, \"end_time_utc\": \"2021-04-13T21:42:12.588036Z\", \"status\": \"Completed\", \"log_files\": {}, \"log_groups\": [], \"run_duration\": \"0:30:01\", \"run_number\": \"4\", \"run_queued_details\": {\"status\": \"Completed\", \"details\": null}}, \"child_runs\": [{\"run_id\": \"AutoML_49013142-f08d-4273-bdfc-1663ea9056f8_1\", \"run_number\": 8, \"metric\": null, \"status\": \"Completed\", \"run_type\": \"azureml.scriptrun\", \"training_percent\": \"100\", \"start_time\": \"2021-04-13T21:22:38.484332Z\", \"end_time\": \"2021-04-13T21:23:40.312818Z\", \"created_time\": \"2021-04-13T21:20:13.007564Z\", \"created_time_dt\": \"2021-04-13T21:20:13.007564Z\", \"duration\": \"0:03:27\", \"iteration\": \"1\", \"goal\": \"AUC_weighted_max\", \"run_name\": \"MinMaxScaler, RandomForest\", \"run_properties\": \"copy=True, feature_range=(0, 1\", \"primary_metric\": 0.95564067, \"best_metric\": 0.95564067}, {\"run_id\": \"AutoML_49013142-f08d-4273-bdfc-1663ea9056f8_2\", \"run_number\": 9, \"metric\": null, \"status\": \"Completed\", \"run_type\": \"azureml.scriptrun\", \"training_percent\": \"100\", \"start_time\": \"2021-04-13T21:25:10.438157Z\", \"end_time\": \"2021-04-13T21:26:45.547764Z\", \"created_time\": \"2021-04-13T21:20:13.016551Z\", \"created_time_dt\": \"2021-04-13T21:20:13.016551Z\", \"duration\": \"0:06:32\", \"iteration\": \"2\", \"goal\": \"AUC_weighted_max\", \"run_name\": \"RobustScaler, ExtremeRandomTrees\", \"run_properties\": \"copy=True, quantile_range=[10, 90], with_centering=False,\\n             with_scaling=False\", \"primary_metric\": 0.94956351, \"best_metric\": 0.95564067}, {\"run_id\": \"AutoML_49013142-f08d-4273-bdfc-1663ea9056f8_3\", \"run_number\": 10, \"metric\": null, \"status\": \"Completed\", \"run_type\": \"azureml.scriptrun\", \"training_percent\": \"100\", \"start_time\": \"2021-04-13T21:23:56.393337Z\", \"end_time\": \"2021-04-13T21:25:02.323972Z\", \"created_time\": \"2021-04-13T21:20:13.027477Z\", \"created_time_dt\": \"2021-04-13T21:20:13.027477Z\", \"duration\": \"0:04:49\", \"iteration\": \"3\", \"goal\": \"AUC_weighted_max\", \"run_name\": \"MinMaxScaler, RandomForest\", \"run_properties\": \"copy=True, feature_range=(0, 1\", \"primary_metric\": 0.97493698, \"best_metric\": 0.97493698}, {\"run_id\": \"AutoML_49013142-f08d-4273-bdfc-1663ea9056f8_4\", \"run_number\": 11, \"metric\": null, \"status\": \"Completed\", \"run_type\": \"azureml.scriptrun\", \"training_percent\": \"100\", \"start_time\": \"2021-04-13T21:21:33.329076Z\", \"end_time\": \"2021-04-13T21:22:24.301187Z\", \"created_time\": \"2021-04-13T21:20:13.106565Z\", \"created_time_dt\": \"2021-04-13T21:20:13.106565Z\", \"duration\": \"0:02:11\", \"iteration\": \"4\", \"goal\": \"AUC_weighted_max\", \"run_name\": \"MinMaxScaler, RandomForest\", \"run_properties\": \"copy=True, feature_range=(0, 1\", \"primary_metric\": 0.96356685, \"best_metric\": 0.97493698}, {\"run_id\": \"AutoML_49013142-f08d-4273-bdfc-1663ea9056f8_0\", \"run_number\": 12, \"metric\": null, \"status\": \"Completed\", \"run_type\": \"azureml.scriptrun\", \"training_percent\": \"100\", \"start_time\": \"2021-04-13T21:20:25.361084Z\", \"end_time\": \"2021-04-13T21:21:17.489656Z\", \"created_time\": \"2021-04-13T21:20:13.428132Z\", \"created_time_dt\": \"2021-04-13T21:20:13.428132Z\", \"duration\": \"0:01:04\", \"iteration\": \"0\", \"goal\": \"AUC_weighted_max\", \"run_name\": \"MaxAbsScaler, LightGBM\", \"run_properties\": \"copy=True\", \"primary_metric\": 0.92515188, \"best_metric\": 0.92515188}, {\"run_id\": \"AutoML_49013142-f08d-4273-bdfc-1663ea9056f8_5\", \"run_number\": 13, \"metric\": null, \"status\": \"Completed\", \"run_type\": \"azureml.scriptrun\", \"training_percent\": \"100\", \"start_time\": \"2021-04-13T21:25:08.034628Z\", \"end_time\": \"2021-04-13T21:26:56.380247Z\", \"created_time\": \"2021-04-13T21:21:19.373654Z\", \"created_time_dt\": \"2021-04-13T21:21:19.373654Z\", \"duration\": \"0:05:37\", \"iteration\": \"5\", \"goal\": \"AUC_weighted_max\", \"run_name\": \"StandardScalerWrapper, RandomForest\", \"run_properties\": \"<azureml.automl.runtime.shared.model_wrappers.StandardScalerWrapper object at 0x7f0e740848d0\", \"primary_metric\": 0.96281066, \"best_metric\": 0.97493698}, {\"run_id\": \"AutoML_49013142-f08d-4273-bdfc-1663ea9056f8_6\", \"run_number\": 14, \"metric\": null, \"status\": \"Completed\", \"run_type\": \"azureml.scriptrun\", \"training_percent\": \"100\", \"start_time\": \"2021-04-13T21:25:11.850137Z\", \"end_time\": \"2021-04-13T21:26:46.728928Z\", \"created_time\": \"2021-04-13T21:22:28.456166Z\", \"created_time_dt\": \"2021-04-13T21:22:28.456166Z\", \"duration\": \"0:04:18\", \"iteration\": \"6\", \"goal\": \"AUC_weighted_max\", \"run_name\": \"MinMaxScaler, ExtremeRandomTrees\", \"run_properties\": \"copy=True, feature_range=(0, 1\", \"primary_metric\": 0.95897013, \"best_metric\": 0.97493698}, {\"run_id\": \"AutoML_49013142-f08d-4273-bdfc-1663ea9056f8_7\", \"run_number\": 15, \"metric\": null, \"status\": \"Completed\", \"run_type\": \"azureml.scriptrun\", \"training_percent\": \"100\", \"start_time\": \"2021-04-13T21:25:09.535899Z\", \"end_time\": \"2021-04-13T21:26:45.999491Z\", \"created_time\": \"2021-04-13T21:23:44.950911Z\", \"created_time_dt\": \"2021-04-13T21:23:44.950911Z\", \"duration\": \"0:03:01\", \"iteration\": \"7\", \"goal\": \"AUC_weighted_max\", \"run_name\": \"MinMaxScaler, ExtremeRandomTrees\", \"run_properties\": \"copy=True, feature_range=(0, 1\", \"primary_metric\": 0.94829231, \"best_metric\": 0.97493698}, {\"run_id\": \"AutoML_49013142-f08d-4273-bdfc-1663ea9056f8_8\", \"run_number\": 16, \"metric\": null, \"status\": \"Completed\", \"run_type\": \"azureml.scriptrun\", \"training_percent\": \"100\", \"start_time\": \"2021-04-13T21:25:14.902604Z\", \"end_time\": \"2021-04-13T21:25:56.41332Z\", \"created_time\": \"2021-04-13T21:25:05.703352Z\", \"created_time_dt\": \"2021-04-13T21:25:05.703352Z\", \"duration\": \"0:00:50\", \"iteration\": \"8\", \"goal\": \"AUC_weighted_max\", \"run_name\": \"MinMaxScaler, ExtremeRandomTrees\", \"run_properties\": \"copy=True, feature_range=(0, 1\", \"primary_metric\": 0.96361315, \"best_metric\": 0.97493698}, {\"run_id\": \"AutoML_49013142-f08d-4273-bdfc-1663ea9056f8_9\", \"run_number\": 17, \"metric\": null, \"status\": \"Completed\", \"run_type\": \"azureml.scriptrun\", \"training_percent\": \"100\", \"start_time\": \"2021-04-13T21:26:09.866988Z\", \"end_time\": \"2021-04-13T21:26:54.706366Z\", \"created_time\": \"2021-04-13T21:25:59.724833Z\", \"created_time_dt\": \"2021-04-13T21:25:59.724833Z\", \"duration\": \"0:00:54\", \"iteration\": \"9\", \"goal\": \"AUC_weighted_max\", \"run_name\": \"RobustScaler, ExtremeRandomTrees\", \"run_properties\": \"copy=True, quantile_range=[10, 90], with_centering=True,\\n             with_scaling=False\", \"primary_metric\": 0.96597898, \"best_metric\": 0.97493698}, {\"run_id\": \"AutoML_49013142-f08d-4273-bdfc-1663ea9056f8_11\", \"run_number\": 18, \"metric\": null, \"status\": \"Completed\", \"run_type\": \"azureml.scriptrun\", \"training_percent\": \"100\", \"start_time\": \"2021-04-13T21:26:59.096885Z\", \"end_time\": \"2021-04-13T21:27:49.699535Z\", \"created_time\": \"2021-04-13T21:26:49.02508Z\", \"created_time_dt\": \"2021-04-13T21:26:49.02508Z\", \"duration\": \"0:01:00\", \"iteration\": \"11\", \"goal\": \"AUC_weighted_max\", \"run_name\": \"StandardScalerWrapper, SGD\", \"run_properties\": \"<azureml.automl.runtime.shared.model_wrappers.StandardScalerWrapper object at 0x7f4baafd3ef0\", \"primary_metric\": 0.95708358, \"best_metric\": 0.98296329}, {\"run_id\": \"AutoML_49013142-f08d-4273-bdfc-1663ea9056f8_10\", \"run_number\": 19, \"metric\": null, \"status\": \"Completed\", \"run_type\": \"azureml.scriptrun\", \"training_percent\": \"100\", \"start_time\": \"2021-04-13T21:26:56.450763Z\", \"end_time\": \"2021-04-13T21:28:18.271014Z\", \"created_time\": \"2021-04-13T21:26:49.048841Z\", \"created_time_dt\": \"2021-04-13T21:26:49.048841Z\", \"duration\": \"0:01:29\", \"iteration\": \"10\", \"goal\": \"AUC_weighted_max\", \"run_name\": \"StandardScalerWrapper, RandomForest\", \"run_properties\": \"<azureml.automl.runtime.shared.model_wrappers.StandardScalerWrapper object at 0x7f69debb9d68\", \"primary_metric\": 0.98296329, \"best_metric\": 0.98296329}, {\"run_id\": \"AutoML_49013142-f08d-4273-bdfc-1663ea9056f8_12\", \"run_number\": 20, \"metric\": null, \"status\": \"Completed\", \"run_type\": \"azureml.scriptrun\", \"training_percent\": \"100\", \"start_time\": \"2021-04-13T21:27:02.269201Z\", \"end_time\": \"2021-04-13T21:28:04.293411Z\", \"created_time\": \"2021-04-13T21:26:54.026248Z\", \"created_time_dt\": \"2021-04-13T21:26:54.026248Z\", \"duration\": \"0:01:10\", \"iteration\": \"12\", \"goal\": \"AUC_weighted_max\", \"run_name\": \"RobustScaler, RandomForest\", \"run_properties\": \"copy=True, quantile_range=[10, 90], with_centering=True,\\n             with_scaling=False\", \"primary_metric\": 0.98188445, \"best_metric\": 0.98296329}, {\"run_id\": \"AutoML_49013142-f08d-4273-bdfc-1663ea9056f8_13\", \"run_number\": 21, \"metric\": null, \"status\": \"Completed\", \"run_type\": \"azureml.scriptrun\", \"training_percent\": \"100\", \"start_time\": \"2021-04-13T21:27:11.6453Z\", \"end_time\": \"2021-04-13T21:28:06.282404Z\", \"created_time\": \"2021-04-13T21:26:59.653036Z\", \"created_time_dt\": \"2021-04-13T21:26:59.653036Z\", \"duration\": \"0:01:06\", \"iteration\": \"13\", \"goal\": \"AUC_weighted_max\", \"run_name\": \"MinMaxScaler, RandomForest\", \"run_properties\": \"copy=True, feature_range=(0, 1\", \"primary_metric\": 0.95256279, \"best_metric\": 0.98296329}, {\"run_id\": \"AutoML_49013142-f08d-4273-bdfc-1663ea9056f8_14\", \"run_number\": 22, \"metric\": null, \"status\": \"Completed\", \"run_type\": \"azureml.scriptrun\", \"training_percent\": \"100\", \"start_time\": \"2021-04-13T21:27:11.483182Z\", \"end_time\": \"2021-04-13T21:28:00.1146Z\", \"created_time\": \"2021-04-13T21:26:59.689274Z\", \"created_time_dt\": \"2021-04-13T21:26:59.689274Z\", \"duration\": \"0:01:00\", \"iteration\": \"14\", \"goal\": \"AUC_weighted_max\", \"run_name\": \"MinMaxScaler, ExtremeRandomTrees\", \"run_properties\": \"copy=True, feature_range=(0, 1\", \"primary_metric\": 0.94949819, \"best_metric\": 0.98296329}, {\"run_id\": \"AutoML_49013142-f08d-4273-bdfc-1663ea9056f8_15\", \"run_number\": 23, \"metric\": null, \"status\": \"Completed\", \"run_type\": \"azureml.scriptrun\", \"training_percent\": \"100\", \"start_time\": \"2021-04-13T21:28:06.123657Z\", \"end_time\": \"2021-04-13T21:28:56.167686Z\", \"created_time\": \"2021-04-13T21:27:53.27078Z\", \"created_time_dt\": \"2021-04-13T21:27:53.27078Z\", \"duration\": \"0:01:02\", \"iteration\": \"15\", \"goal\": \"AUC_weighted_max\", \"run_name\": \"MinMaxScaler, RandomForest\", \"run_properties\": \"copy=True, feature_range=(0, 1\", \"primary_metric\": 0.95752594, \"best_metric\": 0.98296329}, {\"run_id\": \"AutoML_49013142-f08d-4273-bdfc-1663ea9056f8_16\", \"run_number\": 24, \"metric\": null, \"status\": \"Completed\", \"run_type\": \"azureml.scriptrun\", \"training_percent\": \"100\", \"start_time\": \"2021-04-13T21:28:14.260409Z\", \"end_time\": \"2021-04-13T21:28:59.837479Z\", \"created_time\": \"2021-04-13T21:28:03.53275Z\", \"created_time_dt\": \"2021-04-13T21:28:03.53275Z\", \"duration\": \"0:00:56\", \"iteration\": \"16\", \"goal\": \"AUC_weighted_max\", \"run_name\": \"MinMaxScaler, RandomForest\", \"run_properties\": \"copy=True, feature_range=(0, 1\", \"primary_metric\": 0.96403233, \"best_metric\": 0.98296329}, {\"run_id\": \"AutoML_49013142-f08d-4273-bdfc-1663ea9056f8_17\", \"run_number\": 25, \"metric\": null, \"status\": \"Completed\", \"run_type\": \"azureml.scriptrun\", \"training_percent\": \"100\", \"start_time\": \"2021-04-13T21:28:51.294452Z\", \"end_time\": \"2021-04-13T21:29:50.728028Z\", \"created_time\": \"2021-04-13T21:28:09.524809Z\", \"created_time_dt\": \"2021-04-13T21:28:09.524809Z\", \"duration\": \"0:01:41\", \"iteration\": \"17\", \"goal\": \"AUC_weighted_max\", \"run_name\": \"MaxAbsScaler, RandomForest\", \"run_properties\": \"copy=True\", \"primary_metric\": 0.97265369, \"best_metric\": 0.98296329}, {\"run_id\": \"AutoML_49013142-f08d-4273-bdfc-1663ea9056f8_18\", \"run_number\": 26, \"metric\": null, \"status\": \"Completed\", \"run_type\": \"azureml.scriptrun\", \"training_percent\": \"100\", \"start_time\": \"2021-04-13T21:28:18.093824Z\", \"end_time\": \"2021-04-13T21:29:16.995518Z\", \"created_time\": \"2021-04-13T21:28:09.680659Z\", \"created_time_dt\": \"2021-04-13T21:28:09.680659Z\", \"duration\": \"0:01:07\", \"iteration\": \"18\", \"goal\": \"AUC_weighted_max\", \"run_name\": \"MaxAbsScaler, RandomForest\", \"run_properties\": \"copy=True\", \"primary_metric\": 0.9567999, \"best_metric\": 0.98296329}, {\"run_id\": \"AutoML_49013142-f08d-4273-bdfc-1663ea9056f8_19\", \"run_number\": 27, \"metric\": null, \"status\": \"Completed\", \"run_type\": \"azureml.scriptrun\", \"training_percent\": \"100\", \"start_time\": \"2021-04-13T21:28:34.736121Z\", \"end_time\": \"2021-04-13T21:29:24.014813Z\", \"created_time\": \"2021-04-13T21:28:21.509612Z\", \"created_time_dt\": \"2021-04-13T21:28:21.509612Z\", \"duration\": \"0:01:02\", \"iteration\": \"19\", \"goal\": \"AUC_weighted_max\", \"run_name\": \"StandardScalerWrapper, ExtremeRandomTrees\", \"run_properties\": \"<azureml.automl.runtime.shared.model_wrappers.StandardScalerWrapper object at 0x7fec69edaac8\", \"primary_metric\": 0.94493629, \"best_metric\": 0.98296329}, {\"run_id\": \"AutoML_49013142-f08d-4273-bdfc-1663ea9056f8_20\", \"run_number\": 28, \"metric\": null, \"status\": \"Completed\", \"run_type\": \"azureml.scriptrun\", \"training_percent\": \"100\", \"start_time\": \"2021-04-13T21:29:13.241782Z\", \"end_time\": \"2021-04-13T21:29:57.241485Z\", \"created_time\": \"2021-04-13T21:29:00.077663Z\", \"created_time_dt\": \"2021-04-13T21:29:00.077663Z\", \"duration\": \"0:00:57\", \"iteration\": \"20\", \"goal\": \"AUC_weighted_max\", \"run_name\": \"MaxAbsScaler, ExtremeRandomTrees\", \"run_properties\": \"copy=True\", \"primary_metric\": 0.94838742, \"best_metric\": 0.98296329}, {\"run_id\": \"AutoML_49013142-f08d-4273-bdfc-1663ea9056f8_21\", \"run_number\": 29, \"metric\": null, \"status\": \"Completed\", \"run_type\": \"azureml.scriptrun\", \"training_percent\": \"100\", \"start_time\": \"2021-04-13T21:29:14.209724Z\", \"end_time\": \"2021-04-13T21:29:58.361265Z\", \"created_time\": \"2021-04-13T21:29:05.789911Z\", \"created_time_dt\": \"2021-04-13T21:29:05.789911Z\", \"duration\": \"0:00:52\", \"iteration\": \"21\", \"goal\": \"AUC_weighted_max\", \"run_name\": \"MaxAbsScaler, ExtremeRandomTrees\", \"run_properties\": \"copy=True\", \"primary_metric\": 0.9358821, \"best_metric\": 0.98296329}, {\"run_id\": \"AutoML_49013142-f08d-4273-bdfc-1663ea9056f8_22\", \"run_number\": 30, \"metric\": null, \"status\": \"Completed\", \"run_type\": \"azureml.scriptrun\", \"training_percent\": \"100\", \"start_time\": \"2021-04-13T21:29:35.229993Z\", \"end_time\": \"2021-04-13T21:30:34.652018Z\", \"created_time\": \"2021-04-13T21:29:20.675738Z\", \"created_time_dt\": \"2021-04-13T21:29:20.675738Z\", \"duration\": \"0:01:13\", \"iteration\": \"22\", \"goal\": \"AUC_weighted_max\", \"run_name\": \"MaxAbsScaler, RandomForest\", \"run_properties\": \"copy=True\", \"primary_metric\": 0.9729487, \"best_metric\": 0.98296329}, {\"run_id\": \"AutoML_49013142-f08d-4273-bdfc-1663ea9056f8_23\", \"run_number\": 31, \"metric\": null, \"status\": \"Canceled\", \"run_type\": \"azureml.scriptrun\", \"training_percent\": \"100\", \"start_time\": \"2021-04-13T21:29:41.547495Z\", \"end_time\": \"2021-04-13T21:38:47.511474Z\", \"created_time\": \"2021-04-13T21:29:27.289052Z\", \"created_time_dt\": \"2021-04-13T21:29:27.289052Z\", \"duration\": \"0:09:20\", \"iteration\": \"23\", \"goal\": null, \"run_name\": \"StandardScalerWrapper, RandomForest\", \"run_properties\": null}, {\"run_id\": \"AutoML_49013142-f08d-4273-bdfc-1663ea9056f8_24\", \"run_number\": 32, \"metric\": null, \"status\": \"Completed\", \"run_type\": \"azureml.scriptrun\", \"training_percent\": \"100\", \"start_time\": \"2021-04-13T21:30:05.385964Z\", \"end_time\": \"2021-04-13T21:31:29.195721Z\", \"created_time\": \"2021-04-13T21:29:54.310592Z\", \"created_time_dt\": \"2021-04-13T21:29:54.310592Z\", \"duration\": \"0:01:34\", \"iteration\": \"24\", \"goal\": \"AUC_weighted_max\", \"run_name\": \"StandardScalerWrapper, LogisticRegression\", \"run_properties\": \"<azureml.automl.runtime.shared.model_wrappers.StandardScalerWrapper object at 0x7f42482bec50\", \"primary_metric\": 0.84572715, \"best_metric\": 0.98296329}, {\"run_id\": \"AutoML_49013142-f08d-4273-bdfc-1663ea9056f8_25\", \"run_number\": 33, \"metric\": null, \"status\": \"Completed\", \"run_type\": \"azureml.scriptrun\", \"training_percent\": \"100\", \"start_time\": \"2021-04-13T21:30:11.948002Z\", \"end_time\": \"2021-04-13T21:35:58.934525Z\", \"created_time\": \"2021-04-13T21:30:00.954048Z\", \"created_time_dt\": \"2021-04-13T21:30:00.954048Z\", \"duration\": \"0:05:57\", \"iteration\": \"25\", \"goal\": \"AUC_weighted_max\", \"run_name\": \"StandardScalerWrapper, RandomForest\", \"run_properties\": \"<azureml.automl.runtime.shared.model_wrappers.StandardScalerWrapper object at 0x7f221dfc26d8\", \"primary_metric\": 0.95737198, \"best_metric\": 0.98296329}, {\"run_id\": \"AutoML_49013142-f08d-4273-bdfc-1663ea9056f8_26\", \"run_number\": 34, \"metric\": null, \"status\": \"Completed\", \"run_type\": \"azureml.scriptrun\", \"training_percent\": \"100\", \"start_time\": \"2021-04-13T21:30:16.24352Z\", \"end_time\": \"2021-04-13T21:31:30.165899Z\", \"created_time\": \"2021-04-13T21:30:05.856963Z\", \"created_time_dt\": \"2021-04-13T21:30:05.856963Z\", \"duration\": \"0:01:24\", \"iteration\": \"26\", \"goal\": \"AUC_weighted_max\", \"run_name\": \"MaxAbsScaler, LogisticRegression\", \"run_properties\": \"copy=True\", \"primary_metric\": 0.50001759, \"best_metric\": 0.98296329}, {\"run_id\": \"AutoML_49013142-f08d-4273-bdfc-1663ea9056f8_27\", \"run_number\": 35, \"metric\": null, \"status\": \"Completed\", \"run_type\": \"azureml.scriptrun\", \"training_percent\": \"100\", \"start_time\": \"2021-04-13T21:30:48.792214Z\", \"end_time\": \"2021-04-13T21:32:04.436276Z\", \"created_time\": \"2021-04-13T21:30:37.435442Z\", \"created_time_dt\": \"2021-04-13T21:30:37.435442Z\", \"duration\": \"0:01:27\", \"iteration\": \"27\", \"goal\": \"AUC_weighted_max\", \"run_name\": \"MinMaxScaler, LogisticRegression\", \"run_properties\": \"copy=True, feature_range=(0, 1\", \"primary_metric\": 0.5, \"best_metric\": 0.98296329}, {\"run_id\": \"AutoML_49013142-f08d-4273-bdfc-1663ea9056f8_28\", \"run_number\": 36, \"metric\": null, \"status\": \"Canceled\", \"run_type\": \"azureml.scriptrun\", \"training_percent\": \"100\", \"start_time\": \"2021-04-13T21:31:44.757477Z\", \"end_time\": \"2021-04-13T21:38:48.135369Z\", \"created_time\": \"2021-04-13T21:31:31.716598Z\", \"created_time_dt\": \"2021-04-13T21:31:31.716598Z\", \"duration\": \"0:07:16\", \"iteration\": \"28\", \"goal\": null, \"run_name\": \"StandardScalerWrapper, RandomForest\", \"run_properties\": null}, {\"run_id\": \"AutoML_49013142-f08d-4273-bdfc-1663ea9056f8_29\", \"run_number\": 37, \"metric\": null, \"status\": \"Completed\", \"run_type\": \"azureml.scriptrun\", \"training_percent\": \"100\", \"start_time\": \"2021-04-13T21:31:46.120681Z\", \"end_time\": \"2021-04-13T21:32:32.064356Z\", \"created_time\": \"2021-04-13T21:31:36.952515Z\", \"created_time_dt\": \"2021-04-13T21:31:36.952515Z\", \"duration\": \"0:00:55\", \"iteration\": \"29\", \"goal\": \"AUC_weighted_max\", \"run_name\": \"RobustScaler, LightGBM\", \"run_properties\": \"copy=True, quantile_range=[25, 75], with_centering=False,\\n             with_scaling=True\", \"primary_metric\": 0.9611558, \"best_metric\": 0.98296329}, {\"run_id\": \"AutoML_49013142-f08d-4273-bdfc-1663ea9056f8_30\", \"run_number\": 38, \"metric\": null, \"status\": \"Completed\", \"run_type\": \"azureml.scriptrun\", \"training_percent\": \"100\", \"start_time\": \"2021-04-13T21:32:23.393555Z\", \"end_time\": \"2021-04-13T21:33:17.183261Z\", \"created_time\": \"2021-04-13T21:32:07.999906Z\", \"created_time_dt\": \"2021-04-13T21:32:07.999906Z\", \"duration\": \"0:01:09\", \"iteration\": \"30\", \"goal\": \"AUC_weighted_max\", \"run_name\": \"TruncatedSVDWrapper, RandomForest\", \"run_properties\": \"n_components=0.3068421052631579, random_state=None\", \"primary_metric\": 0.91799733, \"best_metric\": 0.98296329}, {\"run_id\": \"AutoML_49013142-f08d-4273-bdfc-1663ea9056f8_31\", \"run_number\": 39, \"metric\": null, \"status\": \"Completed\", \"run_type\": \"azureml.scriptrun\", \"training_percent\": \"100\", \"start_time\": \"2021-04-13T21:32:49.832551Z\", \"end_time\": \"2021-04-13T21:35:22.240043Z\", \"created_time\": \"2021-04-13T21:32:34.473186Z\", \"created_time_dt\": \"2021-04-13T21:32:34.473186Z\", \"duration\": \"0:02:47\", \"iteration\": \"31\", \"goal\": \"AUC_weighted_max\", \"run_name\": \"RobustScaler, ExtremeRandomTrees\", \"run_properties\": \"copy=True, quantile_range=[10, 90], with_centering=False,\\n             with_scaling=True\", \"primary_metric\": 0.95873218, \"best_metric\": 0.98296329}, {\"run_id\": \"AutoML_49013142-f08d-4273-bdfc-1663ea9056f8_32\", \"run_number\": 40, \"metric\": null, \"status\": \"Completed\", \"run_type\": \"azureml.scriptrun\", \"training_percent\": \"100\", \"start_time\": \"2021-04-13T21:33:32.785911Z\", \"end_time\": \"2021-04-13T21:34:28.139027Z\", \"created_time\": \"2021-04-13T21:33:19.297378Z\", \"created_time_dt\": \"2021-04-13T21:33:19.297378Z\", \"duration\": \"0:01:08\", \"iteration\": \"32\", \"goal\": \"AUC_weighted_max\", \"run_name\": \"StandardScalerWrapper, ExtremeRandomTrees\", \"run_properties\": \"<azureml.automl.runtime.shared.model_wrappers.StandardScalerWrapper object at 0x7f11b6fe30f0\", \"primary_metric\": 0.96971866, \"best_metric\": 0.98296329}, {\"run_id\": \"AutoML_49013142-f08d-4273-bdfc-1663ea9056f8_33\", \"run_number\": 41, \"metric\": null, \"status\": \"Canceled\", \"run_type\": \"azureml.scriptrun\", \"training_percent\": \"100\", \"start_time\": \"2021-04-13T21:34:47.900463Z\", \"end_time\": \"2021-04-13T21:38:47.450489Z\", \"created_time\": \"2021-04-13T21:34:31.167408Z\", \"created_time_dt\": \"2021-04-13T21:34:31.167408Z\", \"duration\": \"0:04:16\", \"iteration\": \"33\", \"goal\": \"AUC_weighted_max\", \"run_name\": \"RobustScaler, RandomForest\", \"run_properties\": \"copy=True, quantile_range=[10, 90], with_centering=False,\\n             with_scaling=False\", \"primary_metric\": 0.97210566, \"best_metric\": 0.98296329}, {\"run_id\": \"AutoML_49013142-f08d-4273-bdfc-1663ea9056f8_34\", \"run_number\": 42, \"metric\": null, \"status\": \"Completed\", \"run_type\": \"azureml.scriptrun\", \"training_percent\": \"100\", \"start_time\": \"2021-04-13T21:35:38.801425Z\", \"end_time\": \"2021-04-13T21:37:23.891008Z\", \"created_time\": \"2021-04-13T21:35:24.67597Z\", \"created_time_dt\": \"2021-04-13T21:35:24.67597Z\", \"duration\": \"0:01:59\", \"iteration\": \"34\", \"goal\": \"AUC_weighted_max\", \"run_name\": \"MinMaxScaler, RandomForest\", \"run_properties\": \"copy=True, feature_range=(0, 1\", \"primary_metric\": 0.9724301, \"best_metric\": 0.98296329}, {\"run_id\": \"AutoML_49013142-f08d-4273-bdfc-1663ea9056f8_35\", \"run_number\": 43, \"metric\": null, \"status\": \"Completed\", \"run_type\": \"azureml.scriptrun\", \"training_percent\": \"100\", \"start_time\": \"2021-04-13T21:36:14.151717Z\", \"end_time\": \"2021-04-13T21:38:17.325304Z\", \"created_time\": \"2021-04-13T21:36:02.162119Z\", \"created_time_dt\": \"2021-04-13T21:36:02.162119Z\", \"duration\": \"0:02:15\", \"iteration\": \"35\", \"goal\": \"AUC_weighted_max\", \"run_name\": \"StandardScalerWrapper, RandomForest\", \"run_properties\": \"<azureml.automl.runtime.shared.model_wrappers.StandardScalerWrapper object at 0x7f7dcda2db00\", \"primary_metric\": 0.95688531, \"best_metric\": 0.98296329}, {\"run_id\": \"AutoML_49013142-f08d-4273-bdfc-1663ea9056f8_36\", \"run_number\": 44, \"metric\": null, \"status\": \"Completed\", \"run_type\": \"azureml.scriptrun\", \"training_percent\": \"100\", \"start_time\": \"2021-04-13T21:37:38.776021Z\", \"end_time\": \"2021-04-13T21:38:41.074086Z\", \"created_time\": \"2021-04-13T21:37:25.829614Z\", \"created_time_dt\": \"2021-04-13T21:37:25.829614Z\", \"duration\": \"0:01:15\", \"iteration\": \"36\", \"goal\": \"AUC_weighted_max\", \"run_name\": \"StandardScalerWrapper, ExtremeRandomTrees\", \"run_properties\": \"<azureml.automl.runtime.shared.model_wrappers.StandardScalerWrapper object at 0x7f13b2059cc0\", \"primary_metric\": 0.96244243, \"best_metric\": 0.98296329}, {\"run_id\": \"AutoML_49013142-f08d-4273-bdfc-1663ea9056f8_37\", \"run_number\": 45, \"metric\": null, \"status\": \"Canceled\", \"run_type\": \"azureml.scriptrun\", \"training_percent\": \"100\", \"start_time\": \"2021-04-13T21:38:32.13337Z\", \"end_time\": \"2021-04-13T21:38:47.686993Z\", \"created_time\": \"2021-04-13T21:38:19.190164Z\", \"created_time_dt\": \"2021-04-13T21:38:19.190164Z\", \"duration\": \"0:00:28\", \"iteration\": \"37\", \"goal\": null, \"run_name\": \"Canceled\", \"run_properties\": null}, {\"run_id\": \"AutoML_49013142-f08d-4273-bdfc-1663ea9056f8_38\", \"run_number\": 46, \"metric\": null, \"status\": \"Completed\", \"run_type\": \"azureml.scriptrun\", \"training_percent\": \"100\", \"start_time\": \"2021-04-13T21:39:02.10662Z\", \"end_time\": \"2021-04-13T21:40:13.688791Z\", \"created_time\": \"2021-04-13T21:38:49.350039Z\", \"created_time_dt\": \"2021-04-13T21:38:49.350039Z\", \"duration\": \"0:01:24\", \"iteration\": \"38\", \"goal\": \"AUC_weighted_max\", \"run_name\": \"VotingEnsemble\", \"run_properties\": \"classification_labels=None,\\n                              estimators=[('10',\\n                                           Pipeline(memory=None,\\n                                                    steps=[('standardscalerwrapper',\\n                                                            <azureml.automl.runtime.shared.model_wrappers.StandardScalerWrapper object at 0x7f4618360710>\", \"primary_metric\": 0.98703315, \"best_metric\": 0.98703315}, {\"run_id\": \"AutoML_49013142-f08d-4273-bdfc-1663ea9056f8_39\", \"run_number\": 47, \"metric\": null, \"status\": \"Completed\", \"run_type\": \"azureml.scriptrun\", \"training_percent\": \"100\", \"start_time\": \"2021-04-13T21:39:00.486723Z\", \"end_time\": \"2021-04-13T21:42:08.031473Z\", \"created_time\": \"2021-04-13T21:38:49.358729Z\", \"created_time_dt\": \"2021-04-13T21:38:49.358729Z\", \"duration\": \"0:03:18\", \"iteration\": \"39\", \"goal\": \"AUC_weighted_max\", \"run_name\": \"StackEnsemble\", \"run_properties\": \"base_learners=[('10',\\n                                        Pipeline(memory=None,\\n                                                 steps=[('standardscalerwrapper',\\n                                                         <azureml.automl.runtime.shared.model_wrappers.StandardScalerWrapper object at 0x7f067d416358>\", \"primary_metric\": 0.98550498, \"best_metric\": 0.98703315}], \"children_metrics\": {\"categories\": [0], \"series\": {\"AUC_macro\": [{\"categories\": [\"0\", \"1\", \"2\", \"3\", \"4\", \"5\", \"6\", \"7\", \"8\", \"9\", \"10\", \"11\", \"12\", \"13\", \"14\", \"15\", \"16\", \"17\", \"18\", \"19\", \"20\", \"21\", \"22\", \"24\", \"25\", \"26\", \"27\", \"29\", \"30\", \"31\", \"32\", \"33\", \"34\", \"35\", \"36\", \"38\", \"39\"], \"mode\": \"markers\", \"name\": \"AUC_macro\", \"stepped\": false, \"type\": \"scatter\", \"data\": [0.9251518840513133, 0.9556406693234412, 0.9495635127996049, 0.9749369781677443, 0.9635668490806564, 0.9628106588724404, 0.9589701313840111, 0.9482923093266569, 0.9636131464403432, 0.9659789774097596, 0.9829632894238168, 0.9564013457099215, 0.9818844532748383, 0.9525627921399286, 0.9494981940440779, 0.957525940877195, 0.9640323349373515, 0.9726536928783893, 0.9567998977869145, 0.944936289090763, 0.9483874163058583, 0.9358821046707936, 0.9729487039610442, 0.845727148484605, 0.9573719752391672, 0.5000175858187957, 0.5, 0.9611557974343368, 0.917997326955543, 0.9587321844888771, 0.9697186556108093, 0.972105661341633, 0.9724301017537009, 0.956885314621065, 0.9624424333605136, 0.9870331503451127, 0.9855049785811905]}, {\"categories\": [\"0\", \"1\", \"2\", \"3\", \"4\", \"5\", \"6\", \"7\", \"8\", \"9\", \"10\", \"11\", \"12\", \"13\", \"14\", \"15\", \"16\", \"17\", \"18\", \"19\", \"20\", \"21\", \"22\", \"24\", \"25\", \"26\", \"27\", \"29\", \"30\", \"31\", \"32\", \"33\", \"34\", \"35\", \"36\", \"38\", \"39\"], \"mode\": \"lines\", \"name\": \"AUC_macro_max\", \"stepped\": true, \"type\": \"scatter\", \"data\": [0.9251518840513133, 0.9556406693234412, 0.9556406693234412, 0.9749369781677443, 0.9749369781677443, 0.9749369781677443, 0.9749369781677443, 0.9749369781677443, 0.9749369781677443, 0.9749369781677443, 0.9829632894238168, 0.9829632894238168, 0.9829632894238168, 0.9829632894238168, 0.9829632894238168, 0.9829632894238168, 0.9829632894238168, 0.9829632894238168, 0.9829632894238168, 0.9829632894238168, 0.9829632894238168, 0.9829632894238168, 0.9829632894238168, 0.9829632894238168, 0.9829632894238168, 0.9829632894238168, 0.9829632894238168, 0.9829632894238168, 0.9829632894238168, 0.9829632894238168, 0.9829632894238168, 0.9829632894238168, 0.9829632894238168, 0.9829632894238168, 0.9829632894238168, 0.9870331503451127, 0.9870331503451127]}], \"recall_score_micro\": [{\"categories\": [\"0\", \"1\", \"2\", \"3\", \"4\", \"5\", \"6\", \"7\", \"8\", \"9\", \"10\", \"11\", \"12\", \"13\", \"14\", \"15\", \"16\", \"17\", \"18\", \"19\", \"20\", \"21\", \"22\", \"24\", \"25\", \"26\", \"27\", \"29\", \"30\", \"31\", \"32\", \"33\", \"34\", \"35\", \"36\", \"38\", \"39\"], \"mode\": \"markers\", \"name\": \"recall_score_micro\", \"stepped\": false, \"type\": \"scatter\", \"data\": [0.9994382219725431, 0.9509146448509532, 0.9906604402935291, 0.9255995224886766, 0.9603244268108564, 0.9814262139672062, 0.9728942101752045, 0.9741582107369825, 0.9678382079280924, 0.973807099469822, 0.2991467996207998, 0.9418910852849268, 0.8131736947438644, 0.960780871458165, 0.0017204452090867595, 0.15828095923598187, 0.36269793897686176, 0.0017555563358028158, 0.9747550998911555, 0.9587093149819178, 0.034373793055019135, 0.0017204452090867595, 0.003195112531161125, 0.5359011270671676, 0.7760261226782768, 0.0017555563358028158, 0.0017204452090867595, 0.9593413152628067, 0.8708261648116288, 0.9830764369228608, 0.9774586566482918, 0.24342544152241846, 0.9484919771075454, 0.006846669709630982, 0.9845511042449352, 0.7218145430286858, 0.9489484217548542]}, {\"categories\": [\"0\", \"1\", \"2\", \"3\", \"4\", \"5\", \"6\", \"7\", \"8\", \"9\", \"10\", \"11\", \"12\", \"13\", \"14\", \"15\", \"16\", \"17\", \"18\", \"19\", \"20\", \"21\", \"22\", \"24\", \"25\", \"26\", \"27\", \"29\", \"30\", \"31\", \"32\", \"33\", \"34\", \"35\", \"36\", \"38\", \"39\"], \"mode\": \"lines\", \"name\": \"recall_score_micro_max\", \"stepped\": true, \"type\": \"scatter\", \"data\": [0.9994382219725431, 0.9994382219725431, 0.9994382219725431, 0.9994382219725431, 0.9994382219725431, 0.9994382219725431, 0.9994382219725431, 0.9994382219725431, 0.9994382219725431, 0.9994382219725431, 0.9994382219725431, 0.9994382219725431, 0.9994382219725431, 0.9994382219725431, 0.9994382219725431, 0.9994382219725431, 0.9994382219725431, 0.9994382219725431, 0.9994382219725431, 0.9994382219725431, 0.9994382219725431, 0.9994382219725431, 0.9994382219725431, 0.9994382219725431, 0.9994382219725431, 0.9994382219725431, 0.9994382219725431, 0.9994382219725431, 0.9994382219725431, 0.9994382219725431, 0.9994382219725431, 0.9994382219725431, 0.9994382219725431, 0.9994382219725431, 0.9994382219725431, 0.9994382219725431, 0.9994382219725431]}], \"f1_score_weighted\": [{\"categories\": [\"0\", \"1\", \"2\", \"3\", \"4\", \"5\", \"6\", \"7\", \"8\", \"9\", \"10\", \"11\", \"12\", \"13\", \"14\", \"15\", \"16\", \"17\", \"18\", \"19\", \"20\", \"21\", \"22\", \"24\", \"25\", \"26\", \"27\", \"29\", \"30\", \"31\", \"32\", \"33\", \"34\", \"35\", \"36\", \"38\", \"39\"], \"mode\": \"markers\", \"name\": \"f1_score_weighted\", \"stepped\": false, \"type\": \"scatter\", \"data\": [0.9994382219725431, 0.973224707335274, 0.9939945460641223, 0.9597151572279089, 0.978167491854597, 0.9891524987238195, 0.9847186245477804, 0.9853752986348863, 0.9820839829817206, 0.9851961148752165, 0.4583140232830342, 0.9684472013130525, 0.8952608333808842, 0.9784063045190762, 5.909696126551085e-06, 0.2707226261583227, 0.530258845243042, 7.61296869608578e-05, 0.9856853440191489, 0.9773182259248341, 0.06324430690331384, 5.909696126551085e-06, 0.002950902696326604, 0.6959676242303147, 0.8721864984363303, 7.61296869608578e-05, 5.909696126551085e-06, 0.9776546623612836, 0.9292780973921008, 0.9900077408474406, 0.9870896064567969, 0.389188696100245, 0.9719456705281075, 0.010206011127709759, 0.9907778156756717, 0.8366964711685194, 0.9721868601835726]}, {\"categories\": [\"0\", \"1\", \"2\", \"3\", \"4\", \"5\", \"6\", \"7\", \"8\", \"9\", \"10\", \"11\", \"12\", \"13\", \"14\", \"15\", \"16\", \"17\", \"18\", \"19\", \"20\", \"21\", \"22\", \"24\", \"25\", \"26\", \"27\", \"29\", \"30\", \"31\", \"32\", \"33\", \"34\", \"35\", \"36\", \"38\", \"39\"], \"mode\": \"lines\", \"name\": \"f1_score_weighted_max\", \"stepped\": true, \"type\": \"scatter\", \"data\": [0.9994382219725431, 0.9994382219725431, 0.9994382219725431, 0.9994382219725431, 0.9994382219725431, 0.9994382219725431, 0.9994382219725431, 0.9994382219725431, 0.9994382219725431, 0.9994382219725431, 0.9994382219725431, 0.9994382219725431, 0.9994382219725431, 0.9994382219725431, 0.9994382219725431, 0.9994382219725431, 0.9994382219725431, 0.9994382219725431, 0.9994382219725431, 0.9994382219725431, 0.9994382219725431, 0.9994382219725431, 0.9994382219725431, 0.9994382219725431, 0.9994382219725431, 0.9994382219725431, 0.9994382219725431, 0.9994382219725431, 0.9994382219725431, 0.9994382219725431, 0.9994382219725431, 0.9994382219725431, 0.9994382219725431, 0.9994382219725431, 0.9994382219725431, 0.9994382219725431, 0.9994382219725431]}], \"matthews_correlation\": [{\"categories\": [\"0\", \"1\", \"2\", \"3\", \"4\", \"5\", \"6\", \"7\", \"8\", \"9\", \"10\", \"11\", \"12\", \"13\", \"14\", \"15\", \"16\", \"17\", \"18\", \"19\", \"20\", \"21\", \"22\", \"24\", \"25\", \"26\", \"27\", \"29\", \"30\", \"31\", \"32\", \"33\", \"34\", \"35\", \"36\", \"38\", \"39\"], \"mode\": \"markers\", \"name\": \"matthews_correlation\", \"stepped\": false, \"type\": \"scatter\", \"data\": [0.8364533207768194, 0.1607413942295222, 0.33653669729846025, 0.1321160221795348, 0.17930935136386372, 0.26072015432928375, 0.21701821472074298, 0.2221796703973867, 0.19034995525004642, 0.22558894982662864, 0.027010842548565648, 0.15065807031365455, 0.08182881074514592, 0.18036788580900842, 0.0, 0.015559514244663949, 0.02944237868279914, 0.0002459939025048241, 0.22474237789672324, 0.167606843236632, 0.007627234968229232, 0.0, 0.0015953714628720317, 0.044455927567132625, 0.06884522268091683, 0.0002459939025048241, 0.0, 0.18115043243157067, 0.09456362343694327, 0.2667109900684467, 0.23751396496981367, 0.023437865163937154, 0.15676717000854878, 0.0029799512144475216, 0.27847366011958685, 0.06471034554026656, 0.15749529482839136]}, {\"categories\": [\"0\", \"1\", \"2\", \"3\", \"4\", \"5\", \"6\", \"7\", \"8\", \"9\", \"10\", \"11\", \"12\", \"13\", \"14\", \"15\", \"16\", \"17\", \"18\", \"19\", \"20\", \"21\", \"22\", \"24\", \"25\", \"26\", \"27\", \"29\", \"30\", \"31\", \"32\", \"33\", \"34\", \"35\", \"36\", \"38\", \"39\"], \"mode\": \"lines\", \"name\": \"matthews_correlation_max\", \"stepped\": true, \"type\": \"scatter\", \"data\": [0.8364533207768194, 0.8364533207768194, 0.8364533207768194, 0.8364533207768194, 0.8364533207768194, 0.8364533207768194, 0.8364533207768194, 0.8364533207768194, 0.8364533207768194, 0.8364533207768194, 0.8364533207768194, 0.8364533207768194, 0.8364533207768194, 0.8364533207768194, 0.8364533207768194, 0.8364533207768194, 0.8364533207768194, 0.8364533207768194, 0.8364533207768194, 0.8364533207768194, 0.8364533207768194, 0.8364533207768194, 0.8364533207768194, 0.8364533207768194, 0.8364533207768194, 0.8364533207768194, 0.8364533207768194, 0.8364533207768194, 0.8364533207768194, 0.8364533207768194, 0.8364533207768194, 0.8364533207768194, 0.8364533207768194, 0.8364533207768194, 0.8364533207768194, 0.8364533207768194, 0.8364533207768194]}], \"log_loss\": [{\"categories\": [\"0\", \"1\", \"2\", \"3\", \"4\", \"5\", \"6\", \"7\", \"8\", \"9\", \"10\", \"11\", \"12\", \"13\", \"14\", \"15\", \"16\", \"17\", \"18\", \"19\", \"20\", \"21\", \"22\", \"24\", \"25\", \"26\", \"27\", \"29\", \"30\", \"31\", \"32\", \"33\", \"34\", \"35\", \"36\", \"38\", \"39\"], \"mode\": \"markers\", \"name\": \"log_loss\", \"stepped\": false, \"type\": \"scatter\", \"data\": [0.0039053037916055794, 0.1769974532039908, 0.5628502363890991, 0.28471991378652756, 0.19551845185542555, 0.11273060621116159, 0.28704656942736245, 0.44825347920739006, 0.5509570893016654, 0.3103791655443454, 1.1729163162334302, 0.9533666882820688, 0.5136665921783071, 0.2391890869393539, 5.670976375820351, 1.422488760561572, 1.3669033107574, 1.8520843453866813, 0.13310972970361756, 0.332015575280154, 2.4967330012331197, 4.365787101556258, 2.295064085687487, 12.996131668847886, 0.42043994873191287, 34.47814162718736, 34.47935432253433, 0.21716433398801932, 0.5078928328639285, 0.3976618756908441, 0.33602670718403366, 1.5959200491023735, 0.22116046937508932, 2.495823002704883, 0.3628901451360612, 0.5739336235261393, 0.4321114479744968]}, {\"categories\": [\"0\", \"1\", \"2\", \"3\", \"4\", \"5\", \"6\", \"7\", \"8\", \"9\", \"10\", \"11\", \"12\", \"13\", \"14\", \"15\", \"16\", \"17\", \"18\", \"19\", \"20\", \"21\", \"22\", \"24\", \"25\", \"26\", \"27\", \"29\", \"30\", \"31\", \"32\", \"33\", \"34\", \"35\", \"36\", \"38\", \"39\"], \"mode\": \"lines\", \"name\": \"log_loss_min\", \"stepped\": true, \"type\": \"scatter\", \"data\": [0.0039053037916055794, 0.0039053037916055794, 0.0039053037916055794, 0.0039053037916055794, 0.0039053037916055794, 0.0039053037916055794, 0.0039053037916055794, 0.0039053037916055794, 0.0039053037916055794, 0.0039053037916055794, 0.0039053037916055794, 0.0039053037916055794, 0.0039053037916055794, 0.0039053037916055794, 0.0039053037916055794, 0.0039053037916055794, 0.0039053037916055794, 0.0039053037916055794, 0.0039053037916055794, 0.0039053037916055794, 0.0039053037916055794, 0.0039053037916055794, 0.0039053037916055794, 0.0039053037916055794, 0.0039053037916055794, 0.0039053037916055794, 0.0039053037916055794, 0.0039053037916055794, 0.0039053037916055794, 0.0039053037916055794, 0.0039053037916055794, 0.0039053037916055794, 0.0039053037916055794, 0.0039053037916055794, 0.0039053037916055794, 0.0039053037916055794, 0.0039053037916055794]}], \"balanced_accuracy\": [{\"categories\": [\"0\", \"1\", \"2\", \"3\", \"4\", \"5\", \"6\", \"7\", \"8\", \"9\", \"10\", \"11\", \"12\", \"13\", \"14\", \"15\", \"16\", \"17\", \"18\", \"19\", \"20\", \"21\", \"22\", \"24\", \"25\", \"26\", \"27\", \"29\", \"30\", \"31\", \"32\", \"33\", \"34\", \"35\", \"36\", \"38\", \"39\"], \"mode\": \"markers\", \"name\": \"balanced_accuracy\", \"stepped\": false, \"type\": \"scatter\", \"data\": [0.9182266603884097, 0.9244825462542924, 0.9138302056894789, 0.9219896667164333, 0.9291955456915462, 0.9397646227877758, 0.9354912688204151, 0.9361243582970611, 0.9125859192861162, 0.9461349959229612, 0.6489694710185706, 0.930149486637649, 0.8860528665602425, 0.9294241613358906, 0.5, 0.5682286701962721, 0.6706133072249721, 0.5000175858187957, 0.9364233172165883, 0.9080136063992282, 0.5163548114800225, 0.5, 0.5007386043894204, 0.7675506471581317, 0.8470740786466529, 0.5000175858187957, 0.5, 0.9388896385791232, 0.8843692935812479, 0.9304046604573174, 0.9377774252638591, 0.621060776589758, 0.9232691247573874, 0.5025675295441756, 0.9311432648467377, 0.8504810618676283, 0.9234977404017319]}, {\"categories\": [\"0\", \"1\", \"2\", \"3\", \"4\", \"5\", \"6\", \"7\", \"8\", \"9\", \"10\", \"11\", \"12\", \"13\", \"14\", \"15\", \"16\", \"17\", \"18\", \"19\", \"20\", \"21\", \"22\", \"24\", \"25\", \"26\", \"27\", \"29\", \"30\", \"31\", \"32\", \"33\", \"34\", \"35\", \"36\", \"38\", \"39\"], \"mode\": \"lines\", \"name\": \"balanced_accuracy_max\", \"stepped\": true, \"type\": \"scatter\", \"data\": [0.9182266603884097, 0.9244825462542924, 0.9244825462542924, 0.9244825462542924, 0.9291955456915462, 0.9397646227877758, 0.9397646227877758, 0.9397646227877758, 0.9397646227877758, 0.9461349959229612, 0.9461349959229612, 0.9461349959229612, 0.9461349959229612, 0.9461349959229612, 0.9461349959229612, 0.9461349959229612, 0.9461349959229612, 0.9461349959229612, 0.9461349959229612, 0.9461349959229612, 0.9461349959229612, 0.9461349959229612, 0.9461349959229612, 0.9461349959229612, 0.9461349959229612, 0.9461349959229612, 0.9461349959229612, 0.9461349959229612, 0.9461349959229612, 0.9461349959229612, 0.9461349959229612, 0.9461349959229612, 0.9461349959229612, 0.9461349959229612, 0.9461349959229612, 0.9461349959229612, 0.9461349959229612]}], \"average_precision_score_micro\": [{\"categories\": [\"0\", \"1\", \"2\", \"3\", \"4\", \"5\", \"6\", \"7\", \"8\", \"9\", \"10\", \"11\", \"12\", \"13\", \"14\", \"15\", \"16\", \"17\", \"18\", \"19\", \"20\", \"21\", \"22\", \"24\", \"25\", \"26\", \"27\", \"29\", \"30\", \"31\", \"32\", \"33\", \"34\", \"35\", \"36\", \"38\", \"39\"], \"mode\": \"markers\", \"name\": \"average_precision_score_micro\", \"stepped\": false, \"type\": \"scatter\", \"data\": [0.9993073134574981, 0.9909536832715953, 0.9977778928440908, 0.97344283331395, 0.992859569771649, 0.9970380360688303, 0.9959487375349553, 0.9951686643173455, 0.9942116643130638, 0.9961511062748645, 0.3486896176656105, 0.9708177393414448, 0.866966270714563, 0.9944474729223851, 0.30773258997028297, 0.31281177756800016, 0.3581630668632245, 0.30828061641287, 0.9962596856434225, 0.9935367392085052, 0.3084409721384406, 0.30833893009353924, 0.3082706748505538, 0.5282446508415455, 0.9341939255337987, 0.4991252435073072, 0.49914273732717407, 0.9932257066107644, 0.9363519608049654, 0.9977086959761656, 0.997273174706549, 0.4269872140440313, 0.9876144170529999, 0.30763796752210404, 0.9980309549277375, 0.8078982571593727, 0.9907712368176502]}, {\"categories\": [\"0\", \"1\", \"2\", \"3\", \"4\", \"5\", \"6\", \"7\", \"8\", \"9\", \"10\", \"11\", \"12\", \"13\", \"14\", \"15\", \"16\", \"17\", \"18\", \"19\", \"20\", \"21\", \"22\", \"24\", \"25\", \"26\", \"27\", \"29\", \"30\", \"31\", \"32\", \"33\", \"34\", \"35\", \"36\", \"38\", \"39\"], \"mode\": \"lines\", \"name\": \"average_precision_score_micro_max\", \"stepped\": true, \"type\": \"scatter\", \"data\": [0.9993073134574981, 0.9993073134574981, 0.9993073134574981, 0.9993073134574981, 0.9993073134574981, 0.9993073134574981, 0.9993073134574981, 0.9993073134574981, 0.9993073134574981, 0.9993073134574981, 0.9993073134574981, 0.9993073134574981, 0.9993073134574981, 0.9993073134574981, 0.9993073134574981, 0.9993073134574981, 0.9993073134574981, 0.9993073134574981, 0.9993073134574981, 0.9993073134574981, 0.9993073134574981, 0.9993073134574981, 0.9993073134574981, 0.9993073134574981, 0.9993073134574981, 0.9993073134574981, 0.9993073134574981, 0.9993073134574981, 0.9993073134574981, 0.9993073134574981, 0.9993073134574981, 0.9993073134574981, 0.9993073134574981, 0.9993073134574981, 0.9993073134574981, 0.9993073134574981, 0.9993073134574981]}], \"precision_score_micro\": [{\"categories\": [\"0\", \"1\", \"2\", \"3\", \"4\", \"5\", \"6\", \"7\", \"8\", \"9\", \"10\", \"11\", \"12\", \"13\", \"14\", \"15\", \"16\", \"17\", \"18\", \"19\", \"20\", \"21\", \"22\", \"24\", \"25\", \"26\", \"27\", \"29\", \"30\", \"31\", \"32\", \"33\", \"34\", \"35\", \"36\", \"38\", \"39\"], \"mode\": \"markers\", \"name\": \"precision_score_micro\", \"stepped\": false, \"type\": \"scatter\", \"data\": [0.9994382219725431, 0.9509146448509532, 0.9906604402935291, 0.9255995224886766, 0.9603244268108564, 0.9814262139672062, 0.9728942101752045, 0.9741582107369825, 0.9678382079280924, 0.973807099469822, 0.2991467996207998, 0.9418910852849268, 0.8131736947438644, 0.960780871458165, 0.0017204452090867595, 0.15828095923598187, 0.36269793897686176, 0.0017555563358028158, 0.9747550998911555, 0.9587093149819178, 0.034373793055019135, 0.0017204452090867595, 0.003195112531161125, 0.5359011270671676, 0.7760261226782768, 0.0017555563358028158, 0.0017204452090867595, 0.9593413152628067, 0.8708261648116288, 0.9830764369228608, 0.9774586566482918, 0.24342544152241846, 0.9484919771075454, 0.006846669709630982, 0.9845511042449352, 0.7218145430286858, 0.9489484217548542]}, {\"categories\": [\"0\", \"1\", \"2\", \"3\", \"4\", \"5\", \"6\", \"7\", \"8\", \"9\", \"10\", \"11\", \"12\", \"13\", \"14\", \"15\", \"16\", \"17\", \"18\", \"19\", \"20\", \"21\", \"22\", \"24\", \"25\", \"26\", \"27\", \"29\", \"30\", \"31\", \"32\", \"33\", \"34\", \"35\", \"36\", \"38\", \"39\"], \"mode\": \"lines\", \"name\": \"precision_score_micro_max\", \"stepped\": true, \"type\": \"scatter\", \"data\": [0.9994382219725431, 0.9994382219725431, 0.9994382219725431, 0.9994382219725431, 0.9994382219725431, 0.9994382219725431, 0.9994382219725431, 0.9994382219725431, 0.9994382219725431, 0.9994382219725431, 0.9994382219725431, 0.9994382219725431, 0.9994382219725431, 0.9994382219725431, 0.9994382219725431, 0.9994382219725431, 0.9994382219725431, 0.9994382219725431, 0.9994382219725431, 0.9994382219725431, 0.9994382219725431, 0.9994382219725431, 0.9994382219725431, 0.9994382219725431, 0.9994382219725431, 0.9994382219725431, 0.9994382219725431, 0.9994382219725431, 0.9994382219725431, 0.9994382219725431, 0.9994382219725431, 0.9994382219725431, 0.9994382219725431, 0.9994382219725431, 0.9994382219725431, 0.9994382219725431, 0.9994382219725431]}], \"weighted_accuracy\": [{\"categories\": [\"0\", \"1\", \"2\", \"3\", \"4\", \"5\", \"6\", \"7\", \"8\", \"9\", \"10\", \"11\", \"12\", \"13\", \"14\", \"15\", \"16\", \"17\", \"18\", \"19\", \"20\", \"21\", \"22\", \"24\", \"25\", \"26\", \"27\", \"29\", \"30\", \"31\", \"32\", \"33\", \"34\", \"35\", \"36\", \"38\", \"39\"], \"mode\": \"markers\", \"name\": \"weighted_accuracy\", \"stepped\": false, \"type\": \"scatter\", \"data\": [0.999718142815141, 0.9510057512792313, 0.9909252595333987, 0.9256119649765406, 0.9604317221572587, 0.9815698135665666, 0.9730231310167133, 0.9742893062092841, 0.9680286520827228, 0.9739024799598678, 0.2979410272525879, 0.9419315563474538, 0.8129224940676953, 0.9608889520879094, 2.9701340404421287e-06, 0.15686794726533812, 0.3616366131305469, 3.8141667167410306e-05, 0.9748872222724425, 0.9588840534697112, 0.032712495942120855, 2.9701340404421287e-06, 0.0014801745253731056, 0.5351026751277344, 0.7757812338556561, 3.8141667167410306e-05, 2.9701340404421287e-06, 0.9594118083115571, 0.8707794842166168, 0.9832579865416806, 0.9775954303232192, 0.2421238041800894, 0.9485789154934703, 0.005138013970577797, 0.9847351909330132, 0.7213710539531775, 0.9490361454241211]}, {\"categories\": [\"0\", \"1\", \"2\", \"3\", \"4\", \"5\", \"6\", \"7\", \"8\", \"9\", \"10\", \"11\", \"12\", \"13\", \"14\", \"15\", \"16\", \"17\", \"18\", \"19\", \"20\", \"21\", \"22\", \"24\", \"25\", \"26\", \"27\", \"29\", \"30\", \"31\", \"32\", \"33\", \"34\", \"35\", \"36\", \"38\", \"39\"], \"mode\": \"lines\", \"name\": \"weighted_accuracy_max\", \"stepped\": true, \"type\": \"scatter\", \"data\": [0.999718142815141, 0.999718142815141, 0.999718142815141, 0.999718142815141, 0.999718142815141, 0.999718142815141, 0.999718142815141, 0.999718142815141, 0.999718142815141, 0.999718142815141, 0.999718142815141, 0.999718142815141, 0.999718142815141, 0.999718142815141, 0.999718142815141, 0.999718142815141, 0.999718142815141, 0.999718142815141, 0.999718142815141, 0.999718142815141, 0.999718142815141, 0.999718142815141, 0.999718142815141, 0.999718142815141, 0.999718142815141, 0.999718142815141, 0.999718142815141, 0.999718142815141, 0.999718142815141, 0.999718142815141, 0.999718142815141, 0.999718142815141, 0.999718142815141, 0.999718142815141, 0.999718142815141, 0.999718142815141, 0.999718142815141]}], \"recall_score_macro\": [{\"categories\": [\"0\", \"1\", \"2\", \"3\", \"4\", \"5\", \"6\", \"7\", \"8\", \"9\", \"10\", \"11\", \"12\", \"13\", \"14\", \"15\", \"16\", \"17\", \"18\", \"19\", \"20\", \"21\", \"22\", \"24\", \"25\", \"26\", \"27\", \"29\", \"30\", \"31\", \"32\", \"33\", \"34\", \"35\", \"36\", \"38\", \"39\"], \"mode\": \"markers\", \"name\": \"recall_score_macro\", \"stepped\": false, \"type\": \"scatter\", \"data\": [0.9182266603884097, 0.9244825462542924, 0.9138302056894789, 0.9219896667164333, 0.9291955456915462, 0.9397646227877758, 0.9354912688204151, 0.9361243582970611, 0.9125859192861162, 0.9461349959229612, 0.6489694710185706, 0.930149486637649, 0.8860528665602425, 0.9294241613358906, 0.5, 0.5682286701962721, 0.6706133072249721, 0.5000175858187957, 0.9364233172165883, 0.9080136063992282, 0.5163548114800225, 0.5, 0.5007386043894204, 0.7675506471581317, 0.8470740786466529, 0.5000175858187957, 0.5, 0.9388896385791232, 0.8843692935812479, 0.9304046604573174, 0.9377774252638591, 0.621060776589758, 0.9232691247573874, 0.5025675295441756, 0.9311432648467377, 0.8504810618676283, 0.9234977404017319]}, {\"categories\": [\"0\", \"1\", \"2\", \"3\", \"4\", \"5\", \"6\", \"7\", \"8\", \"9\", \"10\", \"11\", \"12\", \"13\", \"14\", \"15\", \"16\", \"17\", \"18\", \"19\", \"20\", \"21\", \"22\", \"24\", \"25\", \"26\", \"27\", \"29\", \"30\", \"31\", \"32\", \"33\", \"34\", \"35\", \"36\", \"38\", \"39\"], \"mode\": \"lines\", \"name\": \"recall_score_macro_max\", \"stepped\": true, \"type\": \"scatter\", \"data\": [0.9182266603884097, 0.9244825462542924, 0.9244825462542924, 0.9244825462542924, 0.9291955456915462, 0.9397646227877758, 0.9397646227877758, 0.9397646227877758, 0.9397646227877758, 0.9461349959229612, 0.9461349959229612, 0.9461349959229612, 0.9461349959229612, 0.9461349959229612, 0.9461349959229612, 0.9461349959229612, 0.9461349959229612, 0.9461349959229612, 0.9461349959229612, 0.9461349959229612, 0.9461349959229612, 0.9461349959229612, 0.9461349959229612, 0.9461349959229612, 0.9461349959229612, 0.9461349959229612, 0.9461349959229612, 0.9461349959229612, 0.9461349959229612, 0.9461349959229612, 0.9461349959229612, 0.9461349959229612, 0.9461349959229612, 0.9461349959229612, 0.9461349959229612, 0.9461349959229612, 0.9461349959229612]}], \"f1_score_micro\": [{\"categories\": [\"0\", \"1\", \"2\", \"3\", \"4\", \"5\", \"6\", \"7\", \"8\", \"9\", \"10\", \"11\", \"12\", \"13\", \"14\", \"15\", \"16\", \"17\", \"18\", \"19\", \"20\", \"21\", \"22\", \"24\", \"25\", \"26\", \"27\", \"29\", \"30\", \"31\", \"32\", \"33\", \"34\", \"35\", \"36\", \"38\", \"39\"], \"mode\": \"markers\", \"name\": \"f1_score_micro\", \"stepped\": false, \"type\": \"scatter\", \"data\": [0.9994382219725431, 0.9509146448509532, 0.9906604402935291, 0.9255995224886766, 0.9603244268108564, 0.9814262139672062, 0.9728942101752045, 0.9741582107369825, 0.9678382079280924, 0.973807099469822, 0.2991467996207998, 0.9418910852849268, 0.8131736947438644, 0.960780871458165, 0.0017204452090867595, 0.15828095923598187, 0.3626979389768618, 0.0017555563358028158, 0.9747550998911555, 0.9587093149819179, 0.034373793055019135, 0.0017204452090867595, 0.0031951125311611255, 0.5359011270671676, 0.7760261226782766, 0.0017555563358028158, 0.0017204452090867595, 0.9593413152628067, 0.8708261648116288, 0.9830764369228608, 0.9774586566482918, 0.24342544152241846, 0.9484919771075454, 0.006846669709630982, 0.9845511042449352, 0.7218145430286858, 0.9489484217548542]}, {\"categories\": [\"0\", \"1\", \"2\", \"3\", \"4\", \"5\", \"6\", \"7\", \"8\", \"9\", \"10\", \"11\", \"12\", \"13\", \"14\", \"15\", \"16\", \"17\", \"18\", \"19\", \"20\", \"21\", \"22\", \"24\", \"25\", \"26\", \"27\", \"29\", \"30\", \"31\", \"32\", \"33\", \"34\", \"35\", \"36\", \"38\", \"39\"], \"mode\": \"lines\", \"name\": \"f1_score_micro_max\", \"stepped\": true, \"type\": \"scatter\", \"data\": [0.9994382219725431, 0.9994382219725431, 0.9994382219725431, 0.9994382219725431, 0.9994382219725431, 0.9994382219725431, 0.9994382219725431, 0.9994382219725431, 0.9994382219725431, 0.9994382219725431, 0.9994382219725431, 0.9994382219725431, 0.9994382219725431, 0.9994382219725431, 0.9994382219725431, 0.9994382219725431, 0.9994382219725431, 0.9994382219725431, 0.9994382219725431, 0.9994382219725431, 0.9994382219725431, 0.9994382219725431, 0.9994382219725431, 0.9994382219725431, 0.9994382219725431, 0.9994382219725431, 0.9994382219725431, 0.9994382219725431, 0.9994382219725431, 0.9994382219725431, 0.9994382219725431, 0.9994382219725431, 0.9994382219725431, 0.9994382219725431, 0.9994382219725431, 0.9994382219725431, 0.9994382219725431]}], \"recall_score_weighted\": [{\"categories\": [\"0\", \"1\", \"2\", \"3\", \"4\", \"5\", \"6\", \"7\", \"8\", \"9\", \"10\", \"11\", \"12\", \"13\", \"14\", \"15\", \"16\", \"17\", \"18\", \"19\", \"20\", \"21\", \"22\", \"24\", \"25\", \"26\", \"27\", \"29\", \"30\", \"31\", \"32\", \"33\", \"34\", \"35\", \"36\", \"38\", \"39\"], \"mode\": \"markers\", \"name\": \"recall_score_weighted\", \"stepped\": false, \"type\": \"scatter\", \"data\": [0.9994382219725431, 0.9509146448509532, 0.9906604402935291, 0.9255995224886766, 0.9603244268108564, 0.9814262139672062, 0.9728942101752045, 0.9741582107369825, 0.9678382079280924, 0.973807099469822, 0.2991467996207998, 0.9418910852849268, 0.8131736947438644, 0.960780871458165, 0.0017204452090867595, 0.15828095923598187, 0.36269793897686176, 0.0017555563358028158, 0.9747550998911555, 0.9587093149819178, 0.034373793055019135, 0.0017204452090867595, 0.003195112531161125, 0.5359011270671676, 0.7760261226782768, 0.0017555563358028158, 0.0017204452090867595, 0.9593413152628067, 0.8708261648116288, 0.9830764369228608, 0.9774586566482918, 0.24342544152241846, 0.9484919771075454, 0.006846669709630982, 0.9845511042449352, 0.7218145430286858, 0.9489484217548542]}, {\"categories\": [\"0\", \"1\", \"2\", \"3\", \"4\", \"5\", \"6\", \"7\", \"8\", \"9\", \"10\", \"11\", \"12\", \"13\", \"14\", \"15\", \"16\", \"17\", \"18\", \"19\", \"20\", \"21\", \"22\", \"24\", \"25\", \"26\", \"27\", \"29\", \"30\", \"31\", \"32\", \"33\", \"34\", \"35\", \"36\", \"38\", \"39\"], \"mode\": \"lines\", \"name\": \"recall_score_weighted_max\", \"stepped\": true, \"type\": \"scatter\", \"data\": [0.9994382219725431, 0.9994382219725431, 0.9994382219725431, 0.9994382219725431, 0.9994382219725431, 0.9994382219725431, 0.9994382219725431, 0.9994382219725431, 0.9994382219725431, 0.9994382219725431, 0.9994382219725431, 0.9994382219725431, 0.9994382219725431, 0.9994382219725431, 0.9994382219725431, 0.9994382219725431, 0.9994382219725431, 0.9994382219725431, 0.9994382219725431, 0.9994382219725431, 0.9994382219725431, 0.9994382219725431, 0.9994382219725431, 0.9994382219725431, 0.9994382219725431, 0.9994382219725431, 0.9994382219725431, 0.9994382219725431, 0.9994382219725431, 0.9994382219725431, 0.9994382219725431, 0.9994382219725431, 0.9994382219725431, 0.9994382219725431, 0.9994382219725431, 0.9994382219725431, 0.9994382219725431]}], \"precision_score_weighted\": [{\"categories\": [\"0\", \"1\", \"2\", \"3\", \"4\", \"5\", \"6\", \"7\", \"8\", \"9\", \"10\", \"11\", \"12\", \"13\", \"14\", \"15\", \"16\", \"17\", \"18\", \"19\", \"20\", \"21\", \"22\", \"24\", \"25\", \"26\", \"27\", \"29\", \"30\", \"31\", \"32\", \"33\", \"34\", \"35\", \"36\", \"38\", \"39\"], \"mode\": \"markers\", \"name\": \"precision_score_weighted\", \"stepped\": false, \"type\": \"scatter\", \"data\": [0.9994382219725431, 0.998147667887495, 0.9982320879274278, 0.9981636889453815, 0.9981615558898475, 0.9982340088906063, 0.9981925056040452, 0.9981970758376438, 0.9981017059813445, 0.9982337412808991, 0.9982837677751834, 0.9981761230071147, 0.9982082488733327, 0.9981623710595303, 2.959931717469584e-06, 0.9980592134944561, 0.9981870121523009, 0.9982825148265609, 0.9981993769535084, 0.9980829727000807, 0.9982826146368442, 2.959931717469584e-06, 0.9982825190939916, 0.998285909039443, 0.9981106104860472, 0.9982825148265609, 2.959931717469584e-06, 0.9981977607242588, 0.9980983483253659, 0.998207888736187, 0.9982111675639032, 0.9982834581948695, 0.9981447822067633, 0.9982825299740875, 0.9982207608437252, 0.9982412458700957, 0.9981453090140651]}, {\"categories\": [\"0\", \"1\", \"2\", \"3\", \"4\", \"5\", \"6\", \"7\", \"8\", \"9\", \"10\", \"11\", \"12\", \"13\", \"14\", \"15\", \"16\", \"17\", \"18\", \"19\", \"20\", \"21\", \"22\", \"24\", \"25\", \"26\", \"27\", \"29\", \"30\", \"31\", \"32\", \"33\", \"34\", \"35\", \"36\", \"38\", \"39\"], \"mode\": \"lines\", \"name\": \"precision_score_weighted_max\", \"stepped\": true, \"type\": \"scatter\", \"data\": [0.9994382219725431, 0.9994382219725431, 0.9994382219725431, 0.9994382219725431, 0.9994382219725431, 0.9994382219725431, 0.9994382219725431, 0.9994382219725431, 0.9994382219725431, 0.9994382219725431, 0.9994382219725431, 0.9994382219725431, 0.9994382219725431, 0.9994382219725431, 0.9994382219725431, 0.9994382219725431, 0.9994382219725431, 0.9994382219725431, 0.9994382219725431, 0.9994382219725431, 0.9994382219725431, 0.9994382219725431, 0.9994382219725431, 0.9994382219725431, 0.9994382219725431, 0.9994382219725431, 0.9994382219725431, 0.9994382219725431, 0.9994382219725431, 0.9994382219725431, 0.9994382219725431, 0.9994382219725431, 0.9994382219725431, 0.9994382219725431, 0.9994382219725431, 0.9994382219725431, 0.9994382219725431]}], \"average_precision_score_macro\": [{\"categories\": [\"0\", \"1\", \"2\", \"3\", \"4\", \"5\", \"6\", \"7\", \"8\", \"9\", \"10\", \"11\", \"12\", \"13\", \"14\", \"15\", \"16\", \"17\", \"18\", \"19\", \"20\", \"21\", \"22\", \"24\", \"25\", \"26\", \"27\", \"29\", \"30\", \"31\", \"32\", \"33\", \"34\", \"35\", \"36\", \"38\", \"39\"], \"mode\": \"markers\", \"name\": \"average_precision_score_macro\", \"stepped\": false, \"type\": \"scatter\", \"data\": [0.9230587466456577, 0.8627453581590349, 0.8005058198066732, 0.8122516529590491, 0.8423642392503948, 0.8521833733164773, 0.8151183251525344, 0.805094210144695, 0.7973820382783083, 0.8484416474561414, 0.8701707009790229, 0.5556460643265149, 0.8400040778279699, 0.8365177205507854, 0.644815642339591, 0.8306229766471607, 0.7959939192220412, 0.8192761357281213, 0.8249263529054367, 0.810751992116862, 0.8425462804845103, 0.8398240500258213, 0.8136969957324106, 0.5025713612040482, 0.7446378447773652, 0.5000000604598831, 0.5, 0.8038925199080452, 0.529844920067903, 0.8351518511309706, 0.8606464532036322, 0.577603677457182, 0.8253572189294753, 0.5430527182150113, 0.8119954049906, 0.9209650844880186, 0.93352739658949]}, {\"categories\": [\"0\", \"1\", \"2\", \"3\", \"4\", \"5\", \"6\", \"7\", \"8\", \"9\", \"10\", \"11\", \"12\", \"13\", \"14\", \"15\", \"16\", \"17\", \"18\", \"19\", \"20\", \"21\", \"22\", \"24\", \"25\", \"26\", \"27\", \"29\", \"30\", \"31\", \"32\", \"33\", \"34\", \"35\", \"36\", \"38\", \"39\"], \"mode\": \"lines\", \"name\": \"average_precision_score_macro_max\", \"stepped\": true, \"type\": \"scatter\", \"data\": [0.9230587466456577, 0.9230587466456577, 0.9230587466456577, 0.9230587466456577, 0.9230587466456577, 0.9230587466456577, 0.9230587466456577, 0.9230587466456577, 0.9230587466456577, 0.9230587466456577, 0.9230587466456577, 0.9230587466456577, 0.9230587466456577, 0.9230587466456577, 0.9230587466456577, 0.9230587466456577, 0.9230587466456577, 0.9230587466456577, 0.9230587466456577, 0.9230587466456577, 0.9230587466456577, 0.9230587466456577, 0.9230587466456577, 0.9230587466456577, 0.9230587466456577, 0.9230587466456577, 0.9230587466456577, 0.9230587466456577, 0.9230587466456577, 0.9230587466456577, 0.9230587466456577, 0.9230587466456577, 0.9230587466456577, 0.9230587466456577, 0.9230587466456577, 0.9230587466456577, 0.93352739658949]}], \"AUC_weighted\": [{\"categories\": [\"0\", \"1\", \"2\", \"3\", \"4\", \"5\", \"6\", \"7\", \"8\", \"9\", \"10\", \"11\", \"12\", \"13\", \"14\", \"15\", \"16\", \"17\", \"18\", \"19\", \"20\", \"21\", \"22\", \"24\", \"25\", \"26\", \"27\", \"29\", \"30\", \"31\", \"32\", \"33\", \"34\", \"35\", \"36\", \"38\", \"39\"], \"mode\": \"markers\", \"name\": \"AUC_weighted\", \"stepped\": false, \"type\": \"scatter\", \"data\": [0.9251518840513135, 0.9556406693234413, 0.9495635127996049, 0.9749369781677444, 0.9635668490806565, 0.9628106588724404, 0.9589701313840111, 0.9482923093266568, 0.9636131464403431, 0.9659789774097597, 0.9829632894238169, 0.957083580911106, 0.9818844532748384, 0.9525627921399287, 0.9494981940440778, 0.9575259408771949, 0.9640323349373515, 0.9726536928783893, 0.9567998977869144, 0.9449362890907629, 0.9483874163058584, 0.9358821046707937, 0.9729487039610442, 0.8457271484846048, 0.9573719752391673, 0.5000175858187957, 0.5, 0.9611557974343365, 0.9179973269555431, 0.9587321844888771, 0.9697186556108094, 0.972105661341633, 0.9724301017537011, 0.9568853146210651, 0.9624424333605136, 0.9870331503451127, 0.9855049785811905]}, {\"categories\": [\"0\", \"1\", \"2\", \"3\", \"4\", \"5\", \"6\", \"7\", \"8\", \"9\", \"10\", \"11\", \"12\", \"13\", \"14\", \"15\", \"16\", \"17\", \"18\", \"19\", \"20\", \"21\", \"22\", \"24\", \"25\", \"26\", \"27\", \"29\", \"30\", \"31\", \"32\", \"33\", \"34\", \"35\", \"36\", \"38\", \"39\"], \"mode\": \"lines\", \"name\": \"AUC_weighted_max\", \"stepped\": true, \"type\": \"scatter\", \"data\": [0.9251518840513135, 0.9556406693234413, 0.9556406693234413, 0.9749369781677444, 0.9749369781677444, 0.9749369781677444, 0.9749369781677444, 0.9749369781677444, 0.9749369781677444, 0.9749369781677444, 0.9829632894238169, 0.9829632894238169, 0.9829632894238169, 0.9829632894238169, 0.9829632894238169, 0.9829632894238169, 0.9829632894238169, 0.9829632894238169, 0.9829632894238169, 0.9829632894238169, 0.9829632894238169, 0.9829632894238169, 0.9829632894238169, 0.9829632894238169, 0.9829632894238169, 0.9829632894238169, 0.9829632894238169, 0.9829632894238169, 0.9829632894238169, 0.9829632894238169, 0.9829632894238169, 0.9829632894238169, 0.9829632894238169, 0.9829632894238169, 0.9829632894238169, 0.9870331503451127, 0.9870331503451127]}], \"norm_macro_recall\": [{\"categories\": [\"0\", \"1\", \"2\", \"3\", \"4\", \"5\", \"6\", \"7\", \"8\", \"9\", \"10\", \"11\", \"12\", \"13\", \"14\", \"15\", \"16\", \"17\", \"18\", \"19\", \"20\", \"21\", \"22\", \"24\", \"25\", \"26\", \"27\", \"29\", \"30\", \"31\", \"32\", \"33\", \"34\", \"35\", \"36\", \"38\", \"39\"], \"mode\": \"markers\", \"name\": \"norm_macro_recall\", \"stepped\": false, \"type\": \"scatter\", \"data\": [0.8364533207768194, 0.8489650925085848, 0.8276604113789578, 0.8439793334328667, 0.8583910913830923, 0.8795292455755517, 0.8709825376408302, 0.8722487165941222, 0.8251718385722324, 0.8922699918459225, 0.2979389420371412, 0.8602989732752979, 0.772105733120485, 0.8588483226717811, 0.0, 0.1364573403925442, 0.3412266144499443, 3.517163759148012e-05, 0.8728466344331767, 0.8160272127984565, 0.03270962296004498, 0.0, 0.0014772087788408328, 0.5351012943162634, 0.6941481572933057, 3.517163759148012e-05, 0.0, 0.8777792771582464, 0.7687385871624959, 0.8608093209146348, 0.8755548505277182, 0.242121553179516, 0.8465382495147749, 0.005135059088351213, 0.8622865296934754, 0.7009621237352566, 0.8469954808034639]}, {\"categories\": [\"0\", \"1\", \"2\", \"3\", \"4\", \"5\", \"6\", \"7\", \"8\", \"9\", \"10\", \"11\", \"12\", \"13\", \"14\", \"15\", \"16\", \"17\", \"18\", \"19\", \"20\", \"21\", \"22\", \"24\", \"25\", \"26\", \"27\", \"29\", \"30\", \"31\", \"32\", \"33\", \"34\", \"35\", \"36\", \"38\", \"39\"], \"mode\": \"lines\", \"name\": \"norm_macro_recall_max\", \"stepped\": true, \"type\": \"scatter\", \"data\": [0.8364533207768194, 0.8489650925085848, 0.8489650925085848, 0.8489650925085848, 0.8583910913830923, 0.8795292455755517, 0.8795292455755517, 0.8795292455755517, 0.8795292455755517, 0.8922699918459225, 0.8922699918459225, 0.8922699918459225, 0.8922699918459225, 0.8922699918459225, 0.8922699918459225, 0.8922699918459225, 0.8922699918459225, 0.8922699918459225, 0.8922699918459225, 0.8922699918459225, 0.8922699918459225, 0.8922699918459225, 0.8922699918459225, 0.8922699918459225, 0.8922699918459225, 0.8922699918459225, 0.8922699918459225, 0.8922699918459225, 0.8922699918459225, 0.8922699918459225, 0.8922699918459225, 0.8922699918459225, 0.8922699918459225, 0.8922699918459225, 0.8922699918459225, 0.8922699918459225, 0.8922699918459225]}], \"precision_score_macro\": [{\"categories\": [\"0\", \"1\", \"2\", \"3\", \"4\", \"5\", \"6\", \"7\", \"8\", \"9\", \"10\", \"11\", \"12\", \"13\", \"14\", \"15\", \"16\", \"17\", \"18\", \"19\", \"20\", \"21\", \"22\", \"24\", \"25\", \"26\", \"27\", \"29\", \"30\", \"31\", \"32\", \"33\", \"34\", \"35\", \"36\", \"38\", \"39\"], \"mode\": \"markers\", \"name\": \"precision_score_macro\", \"stepped\": false, \"type\": \"scatter\", \"data\": [0.9182266603884097, 0.515217230983257, 0.5684199383415349, 0.5103406817116878, 0.5187279689929706, 0.538642830363761, 0.5270366531389634, 0.5282968636117017, 0.5219548848918473, 0.5285173628772383, 0.5012243878060969, 0.5131918407761313, 0.5043361640645402, 0.5189396505601864, 0.0008602226045433798, 0.5008870848678182, 0.501270202302213, 0.5008602528089887, 0.5289335688711648, 0.5172126942944776, 0.5008892599179703, 0.0008602226045433798, 0.5008614930201484, 0.501846687269164, 0.5034140151754248, 0.5008602528089887, 0.0008602226045433798, 0.5186923296232187, 0.5058162026902611, 0.5413185304195524, 0.5322155051289365, 0.5011344168171505, 0.5145155553258083, 0.5008646550202929, 0.5449662477088478, 0.5029869151828253, 0.514642798252921]}, {\"categories\": [\"0\", \"1\", \"2\", \"3\", \"4\", \"5\", \"6\", \"7\", \"8\", \"9\", \"10\", \"11\", \"12\", \"13\", \"14\", \"15\", \"16\", \"17\", \"18\", \"19\", \"20\", \"21\", \"22\", \"24\", \"25\", \"26\", \"27\", \"29\", \"30\", \"31\", \"32\", \"33\", \"34\", \"35\", \"36\", \"38\", \"39\"], \"mode\": \"lines\", \"name\": \"precision_score_macro_max\", \"stepped\": true, \"type\": \"scatter\", \"data\": [0.9182266603884097, 0.9182266603884097, 0.9182266603884097, 0.9182266603884097, 0.9182266603884097, 0.9182266603884097, 0.9182266603884097, 0.9182266603884097, 0.9182266603884097, 0.9182266603884097, 0.9182266603884097, 0.9182266603884097, 0.9182266603884097, 0.9182266603884097, 0.9182266603884097, 0.9182266603884097, 0.9182266603884097, 0.9182266603884097, 0.9182266603884097, 0.9182266603884097, 0.9182266603884097, 0.9182266603884097, 0.9182266603884097, 0.9182266603884097, 0.9182266603884097, 0.9182266603884097, 0.9182266603884097, 0.9182266603884097, 0.9182266603884097, 0.9182266603884097, 0.9182266603884097, 0.9182266603884097, 0.9182266603884097, 0.9182266603884097, 0.9182266603884097, 0.9182266603884097, 0.9182266603884097]}], \"accuracy\": [{\"categories\": [\"0\", \"1\", \"2\", \"3\", \"4\", \"5\", \"6\", \"7\", \"8\", \"9\", \"10\", \"11\", \"12\", \"13\", \"14\", \"15\", \"16\", \"17\", \"18\", \"19\", \"20\", \"21\", \"22\", \"24\", \"25\", \"26\", \"27\", \"29\", \"30\", \"31\", \"32\", \"33\", \"34\", \"35\", \"36\", \"38\", \"39\"], \"mode\": \"markers\", \"name\": \"accuracy\", \"stepped\": false, \"type\": \"scatter\", \"data\": [0.9994382219725431, 0.9509146448509532, 0.9906604402935291, 0.9255995224886766, 0.9603244268108564, 0.9814262139672062, 0.9728942101752045, 0.9741582107369825, 0.9678382079280924, 0.973807099469822, 0.2991467996207998, 0.9418910852849268, 0.8131736947438644, 0.960780871458165, 0.0017204452090867595, 0.15828095923598187, 0.36269793897686176, 0.0017555563358028158, 0.9747550998911555, 0.9587093149819178, 0.034373793055019135, 0.0017204452090867595, 0.003195112531161125, 0.5359011270671676, 0.7760261226782768, 0.0017555563358028158, 0.0017204452090867595, 0.9593413152628067, 0.8708261648116288, 0.9830764369228608, 0.9774586566482918, 0.24342544152241846, 0.9484919771075454, 0.006846669709630982, 0.9845511042449352, 0.7218145430286858, 0.9489484217548542]}, {\"categories\": [\"0\", \"1\", \"2\", \"3\", \"4\", \"5\", \"6\", \"7\", \"8\", \"9\", \"10\", \"11\", \"12\", \"13\", \"14\", \"15\", \"16\", \"17\", \"18\", \"19\", \"20\", \"21\", \"22\", \"24\", \"25\", \"26\", \"27\", \"29\", \"30\", \"31\", \"32\", \"33\", \"34\", \"35\", \"36\", \"38\", \"39\"], \"mode\": \"lines\", \"name\": \"accuracy_max\", \"stepped\": true, \"type\": \"scatter\", \"data\": [0.9994382219725431, 0.9994382219725431, 0.9994382219725431, 0.9994382219725431, 0.9994382219725431, 0.9994382219725431, 0.9994382219725431, 0.9994382219725431, 0.9994382219725431, 0.9994382219725431, 0.9994382219725431, 0.9994382219725431, 0.9994382219725431, 0.9994382219725431, 0.9994382219725431, 0.9994382219725431, 0.9994382219725431, 0.9994382219725431, 0.9994382219725431, 0.9994382219725431, 0.9994382219725431, 0.9994382219725431, 0.9994382219725431, 0.9994382219725431, 0.9994382219725431, 0.9994382219725431, 0.9994382219725431, 0.9994382219725431, 0.9994382219725431, 0.9994382219725431, 0.9994382219725431, 0.9994382219725431, 0.9994382219725431, 0.9994382219725431, 0.9994382219725431, 0.9994382219725431, 0.9994382219725431]}], \"f1_score_macro\": [{\"categories\": [\"0\", \"1\", \"2\", \"3\", \"4\", \"5\", \"6\", \"7\", \"8\", \"9\", \"10\", \"11\", \"12\", \"13\", \"14\", \"15\", \"16\", \"17\", \"18\", \"19\", \"20\", \"21\", \"22\", \"24\", \"25\", \"26\", \"27\", \"29\", \"30\", \"31\", \"32\", \"33\", \"34\", \"35\", \"36\", \"38\", \"39\"], \"mode\": \"markers\", \"name\": \"f1_score_macro\", \"stepped\": false, \"type\": \"scatter\", \"data\": [0.9182266603884097, 0.5170096471821942, 0.6154668497171205, 0.5010206708216447, 0.5259891747684465, 0.5666185098086818, 0.5442824655755754, 0.5468427837503074, 0.5338158750580752, 0.5471819898734341, 0.23199052700503223, 0.5108016389412898, 0.45706650275561833, 0.5264978433015165, 0.0017174903610234842, 0.13758542569706533, 0.26821238524232616, 0.0017527209631763023, 0.5481210011632478, 0.522777159407801, 0.03344895403602606, 0.0017174903610234842, 0.0031950523173941703, 0.35225697292288527, 0.4437890812112742, 0.0017527209631763023, 0.0017174903610234842, 0.5256653313212257, 0.4771000645680242, 0.5714307210786084, 0.55456547921819, 0.19718951034368054, 0.5150574204554813, 0.006835149660223019, 0.5778508284359658, 0.42504468902069736, 0.5154163630074502]}, {\"categories\": [\"0\", \"1\", \"2\", \"3\", \"4\", \"5\", \"6\", \"7\", \"8\", \"9\", \"10\", \"11\", \"12\", \"13\", \"14\", \"15\", \"16\", \"17\", \"18\", \"19\", \"20\", \"21\", \"22\", \"24\", \"25\", \"26\", \"27\", \"29\", \"30\", \"31\", \"32\", \"33\", \"34\", \"35\", \"36\", \"38\", \"39\"], \"mode\": \"lines\", \"name\": \"f1_score_macro_max\", \"stepped\": true, \"type\": \"scatter\", \"data\": [0.9182266603884097, 0.9182266603884097, 0.9182266603884097, 0.9182266603884097, 0.9182266603884097, 0.9182266603884097, 0.9182266603884097, 0.9182266603884097, 0.9182266603884097, 0.9182266603884097, 0.9182266603884097, 0.9182266603884097, 0.9182266603884097, 0.9182266603884097, 0.9182266603884097, 0.9182266603884097, 0.9182266603884097, 0.9182266603884097, 0.9182266603884097, 0.9182266603884097, 0.9182266603884097, 0.9182266603884097, 0.9182266603884097, 0.9182266603884097, 0.9182266603884097, 0.9182266603884097, 0.9182266603884097, 0.9182266603884097, 0.9182266603884097, 0.9182266603884097, 0.9182266603884097, 0.9182266603884097, 0.9182266603884097, 0.9182266603884097, 0.9182266603884097, 0.9182266603884097, 0.9182266603884097]}], \"average_precision_score_weighted\": [{\"categories\": [\"0\", \"1\", \"2\", \"3\", \"4\", \"5\", \"6\", \"7\", \"8\", \"9\", \"10\", \"11\", \"12\", \"13\", \"14\", \"15\", \"16\", \"17\", \"18\", \"19\", \"20\", \"21\", \"22\", \"24\", \"25\", \"26\", \"27\", \"29\", \"30\", \"31\", \"32\", \"33\", \"34\", \"35\", \"36\", \"38\", \"39\"], \"mode\": \"markers\", \"name\": \"average_precision_score_weighted\", \"stepped\": false, \"type\": \"scatter\", \"data\": [0.9991205202051671, 0.9994132262355483, 0.9991844402587273, 0.999299561527402, 0.9993701289535981, 0.9993722763311952, 0.9992211148164865, 0.9990807215621237, 0.9992221272816759, 0.9993944985731624, 0.9995200331682621, 0.9983322241000899, 0.9994135639898144, 0.9992757291848647, 0.9986564486556555, 0.9992425981663101, 0.9992116818968124, 0.9993210830843666, 0.9992576386898274, 0.9991916730531818, 0.9993389410814483, 0.9992433106243116, 0.9993022311287173, 0.9977826633235306, 0.9990206623626839, 0.9965650899559615, 0.9965650294452614, 0.9992190886196007, 0.9981254899048846, 0.9992951807795719, 0.999440042670717, 0.9984770188137071, 0.9993378052418798, 0.9983139703637164, 0.9992567368396273, 0.999702882836906, 0.9997427440434863]}, {\"categories\": [\"0\", \"1\", \"2\", \"3\", \"4\", \"5\", \"6\", \"7\", \"8\", \"9\", \"10\", \"11\", \"12\", \"13\", \"14\", \"15\", \"16\", \"17\", \"18\", \"19\", \"20\", \"21\", \"22\", \"24\", \"25\", \"26\", \"27\", \"29\", \"30\", \"31\", \"32\", \"33\", \"34\", \"35\", \"36\", \"38\", \"39\"], \"mode\": \"lines\", \"name\": \"average_precision_score_weighted_max\", \"stepped\": true, \"type\": \"scatter\", \"data\": [0.9991205202051671, 0.9994132262355483, 0.9994132262355483, 0.9994132262355483, 0.9994132262355483, 0.9994132262355483, 0.9994132262355483, 0.9994132262355483, 0.9994132262355483, 0.9994132262355483, 0.9995200331682621, 0.9995200331682621, 0.9995200331682621, 0.9995200331682621, 0.9995200331682621, 0.9995200331682621, 0.9995200331682621, 0.9995200331682621, 0.9995200331682621, 0.9995200331682621, 0.9995200331682621, 0.9995200331682621, 0.9995200331682621, 0.9995200331682621, 0.9995200331682621, 0.9995200331682621, 0.9995200331682621, 0.9995200331682621, 0.9995200331682621, 0.9995200331682621, 0.9995200331682621, 0.9995200331682621, 0.9995200331682621, 0.9995200331682621, 0.9995200331682621, 0.999702882836906, 0.9997427440434863]}], \"AUC_micro\": [{\"categories\": [\"0\", \"1\", \"2\", \"3\", \"4\", \"5\", \"6\", \"7\", \"8\", \"9\", \"10\", \"11\", \"12\", \"13\", \"14\", \"15\", \"16\", \"17\", \"18\", \"19\", \"20\", \"21\", \"22\", \"24\", \"25\", \"26\", \"27\", \"29\", \"30\", \"31\", \"32\", \"33\", \"34\", \"35\", \"36\", \"38\", \"39\"], \"mode\": \"markers\", \"name\": \"AUC_micro\", \"stepped\": false, \"type\": \"scatter\", \"data\": [0.9997415009403958, 0.9906701300325125, 0.998949453539465, 0.9751551307794791, 0.9926992143856734, 0.9970568453382335, 0.9960625055277588, 0.9954302882756152, 0.994303666268939, 0.9961859264206759, 0.21715550756732188, 0.9731666101885971, 0.8693735077439834, 0.9944028208994963, 0.0032644582700363336, 0.050592835675004416, 0.23926161644464883, 0.003344005356251014, 0.9962415733835228, 0.9935116644812833, 0.005360638518097379, 0.003217687403968411, 0.003349351971768993, 0.49350668277196624, 0.9295816304423521, 0.0017205068486477247, 0.001720445209086761, 0.9932112591497627, 0.9373832103681007, 0.9979550977027045, 0.997355490243893, 0.29147465414353624, 0.9871674891021656, 0.0034319908983616015, 0.998358826964686, 0.8095245982166681, 0.9904858277452315]}, {\"categories\": [\"0\", \"1\", \"2\", \"3\", \"4\", \"5\", \"6\", \"7\", \"8\", \"9\", \"10\", \"11\", \"12\", \"13\", \"14\", \"15\", \"16\", \"17\", \"18\", \"19\", \"20\", \"21\", \"22\", \"24\", \"25\", \"26\", \"27\", \"29\", \"30\", \"31\", \"32\", \"33\", \"34\", \"35\", \"36\", \"38\", \"39\"], \"mode\": \"lines\", \"name\": \"AUC_micro_max\", \"stepped\": true, \"type\": \"scatter\", \"data\": [0.9997415009403958, 0.9997415009403958, 0.9997415009403958, 0.9997415009403958, 0.9997415009403958, 0.9997415009403958, 0.9997415009403958, 0.9997415009403958, 0.9997415009403958, 0.9997415009403958, 0.9997415009403958, 0.9997415009403958, 0.9997415009403958, 0.9997415009403958, 0.9997415009403958, 0.9997415009403958, 0.9997415009403958, 0.9997415009403958, 0.9997415009403958, 0.9997415009403958, 0.9997415009403958, 0.9997415009403958, 0.9997415009403958, 0.9997415009403958, 0.9997415009403958, 0.9997415009403958, 0.9997415009403958, 0.9997415009403958, 0.9997415009403958, 0.9997415009403958, 0.9997415009403958, 0.9997415009403958, 0.9997415009403958, 0.9997415009403958, 0.9997415009403958, 0.9997415009403958, 0.9997415009403958]}]}, \"metricName\": null, \"primaryMetricName\": \"AUC_weighted\", \"showLegend\": false}, \"run_metrics\": [{\"name\": \"experiment_status\", \"run_id\": \"AutoML_49013142-f08d-4273-bdfc-1663ea9056f8\", \"categories\": [0, 1, 2, 3, 4, 5, 6, 7, 8, 9, 10, 11, 12, 13], \"series\": [{\"data\": [\"DatasetEvaluation\", \"FeaturesGeneration\", \"DatasetFeaturization\", \"DatasetFeaturizationCompleted\", \"DatasetBalancing\", \"ModelSelection\", \"BestRunExplainModel\", \"ModelExplanationDataSetSetup\", \"PickSurrogateModel\", \"EngineeredFeatureExplanations\", \"EngineeredFeatureExplanations\", \"RawFeaturesExplanations\", \"RawFeaturesExplanations\", \"BestRunExplainModel\"]}]}, {\"name\": \"experiment_status_description\", \"run_id\": \"AutoML_49013142-f08d-4273-bdfc-1663ea9056f8\", \"categories\": [0, 1, 2, 3, 4, 5, 6, 7, 8, 9, 10, 11, 12, 13], \"series\": [{\"data\": [\"Gathering dataset statistics.\", \"Generating features for the dataset.\", \"Beginning to fit featurizers and featurize the dataset.\", \"Completed fit featurizers and featurizing the dataset.\", \"Performing class balancing sweeping\", \"Beginning model selection.\", \"Best run model explanations started\", \"Model explanations data setup completed\", \"Choosing LightGBM as the surrogate model for explanations\", \"Computation of engineered features started\", \"Computation of engineered features completed\", \"Computation of raw features started\", \"Computation of raw features completed\", \"Best run model explanations completed\"]}]}, {\"name\": \"average_precision_score_micro\", \"run_id\": \"AutoML_49013142-f08d-4273-bdfc-1663ea9056f8\", \"categories\": [0], \"series\": [{\"data\": [0.8078982571593727]}]}, {\"name\": \"average_precision_score_weighted\", \"run_id\": \"AutoML_49013142-f08d-4273-bdfc-1663ea9056f8\", \"categories\": [0], \"series\": [{\"data\": [0.999702882836906]}]}, {\"name\": \"matthews_correlation\", \"run_id\": \"AutoML_49013142-f08d-4273-bdfc-1663ea9056f8\", \"categories\": [0], \"series\": [{\"data\": [0.06471034554026656]}]}, {\"name\": \"recall_score_micro\", \"run_id\": \"AutoML_49013142-f08d-4273-bdfc-1663ea9056f8\", \"categories\": [0], \"series\": [{\"data\": [0.7218145430286858]}]}, {\"name\": \"log_loss\", \"run_id\": \"AutoML_49013142-f08d-4273-bdfc-1663ea9056f8\", \"categories\": [0], \"series\": [{\"data\": [0.5739336235261393]}]}, {\"name\": \"weighted_accuracy\", \"run_id\": \"AutoML_49013142-f08d-4273-bdfc-1663ea9056f8\", \"categories\": [0], \"series\": [{\"data\": [0.7213710539531775]}]}, {\"name\": \"AUC_weighted\", \"run_id\": \"AutoML_49013142-f08d-4273-bdfc-1663ea9056f8\", \"categories\": [0], \"series\": [{\"data\": [0.9870331503451127]}]}, {\"name\": \"norm_macro_recall\", \"run_id\": \"AutoML_49013142-f08d-4273-bdfc-1663ea9056f8\", \"categories\": [0], \"series\": [{\"data\": [0.7009621237352566]}]}, {\"name\": \"f1_score_micro\", \"run_id\": \"AutoML_49013142-f08d-4273-bdfc-1663ea9056f8\", \"categories\": [0], \"series\": [{\"data\": [0.7218145430286858]}]}, {\"name\": \"AUC_macro\", \"run_id\": \"AutoML_49013142-f08d-4273-bdfc-1663ea9056f8\", \"categories\": [0], \"series\": [{\"data\": [0.9870331503451127]}]}, {\"name\": \"precision_score_weighted\", \"run_id\": \"AutoML_49013142-f08d-4273-bdfc-1663ea9056f8\", \"categories\": [0], \"series\": [{\"data\": [0.9982412458700957]}]}, {\"name\": \"f1_score_macro\", \"run_id\": \"AutoML_49013142-f08d-4273-bdfc-1663ea9056f8\", \"categories\": [0], \"series\": [{\"data\": [0.42504468902069736]}]}, {\"name\": \"recall_score_macro\", \"run_id\": \"AutoML_49013142-f08d-4273-bdfc-1663ea9056f8\", \"categories\": [0], \"series\": [{\"data\": [0.8504810618676283]}]}, {\"name\": \"balanced_accuracy\", \"run_id\": \"AutoML_49013142-f08d-4273-bdfc-1663ea9056f8\", \"categories\": [0], \"series\": [{\"data\": [0.8504810618676283]}]}, {\"name\": \"precision_score_macro\", \"run_id\": \"AutoML_49013142-f08d-4273-bdfc-1663ea9056f8\", \"categories\": [0], \"series\": [{\"data\": [0.5029869151828253]}]}, {\"name\": \"f1_score_weighted\", \"run_id\": \"AutoML_49013142-f08d-4273-bdfc-1663ea9056f8\", \"categories\": [0], \"series\": [{\"data\": [0.8366964711685194]}]}, {\"name\": \"average_precision_score_macro\", \"run_id\": \"AutoML_49013142-f08d-4273-bdfc-1663ea9056f8\", \"categories\": [0], \"series\": [{\"data\": [0.9209650844880186]}]}, {\"name\": \"accuracy\", \"run_id\": \"AutoML_49013142-f08d-4273-bdfc-1663ea9056f8\", \"categories\": [0], \"series\": [{\"data\": [0.7218145430286858]}]}, {\"name\": \"AUC_micro\", \"run_id\": \"AutoML_49013142-f08d-4273-bdfc-1663ea9056f8\", \"categories\": [0], \"series\": [{\"data\": [0.8095245982166681]}]}, {\"name\": \"precision_score_micro\", \"run_id\": \"AutoML_49013142-f08d-4273-bdfc-1663ea9056f8\", \"categories\": [0], \"series\": [{\"data\": [0.7218145430286858]}]}, {\"name\": \"recall_score_weighted\", \"run_id\": \"AutoML_49013142-f08d-4273-bdfc-1663ea9056f8\", \"categories\": [0], \"series\": [{\"data\": [0.7218145430286858]}]}], \"run_logs\": \"\\nRun is completed.\", \"graph\": {}, \"widget_settings\": {\"childWidgetDisplay\": \"popup\", \"send_telemetry\": false, \"log_level\": \"INFO\", \"sdk_version\": \"1.26.0\"}, \"loading\": false}"
     },
     "metadata": {},
     "output_type": "display_data"
    }
   ],
   "source": [
    "# submit script to AML\n",
    "RunDetails(remote_run).show()"
   ]
  },
  {
   "cell_type": "markdown",
   "metadata": {},
   "source": [
    "## Best Model\n",
    "\n",
    "TODO: In the cell below, get the best model from the automl experiments and display all the properties of the model.\n",
    "\n"
   ]
  },
  {
   "cell_type": "code",
   "execution_count": 8,
   "metadata": {
    "gather": {
     "logged": 1618180707097
    },
    "jupyter": {
     "outputs_hidden": false,
     "source_hidden": false
    },
    "nteract": {
     "transient": {
      "deleting": false
     }
    }
   },
   "outputs": [
    {
     "name": "stdout",
     "output_type": "stream",
     "text": [
      "Pipeline(memory=None,\n",
      "         steps=[('datatransformer',\n",
      "                 DataTransformer(enable_dnn=None, enable_feature_sweeping=None,\n",
      "                                 feature_sweeping_config=None,\n",
      "                                 feature_sweeping_timeout=None,\n",
      "                                 featurization_config=None, force_text_dnn=None,\n",
      "                                 is_cross_validation=None,\n",
      "                                 is_onnx_compatible=None, logger=None,\n",
      "                                 observer=None, task=None, working_dir=None)),\n",
      "                ('prefittedsoftvotingclassifier',...\n",
      "                                                                                                    min_samples_leaf=0.13894736842105262,\n",
      "                                                                                                    min_samples_split=0.33789473684210525,\n",
      "                                                                                                    min_weight_fraction_leaf=0.0,\n",
      "                                                                                                    n_estimators=10,\n",
      "                                                                                                    n_jobs=1,\n",
      "                                                                                                    oob_score=True,\n",
      "                                                                                                    random_state=None,\n",
      "                                                                                                    verbose=0,\n",
      "                                                                                                    warm_start=False))],\n",
      "                                                                     verbose=False))],\n",
      "                                               flatten_transform=None,\n",
      "                                               weights=[0.2, 0.2,\n",
      "                                                        0.06666666666666667,\n",
      "                                                        0.06666666666666667,\n",
      "                                                        0.06666666666666667,\n",
      "                                                        0.06666666666666667,\n",
      "                                                        0.13333333333333333,\n",
      "                                                        0.2]))],\n",
      "         verbose=False)\n"
     ]
    }
   ],
   "source": [
    "automl_best_run, automl_fitted_model = remote_run.get_output()\n",
    "print(automl_fitted_model)"
   ]
  },
  {
   "cell_type": "code",
   "execution_count": 9,
   "metadata": {
    "gather": {
     "logged": 1618180707405
    },
    "jupyter": {
     "outputs_hidden": false,
     "source_hidden": false
    },
    "nteract": {
     "transient": {
      "deleting": false
     }
    }
   },
   "outputs": [
    {
     "data": {
      "text/plain": [
       "{'runTemplate': 'automl_child',\n",
       " 'pipeline_id': '__AutoML_Ensemble__',\n",
       " 'pipeline_spec': '{\"pipeline_id\":\"__AutoML_Ensemble__\",\"objects\":[{\"module\":\"azureml.train.automl.ensemble\",\"class_name\":\"Ensemble\",\"spec_class\":\"sklearn\",\"param_args\":[],\"param_kwargs\":{\"automl_settings\":\"{\\'task_type\\':\\'classification\\',\\'primary_metric\\':\\'AUC_weighted\\',\\'verbosity\\':20,\\'ensemble_iterations\\':15,\\'is_timeseries\\':False,\\'name\\':\\'capstone-fraud-credit-exp\\',\\'compute_target\\':\\'auto-ml\\',\\'subscription_id\\':\\'d4ad7261-832d-46b2-b093-22156001df5b\\',\\'region\\':\\'southcentralus\\',\\'spark_service\\':None}\",\"ensemble_run_id\":\"AutoML_49013142-f08d-4273-bdfc-1663ea9056f8_38\",\"experiment_name\":\"capstone-fraud-credit-exp\",\"workspace_name\":\"quick-starts-ws-142627\",\"subscription_id\":\"d4ad7261-832d-46b2-b093-22156001df5b\",\"resource_group_name\":\"aml-quickstarts-142627\"}}]}',\n",
       " 'training_percent': '100',\n",
       " 'predicted_cost': None,\n",
       " 'iteration': '38',\n",
       " '_aml_system_scenario_identification': 'Remote.Child',\n",
       " '_azureml.ComputeTargetType': 'amlcompute',\n",
       " 'ContentSnapshotId': '1ef3948a-7a74-4cb3-ae35-c83bd30d9fe1',\n",
       " 'ProcessInfoFile': 'azureml-logs/process_info.json',\n",
       " 'ProcessStatusFile': 'azureml-logs/process_status.json',\n",
       " 'run_template': 'automl_child',\n",
       " 'run_preprocessor': '',\n",
       " 'run_algorithm': 'VotingEnsemble',\n",
       " 'model_output_path': 'outputs/model.pkl',\n",
       " 'conda_env_data_location': 'aml://artifact/ExperimentRun/dcid.AutoML_49013142-f08d-4273-bdfc-1663ea9056f8_38/outputs/conda_env_v_1_0_0.yml',\n",
       " 'model_data_location': 'aml://artifact/ExperimentRun/dcid.AutoML_49013142-f08d-4273-bdfc-1663ea9056f8_38/outputs/model.pkl',\n",
       " 'model_size_on_disk': '13005469',\n",
       " 'scoring_data_location': 'aml://artifact/ExperimentRun/dcid.AutoML_49013142-f08d-4273-bdfc-1663ea9056f8_38/outputs/scoring_file_v_1_0_0.py',\n",
       " 'model_exp_support': 'True',\n",
       " 'pipeline_graph_version': '1.0.0',\n",
       " 'model_name': 'AutoML49013142f38',\n",
       " 'staticProperties': '{}',\n",
       " 'score': '0.9870331503451127',\n",
       " 'score_table': 'NaN',\n",
       " 'run_properties': \"classification_labels=None,\\n                              estimators=[('10',\\n                                           Pipeline(memory=None,\\n                                                    steps=[('standardscalerwrapper',\\n                                                            <azureml.automl.runtime.shared.model_wrappers.StandardScalerWrapper object at 0x7f4618360710>\",\n",
       " 'pipeline_script': '{\"pipeline_id\":\"__AutoML_Ensemble__\",\"objects\":[{\"module\":\"azureml.train.automl.ensemble\",\"class_name\":\"Ensemble\",\"spec_class\":\"sklearn\",\"param_args\":[],\"param_kwargs\":{\"automl_settings\":\"{\\'task_type\\':\\'classification\\',\\'primary_metric\\':\\'AUC_weighted\\',\\'verbosity\\':20,\\'ensemble_iterations\\':15,\\'is_timeseries\\':False,\\'name\\':\\'capstone-fraud-credit-exp\\',\\'compute_target\\':\\'auto-ml\\',\\'subscription_id\\':\\'d4ad7261-832d-46b2-b093-22156001df5b\\',\\'region\\':\\'southcentralus\\',\\'spark_service\\':None}\",\"ensemble_run_id\":\"AutoML_49013142-f08d-4273-bdfc-1663ea9056f8_38\",\"experiment_name\":\"capstone-fraud-credit-exp\",\"workspace_name\":\"quick-starts-ws-142627\",\"subscription_id\":\"d4ad7261-832d-46b2-b093-22156001df5b\",\"resource_group_name\":\"aml-quickstarts-142627\"}}]}',\n",
       " 'training_type': 'train_valid',\n",
       " 'num_classes': '',\n",
       " 'framework': 'sklearn',\n",
       " 'fit_time': '25',\n",
       " 'goal': 'AUC_weighted_max',\n",
       " 'class_labels': '',\n",
       " 'primary_metric': 'AUC_weighted',\n",
       " 'errors': '{}',\n",
       " 'onnx_model_resource': '{}',\n",
       " 'error_code': '',\n",
       " 'failure_reason': '',\n",
       " 'dependencies_versions': '{\"azureml-train-automl-runtime\": \"1.25.0\", \"azureml-train-automl-client\": \"1.25.0\", \"azureml-telemetry\": \"1.25.0\", \"azureml-pipeline-core\": \"1.25.0\", \"azureml-model-management-sdk\": \"1.0.1b6.post1\", \"azureml-mlflow\": \"1.25.0\", \"azureml-interpret\": \"1.25.0\", \"azureml-defaults\": \"1.25.0\", \"azureml-dataset-runtime\": \"1.25.0\", \"azureml-dataprep\": \"2.11.2\", \"azureml-dataprep-rslex\": \"1.9.1\", \"azureml-dataprep-native\": \"30.0.0\", \"azureml-core\": \"1.25.0\", \"azureml-automl-runtime\": \"1.25.0\", \"azureml-automl-core\": \"1.25.0\"}',\n",
       " 'num_cores': '4',\n",
       " 'num_logical_cores': '4',\n",
       " 'peak_memory_usage': '891404',\n",
       " 'vm_configuration': 'Intel(R) Xeon(R) CPU E5-2673 v3 @ 2.40GHz',\n",
       " 'core_hours': '0.006478843333333333',\n",
       " 'feature_skus': 'automatedml_sdk_guardrails'}"
      ]
     },
     "execution_count": 9,
     "metadata": {},
     "output_type": "execute_result"
    }
   ],
   "source": [
    "automl_best_run.properties"
   ]
  },
  {
   "cell_type": "code",
   "execution_count": 11,
   "metadata": {
    "gather": {
     "logged": 1618180707713
    },
    "jupyter": {
     "outputs_hidden": false,
     "source_hidden": false
    },
    "nteract": {
     "transient": {
      "deleting": false
     }
    }
   },
   "outputs": [
    {
     "data": {
      "text/plain": [
       "['best_automl_model.joblib']"
      ]
     },
     "execution_count": 11,
     "metadata": {},
     "output_type": "execute_result"
    }
   ],
   "source": [
    "#TODO: Save the best model\n",
    "import joblib\n",
    "\n",
    "joblib.dump(automl_fitted_model,\"best_automl_model.joblib\")\n",
    "automl_best_run.download_file('outputs/model.pkl', 'outputs/fraud_model.pkl')\n",
    "automl_best_run.download_file('outputs/scoring_file_v_1_0_0.py', 'outputs/score_aml.py')\n",
    "automl_best_run.download_file('automl_driver.py', 'outputs/automl_driver.py')"
   ]
  },
  {
   "cell_type": "code",
   "execution_count": null,
   "metadata": {},
   "outputs": [],
   "source": []
  },
  {
   "cell_type": "markdown",
   "metadata": {},
   "source": [
    "## Model Deployment\n",
    "\n",
    "Remember you have to deploy only one of the two models you trained.. Perform the steps in the rest of this notebook only if you wish to deploy this model.\n",
    "\n",
    "TODO: In the cell below, register the model, create an inference config and deploy the model as a web service.\n",
    "\n",
    "All the information about the deployment of the model are coming from https://docs.microsoft.com/en-us/azure/machine-learning/how-to-deploy-and-where?tabs=python\n"
   ]
  },
  {
   "cell_type": "code",
   "execution_count": 12,
   "metadata": {
    "gather": {
     "logged": 1618182585794
    },
    "jupyter": {
     "outputs_hidden": false,
     "source_hidden": false
    },
    "nteract": {
     "transient": {
      "deleting": false
     }
    }
   },
   "outputs": [
    {
     "data": {
      "text/plain": [
       "'AutoML49013142f38'"
      ]
     },
     "execution_count": 12,
     "metadata": {},
     "output_type": "execute_result"
    }
   ],
   "source": [
    "automl_best_run.properties['model_name']"
   ]
  },
  {
   "cell_type": "code",
   "execution_count": 48,
   "metadata": {
    "gather": {
     "logged": 1618182588795
    },
    "jupyter": {
     "outputs_hidden": false,
     "source_hidden": false
    },
    "nteract": {
     "transient": {
      "deleting": false
     }
    }
   },
   "outputs": [
    {
     "name": "stdout",
     "output_type": "stream",
     "text": [
      "AutoML49013142f38\tAutoML49013142f38:6\t6\n"
     ]
    }
   ],
   "source": [
    "model = remote_run.register_model(model_name=automl_best_run.properties['model_name'])\n",
    "# automl_best_run.register_model(model_name=automl_best_run.properties['model_name'], model_path='/model.pkl')\n",
    "print(model.name, model.id, model.version, sep='\\t')\n"
   ]
  },
  {
   "cell_type": "code",
   "execution_count": 53,
   "metadata": {
    "gather": {
     "logged": 1618182590279
    },
    "jupyter": {
     "outputs_hidden": false,
     "source_hidden": false
    },
    "nteract": {
     "transient": {
      "deleting": false
     }
    }
   },
   "outputs": [],
   "source": [
    "from azureml.core.environment import Environment\n",
    "from azureml.core.model import InferenceConfig\n",
    "\n",
    "\n",
    "env = automl_best_run.get_environment()\n",
    "\n",
    "for pip_package in [\"scikit-learn\"]:\n",
    "    env.python.conda_dependencies.add_pip_package(pip_package)\n",
    "\n",
    "inference_config = InferenceConfig(entry_script='outputs/score_aml.py',environment=env)"
   ]
  },
  {
   "cell_type": "code",
   "execution_count": 56,
   "metadata": {
    "gather": {
     "logged": 1618183884957
    },
    "jupyter": {
     "outputs_hidden": false,
     "source_hidden": false
    },
    "nteract": {
     "transient": {
      "deleting": false
     }
    }
   },
   "outputs": [
    {
     "name": "stdout",
     "output_type": "stream",
     "text": [
      "Tips: You can try get_logs(): https://aka.ms/debugimage#dockerlog or local deployment: https://aka.ms/debugimage#debug-locally to debug if deployment takes longer than 10 minutes.\n",
      "Running\n",
      "2021-04-13 23:22:24+00:00 Creating Container Registry if not exists.\n",
      "2021-04-13 23:22:25+00:00 Registering the environment.\n",
      "2021-04-13 23:22:25+00:00 Use the existing image.\n",
      "2021-04-13 23:22:25+00:00 Generating deployment configuration.\n",
      "2021-04-13 23:22:26+00:00 Submitting deployment to compute.\n",
      "2021-04-13 23:22:30+00:00 Checking the status of deployment capstone-fraud-servic..\n",
      "2021-04-13 23:25:49+00:00 Checking the status of inference endpoint capstone-fraud-servic.\n",
      "Succeeded\n",
      "ACI service creation operation finished, operation \"Succeeded\"\n",
      "Healthy\n"
     ]
    }
   ],
   "source": [
    "from azureml.core.webservice import AciWebservice\n",
    "from azureml.core.model import Model\n",
    "\n",
    "\n",
    "deployment_config = AciWebservice.deploy_configuration(cpu_cores=1, memory_gb=1)\n",
    "service = Model.deploy(ws, 'capstone-fraud-service', [model], inference_config, deployment_config, overwrite=True)\n",
    "service.wait_for_deployment(show_output=True)\n",
    "print(service.state)"
   ]
  },
  {
   "cell_type": "markdown",
   "metadata": {
    "collapsed": true,
    "gather": {
     "logged": 1598431657736
    },
    "jupyter": {
     "outputs_hidden": false,
     "source_hidden": false
    },
    "nteract": {
     "transient": {
      "deleting": false
     }
    }
   },
   "source": [
    "TODO: In the cell below, send a request to the web service you deployed to test it."
   ]
  },
  {
   "cell_type": "code",
   "execution_count": 64,
   "metadata": {
    "gather": {
     "logged": 1618183631812
    },
    "jupyter": {
     "outputs_hidden": false,
     "source_hidden": false
    },
    "nteract": {
     "transient": {
      "deleting": false
     }
    }
   },
   "outputs": [],
   "source": [
    "import json\n",
    "\n",
    "data = {\"data\":\n",
    "        [\n",
    "          {\n",
    "            \"Time\": 0.0, \"V1\": 0.0, \"V2\": 0.0, \"V3\": 0.0, \"V4\": 0.0, \"V5\": 0.0, \"V6\": 0.0, \"V7\": 0.0, \"V8\": 0.0, \"V9\": 0.0, \"V10\": 0.0, \"V11\": 0.0, \"V12\": 0.0, \"V13\": 0.0, \"V14\": 0.0, \"V15\": 0.0, \"V16\": 0.0, \"V17\": 0.0, \"V18\": 0.0, \"V19\": 0.0, \"V20\": 0.0, \"V21\": 0.0, \"V22\": 0.0, \"V23\": 0.0, \"V24\": 0.0, \"V25\": 0.0, \"V26\": 0.0, \"V27\": 0.0, \"V28\": 0.0, \"Amount\": 0.0\n",
    "          },\n",
    "            {\n",
    "            \"Time\": 0.0, \"V1\": 0.0, \"V2\": 0.0, \"V3\": 0.0, \"V4\": 0.0, \"V5\": 0.0, \"V6\": 0.0, \"V7\": 0.0, \"V8\": 0.0, \"V9\": 0.0, \"V10\": 0.0, \"V11\": 0.0, \"V12\": 0.0, \"V13\": 0.0, \"V14\": 0.0, \"V15\": 0.0, \"V16\": 0.0, \"V17\": 0.0, \"V18\": 0.0, \"V19\": 0.0, \"V20\": 0.0, \"V21\": 0.0, \"V22\": 0.0, \"V23\": 0.0, \"V24\": 0.0, \"V25\": 0.0, \"V26\": 0.0, \"V27\": 0.0, \"V28\": 0.0, \"Amount\": 0.0\n",
    "          }\n",
    "        ]\n",
    "    }\n",
    "# Convert to JSON string\n",
    "input_data = json.dumps(data)"
   ]
  },
  {
   "cell_type": "code",
   "execution_count": 66,
   "metadata": {
    "gather": {
     "logged": 1618183631873
    },
    "jupyter": {
     "outputs_hidden": false,
     "source_hidden": false
    },
    "nteract": {
     "transient": {
      "deleting": false
     }
    }
   },
   "outputs": [
    {
     "data": {
      "text/plain": [
       "'{\"data\": [{\"Time\": 0.0, \"V1\": 0.0, \"V2\": 0.0, \"V3\": 0.0, \"V4\": 0.0, \"V5\": 0.0, \"V6\": 0.0, \"V7\": 0.0, \"V8\": 0.0, \"V9\": 0.0, \"V10\": 0.0, \"V11\": 0.0, \"V12\": 0.0, \"V13\": 0.0, \"V14\": 0.0, \"V15\": 0.0, \"V16\": 0.0, \"V17\": 0.0, \"V18\": 0.0, \"V19\": 0.0, \"V20\": 0.0, \"V21\": 0.0, \"V22\": 0.0, \"V23\": 0.0, \"V24\": 0.0, \"V25\": 0.0, \"V26\": 0.0, \"V27\": 0.0, \"V28\": 0.0, \"Amount\": 0.0}, {\"Time\": 0.0, \"V1\": 0.0, \"V2\": 0.0, \"V3\": 0.0, \"V4\": 0.0, \"V5\": 0.0, \"V6\": 0.0, \"V7\": 0.0, \"V8\": 0.0, \"V9\": 0.0, \"V10\": 0.0, \"V11\": 0.0, \"V12\": 0.0, \"V13\": 0.0, \"V14\": 0.0, \"V15\": 0.0, \"V16\": 0.0, \"V17\": 0.0, \"V18\": 0.0, \"V19\": 0.0, \"V20\": 0.0, \"V21\": 0.0, \"V22\": 0.0, \"V23\": 0.0, \"V24\": 0.0, \"V25\": 0.0, \"V26\": 0.0, \"V27\": 0.0, \"V28\": 0.0, \"Amount\": 0.0}]}'"
      ]
     },
     "execution_count": 66,
     "metadata": {},
     "output_type": "execute_result"
    }
   ],
   "source": [
    "input_data"
   ]
  },
  {
   "cell_type": "code",
   "execution_count": 67,
   "metadata": {
    "gather": {
     "logged": 1618183632057
    },
    "jupyter": {
     "outputs_hidden": false,
     "source_hidden": false
    },
    "nteract": {
     "transient": {
      "deleting": false
     }
    }
   },
   "outputs": [
    {
     "data": {
      "text/plain": [
       "'{\"error\": \"\\'MinMaxScaler\\' object has no attribute \\'clip\\'\"}'"
      ]
     },
     "execution_count": 67,
     "metadata": {},
     "output_type": "execute_result"
    }
   ],
   "source": [
    "service.run(input_data)\n"
   ]
  },
  {
   "cell_type": "code",
   "execution_count": 68,
   "metadata": {
    "gather": {
     "logged": 1618183632101
    },
    "jupyter": {
     "outputs_hidden": false,
     "source_hidden": false
    },
    "nteract": {
     "transient": {
      "deleting": false
     }
    }
   },
   "outputs": [
    {
     "data": {
      "text/plain": [
       "'http://dfffdb5f-4b7b-4d0b-8f40-459ca5b05955.southcentralus.azurecontainer.io/score'"
      ]
     },
     "execution_count": 68,
     "metadata": {},
     "output_type": "execute_result"
    }
   ],
   "source": [
    "service.scoring_uri"
   ]
  },
  {
   "cell_type": "code",
   "execution_count": 69,
   "metadata": {},
   "outputs": [
    {
     "name": "stdout",
     "output_type": "stream",
     "text": [
      "\"{\\\"error\\\": \\\"'MinMaxScaler' object has no attribute 'clip'\\\"}\"\n"
     ]
    }
   ],
   "source": [
    "import requests\n",
    "import json\n",
    "\n",
    "# URL for the web service, should be similar to:\n",
    "# 'http://8530a665-66f3-49c8-a953-b82a2d312917.eastus.azurecontainer.io/score'\n",
    "scoring_uri = service.scoring_uri\n",
    "# If the service is authenticated, set the key or token\n",
    "key = ''\n",
    "\n",
    "# Two sets of data to score, so we get two results back\n",
    "data = {\"data\":\n",
    "        [\n",
    "          {\n",
    "            \"Time\": 0.0, \"V1\": 0.0, \"V2\": 0.0, \"V3\": 0.0, \"V4\": 0.0, \"V5\": 0.0, \"V6\": 0.0, \"V7\": 0.0, \"V8\": 0.0, \"V9\": 0.0, \"V10\": 0.0, \"V11\": 0.0, \"V12\": 0.0, \"V13\": 0.0, \"V14\": 0.0, \"V15\": 0.0, \"V16\": 0.0, \"V17\": 0.0, \"V18\": 0.0, \"V19\": 0.0, \"V20\": 0.0, \"V21\": 0.0, \"V22\": 0.0, \"V23\": 0.0, \"V24\": 0.0, \"V25\": 0.0, \"V26\": 0.0, \"V27\": 0.0, \"V28\": 0.0, \"Amount\": 0.0\n",
    "          },\n",
    "        ]\n",
    "    }\n",
    "# Convert to JSON string\n",
    "input_data = json.dumps(data)\n",
    "with open(\"data.json\", \"w\") as _f:\n",
    "    _f.write(input_data)\n",
    "\n",
    "# Set the content type\n",
    "headers = {'Content-Type': 'application/json'}\n",
    "# If authentication is enabled, set the authorization header\n",
    "# headers['Authorization'] = f'Bearer {key}\n",
    "\n",
    "# Make the request and display the response\n",
    "resp = requests.post(scoring_uri, input_data, headers=headers)\n",
    "print(resp.text)"
   ]
  },
  {
   "cell_type": "markdown",
   "metadata": {
    "collapsed": true,
    "gather": {
     "logged": 1598432765711
    },
    "jupyter": {
     "outputs_hidden": false,
     "source_hidden": false
    },
    "nteract": {
     "transient": {
      "deleting": false
     }
    }
   },
   "source": [
    "TODO: In the cell below, print the logs of the web service and delete the service"
   ]
  },
  {
   "cell_type": "code",
   "execution_count": 29,
   "metadata": {
    "gather": {
     "logged": 1618183632475
    },
    "jupyter": {
     "outputs_hidden": false,
     "source_hidden": false
    },
    "nteract": {
     "transient": {
      "deleting": false
     }
    }
   },
   "outputs": [
    {
     "name": "stdout",
     "output_type": "stream",
     "text": [
      "2021-04-13T22:05:35,041743600+00:00 - rsyslog/run \n",
      "2021-04-13T22:05:35,044419600+00:00 - gunicorn/run \n",
      "2021-04-13T22:05:35,041094200+00:00 - iot-server/run \n",
      "2021-04-13T22:05:35,068382900+00:00 - nginx/run \n",
      "/usr/sbin/nginx: /azureml-envs/azureml_29318f7eab6a00068bd5370f799e3963/lib/libcrypto.so.1.0.0: no version information available (required by /usr/sbin/nginx)\n",
      "/usr/sbin/nginx: /azureml-envs/azureml_29318f7eab6a00068bd5370f799e3963/lib/libcrypto.so.1.0.0: no version information available (required by /usr/sbin/nginx)\n",
      "/usr/sbin/nginx: /azureml-envs/azureml_29318f7eab6a00068bd5370f799e3963/lib/libssl.so.1.0.0: no version information available (required by /usr/sbin/nginx)\n",
      "/usr/sbin/nginx: /azureml-envs/azureml_29318f7eab6a00068bd5370f799e3963/lib/libssl.so.1.0.0: no version information available (required by /usr/sbin/nginx)\n",
      "/usr/sbin/nginx: /azureml-envs/azureml_29318f7eab6a00068bd5370f799e3963/lib/libssl.so.1.0.0: no version information available (required by /usr/sbin/nginx)\n",
      "rsyslogd: /azureml-envs/azureml_29318f7eab6a00068bd5370f799e3963/lib/libuuid.so.1: no version information available (required by rsyslogd)\n",
      "EdgeHubConnectionString and IOTEDGE_IOTHUBHOSTNAME are not set. Exiting...\n",
      "Starting gunicorn 19.9.0\n",
      "Listening at: http://127.0.0.1:31311 (72)\n",
      "Using worker: sync\n",
      "worker timeout is set to 300\n",
      "2021-04-13T22:05:35,998879300+00:00 - iot-server/finish 1 0\n",
      "2021-04-13T22:05:36,001449900+00:00 - Exit code 1 is normal. Not restarting iot-server.\n",
      "Booting worker with pid: 97\n",
      "SPARK_HOME not set. Skipping PySpark Initialization.\n",
      "Generating new fontManager, this may take some time...\n",
      "Initializing logger\n",
      "2021-04-13 22:05:38,027 | root | INFO | Starting up app insights client\n",
      "2021-04-13 22:05:38,028 | root | INFO | Starting up request id generator\n",
      "2021-04-13 22:05:38,028 | root | INFO | Starting up app insight hooks\n",
      "2021-04-13 22:05:38,028 | root | INFO | Invoking user's init function\n",
      "2021-04-13 22:05:42,937 | azureml.core | WARNING | Failure while loading azureml_run_type_providers. Failed to load entrypoint automl = azureml.train.automl.run:AutoMLRun._from_run_dto with exception cannot import name 'RunType'.\n",
      "Failure while loading azureml_run_type_providers. Failed to load entrypoint automl = azureml.train.automl.run:AutoMLRun._from_run_dto with exception cannot import name 'RunType'.\n",
      "2021-04-13 22:05:43,544 | root | INFO | Users's init has completed successfully\n",
      "2021-04-13 22:05:43,560 | root | INFO | Skipping middleware: dbg_model_info as it's not enabled.\n",
      "2021-04-13 22:05:43,560 | root | INFO | Skipping middleware: dbg_resource_usage as it's not enabled.\n",
      "2021-04-13 22:05:43,566 | root | INFO | Scoring timeout is found from os.environ: 60000 ms\n",
      "2021-04-13 22:05:43,612 | root | INFO | 200\n",
      "127.0.0.1 - - [13/Apr/2021:22:05:43 +0000] \"GET /swagger.json HTTP/1.0\" 200 3740 \"-\" \"Go-http-client/1.1\"\n",
      "2021-04-13 22:05:49,760 | root | INFO | 200\n",
      "127.0.0.1 - - [13/Apr/2021:22:05:49 +0000] \"GET /swagger.json HTTP/1.0\" 200 3740 \"-\" \"Go-http-client/1.1\"\n",
      "2021-04-13 22:08:58,134 | root | INFO | Validation Request Content-Type\n",
      "2021-04-13 22:08:58,135 | root | INFO | Scoring Timer is set to 60.0 seconds\n",
      "2021-04-13 22:08:58,424 | root | INFO | 200\n",
      "127.0.0.1 - - [13/Apr/2021:22:08:58 +0000] \"POST /score HTTP/1.0\" 200 64 \"-\" \"python-requests/2.25.1\"\n",
      "2021-04-13 22:10:44,004 | root | INFO | Validation Request Content-Type\n",
      "2021-04-13 22:10:44,005 | root | INFO | Scoring Timer is set to 60.0 seconds\n",
      "2021-04-13 22:10:44,299 | root | INFO | 200\n",
      "127.0.0.1 - - [13/Apr/2021:22:10:44 +0000] \"POST /score HTTP/1.0\" 200 64 \"-\" \"python-requests/2.25.1\"\n",
      "2021-04-13 22:12:41,988 | root | INFO | Validation Request Content-Type\n",
      "2021-04-13 22:12:41,989 | root | INFO | Scoring Timer is set to 60.0 seconds\n",
      "2021-04-13 22:12:42,245 | root | INFO | 200\n",
      "127.0.0.1 - - [13/Apr/2021:22:12:42 +0000] \"POST /score HTTP/1.0\" 200 64 \"-\" \"python-requests/2.25.1\"\n",
      "2021-04-13 22:13:05,951 | root | INFO | Validation Request Content-Type\n",
      "2021-04-13 22:13:05,951 | root | INFO | Scoring Timer is set to 60.0 seconds\n",
      "2021-04-13 22:13:06,234 | root | INFO | 200\n",
      "127.0.0.1 - - [13/Apr/2021:22:13:06 +0000] \"POST /score HTTP/1.0\" 200 64 \"-\" \"python-requests/2.25.1\"\n",
      "2021-04-13 22:18:07,115 | root | INFO | Validation Request Content-Type\n",
      "2021-04-13 22:18:07,116 | root | INFO | Scoring Timer is set to 60.0 seconds\n",
      "2021-04-13 22:18:07,394 | root | INFO | 200\n",
      "127.0.0.1 - - [13/Apr/2021:22:18:07 +0000] \"POST /score HTTP/1.0\" 200 64 \"-\" \"python-requests/2.25.1\"\n",
      "2021-04-13 22:18:33,695 | root | INFO | Validation Request Content-Type\n",
      "2021-04-13 22:18:33,696 | root | INFO | Scoring Timer is set to 60.0 seconds\n",
      "2021-04-13 22:18:33,947 | root | INFO | 200\n",
      "127.0.0.1 - - [13/Apr/2021:22:18:33 +0000] \"POST /score HTTP/1.0\" 200 64 \"-\" \"python-requests/2.25.1\"\n",
      "2021-04-13 22:26:19,746 | root | INFO | Validation Request Content-Type\n",
      "2021-04-13 22:26:19,749 | root | INFO | Scoring Timer is set to 60.0 seconds\n",
      "2021-04-13 22:26:20,032 | root | INFO | 200\n",
      "127.0.0.1 - - [13/Apr/2021:22:26:20 +0000] \"POST /score HTTP/1.0\" 200 64 \"-\" \"python-requests/2.25.1\"\n",
      "\n"
     ]
    }
   ],
   "source": [
    "print(service.get_logs())"
   ]
  },
  {
   "cell_type": "code",
   "execution_count": 32,
   "metadata": {
    "collapsed": true,
    "gather": {
     "logged": 1618183633889
    },
    "jupyter": {
     "outputs_hidden": false,
     "source_hidden": false
    },
    "nteract": {
     "transient": {
      "deleting": false
     }
    }
   },
   "outputs": [],
   "source": [
    "service.delete()"
   ]
  },
  {
   "cell_type": "code",
   "execution_count": null,
   "metadata": {
    "collapsed": true,
    "jupyter": {
     "outputs_hidden": false,
     "source_hidden": false
    },
    "nteract": {
     "transient": {
      "deleting": false
     }
    }
   },
   "outputs": [],
   "source": []
  }
 ],
 "metadata": {
  "kernel_info": {
   "name": "python3"
  },
  "kernelspec": {
   "display_name": "Python 3.6 - AzureML",
   "language": "python",
   "name": "python3-azureml"
  },
  "language_info": {
   "codemirror_mode": {
    "name": "ipython",
    "version": 3
   },
   "file_extension": ".py",
   "mimetype": "text/x-python",
   "name": "python",
   "nbconvert_exporter": "python",
   "pygments_lexer": "ipython3",
   "version": "3.6.9"
  },
  "microsoft": {
   "host": {
    "AzureML": {
     "notebookHasBeenCompleted": true
    }
   }
  },
  "nteract": {
   "version": "nteract-front-end@1.0.0"
  }
 },
 "nbformat": 4,
 "nbformat_minor": 2
}
