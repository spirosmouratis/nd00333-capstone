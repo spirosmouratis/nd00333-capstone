{
 "cells": [
  {
   "cell_type": "markdown",
   "metadata": {},
   "source": [
    "# Automated ML\n",
    "\n",
    "TODO: Import Dependencies. In the cell below, import all the dependencies that you will need to complete the project."
   ]
  },
  {
   "cell_type": "code",
   "execution_count": 1,
   "metadata": {
    "gather": {
     "logged": 1618177404196
    },
    "jupyter": {
     "outputs_hidden": false,
     "source_hidden": false
    },
    "nteract": {
     "transient": {
      "deleting": false
     }
    }
   },
   "outputs": [
    {
     "name": "stdout",
     "output_type": "stream",
     "text": [
      "SDK version: 1.26.0\n"
     ]
    }
   ],
   "source": [
    "import azureml\n",
    "from azureml.core.experiment import Experiment\n",
    "from azureml.core.workspace import Workspace\n",
    "from azureml.core.compute import AmlCompute\n",
    "from azureml.core.compute import ComputeTarget\n",
    "from azureml.core.compute_target import ComputeTargetException\n",
    "from azureml.train.automl import AutoMLConfig\n",
    "from azureml.widgets import RunDetails\n",
    "\n",
    "print(\"SDK version:\", azureml.core.VERSION)"
   ]
  },
  {
   "cell_type": "markdown",
   "metadata": {},
   "source": [
    "## Dataset\n",
    "\n",
    "### Overview\n",
    "TODO: In this markdown cell, give an overview of the dataset you are using. Also mention the task you will be performing.\n",
    "\n",
    "The dataset we are using here is the \"hottest\" dataset in Kaggle for credit card fraud detection.<br>\n",
    "The target of problem is to identify based on the given features if a transaction is fraudulent or not. <br>\n",
    "The dataset contains only numerical input variables which are a result of a PCA transformation. <br>\n",
    "This means that the datset does not require any cleaning, nomralisation or any kind of encoding. <br>\n",
    "\n",
    "TODO: Get data. In the cell below, write code to access the data you will be using in this project. Remember that the dataset needs to be external."
   ]
  },
  {
   "cell_type": "code",
   "execution_count": 2,
   "metadata": {
    "gather": {
     "logged": 1618177422606
    },
    "jupyter": {
     "outputs_hidden": false,
     "source_hidden": false
    },
    "nteract": {
     "transient": {
      "deleting": false
     }
    }
   },
   "outputs": [],
   "source": [
    "ws = Workspace.from_config()\n",
    "\n",
    "# choose a name for experiment\n",
    "experiment_name = 'capstone-fraud-credit-exp'\n",
    "\n",
    "experiment=Experiment(ws, experiment_name)"
   ]
  },
  {
   "cell_type": "markdown",
   "metadata": {
    "nteract": {
     "transient": {
      "deleting": false
     }
    }
   },
   "source": [
    "In the cell below we are creating a cluster to run our AutoML experiment"
   ]
  },
  {
   "cell_type": "code",
   "execution_count": 3,
   "metadata": {
    "gather": {
     "logged": 1618178050498
    },
    "jupyter": {
     "outputs_hidden": false,
     "source_hidden": false
    },
    "nteract": {
     "transient": {
      "deleting": false
     }
    }
   },
   "outputs": [
    {
     "name": "stdout",
     "output_type": "stream",
     "text": [
      "Creating....\n",
      "SucceededProvisioning operation finished, operation \"Succeeded\"\n",
      "Succeeded\n",
      "AmlCompute wait for completion finished\n",
      "\n",
      "Minimum number of nodes requested have been provisioned\n"
     ]
    }
   ],
   "source": [
    "# NOTE: update the cluster name to match the existing cluster\n",
    "# Choose a name for your CPU cluster\n",
    "amlcompute_cluster_name = \"auto-ml\"\n",
    "\n",
    "# Verify that cluster does not exist already\n",
    "try:\n",
    "    compute_target = ComputeTarget(workspace=ws, name=amlcompute_cluster_name)\n",
    "    print('Found existing cluster, use it.')\n",
    "except ComputeTargetException:\n",
    "    compute_config = AmlCompute.provisioning_configuration(vm_size='STANDARD_DS12_V2',# for GPU, use \"STANDARD_NC6\"\n",
    "                                                           #vm_priority = 'lowpriority', # optional\n",
    "                                                           max_nodes=10)\n",
    "    compute_target = ComputeTarget.create(ws, amlcompute_cluster_name, compute_config)\n",
    "\n",
    "compute_target.wait_for_completion(show_output=True)\n",
    "# For a more detailed view of current AmlCompute status, use get_status()."
   ]
  },
  {
   "cell_type": "markdown",
   "metadata": {
    "nteract": {
     "transient": {
      "deleting": false
     }
    }
   },
   "source": [
    "In the cell below we read the data if they are already saved in the Workspace <br>\n",
    "If they are not then we can download the data from a URL <br>\n",
    "Here the URL thought doesn't work properly so it's in comments <br>"
   ]
  },
  {
   "cell_type": "code",
   "execution_count": 4,
   "metadata": {
    "gather": {
     "logged": 1618178496786
    },
    "jupyter": {
     "outputs_hidden": false,
     "source_hidden": false
    },
    "nteract": {
     "transient": {
      "deleting": false
     }
    }
   },
   "outputs": [
    {
     "data": {
      "text/html": [
       "<div>\n",
       "<style scoped>\n",
       "    .dataframe tbody tr th:only-of-type {\n",
       "        vertical-align: middle;\n",
       "    }\n",
       "\n",
       "    .dataframe tbody tr th {\n",
       "        vertical-align: top;\n",
       "    }\n",
       "\n",
       "    .dataframe thead th {\n",
       "        text-align: right;\n",
       "    }\n",
       "</style>\n",
       "<table border=\"1\" class=\"dataframe\">\n",
       "  <thead>\n",
       "    <tr style=\"text-align: right;\">\n",
       "      <th></th>\n",
       "      <th>Time</th>\n",
       "      <th>V1</th>\n",
       "      <th>V2</th>\n",
       "      <th>V3</th>\n",
       "      <th>V4</th>\n",
       "      <th>V5</th>\n",
       "      <th>V6</th>\n",
       "      <th>V7</th>\n",
       "      <th>V8</th>\n",
       "      <th>V9</th>\n",
       "      <th>...</th>\n",
       "      <th>V21</th>\n",
       "      <th>V22</th>\n",
       "      <th>V23</th>\n",
       "      <th>V24</th>\n",
       "      <th>V25</th>\n",
       "      <th>V26</th>\n",
       "      <th>V27</th>\n",
       "      <th>V28</th>\n",
       "      <th>Amount</th>\n",
       "      <th>Class</th>\n",
       "    </tr>\n",
       "  </thead>\n",
       "  <tbody>\n",
       "    <tr>\n",
       "      <th>count</th>\n",
       "      <td>284806.000000</td>\n",
       "      <td>2.848070e+05</td>\n",
       "      <td>2.848070e+05</td>\n",
       "      <td>2.848070e+05</td>\n",
       "      <td>2.848070e+05</td>\n",
       "      <td>2.848070e+05</td>\n",
       "      <td>2.848070e+05</td>\n",
       "      <td>2.848070e+05</td>\n",
       "      <td>2.848070e+05</td>\n",
       "      <td>2.848070e+05</td>\n",
       "      <td>...</td>\n",
       "      <td>2.848070e+05</td>\n",
       "      <td>2.848070e+05</td>\n",
       "      <td>2.848070e+05</td>\n",
       "      <td>2.848070e+05</td>\n",
       "      <td>2.848070e+05</td>\n",
       "      <td>2.848070e+05</td>\n",
       "      <td>2.848070e+05</td>\n",
       "      <td>2.848070e+05</td>\n",
       "      <td>284807.000000</td>\n",
       "      <td>284807.000000</td>\n",
       "    </tr>\n",
       "    <tr>\n",
       "      <th>mean</th>\n",
       "      <td>94813.841366</td>\n",
       "      <td>3.918649e-15</td>\n",
       "      <td>5.682686e-16</td>\n",
       "      <td>-8.761736e-15</td>\n",
       "      <td>2.811118e-15</td>\n",
       "      <td>-1.552103e-15</td>\n",
       "      <td>2.040130e-15</td>\n",
       "      <td>-1.698953e-15</td>\n",
       "      <td>-1.958151e-16</td>\n",
       "      <td>-3.147640e-15</td>\n",
       "      <td>...</td>\n",
       "      <td>1.471982e-16</td>\n",
       "      <td>8.042109e-16</td>\n",
       "      <td>5.282450e-16</td>\n",
       "      <td>4.458267e-15</td>\n",
       "      <td>1.426896e-15</td>\n",
       "      <td>1.701640e-15</td>\n",
       "      <td>-3.671606e-16</td>\n",
       "      <td>-1.218152e-16</td>\n",
       "      <td>88.349619</td>\n",
       "      <td>0.001727</td>\n",
       "    </tr>\n",
       "    <tr>\n",
       "      <th>std</th>\n",
       "      <td>47488.228330</td>\n",
       "      <td>1.958696e+00</td>\n",
       "      <td>1.651309e+00</td>\n",
       "      <td>1.516255e+00</td>\n",
       "      <td>1.415869e+00</td>\n",
       "      <td>1.380247e+00</td>\n",
       "      <td>1.332271e+00</td>\n",
       "      <td>1.237094e+00</td>\n",
       "      <td>1.194353e+00</td>\n",
       "      <td>1.098632e+00</td>\n",
       "      <td>...</td>\n",
       "      <td>7.345240e-01</td>\n",
       "      <td>7.257016e-01</td>\n",
       "      <td>6.244603e-01</td>\n",
       "      <td>6.056471e-01</td>\n",
       "      <td>5.212781e-01</td>\n",
       "      <td>4.822270e-01</td>\n",
       "      <td>4.036325e-01</td>\n",
       "      <td>3.300833e-01</td>\n",
       "      <td>250.120109</td>\n",
       "      <td>0.041527</td>\n",
       "    </tr>\n",
       "    <tr>\n",
       "      <th>min</th>\n",
       "      <td>0.000000</td>\n",
       "      <td>-5.640751e+01</td>\n",
       "      <td>-7.271573e+01</td>\n",
       "      <td>-4.832559e+01</td>\n",
       "      <td>-5.683171e+00</td>\n",
       "      <td>-1.137433e+02</td>\n",
       "      <td>-2.616051e+01</td>\n",
       "      <td>-4.355724e+01</td>\n",
       "      <td>-7.321672e+01</td>\n",
       "      <td>-1.343407e+01</td>\n",
       "      <td>...</td>\n",
       "      <td>-3.483038e+01</td>\n",
       "      <td>-1.093314e+01</td>\n",
       "      <td>-4.480774e+01</td>\n",
       "      <td>-2.836627e+00</td>\n",
       "      <td>-1.029540e+01</td>\n",
       "      <td>-2.604551e+00</td>\n",
       "      <td>-2.256568e+01</td>\n",
       "      <td>-1.543008e+01</td>\n",
       "      <td>0.000000</td>\n",
       "      <td>0.000000</td>\n",
       "    </tr>\n",
       "    <tr>\n",
       "      <th>25%</th>\n",
       "      <td>54201.250000</td>\n",
       "      <td>-9.203734e-01</td>\n",
       "      <td>-5.985499e-01</td>\n",
       "      <td>-8.903648e-01</td>\n",
       "      <td>-8.486401e-01</td>\n",
       "      <td>-6.915971e-01</td>\n",
       "      <td>-7.682956e-01</td>\n",
       "      <td>-5.540759e-01</td>\n",
       "      <td>-2.086297e-01</td>\n",
       "      <td>-6.430976e-01</td>\n",
       "      <td>...</td>\n",
       "      <td>-2.283949e-01</td>\n",
       "      <td>-5.423504e-01</td>\n",
       "      <td>-1.618463e-01</td>\n",
       "      <td>-3.545861e-01</td>\n",
       "      <td>-3.171451e-01</td>\n",
       "      <td>-3.269839e-01</td>\n",
       "      <td>-7.083953e-02</td>\n",
       "      <td>-5.295979e-02</td>\n",
       "      <td>5.600000</td>\n",
       "      <td>0.000000</td>\n",
       "    </tr>\n",
       "    <tr>\n",
       "      <th>50%</th>\n",
       "      <td>84691.500000</td>\n",
       "      <td>1.810880e-02</td>\n",
       "      <td>6.548556e-02</td>\n",
       "      <td>1.798463e-01</td>\n",
       "      <td>-1.984653e-02</td>\n",
       "      <td>-5.433583e-02</td>\n",
       "      <td>-2.741871e-01</td>\n",
       "      <td>4.010308e-02</td>\n",
       "      <td>2.235804e-02</td>\n",
       "      <td>-5.142873e-02</td>\n",
       "      <td>...</td>\n",
       "      <td>-2.945017e-02</td>\n",
       "      <td>6.781943e-03</td>\n",
       "      <td>-1.119293e-02</td>\n",
       "      <td>4.097606e-02</td>\n",
       "      <td>1.659350e-02</td>\n",
       "      <td>-5.213911e-02</td>\n",
       "      <td>1.342146e-03</td>\n",
       "      <td>1.124383e-02</td>\n",
       "      <td>22.000000</td>\n",
       "      <td>0.000000</td>\n",
       "    </tr>\n",
       "    <tr>\n",
       "      <th>75%</th>\n",
       "      <td>139320.750000</td>\n",
       "      <td>1.315642e+00</td>\n",
       "      <td>8.037239e-01</td>\n",
       "      <td>1.027196e+00</td>\n",
       "      <td>7.433413e-01</td>\n",
       "      <td>6.119264e-01</td>\n",
       "      <td>3.985649e-01</td>\n",
       "      <td>5.704361e-01</td>\n",
       "      <td>3.273459e-01</td>\n",
       "      <td>5.971390e-01</td>\n",
       "      <td>...</td>\n",
       "      <td>1.863772e-01</td>\n",
       "      <td>5.285536e-01</td>\n",
       "      <td>1.476421e-01</td>\n",
       "      <td>4.395266e-01</td>\n",
       "      <td>3.507156e-01</td>\n",
       "      <td>2.409522e-01</td>\n",
       "      <td>9.104512e-02</td>\n",
       "      <td>7.827995e-02</td>\n",
       "      <td>77.165000</td>\n",
       "      <td>0.000000</td>\n",
       "    </tr>\n",
       "    <tr>\n",
       "      <th>max</th>\n",
       "      <td>172792.000000</td>\n",
       "      <td>2.454930e+00</td>\n",
       "      <td>2.205773e+01</td>\n",
       "      <td>9.382558e+00</td>\n",
       "      <td>1.687534e+01</td>\n",
       "      <td>3.480167e+01</td>\n",
       "      <td>7.330163e+01</td>\n",
       "      <td>1.205895e+02</td>\n",
       "      <td>2.000721e+01</td>\n",
       "      <td>1.559499e+01</td>\n",
       "      <td>...</td>\n",
       "      <td>2.720284e+01</td>\n",
       "      <td>1.050309e+01</td>\n",
       "      <td>2.252841e+01</td>\n",
       "      <td>4.584549e+00</td>\n",
       "      <td>7.519589e+00</td>\n",
       "      <td>3.517346e+00</td>\n",
       "      <td>3.161220e+01</td>\n",
       "      <td>3.384781e+01</td>\n",
       "      <td>25691.160000</td>\n",
       "      <td>1.000000</td>\n",
       "    </tr>\n",
       "  </tbody>\n",
       "</table>\n",
       "<p>8 rows × 31 columns</p>\n",
       "</div>"
      ],
      "text/plain": [
       "                Time            V1            V2            V3            V4  \\\n",
       "count  284806.000000  2.848070e+05  2.848070e+05  2.848070e+05  2.848070e+05   \n",
       "mean    94813.841366  3.918649e-15  5.682686e-16 -8.761736e-15  2.811118e-15   \n",
       "std     47488.228330  1.958696e+00  1.651309e+00  1.516255e+00  1.415869e+00   \n",
       "min         0.000000 -5.640751e+01 -7.271573e+01 -4.832559e+01 -5.683171e+00   \n",
       "25%     54201.250000 -9.203734e-01 -5.985499e-01 -8.903648e-01 -8.486401e-01   \n",
       "50%     84691.500000  1.810880e-02  6.548556e-02  1.798463e-01 -1.984653e-02   \n",
       "75%    139320.750000  1.315642e+00  8.037239e-01  1.027196e+00  7.433413e-01   \n",
       "max    172792.000000  2.454930e+00  2.205773e+01  9.382558e+00  1.687534e+01   \n",
       "\n",
       "                 V5            V6            V7            V8            V9  \\\n",
       "count  2.848070e+05  2.848070e+05  2.848070e+05  2.848070e+05  2.848070e+05   \n",
       "mean  -1.552103e-15  2.040130e-15 -1.698953e-15 -1.958151e-16 -3.147640e-15   \n",
       "std    1.380247e+00  1.332271e+00  1.237094e+00  1.194353e+00  1.098632e+00   \n",
       "min   -1.137433e+02 -2.616051e+01 -4.355724e+01 -7.321672e+01 -1.343407e+01   \n",
       "25%   -6.915971e-01 -7.682956e-01 -5.540759e-01 -2.086297e-01 -6.430976e-01   \n",
       "50%   -5.433583e-02 -2.741871e-01  4.010308e-02  2.235804e-02 -5.142873e-02   \n",
       "75%    6.119264e-01  3.985649e-01  5.704361e-01  3.273459e-01  5.971390e-01   \n",
       "max    3.480167e+01  7.330163e+01  1.205895e+02  2.000721e+01  1.559499e+01   \n",
       "\n",
       "       ...           V21           V22           V23           V24  \\\n",
       "count  ...  2.848070e+05  2.848070e+05  2.848070e+05  2.848070e+05   \n",
       "mean   ...  1.471982e-16  8.042109e-16  5.282450e-16  4.458267e-15   \n",
       "std    ...  7.345240e-01  7.257016e-01  6.244603e-01  6.056471e-01   \n",
       "min    ... -3.483038e+01 -1.093314e+01 -4.480774e+01 -2.836627e+00   \n",
       "25%    ... -2.283949e-01 -5.423504e-01 -1.618463e-01 -3.545861e-01   \n",
       "50%    ... -2.945017e-02  6.781943e-03 -1.119293e-02  4.097606e-02   \n",
       "75%    ...  1.863772e-01  5.285536e-01  1.476421e-01  4.395266e-01   \n",
       "max    ...  2.720284e+01  1.050309e+01  2.252841e+01  4.584549e+00   \n",
       "\n",
       "                V25           V26           V27           V28         Amount  \\\n",
       "count  2.848070e+05  2.848070e+05  2.848070e+05  2.848070e+05  284807.000000   \n",
       "mean   1.426896e-15  1.701640e-15 -3.671606e-16 -1.218152e-16      88.349619   \n",
       "std    5.212781e-01  4.822270e-01  4.036325e-01  3.300833e-01     250.120109   \n",
       "min   -1.029540e+01 -2.604551e+00 -2.256568e+01 -1.543008e+01       0.000000   \n",
       "25%   -3.171451e-01 -3.269839e-01 -7.083953e-02 -5.295979e-02       5.600000   \n",
       "50%    1.659350e-02 -5.213911e-02  1.342146e-03  1.124383e-02      22.000000   \n",
       "75%    3.507156e-01  2.409522e-01  9.104512e-02  7.827995e-02      77.165000   \n",
       "max    7.519589e+00  3.517346e+00  3.161220e+01  3.384781e+01   25691.160000   \n",
       "\n",
       "               Class  \n",
       "count  284807.000000  \n",
       "mean        0.001727  \n",
       "std         0.041527  \n",
       "min         0.000000  \n",
       "25%         0.000000  \n",
       "50%         0.000000  \n",
       "75%         0.000000  \n",
       "max         1.000000  \n",
       "\n",
       "[8 rows x 31 columns]"
      ]
     },
     "metadata": {},
     "output_type": "display_data"
    },
    {
     "data": {
      "text/html": [
       "<div>\n",
       "<style scoped>\n",
       "    .dataframe tbody tr th:only-of-type {\n",
       "        vertical-align: middle;\n",
       "    }\n",
       "\n",
       "    .dataframe tbody tr th {\n",
       "        vertical-align: top;\n",
       "    }\n",
       "\n",
       "    .dataframe thead th {\n",
       "        text-align: right;\n",
       "    }\n",
       "</style>\n",
       "<table border=\"1\" class=\"dataframe\">\n",
       "  <thead>\n",
       "    <tr style=\"text-align: right;\">\n",
       "      <th></th>\n",
       "      <th>Time</th>\n",
       "      <th>V1</th>\n",
       "      <th>V2</th>\n",
       "      <th>V3</th>\n",
       "      <th>V4</th>\n",
       "      <th>V5</th>\n",
       "      <th>V6</th>\n",
       "      <th>V7</th>\n",
       "      <th>V8</th>\n",
       "      <th>V9</th>\n",
       "      <th>...</th>\n",
       "      <th>V21</th>\n",
       "      <th>V22</th>\n",
       "      <th>V23</th>\n",
       "      <th>V24</th>\n",
       "      <th>V25</th>\n",
       "      <th>V26</th>\n",
       "      <th>V27</th>\n",
       "      <th>V28</th>\n",
       "      <th>Amount</th>\n",
       "      <th>Class</th>\n",
       "    </tr>\n",
       "  </thead>\n",
       "  <tbody>\n",
       "    <tr>\n",
       "      <th>0</th>\n",
       "      <td>0.0</td>\n",
       "      <td>-1.359807</td>\n",
       "      <td>-0.072781</td>\n",
       "      <td>2.536347</td>\n",
       "      <td>1.378155</td>\n",
       "      <td>-0.338321</td>\n",
       "      <td>0.462388</td>\n",
       "      <td>0.239599</td>\n",
       "      <td>0.098698</td>\n",
       "      <td>0.363787</td>\n",
       "      <td>...</td>\n",
       "      <td>-0.018307</td>\n",
       "      <td>0.277838</td>\n",
       "      <td>-0.110474</td>\n",
       "      <td>0.066928</td>\n",
       "      <td>0.128539</td>\n",
       "      <td>-0.189115</td>\n",
       "      <td>0.133558</td>\n",
       "      <td>-0.021053</td>\n",
       "      <td>149.62</td>\n",
       "      <td>0</td>\n",
       "    </tr>\n",
       "    <tr>\n",
       "      <th>1</th>\n",
       "      <td>0.0</td>\n",
       "      <td>1.191857</td>\n",
       "      <td>0.266151</td>\n",
       "      <td>0.166480</td>\n",
       "      <td>0.448154</td>\n",
       "      <td>0.060018</td>\n",
       "      <td>-0.082361</td>\n",
       "      <td>-0.078803</td>\n",
       "      <td>0.085102</td>\n",
       "      <td>-0.255425</td>\n",
       "      <td>...</td>\n",
       "      <td>-0.225775</td>\n",
       "      <td>-0.638672</td>\n",
       "      <td>0.101288</td>\n",
       "      <td>-0.339846</td>\n",
       "      <td>0.167170</td>\n",
       "      <td>0.125895</td>\n",
       "      <td>-0.008983</td>\n",
       "      <td>0.014724</td>\n",
       "      <td>2.69</td>\n",
       "      <td>0</td>\n",
       "    </tr>\n",
       "    <tr>\n",
       "      <th>2</th>\n",
       "      <td>1.0</td>\n",
       "      <td>-1.358354</td>\n",
       "      <td>-1.340163</td>\n",
       "      <td>1.773209</td>\n",
       "      <td>0.379780</td>\n",
       "      <td>-0.503198</td>\n",
       "      <td>1.800499</td>\n",
       "      <td>0.791461</td>\n",
       "      <td>0.247676</td>\n",
       "      <td>-1.514654</td>\n",
       "      <td>...</td>\n",
       "      <td>0.247998</td>\n",
       "      <td>0.771679</td>\n",
       "      <td>0.909412</td>\n",
       "      <td>-0.689281</td>\n",
       "      <td>-0.327642</td>\n",
       "      <td>-0.139097</td>\n",
       "      <td>-0.055353</td>\n",
       "      <td>-0.059752</td>\n",
       "      <td>378.66</td>\n",
       "      <td>0</td>\n",
       "    </tr>\n",
       "    <tr>\n",
       "      <th>3</th>\n",
       "      <td>1.0</td>\n",
       "      <td>-0.966272</td>\n",
       "      <td>-0.185226</td>\n",
       "      <td>1.792993</td>\n",
       "      <td>-0.863291</td>\n",
       "      <td>-0.010309</td>\n",
       "      <td>1.247203</td>\n",
       "      <td>0.237609</td>\n",
       "      <td>0.377436</td>\n",
       "      <td>-1.387024</td>\n",
       "      <td>...</td>\n",
       "      <td>-0.108300</td>\n",
       "      <td>0.005274</td>\n",
       "      <td>-0.190321</td>\n",
       "      <td>-1.175575</td>\n",
       "      <td>0.647376</td>\n",
       "      <td>-0.221929</td>\n",
       "      <td>0.062723</td>\n",
       "      <td>0.061458</td>\n",
       "      <td>123.50</td>\n",
       "      <td>0</td>\n",
       "    </tr>\n",
       "    <tr>\n",
       "      <th>4</th>\n",
       "      <td>2.0</td>\n",
       "      <td>-1.158233</td>\n",
       "      <td>0.877737</td>\n",
       "      <td>1.548718</td>\n",
       "      <td>0.403034</td>\n",
       "      <td>-0.407193</td>\n",
       "      <td>0.095921</td>\n",
       "      <td>0.592941</td>\n",
       "      <td>-0.270533</td>\n",
       "      <td>0.817739</td>\n",
       "      <td>...</td>\n",
       "      <td>-0.009431</td>\n",
       "      <td>0.798278</td>\n",
       "      <td>-0.137458</td>\n",
       "      <td>0.141267</td>\n",
       "      <td>-0.206010</td>\n",
       "      <td>0.502292</td>\n",
       "      <td>0.219422</td>\n",
       "      <td>0.215153</td>\n",
       "      <td>69.99</td>\n",
       "      <td>0</td>\n",
       "    </tr>\n",
       "  </tbody>\n",
       "</table>\n",
       "<p>5 rows × 31 columns</p>\n",
       "</div>"
      ],
      "text/plain": [
       "   Time        V1        V2        V3        V4        V5        V6        V7  \\\n",
       "0   0.0 -1.359807 -0.072781  2.536347  1.378155 -0.338321  0.462388  0.239599   \n",
       "1   0.0  1.191857  0.266151  0.166480  0.448154  0.060018 -0.082361 -0.078803   \n",
       "2   1.0 -1.358354 -1.340163  1.773209  0.379780 -0.503198  1.800499  0.791461   \n",
       "3   1.0 -0.966272 -0.185226  1.792993 -0.863291 -0.010309  1.247203  0.237609   \n",
       "4   2.0 -1.158233  0.877737  1.548718  0.403034 -0.407193  0.095921  0.592941   \n",
       "\n",
       "         V8        V9  ...       V21       V22       V23       V24       V25  \\\n",
       "0  0.098698  0.363787  ... -0.018307  0.277838 -0.110474  0.066928  0.128539   \n",
       "1  0.085102 -0.255425  ... -0.225775 -0.638672  0.101288 -0.339846  0.167170   \n",
       "2  0.247676 -1.514654  ...  0.247998  0.771679  0.909412 -0.689281 -0.327642   \n",
       "3  0.377436 -1.387024  ... -0.108300  0.005274 -0.190321 -1.175575  0.647376   \n",
       "4 -0.270533  0.817739  ... -0.009431  0.798278 -0.137458  0.141267 -0.206010   \n",
       "\n",
       "        V26       V27       V28  Amount  Class  \n",
       "0 -0.189115  0.133558 -0.021053  149.62      0  \n",
       "1  0.125895 -0.008983  0.014724    2.69      0  \n",
       "2 -0.139097 -0.055353 -0.059752  378.66      0  \n",
       "3 -0.221929  0.062723  0.061458  123.50      0  \n",
       "4  0.502292  0.219422  0.215153   69.99      0  \n",
       "\n",
       "[5 rows x 31 columns]"
      ]
     },
     "metadata": {},
     "output_type": "display_data"
    }
   ],
   "source": [
    "# Try to load the dataset from the Workspace. Otherwise, create it from the file\n",
    "# NOTE: update the key to match the dataset name\n",
    "found = False\n",
    "key = \"fraud-capstone\"\n",
    "description_text = \"Credit Card Fraud Detection Data\"\n",
    "\n",
    "if key in ws.datasets.keys(): \n",
    "        found = True\n",
    "        dataset = ws.datasets[key] \n",
    "\n",
    "# if not found:\n",
    "#         # Create AML Dataset and register it into Workspace\n",
    "#         example_data = 'https://drive.google.com/file/d/1qEMDzGfw-iT4H127-ph3h_gmUfrSocpQ/view?usp=sharing'\n",
    "#         dataset = Dataset.Tabular.from_delimited_files(example_data)        \n",
    "#         #Register Dataset in Workspace\n",
    "#         dataset = dataset.register(workspace=ws,\n",
    "#                                    name=key,\n",
    "#                                    description=description_text)\n",
    "\n",
    "\n",
    "df = dataset.to_pandas_dataframe()\n",
    "display(df.describe())\n",
    "display(df.head())"
   ]
  },
  {
   "cell_type": "markdown",
   "metadata": {},
   "source": [
    "## AutoML Configuration\n",
    "\n",
    "TODO: Explain why you chose the automl settings and cofiguration you used below.\n",
    "\n",
    "I am giving the experiment a timeout after 30 minutes <br>\n",
    "It can run up to 5 Runs at the same time <br>\n",
    "Because the dataset is highly imbalanced we use AUC and its weighted <br>\n",
    "The problem is a binary classification <br>\n",
    "XGboostClassifier was giving me an error so I removed it <br>"
   ]
  },
  {
   "cell_type": "code",
   "execution_count": 5,
   "metadata": {
    "gather": {
     "logged": 1618178077178
    },
    "jupyter": {
     "outputs_hidden": false,
     "source_hidden": false
    },
    "nteract": {
     "transient": {
      "deleting": false
     }
    }
   },
   "outputs": [],
   "source": [
    "# TODO: Put your automl settings here\n",
    "automl_settings = {\n",
    "    \"experiment_timeout_minutes\": 30,\n",
    "    \"max_concurrent_iterations\": 5,\n",
    "    \"primary_metric\" : 'AUC_weighted'\n",
    "}\n",
    "\n",
    "# TODO: Put your automl config here\n",
    "automl_config = AutoMLConfig(compute_target=compute_target,\n",
    "                             task = \"classification\",\n",
    "                             training_data=dataset,\n",
    "                             label_column_name=\"Class\",   \n",
    "                             enable_early_stopping= True,\n",
    "                             featurization= 'auto',\n",
    "                             debug_log = \"automl_errors.log\",\n",
    "                             blocked_models=[\"XGBoostClassifier\"],\n",
    "                             **automl_settings\n",
    "                            )"
   ]
  },
  {
   "cell_type": "code",
   "execution_count": 6,
   "metadata": {
    "gather": {
     "logged": 1618178085926
    },
    "jupyter": {
     "outputs_hidden": false,
     "source_hidden": false
    },
    "nteract": {
     "transient": {
      "deleting": false
     }
    }
   },
   "outputs": [
    {
     "name": "stdout",
     "output_type": "stream",
     "text": [
      "Submitting remote run.\n"
     ]
    },
    {
     "data": {
      "text/html": [
       "<table style=\"width:100%\"><tr><th>Experiment</th><th>Id</th><th>Type</th><th>Status</th><th>Details Page</th><th>Docs Page</th></tr><tr><td>capstone-fraud-credit-exp</td><td>AutoML_fc4b5e57-5118-47f6-8be5-a071c1743d21</td><td>automl</td><td>NotStarted</td><td><a href=\"https://ml.azure.com/runs/AutoML_fc4b5e57-5118-47f6-8be5-a071c1743d21?wsid=/subscriptions/a24a24d5-8d87-4c8a-99b6-91ed2d2df51f/resourcegroups/aml-quickstarts-142803/workspaces/quick-starts-ws-142803&amp;tid=660b3398-b80e-49d2-bc5b-ac1dc93b5254\" target=\"_blank\" rel=\"noopener\">Link to Azure Machine Learning studio</a></td><td><a href=\"https://docs.microsoft.com/en-us/python/api/overview/azure/ml/intro?view=azure-ml-py\" target=\"_blank\" rel=\"noopener\">Link to Documentation</a></td></tr></table>"
      ],
      "text/plain": [
       "<IPython.core.display.HTML object>"
      ]
     },
     "metadata": {},
     "output_type": "display_data"
    }
   ],
   "source": [
    "# TODO: Submit your experiment\n",
    "remote_run = experiment.submit(automl_config)"
   ]
  },
  {
   "cell_type": "markdown",
   "metadata": {},
   "source": [
    "## Run Details\n",
    "\n",
    "OPTIONAL: Write about the different models trained and their performance. Why do you think some models did better than others?\n",
    "\n",
    "TODO: In the cell below, use the `RunDetails` widget to show the different experiments."
   ]
  },
  {
   "cell_type": "code",
   "execution_count": 7,
   "metadata": {
    "gather": {
     "logged": 1618178638116
    },
    "jupyter": {
     "outputs_hidden": false,
     "source_hidden": false
    },
    "nteract": {
     "transient": {
      "deleting": false
     }
    }
   },
   "outputs": [
    {
     "data": {
      "application/vnd.jupyter.widget-view+json": {
       "model_id": "e633d5c308304c52ab0739daa93256fe",
       "version_major": 2,
       "version_minor": 0
      },
      "text/plain": [
       "_AutoMLWidget(widget_settings={'childWidgetDisplay': 'popup', 'send_telemetry': False, 'log_level': 'INFO', 's…"
      ]
     },
     "metadata": {},
     "output_type": "display_data"
    },
    {
     "data": {
      "application/aml.mini.widget.v1": "{\"status\": \"Completed\", \"workbench_run_details_uri\": \"https://ml.azure.com/runs/AutoML_fc4b5e57-5118-47f6-8be5-a071c1743d21?wsid=/subscriptions/a24a24d5-8d87-4c8a-99b6-91ed2d2df51f/resourcegroups/aml-quickstarts-142803/workspaces/quick-starts-ws-142803&tid=660b3398-b80e-49d2-bc5b-ac1dc93b5254\", \"run_id\": \"AutoML_fc4b5e57-5118-47f6-8be5-a071c1743d21\", \"run_properties\": {\"run_id\": \"AutoML_fc4b5e57-5118-47f6-8be5-a071c1743d21\", \"created_utc\": \"2021-04-15T21:25:55.801237Z\", \"properties\": {\"num_iterations\": \"1000\", \"training_type\": \"TrainFull\", \"acquisition_function\": \"EI\", \"primary_metric\": \"AUC_weighted\", \"train_split\": \"0\", \"acquisition_parameter\": \"0\", \"num_cross_validation\": null, \"target\": \"auto-ml\", \"AMLSettingsJsonString\": \"{\\\"path\\\":null,\\\"name\\\":\\\"capstone-fraud-credit-exp\\\",\\\"subscription_id\\\":\\\"a24a24d5-8d87-4c8a-99b6-91ed2d2df51f\\\",\\\"resource_group\\\":\\\"aml-quickstarts-142803\\\",\\\"workspace_name\\\":\\\"quick-starts-ws-142803\\\",\\\"region\\\":\\\"southcentralus\\\",\\\"compute_target\\\":\\\"auto-ml\\\",\\\"spark_service\\\":null,\\\"azure_service\\\":\\\"remote\\\",\\\"many_models\\\":false,\\\"pipeline_fetch_max_batch_size\\\":1,\\\"enable_batch_run\\\":false,\\\"enable_run_restructure\\\":false,\\\"iterations\\\":1000,\\\"primary_metric\\\":\\\"AUC_weighted\\\",\\\"task_type\\\":\\\"classification\\\",\\\"data_script\\\":null,\\\"test_size\\\":0.0,\\\"validation_size\\\":0.0,\\\"n_cross_validations\\\":null,\\\"y_min\\\":null,\\\"y_max\\\":null,\\\"num_classes\\\":null,\\\"featurization\\\":\\\"auto\\\",\\\"_ignore_package_version_incompatibilities\\\":false,\\\"is_timeseries\\\":false,\\\"max_cores_per_iteration\\\":1,\\\"max_concurrent_iterations\\\":5,\\\"iteration_timeout_minutes\\\":null,\\\"mem_in_mb\\\":null,\\\"enforce_time_on_windows\\\":false,\\\"experiment_timeout_minutes\\\":30,\\\"experiment_exit_score\\\":null,\\\"whitelist_models\\\":null,\\\"blacklist_algos\\\":[\\\"XGBoostClassifier\\\",\\\"TensorFlowLinearClassifier\\\",\\\"TensorFlowDNN\\\"],\\\"supported_models\\\":[\\\"SGD\\\",\\\"DecisionTree\\\",\\\"KNN\\\",\\\"XGBoostClassifier\\\",\\\"LightGBM\\\",\\\"TensorFlowLinearClassifier\\\",\\\"LogisticRegression\\\",\\\"SVM\\\",\\\"GradientBoosting\\\",\\\"AveragedPerceptronClassifier\\\",\\\"ExtremeRandomTrees\\\",\\\"LinearSVM\\\",\\\"RandomForest\\\",\\\"BernoulliNaiveBayes\\\",\\\"MultinomialNaiveBayes\\\",\\\"TensorFlowDNN\\\"],\\\"private_models\\\":[],\\\"auto_blacklist\\\":true,\\\"blacklist_samples_reached\\\":false,\\\"exclude_nan_labels\\\":true,\\\"verbosity\\\":20,\\\"_debug_log\\\":\\\"azureml_automl.log\\\",\\\"show_warnings\\\":false,\\\"model_explainability\\\":true,\\\"service_url\\\":null,\\\"sdk_url\\\":null,\\\"sdk_packages\\\":null,\\\"enable_onnx_compatible_models\\\":false,\\\"enable_split_onnx_featurizer_estimator_models\\\":false,\\\"vm_type\\\":\\\"STANDARD_DS12_V2\\\",\\\"telemetry_verbosity\\\":20,\\\"send_telemetry\\\":true,\\\"enable_dnn\\\":false,\\\"scenario\\\":\\\"SDK-1.13.0\\\",\\\"environment_label\\\":null,\\\"save_mlflow\\\":false,\\\"force_text_dnn\\\":false,\\\"enable_feature_sweeping\\\":true,\\\"enable_early_stopping\\\":true,\\\"early_stopping_n_iters\\\":10,\\\"metrics\\\":null,\\\"enable_metric_confidence\\\":false,\\\"enable_ensembling\\\":true,\\\"enable_stack_ensembling\\\":true,\\\"ensemble_iterations\\\":15,\\\"enable_tf\\\":false,\\\"enable_subsampling\\\":null,\\\"subsample_seed\\\":null,\\\"enable_nimbusml\\\":false,\\\"enable_streaming\\\":false,\\\"force_streaming\\\":false,\\\"track_child_runs\\\":true,\\\"allowed_private_models\\\":[],\\\"label_column_name\\\":\\\"Class\\\",\\\"weight_column_name\\\":null,\\\"cv_split_column_names\\\":null,\\\"enable_local_managed\\\":false,\\\"_local_managed_run_id\\\":null,\\\"cost_mode\\\":1,\\\"lag_length\\\":0,\\\"metric_operation\\\":\\\"maximize\\\",\\\"preprocess\\\":true}\", \"DataPrepJsonString\": \"{\\\\\\\"training_data\\\\\\\": {\\\\\\\"datasetId\\\\\\\": \\\\\\\"4c9b3f24-0d59-4566-b3ec-7205dd25bf24\\\\\\\"}, \\\\\\\"datasets\\\\\\\": 0}\", \"EnableSubsampling\": null, \"runTemplate\": \"AutoML\", \"azureml.runsource\": \"automl\", \"display_task_type\": \"classification\", \"dependencies_versions\": \"{\\\"azureml-widgets\\\": \\\"1.26.0\\\", \\\"azureml-train\\\": \\\"1.26.0\\\", \\\"azureml-train-restclients-hyperdrive\\\": \\\"1.26.0\\\", \\\"azureml-train-core\\\": \\\"1.26.0\\\", \\\"azureml-train-automl\\\": \\\"1.26.0\\\", \\\"azureml-train-automl-runtime\\\": \\\"1.26.0\\\", \\\"azureml-train-automl-client\\\": \\\"1.26.0\\\", \\\"azureml-tensorboard\\\": \\\"1.26.0\\\", \\\"azureml-telemetry\\\": \\\"1.26.0\\\", \\\"azureml-sdk\\\": \\\"1.26.0\\\", \\\"azureml-samples\\\": \\\"0+unknown\\\", \\\"azureml-pipeline\\\": \\\"1.26.0\\\", \\\"azureml-pipeline-steps\\\": \\\"1.26.0\\\", \\\"azureml-pipeline-core\\\": \\\"1.26.0\\\", \\\"azureml-opendatasets\\\": \\\"1.26.0\\\", \\\"azureml-model-management-sdk\\\": \\\"1.0.1b6.post1\\\", \\\"azureml-mlflow\\\": \\\"1.26.0\\\", \\\"azureml-interpret\\\": \\\"1.26.0\\\", \\\"azureml-explain-model\\\": \\\"1.26.0\\\", \\\"azureml-defaults\\\": \\\"1.26.0\\\", \\\"azureml-dataset-runtime\\\": \\\"1.26.0\\\", \\\"azureml-dataprep\\\": \\\"2.13.2\\\", \\\"azureml-dataprep-rslex\\\": \\\"1.11.2\\\", \\\"azureml-dataprep-native\\\": \\\"32.0.0\\\", \\\"azureml-datadrift\\\": \\\"1.26.0\\\", \\\"azureml-core\\\": \\\"1.26.0\\\", \\\"azureml-contrib-services\\\": \\\"1.26.0\\\", \\\"azureml-contrib-server\\\": \\\"1.26.0\\\", \\\"azureml-contrib-reinforcementlearning\\\": \\\"1.26.0\\\", \\\"azureml-contrib-pipeline-steps\\\": \\\"1.26.0\\\", \\\"azureml-contrib-notebook\\\": \\\"1.26.0\\\", \\\"azureml-contrib-gbdt\\\": \\\"1.26.0\\\", \\\"azureml-contrib-fairness\\\": \\\"1.26.0\\\", \\\"azureml-contrib-dataset\\\": \\\"1.26.0\\\", \\\"azureml-cli-common\\\": \\\"1.26.0\\\", \\\"azureml-automl-runtime\\\": \\\"1.26.0\\\", \\\"azureml-automl-dnn-nlp\\\": \\\"1.26.0\\\", \\\"azureml-automl-core\\\": \\\"1.26.0\\\", \\\"azureml-accel-models\\\": \\\"1.26.0\\\"}\", \"_aml_system_scenario_identification\": \"Remote.Parent\", \"ClientType\": \"SDK\", \"environment_cpu_name\": \"AzureML-AutoML\", \"environment_cpu_label\": \"prod\", \"environment_gpu_name\": \"AzureML-AutoML-GPU\", \"environment_gpu_label\": \"prod\", \"root_attribution\": \"automl\", \"attribution\": \"AutoML\", \"Orchestrator\": \"AutoML\", \"CancelUri\": \"https://southcentralus.experiments.azureml.net/jasmine/v1.0/subscriptions/a24a24d5-8d87-4c8a-99b6-91ed2d2df51f/resourceGroups/aml-quickstarts-142803/providers/Microsoft.MachineLearningServices/workspaces/quick-starts-ws-142803/experimentids/d67e14df-0f27-4690-9272-f177d8acfc07/cancel/AutoML_fc4b5e57-5118-47f6-8be5-a071c1743d21\", \"ClientSdkVersion\": \"1.25.0\", \"snapshotId\": \"00000000-0000-0000-0000-000000000000\", \"SetupRunId\": \"AutoML_fc4b5e57-5118-47f6-8be5-a071c1743d21_setup\", \"SetupRunContainerId\": \"dcid.AutoML_fc4b5e57-5118-47f6-8be5-a071c1743d21_setup\", \"FeaturizationRunJsonPath\": \"featurizer_container.json\", \"FeaturizationRunId\": \"AutoML_fc4b5e57-5118-47f6-8be5-a071c1743d21_featurize\", \"ProblemInfoJsonString\": \"{\\\"dataset_num_categorical\\\": 0, \\\"is_sparse\\\": false, \\\"subsampling\\\": false, \\\"dataset_classes\\\": 2, \\\"dataset_features\\\": 30, \\\"dataset_samples\\\": 256326, \\\"single_frequency_class_detected\\\": false}\", \"ModelExplainRunId\": \"AutoML_fc4b5e57-5118-47f6-8be5-a071c1743d21_ModelExplain\"}, \"tags\": {\"model_explain_run\": \"best_run\", \"_aml_system_azureml.automlComponent\": \"AutoML\", \"pipeline_id\": \"\", \"score\": \"\", \"predicted_cost\": \"\", \"fit_time\": \"\", \"training_percent\": \"\", \"iteration\": \"\", \"run_preprocessor\": \"\", \"run_algorithm\": \"\", \"dynamic_whitelisting_iterations\": \"<25>;<30>;<35>;\", \"automl_best_child_run_id\": \"AutoML_fc4b5e57-5118-47f6-8be5-a071c1743d21_38\", \"model_explain_best_run_child_id\": \"AutoML_fc4b5e57-5118-47f6-8be5-a071c1743d21_38\"}, \"end_time_utc\": \"2021-04-15T21:51:57.821212Z\", \"status\": \"Completed\", \"log_files\": {}, \"log_groups\": [], \"run_duration\": \"0:26:02\", \"run_number\": \"1\", \"run_queued_details\": {\"status\": \"Completed\", \"details\": null}}, \"child_runs\": [{\"run_id\": \"AutoML_fc4b5e57-5118-47f6-8be5-a071c1743d21_0\", \"run_number\": 5, \"metric\": null, \"status\": \"Completed\", \"run_type\": \"azureml.scriptrun\", \"training_percent\": \"100\", \"start_time\": \"2021-04-15T21:37:48.208859Z\", \"end_time\": \"2021-04-15T21:40:02.31021Z\", \"created_time\": \"2021-04-15T21:35:02.7688Z\", \"created_time_dt\": \"2021-04-15T21:35:02.7688Z\", \"duration\": \"0:04:59\", \"iteration\": \"0\", \"goal\": \"AUC_weighted_max\", \"run_name\": \"MaxAbsScaler, LightGBM\", \"run_properties\": \"copy=True\", \"primary_metric\": 0.92515188, \"best_metric\": 0.92515188}, {\"run_id\": \"AutoML_fc4b5e57-5118-47f6-8be5-a071c1743d21_4\", \"run_number\": 6, \"metric\": null, \"status\": \"Completed\", \"run_type\": \"azureml.scriptrun\", \"training_percent\": \"100\", \"start_time\": \"2021-04-15T21:35:20.737073Z\", \"end_time\": \"2021-04-15T21:36:30.044986Z\", \"created_time\": \"2021-04-15T21:35:02.789081Z\", \"created_time_dt\": \"2021-04-15T21:35:02.789081Z\", \"duration\": \"0:01:27\", \"iteration\": \"4\", \"goal\": \"AUC_weighted_max\", \"run_name\": \"MinMaxScaler, RandomForest\", \"run_properties\": \"copy=True, feature_range=(0, 1\", \"primary_metric\": 0.96506344, \"best_metric\": 0.97786556}, {\"run_id\": \"AutoML_fc4b5e57-5118-47f6-8be5-a071c1743d21_2\", \"run_number\": 7, \"metric\": null, \"status\": \"Completed\", \"run_type\": \"azureml.scriptrun\", \"training_percent\": \"100\", \"start_time\": \"2021-04-15T21:37:43.66766Z\", \"end_time\": \"2021-04-15T21:39:41.801017Z\", \"created_time\": \"2021-04-15T21:35:02.814728Z\", \"created_time_dt\": \"2021-04-15T21:35:02.814728Z\", \"duration\": \"0:04:38\", \"iteration\": \"2\", \"goal\": \"AUC_weighted_max\", \"run_name\": \"RobustScaler, ExtremeRandomTrees\", \"run_properties\": \"copy=True, quantile_range=[10, 90], with_centering=False,\\n             with_scaling=False\", \"primary_metric\": 0.96517326, \"best_metric\": 0.96517326}, {\"run_id\": \"AutoML_fc4b5e57-5118-47f6-8be5-a071c1743d21_3\", \"run_number\": 8, \"metric\": null, \"status\": \"Completed\", \"run_type\": \"azureml.scriptrun\", \"training_percent\": \"100\", \"start_time\": \"2021-04-15T21:36:45.443465Z\", \"end_time\": \"2021-04-15T21:38:05.333433Z\", \"created_time\": \"2021-04-15T21:35:02.827396Z\", \"created_time_dt\": \"2021-04-15T21:35:02.827396Z\", \"duration\": \"0:03:02\", \"iteration\": \"3\", \"goal\": \"AUC_weighted_max\", \"run_name\": \"MinMaxScaler, RandomForest\", \"run_properties\": \"copy=True, feature_range=(0, 1\", \"primary_metric\": 0.97786556, \"best_metric\": 0.97786556}, {\"run_id\": \"AutoML_fc4b5e57-5118-47f6-8be5-a071c1743d21_1\", \"run_number\": 9, \"metric\": null, \"status\": \"Completed\", \"run_type\": \"azureml.scriptrun\", \"training_percent\": \"100\", \"start_time\": \"2021-04-15T21:37:44.536827Z\", \"end_time\": \"2021-04-15T21:39:50.832813Z\", \"created_time\": \"2021-04-15T21:35:03.182096Z\", \"created_time_dt\": \"2021-04-15T21:35:03.182096Z\", \"duration\": \"0:04:47\", \"iteration\": \"1\", \"goal\": \"AUC_weighted_max\", \"run_name\": \"MinMaxScaler, RandomForest\", \"run_properties\": \"copy=True, feature_range=(0, 1\", \"primary_metric\": 0.9566811, \"best_metric\": 0.9566811}, {\"run_id\": \"AutoML_fc4b5e57-5118-47f6-8be5-a071c1743d21_5\", \"run_number\": 10, \"metric\": null, \"status\": \"Completed\", \"run_type\": \"azureml.scriptrun\", \"training_percent\": \"100\", \"start_time\": \"2021-04-15T21:37:46.666361Z\", \"end_time\": \"2021-04-15T21:39:57.427288Z\", \"created_time\": \"2021-04-15T21:36:35.131328Z\", \"created_time_dt\": \"2021-04-15T21:36:35.131328Z\", \"duration\": \"0:03:22\", \"iteration\": \"5\", \"goal\": \"AUC_weighted_max\", \"run_name\": \"StandardScalerWrapper, RandomForest\", \"run_properties\": \"<azureml.automl.runtime.shared.model_wrappers.StandardScalerWrapper object at 0x7f0ac67a5eb8\", \"primary_metric\": 0.96314156, \"best_metric\": 0.97786556}, {\"run_id\": \"AutoML_fc4b5e57-5118-47f6-8be5-a071c1743d21_6\", \"run_number\": 11, \"metric\": null, \"status\": \"Completed\", \"run_type\": \"azureml.scriptrun\", \"training_percent\": \"100\", \"start_time\": \"2021-04-15T21:38:23.40968Z\", \"end_time\": \"2021-04-15T21:39:30.298318Z\", \"created_time\": \"2021-04-15T21:38:09.7677Z\", \"created_time_dt\": \"2021-04-15T21:38:09.7677Z\", \"duration\": \"0:01:20\", \"iteration\": \"6\", \"goal\": \"AUC_weighted_max\", \"run_name\": \"MinMaxScaler, ExtremeRandomTrees\", \"run_properties\": \"copy=True, feature_range=(0, 1\", \"primary_metric\": 0.94500843, \"best_metric\": 0.97786556}, {\"run_id\": \"AutoML_fc4b5e57-5118-47f6-8be5-a071c1743d21_7\", \"run_number\": 12, \"metric\": null, \"status\": \"Completed\", \"run_type\": \"azureml.scriptrun\", \"training_percent\": \"100\", \"start_time\": \"2021-04-15T21:39:51.195162Z\", \"end_time\": \"2021-04-15T21:40:55.045913Z\", \"created_time\": \"2021-04-15T21:39:35.059192Z\", \"created_time_dt\": \"2021-04-15T21:39:35.059192Z\", \"duration\": \"0:01:19\", \"iteration\": \"7\", \"goal\": \"AUC_weighted_max\", \"run_name\": \"MinMaxScaler, ExtremeRandomTrees\", \"run_properties\": \"copy=True, feature_range=(0, 1\", \"primary_metric\": 0.97234863, \"best_metric\": 0.97786556}, {\"run_id\": \"AutoML_fc4b5e57-5118-47f6-8be5-a071c1743d21_8\", \"run_number\": 13, \"metric\": null, \"status\": \"Completed\", \"run_type\": \"azureml.scriptrun\", \"training_percent\": \"100\", \"start_time\": \"2021-04-15T21:40:02.125148Z\", \"end_time\": \"2021-04-15T21:41:10.945941Z\", \"created_time\": \"2021-04-15T21:39:46.348431Z\", \"created_time_dt\": \"2021-04-15T21:39:46.348431Z\", \"duration\": \"0:01:24\", \"iteration\": \"8\", \"goal\": \"AUC_weighted_max\", \"run_name\": \"MinMaxScaler, ExtremeRandomTrees\", \"run_properties\": \"copy=True, feature_range=(0, 1\", \"primary_metric\": 0.96392574, \"best_metric\": 0.97786556}, {\"run_id\": \"AutoML_fc4b5e57-5118-47f6-8be5-a071c1743d21_9\", \"run_number\": 14, \"metric\": null, \"status\": \"Completed\", \"run_type\": \"azureml.scriptrun\", \"training_percent\": \"100\", \"start_time\": \"2021-04-15T21:40:07.090437Z\", \"end_time\": \"2021-04-15T21:41:00.251662Z\", \"created_time\": \"2021-04-15T21:39:54.459358Z\", \"created_time_dt\": \"2021-04-15T21:39:54.459358Z\", \"duration\": \"0:01:05\", \"iteration\": \"9\", \"goal\": \"AUC_weighted_max\", \"run_name\": \"RobustScaler, ExtremeRandomTrees\", \"run_properties\": \"copy=True, quantile_range=[10, 90], with_centering=True,\\n             with_scaling=False\", \"primary_metric\": 0.96665944, \"best_metric\": 0.97786556}, {\"run_id\": \"AutoML_fc4b5e57-5118-47f6-8be5-a071c1743d21_10\", \"run_number\": 15, \"metric\": null, \"status\": \"Completed\", \"run_type\": \"azureml.scriptrun\", \"training_percent\": \"100\", \"start_time\": \"2021-04-15T21:40:16.188025Z\", \"end_time\": \"2021-04-15T21:41:55.649773Z\", \"created_time\": \"2021-04-15T21:40:01.455534Z\", \"created_time_dt\": \"2021-04-15T21:40:01.455534Z\", \"duration\": \"0:01:54\", \"iteration\": \"10\", \"goal\": \"AUC_weighted_max\", \"run_name\": \"StandardScalerWrapper, RandomForest\", \"run_properties\": \"<azureml.automl.runtime.shared.model_wrappers.StandardScalerWrapper object at 0x7fda54ada588\", \"primary_metric\": 0.96665083, \"best_metric\": 0.97786556}, {\"run_id\": \"AutoML_fc4b5e57-5118-47f6-8be5-a071c1743d21_11\", \"run_number\": 16, \"metric\": null, \"status\": \"Completed\", \"run_type\": \"azureml.scriptrun\", \"training_percent\": \"100\", \"start_time\": \"2021-04-15T21:40:21.044661Z\", \"end_time\": \"2021-04-15T21:41:17.574349Z\", \"created_time\": \"2021-04-15T21:40:07.970465Z\", \"created_time_dt\": \"2021-04-15T21:40:07.970465Z\", \"duration\": \"0:01:09\", \"iteration\": \"11\", \"goal\": \"AUC_weighted_max\", \"run_name\": \"StandardScalerWrapper, SGD\", \"run_properties\": \"<azureml.automl.runtime.shared.model_wrappers.StandardScalerWrapper object at 0x7f98b38e4be0\", \"primary_metric\": 0.95601711, \"best_metric\": 0.97786556}, {\"run_id\": \"AutoML_fc4b5e57-5118-47f6-8be5-a071c1743d21_12\", \"run_number\": 17, \"metric\": null, \"status\": \"Completed\", \"run_type\": \"azureml.scriptrun\", \"training_percent\": \"100\", \"start_time\": \"2021-04-15T21:41:13.197364Z\", \"end_time\": \"2021-04-15T21:42:18.457697Z\", \"created_time\": \"2021-04-15T21:40:59.50905Z\", \"created_time_dt\": \"2021-04-15T21:40:59.50905Z\", \"duration\": \"0:01:18\", \"iteration\": \"12\", \"goal\": \"AUC_weighted_max\", \"run_name\": \"RobustScaler, RandomForest\", \"run_properties\": \"copy=True, quantile_range=[10, 90], with_centering=True,\\n             with_scaling=False\", \"primary_metric\": 0.96606978, \"best_metric\": 0.97786556}, {\"run_id\": \"AutoML_fc4b5e57-5118-47f6-8be5-a071c1743d21_13\", \"run_number\": 18, \"metric\": null, \"status\": \"Completed\", \"run_type\": \"azureml.scriptrun\", \"training_percent\": \"100\", \"start_time\": \"2021-04-15T21:41:17.235552Z\", \"end_time\": \"2021-04-15T21:42:17.220456Z\", \"created_time\": \"2021-04-15T21:41:06.72751Z\", \"created_time_dt\": \"2021-04-15T21:41:06.72751Z\", \"duration\": \"0:01:10\", \"iteration\": \"13\", \"goal\": \"AUC_weighted_max\", \"run_name\": \"MinMaxScaler, RandomForest\", \"run_properties\": \"copy=True, feature_range=(0, 1\", \"primary_metric\": 0.95941588, \"best_metric\": 0.97786556}, {\"run_id\": \"AutoML_fc4b5e57-5118-47f6-8be5-a071c1743d21_14\", \"run_number\": 19, \"metric\": null, \"status\": \"Completed\", \"run_type\": \"azureml.scriptrun\", \"training_percent\": \"100\", \"start_time\": \"2021-04-15T21:41:30.218234Z\", \"end_time\": \"2021-04-15T21:42:32.26623Z\", \"created_time\": \"2021-04-15T21:41:15.767546Z\", \"created_time_dt\": \"2021-04-15T21:41:15.767546Z\", \"duration\": \"0:01:16\", \"iteration\": \"14\", \"goal\": \"AUC_weighted_max\", \"run_name\": \"MinMaxScaler, ExtremeRandomTrees\", \"run_properties\": \"copy=True, feature_range=(0, 1\", \"primary_metric\": 0.95251075, \"best_metric\": 0.97786556}, {\"run_id\": \"AutoML_fc4b5e57-5118-47f6-8be5-a071c1743d21_15\", \"run_number\": 20, \"metric\": null, \"status\": \"Completed\", \"run_type\": \"azureml.scriptrun\", \"training_percent\": \"100\", \"start_time\": \"2021-04-15T21:41:38.34781Z\", \"end_time\": \"2021-04-15T21:42:44.795Z\", \"created_time\": \"2021-04-15T21:41:23.212774Z\", \"created_time_dt\": \"2021-04-15T21:41:23.212774Z\", \"duration\": \"0:01:21\", \"iteration\": \"15\", \"goal\": \"AUC_weighted_max\", \"run_name\": \"MinMaxScaler, RandomForest\", \"run_properties\": \"copy=True, feature_range=(0, 1\", \"primary_metric\": 0.95927627, \"best_metric\": 0.97786556}, {\"run_id\": \"AutoML_fc4b5e57-5118-47f6-8be5-a071c1743d21_16\", \"run_number\": 21, \"metric\": null, \"status\": \"Completed\", \"run_type\": \"azureml.scriptrun\", \"training_percent\": \"100\", \"start_time\": \"2021-04-15T21:42:13.755326Z\", \"end_time\": \"2021-04-15T21:43:10.135472Z\", \"created_time\": \"2021-04-15T21:41:59.664696Z\", \"created_time_dt\": \"2021-04-15T21:41:59.664696Z\", \"duration\": \"0:01:10\", \"iteration\": \"16\", \"goal\": \"AUC_weighted_max\", \"run_name\": \"MinMaxScaler, RandomForest\", \"run_properties\": \"copy=True, feature_range=(0, 1\", \"primary_metric\": 0.97265262, \"best_metric\": 0.97786556}, {\"run_id\": \"AutoML_fc4b5e57-5118-47f6-8be5-a071c1743d21_17\", \"run_number\": 22, \"metric\": null, \"status\": \"Completed\", \"run_type\": \"azureml.scriptrun\", \"training_percent\": \"100\", \"start_time\": \"2021-04-15T21:42:33.40924Z\", \"end_time\": \"2021-04-15T21:43:40.905877Z\", \"created_time\": \"2021-04-15T21:42:21.526144Z\", \"created_time_dt\": \"2021-04-15T21:42:21.526144Z\", \"duration\": \"0:01:19\", \"iteration\": \"17\", \"goal\": \"AUC_weighted_max\", \"run_name\": \"MaxAbsScaler, RandomForest\", \"run_properties\": \"copy=True\", \"primary_metric\": 0.96679869, \"best_metric\": 0.97786556}, {\"run_id\": \"AutoML_fc4b5e57-5118-47f6-8be5-a071c1743d21_18\", \"run_number\": 23, \"metric\": null, \"status\": \"Completed\", \"run_type\": \"azureml.scriptrun\", \"training_percent\": \"100\", \"start_time\": \"2021-04-15T21:42:42.47411Z\", \"end_time\": \"2021-04-15T21:43:54.814618Z\", \"created_time\": \"2021-04-15T21:42:29.978203Z\", \"created_time_dt\": \"2021-04-15T21:42:29.978203Z\", \"duration\": \"0:01:24\", \"iteration\": \"18\", \"goal\": \"AUC_weighted_max\", \"run_name\": \"MaxAbsScaler, RandomForest\", \"run_properties\": \"copy=True\", \"primary_metric\": 0.96301954, \"best_metric\": 0.97786556}, {\"run_id\": \"AutoML_fc4b5e57-5118-47f6-8be5-a071c1743d21_19\", \"run_number\": 24, \"metric\": null, \"status\": \"Completed\", \"run_type\": \"azureml.scriptrun\", \"training_percent\": \"100\", \"start_time\": \"2021-04-15T21:42:53.891411Z\", \"end_time\": \"2021-04-15T21:43:48.18936Z\", \"created_time\": \"2021-04-15T21:42:42.328067Z\", \"created_time_dt\": \"2021-04-15T21:42:42.328067Z\", \"duration\": \"0:01:05\", \"iteration\": \"19\", \"goal\": \"AUC_weighted_max\", \"run_name\": \"StandardScalerWrapper, ExtremeRandomTrees\", \"run_properties\": \"<azureml.automl.runtime.shared.model_wrappers.StandardScalerWrapper object at 0x7fbf83787c88\", \"primary_metric\": 0.95417889, \"best_metric\": 0.97786556}, {\"run_id\": \"AutoML_fc4b5e57-5118-47f6-8be5-a071c1743d21_20\", \"run_number\": 25, \"metric\": null, \"status\": \"Completed\", \"run_type\": \"azureml.scriptrun\", \"training_percent\": \"100\", \"start_time\": \"2021-04-15T21:43:03.737445Z\", \"end_time\": \"2021-04-15T21:44:03.227102Z\", \"created_time\": \"2021-04-15T21:42:48.942413Z\", \"created_time_dt\": \"2021-04-15T21:42:48.942413Z\", \"duration\": \"0:01:14\", \"iteration\": \"20\", \"goal\": \"AUC_weighted_max\", \"run_name\": \"MaxAbsScaler, ExtremeRandomTrees\", \"run_properties\": \"copy=True\", \"primary_metric\": 0.9637, \"best_metric\": 0.97786556}, {\"run_id\": \"AutoML_fc4b5e57-5118-47f6-8be5-a071c1743d21_21\", \"run_number\": 26, \"metric\": null, \"status\": \"Completed\", \"run_type\": \"azureml.scriptrun\", \"training_percent\": \"100\", \"start_time\": \"2021-04-15T21:43:27.799219Z\", \"end_time\": \"2021-04-15T21:44:30.418658Z\", \"created_time\": \"2021-04-15T21:43:15.279425Z\", \"created_time_dt\": \"2021-04-15T21:43:15.279425Z\", \"duration\": \"0:01:15\", \"iteration\": \"21\", \"goal\": \"AUC_weighted_max\", \"run_name\": \"MaxAbsScaler, ExtremeRandomTrees\", \"run_properties\": \"copy=True\", \"primary_metric\": 0.9590193, \"best_metric\": 0.97786556}, {\"run_id\": \"AutoML_fc4b5e57-5118-47f6-8be5-a071c1743d21_22\", \"run_number\": 27, \"metric\": null, \"status\": \"Completed\", \"run_type\": \"azureml.scriptrun\", \"training_percent\": \"100\", \"start_time\": \"2021-04-15T21:43:55.654276Z\", \"end_time\": \"2021-04-15T21:45:11.549812Z\", \"created_time\": \"2021-04-15T21:43:44.253157Z\", \"created_time_dt\": \"2021-04-15T21:43:44.253157Z\", \"duration\": \"0:01:27\", \"iteration\": \"22\", \"goal\": \"AUC_weighted_max\", \"run_name\": \"MaxAbsScaler, RandomForest\", \"run_properties\": \"copy=True\", \"primary_metric\": 0.96308055, \"best_metric\": 0.97786556}, {\"run_id\": \"AutoML_fc4b5e57-5118-47f6-8be5-a071c1743d21_23\", \"run_number\": 28, \"metric\": null, \"status\": \"Completed\", \"run_type\": \"azureml.scriptrun\", \"training_percent\": \"100\", \"start_time\": \"2021-04-15T21:44:05.594391Z\", \"end_time\": \"2021-04-15T21:45:11.729683Z\", \"created_time\": \"2021-04-15T21:43:52.52447Z\", \"created_time_dt\": \"2021-04-15T21:43:52.52447Z\", \"duration\": \"0:01:19\", \"iteration\": \"23\", \"goal\": \"AUC_weighted_max\", \"run_name\": \"MaxAbsScaler, LightGBM\", \"run_properties\": \"copy=True\", \"primary_metric\": 0.97435198, \"best_metric\": 0.97786556}, {\"run_id\": \"AutoML_fc4b5e57-5118-47f6-8be5-a071c1743d21_24\", \"run_number\": 29, \"metric\": null, \"status\": \"Completed\", \"run_type\": \"azureml.scriptrun\", \"training_percent\": \"100\", \"start_time\": \"2021-04-15T21:44:13.499986Z\", \"end_time\": \"2021-04-15T21:45:44.053788Z\", \"created_time\": \"2021-04-15T21:43:59.758574Z\", \"created_time_dt\": \"2021-04-15T21:43:59.758574Z\", \"duration\": \"0:01:44\", \"iteration\": \"24\", \"goal\": \"AUC_weighted_max\", \"run_name\": \"MaxAbsScaler, LightGBM\", \"run_properties\": \"copy=True\", \"primary_metric\": 0.97157557, \"best_metric\": 0.97786556}, {\"run_id\": \"AutoML_fc4b5e57-5118-47f6-8be5-a071c1743d21_25\", \"run_number\": 30, \"metric\": null, \"status\": \"Completed\", \"run_type\": \"azureml.scriptrun\", \"training_percent\": \"100\", \"start_time\": \"2021-04-15T21:44:19.883512Z\", \"end_time\": \"2021-04-15T21:45:18.978684Z\", \"created_time\": \"2021-04-15T21:44:08.124213Z\", \"created_time_dt\": \"2021-04-15T21:44:08.124213Z\", \"duration\": \"0:01:10\", \"iteration\": \"25\", \"goal\": \"AUC_weighted_max\", \"run_name\": \"TruncatedSVDWrapper, RandomForest\", \"run_properties\": \"n_components=0.40578947368421053, random_state=None\", \"primary_metric\": 0.92269095, \"best_metric\": 0.97786556}, {\"run_id\": \"AutoML_fc4b5e57-5118-47f6-8be5-a071c1743d21_26\", \"run_number\": 31, \"metric\": null, \"status\": \"Completed\", \"run_type\": \"azureml.scriptrun\", \"training_percent\": \"100\", \"start_time\": \"2021-04-15T21:44:45.906012Z\", \"end_time\": \"2021-04-15T21:46:14.754879Z\", \"created_time\": \"2021-04-15T21:44:34.012287Z\", \"created_time_dt\": \"2021-04-15T21:44:34.012287Z\", \"duration\": \"0:01:40\", \"iteration\": \"26\", \"goal\": \"AUC_weighted_max\", \"run_name\": \"MaxAbsScaler, LogisticRegression\", \"run_properties\": \"copy=True\", \"primary_metric\": 0.60617356, \"best_metric\": 0.97786556}, {\"run_id\": \"AutoML_fc4b5e57-5118-47f6-8be5-a071c1743d21_28\", \"run_number\": 32, \"metric\": null, \"status\": \"Completed\", \"run_type\": \"azureml.scriptrun\", \"training_percent\": \"100\", \"start_time\": \"2021-04-15T21:45:31.019126Z\", \"end_time\": \"2021-04-15T21:46:47.347839Z\", \"created_time\": \"2021-04-15T21:45:14.873734Z\", \"created_time_dt\": \"2021-04-15T21:45:14.873734Z\", \"duration\": \"0:01:32\", \"iteration\": \"28\", \"goal\": \"AUC_weighted_max\", \"run_name\": \"RobustScaler, LightGBM\", \"run_properties\": \"copy=True, quantile_range=[25, 75], with_centering=False,\\n             with_scaling=True\", \"primary_metric\": 0.97359974, \"best_metric\": 0.97786556}, {\"run_id\": \"AutoML_fc4b5e57-5118-47f6-8be5-a071c1743d21_27\", \"run_number\": 33, \"metric\": null, \"status\": \"Completed\", \"run_type\": \"azureml.scriptrun\", \"training_percent\": \"100\", \"start_time\": \"2021-04-15T21:45:31.511215Z\", \"end_time\": \"2021-04-15T21:46:52.447306Z\", \"created_time\": \"2021-04-15T21:45:14.912102Z\", \"created_time_dt\": \"2021-04-15T21:45:14.912102Z\", \"duration\": \"0:01:37\", \"iteration\": \"27\", \"goal\": \"AUC_weighted_max\", \"run_name\": \"StandardScalerWrapper, LogisticRegression\", \"run_properties\": \"<azureml.automl.runtime.shared.model_wrappers.StandardScalerWrapper object at 0x7f820c0c6240\", \"primary_metric\": 0.96058659, \"best_metric\": 0.97786556}, {\"run_id\": \"AutoML_fc4b5e57-5118-47f6-8be5-a071c1743d21_29\", \"run_number\": 34, \"metric\": null, \"status\": \"Completed\", \"run_type\": \"azureml.scriptrun\", \"training_percent\": \"100\", \"start_time\": \"2021-04-15T21:45:35.730255Z\", \"end_time\": \"2021-04-15T21:46:46.250235Z\", \"created_time\": \"2021-04-15T21:45:23.475718Z\", \"created_time_dt\": \"2021-04-15T21:45:23.475718Z\", \"duration\": \"0:01:22\", \"iteration\": \"29\", \"goal\": \"AUC_weighted_max\", \"run_name\": \"StandardScalerWrapper, LogisticRegression\", \"run_properties\": \"<azureml.automl.runtime.shared.model_wrappers.StandardScalerWrapper object at 0x7feb797ecef0\", \"primary_metric\": 0.95583304, \"best_metric\": 0.97786556}, {\"run_id\": \"AutoML_fc4b5e57-5118-47f6-8be5-a071c1743d21_30\", \"run_number\": 35, \"metric\": null, \"status\": \"Completed\", \"run_type\": \"azureml.scriptrun\", \"training_percent\": \"100\", \"start_time\": \"2021-04-15T21:46:00.619521Z\", \"end_time\": \"2021-04-15T21:47:40.003716Z\", \"created_time\": \"2021-04-15T21:45:49.361407Z\", \"created_time_dt\": \"2021-04-15T21:45:49.361407Z\", \"duration\": \"0:01:50\", \"iteration\": \"30\", \"goal\": \"AUC_weighted_max\", \"run_name\": \"MinMaxScaler, RandomForest\", \"run_properties\": \"copy=True, feature_range=(0, 1\", \"primary_metric\": 0.9688487, \"best_metric\": 0.97786556}, {\"run_id\": \"AutoML_fc4b5e57-5118-47f6-8be5-a071c1743d21_31\", \"run_number\": 36, \"metric\": null, \"status\": \"Completed\", \"run_type\": \"azureml.scriptrun\", \"training_percent\": \"100\", \"start_time\": \"2021-04-15T21:46:30.921461Z\", \"end_time\": \"2021-04-15T21:47:34.822852Z\", \"created_time\": \"2021-04-15T21:46:18.852101Z\", \"created_time_dt\": \"2021-04-15T21:46:18.852101Z\", \"duration\": \"0:01:15\", \"iteration\": \"31\", \"goal\": \"AUC_weighted_max\", \"run_name\": \"StandardScalerWrapper, LightGBM\", \"run_properties\": \"<azureml.automl.runtime.shared.model_wrappers.StandardScalerWrapper object at 0x7fea8d6a5668\", \"primary_metric\": 0.95186977, \"best_metric\": 0.97786556}, {\"run_id\": \"AutoML_fc4b5e57-5118-47f6-8be5-a071c1743d21_32\", \"run_number\": 37, \"metric\": null, \"status\": \"Completed\", \"run_type\": \"azureml.scriptrun\", \"training_percent\": \"100\", \"start_time\": \"2021-04-15T21:47:07.136036Z\", \"end_time\": \"2021-04-15T21:48:05.459618Z\", \"created_time\": \"2021-04-15T21:46:49.685241Z\", \"created_time_dt\": \"2021-04-15T21:46:49.685241Z\", \"duration\": \"0:01:15\", \"iteration\": \"32\", \"goal\": \"AUC_weighted_max\", \"run_name\": \"MaxAbsScaler, LightGBM\", \"run_properties\": \"copy=True\", \"primary_metric\": 0.96906367, \"best_metric\": 0.97786556}, {\"run_id\": \"AutoML_fc4b5e57-5118-47f6-8be5-a071c1743d21_34\", \"run_number\": 38, \"metric\": null, \"status\": \"Canceled\", \"run_type\": \"azureml.scriptrun\", \"training_percent\": \"100\", \"start_time\": \"2021-04-15T21:47:16.281467Z\", \"end_time\": \"2021-04-15T21:48:22.485544Z\", \"created_time\": \"2021-04-15T21:46:59.078962Z\", \"created_time_dt\": \"2021-04-15T21:46:59.078962Z\", \"duration\": \"0:01:23\", \"iteration\": \"34\", \"goal\": \"AUC_weighted_max\", \"run_name\": \"MinMaxScaler, LightGBM\", \"run_properties\": \"copy=True, feature_range=(0, 1\", \"primary_metric\": 0.9038027, \"best_metric\": 0.97786556}, {\"run_id\": \"AutoML_fc4b5e57-5118-47f6-8be5-a071c1743d21_33\", \"run_number\": 39, \"metric\": null, \"status\": \"Completed\", \"run_type\": \"azureml.scriptrun\", \"training_percent\": \"100\", \"start_time\": \"2021-04-15T21:47:15.29043Z\", \"end_time\": \"2021-04-15T21:48:10.460933Z\", \"created_time\": \"2021-04-15T21:46:59.36601Z\", \"created_time_dt\": \"2021-04-15T21:46:59.36601Z\", \"duration\": \"0:01:11\", \"iteration\": \"33\", \"goal\": \"AUC_weighted_max\", \"run_name\": \"RobustScaler, LightGBM\", \"run_properties\": \"copy=True, quantile_range=[25, 75], with_centering=True,\\n             with_scaling=True\", \"primary_metric\": 0.9592795, \"best_metric\": 0.97786556}, {\"run_id\": \"AutoML_fc4b5e57-5118-47f6-8be5-a071c1743d21_35\", \"run_number\": 40, \"metric\": null, \"status\": \"Canceled\", \"run_type\": \"azureml.scriptrun\", \"training_percent\": \"100\", \"start_time\": \"2021-04-15T21:47:55.67786Z\", \"end_time\": \"2021-04-15T21:48:22.23572Z\", \"created_time\": \"2021-04-15T21:47:39.673133Z\", \"created_time_dt\": \"2021-04-15T21:47:39.673133Z\", \"duration\": \"0:00:42\", \"iteration\": \"35\", \"goal\": null, \"run_name\": \"PCA, RandomForest\", \"run_properties\": null}, {\"run_id\": \"AutoML_fc4b5e57-5118-47f6-8be5-a071c1743d21_36\", \"run_number\": 41, \"metric\": null, \"status\": \"Canceled\", \"run_type\": \"azureml.scriptrun\", \"training_percent\": \"100\", \"start_time\": \"2021-04-15T21:48:02.432701Z\", \"end_time\": \"2021-04-15T21:48:22.573749Z\", \"created_time\": \"2021-04-15T21:47:46.514983Z\", \"created_time_dt\": \"2021-04-15T21:47:46.514983Z\", \"duration\": \"0:00:36\", \"iteration\": \"36\", \"goal\": null, \"run_name\": \"StandardScalerWrapper, LightGBM\", \"run_properties\": null}, {\"run_id\": \"AutoML_fc4b5e57-5118-47f6-8be5-a071c1743d21_37\", \"run_number\": 42, \"metric\": null, \"status\": \"Canceled\", \"run_type\": \"azureml.scriptrun\", \"training_percent\": \"100\", \"start_time\": \"2021-04-15T21:48:08.529163Z\", \"end_time\": \"2021-04-15T21:48:30.694583Z\", \"created_time\": \"2021-04-15T21:48:08.529163Z\", \"created_time_dt\": \"2021-04-15T21:48:08.529163Z\", \"duration\": \"0:00:22\", \"iteration\": \"37\", \"goal\": null, \"run_name\": \"Canceled\", \"run_properties\": null}, {\"run_id\": \"AutoML_fc4b5e57-5118-47f6-8be5-a071c1743d21_38\", \"run_number\": 43, \"metric\": null, \"status\": \"Completed\", \"run_type\": \"azureml.scriptrun\", \"training_percent\": \"100\", \"start_time\": \"2021-04-15T21:48:50.322595Z\", \"end_time\": \"2021-04-15T21:50:32.462098Z\", \"created_time\": \"2021-04-15T21:48:32.343191Z\", \"created_time_dt\": \"2021-04-15T21:48:32.343191Z\", \"duration\": \"0:02:00\", \"iteration\": \"38\", \"goal\": \"AUC_weighted_max\", \"run_name\": \"VotingEnsemble\", \"run_properties\": \"classification_labels=None,\\n                              estimators=[('3',\\n                                           Pipeline(memory=None,\\n                                                    steps=[('minmaxscaler',\\n                                                            MinMaxScaler(copy=True,\\n                                                                         feature_range=(0,\\n                                                                                        1\", \"primary_metric\": 0.98307096, \"best_metric\": 0.98307096}, {\"run_id\": \"AutoML_fc4b5e57-5118-47f6-8be5-a071c1743d21_39\", \"run_number\": 44, \"metric\": null, \"status\": \"Completed\", \"run_type\": \"azureml.scriptrun\", \"training_percent\": \"100\", \"start_time\": \"2021-04-15T21:48:50.138603Z\", \"end_time\": \"2021-04-15T21:51:52.235747Z\", \"created_time\": \"2021-04-15T21:48:32.609726Z\", \"created_time_dt\": \"2021-04-15T21:48:32.609726Z\", \"duration\": \"0:03:19\", \"iteration\": \"39\", \"goal\": \"AUC_weighted_max\", \"run_name\": \"StackEnsemble\", \"run_properties\": \"base_learners=[('3',\\n                                        Pipeline(memory=None,\\n                                                 steps=[('minmaxscaler',\\n                                                         MinMaxScaler(copy=True,\\n                                                                      feature_range=(0,\\n                                                                                     1\", \"primary_metric\": 0.97965931, \"best_metric\": 0.98307096}], \"children_metrics\": {\"categories\": [0], \"series\": {\"recall_score_micro\": [{\"categories\": [\"0\", \"1\", \"2\", \"3\", \"4\", \"5\", \"6\", \"7\", \"8\", \"9\", \"10\", \"11\", \"12\", \"13\", \"14\", \"15\", \"16\", \"17\", \"18\", \"19\", \"20\", \"21\", \"22\", \"23\", \"24\", \"25\", \"26\", \"27\", \"28\", \"29\", \"30\", \"31\", \"32\", \"33\", \"34\", \"38\", \"39\"], \"mode\": \"markers\", \"name\": \"recall_score_micro\", \"stepped\": false, \"type\": \"scatter\", \"data\": [0.9994382219725431, 0.9468768652786068, 0.981320880587058, 0.9327973034654682, 0.9344826375478389, 0.9762648783399459, 0.9790386573505144, 0.9777044345353042, 0.9880973280432569, 0.9742635441171307, 0.31143569397141957, 0.9333590814929251, 0.7914047961799094, 0.9667848741266107, 0.0017204452090867595, 0.3469330430813525, 0.23218988097328044, 0.0017204452090867595, 0.9754573224254767, 0.9649942066640919, 0.04118535163793406, 0.0017204452090867595, 0.06874758611003827, 0.9843755486113549, 0.9921351076156034, 0.0017204452090867595, 0.18106808047470244, 0.44317264141006285, 0.9995084442259752, 0.9750008777781679, 0.0017204452090867595, 0.978792879463502, 0.9637302061023139, 0.9767213229872547, 0.9801271022787121, 0.9709279870791053, 0.9895368842386152]}, {\"categories\": [\"0\", \"1\", \"2\", \"3\", \"4\", \"5\", \"6\", \"7\", \"8\", \"9\", \"10\", \"11\", \"12\", \"13\", \"14\", \"15\", \"16\", \"17\", \"18\", \"19\", \"20\", \"21\", \"22\", \"23\", \"24\", \"25\", \"26\", \"27\", \"28\", \"29\", \"30\", \"31\", \"32\", \"33\", \"34\", \"38\", \"39\"], \"mode\": \"lines\", \"name\": \"recall_score_micro_max\", \"stepped\": true, \"type\": \"scatter\", \"data\": [0.9994382219725431, 0.9994382219725431, 0.9994382219725431, 0.9994382219725431, 0.9994382219725431, 0.9994382219725431, 0.9994382219725431, 0.9994382219725431, 0.9994382219725431, 0.9994382219725431, 0.9994382219725431, 0.9994382219725431, 0.9994382219725431, 0.9994382219725431, 0.9994382219725431, 0.9994382219725431, 0.9994382219725431, 0.9994382219725431, 0.9994382219725431, 0.9994382219725431, 0.9994382219725431, 0.9994382219725431, 0.9994382219725431, 0.9994382219725431, 0.9994382219725431, 0.9994382219725431, 0.9994382219725431, 0.9994382219725431, 0.9995084442259752, 0.9995084442259752, 0.9995084442259752, 0.9995084442259752, 0.9995084442259752, 0.9995084442259752, 0.9995084442259752, 0.9995084442259752, 0.9995084442259752]}], \"average_precision_score_micro\": [{\"categories\": [\"0\", \"1\", \"2\", \"3\", \"4\", \"5\", \"6\", \"7\", \"8\", \"9\", \"10\", \"11\", \"12\", \"13\", \"14\", \"15\", \"16\", \"17\", \"18\", \"19\", \"20\", \"21\", \"22\", \"23\", \"24\", \"25\", \"26\", \"27\", \"28\", \"29\", \"30\", \"31\", \"32\", \"33\", \"34\", \"38\", \"39\"], \"mode\": \"markers\", \"name\": \"average_precision_score_micro\", \"stepped\": false, \"type\": \"scatter\", \"data\": [0.9993073134574981, 0.991939977459434, 0.9970302912614046, 0.9745760931690777, 0.9901930564784368, 0.9973590367618046, 0.995639632761819, 0.9971092396922165, 0.9974658610266627, 0.9962968251150749, 0.35531480972815793, 0.9492567135049649, 0.8204234220918842, 0.9957508813831877, 0.308201752796308, 0.34736855395658867, 0.31924004225949504, 0.30822660906293636, 0.9973609970159059, 0.9928342515566204, 0.3085954674055727, 0.30820780894006533, 0.3089007822648109, 0.9974710387123026, 0.9992373363108406, 0.3208361649668141, 0.4320200115654747, 0.45305979477375347, 0.9998965029219264, 0.9898321430900465, 0.3083057910332854, 0.9953121984142149, 0.9945744613202616, 0.9964627784568023, 0.9963219282955856, 0.9945869407160262, 0.9986982898175458]}, {\"categories\": [\"0\", \"1\", \"2\", \"3\", \"4\", \"5\", \"6\", \"7\", \"8\", \"9\", \"10\", \"11\", \"12\", \"13\", \"14\", \"15\", \"16\", \"17\", \"18\", \"19\", \"20\", \"21\", \"22\", \"23\", \"24\", \"25\", \"26\", \"27\", \"28\", \"29\", \"30\", \"31\", \"32\", \"33\", \"34\", \"38\", \"39\"], \"mode\": \"lines\", \"name\": \"average_precision_score_micro_max\", \"stepped\": true, \"type\": \"scatter\", \"data\": [0.9993073134574981, 0.9993073134574981, 0.9993073134574981, 0.9993073134574981, 0.9993073134574981, 0.9993073134574981, 0.9993073134574981, 0.9993073134574981, 0.9993073134574981, 0.9993073134574981, 0.9993073134574981, 0.9993073134574981, 0.9993073134574981, 0.9993073134574981, 0.9993073134574981, 0.9993073134574981, 0.9993073134574981, 0.9993073134574981, 0.9993073134574981, 0.9993073134574981, 0.9993073134574981, 0.9993073134574981, 0.9993073134574981, 0.9993073134574981, 0.9993073134574981, 0.9993073134574981, 0.9993073134574981, 0.9993073134574981, 0.9998965029219264, 0.9998965029219264, 0.9998965029219264, 0.9998965029219264, 0.9998965029219264, 0.9998965029219264, 0.9998965029219264, 0.9998965029219264, 0.9998965029219264]}], \"precision_score_weighted\": [{\"categories\": [\"0\", \"1\", \"2\", \"3\", \"4\", \"5\", \"6\", \"7\", \"8\", \"9\", \"10\", \"11\", \"12\", \"13\", \"14\", \"15\", \"16\", \"17\", \"18\", \"19\", \"20\", \"21\", \"22\", \"23\", \"24\", \"25\", \"26\", \"27\", \"28\", \"29\", \"30\", \"31\", \"32\", \"33\", \"34\", \"38\", \"39\"], \"mode\": \"markers\", \"name\": \"precision_score_weighted\", \"stepped\": false, \"type\": \"scatter\", \"data\": [0.9994382219725431, 0.9981810804218914, 0.9981949793833816, 0.9981301596344437, 0.9981698885055751, 0.9982056618013659, 0.9982193227831474, 0.9982123672371759, 0.9981459403160036, 0.9982354612028571, 0.9982838427774465, 0.9981690373416612, 0.9981150171476348, 0.9981369910401305, 2.959931717469584e-06, 0.9980809067973312, 0.9981312853462024, 2.959931717469584e-06, 0.9982402336228283, 0.9981707547806353, 0.9982826363354994, 2.959931717469584e-06, 0.9982827273716465, 0.9982576755928345, 0.9983904989140979, 2.959931717469584e-06, 0.9982831615942865, 0.9981258922564153, 0.9994994994402474, 0.9982383599192678, 2.959931717469584e-06, 0.9982561342706371, 0.9982059434643223, 0.9982457701496329, 0.9981873867449806, 0.998186110831605, 0.9983268305423916]}, {\"categories\": [\"0\", \"1\", \"2\", \"3\", \"4\", \"5\", \"6\", \"7\", \"8\", \"9\", \"10\", \"11\", \"12\", \"13\", \"14\", \"15\", \"16\", \"17\", \"18\", \"19\", \"20\", \"21\", \"22\", \"23\", \"24\", \"25\", \"26\", \"27\", \"28\", \"29\", \"30\", \"31\", \"32\", \"33\", \"34\", \"38\", \"39\"], \"mode\": \"lines\", \"name\": \"precision_score_weighted_max\", \"stepped\": true, \"type\": \"scatter\", \"data\": [0.9994382219725431, 0.9994382219725431, 0.9994382219725431, 0.9994382219725431, 0.9994382219725431, 0.9994382219725431, 0.9994382219725431, 0.9994382219725431, 0.9994382219725431, 0.9994382219725431, 0.9994382219725431, 0.9994382219725431, 0.9994382219725431, 0.9994382219725431, 0.9994382219725431, 0.9994382219725431, 0.9994382219725431, 0.9994382219725431, 0.9994382219725431, 0.9994382219725431, 0.9994382219725431, 0.9994382219725431, 0.9994382219725431, 0.9994382219725431, 0.9994382219725431, 0.9994382219725431, 0.9994382219725431, 0.9994382219725431, 0.9994994994402474, 0.9994994994402474, 0.9994994994402474, 0.9994994994402474, 0.9994994994402474, 0.9994994994402474, 0.9994994994402474, 0.9994994994402474, 0.9994994994402474]}], \"accuracy\": [{\"categories\": [\"0\", \"1\", \"2\", \"3\", \"4\", \"5\", \"6\", \"7\", \"8\", \"9\", \"10\", \"11\", \"12\", \"13\", \"14\", \"15\", \"16\", \"17\", \"18\", \"19\", \"20\", \"21\", \"22\", \"23\", \"24\", \"25\", \"26\", \"27\", \"28\", \"29\", \"30\", \"31\", \"32\", \"33\", \"34\", \"38\", \"39\"], \"mode\": \"markers\", \"name\": \"accuracy\", \"stepped\": false, \"type\": \"scatter\", \"data\": [0.9994382219725431, 0.9468768652786068, 0.981320880587058, 0.9327973034654682, 0.9344826375478389, 0.9762648783399459, 0.9790386573505144, 0.9777044345353042, 0.9880973280432569, 0.9742635441171307, 0.31143569397141957, 0.9333590814929251, 0.7914047961799094, 0.9667848741266107, 0.0017204452090867595, 0.3469330430813525, 0.23218988097328044, 0.0017204452090867595, 0.9754573224254767, 0.9649942066640919, 0.04118535163793406, 0.0017204452090867595, 0.06874758611003827, 0.9843755486113549, 0.9921351076156034, 0.0017204452090867595, 0.18106808047470244, 0.44317264141006285, 0.9995084442259752, 0.9750008777781679, 0.0017204452090867595, 0.978792879463502, 0.9637302061023139, 0.9767213229872547, 0.9801271022787121, 0.9709279870791053, 0.9895368842386152]}, {\"categories\": [\"0\", \"1\", \"2\", \"3\", \"4\", \"5\", \"6\", \"7\", \"8\", \"9\", \"10\", \"11\", \"12\", \"13\", \"14\", \"15\", \"16\", \"17\", \"18\", \"19\", \"20\", \"21\", \"22\", \"23\", \"24\", \"25\", \"26\", \"27\", \"28\", \"29\", \"30\", \"31\", \"32\", \"33\", \"34\", \"38\", \"39\"], \"mode\": \"lines\", \"name\": \"accuracy_max\", \"stepped\": true, \"type\": \"scatter\", \"data\": [0.9994382219725431, 0.9994382219725431, 0.9994382219725431, 0.9994382219725431, 0.9994382219725431, 0.9994382219725431, 0.9994382219725431, 0.9994382219725431, 0.9994382219725431, 0.9994382219725431, 0.9994382219725431, 0.9994382219725431, 0.9994382219725431, 0.9994382219725431, 0.9994382219725431, 0.9994382219725431, 0.9994382219725431, 0.9994382219725431, 0.9994382219725431, 0.9994382219725431, 0.9994382219725431, 0.9994382219725431, 0.9994382219725431, 0.9994382219725431, 0.9994382219725431, 0.9994382219725431, 0.9994382219725431, 0.9994382219725431, 0.9995084442259752, 0.9995084442259752, 0.9995084442259752, 0.9995084442259752, 0.9995084442259752, 0.9995084442259752, 0.9995084442259752, 0.9995084442259752, 0.9995084442259752]}], \"norm_macro_recall\": [{\"categories\": [\"0\", \"1\", \"2\", \"3\", \"4\", \"5\", \"6\", \"7\", \"8\", \"9\", \"10\", \"11\", \"12\", \"13\", \"14\", \"15\", \"16\", \"17\", \"18\", \"19\", \"20\", \"21\", \"22\", \"23\", \"24\", \"25\", \"26\", \"27\", \"28\", \"29\", \"30\", \"31\", \"32\", \"33\", \"34\", \"38\", \"39\"], \"mode\": \"markers\", \"name\": \"norm_macro_recall\", \"stepped\": false, \"type\": \"scatter\", \"data\": [0.8364533207768194, 0.8652933458132832, 0.8590507390350623, 0.8308165275113986, 0.8528777577435025, 0.874359014849609, 0.8771375742193332, 0.8758010519908583, 0.8047198902070676, 0.8927272231346111, 0.3102490151941475, 0.8517522653405765, 0.7095533345583591, 0.8444896810722038, 0.0, 0.30506155754367015, 0.21049363752253858, 0.0, 0.8939230588127205, 0.8630689191827547, 0.039532920652785686, 0.0, 0.06714265616207094, 0.8824836631332329, 0.8902565950409427, 0.0, 0.17965672481710748, 0.40146701618182434, 0.8365236640520024, 0.8934658275240315, 0.0, 0.8972643643839078, 0.8821757318571772, 0.8951892377660124, 0.8578549033569534, 0.8690129259357091, 0.8876538938591756]}, {\"categories\": [\"0\", \"1\", \"2\", \"3\", \"4\", \"5\", \"6\", \"7\", \"8\", \"9\", \"10\", \"11\", \"12\", \"13\", \"14\", \"15\", \"16\", \"17\", \"18\", \"19\", \"20\", \"21\", \"22\", \"23\", \"24\", \"25\", \"26\", \"27\", \"28\", \"29\", \"30\", \"31\", \"32\", \"33\", \"34\", \"38\", \"39\"], \"mode\": \"lines\", \"name\": \"norm_macro_recall_max\", \"stepped\": true, \"type\": \"scatter\", \"data\": [0.8364533207768194, 0.8652933458132832, 0.8652933458132832, 0.8652933458132832, 0.8652933458132832, 0.874359014849609, 0.8771375742193332, 0.8771375742193332, 0.8771375742193332, 0.8927272231346111, 0.8927272231346111, 0.8927272231346111, 0.8927272231346111, 0.8927272231346111, 0.8927272231346111, 0.8927272231346111, 0.8927272231346111, 0.8927272231346111, 0.8939230588127205, 0.8939230588127205, 0.8939230588127205, 0.8939230588127205, 0.8939230588127205, 0.8939230588127205, 0.8939230588127205, 0.8939230588127205, 0.8939230588127205, 0.8939230588127205, 0.8939230588127205, 0.8939230588127205, 0.8939230588127205, 0.8972643643839078, 0.8972643643839078, 0.8972643643839078, 0.8972643643839078, 0.8972643643839078, 0.8972643643839078]}], \"f1_score_macro\": [{\"categories\": [\"0\", \"1\", \"2\", \"3\", \"4\", \"5\", \"6\", \"7\", \"8\", \"9\", \"10\", \"11\", \"12\", \"13\", \"14\", \"15\", \"16\", \"17\", \"18\", \"19\", \"20\", \"21\", \"22\", \"23\", \"24\", \"25\", \"26\", \"27\", \"28\", \"29\", \"30\", \"31\", \"32\", \"33\", \"34\", \"38\", \"39\"], \"mode\": \"markers\", \"name\": \"f1_score_macro\", \"stepped\": false, \"type\": \"scatter\", \"data\": [0.9182266603884097, 0.5144070163156775, 0.5648582884518448, 0.5045653582225634, 0.506044348982342, 0.5515771741238766, 0.5589294559535997, 0.5552119895731508, 0.5924676752442658, 0.5481495689498534, 0.23927247291922124, 0.5053731088828602, 0.4491374421893916, 0.5332096668454617, 0.0017174903610234842, 0.25949128448287806, 0.18976754183284025, 0.0017174903610234842, 0.5508123701771666, 0.5316316145015356, 0.03981743296618112, 0.0017174903610234842, 0.06475881565783295, 0.5786085867189296, 0.6390485889515015, 0.0017174903610234842, 0.15438781645845964, 0.3095861601807134, 0.9269602369312653, 0.5497706943467541, 0.0017174903610234842, 0.559474327165035, 0.530821430273785, 0.5538633241234922, 0.5609251699346192, 0.5406481450748426, 0.6113560117400887]}, {\"categories\": [\"0\", \"1\", \"2\", \"3\", \"4\", \"5\", \"6\", \"7\", \"8\", \"9\", \"10\", \"11\", \"12\", \"13\", \"14\", \"15\", \"16\", \"17\", \"18\", \"19\", \"20\", \"21\", \"22\", \"23\", \"24\", \"25\", \"26\", \"27\", \"28\", \"29\", \"30\", \"31\", \"32\", \"33\", \"34\", \"38\", \"39\"], \"mode\": \"lines\", \"name\": \"f1_score_macro_max\", \"stepped\": true, \"type\": \"scatter\", \"data\": [0.9182266603884097, 0.9182266603884097, 0.9182266603884097, 0.9182266603884097, 0.9182266603884097, 0.9182266603884097, 0.9182266603884097, 0.9182266603884097, 0.9182266603884097, 0.9182266603884097, 0.9182266603884097, 0.9182266603884097, 0.9182266603884097, 0.9182266603884097, 0.9182266603884097, 0.9182266603884097, 0.9182266603884097, 0.9182266603884097, 0.9182266603884097, 0.9182266603884097, 0.9182266603884097, 0.9182266603884097, 0.9182266603884097, 0.9182266603884097, 0.9182266603884097, 0.9182266603884097, 0.9182266603884097, 0.9182266603884097, 0.9269602369312653, 0.9269602369312653, 0.9269602369312653, 0.9269602369312653, 0.9269602369312653, 0.9269602369312653, 0.9269602369312653, 0.9269602369312653, 0.9269602369312653]}], \"AUC_weighted\": [{\"categories\": [\"0\", \"1\", \"2\", \"3\", \"4\", \"5\", \"6\", \"7\", \"8\", \"9\", \"10\", \"11\", \"12\", \"13\", \"14\", \"15\", \"16\", \"17\", \"18\", \"19\", \"20\", \"21\", \"22\", \"23\", \"24\", \"25\", \"26\", \"27\", \"28\", \"29\", \"30\", \"31\", \"32\", \"33\", \"34\", \"38\", \"39\"], \"mode\": \"markers\", \"name\": \"AUC_weighted\", \"stepped\": false, \"type\": \"scatter\", \"data\": [0.9251518840513135, 0.9566811037864781, 0.9651732597935065, 0.9778655553386238, 0.9650634381495985, 0.9631415593812089, 0.9450084268372516, 0.9723486327564228, 0.9639257433417937, 0.9666594409288758, 0.9666508274666088, 0.9560171128599467, 0.9660697776578273, 0.9594158780563434, 0.9525107524720638, 0.9592762681887612, 0.9726526161956058, 0.9667986919021968, 0.9630195353324222, 0.9541788929978293, 0.9636999988515383, 0.9590192998977868, 0.9630805473568155, 0.9743519805220908, 0.9715755745179333, 0.9226909461026955, 0.6061735600688841, 0.9605865911361732, 0.973599738150747, 0.9558330366474108, 0.9688486959218127, 0.9518697673216727, 0.969063673584234, 0.9592794982371114, 0.9038027000333054, 0.983070957702158, 0.9796593088557877]}, {\"categories\": [\"0\", \"1\", \"2\", \"3\", \"4\", \"5\", \"6\", \"7\", \"8\", \"9\", \"10\", \"11\", \"12\", \"13\", \"14\", \"15\", \"16\", \"17\", \"18\", \"19\", \"20\", \"21\", \"22\", \"23\", \"24\", \"25\", \"26\", \"27\", \"28\", \"29\", \"30\", \"31\", \"32\", \"33\", \"34\", \"38\", \"39\"], \"mode\": \"lines\", \"name\": \"AUC_weighted_max\", \"stepped\": true, \"type\": \"scatter\", \"data\": [0.9251518840513135, 0.9566811037864781, 0.9651732597935065, 0.9778655553386238, 0.9778655553386238, 0.9778655553386238, 0.9778655553386238, 0.9778655553386238, 0.9778655553386238, 0.9778655553386238, 0.9778655553386238, 0.9778655553386238, 0.9778655553386238, 0.9778655553386238, 0.9778655553386238, 0.9778655553386238, 0.9778655553386238, 0.9778655553386238, 0.9778655553386238, 0.9778655553386238, 0.9778655553386238, 0.9778655553386238, 0.9778655553386238, 0.9778655553386238, 0.9778655553386238, 0.9778655553386238, 0.9778655553386238, 0.9778655553386238, 0.9778655553386238, 0.9778655553386238, 0.9778655553386238, 0.9778655553386238, 0.9778655553386238, 0.9778655553386238, 0.9778655553386238, 0.983070957702158, 0.983070957702158]}], \"AUC_micro\": [{\"categories\": [\"0\", \"1\", \"2\", \"3\", \"4\", \"5\", \"6\", \"7\", \"8\", \"9\", \"10\", \"11\", \"12\", \"13\", \"14\", \"15\", \"16\", \"17\", \"18\", \"19\", \"20\", \"21\", \"22\", \"23\", \"24\", \"25\", \"26\", \"27\", \"28\", \"29\", \"30\", \"31\", \"32\", \"33\", \"34\", \"38\", \"39\"], \"mode\": \"markers\", \"name\": \"AUC_micro\", \"stepped\": false, \"type\": \"scatter\", \"data\": [0.9997415009403958, 0.9917087812905727, 0.9976226077469111, 0.9759482753645953, 0.9898591543552009, 0.997353690368713, 0.9958488714389976, 0.9972443578138495, 0.9987874142288128, 0.9963789211188442, 0.23859432628231697, 0.952031025444575, 0.8314435632229538, 0.9957182855635139, 0.003274806319530894, 0.2094665776376079, 0.0943313077903784, 0.0033238849707612926, 0.9973767571252168, 0.9927864873744594, 0.00670260819332941, 0.0032971629882923735, 0.015530967597696524, 0.9980793026508373, 0.9992563014378977, 0.0031723761627041056, 0.17227877158139254, 0.4217585697460034, 0.9999079992568882, 0.9930842989132546, 0.003330926674205768, 0.9963331032003887, 0.9944629330321392, 0.9969436048352049, 0.9970358422742308, 0.9950687734833552, 0.9991544926078453]}, {\"categories\": [\"0\", \"1\", \"2\", \"3\", \"4\", \"5\", \"6\", \"7\", \"8\", \"9\", \"10\", \"11\", \"12\", \"13\", \"14\", \"15\", \"16\", \"17\", \"18\", \"19\", \"20\", \"21\", \"22\", \"23\", \"24\", \"25\", \"26\", \"27\", \"28\", \"29\", \"30\", \"31\", \"32\", \"33\", \"34\", \"38\", \"39\"], \"mode\": \"lines\", \"name\": \"AUC_micro_max\", \"stepped\": true, \"type\": \"scatter\", \"data\": [0.9997415009403958, 0.9997415009403958, 0.9997415009403958, 0.9997415009403958, 0.9997415009403958, 0.9997415009403958, 0.9997415009403958, 0.9997415009403958, 0.9997415009403958, 0.9997415009403958, 0.9997415009403958, 0.9997415009403958, 0.9997415009403958, 0.9997415009403958, 0.9997415009403958, 0.9997415009403958, 0.9997415009403958, 0.9997415009403958, 0.9997415009403958, 0.9997415009403958, 0.9997415009403958, 0.9997415009403958, 0.9997415009403958, 0.9997415009403958, 0.9997415009403958, 0.9997415009403958, 0.9997415009403958, 0.9997415009403958, 0.9999079992568882, 0.9999079992568882, 0.9999079992568882, 0.9999079992568882, 0.9999079992568882, 0.9999079992568882, 0.9999079992568882, 0.9999079992568882, 0.9999079992568882]}], \"f1_score_micro\": [{\"categories\": [\"0\", \"1\", \"2\", \"3\", \"4\", \"5\", \"6\", \"7\", \"8\", \"9\", \"10\", \"11\", \"12\", \"13\", \"14\", \"15\", \"16\", \"17\", \"18\", \"19\", \"20\", \"21\", \"22\", \"23\", \"24\", \"25\", \"26\", \"27\", \"28\", \"29\", \"30\", \"31\", \"32\", \"33\", \"34\", \"38\", \"39\"], \"mode\": \"markers\", \"name\": \"f1_score_micro\", \"stepped\": false, \"type\": \"scatter\", \"data\": [0.9994382219725431, 0.9468768652786068, 0.981320880587058, 0.9327973034654682, 0.9344826375478389, 0.9762648783399459, 0.9790386573505144, 0.9777044345353042, 0.9880973280432569, 0.9742635441171307, 0.31143569397141957, 0.9333590814929251, 0.7914047961799094, 0.9667848741266107, 0.0017204452090867595, 0.3469330430813525, 0.23218988097328044, 0.0017204452090867595, 0.9754573224254767, 0.9649942066640919, 0.04118535163793406, 0.0017204452090867595, 0.06874758611003827, 0.9843755486113549, 0.9921351076156034, 0.0017204452090867595, 0.18106808047470244, 0.44317264141006285, 0.9995084442259752, 0.9750008777781679, 0.0017204452090867595, 0.978792879463502, 0.9637302061023139, 0.9767213229872547, 0.9801271022787121, 0.9709279870791053, 0.9895368842386152]}, {\"categories\": [\"0\", \"1\", \"2\", \"3\", \"4\", \"5\", \"6\", \"7\", \"8\", \"9\", \"10\", \"11\", \"12\", \"13\", \"14\", \"15\", \"16\", \"17\", \"18\", \"19\", \"20\", \"21\", \"22\", \"23\", \"24\", \"25\", \"26\", \"27\", \"28\", \"29\", \"30\", \"31\", \"32\", \"33\", \"34\", \"38\", \"39\"], \"mode\": \"lines\", \"name\": \"f1_score_micro_max\", \"stepped\": true, \"type\": \"scatter\", \"data\": [0.9994382219725431, 0.9994382219725431, 0.9994382219725431, 0.9994382219725431, 0.9994382219725431, 0.9994382219725431, 0.9994382219725431, 0.9994382219725431, 0.9994382219725431, 0.9994382219725431, 0.9994382219725431, 0.9994382219725431, 0.9994382219725431, 0.9994382219725431, 0.9994382219725431, 0.9994382219725431, 0.9994382219725431, 0.9994382219725431, 0.9994382219725431, 0.9994382219725431, 0.9994382219725431, 0.9994382219725431, 0.9994382219725431, 0.9994382219725431, 0.9994382219725431, 0.9994382219725431, 0.9994382219725431, 0.9994382219725431, 0.9995084442259752, 0.9995084442259752, 0.9995084442259752, 0.9995084442259752, 0.9995084442259752, 0.9995084442259752, 0.9995084442259752, 0.9995084442259752, 0.9995084442259752]}], \"balanced_accuracy\": [{\"categories\": [\"0\", \"1\", \"2\", \"3\", \"4\", \"5\", \"6\", \"7\", \"8\", \"9\", \"10\", \"11\", \"12\", \"13\", \"14\", \"15\", \"16\", \"17\", \"18\", \"19\", \"20\", \"21\", \"22\", \"23\", \"24\", \"25\", \"26\", \"27\", \"28\", \"29\", \"30\", \"31\", \"32\", \"33\", \"34\", \"38\", \"39\"], \"mode\": \"markers\", \"name\": \"balanced_accuracy\", \"stepped\": false, \"type\": \"scatter\", \"data\": [0.9182266603884097, 0.9326466729066416, 0.9295253695175312, 0.9154082637556993, 0.9264388788717512, 0.9371795074248045, 0.9385687871096666, 0.9379005259954292, 0.9023599451035338, 0.9463636115673055, 0.6551245075970737, 0.9258761326702882, 0.8547766672791796, 0.9222448405361019, 0.5, 0.6525307787718351, 0.6052468187612693, 0.5, 0.9469615294063602, 0.9315344595913774, 0.5197664603263928, 0.5, 0.5335713280810355, 0.9412418315666164, 0.9451282975204713, 0.5, 0.5898283624085537, 0.7007335080909122, 0.9182618320260012, 0.9467329137620157, 0.5, 0.9486321821919539, 0.9410878659285886, 0.9475946188830062, 0.9289274516784767, 0.9345064629678546, 0.9438269469295878]}, {\"categories\": [\"0\", \"1\", \"2\", \"3\", \"4\", \"5\", \"6\", \"7\", \"8\", \"9\", \"10\", \"11\", \"12\", \"13\", \"14\", \"15\", \"16\", \"17\", \"18\", \"19\", \"20\", \"21\", \"22\", \"23\", \"24\", \"25\", \"26\", \"27\", \"28\", \"29\", \"30\", \"31\", \"32\", \"33\", \"34\", \"38\", \"39\"], \"mode\": \"lines\", \"name\": \"balanced_accuracy_max\", \"stepped\": true, \"type\": \"scatter\", \"data\": [0.9182266603884097, 0.9326466729066416, 0.9326466729066416, 0.9326466729066416, 0.9326466729066416, 0.9371795074248045, 0.9385687871096666, 0.9385687871096666, 0.9385687871096666, 0.9463636115673055, 0.9463636115673055, 0.9463636115673055, 0.9463636115673055, 0.9463636115673055, 0.9463636115673055, 0.9463636115673055, 0.9463636115673055, 0.9463636115673055, 0.9469615294063602, 0.9469615294063602, 0.9469615294063602, 0.9469615294063602, 0.9469615294063602, 0.9469615294063602, 0.9469615294063602, 0.9469615294063602, 0.9469615294063602, 0.9469615294063602, 0.9469615294063602, 0.9469615294063602, 0.9469615294063602, 0.9486321821919539, 0.9486321821919539, 0.9486321821919539, 0.9486321821919539, 0.9486321821919539, 0.9486321821919539]}], \"average_precision_score_macro\": [{\"categories\": [\"0\", \"1\", \"2\", \"3\", \"4\", \"5\", \"6\", \"7\", \"8\", \"9\", \"10\", \"11\", \"12\", \"13\", \"14\", \"15\", \"16\", \"17\", \"18\", \"19\", \"20\", \"21\", \"22\", \"23\", \"24\", \"25\", \"26\", \"27\", \"28\", \"29\", \"30\", \"31\", \"32\", \"33\", \"34\", \"38\", \"39\"], \"mode\": \"markers\", \"name\": \"average_precision_score_macro\", \"stepped\": false, \"type\": \"scatter\", \"data\": [0.9230587466456577, 0.861823322619381, 0.7907235785942769, 0.8106327380162597, 0.835429745758418, 0.8411485359879181, 0.8360922686707045, 0.8190395252696897, 0.7893298650492322, 0.8488858514095594, 0.81855355273841, 0.5258526176475498, 0.8479751934640618, 0.885914564414297, 0.7820181578087191, 0.8706469805801578, 0.738809017944086, 0.8042230836330866, 0.8523205138289396, 0.8574804081359724, 0.8654853785390311, 0.7960425214368533, 0.815137288843298, 0.8786464116574181, 0.906356326390146, 0.5253542822072663, 0.5003721450970167, 0.7770398938104008, 0.9440161750406144, 0.8494426764444751, 0.8271360182576537, 0.849575379315193, 0.8355526206022802, 0.8593316259301818, 0.8317915454385901, 0.9189511643473549, 0.9341251459352244]}, {\"categories\": [\"0\", \"1\", \"2\", \"3\", \"4\", \"5\", \"6\", \"7\", \"8\", \"9\", \"10\", \"11\", \"12\", \"13\", \"14\", \"15\", \"16\", \"17\", \"18\", \"19\", \"20\", \"21\", \"22\", \"23\", \"24\", \"25\", \"26\", \"27\", \"28\", \"29\", \"30\", \"31\", \"32\", \"33\", \"34\", \"38\", \"39\"], \"mode\": \"lines\", \"name\": \"average_precision_score_macro_max\", \"stepped\": true, \"type\": \"scatter\", \"data\": [0.9230587466456577, 0.9230587466456577, 0.9230587466456577, 0.9230587466456577, 0.9230587466456577, 0.9230587466456577, 0.9230587466456577, 0.9230587466456577, 0.9230587466456577, 0.9230587466456577, 0.9230587466456577, 0.9230587466456577, 0.9230587466456577, 0.9230587466456577, 0.9230587466456577, 0.9230587466456577, 0.9230587466456577, 0.9230587466456577, 0.9230587466456577, 0.9230587466456577, 0.9230587466456577, 0.9230587466456577, 0.9230587466456577, 0.9230587466456577, 0.9230587466456577, 0.9230587466456577, 0.9230587466456577, 0.9230587466456577, 0.9440161750406144, 0.9440161750406144, 0.9440161750406144, 0.9440161750406144, 0.9440161750406144, 0.9440161750406144, 0.9440161750406144, 0.9440161750406144, 0.9440161750406144]}], \"matthews_correlation\": [{\"categories\": [\"0\", \"1\", \"2\", \"3\", \"4\", \"5\", \"6\", \"7\", \"8\", \"9\", \"10\", \"11\", \"12\", \"13\", \"14\", \"15\", \"16\", \"17\", \"18\", \"19\", \"20\", \"21\", \"22\", \"23\", \"24\", \"25\", \"26\", \"27\", \"28\", \"29\", \"30\", \"31\", \"32\", \"33\", \"34\", \"38\", \"39\"], \"mode\": \"markers\", \"name\": \"matthews_correlation\", \"stepped\": false, \"type\": \"scatter\", \"data\": [0.8364533207768194, 0.15788672515323507, 0.25443037007261393, 0.13623964288630241, 0.14141149770312597, 0.23162309302846049, 0.24601823120145735, 0.23878123333789006, 0.29451503573775095, 0.22753870972185025, 0.02780747075027916, 0.1401390972712828, 0.07219082058373576, 0.19172060012539333, 0.0, 0.026588802287817823, 0.02071188097812085, 0.0, 0.23287612679419728, 0.1910450225161341, 0.0084147894772018, 0.0, 0.011127181629005278, 0.28296322076037905, 0.3857233731912309, 0.0, 0.0194071851666996, 0.03350502154005113, 0.8541065802142919, 0.2307931587215215, 0.0, 0.24994180033885247, 0.19192164662605285, 0.2389393063572005, 0.24695971783125625, 0.20963016325941985, 0.3402025356815244]}, {\"categories\": [\"0\", \"1\", \"2\", \"3\", \"4\", \"5\", \"6\", \"7\", \"8\", \"9\", \"10\", \"11\", \"12\", \"13\", \"14\", \"15\", \"16\", \"17\", \"18\", \"19\", \"20\", \"21\", \"22\", \"23\", \"24\", \"25\", \"26\", \"27\", \"28\", \"29\", \"30\", \"31\", \"32\", \"33\", \"34\", \"38\", \"39\"], \"mode\": \"lines\", \"name\": \"matthews_correlation_max\", \"stepped\": true, \"type\": \"scatter\", \"data\": [0.8364533207768194, 0.8364533207768194, 0.8364533207768194, 0.8364533207768194, 0.8364533207768194, 0.8364533207768194, 0.8364533207768194, 0.8364533207768194, 0.8364533207768194, 0.8364533207768194, 0.8364533207768194, 0.8364533207768194, 0.8364533207768194, 0.8364533207768194, 0.8364533207768194, 0.8364533207768194, 0.8364533207768194, 0.8364533207768194, 0.8364533207768194, 0.8364533207768194, 0.8364533207768194, 0.8364533207768194, 0.8364533207768194, 0.8364533207768194, 0.8364533207768194, 0.8364533207768194, 0.8364533207768194, 0.8364533207768194, 0.8541065802142919, 0.8541065802142919, 0.8541065802142919, 0.8541065802142919, 0.8541065802142919, 0.8541065802142919, 0.8541065802142919, 0.8541065802142919, 0.8541065802142919]}], \"weighted_accuracy\": [{\"categories\": [\"0\", \"1\", \"2\", \"3\", \"4\", \"5\", \"6\", \"7\", \"8\", \"9\", \"10\", \"11\", \"12\", \"13\", \"14\", \"15\", \"16\", \"17\", \"18\", \"19\", \"20\", \"21\", \"22\", \"23\", \"24\", \"25\", \"26\", \"27\", \"28\", \"29\", \"30\", \"31\", \"32\", \"33\", \"34\", \"38\", \"39\"], \"mode\": \"markers\", \"name\": \"weighted_accuracy\", \"stepped\": false, \"type\": \"scatter\", \"data\": [0.999718142815141, 0.9469259140514832, 0.9814994098853321, 0.9328572401857158, 0.9345103628576636, 0.9763995981969023, 0.9791781493139325, 0.9778416310551079, 0.9883928485332767, 0.9743597098905183, 0.3102510638470268, 0.9333848737976006, 0.7911863653652681, 0.9669383951707674, 2.9701340404421287e-06, 0.3458797056746847, 0.2309040244976061, 2.9701340404421287e-06, 0.9755555420168353, 0.9651095360631454, 0.039535773368752684, 2.9701340404421287e-06, 0.0671454268734227, 0.9845242223492318, 0.9922971311702918, 2.9701340404421287e-06, 0.1796591613465939, 0.4422848779757044, 0.9997884858813948, 0.9750983120861848, 2.9701340404421287e-06, 0.9788968376638973, 0.963808249952428, 0.9768217172094062, 0.9803035777590154, 0.9710535251616031, 0.9896944377188962]}, {\"categories\": [\"0\", \"1\", \"2\", \"3\", \"4\", \"5\", \"6\", \"7\", \"8\", \"9\", \"10\", \"11\", \"12\", \"13\", \"14\", \"15\", \"16\", \"17\", \"18\", \"19\", \"20\", \"21\", \"22\", \"23\", \"24\", \"25\", \"26\", \"27\", \"28\", \"29\", \"30\", \"31\", \"32\", \"33\", \"34\", \"38\", \"39\"], \"mode\": \"lines\", \"name\": \"weighted_accuracy_max\", \"stepped\": true, \"type\": \"scatter\", \"data\": [0.999718142815141, 0.999718142815141, 0.999718142815141, 0.999718142815141, 0.999718142815141, 0.999718142815141, 0.999718142815141, 0.999718142815141, 0.999718142815141, 0.999718142815141, 0.999718142815141, 0.999718142815141, 0.999718142815141, 0.999718142815141, 0.999718142815141, 0.999718142815141, 0.999718142815141, 0.999718142815141, 0.999718142815141, 0.999718142815141, 0.999718142815141, 0.999718142815141, 0.999718142815141, 0.999718142815141, 0.999718142815141, 0.999718142815141, 0.999718142815141, 0.999718142815141, 0.9997884858813948, 0.9997884858813948, 0.9997884858813948, 0.9997884858813948, 0.9997884858813948, 0.9997884858813948, 0.9997884858813948, 0.9997884858813948, 0.9997884858813948]}], \"recall_score_weighted\": [{\"categories\": [\"0\", \"1\", \"2\", \"3\", \"4\", \"5\", \"6\", \"7\", \"8\", \"9\", \"10\", \"11\", \"12\", \"13\", \"14\", \"15\", \"16\", \"17\", \"18\", \"19\", \"20\", \"21\", \"22\", \"23\", \"24\", \"25\", \"26\", \"27\", \"28\", \"29\", \"30\", \"31\", \"32\", \"33\", \"34\", \"38\", \"39\"], \"mode\": \"markers\", \"name\": \"recall_score_weighted\", \"stepped\": false, \"type\": \"scatter\", \"data\": [0.9994382219725431, 0.9468768652786068, 0.981320880587058, 0.9327973034654682, 0.9344826375478389, 0.9762648783399459, 0.9790386573505144, 0.9777044345353042, 0.9880973280432569, 0.9742635441171307, 0.31143569397141957, 0.9333590814929251, 0.7914047961799094, 0.9667848741266107, 0.0017204452090867595, 0.3469330430813525, 0.23218988097328044, 0.0017204452090867595, 0.9754573224254767, 0.9649942066640919, 0.04118535163793406, 0.0017204452090867595, 0.06874758611003827, 0.9843755486113549, 0.9921351076156034, 0.0017204452090867595, 0.18106808047470244, 0.44317264141006285, 0.9995084442259752, 0.9750008777781679, 0.0017204452090867595, 0.978792879463502, 0.9637302061023139, 0.9767213229872547, 0.9801271022787121, 0.9709279870791053, 0.9895368842386152]}, {\"categories\": [\"0\", \"1\", \"2\", \"3\", \"4\", \"5\", \"6\", \"7\", \"8\", \"9\", \"10\", \"11\", \"12\", \"13\", \"14\", \"15\", \"16\", \"17\", \"18\", \"19\", \"20\", \"21\", \"22\", \"23\", \"24\", \"25\", \"26\", \"27\", \"28\", \"29\", \"30\", \"31\", \"32\", \"33\", \"34\", \"38\", \"39\"], \"mode\": \"lines\", \"name\": \"recall_score_weighted_max\", \"stepped\": true, \"type\": \"scatter\", \"data\": [0.9994382219725431, 0.9994382219725431, 0.9994382219725431, 0.9994382219725431, 0.9994382219725431, 0.9994382219725431, 0.9994382219725431, 0.9994382219725431, 0.9994382219725431, 0.9994382219725431, 0.9994382219725431, 0.9994382219725431, 0.9994382219725431, 0.9994382219725431, 0.9994382219725431, 0.9994382219725431, 0.9994382219725431, 0.9994382219725431, 0.9994382219725431, 0.9994382219725431, 0.9994382219725431, 0.9994382219725431, 0.9994382219725431, 0.9994382219725431, 0.9994382219725431, 0.9994382219725431, 0.9994382219725431, 0.9994382219725431, 0.9995084442259752, 0.9995084442259752, 0.9995084442259752, 0.9995084442259752, 0.9995084442259752, 0.9995084442259752, 0.9995084442259752, 0.9995084442259752, 0.9995084442259752]}], \"log_loss\": [{\"categories\": [\"0\", \"1\", \"2\", \"3\", \"4\", \"5\", \"6\", \"7\", \"8\", \"9\", \"10\", \"11\", \"12\", \"13\", \"14\", \"15\", \"16\", \"17\", \"18\", \"19\", \"20\", \"21\", \"22\", \"23\", \"24\", \"25\", \"26\", \"27\", \"28\", \"29\", \"30\", \"31\", \"32\", \"33\", \"34\", \"38\", \"39\"], \"mode\": \"markers\", \"name\": \"log_loss\", \"stepped\": false, \"type\": \"scatter\", \"data\": [0.0039053037916055794, 0.18636535801185306, 0.5599588342765206, 0.2687456735341203, 0.1981028625723505, 0.12258398490495481, 0.24508724539011473, 0.4076356026529652, 0.4843826780102558, 0.3569343514320179, 1.1472902914924832, 1.5004338783405424, 0.5755568739067118, 0.2349870875815741, 4.96611262285893, 1.2776738247867327, 1.5631068836416027, 2.1215579423134643, 0.12338341831989459, 0.3228663291330439, 2.2397486377471885, 4.529102434900885, 1.9827805528915359, 0.07006533609539325, 0.03018238789181306, 5.107479295047032, 28.266641838952225, 2.0641973322691194, 0.0027613253944592277, 0.1153540370158115, 2.200666883283573, 0.2018832806078902, 0.16108192349127273, 0.20965306664302472, 0.33913618205649243, 0.3529611358378143, 0.4024472598247788]}, {\"categories\": [\"0\", \"1\", \"2\", \"3\", \"4\", \"5\", \"6\", \"7\", \"8\", \"9\", \"10\", \"11\", \"12\", \"13\", \"14\", \"15\", \"16\", \"17\", \"18\", \"19\", \"20\", \"21\", \"22\", \"23\", \"24\", \"25\", \"26\", \"27\", \"28\", \"29\", \"30\", \"31\", \"32\", \"33\", \"34\", \"38\", \"39\"], \"mode\": \"lines\", \"name\": \"log_loss_min\", \"stepped\": true, \"type\": \"scatter\", \"data\": [0.0039053037916055794, 0.0039053037916055794, 0.0039053037916055794, 0.0039053037916055794, 0.0039053037916055794, 0.0039053037916055794, 0.0039053037916055794, 0.0039053037916055794, 0.0039053037916055794, 0.0039053037916055794, 0.0039053037916055794, 0.0039053037916055794, 0.0039053037916055794, 0.0039053037916055794, 0.0039053037916055794, 0.0039053037916055794, 0.0039053037916055794, 0.0039053037916055794, 0.0039053037916055794, 0.0039053037916055794, 0.0039053037916055794, 0.0039053037916055794, 0.0039053037916055794, 0.0039053037916055794, 0.0039053037916055794, 0.0039053037916055794, 0.0039053037916055794, 0.0039053037916055794, 0.0027613253944592277, 0.0027613253944592277, 0.0027613253944592277, 0.0027613253944592277, 0.0027613253944592277, 0.0027613253944592277, 0.0027613253944592277, 0.0027613253944592277, 0.0027613253944592277]}], \"AUC_macro\": [{\"categories\": [\"0\", \"1\", \"2\", \"3\", \"4\", \"5\", \"6\", \"7\", \"8\", \"9\", \"10\", \"11\", \"12\", \"13\", \"14\", \"15\", \"16\", \"17\", \"18\", \"19\", \"20\", \"21\", \"22\", \"23\", \"24\", \"25\", \"26\", \"27\", \"28\", \"29\", \"30\", \"31\", \"32\", \"33\", \"34\", \"38\", \"39\"], \"mode\": \"markers\", \"name\": \"AUC_macro\", \"stepped\": false, \"type\": \"scatter\", \"data\": [0.9251518840513133, 0.956681103786478, 0.9651732597935065, 0.9778655553386238, 0.9650634381495986, 0.9631415593812089, 0.9450084268372516, 0.9723486327564228, 0.9639257433417936, 0.9666594409288758, 0.9666508274666087, 0.9573577989158522, 0.9660697776578273, 0.9594158780563435, 0.9525107524720637, 0.9592762681887612, 0.972652616195606, 0.9667986919021969, 0.9630195353324221, 0.9541788929978294, 0.9636999988515383, 0.9590192998977869, 0.9630805473568155, 0.9743519805220908, 0.9715755745179333, 0.9226909461026955, 0.5982959341586944, 0.9605865911361732, 0.9735997381507471, 0.9558330366474108, 0.9688486959218128, 0.9518697673216725, 0.969063673584234, 0.9592794982371113, 0.9038027000333054, 0.9830709577021579, 0.9796593088557877]}, {\"categories\": [\"0\", \"1\", \"2\", \"3\", \"4\", \"5\", \"6\", \"7\", \"8\", \"9\", \"10\", \"11\", \"12\", \"13\", \"14\", \"15\", \"16\", \"17\", \"18\", \"19\", \"20\", \"21\", \"22\", \"23\", \"24\", \"25\", \"26\", \"27\", \"28\", \"29\", \"30\", \"31\", \"32\", \"33\", \"34\", \"38\", \"39\"], \"mode\": \"lines\", \"name\": \"AUC_macro_max\", \"stepped\": true, \"type\": \"scatter\", \"data\": [0.9251518840513133, 0.956681103786478, 0.9651732597935065, 0.9778655553386238, 0.9778655553386238, 0.9778655553386238, 0.9778655553386238, 0.9778655553386238, 0.9778655553386238, 0.9778655553386238, 0.9778655553386238, 0.9778655553386238, 0.9778655553386238, 0.9778655553386238, 0.9778655553386238, 0.9778655553386238, 0.9778655553386238, 0.9778655553386238, 0.9778655553386238, 0.9778655553386238, 0.9778655553386238, 0.9778655553386238, 0.9778655553386238, 0.9778655553386238, 0.9778655553386238, 0.9778655553386238, 0.9778655553386238, 0.9778655553386238, 0.9778655553386238, 0.9778655553386238, 0.9778655553386238, 0.9778655553386238, 0.9778655553386238, 0.9778655553386238, 0.9778655553386238, 0.9830709577021579, 0.9830709577021579]}], \"recall_score_macro\": [{\"categories\": [\"0\", \"1\", \"2\", \"3\", \"4\", \"5\", \"6\", \"7\", \"8\", \"9\", \"10\", \"11\", \"12\", \"13\", \"14\", \"15\", \"16\", \"17\", \"18\", \"19\", \"20\", \"21\", \"22\", \"23\", \"24\", \"25\", \"26\", \"27\", \"28\", \"29\", \"30\", \"31\", \"32\", \"33\", \"34\", \"38\", \"39\"], \"mode\": \"markers\", \"name\": \"recall_score_macro\", \"stepped\": false, \"type\": \"scatter\", \"data\": [0.9182266603884097, 0.9326466729066416, 0.9295253695175312, 0.9154082637556993, 0.9264388788717512, 0.9371795074248045, 0.9385687871096666, 0.9379005259954292, 0.9023599451035338, 0.9463636115673055, 0.6551245075970737, 0.9258761326702882, 0.8547766672791796, 0.9222448405361019, 0.5, 0.6525307787718351, 0.6052468187612693, 0.5, 0.9469615294063602, 0.9315344595913774, 0.5197664603263928, 0.5, 0.5335713280810355, 0.9412418315666164, 0.9451282975204713, 0.5, 0.5898283624085537, 0.7007335080909122, 0.9182618320260012, 0.9467329137620157, 0.5, 0.9486321821919539, 0.9410878659285886, 0.9475946188830062, 0.9289274516784767, 0.9345064629678546, 0.9438269469295878]}, {\"categories\": [\"0\", \"1\", \"2\", \"3\", \"4\", \"5\", \"6\", \"7\", \"8\", \"9\", \"10\", \"11\", \"12\", \"13\", \"14\", \"15\", \"16\", \"17\", \"18\", \"19\", \"20\", \"21\", \"22\", \"23\", \"24\", \"25\", \"26\", \"27\", \"28\", \"29\", \"30\", \"31\", \"32\", \"33\", \"34\", \"38\", \"39\"], \"mode\": \"lines\", \"name\": \"recall_score_macro_max\", \"stepped\": true, \"type\": \"scatter\", \"data\": [0.9182266603884097, 0.9326466729066416, 0.9326466729066416, 0.9326466729066416, 0.9326466729066416, 0.9371795074248045, 0.9385687871096666, 0.9385687871096666, 0.9385687871096666, 0.9463636115673055, 0.9463636115673055, 0.9463636115673055, 0.9463636115673055, 0.9463636115673055, 0.9463636115673055, 0.9463636115673055, 0.9463636115673055, 0.9463636115673055, 0.9469615294063602, 0.9469615294063602, 0.9469615294063602, 0.9469615294063602, 0.9469615294063602, 0.9469615294063602, 0.9469615294063602, 0.9469615294063602, 0.9469615294063602, 0.9469615294063602, 0.9469615294063602, 0.9469615294063602, 0.9469615294063602, 0.9486321821919539, 0.9486321821919539, 0.9486321821919539, 0.9486321821919539, 0.9486321821919539, 0.9486321821919539]}], \"precision_score_micro\": [{\"categories\": [\"0\", \"1\", \"2\", \"3\", \"4\", \"5\", \"6\", \"7\", \"8\", \"9\", \"10\", \"11\", \"12\", \"13\", \"14\", \"15\", \"16\", \"17\", \"18\", \"19\", \"20\", \"21\", \"22\", \"23\", \"24\", \"25\", \"26\", \"27\", \"28\", \"29\", \"30\", \"31\", \"32\", \"33\", \"34\", \"38\", \"39\"], \"mode\": \"markers\", \"name\": \"precision_score_micro\", \"stepped\": false, \"type\": \"scatter\", \"data\": [0.9994382219725431, 0.9468768652786068, 0.981320880587058, 0.9327973034654682, 0.9344826375478389, 0.9762648783399459, 0.9790386573505144, 0.9777044345353042, 0.9880973280432569, 0.9742635441171307, 0.31143569397141957, 0.9333590814929251, 0.7914047961799094, 0.9667848741266107, 0.0017204452090867595, 0.3469330430813525, 0.23218988097328044, 0.0017204452090867595, 0.9754573224254767, 0.9649942066640919, 0.04118535163793406, 0.0017204452090867595, 0.06874758611003827, 0.9843755486113549, 0.9921351076156034, 0.0017204452090867595, 0.18106808047470244, 0.44317264141006285, 0.9995084442259752, 0.9750008777781679, 0.0017204452090867595, 0.978792879463502, 0.9637302061023139, 0.9767213229872547, 0.9801271022787121, 0.9709279870791053, 0.9895368842386152]}, {\"categories\": [\"0\", \"1\", \"2\", \"3\", \"4\", \"5\", \"6\", \"7\", \"8\", \"9\", \"10\", \"11\", \"12\", \"13\", \"14\", \"15\", \"16\", \"17\", \"18\", \"19\", \"20\", \"21\", \"22\", \"23\", \"24\", \"25\", \"26\", \"27\", \"28\", \"29\", \"30\", \"31\", \"32\", \"33\", \"34\", \"38\", \"39\"], \"mode\": \"lines\", \"name\": \"precision_score_micro_max\", \"stepped\": true, \"type\": \"scatter\", \"data\": [0.9994382219725431, 0.9994382219725431, 0.9994382219725431, 0.9994382219725431, 0.9994382219725431, 0.9994382219725431, 0.9994382219725431, 0.9994382219725431, 0.9994382219725431, 0.9994382219725431, 0.9994382219725431, 0.9994382219725431, 0.9994382219725431, 0.9994382219725431, 0.9994382219725431, 0.9994382219725431, 0.9994382219725431, 0.9994382219725431, 0.9994382219725431, 0.9994382219725431, 0.9994382219725431, 0.9994382219725431, 0.9994382219725431, 0.9994382219725431, 0.9994382219725431, 0.9994382219725431, 0.9994382219725431, 0.9994382219725431, 0.9995084442259752, 0.9995084442259752, 0.9995084442259752, 0.9995084442259752, 0.9995084442259752, 0.9995084442259752, 0.9995084442259752, 0.9995084442259752, 0.9995084442259752]}], \"precision_score_macro\": [{\"categories\": [\"0\", \"1\", \"2\", \"3\", \"4\", \"5\", \"6\", \"7\", \"8\", \"9\", \"10\", \"11\", \"12\", \"13\", \"14\", \"15\", \"16\", \"17\", \"18\", \"19\", \"20\", \"21\", \"22\", \"23\", \"24\", \"25\", \"26\", \"27\", \"28\", \"29\", \"30\", \"31\", \"32\", \"33\", \"34\", \"38\", \"39\"], \"mode\": \"markers\", \"name\": \"precision_score_macro\", \"stepped\": false, \"type\": \"scatter\", \"data\": [0.9182266603884097, 0.5144044895873915, 0.5376781080987144, 0.5111704808938894, 0.5117233750681626, 0.5306791925930441, 0.5345014122427499, 0.5325510441353974, 0.5538939743699447, 0.5289975835172205, 0.5012461851475076, 0.5115285672742869, 0.5036723910118729, 0.5217627221127041, 0.0008602226045433798, 0.5011587241814293, 0.5010189904519226, 0.0008602226045433798, 0.5303333099510238, 0.5211444299620652, 0.5008955660342874, 0.0008602226045433798, 0.5009220231822972, 0.5453652501729082, 0.5835615941823936, 0.0008602226045433798, 0.5010482180293501, 0.5013981054771021, 0.9360295361112483, 0.5298083488320233, 0.0008602226045433798, 0.5348118715265826, 0.5208767466126686, 0.5318882252566708, 0.5355474463062643, 0.5252843220374734, 0.5651930702297469]}, {\"categories\": [\"0\", \"1\", \"2\", \"3\", \"4\", \"5\", \"6\", \"7\", \"8\", \"9\", \"10\", \"11\", \"12\", \"13\", \"14\", \"15\", \"16\", \"17\", \"18\", \"19\", \"20\", \"21\", \"22\", \"23\", \"24\", \"25\", \"26\", \"27\", \"28\", \"29\", \"30\", \"31\", \"32\", \"33\", \"34\", \"38\", \"39\"], \"mode\": \"lines\", \"name\": \"precision_score_macro_max\", \"stepped\": true, \"type\": \"scatter\", \"data\": [0.9182266603884097, 0.9182266603884097, 0.9182266603884097, 0.9182266603884097, 0.9182266603884097, 0.9182266603884097, 0.9182266603884097, 0.9182266603884097, 0.9182266603884097, 0.9182266603884097, 0.9182266603884097, 0.9182266603884097, 0.9182266603884097, 0.9182266603884097, 0.9182266603884097, 0.9182266603884097, 0.9182266603884097, 0.9182266603884097, 0.9182266603884097, 0.9182266603884097, 0.9182266603884097, 0.9182266603884097, 0.9182266603884097, 0.9182266603884097, 0.9182266603884097, 0.9182266603884097, 0.9182266603884097, 0.9182266603884097, 0.9360295361112483, 0.9360295361112483, 0.9360295361112483, 0.9360295361112483, 0.9360295361112483, 0.9360295361112483, 0.9360295361112483, 0.9360295361112483, 0.9360295361112483]}], \"f1_score_weighted\": [{\"categories\": [\"0\", \"1\", \"2\", \"3\", \"4\", \"5\", \"6\", \"7\", \"8\", \"9\", \"10\", \"11\", \"12\", \"13\", \"14\", \"15\", \"16\", \"17\", \"18\", \"19\", \"20\", \"21\", \"22\", \"23\", \"24\", \"25\", \"26\", \"27\", \"28\", \"29\", \"30\", \"31\", \"32\", \"33\", \"34\", \"38\", \"39\"], \"mode\": \"markers\", \"name\": \"f1_score_weighted\", \"stepped\": false, \"type\": \"scatter\", \"data\": [0.9994382219725431, 0.9710924736828486, 0.9890932147904932, 0.9635897663131018, 0.9644935080531996, 0.9864695184888764, 0.9879105850098894, 0.9872172876984049, 0.9926229184697583, 0.9854332827821202, 0.4727663971240257, 0.9638914292162114, 0.8818579013570027, 0.981538025192245, 5.909696126551085e-06, 0.5130786385546569, 0.37452636519069094, 5.909696126551085e-06, 0.9860535112888155, 0.9806070289178677, 0.07593430334791479, 5.909696126551085e-06, 0.12562616605834018, 0.9906911571852495, 0.9948175072390942, 5.909696126551085e-06, 0.304074697971213, 0.6122350344409805, 0.9995033324974358, 0.985816371442524, 5.909696126551085e-06, 0.987786792342542, 0.9799496481384365, 0.9867102146944013, 0.9884722771149845, 0.9836966760237629, 0.9934135915274417]}, {\"categories\": [\"0\", \"1\", \"2\", \"3\", \"4\", \"5\", \"6\", \"7\", \"8\", \"9\", \"10\", \"11\", \"12\", \"13\", \"14\", \"15\", \"16\", \"17\", \"18\", \"19\", \"20\", \"21\", \"22\", \"23\", \"24\", \"25\", \"26\", \"27\", \"28\", \"29\", \"30\", \"31\", \"32\", \"33\", \"34\", \"38\", \"39\"], \"mode\": \"lines\", \"name\": \"f1_score_weighted_max\", \"stepped\": true, \"type\": \"scatter\", \"data\": [0.9994382219725431, 0.9994382219725431, 0.9994382219725431, 0.9994382219725431, 0.9994382219725431, 0.9994382219725431, 0.9994382219725431, 0.9994382219725431, 0.9994382219725431, 0.9994382219725431, 0.9994382219725431, 0.9994382219725431, 0.9994382219725431, 0.9994382219725431, 0.9994382219725431, 0.9994382219725431, 0.9994382219725431, 0.9994382219725431, 0.9994382219725431, 0.9994382219725431, 0.9994382219725431, 0.9994382219725431, 0.9994382219725431, 0.9994382219725431, 0.9994382219725431, 0.9994382219725431, 0.9994382219725431, 0.9994382219725431, 0.9995033324974358, 0.9995033324974358, 0.9995033324974358, 0.9995033324974358, 0.9995033324974358, 0.9995033324974358, 0.9995033324974358, 0.9995033324974358, 0.9995033324974358]}], \"average_precision_score_weighted\": [{\"categories\": [\"0\", \"1\", \"2\", \"3\", \"4\", \"5\", \"6\", \"7\", \"8\", \"9\", \"10\", \"11\", \"12\", \"13\", \"14\", \"15\", \"16\", \"17\", \"18\", \"19\", \"20\", \"21\", \"22\", \"23\", \"24\", \"25\", \"26\", \"27\", \"28\", \"29\", \"30\", \"31\", \"32\", \"33\", \"34\", \"38\", \"39\"], \"mode\": \"markers\", \"name\": \"average_precision_score_weighted\", \"stepped\": false, \"type\": \"scatter\", \"data\": [0.9991205202051671, 0.9993980155384158, 0.9991990122514346, 0.9993046416936674, 0.9993448190080577, 0.9993682043963088, 0.9992585114520979, 0.9993176914234259, 0.9991219234508888, 0.9994030092545806, 0.9993013793978377, 0.9982250453119681, 0.9993943479522331, 0.9994987318473727, 0.9991417936852157, 0.9994353987930102, 0.999000321546167, 0.9992497856356108, 0.999365704943527, 0.999351376938826, 0.999436794703592, 0.9992037598165487, 0.9992792012742647, 0.9995250045356728, 0.9996135156400594, 0.9981367708972937, 0.9969304777442519, 0.9991310950293526, 0.9997359282609956, 0.999345227123655, 0.9993301771695823, 0.9993307497349655, 0.9993666781217573, 0.9994194690187392, 0.9989705363647357, 0.9996882439325007, 0.9997293432182339]}, {\"categories\": [\"0\", \"1\", \"2\", \"3\", \"4\", \"5\", \"6\", \"7\", \"8\", \"9\", \"10\", \"11\", \"12\", \"13\", \"14\", \"15\", \"16\", \"17\", \"18\", \"19\", \"20\", \"21\", \"22\", \"23\", \"24\", \"25\", \"26\", \"27\", \"28\", \"29\", \"30\", \"31\", \"32\", \"33\", \"34\", \"38\", \"39\"], \"mode\": \"lines\", \"name\": \"average_precision_score_weighted_max\", \"stepped\": true, \"type\": \"scatter\", \"data\": [0.9991205202051671, 0.9993980155384158, 0.9993980155384158, 0.9993980155384158, 0.9993980155384158, 0.9993980155384158, 0.9993980155384158, 0.9993980155384158, 0.9993980155384158, 0.9994030092545806, 0.9994030092545806, 0.9994030092545806, 0.9994030092545806, 0.9994987318473727, 0.9994987318473727, 0.9994987318473727, 0.9994987318473727, 0.9994987318473727, 0.9994987318473727, 0.9994987318473727, 0.9994987318473727, 0.9994987318473727, 0.9994987318473727, 0.9995250045356728, 0.9996135156400594, 0.9996135156400594, 0.9996135156400594, 0.9996135156400594, 0.9997359282609956, 0.9997359282609956, 0.9997359282609956, 0.9997359282609956, 0.9997359282609956, 0.9997359282609956, 0.9997359282609956, 0.9997359282609956, 0.9997359282609956]}]}, \"metricName\": null, \"primaryMetricName\": \"AUC_weighted\", \"showLegend\": false}, \"run_metrics\": [{\"name\": \"experiment_status\", \"run_id\": \"AutoML_fc4b5e57-5118-47f6-8be5-a071c1743d21\", \"categories\": [0, 1, 2, 3, 4, 5, 6, 7, 8, 9, 10, 11, 12, 13], \"series\": [{\"data\": [\"DatasetEvaluation\", \"FeaturesGeneration\", \"DatasetFeaturization\", \"DatasetFeaturizationCompleted\", \"DatasetBalancing\", \"ModelSelection\", \"BestRunExplainModel\", \"ModelExplanationDataSetSetup\", \"PickSurrogateModel\", \"EngineeredFeatureExplanations\", \"EngineeredFeatureExplanations\", \"RawFeaturesExplanations\", \"RawFeaturesExplanations\", \"BestRunExplainModel\"]}]}, {\"name\": \"experiment_status_description\", \"run_id\": \"AutoML_fc4b5e57-5118-47f6-8be5-a071c1743d21\", \"categories\": [0, 1, 2, 3, 4, 5, 6, 7, 8, 9, 10, 11, 12, 13], \"series\": [{\"data\": [\"Gathering dataset statistics.\", \"Generating features for the dataset.\", \"Beginning to fit featurizers and featurize the dataset.\", \"Completed fit featurizers and featurizing the dataset.\", \"Performing class balancing sweeping\", \"Beginning model selection.\", \"Best run model explanations started\", \"Model explanations data setup completed\", \"Choosing LightGBM as the surrogate model for explanations\", \"Computation of engineered features started\", \"Computation of engineered features completed\", \"Computation of raw features started\", \"Computation of raw features completed\", \"Best run model explanations completed\"]}]}, {\"name\": \"f1_score_micro\", \"run_id\": \"AutoML_fc4b5e57-5118-47f6-8be5-a071c1743d21\", \"categories\": [0], \"series\": [{\"data\": [0.9709279870791053]}]}, {\"name\": \"balanced_accuracy\", \"run_id\": \"AutoML_fc4b5e57-5118-47f6-8be5-a071c1743d21\", \"categories\": [0], \"series\": [{\"data\": [0.9345064629678546]}]}, {\"name\": \"precision_score_macro\", \"run_id\": \"AutoML_fc4b5e57-5118-47f6-8be5-a071c1743d21\", \"categories\": [0], \"series\": [{\"data\": [0.5252843220374734]}]}, {\"name\": \"f1_score_weighted\", \"run_id\": \"AutoML_fc4b5e57-5118-47f6-8be5-a071c1743d21\", \"categories\": [0], \"series\": [{\"data\": [0.9836966760237629]}]}, {\"name\": \"recall_score_macro\", \"run_id\": \"AutoML_fc4b5e57-5118-47f6-8be5-a071c1743d21\", \"categories\": [0], \"series\": [{\"data\": [0.9345064629678546]}]}, {\"name\": \"precision_score_micro\", \"run_id\": \"AutoML_fc4b5e57-5118-47f6-8be5-a071c1743d21\", \"categories\": [0], \"series\": [{\"data\": [0.9709279870791053]}]}, {\"name\": \"precision_score_weighted\", \"run_id\": \"AutoML_fc4b5e57-5118-47f6-8be5-a071c1743d21\", \"categories\": [0], \"series\": [{\"data\": [0.998186110831605]}]}, {\"name\": \"average_precision_score_macro\", \"run_id\": \"AutoML_fc4b5e57-5118-47f6-8be5-a071c1743d21\", \"categories\": [0], \"series\": [{\"data\": [0.9189511643473549]}]}, {\"name\": \"AUC_weighted\", \"run_id\": \"AutoML_fc4b5e57-5118-47f6-8be5-a071c1743d21\", \"categories\": [0], \"series\": [{\"data\": [0.983070957702158]}]}, {\"name\": \"AUC_macro\", \"run_id\": \"AutoML_fc4b5e57-5118-47f6-8be5-a071c1743d21\", \"categories\": [0], \"series\": [{\"data\": [0.9830709577021579]}]}, {\"name\": \"log_loss\", \"run_id\": \"AutoML_fc4b5e57-5118-47f6-8be5-a071c1743d21\", \"categories\": [0], \"series\": [{\"data\": [0.3529611358378143]}]}, {\"name\": \"f1_score_macro\", \"run_id\": \"AutoML_fc4b5e57-5118-47f6-8be5-a071c1743d21\", \"categories\": [0], \"series\": [{\"data\": [0.5406481450748426]}]}, {\"name\": \"average_precision_score_weighted\", \"run_id\": \"AutoML_fc4b5e57-5118-47f6-8be5-a071c1743d21\", \"categories\": [0], \"series\": [{\"data\": [0.9996882439325007]}]}, {\"name\": \"AUC_micro\", \"run_id\": \"AutoML_fc4b5e57-5118-47f6-8be5-a071c1743d21\", \"categories\": [0], \"series\": [{\"data\": [0.9950687734833552]}]}, {\"name\": \"weighted_accuracy\", \"run_id\": \"AutoML_fc4b5e57-5118-47f6-8be5-a071c1743d21\", \"categories\": [0], \"series\": [{\"data\": [0.9710535251616031]}]}, {\"name\": \"norm_macro_recall\", \"run_id\": \"AutoML_fc4b5e57-5118-47f6-8be5-a071c1743d21\", \"categories\": [0], \"series\": [{\"data\": [0.8690129259357091]}]}, {\"name\": \"recall_score_weighted\", \"run_id\": \"AutoML_fc4b5e57-5118-47f6-8be5-a071c1743d21\", \"categories\": [0], \"series\": [{\"data\": [0.9709279870791053]}]}, {\"name\": \"matthews_correlation\", \"run_id\": \"AutoML_fc4b5e57-5118-47f6-8be5-a071c1743d21\", \"categories\": [0], \"series\": [{\"data\": [0.20963016325941985]}]}, {\"name\": \"average_precision_score_micro\", \"run_id\": \"AutoML_fc4b5e57-5118-47f6-8be5-a071c1743d21\", \"categories\": [0], \"series\": [{\"data\": [0.9945869407160262]}]}, {\"name\": \"recall_score_micro\", \"run_id\": \"AutoML_fc4b5e57-5118-47f6-8be5-a071c1743d21\", \"categories\": [0], \"series\": [{\"data\": [0.9709279870791053]}]}, {\"name\": \"accuracy\", \"run_id\": \"AutoML_fc4b5e57-5118-47f6-8be5-a071c1743d21\", \"categories\": [0], \"series\": [{\"data\": [0.9709279870791053]}]}], \"run_logs\": \"\\nRun is completed.\", \"graph\": {}, \"widget_settings\": {\"childWidgetDisplay\": \"popup\", \"send_telemetry\": false, \"log_level\": \"INFO\", \"sdk_version\": \"1.26.0\"}, \"loading\": false}"
     },
     "metadata": {},
     "output_type": "display_data"
    }
   ],
   "source": [
    "# submit script to AML\n",
    "RunDetails(remote_run).show()"
   ]
  },
  {
   "cell_type": "markdown",
   "metadata": {},
   "source": [
    "## Best Model\n",
    "\n",
    "TODO: In the cell below, get the best model from the automl experiments and display all the properties of the model.\n",
    "\n"
   ]
  },
  {
   "cell_type": "code",
   "execution_count": 8,
   "metadata": {
    "gather": {
     "logged": 1618180707097
    },
    "jupyter": {
     "outputs_hidden": false,
     "source_hidden": false
    },
    "nteract": {
     "transient": {
      "deleting": false
     }
    }
   },
   "outputs": [],
   "source": [
    "automl_best_run, automl_fitted_model = remote_run.get_output()"
   ]
  },
  {
   "cell_type": "code",
   "execution_count": 27,
   "metadata": {},
   "outputs": [
    {
     "data": {
      "text/plain": [
       "'VotingEnsemble'"
      ]
     },
     "execution_count": 27,
     "metadata": {},
     "output_type": "execute_result"
    }
   ],
   "source": [
    "automl_best_run.properties['run_algorithm']"
   ]
  },
  {
   "cell_type": "code",
   "execution_count": 10,
   "metadata": {},
   "outputs": [
    {
     "data": {
      "text/plain": [
       "[('3',\n",
       "  Pipeline(memory=None,\n",
       "           steps=[('minmaxscaler', MinMaxScaler(copy=True, feature_range=(0, 1))),\n",
       "                  ('randomforestclassifier',\n",
       "                   RandomForestClassifier(bootstrap=True, ccp_alpha=0.0,\n",
       "                                          class_weight='balanced',\n",
       "                                          criterion='gini', max_depth=None,\n",
       "                                          max_features='log2',\n",
       "                                          max_leaf_nodes=None, max_samples=None,\n",
       "                                          min_impurity_decrease=0.0,\n",
       "                                          min_impurity_split=None,\n",
       "                                          min_samples_leaf=0.01,\n",
       "                                          min_samples_split=0.01,\n",
       "                                          min_weight_fraction_leaf=0.0,\n",
       "                                          n_estimators=25, n_jobs=1,\n",
       "                                          oob_score=True, random_state=None,\n",
       "                                          verbose=0, warm_start=False))],\n",
       "           verbose=False)),\n",
       " ('23',\n",
       "  Pipeline(memory=None,\n",
       "           steps=[('maxabsscaler', MaxAbsScaler(copy=True)),\n",
       "                  ('lightgbmclassifier',\n",
       "                   LightGBMClassifier(boosting_type='goss', class_weight=None,\n",
       "                                      colsample_bytree=0.1988888888888889,\n",
       "                                      importance_type='split',\n",
       "                                      learning_rate=0.09473736842105263,\n",
       "                                      max_bin=300, max_depth=3,\n",
       "                                      min_child_samples=4422, min_child_weight=8,\n",
       "                                      min_split_gain=0.631578947368421,\n",
       "                                      n_estimators=100, n_jobs=1, num_leaves=11,\n",
       "                                      objective=None, random_state=None,\n",
       "                                      reg_alpha=0.2631578947368421,\n",
       "                                      reg_lambda=0.15789473684210525, silent=True,\n",
       "                                      subsample=1, subsample_for_bin=200000,\n",
       "                                      subsample_freq=0, verbose=-10))],\n",
       "           verbose=False)),\n",
       " ('28',\n",
       "  Pipeline(memory=None,\n",
       "           steps=[('robustscaler',\n",
       "                   RobustScaler(copy=True, quantile_range=[25, 75],\n",
       "                                with_centering=False, with_scaling=True)),\n",
       "                  ('lightgbmclassifier',\n",
       "                   LightGBMClassifier(boosting_type='gbdt', class_weight=None,\n",
       "                                      colsample_bytree=0.4955555555555555,\n",
       "                                      importance_type='split',\n",
       "                                      learning_rate=0.07894947368421053,\n",
       "                                      max_bin=280, max_depth=5,\n",
       "                                      min_child_samples=3, min_child_weight=0,\n",
       "                                      min_split_gain=0.894736842105263,\n",
       "                                      n_estimators=800, n_jobs=1, num_leaves=140,\n",
       "                                      objective=None, random_state=None,\n",
       "                                      reg_alpha=0.3684210526315789,\n",
       "                                      reg_lambda=0.10526315789473684, silent=True,\n",
       "                                      subsample=0.14894736842105263,\n",
       "                                      subsample_for_bin=200000, subsample_freq=0,\n",
       "                                      verbose=-10))],\n",
       "           verbose=False)),\n",
       " ('16',\n",
       "  Pipeline(memory=None,\n",
       "           steps=[('minmaxscaler', MinMaxScaler(copy=True, feature_range=(0, 1))),\n",
       "                  ('randomforestclassifier',\n",
       "                   RandomForestClassifier(bootstrap=True, ccp_alpha=0.0,\n",
       "                                          class_weight='balanced',\n",
       "                                          criterion='gini', max_depth=None,\n",
       "                                          max_features=0.2, max_leaf_nodes=None,\n",
       "                                          max_samples=None,\n",
       "                                          min_impurity_decrease=0.0,\n",
       "                                          min_impurity_split=None,\n",
       "                                          min_samples_leaf=0.06157894736842105,\n",
       "                                          min_samples_split=0.10368421052631578,\n",
       "                                          min_weight_fraction_leaf=0.0,\n",
       "                                          n_estimators=10, n_jobs=1,\n",
       "                                          oob_score=True, random_state=None,\n",
       "                                          verbose=0, warm_start=False))],\n",
       "           verbose=False)),\n",
       " ('7',\n",
       "  Pipeline(memory=None,\n",
       "           steps=[('minmaxscaler', MinMaxScaler(copy=True, feature_range=(0, 1))),\n",
       "                  ('extratreesclassifier',\n",
       "                   ExtraTreesClassifier(bootstrap=True, ccp_alpha=0.0,\n",
       "                                        class_weight=None, criterion='entropy',\n",
       "                                        max_depth=None, max_features=0.3,\n",
       "                                        max_leaf_nodes=None, max_samples=None,\n",
       "                                        min_impurity_decrease=0.0,\n",
       "                                        min_impurity_split=None,\n",
       "                                        min_samples_leaf=0.01,\n",
       "                                        min_samples_split=0.056842105263157895,\n",
       "                                        min_weight_fraction_leaf=0.0,\n",
       "                                        n_estimators=25, n_jobs=1, oob_score=True,\n",
       "                                        random_state=None, verbose=0,\n",
       "                                        warm_start=False))],\n",
       "           verbose=False)),\n",
       " ('26',\n",
       "  Pipeline(memory=None,\n",
       "           steps=[('maxabsscaler', MaxAbsScaler(copy=True)),\n",
       "                  ('logisticregression',\n",
       "                   LogisticRegression(C=5.428675439323859,\n",
       "                                      class_weight='balanced', dual=False,\n",
       "                                      fit_intercept=True, intercept_scaling=1,\n",
       "                                      l1_ratio=None, max_iter=100,\n",
       "                                      multi_class='multinomial', n_jobs=1,\n",
       "                                      penalty='l1', random_state=None,\n",
       "                                      solver='saga', tol=0.0001, verbose=0,\n",
       "                                      warm_start=False))],\n",
       "           verbose=False))]"
      ]
     },
     "execution_count": 10,
     "metadata": {},
     "output_type": "execute_result"
    }
   ],
   "source": [
    "automl_fitted_model.steps[1][1].estimators"
   ]
  },
  {
   "cell_type": "code",
   "execution_count": 12,
   "metadata": {
    "scrolled": false
   },
   "outputs": [
    {
     "name": "stdout",
     "output_type": "stream",
     "text": [
      "datatransformer\n",
      "{'enable_dnn': None,\n",
      " 'enable_feature_sweeping': None,\n",
      " 'feature_sweeping_config': None,\n",
      " 'feature_sweeping_timeout': None,\n",
      " 'featurization_config': None,\n",
      " 'force_text_dnn': None,\n",
      " 'is_cross_validation': None,\n",
      " 'is_onnx_compatible': None,\n",
      " 'logger': None,\n",
      " 'observer': None,\n",
      " 'task': None,\n",
      " 'working_dir': None}\n",
      "\n",
      "prefittedsoftvotingclassifier\n",
      "{'estimators': ['3', '23', '28', '16', '7', '26'],\n",
      " 'weights': [0.26666666666666666,\n",
      "             0.06666666666666667,\n",
      "             0.13333333333333333,\n",
      "             0.06666666666666667,\n",
      "             0.4,\n",
      "             0.06666666666666667]}\n",
      "\n",
      "3 - minmaxscaler\n",
      "{'copy': True, 'feature_range': (0, 1)}\n",
      "\n",
      "3 - randomforestclassifier\n",
      "{'bootstrap': True,\n",
      " 'ccp_alpha': 0.0,\n",
      " 'class_weight': 'balanced',\n",
      " 'criterion': 'gini',\n",
      " 'max_depth': None,\n",
      " 'max_features': 'log2',\n",
      " 'max_leaf_nodes': None,\n",
      " 'max_samples': None,\n",
      " 'min_impurity_decrease': 0.0,\n",
      " 'min_impurity_split': None,\n",
      " 'min_samples_leaf': 0.01,\n",
      " 'min_samples_split': 0.01,\n",
      " 'min_weight_fraction_leaf': 0.0,\n",
      " 'n_estimators': 25,\n",
      " 'n_jobs': 1,\n",
      " 'oob_score': True,\n",
      " 'random_state': None,\n",
      " 'verbose': 0,\n",
      " 'warm_start': False}\n",
      "\n",
      "23 - maxabsscaler\n",
      "{'copy': True}\n",
      "\n",
      "23 - lightgbmclassifier\n",
      "{'boosting_type': 'goss',\n",
      " 'class_weight': None,\n",
      " 'colsample_bytree': 0.1988888888888889,\n",
      " 'importance_type': 'split',\n",
      " 'learning_rate': 0.09473736842105263,\n",
      " 'max_bin': 300,\n",
      " 'max_depth': 3,\n",
      " 'min_child_samples': 4422,\n",
      " 'min_child_weight': 8,\n",
      " 'min_split_gain': 0.631578947368421,\n",
      " 'n_estimators': 100,\n",
      " 'n_jobs': 1,\n",
      " 'num_leaves': 11,\n",
      " 'objective': None,\n",
      " 'random_state': None,\n",
      " 'reg_alpha': 0.2631578947368421,\n",
      " 'reg_lambda': 0.15789473684210525,\n",
      " 'silent': True,\n",
      " 'subsample': 1,\n",
      " 'subsample_for_bin': 200000,\n",
      " 'subsample_freq': 0,\n",
      " 'verbose': -10}\n",
      "\n",
      "28 - robustscaler\n",
      "{'copy': True,\n",
      " 'quantile_range': [25, 75],\n",
      " 'with_centering': False,\n",
      " 'with_scaling': True}\n",
      "\n",
      "28 - lightgbmclassifier\n",
      "{'boosting_type': 'gbdt',\n",
      " 'class_weight': None,\n",
      " 'colsample_bytree': 0.4955555555555555,\n",
      " 'importance_type': 'split',\n",
      " 'learning_rate': 0.07894947368421053,\n",
      " 'max_bin': 280,\n",
      " 'max_depth': 5,\n",
      " 'min_child_samples': 3,\n",
      " 'min_child_weight': 0,\n",
      " 'min_split_gain': 0.894736842105263,\n",
      " 'n_estimators': 800,\n",
      " 'n_jobs': 1,\n",
      " 'num_leaves': 140,\n",
      " 'objective': None,\n",
      " 'random_state': None,\n",
      " 'reg_alpha': 0.3684210526315789,\n",
      " 'reg_lambda': 0.10526315789473684,\n",
      " 'silent': True,\n",
      " 'subsample': 0.14894736842105263,\n",
      " 'subsample_for_bin': 200000,\n",
      " 'subsample_freq': 0,\n",
      " 'verbose': -10}\n",
      "\n",
      "16 - minmaxscaler\n",
      "{'copy': True, 'feature_range': (0, 1)}\n",
      "\n",
      "16 - randomforestclassifier\n",
      "{'bootstrap': True,\n",
      " 'ccp_alpha': 0.0,\n",
      " 'class_weight': 'balanced',\n",
      " 'criterion': 'gini',\n",
      " 'max_depth': None,\n",
      " 'max_features': 0.2,\n",
      " 'max_leaf_nodes': None,\n",
      " 'max_samples': None,\n",
      " 'min_impurity_decrease': 0.0,\n",
      " 'min_impurity_split': None,\n",
      " 'min_samples_leaf': 0.06157894736842105,\n",
      " 'min_samples_split': 0.10368421052631578,\n",
      " 'min_weight_fraction_leaf': 0.0,\n",
      " 'n_estimators': 10,\n",
      " 'n_jobs': 1,\n",
      " 'oob_score': True,\n",
      " 'random_state': None,\n",
      " 'verbose': 0,\n",
      " 'warm_start': False}\n",
      "\n",
      "7 - minmaxscaler\n",
      "{'copy': True, 'feature_range': (0, 1)}\n",
      "\n",
      "7 - extratreesclassifier\n",
      "{'bootstrap': True,\n",
      " 'ccp_alpha': 0.0,\n",
      " 'class_weight': None,\n",
      " 'criterion': 'entropy',\n",
      " 'max_depth': None,\n",
      " 'max_features': 0.3,\n",
      " 'max_leaf_nodes': None,\n",
      " 'max_samples': None,\n",
      " 'min_impurity_decrease': 0.0,\n",
      " 'min_impurity_split': None,\n",
      " 'min_samples_leaf': 0.01,\n",
      " 'min_samples_split': 0.056842105263157895,\n",
      " 'min_weight_fraction_leaf': 0.0,\n",
      " 'n_estimators': 25,\n",
      " 'n_jobs': 1,\n",
      " 'oob_score': True,\n",
      " 'random_state': None,\n",
      " 'verbose': 0,\n",
      " 'warm_start': False}\n",
      "\n",
      "26 - maxabsscaler\n",
      "{'copy': True}\n",
      "\n",
      "26 - logisticregression\n",
      "{'C': 5.428675439323859,\n",
      " 'class_weight': 'balanced',\n",
      " 'dual': False,\n",
      " 'fit_intercept': True,\n",
      " 'intercept_scaling': 1,\n",
      " 'l1_ratio': None,\n",
      " 'max_iter': 100,\n",
      " 'multi_class': 'multinomial',\n",
      " 'n_jobs': 1,\n",
      " 'penalty': 'l1',\n",
      " 'random_state': None,\n",
      " 'solver': 'saga',\n",
      " 'tol': 0.0001,\n",
      " 'verbose': 0,\n",
      " 'warm_start': False}\n",
      "\n"
     ]
    }
   ],
   "source": [
    "from pprint import pprint\n",
    "\n",
    "def print_model(model, prefix=\"\"):\n",
    "    for step in model.steps:\n",
    "        print(prefix + step[0])\n",
    "        if hasattr(step[1], 'estimators') and hasattr(step[1], 'weights'):\n",
    "            pprint({'estimators': list(\n",
    "                e[0] for e in step[1].estimators), 'weights': step[1].weights})\n",
    "            print()\n",
    "            for estimator in step[1].estimators:\n",
    "                print_model(estimator[1], estimator[0] + ' - ')\n",
    "        else:\n",
    "            pprint(step[1].get_params())\n",
    "            print()\n",
    "\n",
    "print_model(automl_fitted_model)"
   ]
  },
  {
   "cell_type": "code",
   "execution_count": 13,
   "metadata": {},
   "outputs": [
    {
     "name": "stdout",
     "output_type": "stream",
     "text": [
      "Pipeline(memory=None,\n",
      "         steps=[('datatransformer',\n",
      "                 DataTransformer(enable_dnn=None, enable_feature_sweeping=None,\n",
      "                                 feature_sweeping_config=None,\n",
      "                                 feature_sweeping_timeout=None,\n",
      "                                 featurization_config=None, force_text_dnn=None,\n",
      "                                 is_cross_validation=None,\n",
      "                                 is_onnx_compatible=None, logger=None,\n",
      "                                 observer=None, task=None, working_dir=None)),\n",
      "                ('prefittedsoftvotingclassifier',...\n",
      "                                                                                                fit_intercept=True,\n",
      "                                                                                                intercept_scaling=1,\n",
      "                                                                                                l1_ratio=None,\n",
      "                                                                                                max_iter=100,\n",
      "                                                                                                multi_class='multinomial',\n",
      "                                                                                                n_jobs=1,\n",
      "                                                                                                penalty='l1',\n",
      "                                                                                                random_state=None,\n",
      "                                                                                                solver='saga',\n",
      "                                                                                                tol=0.0001,\n",
      "                                                                                                verbose=0,\n",
      "                                                                                                warm_start=False))],\n",
      "                                                                     verbose=False))],\n",
      "                                               flatten_transform=None,\n",
      "                                               weights=[0.26666666666666666,\n",
      "                                                        0.06666666666666667,\n",
      "                                                        0.13333333333333333,\n",
      "                                                        0.06666666666666667,\n",
      "                                                        0.4,\n",
      "                                                        0.06666666666666667]))],\n",
      "         verbose=False)\n"
     ]
    }
   ],
   "source": [
    "print(automl_fitted_model)"
   ]
  },
  {
   "cell_type": "code",
   "execution_count": 14,
   "metadata": {
    "gather": {
     "logged": 1618180707405
    },
    "jupyter": {
     "outputs_hidden": false,
     "source_hidden": false
    },
    "nteract": {
     "transient": {
      "deleting": false
     }
    }
   },
   "outputs": [
    {
     "data": {
      "text/plain": [
       "{'runTemplate': 'automl_child',\n",
       " 'pipeline_id': '__AutoML_Ensemble__',\n",
       " 'pipeline_spec': '{\"pipeline_id\":\"__AutoML_Ensemble__\",\"objects\":[{\"module\":\"azureml.train.automl.ensemble\",\"class_name\":\"Ensemble\",\"spec_class\":\"sklearn\",\"param_args\":[],\"param_kwargs\":{\"automl_settings\":\"{\\'task_type\\':\\'classification\\',\\'primary_metric\\':\\'AUC_weighted\\',\\'verbosity\\':20,\\'ensemble_iterations\\':15,\\'is_timeseries\\':False,\\'name\\':\\'capstone-fraud-credit-exp\\',\\'compute_target\\':\\'auto-ml\\',\\'subscription_id\\':\\'a24a24d5-8d87-4c8a-99b6-91ed2d2df51f\\',\\'region\\':\\'southcentralus\\',\\'spark_service\\':None}\",\"ensemble_run_id\":\"AutoML_fc4b5e57-5118-47f6-8be5-a071c1743d21_38\",\"experiment_name\":\"capstone-fraud-credit-exp\",\"workspace_name\":\"quick-starts-ws-142803\",\"subscription_id\":\"a24a24d5-8d87-4c8a-99b6-91ed2d2df51f\",\"resource_group_name\":\"aml-quickstarts-142803\"}}]}',\n",
       " 'training_percent': '100',\n",
       " 'predicted_cost': None,\n",
       " 'iteration': '38',\n",
       " '_aml_system_scenario_identification': 'Remote.Child',\n",
       " '_azureml.ComputeTargetType': 'amlcompute',\n",
       " 'ContentSnapshotId': 'b7214d34-9364-4123-b4de-fc35ed7c6a8f',\n",
       " 'ProcessInfoFile': 'azureml-logs/process_info.json',\n",
       " 'ProcessStatusFile': 'azureml-logs/process_status.json',\n",
       " 'run_template': 'automl_child',\n",
       " 'run_preprocessor': '',\n",
       " 'run_algorithm': 'VotingEnsemble',\n",
       " 'model_output_path': 'outputs/model.pkl',\n",
       " 'conda_env_data_location': 'aml://artifact/ExperimentRun/dcid.AutoML_fc4b5e57-5118-47f6-8be5-a071c1743d21_38/outputs/conda_env_v_1_0_0.yml',\n",
       " 'model_data_location': 'aml://artifact/ExperimentRun/dcid.AutoML_fc4b5e57-5118-47f6-8be5-a071c1743d21_38/outputs/model.pkl',\n",
       " 'model_size_on_disk': '13224273',\n",
       " 'scoring_data_location': 'aml://artifact/ExperimentRun/dcid.AutoML_fc4b5e57-5118-47f6-8be5-a071c1743d21_38/outputs/scoring_file_v_1_0_0.py',\n",
       " 'model_exp_support': 'True',\n",
       " 'pipeline_graph_version': '1.0.0',\n",
       " 'model_name': 'AutoMLfc4b5e57538',\n",
       " 'staticProperties': '{}',\n",
       " 'score': '0.983070957702158',\n",
       " 'score_table': 'NaN',\n",
       " 'run_properties': \"classification_labels=None,\\n                              estimators=[('3',\\n                                           Pipeline(memory=None,\\n                                                    steps=[('minmaxscaler',\\n                                                            MinMaxScaler(copy=True,\\n                                                                         feature_range=(0,\\n                                                                                        1\",\n",
       " 'pipeline_script': '{\"pipeline_id\":\"__AutoML_Ensemble__\",\"objects\":[{\"module\":\"azureml.train.automl.ensemble\",\"class_name\":\"Ensemble\",\"spec_class\":\"sklearn\",\"param_args\":[],\"param_kwargs\":{\"automl_settings\":\"{\\'task_type\\':\\'classification\\',\\'primary_metric\\':\\'AUC_weighted\\',\\'verbosity\\':20,\\'ensemble_iterations\\':15,\\'is_timeseries\\':False,\\'name\\':\\'capstone-fraud-credit-exp\\',\\'compute_target\\':\\'auto-ml\\',\\'subscription_id\\':\\'a24a24d5-8d87-4c8a-99b6-91ed2d2df51f\\',\\'region\\':\\'southcentralus\\',\\'spark_service\\':None}\",\"ensemble_run_id\":\"AutoML_fc4b5e57-5118-47f6-8be5-a071c1743d21_38\",\"experiment_name\":\"capstone-fraud-credit-exp\",\"workspace_name\":\"quick-starts-ws-142803\",\"subscription_id\":\"a24a24d5-8d87-4c8a-99b6-91ed2d2df51f\",\"resource_group_name\":\"aml-quickstarts-142803\"}}]}',\n",
       " 'training_type': 'train_valid',\n",
       " 'num_classes': '',\n",
       " 'framework': 'sklearn',\n",
       " 'fit_time': '28',\n",
       " 'goal': 'AUC_weighted_max',\n",
       " 'class_labels': '',\n",
       " 'primary_metric': 'AUC_weighted',\n",
       " 'errors': '{}',\n",
       " 'onnx_model_resource': '{}',\n",
       " 'error_code': '',\n",
       " 'failure_reason': '',\n",
       " 'dependencies_versions': '{\"azureml-train-automl-runtime\": \"1.25.0\", \"azureml-train-automl-client\": \"1.25.0\", \"azureml-telemetry\": \"1.25.0\", \"azureml-pipeline-core\": \"1.25.0\", \"azureml-model-management-sdk\": \"1.0.1b6.post1\", \"azureml-mlflow\": \"1.25.0\", \"azureml-interpret\": \"1.25.0\", \"azureml-defaults\": \"1.25.0\", \"azureml-dataset-runtime\": \"1.25.0\", \"azureml-dataprep\": \"2.11.2\", \"azureml-dataprep-rslex\": \"1.9.1\", \"azureml-dataprep-native\": \"30.0.0\", \"azureml-core\": \"1.25.0\", \"azureml-automl-runtime\": \"1.25.0\", \"azureml-automl-core\": \"1.25.0\"}',\n",
       " 'num_cores': '4',\n",
       " 'num_logical_cores': '4',\n",
       " 'peak_memory_usage': '893332',\n",
       " 'vm_configuration': 'Intel(R) Xeon(R) CPU E5-2673 v4 @ 2.30GHz',\n",
       " 'core_hours': '0.00803006361111111',\n",
       " 'feature_skus': 'automatedml_sdk_guardrails'}"
      ]
     },
     "metadata": {},
     "output_type": "display_data"
    }
   ],
   "source": [
    "display(automl_best_run.properties)"
   ]
  },
  {
   "cell_type": "code",
   "execution_count": 15,
   "metadata": {
    "gather": {
     "logged": 1618180707713
    },
    "jupyter": {
     "outputs_hidden": false,
     "source_hidden": false
    },
    "nteract": {
     "transient": {
      "deleting": false
     }
    }
   },
   "outputs": [],
   "source": [
    "#TODO: Save the best model\n",
    "import joblib\n",
    "\n",
    "joblib.dump(automl_fitted_model,\"best_automl_model.joblib\")\n",
    "automl_best_run.download_file('outputs/conda_env_v_1_0_0.yml', 'conda_env_v_1_0_0.yml')\n",
    "automl_best_run.download_file('outputs/scoring_file_v_1_0_0.py', 'score.py')"
   ]
  },
  {
   "cell_type": "markdown",
   "metadata": {},
   "source": [
    "## Model Deployment\n",
    "\n",
    "Remember you have to deploy only one of the two models you trained.. Perform the steps in the rest of this notebook only if you wish to deploy this model.\n",
    "\n",
    "TODO: In the cell below, register the model, create an inference config and deploy the model as a web service.\n",
    "\n",
    "All the information about the deployment of the model are coming from https://docs.microsoft.com/en-us/azure/machine-learning/how-to-deploy-and-where?tabs=python\n"
   ]
  },
  {
   "cell_type": "code",
   "execution_count": 16,
   "metadata": {
    "gather": {
     "logged": 1618182585794
    },
    "jupyter": {
     "outputs_hidden": false,
     "source_hidden": false
    },
    "nteract": {
     "transient": {
      "deleting": false
     }
    }
   },
   "outputs": [
    {
     "data": {
      "text/plain": [
       "'AutoMLfc4b5e57538'"
      ]
     },
     "execution_count": 16,
     "metadata": {},
     "output_type": "execute_result"
    }
   ],
   "source": [
    "automl_best_run.properties['model_name']"
   ]
  },
  {
   "cell_type": "code",
   "execution_count": 17,
   "metadata": {
    "gather": {
     "logged": 1618182588795
    },
    "jupyter": {
     "outputs_hidden": false,
     "source_hidden": false
    },
    "nteract": {
     "transient": {
      "deleting": false
     }
    }
   },
   "outputs": [
    {
     "name": "stdout",
     "output_type": "stream",
     "text": [
      "AutoMLfc4b5e57538\tAutoMLfc4b5e57538:1\t1\n"
     ]
    }
   ],
   "source": [
    "model = remote_run.register_model(model_name=automl_best_run.properties['model_name'])\n",
    "# automl_best_run.register_model(model_name=automl_best_run.properties['model_name'], model_path='/model.pkl')\n",
    "print(model.name, model.id, model.version, sep='\\t')\n"
   ]
  },
  {
   "cell_type": "code",
   "execution_count": 18,
   "metadata": {
    "gather": {
     "logged": 1618182590279
    },
    "jupyter": {
     "outputs_hidden": false,
     "source_hidden": false
    },
    "nteract": {
     "transient": {
      "deleting": false
     }
    }
   },
   "outputs": [],
   "source": [
    "from azureml.core.environment import Environment\n",
    "from azureml.core.model import InferenceConfig\n",
    "\n",
    "\n",
    "env = automl_best_run.get_environment()\n",
    "\n",
    "inference_config = InferenceConfig(entry_script='score.py',environment=env)"
   ]
  },
  {
   "cell_type": "code",
   "execution_count": 19,
   "metadata": {
    "gather": {
     "logged": 1618183884957
    },
    "jupyter": {
     "outputs_hidden": false,
     "source_hidden": false
    },
    "nteract": {
     "transient": {
      "deleting": false
     }
    }
   },
   "outputs": [
    {
     "name": "stdout",
     "output_type": "stream",
     "text": [
      "Tips: You can try get_logs(): https://aka.ms/debugimage#dockerlog or local deployment: https://aka.ms/debugimage#debug-locally to debug if deployment takes longer than 10 minutes.\n",
      "Running\n",
      "2021-04-15 22:00:42+00:00 Creating Container Registry if not exists..\n",
      "2021-04-15 22:01:03+00:00 Registering the environment..\n",
      "2021-04-15 22:01:05+00:00 Use the existing image.\n",
      "2021-04-15 22:01:05+00:00 Generating deployment configuration.\n",
      "2021-04-15 22:01:08+00:00 Submitting deployment to compute..\n",
      "2021-04-15 22:01:15+00:00 Checking the status of deployment capstone-fraud-service..\n",
      "2021-04-15 22:01:56+00:00 Checking the status of inference endpoint capstone-fraud-service.\n",
      "Succeeded\n",
      "ACI service creation operation finished, operation \"Succeeded\"\n",
      "Healthy\n"
     ]
    }
   ],
   "source": [
    "from azureml.core.webservice import AciWebservice\n",
    "from azureml.core.model import Model\n",
    "\n",
    "\n",
    "deployment_config = AciWebservice.deploy_configuration(cpu_cores=1, memory_gb=1)\n",
    "service = Model.deploy(ws, 'capstone-fraud-service', [model], inference_config, deployment_config, overwrite=True)\n",
    "service.wait_for_deployment(show_output=True)\n",
    "print(service.state)"
   ]
  },
  {
   "cell_type": "markdown",
   "metadata": {
    "collapsed": true,
    "gather": {
     "logged": 1598431657736
    },
    "jupyter": {
     "outputs_hidden": false,
     "source_hidden": false
    },
    "nteract": {
     "transient": {
      "deleting": false
     }
    }
   },
   "source": [
    "TODO: In the cell below, send a request to the web service you deployed to test it."
   ]
  },
  {
   "cell_type": "code",
   "execution_count": 34,
   "metadata": {},
   "outputs": [
    {
     "data": {
      "text/plain": [
       "'http://19e17946-733e-428a-81fb-3f513491770d.southcentralus.azurecontainer.io/score'"
      ]
     },
     "execution_count": 34,
     "metadata": {},
     "output_type": "execute_result"
    }
   ],
   "source": [
    "service.scoring_uri"
   ]
  },
  {
   "cell_type": "code",
   "execution_count": 35,
   "metadata": {},
   "outputs": [
    {
     "name": "stdout",
     "output_type": "stream",
     "text": [
      "{\"result\": [0, 0]}\n"
     ]
    }
   ],
   "source": [
    "%run endpoint.py"
   ]
  },
  {
   "cell_type": "code",
   "execution_count": 36,
   "metadata": {
    "gather": {
     "logged": 1618183631812
    },
    "jupyter": {
     "outputs_hidden": false,
     "source_hidden": false
    },
    "nteract": {
     "transient": {
      "deleting": false
     }
    }
   },
   "outputs": [],
   "source": [
    "import json\n",
    "\n",
    "data = {\"data\":\n",
    "        [\n",
    "          {\n",
    "            \"Time\": 0.0, \"V1\": 0.0, \"V2\": 0.0, \"V3\": 0.0, \"V4\": 0.0, \"V5\": 0.0, \"V6\": 0.0, \"V7\": 0.0, \"V8\": 0.0, \"V9\": 0.0, \"V10\": 0.0, \"V11\": 0.0, \"V12\": 0.0, \"V13\": 0.0, \"V14\": 0.0, \"V15\": 0.0, \"V16\": 0.0, \"V17\": 0.0, \"V18\": 0.0, \"V19\": 0.0, \"V20\": 0.0, \"V21\": 0.0, \"V22\": 0.0, \"V23\": 0.0, \"V24\": 0.0, \"V25\": 0.0, \"V26\": 0.0, \"V27\": 0.0, \"V28\": 0.0, \"Amount\": 0.0\n",
    "          },\n",
    "            {\n",
    "            \"Time\": 0.0, \"V1\": 0.0, \"V2\": 0.0, \"V3\": 0.0, \"V4\": 0.0, \"V5\": 0.0, \"V6\": 0.0, \"V7\": 0.0, \"V8\": 0.0, \"V9\": 0.0, \"V10\": 0.0, \"V11\": 0.0, \"V12\": 0.0, \"V13\": 0.0, \"V14\": 0.0, \"V15\": 0.0, \"V16\": 0.0, \"V17\": 0.0, \"V18\": 0.0, \"V19\": 0.0, \"V20\": 0.0, \"V21\": 0.0, \"V22\": 0.0, \"V23\": 0.0, \"V24\": 0.0, \"V25\": 0.0, \"V26\": 0.0, \"V27\": 0.0, \"V28\": 0.0, \"Amount\": 0.0\n",
    "          }\n",
    "        ]\n",
    "    }\n",
    "# Convert to JSON string\n",
    "input_data = json.dumps(data)"
   ]
  },
  {
   "cell_type": "code",
   "execution_count": 37,
   "metadata": {
    "gather": {
     "logged": 1618183631873
    },
    "jupyter": {
     "outputs_hidden": false,
     "source_hidden": false
    },
    "nteract": {
     "transient": {
      "deleting": false
     }
    }
   },
   "outputs": [
    {
     "data": {
      "text/plain": [
       "'{\"data\": [{\"Time\": 0.0, \"V1\": 0.0, \"V2\": 0.0, \"V3\": 0.0, \"V4\": 0.0, \"V5\": 0.0, \"V6\": 0.0, \"V7\": 0.0, \"V8\": 0.0, \"V9\": 0.0, \"V10\": 0.0, \"V11\": 0.0, \"V12\": 0.0, \"V13\": 0.0, \"V14\": 0.0, \"V15\": 0.0, \"V16\": 0.0, \"V17\": 0.0, \"V18\": 0.0, \"V19\": 0.0, \"V20\": 0.0, \"V21\": 0.0, \"V22\": 0.0, \"V23\": 0.0, \"V24\": 0.0, \"V25\": 0.0, \"V26\": 0.0, \"V27\": 0.0, \"V28\": 0.0, \"Amount\": 0.0}, {\"Time\": 0.0, \"V1\": 0.0, \"V2\": 0.0, \"V3\": 0.0, \"V4\": 0.0, \"V5\": 0.0, \"V6\": 0.0, \"V7\": 0.0, \"V8\": 0.0, \"V9\": 0.0, \"V10\": 0.0, \"V11\": 0.0, \"V12\": 0.0, \"V13\": 0.0, \"V14\": 0.0, \"V15\": 0.0, \"V16\": 0.0, \"V17\": 0.0, \"V18\": 0.0, \"V19\": 0.0, \"V20\": 0.0, \"V21\": 0.0, \"V22\": 0.0, \"V23\": 0.0, \"V24\": 0.0, \"V25\": 0.0, \"V26\": 0.0, \"V27\": 0.0, \"V28\": 0.0, \"Amount\": 0.0}]}'"
      ]
     },
     "execution_count": 37,
     "metadata": {},
     "output_type": "execute_result"
    }
   ],
   "source": [
    "input_data"
   ]
  },
  {
   "cell_type": "code",
   "execution_count": 38,
   "metadata": {
    "gather": {
     "logged": 1618183632057
    },
    "jupyter": {
     "outputs_hidden": false,
     "source_hidden": false
    },
    "nteract": {
     "transient": {
      "deleting": false
     }
    }
   },
   "outputs": [
    {
     "data": {
      "text/plain": [
       "'{\"result\": [0, 0]}'"
      ]
     },
     "execution_count": 38,
     "metadata": {},
     "output_type": "execute_result"
    }
   ],
   "source": [
    "service.run(input_data)\n"
   ]
  },
  {
   "cell_type": "markdown",
   "metadata": {
    "collapsed": true,
    "gather": {
     "logged": 1598432765711
    },
    "jupyter": {
     "outputs_hidden": false,
     "source_hidden": false
    },
    "nteract": {
     "transient": {
      "deleting": false
     }
    }
   },
   "source": [
    "TODO: In the cell below, print the logs of the web service and delete the service"
   ]
  },
  {
   "cell_type": "code",
   "execution_count": 39,
   "metadata": {
    "gather": {
     "logged": 1618183632475
    },
    "jupyter": {
     "outputs_hidden": false,
     "source_hidden": false
    },
    "nteract": {
     "transient": {
      "deleting": false
     }
    }
   },
   "outputs": [
    {
     "name": "stdout",
     "output_type": "stream",
     "text": [
      "2021-04-15T22:01:51,728353400+00:00 - gunicorn/run \n",
      "2021-04-15T22:01:51,731267400+00:00 - rsyslog/run \n",
      "2021-04-15T22:01:51,748515400+00:00 - iot-server/run \n",
      "2021-04-15T22:01:51,778502900+00:00 - nginx/run \n",
      "rsyslogd: /azureml-envs/azureml_8e5a5a51349877e7d47c6a2872e0ebfd/lib/libuuid.so.1: no version information available (required by rsyslogd)\n",
      "/usr/sbin/nginx: /azureml-envs/azureml_8e5a5a51349877e7d47c6a2872e0ebfd/lib/libcrypto.so.1.0.0: no version information available (required by /usr/sbin/nginx)\n",
      "/usr/sbin/nginx: /azureml-envs/azureml_8e5a5a51349877e7d47c6a2872e0ebfd/lib/libcrypto.so.1.0.0: no version information available (required by /usr/sbin/nginx)\n",
      "/usr/sbin/nginx: /azureml-envs/azureml_8e5a5a51349877e7d47c6a2872e0ebfd/lib/libssl.so.1.0.0: no version information available (required by /usr/sbin/nginx)\n",
      "/usr/sbin/nginx: /azureml-envs/azureml_8e5a5a51349877e7d47c6a2872e0ebfd/lib/libssl.so.1.0.0: no version information available (required by /usr/sbin/nginx)\n",
      "/usr/sbin/nginx: /azureml-envs/azureml_8e5a5a51349877e7d47c6a2872e0ebfd/lib/libssl.so.1.0.0: no version information available (required by /usr/sbin/nginx)\n",
      "EdgeHubConnectionString and IOTEDGE_IOTHUBHOSTNAME are not set. Exiting...\n",
      "2021-04-15T22:01:52,237796700+00:00 - iot-server/finish 1 0\n",
      "2021-04-15T22:01:52,239048800+00:00 - Exit code 1 is normal. Not restarting iot-server.\n",
      "Starting gunicorn 19.9.0\n",
      "Listening at: http://127.0.0.1:31311 (68)\n",
      "Using worker: sync\n",
      "worker timeout is set to 300\n",
      "Booting worker with pid: 98\n",
      "SPARK_HOME not set. Skipping PySpark Initialization.\n",
      "Generating new fontManager, this may take some time...\n",
      "Initializing logger\n",
      "2021-04-15 22:01:57,072 | root | INFO | Starting up app insights client\n",
      "2021-04-15 22:01:57,074 | root | INFO | Starting up request id generator\n",
      "2021-04-15 22:01:57,074 | root | INFO | Starting up app insight hooks\n",
      "2021-04-15 22:01:57,075 | root | INFO | Invoking user's init function\n",
      "2021-04-15 22:02:06,244 | azureml.core | WARNING | Failure while loading azureml_run_type_providers. Failed to load entrypoint automl = azureml.train.automl.run:AutoMLRun._from_run_dto with exception cannot import name 'RunType'.\n",
      "Failure while loading azureml_run_type_providers. Failed to load entrypoint automl = azureml.train.automl.run:AutoMLRun._from_run_dto with exception cannot import name 'RunType'.\n",
      "2021-04-15 22:02:06,790 | root | INFO | Users's init has completed successfully\n",
      "2021-04-15 22:02:06,811 | root | INFO | Skipping middleware: dbg_model_info as it's not enabled.\n",
      "2021-04-15 22:02:06,815 | root | INFO | Skipping middleware: dbg_resource_usage as it's not enabled.\n",
      "2021-04-15 22:02:06,817 | root | INFO | Scoring timeout is found from os.environ: 60000 ms\n",
      "2021-04-15 22:02:07,114 | root | INFO | 200\n",
      "127.0.0.1 - - [15/Apr/2021:22:02:07 +0000] \"GET /swagger.json HTTP/1.0\" 200 3740 \"-\" \"Go-http-client/1.1\"\n",
      "2021-04-15 22:02:10,567 | root | INFO | 200\n",
      "127.0.0.1 - - [15/Apr/2021:22:02:10 +0000] \"GET /swagger.json HTTP/1.0\" 200 3740 \"-\" \"Go-http-client/1.1\"\n",
      "2021-04-15 22:02:23,591 | root | INFO | 200\n",
      "127.0.0.1 - - [15/Apr/2021:22:02:23 +0000] \"GET /swagger.json HTTP/1.0\" 200 3740 \"-\" \"Go-http-client/1.1\"\n",
      "2021-04-15 22:03:38,227 | root | INFO | Validation Request Content-Type\n",
      "2021-04-15 22:03:38,235 | root | INFO | Scoring Timer is set to 60.0 seconds\n",
      "2021-04-15 22:03:38,534 | root | INFO | 200\n",
      "127.0.0.1 - - [15/Apr/2021:22:03:38 +0000] \"POST /score HTTP/1.0\" 200 22 \"-\" \"python-requests/2.25.1\"\n",
      "2021-04-15 22:03:44,039 | root | INFO | Validation Request Content-Type\n",
      "2021-04-15 22:03:44,047 | root | INFO | Scoring Timer is set to 60.0 seconds\n",
      "2021-04-15 22:03:44,423 | root | INFO | 200\n",
      "127.0.0.1 - - [15/Apr/2021:22:03:44 +0000] \"POST /score HTTP/1.0\" 200 22 \"-\" \"python-requests/2.25.1\"\n",
      "2021-04-15 22:29:23,370 | root | INFO | Validation Request Content-Type\n",
      "2021-04-15 22:29:23,374 | root | INFO | Scoring Timer is set to 60.0 seconds\n",
      "2021-04-15 22:29:23,723 | root | INFO | 200\n",
      "127.0.0.1 - - [15/Apr/2021:22:29:23 +0000] \"POST /score HTTP/1.0\" 200 22 \"-\" \"python-requests/2.25.1\"\n",
      "127.0.0.1 - - [15/Apr/2021:22:29:24 +0000] \"GET /_ignition/execute-solution HTTP/1.0\" 404 232 \"-\" \"python-requests/2.18.4\"\n",
      "2021-04-15 22:29:26,556 | root | INFO | Validation Request Content-Type\n",
      "2021-04-15 22:29:26,557 | root | INFO | Scoring Timer is set to 60.0 seconds\n",
      "2021-04-15 22:29:26,772 | root | INFO | 200\n",
      "127.0.0.1 - - [15/Apr/2021:22:29:26 +0000] \"POST /score HTTP/1.0\" 200 22 \"-\" \"python-requests/2.25.1\"\n",
      "2021-04-15 22:33:01,336 | root | INFO | Validation Request Content-Type\n",
      "2021-04-15 22:33:01,340 | root | INFO | Scoring Timer is set to 60.0 seconds\n",
      "2021-04-15 22:33:01,584 | root | INFO | 200\n",
      "127.0.0.1 - - [15/Apr/2021:22:33:01 +0000] \"POST /score HTTP/1.0\" 200 22 \"-\" \"python-requests/2.25.1\"\n",
      "2021-04-15 22:33:04,991 | root | INFO | Validation Request Content-Type\n",
      "2021-04-15 22:33:04,992 | root | INFO | Scoring Timer is set to 60.0 seconds\n",
      "2021-04-15 22:33:05,159 | root | INFO | 200\n",
      "127.0.0.1 - - [15/Apr/2021:22:33:05 +0000] \"POST /score HTTP/1.0\" 200 22 \"-\" \"python-requests/2.25.1\"\n",
      "\n"
     ]
    }
   ],
   "source": [
    "print(service.get_logs())"
   ]
  },
  {
   "cell_type": "code",
   "execution_count": 40,
   "metadata": {
    "gather": {
     "logged": 1618183633889
    },
    "jupyter": {
     "outputs_hidden": false,
     "source_hidden": false
    },
    "nteract": {
     "transient": {
      "deleting": false
     }
    }
   },
   "outputs": [],
   "source": [
    "service.delete()"
   ]
  },
  {
   "cell_type": "code",
   "execution_count": 41,
   "metadata": {
    "jupyter": {
     "outputs_hidden": false,
     "source_hidden": false
    },
    "nteract": {
     "transient": {
      "deleting": false
     }
    }
   },
   "outputs": [
    {
     "data": {
      "text/plain": [
       "'Deleting'"
      ]
     },
     "execution_count": 41,
     "metadata": {},
     "output_type": "execute_result"
    }
   ],
   "source": [
    "service.state"
   ]
  },
  {
   "cell_type": "code",
   "execution_count": null,
   "metadata": {},
   "outputs": [],
   "source": []
  }
 ],
 "metadata": {
  "kernel_info": {
   "name": "python3"
  },
  "kernelspec": {
   "display_name": "Python 3.6 - AzureML",
   "language": "python",
   "name": "python3-azureml"
  },
  "language_info": {
   "codemirror_mode": {
    "name": "ipython",
    "version": 3
   },
   "file_extension": ".py",
   "mimetype": "text/x-python",
   "name": "python",
   "nbconvert_exporter": "python",
   "pygments_lexer": "ipython3",
   "version": "3.6.9"
  },
  "microsoft": {
   "host": {
    "AzureML": {
     "notebookHasBeenCompleted": true
    }
   }
  },
  "nteract": {
   "version": "nteract-front-end@1.0.0"
  }
 },
 "nbformat": 4,
 "nbformat_minor": 2
}
