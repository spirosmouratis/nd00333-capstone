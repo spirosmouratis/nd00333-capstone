{
  "cells": [
    {
      "cell_type": "markdown",
      "source": [
        "# Automated ML\n",
        "\n",
        "TODO: Import Dependencies. In the cell below, import all the dependencies that you will need to complete the project."
      ],
      "metadata": {}
    },
    {
      "cell_type": "code",
      "source": [
        "import azureml\r\n",
        "from azureml.core.experiment import Experiment\r\n",
        "from azureml.core.workspace import Workspace\r\n",
        "from azureml.core.compute import AmlCompute\r\n",
        "from azureml.core.compute import ComputeTarget\r\n",
        "from azureml.core.compute_target import ComputeTargetException\r\n",
        "from azureml.train.automl import AutoMLConfig\r\n",
        "from azureml.widgets import RunDetails\r\n",
        "\r\n",
        "print(\"SDK version:\", azureml.core.VERSION)"
      ],
      "outputs": [
        {
          "output_type": "stream",
          "name": "stdout",
          "text": [
            "SDK version: 1.26.0\n"
          ]
        }
      ],
      "execution_count": 1,
      "metadata": {
        "gather": {
          "logged": 1618090768790
        },
        "jupyter": {
          "outputs_hidden": false,
          "source_hidden": false
        },
        "nteract": {
          "transient": {
            "deleting": false
          }
        }
      }
    },
    {
      "cell_type": "markdown",
      "source": [
        "## Dataset\n",
        "\n",
        "### Overview\n",
        "TODO: In this markdown cell, give an overview of the dataset you are using. Also mention the task you will be performing.\n",
        "\n",
        "The dataset we are using here is the \"hottest\" dataset in Kaggle for credit card fraud detection.<br>\n",
        "The target of problem is to identify based on the given features if a transaction is fraudulent or not. <br>\n",
        "The dataset contains only numerical input variables which are a result of a PCA transformation. <br>\n",
        "This means that the datset does not require any cleaning, nomralisation or any kind of encoding. <br>\n",
        "\n",
        "TODO: Get data. In the cell below, write code to access the data you will be using in this project. Remember that the dataset needs to be external."
      ],
      "metadata": {}
    },
    {
      "cell_type": "code",
      "source": [
        "ws = Workspace.from_config()\n",
        "\n",
        "# choose a name for experiment\n",
        "experiment_name = 'capstone-fraud-credit-exp'\n",
        "\n",
        "experiment=Experiment(ws, experiment_name)"
      ],
      "outputs": [
        {
          "output_type": "stream",
          "name": "stdout",
          "text": [
            "Performing interactive authentication. Please follow the instructions on the terminal.\n",
            "To sign in, use a web browser to open the page https://microsoft.com/devicelogin and enter the code FWPTYRPMQ to authenticate.\n",
            "You have logged in. Now let us find all the subscriptions to which you have access...\n",
            "Interactive authentication successfully completed.\n"
          ]
        }
      ],
      "execution_count": 2,
      "metadata": {
        "gather": {
          "logged": 1618090864483
        },
        "jupyter": {
          "outputs_hidden": false,
          "source_hidden": false
        },
        "nteract": {
          "transient": {
            "deleting": false
          }
        }
      }
    },
    {
      "cell_type": "markdown",
      "source": [
        "In the cell below we are creating a cluster to run our AutoML experiment"
      ],
      "metadata": {
        "nteract": {
          "transient": {
            "deleting": false
          }
        }
      }
    },
    {
      "cell_type": "code",
      "source": [
        "# NOTE: update the cluster name to match the existing cluster\r\n",
        "# Choose a name for your CPU cluster\r\n",
        "amlcompute_cluster_name = \"auto-ml\"\r\n",
        "\r\n",
        "# Verify that cluster does not exist already\r\n",
        "try:\r\n",
        "    compute_target = ComputeTarget(workspace=ws, name=amlcompute_cluster_name)\r\n",
        "    print('Found existing cluster, use it.')\r\n",
        "except ComputeTargetException:\r\n",
        "    compute_config = AmlCompute.provisioning_configuration(vm_size='STANDARD_DS12_V2',# for GPU, use \"STANDARD_NC6\"\r\n",
        "                                                           #vm_priority = 'lowpriority', # optional\r\n",
        "                                                           max_nodes=4)\r\n",
        "    compute_target = ComputeTarget.create(ws, amlcompute_cluster_name, compute_config)\r\n",
        "\r\n",
        "compute_target.wait_for_completion(show_output=True, min_node_count = 1, timeout_in_minutes = 10)\r\n",
        "# For a more detailed view of current AmlCompute status, use get_status()."
      ],
      "outputs": [
        {
          "output_type": "stream",
          "name": "stdout",
          "text": [
            "Creating....\n",
            "SucceededProvisioning operation finished, operation \"Succeeded\"\n",
            "Succeeded.....................................................................................................................\n",
            "AmlCompute wait for completion finished\n",
            "\n",
            "Wait timeout has been reached\n",
            "Current provisioning state of AmlCompute is \"Succeeded\" and current node count is \"0\"\n"
          ]
        }
      ],
      "execution_count": 3,
      "metadata": {
        "collapsed": true,
        "jupyter": {
          "source_hidden": false,
          "outputs_hidden": false
        },
        "nteract": {
          "transient": {
            "deleting": false
          }
        },
        "gather": {
          "logged": 1618091494473
        }
      }
    },
    {
      "cell_type": "markdown",
      "source": [
        "In the cell below we read the data if they are already saved in the Workspace <br>\r\n",
        "If they are not then we can download the data from a URL <br>\r\n",
        "Here the URL thought doesn't work properly so it's in comments <br>"
      ],
      "metadata": {
        "nteract": {
          "transient": {
            "deleting": false
          }
        }
      }
    },
    {
      "cell_type": "code",
      "source": [
        "# Try to load the dataset from the Workspace. Otherwise, create it from the file\r\n",
        "# NOTE: update the key to match the dataset name\r\n",
        "found = False\r\n",
        "key = \"fraud-capstone\"\r\n",
        "description_text = \"Credit Card Fraud Detection Data\"\r\n",
        "\r\n",
        "if key in ws.datasets.keys(): \r\n",
        "        found = True\r\n",
        "        dataset = ws.datasets[key] \r\n",
        "\r\n",
        "# if not found:\r\n",
        "#         # Create AML Dataset and register it into Workspace\r\n",
        "#         example_data = 'https://drive.google.com/file/d/1qEMDzGfw-iT4H127-ph3h_gmUfrSocpQ/view?usp=sharing'\r\n",
        "#         dataset = Dataset.Tabular.from_delimited_files(example_data)        \r\n",
        "#         #Register Dataset in Workspace\r\n",
        "#         dataset = dataset.register(workspace=ws,\r\n",
        "#                                    name=key,\r\n",
        "#                                    description=description_text)\r\n",
        "\r\n",
        "\r\n",
        "df = dataset.to_pandas_dataframe()\r\n",
        "df.describe()"
      ],
      "outputs": [
        {
          "output_type": "execute_result",
          "execution_count": 4,
          "data": {
            "text/plain": "                Time            V1            V2            V3            V4  \\\ncount  284806.000000  2.848070e+05  2.848070e+05  2.848070e+05  2.848070e+05   \nmean    94813.841366  3.918649e-15  5.682686e-16 -8.761736e-15  2.811118e-15   \nstd     47488.228330  1.958696e+00  1.651309e+00  1.516255e+00  1.415869e+00   \nmin         0.000000 -5.640751e+01 -7.271573e+01 -4.832559e+01 -5.683171e+00   \n25%     54201.250000 -9.203734e-01 -5.985499e-01 -8.903648e-01 -8.486401e-01   \n50%     84691.500000  1.810880e-02  6.548556e-02  1.798463e-01 -1.984653e-02   \n75%    139320.750000  1.315642e+00  8.037239e-01  1.027196e+00  7.433413e-01   \nmax    172792.000000  2.454930e+00  2.205773e+01  9.382558e+00  1.687534e+01   \n\n                 V5            V6            V7            V8            V9  \\\ncount  2.848070e+05  2.848070e+05  2.848070e+05  2.848070e+05  2.848070e+05   \nmean  -1.552103e-15  2.040130e-15 -1.698953e-15 -1.958151e-16 -3.147640e-15   \nstd    1.380247e+00  1.332271e+00  1.237094e+00  1.194353e+00  1.098632e+00   \nmin   -1.137433e+02 -2.616051e+01 -4.355724e+01 -7.321672e+01 -1.343407e+01   \n25%   -6.915971e-01 -7.682956e-01 -5.540759e-01 -2.086297e-01 -6.430976e-01   \n50%   -5.433583e-02 -2.741871e-01  4.010308e-02  2.235804e-02 -5.142873e-02   \n75%    6.119264e-01  3.985649e-01  5.704361e-01  3.273459e-01  5.971390e-01   \nmax    3.480167e+01  7.330163e+01  1.205895e+02  2.000721e+01  1.559499e+01   \n\n       ...           V21           V22           V23           V24  \\\ncount  ...  2.848070e+05  2.848070e+05  2.848070e+05  2.848070e+05   \nmean   ...  1.471982e-16  8.042109e-16  5.282450e-16  4.458267e-15   \nstd    ...  7.345240e-01  7.257016e-01  6.244603e-01  6.056471e-01   \nmin    ... -3.483038e+01 -1.093314e+01 -4.480774e+01 -2.836627e+00   \n25%    ... -2.283949e-01 -5.423504e-01 -1.618463e-01 -3.545861e-01   \n50%    ... -2.945017e-02  6.781943e-03 -1.119293e-02  4.097606e-02   \n75%    ...  1.863772e-01  5.285536e-01  1.476421e-01  4.395266e-01   \nmax    ...  2.720284e+01  1.050309e+01  2.252841e+01  4.584549e+00   \n\n                V25           V26           V27           V28         Amount  \\\ncount  2.848070e+05  2.848070e+05  2.848070e+05  2.848070e+05  284807.000000   \nmean   1.426896e-15  1.701640e-15 -3.671606e-16 -1.218152e-16      88.349619   \nstd    5.212781e-01  4.822270e-01  4.036325e-01  3.300833e-01     250.120109   \nmin   -1.029540e+01 -2.604551e+00 -2.256568e+01 -1.543008e+01       0.000000   \n25%   -3.171451e-01 -3.269839e-01 -7.083953e-02 -5.295979e-02       5.600000   \n50%    1.659350e-02 -5.213911e-02  1.342146e-03  1.124383e-02      22.000000   \n75%    3.507156e-01  2.409522e-01  9.104512e-02  7.827995e-02      77.165000   \nmax    7.519589e+00  3.517346e+00  3.161220e+01  3.384781e+01   25691.160000   \n\n               Class  \ncount  284807.000000  \nmean        0.001727  \nstd         0.041527  \nmin         0.000000  \n25%         0.000000  \n50%         0.000000  \n75%         0.000000  \nmax         1.000000  \n\n[8 rows x 31 columns]",
            "text/html": "<div>\n<style scoped>\n    .dataframe tbody tr th:only-of-type {\n        vertical-align: middle;\n    }\n\n    .dataframe tbody tr th {\n        vertical-align: top;\n    }\n\n    .dataframe thead th {\n        text-align: right;\n    }\n</style>\n<table border=\"1\" class=\"dataframe\">\n  <thead>\n    <tr style=\"text-align: right;\">\n      <th></th>\n      <th>Time</th>\n      <th>V1</th>\n      <th>V2</th>\n      <th>V3</th>\n      <th>V4</th>\n      <th>V5</th>\n      <th>V6</th>\n      <th>V7</th>\n      <th>V8</th>\n      <th>V9</th>\n      <th>...</th>\n      <th>V21</th>\n      <th>V22</th>\n      <th>V23</th>\n      <th>V24</th>\n      <th>V25</th>\n      <th>V26</th>\n      <th>V27</th>\n      <th>V28</th>\n      <th>Amount</th>\n      <th>Class</th>\n    </tr>\n  </thead>\n  <tbody>\n    <tr>\n      <th>count</th>\n      <td>284806.000000</td>\n      <td>2.848070e+05</td>\n      <td>2.848070e+05</td>\n      <td>2.848070e+05</td>\n      <td>2.848070e+05</td>\n      <td>2.848070e+05</td>\n      <td>2.848070e+05</td>\n      <td>2.848070e+05</td>\n      <td>2.848070e+05</td>\n      <td>2.848070e+05</td>\n      <td>...</td>\n      <td>2.848070e+05</td>\n      <td>2.848070e+05</td>\n      <td>2.848070e+05</td>\n      <td>2.848070e+05</td>\n      <td>2.848070e+05</td>\n      <td>2.848070e+05</td>\n      <td>2.848070e+05</td>\n      <td>2.848070e+05</td>\n      <td>284807.000000</td>\n      <td>284807.000000</td>\n    </tr>\n    <tr>\n      <th>mean</th>\n      <td>94813.841366</td>\n      <td>3.918649e-15</td>\n      <td>5.682686e-16</td>\n      <td>-8.761736e-15</td>\n      <td>2.811118e-15</td>\n      <td>-1.552103e-15</td>\n      <td>2.040130e-15</td>\n      <td>-1.698953e-15</td>\n      <td>-1.958151e-16</td>\n      <td>-3.147640e-15</td>\n      <td>...</td>\n      <td>1.471982e-16</td>\n      <td>8.042109e-16</td>\n      <td>5.282450e-16</td>\n      <td>4.458267e-15</td>\n      <td>1.426896e-15</td>\n      <td>1.701640e-15</td>\n      <td>-3.671606e-16</td>\n      <td>-1.218152e-16</td>\n      <td>88.349619</td>\n      <td>0.001727</td>\n    </tr>\n    <tr>\n      <th>std</th>\n      <td>47488.228330</td>\n      <td>1.958696e+00</td>\n      <td>1.651309e+00</td>\n      <td>1.516255e+00</td>\n      <td>1.415869e+00</td>\n      <td>1.380247e+00</td>\n      <td>1.332271e+00</td>\n      <td>1.237094e+00</td>\n      <td>1.194353e+00</td>\n      <td>1.098632e+00</td>\n      <td>...</td>\n      <td>7.345240e-01</td>\n      <td>7.257016e-01</td>\n      <td>6.244603e-01</td>\n      <td>6.056471e-01</td>\n      <td>5.212781e-01</td>\n      <td>4.822270e-01</td>\n      <td>4.036325e-01</td>\n      <td>3.300833e-01</td>\n      <td>250.120109</td>\n      <td>0.041527</td>\n    </tr>\n    <tr>\n      <th>min</th>\n      <td>0.000000</td>\n      <td>-5.640751e+01</td>\n      <td>-7.271573e+01</td>\n      <td>-4.832559e+01</td>\n      <td>-5.683171e+00</td>\n      <td>-1.137433e+02</td>\n      <td>-2.616051e+01</td>\n      <td>-4.355724e+01</td>\n      <td>-7.321672e+01</td>\n      <td>-1.343407e+01</td>\n      <td>...</td>\n      <td>-3.483038e+01</td>\n      <td>-1.093314e+01</td>\n      <td>-4.480774e+01</td>\n      <td>-2.836627e+00</td>\n      <td>-1.029540e+01</td>\n      <td>-2.604551e+00</td>\n      <td>-2.256568e+01</td>\n      <td>-1.543008e+01</td>\n      <td>0.000000</td>\n      <td>0.000000</td>\n    </tr>\n    <tr>\n      <th>25%</th>\n      <td>54201.250000</td>\n      <td>-9.203734e-01</td>\n      <td>-5.985499e-01</td>\n      <td>-8.903648e-01</td>\n      <td>-8.486401e-01</td>\n      <td>-6.915971e-01</td>\n      <td>-7.682956e-01</td>\n      <td>-5.540759e-01</td>\n      <td>-2.086297e-01</td>\n      <td>-6.430976e-01</td>\n      <td>...</td>\n      <td>-2.283949e-01</td>\n      <td>-5.423504e-01</td>\n      <td>-1.618463e-01</td>\n      <td>-3.545861e-01</td>\n      <td>-3.171451e-01</td>\n      <td>-3.269839e-01</td>\n      <td>-7.083953e-02</td>\n      <td>-5.295979e-02</td>\n      <td>5.600000</td>\n      <td>0.000000</td>\n    </tr>\n    <tr>\n      <th>50%</th>\n      <td>84691.500000</td>\n      <td>1.810880e-02</td>\n      <td>6.548556e-02</td>\n      <td>1.798463e-01</td>\n      <td>-1.984653e-02</td>\n      <td>-5.433583e-02</td>\n      <td>-2.741871e-01</td>\n      <td>4.010308e-02</td>\n      <td>2.235804e-02</td>\n      <td>-5.142873e-02</td>\n      <td>...</td>\n      <td>-2.945017e-02</td>\n      <td>6.781943e-03</td>\n      <td>-1.119293e-02</td>\n      <td>4.097606e-02</td>\n      <td>1.659350e-02</td>\n      <td>-5.213911e-02</td>\n      <td>1.342146e-03</td>\n      <td>1.124383e-02</td>\n      <td>22.000000</td>\n      <td>0.000000</td>\n    </tr>\n    <tr>\n      <th>75%</th>\n      <td>139320.750000</td>\n      <td>1.315642e+00</td>\n      <td>8.037239e-01</td>\n      <td>1.027196e+00</td>\n      <td>7.433413e-01</td>\n      <td>6.119264e-01</td>\n      <td>3.985649e-01</td>\n      <td>5.704361e-01</td>\n      <td>3.273459e-01</td>\n      <td>5.971390e-01</td>\n      <td>...</td>\n      <td>1.863772e-01</td>\n      <td>5.285536e-01</td>\n      <td>1.476421e-01</td>\n      <td>4.395266e-01</td>\n      <td>3.507156e-01</td>\n      <td>2.409522e-01</td>\n      <td>9.104512e-02</td>\n      <td>7.827995e-02</td>\n      <td>77.165000</td>\n      <td>0.000000</td>\n    </tr>\n    <tr>\n      <th>max</th>\n      <td>172792.000000</td>\n      <td>2.454930e+00</td>\n      <td>2.205773e+01</td>\n      <td>9.382558e+00</td>\n      <td>1.687534e+01</td>\n      <td>3.480167e+01</td>\n      <td>7.330163e+01</td>\n      <td>1.205895e+02</td>\n      <td>2.000721e+01</td>\n      <td>1.559499e+01</td>\n      <td>...</td>\n      <td>2.720284e+01</td>\n      <td>1.050309e+01</td>\n      <td>2.252841e+01</td>\n      <td>4.584549e+00</td>\n      <td>7.519589e+00</td>\n      <td>3.517346e+00</td>\n      <td>3.161220e+01</td>\n      <td>3.384781e+01</td>\n      <td>25691.160000</td>\n      <td>1.000000</td>\n    </tr>\n  </tbody>\n</table>\n<p>8 rows × 31 columns</p>\n</div>"
          },
          "metadata": {}
        }
      ],
      "execution_count": 4,
      "metadata": {
        "collapsed": true,
        "jupyter": {
          "source_hidden": false,
          "outputs_hidden": false
        },
        "nteract": {
          "transient": {
            "deleting": false
          }
        },
        "gather": {
          "logged": 1618091507602
        }
      }
    },
    {
      "cell_type": "markdown",
      "source": [
        "## AutoML Configuration\n",
        "\n",
        "TODO: Explain why you chose the automl settings and cofiguration you used below.\n",
        "\n",
        "I am giving the experiment a timeout after 30 minutes <br>\n",
        "It can run up to 5 Runs at the same time <br>\n",
        "Because the dataset is highly imbalanced we use AUC and its weighted <br>\n",
        "The problem is a binary classification <br>\n",
        "XGboostClassifier was giving me an error so I removed it <br>"
      ],
      "metadata": {}
    },
    {
      "cell_type": "code",
      "source": [
        "# TODO: Put your automl settings here\n",
        "automl_settings = {\n",
        "    \"experiment_timeout_minutes\": 30,\n",
        "    \"max_concurrent_iterations\": 5,\n",
        "    \"primary_metric\" : 'AUC_weighted'\n",
        "}\n",
        "\n",
        "# TODO: Put your automl config here\n",
        "automl_config = AutoMLConfig(compute_target=compute_target,\n",
        "                             task = \"classification\",\n",
        "                             training_data=dataset,\n",
        "                             label_column_name=\"Class\",   \n",
        "                             enable_early_stopping= True,\n",
        "                             featurization= 'auto',\n",
        "                             debug_log = \"automl_errors.log\",\n",
        "                             blocked_models=[\"XGBoostClassifier\"],\n",
        "                             **automl_settings\n",
        "                            )"
      ],
      "outputs": [],
      "execution_count": 5,
      "metadata": {
        "gather": {
          "logged": 1618091507707
        },
        "jupyter": {
          "outputs_hidden": false,
          "source_hidden": false
        },
        "nteract": {
          "transient": {
            "deleting": false
          }
        }
      }
    },
    {
      "cell_type": "code",
      "source": [
        "# TODO: Submit your experiment\n",
        "remote_run = experiment.submit(automl_config)"
      ],
      "outputs": [
        {
          "output_type": "stream",
          "name": "stdout",
          "text": [
            "Submitting remote run.\n"
          ]
        },
        {
          "output_type": "display_data",
          "data": {
            "text/plain": "<IPython.core.display.HTML object>",
            "text/html": "<table style=\"width:100%\"><tr><th>Experiment</th><th>Id</th><th>Type</th><th>Status</th><th>Details Page</th><th>Docs Page</th></tr><tr><td>capstone-fraud-credit-exp</td><td>AutoML_f0513c5f-59c5-4e33-b4b1-b87086271b45</td><td>automl</td><td>NotStarted</td><td><a href=\"https://ml.azure.com/runs/AutoML_f0513c5f-59c5-4e33-b4b1-b87086271b45?wsid=/subscriptions/6b4af8be-9931-443e-90f6-c4c34a1f9737/resourcegroups/aml-quickstarts-142346/workspaces/quick-starts-ws-142346&amp;tid=660b3398-b80e-49d2-bc5b-ac1dc93b5254\" target=\"_blank\" rel=\"noopener\">Link to Azure Machine Learning studio</a></td><td><a href=\"https://docs.microsoft.com/en-us/python/api/overview/azure/ml/intro?view=azure-ml-py\" target=\"_blank\" rel=\"noopener\">Link to Documentation</a></td></tr></table>"
          },
          "metadata": {}
        }
      ],
      "execution_count": 6,
      "metadata": {
        "gather": {
          "logged": 1618091516789
        },
        "jupyter": {
          "outputs_hidden": false,
          "source_hidden": false
        },
        "nteract": {
          "transient": {
            "deleting": false
          }
        }
      }
    },
    {
      "cell_type": "markdown",
      "source": [
        "## Run Details\n",
        "\n",
        "OPTIONAL: Write about the different models trained and their performance. Why do you think some models did better than others?\n",
        "\n",
        "TODO: In the cell below, use the `RunDetails` widget to show the different experiments."
      ],
      "metadata": {}
    },
    {
      "cell_type": "code",
      "source": [
        "# submit script to AML\r\n",
        "RunDetails(remote_run).show()"
      ],
      "outputs": [
        {
          "output_type": "display_data",
          "data": {
            "text/plain": "_AutoMLWidget(widget_settings={'childWidgetDisplay': 'popup', 'send_telemetry': False, 'log_level': 'INFO', 's…",
            "application/vnd.jupyter.widget-view+json": {
              "version_major": 2,
              "version_minor": 0,
              "model_id": "e75a86773a7a4c82a0279e4a7d581994"
            }
          },
          "metadata": {}
        },
        {
          "output_type": "display_data",
          "data": {
            "application/aml.mini.widget.v1": "{\"status\": \"Completed\", \"workbench_run_details_uri\": \"https://ml.azure.com/runs/AutoML_f0513c5f-59c5-4e33-b4b1-b87086271b45?wsid=/subscriptions/6b4af8be-9931-443e-90f6-c4c34a1f9737/resourcegroups/aml-quickstarts-142346/workspaces/quick-starts-ws-142346&tid=660b3398-b80e-49d2-bc5b-ac1dc93b5254\", \"run_id\": \"AutoML_f0513c5f-59c5-4e33-b4b1-b87086271b45\", \"run_properties\": {\"run_id\": \"AutoML_f0513c5f-59c5-4e33-b4b1-b87086271b45\", \"created_utc\": \"2021-04-10T21:51:53.953546Z\", \"properties\": {\"num_iterations\": \"1000\", \"training_type\": \"TrainFull\", \"acquisition_function\": \"EI\", \"primary_metric\": \"AUC_weighted\", \"train_split\": \"0\", \"acquisition_parameter\": \"0\", \"num_cross_validation\": null, \"target\": \"auto-ml\", \"AMLSettingsJsonString\": \"{\\\"path\\\":null,\\\"name\\\":\\\"capstone-fraud-credit-exp\\\",\\\"subscription_id\\\":\\\"6b4af8be-9931-443e-90f6-c4c34a1f9737\\\",\\\"resource_group\\\":\\\"aml-quickstarts-142346\\\",\\\"workspace_name\\\":\\\"quick-starts-ws-142346\\\",\\\"region\\\":\\\"southcentralus\\\",\\\"compute_target\\\":\\\"auto-ml\\\",\\\"spark_service\\\":null,\\\"azure_service\\\":\\\"remote\\\",\\\"many_models\\\":false,\\\"pipeline_fetch_max_batch_size\\\":1,\\\"enable_batch_run\\\":false,\\\"enable_run_restructure\\\":false,\\\"iterations\\\":1000,\\\"primary_metric\\\":\\\"AUC_weighted\\\",\\\"task_type\\\":\\\"classification\\\",\\\"data_script\\\":null,\\\"test_size\\\":0.0,\\\"validation_size\\\":0.0,\\\"n_cross_validations\\\":null,\\\"y_min\\\":null,\\\"y_max\\\":null,\\\"num_classes\\\":null,\\\"featurization\\\":\\\"auto\\\",\\\"_ignore_package_version_incompatibilities\\\":false,\\\"is_timeseries\\\":false,\\\"max_cores_per_iteration\\\":1,\\\"max_concurrent_iterations\\\":5,\\\"iteration_timeout_minutes\\\":null,\\\"mem_in_mb\\\":null,\\\"enforce_time_on_windows\\\":false,\\\"experiment_timeout_minutes\\\":30,\\\"experiment_exit_score\\\":null,\\\"whitelist_models\\\":null,\\\"blacklist_algos\\\":[\\\"XGBoostClassifier\\\",\\\"TensorFlowLinearClassifier\\\",\\\"TensorFlowDNN\\\"],\\\"supported_models\\\":[\\\"SGD\\\",\\\"KNN\\\",\\\"GradientBoosting\\\",\\\"MultinomialNaiveBayes\\\",\\\"LogisticRegression\\\",\\\"RandomForest\\\",\\\"SVM\\\",\\\"LightGBM\\\",\\\"DecisionTree\\\",\\\"AveragedPerceptronClassifier\\\",\\\"XGBoostClassifier\\\",\\\"TensorFlowDNN\\\",\\\"TensorFlowLinearClassifier\\\",\\\"BernoulliNaiveBayes\\\",\\\"LinearSVM\\\",\\\"ExtremeRandomTrees\\\"],\\\"private_models\\\":[],\\\"auto_blacklist\\\":true,\\\"blacklist_samples_reached\\\":false,\\\"exclude_nan_labels\\\":true,\\\"verbosity\\\":20,\\\"_debug_log\\\":\\\"azureml_automl.log\\\",\\\"show_warnings\\\":false,\\\"model_explainability\\\":true,\\\"service_url\\\":null,\\\"sdk_url\\\":null,\\\"sdk_packages\\\":null,\\\"enable_onnx_compatible_models\\\":false,\\\"enable_split_onnx_featurizer_estimator_models\\\":false,\\\"vm_type\\\":\\\"STANDARD_DS12_V2\\\",\\\"telemetry_verbosity\\\":20,\\\"send_telemetry\\\":true,\\\"enable_dnn\\\":false,\\\"scenario\\\":\\\"SDK-1.13.0\\\",\\\"environment_label\\\":null,\\\"save_mlflow\\\":false,\\\"force_text_dnn\\\":false,\\\"enable_feature_sweeping\\\":true,\\\"enable_early_stopping\\\":true,\\\"early_stopping_n_iters\\\":10,\\\"metrics\\\":null,\\\"enable_metric_confidence\\\":false,\\\"enable_ensembling\\\":true,\\\"enable_stack_ensembling\\\":true,\\\"ensemble_iterations\\\":15,\\\"enable_tf\\\":false,\\\"enable_subsampling\\\":null,\\\"subsample_seed\\\":null,\\\"enable_nimbusml\\\":false,\\\"enable_streaming\\\":false,\\\"force_streaming\\\":false,\\\"track_child_runs\\\":true,\\\"allowed_private_models\\\":[],\\\"label_column_name\\\":\\\"Class\\\",\\\"weight_column_name\\\":null,\\\"cv_split_column_names\\\":null,\\\"enable_local_managed\\\":false,\\\"_local_managed_run_id\\\":null,\\\"cost_mode\\\":1,\\\"lag_length\\\":0,\\\"metric_operation\\\":\\\"maximize\\\",\\\"preprocess\\\":true}\", \"DataPrepJsonString\": \"{\\\\\\\"training_data\\\\\\\": {\\\\\\\"datasetId\\\\\\\": \\\\\\\"491f5226-6b5b-4c8d-ae20-ef9dca95582a\\\\\\\"}, \\\\\\\"datasets\\\\\\\": 0}\", \"EnableSubsampling\": null, \"runTemplate\": \"AutoML\", \"azureml.runsource\": \"automl\", \"display_task_type\": \"classification\", \"dependencies_versions\": \"{\\\"azureml-widgets\\\": \\\"1.26.0\\\", \\\"azureml-train\\\": \\\"1.26.0\\\", \\\"azureml-train-restclients-hyperdrive\\\": \\\"1.26.0\\\", \\\"azureml-train-core\\\": \\\"1.26.0\\\", \\\"azureml-train-automl\\\": \\\"1.26.0\\\", \\\"azureml-train-automl-runtime\\\": \\\"1.26.0\\\", \\\"azureml-train-automl-client\\\": \\\"1.26.0\\\", \\\"azureml-tensorboard\\\": \\\"1.26.0\\\", \\\"azureml-telemetry\\\": \\\"1.26.0\\\", \\\"azureml-sdk\\\": \\\"1.26.0\\\", \\\"azureml-samples\\\": \\\"0+unknown\\\", \\\"azureml-pipeline\\\": \\\"1.26.0\\\", \\\"azureml-pipeline-steps\\\": \\\"1.26.0\\\", \\\"azureml-pipeline-core\\\": \\\"1.26.0\\\", \\\"azureml-opendatasets\\\": \\\"1.26.0\\\", \\\"azureml-model-management-sdk\\\": \\\"1.0.1b6.post1\\\", \\\"azureml-mlflow\\\": \\\"1.26.0\\\", \\\"azureml-interpret\\\": \\\"1.26.0\\\", \\\"azureml-explain-model\\\": \\\"1.26.0\\\", \\\"azureml-defaults\\\": \\\"1.26.0\\\", \\\"azureml-dataset-runtime\\\": \\\"1.26.0\\\", \\\"azureml-dataprep\\\": \\\"2.13.2\\\", \\\"azureml-dataprep-rslex\\\": \\\"1.11.2\\\", \\\"azureml-dataprep-native\\\": \\\"32.0.0\\\", \\\"azureml-datadrift\\\": \\\"1.26.0\\\", \\\"azureml-core\\\": \\\"1.26.0\\\", \\\"azureml-contrib-services\\\": \\\"1.26.0\\\", \\\"azureml-contrib-server\\\": \\\"1.26.0\\\", \\\"azureml-contrib-reinforcementlearning\\\": \\\"1.26.0\\\", \\\"azureml-contrib-pipeline-steps\\\": \\\"1.26.0\\\", \\\"azureml-contrib-notebook\\\": \\\"1.26.0\\\", \\\"azureml-contrib-gbdt\\\": \\\"1.26.0\\\", \\\"azureml-contrib-fairness\\\": \\\"1.26.0\\\", \\\"azureml-contrib-dataset\\\": \\\"1.26.0\\\", \\\"azureml-cli-common\\\": \\\"1.26.0\\\", \\\"azureml-automl-runtime\\\": \\\"1.26.0\\\", \\\"azureml-automl-dnn-nlp\\\": \\\"1.26.0\\\", \\\"azureml-automl-core\\\": \\\"1.26.0\\\", \\\"azureml-accel-models\\\": \\\"1.26.0\\\"}\", \"_aml_system_scenario_identification\": \"Remote.Parent\", \"ClientType\": \"SDK\", \"environment_cpu_name\": \"AzureML-AutoML\", \"environment_cpu_label\": \"prod\", \"environment_gpu_name\": \"AzureML-AutoML-GPU\", \"environment_gpu_label\": \"prod\", \"root_attribution\": \"automl\", \"attribution\": \"AutoML\", \"Orchestrator\": \"AutoML\", \"CancelUri\": \"https://southcentralus.experiments.azureml.net/jasmine/v1.0/subscriptions/6b4af8be-9931-443e-90f6-c4c34a1f9737/resourceGroups/aml-quickstarts-142346/providers/Microsoft.MachineLearningServices/workspaces/quick-starts-ws-142346/experimentids/e3338341-1c70-49f1-966a-76aa5d2643a4/cancel/AutoML_f0513c5f-59c5-4e33-b4b1-b87086271b45\", \"ClientSdkVersion\": \"1.25.0\", \"snapshotId\": \"00000000-0000-0000-0000-000000000000\", \"SetupRunId\": \"AutoML_f0513c5f-59c5-4e33-b4b1-b87086271b45_setup\", \"SetupRunContainerId\": \"dcid.AutoML_f0513c5f-59c5-4e33-b4b1-b87086271b45_setup\", \"FeaturizationRunJsonPath\": \"featurizer_container.json\", \"FeaturizationRunId\": \"AutoML_f0513c5f-59c5-4e33-b4b1-b87086271b45_featurize\", \"ProblemInfoJsonString\": \"{\\\"dataset_num_categorical\\\": 0, \\\"is_sparse\\\": false, \\\"subsampling\\\": false, \\\"dataset_classes\\\": 2, \\\"dataset_features\\\": 30, \\\"dataset_samples\\\": 256326, \\\"single_frequency_class_detected\\\": false}\", \"ModelExplainRunId\": \"AutoML_f0513c5f-59c5-4e33-b4b1-b87086271b45_ModelExplain\"}, \"tags\": {\"model_explain_run\": \"best_run\", \"_aml_system_azureml.automlComponent\": \"AutoML\", \"pipeline_id\": \"\", \"score\": \"\", \"predicted_cost\": \"\", \"fit_time\": \"\", \"training_percent\": \"\", \"iteration\": \"\", \"run_preprocessor\": \"\", \"run_algorithm\": \"\", \"dynamic_whitelisting_iterations\": \"<25>;<29>;<35>;<40>;<45>;<50>;<55>;\", \"automl_best_child_run_id\": \"AutoML_f0513c5f-59c5-4e33-b4b1-b87086271b45_57\", \"model_explain_best_run_child_id\": \"AutoML_f0513c5f-59c5-4e33-b4b1-b87086271b45_57\"}, \"end_time_utc\": \"2021-04-10T22:42:48.249609Z\", \"status\": \"Completed\", \"log_files\": {}, \"log_groups\": [], \"run_duration\": \"0:50:54\", \"run_number\": \"1\", \"run_queued_details\": {\"status\": \"Completed\", \"details\": null}}, \"child_runs\": [{\"run_id\": \"AutoML_f0513c5f-59c5-4e33-b4b1-b87086271b45_0\", \"run_number\": 5, \"metric\": null, \"status\": \"Completed\", \"run_type\": \"azureml.scriptrun\", \"training_percent\": \"100\", \"start_time\": \"2021-04-10T22:00:59.654997Z\", \"end_time\": \"2021-04-10T22:01:55.42249Z\", \"created_time\": \"2021-04-10T21:59:34.282824Z\", \"created_time_dt\": \"2021-04-10T21:59:34.282824Z\", \"duration\": \"0:02:21\", \"iteration\": \"0\", \"goal\": \"AUC_weighted_max\", \"run_name\": \"MaxAbsScaler, LightGBM\", \"run_properties\": \"copy=True\", \"primary_metric\": 0.92515188, \"best_metric\": 0.92515188}, {\"run_id\": \"AutoML_f0513c5f-59c5-4e33-b4b1-b87086271b45_4\", \"run_number\": 6, \"metric\": null, \"status\": \"Completed\", \"run_type\": \"azureml.scriptrun\", \"training_percent\": \"100\", \"start_time\": \"2021-04-10T21:59:46.169818Z\", \"end_time\": \"2021-04-10T22:00:44.563691Z\", \"created_time\": \"2021-04-10T21:59:34.294337Z\", \"created_time_dt\": \"2021-04-10T21:59:34.294337Z\", \"duration\": \"0:01:10\", \"iteration\": \"4\", \"goal\": \"AUC_weighted_max\", \"run_name\": \"MinMaxScaler, RandomForest\", \"run_properties\": \"copy=True, feature_range=(0, 1\", \"primary_metric\": 0.96558491, \"best_metric\": 0.9692625}, {\"run_id\": \"AutoML_f0513c5f-59c5-4e33-b4b1-b87086271b45_1\", \"run_number\": 7, \"metric\": null, \"status\": \"Completed\", \"run_type\": \"azureml.scriptrun\", \"training_percent\": \"100\", \"start_time\": \"2021-04-10T22:02:58.94098Z\", \"end_time\": \"2021-04-10T22:04:52.634008Z\", \"created_time\": \"2021-04-10T21:59:34.331757Z\", \"created_time_dt\": \"2021-04-10T21:59:34.331757Z\", \"duration\": \"0:05:18\", \"iteration\": \"1\", \"goal\": \"AUC_weighted_max\", \"run_name\": \"MinMaxScaler, RandomForest\", \"run_properties\": \"copy=True, feature_range=(0, 1\", \"primary_metric\": 0.9625781, \"best_metric\": 0.9625781}, {\"run_id\": \"AutoML_f0513c5f-59c5-4e33-b4b1-b87086271b45_2\", \"run_number\": 8, \"metric\": null, \"status\": \"Completed\", \"run_type\": \"azureml.scriptrun\", \"training_percent\": \"100\", \"start_time\": \"2021-04-10T22:03:07.903956Z\", \"end_time\": \"2021-04-10T22:05:05.01724Z\", \"created_time\": \"2021-04-10T21:59:34.381503Z\", \"created_time_dt\": \"2021-04-10T21:59:34.381503Z\", \"duration\": \"0:05:30\", \"iteration\": \"2\", \"goal\": \"AUC_weighted_max\", \"run_name\": \"RobustScaler, ExtremeRandomTrees\", \"run_properties\": \"copy=True, quantile_range=[10, 90], with_centering=False,\\n             with_scaling=False\", \"primary_metric\": 0.95869953, \"best_metric\": 0.9625781}, {\"run_id\": \"AutoML_f0513c5f-59c5-4e33-b4b1-b87086271b45_3\", \"run_number\": 9, \"metric\": null, \"status\": \"Completed\", \"run_type\": \"azureml.scriptrun\", \"training_percent\": \"100\", \"start_time\": \"2021-04-10T22:02:11.170004Z\", \"end_time\": \"2021-04-10T22:03:32.025034Z\", \"created_time\": \"2021-04-10T21:59:34.76044Z\", \"created_time_dt\": \"2021-04-10T21:59:34.76044Z\", \"duration\": \"0:03:57\", \"iteration\": \"3\", \"goal\": \"AUC_weighted_max\", \"run_name\": \"MinMaxScaler, RandomForest\", \"run_properties\": \"copy=True, feature_range=(0, 1\", \"primary_metric\": 0.9692625, \"best_metric\": 0.9692625}, {\"run_id\": \"AutoML_f0513c5f-59c5-4e33-b4b1-b87086271b45_5\", \"run_number\": 10, \"metric\": null, \"status\": \"Completed\", \"run_type\": \"azureml.scriptrun\", \"training_percent\": \"100\", \"start_time\": \"2021-04-10T22:03:01.838049Z\", \"end_time\": \"2021-04-10T22:05:06.46581Z\", \"created_time\": \"2021-04-10T22:00:47.39816Z\", \"created_time_dt\": \"2021-04-10T22:00:47.39816Z\", \"duration\": \"0:04:19\", \"iteration\": \"5\", \"goal\": \"AUC_weighted_max\", \"run_name\": \"StandardScalerWrapper, RandomForest\", \"run_properties\": \"<azureml.automl.runtime.shared.model_wrappers.StandardScalerWrapper object at 0x7faa9c4ee160\", \"primary_metric\": 0.9667732, \"best_metric\": 0.9692625}, {\"run_id\": \"AutoML_f0513c5f-59c5-4e33-b4b1-b87086271b45_6\", \"run_number\": 11, \"metric\": null, \"status\": \"Completed\", \"run_type\": \"azureml.scriptrun\", \"training_percent\": \"100\", \"start_time\": \"2021-04-10T22:03:48.873134Z\", \"end_time\": \"2021-04-10T22:04:41.711419Z\", \"created_time\": \"2021-04-10T22:01:59.590554Z\", \"created_time_dt\": \"2021-04-10T22:01:59.590554Z\", \"duration\": \"0:02:42\", \"iteration\": \"6\", \"goal\": \"AUC_weighted_max\", \"run_name\": \"MinMaxScaler, ExtremeRandomTrees\", \"run_properties\": \"copy=True, feature_range=(0, 1\", \"primary_metric\": 0.95525665, \"best_metric\": 0.9692625}, {\"run_id\": \"AutoML_f0513c5f-59c5-4e33-b4b1-b87086271b45_7\", \"run_number\": 12, \"metric\": null, \"status\": \"Completed\", \"run_type\": \"azureml.scriptrun\", \"training_percent\": \"100\", \"start_time\": \"2021-04-10T22:04:55.44192Z\", \"end_time\": \"2021-04-10T22:05:50.480472Z\", \"created_time\": \"2021-04-10T22:03:35.016835Z\", \"created_time_dt\": \"2021-04-10T22:03:35.016835Z\", \"duration\": \"0:02:15\", \"iteration\": \"7\", \"goal\": \"AUC_weighted_max\", \"run_name\": \"MinMaxScaler, ExtremeRandomTrees\", \"run_properties\": \"copy=True, feature_range=(0, 1\", \"primary_metric\": 0.94637725, \"best_metric\": 0.9692625}, {\"run_id\": \"AutoML_f0513c5f-59c5-4e33-b4b1-b87086271b45_8\", \"run_number\": 13, \"metric\": null, \"status\": \"Completed\", \"run_type\": \"azureml.scriptrun\", \"training_percent\": \"100\", \"start_time\": \"2021-04-10T22:05:08.471352Z\", \"end_time\": \"2021-04-10T22:05:51.468131Z\", \"created_time\": \"2021-04-10T22:04:45.937015Z\", \"created_time_dt\": \"2021-04-10T22:04:45.937015Z\", \"duration\": \"0:01:05\", \"iteration\": \"8\", \"goal\": \"AUC_weighted_max\", \"run_name\": \"MinMaxScaler, ExtremeRandomTrees\", \"run_properties\": \"copy=True, feature_range=(0, 1\", \"primary_metric\": 0.95391977, \"best_metric\": 0.9692625}, {\"run_id\": \"AutoML_f0513c5f-59c5-4e33-b4b1-b87086271b45_9\", \"run_number\": 14, \"metric\": null, \"status\": \"Completed\", \"run_type\": \"azureml.scriptrun\", \"training_percent\": \"100\", \"start_time\": \"2021-04-10T22:05:19.951487Z\", \"end_time\": \"2021-04-10T22:06:12.503055Z\", \"created_time\": \"2021-04-10T22:04:55.468029Z\", \"created_time_dt\": \"2021-04-10T22:04:55.468029Z\", \"duration\": \"0:01:17\", \"iteration\": \"9\", \"goal\": \"AUC_weighted_max\", \"run_name\": \"RobustScaler, ExtremeRandomTrees\", \"run_properties\": \"copy=True, quantile_range=[10, 90], with_centering=True,\\n             with_scaling=False\", \"primary_metric\": 0.95364881, \"best_metric\": 0.9692625}, {\"run_id\": \"AutoML_f0513c5f-59c5-4e33-b4b1-b87086271b45_10\", \"run_number\": 15, \"metric\": null, \"status\": \"Completed\", \"run_type\": \"azureml.scriptrun\", \"training_percent\": \"100\", \"start_time\": \"2021-04-10T22:05:20.738078Z\", \"end_time\": \"2021-04-10T22:06:44.773635Z\", \"created_time\": \"2021-04-10T22:05:08.127487Z\", \"created_time_dt\": \"2021-04-10T22:05:08.127487Z\", \"duration\": \"0:01:36\", \"iteration\": \"10\", \"goal\": \"AUC_weighted_max\", \"run_name\": \"StandardScalerWrapper, RandomForest\", \"run_properties\": \"<azureml.automl.runtime.shared.model_wrappers.StandardScalerWrapper object at 0x7fe1f28c5710\", \"primary_metric\": 0.95352068, \"best_metric\": 0.9692625}, {\"run_id\": \"AutoML_f0513c5f-59c5-4e33-b4b1-b87086271b45_11\", \"run_number\": 16, \"metric\": null, \"status\": \"Completed\", \"run_type\": \"azureml.scriptrun\", \"training_percent\": \"100\", \"start_time\": \"2021-04-10T22:06:06.736684Z\", \"end_time\": \"2021-04-10T22:06:54.420569Z\", \"created_time\": \"2021-04-10T22:05:13.753362Z\", \"created_time_dt\": \"2021-04-10T22:05:13.753362Z\", \"duration\": \"0:01:40\", \"iteration\": \"11\", \"goal\": \"AUC_weighted_max\", \"run_name\": \"StandardScalerWrapper, SGD\", \"run_properties\": \"<azureml.automl.runtime.shared.model_wrappers.StandardScalerWrapper object at 0x7f300450d5c0\", \"primary_metric\": 0.91157299, \"best_metric\": 0.9692625}, {\"run_id\": \"AutoML_f0513c5f-59c5-4e33-b4b1-b87086271b45_12\", \"run_number\": 17, \"metric\": null, \"status\": \"Completed\", \"run_type\": \"azureml.scriptrun\", \"training_percent\": \"100\", \"start_time\": \"2021-04-10T22:06:05.824682Z\", \"end_time\": \"2021-04-10T22:07:12.67585Z\", \"created_time\": \"2021-04-10T22:05:53.494839Z\", \"created_time_dt\": \"2021-04-10T22:05:53.494839Z\", \"duration\": \"0:01:19\", \"iteration\": \"12\", \"goal\": \"AUC_weighted_max\", \"run_name\": \"RobustScaler, RandomForest\", \"run_properties\": \"copy=True, quantile_range=[10, 90], with_centering=True,\\n             with_scaling=False\", \"primary_metric\": 0.96396773, \"best_metric\": 0.9692625}, {\"run_id\": \"AutoML_f0513c5f-59c5-4e33-b4b1-b87086271b45_13\", \"run_number\": 18, \"metric\": null, \"status\": \"Completed\", \"run_type\": \"azureml.scriptrun\", \"training_percent\": \"100\", \"start_time\": \"2021-04-10T22:06:31.60471Z\", \"end_time\": \"2021-04-10T22:07:28.051233Z\", \"created_time\": \"2021-04-10T22:05:57.965279Z\", \"created_time_dt\": \"2021-04-10T22:05:57.965279Z\", \"duration\": \"0:01:30\", \"iteration\": \"13\", \"goal\": \"AUC_weighted_max\", \"run_name\": \"MinMaxScaler, RandomForest\", \"run_properties\": \"copy=True, feature_range=(0, 1\", \"primary_metric\": 0.95693771, \"best_metric\": 0.9692625}, {\"run_id\": \"AutoML_f0513c5f-59c5-4e33-b4b1-b87086271b45_14\", \"run_number\": 19, \"metric\": null, \"status\": \"Completed\", \"run_type\": \"azureml.scriptrun\", \"training_percent\": \"100\", \"start_time\": \"2021-04-10T22:07:00.464885Z\", \"end_time\": \"2021-04-10T22:07:49.341512Z\", \"created_time\": \"2021-04-10T22:06:15.335598Z\", \"created_time_dt\": \"2021-04-10T22:06:15.335598Z\", \"duration\": \"0:01:34\", \"iteration\": \"14\", \"goal\": \"AUC_weighted_max\", \"run_name\": \"MinMaxScaler, ExtremeRandomTrees\", \"run_properties\": \"copy=True, feature_range=(0, 1\", \"primary_metric\": 0.96808497, \"best_metric\": 0.9692625}, {\"run_id\": \"AutoML_f0513c5f-59c5-4e33-b4b1-b87086271b45_15\", \"run_number\": 20, \"metric\": null, \"status\": \"Completed\", \"run_type\": \"azureml.scriptrun\", \"training_percent\": \"100\", \"start_time\": \"2021-04-10T22:07:10.205984Z\", \"end_time\": \"2021-04-10T22:08:11.044438Z\", \"created_time\": \"2021-04-10T22:06:49.468755Z\", \"created_time_dt\": \"2021-04-10T22:06:49.468755Z\", \"duration\": \"0:01:21\", \"iteration\": \"15\", \"goal\": \"AUC_weighted_max\", \"run_name\": \"MinMaxScaler, RandomForest\", \"run_properties\": \"copy=True, feature_range=(0, 1\", \"primary_metric\": 0.96945271, \"best_metric\": 0.96945271}, {\"run_id\": \"AutoML_f0513c5f-59c5-4e33-b4b1-b87086271b45_16\", \"run_number\": 21, \"metric\": null, \"status\": \"Completed\", \"run_type\": \"azureml.scriptrun\", \"training_percent\": \"100\", \"start_time\": \"2021-04-10T22:07:30.701372Z\", \"end_time\": \"2021-04-10T22:08:26.445182Z\", \"created_time\": \"2021-04-10T22:06:58.28909Z\", \"created_time_dt\": \"2021-04-10T22:06:58.28909Z\", \"duration\": \"0:01:28\", \"iteration\": \"16\", \"goal\": \"AUC_weighted_max\", \"run_name\": \"MinMaxScaler, RandomForest\", \"run_properties\": \"copy=True, feature_range=(0, 1\", \"primary_metric\": 0.96287454, \"best_metric\": 0.96945271}, {\"run_id\": \"AutoML_f0513c5f-59c5-4e33-b4b1-b87086271b45_17\", \"run_number\": 22, \"metric\": null, \"status\": \"Completed\", \"run_type\": \"azureml.scriptrun\", \"training_percent\": \"100\", \"start_time\": \"2021-04-10T22:07:43.853387Z\", \"end_time\": \"2021-04-10T22:08:41.219856Z\", \"created_time\": \"2021-04-10T22:07:16.243301Z\", \"created_time_dt\": \"2021-04-10T22:07:16.243301Z\", \"duration\": \"0:01:24\", \"iteration\": \"17\", \"goal\": \"AUC_weighted_max\", \"run_name\": \"MaxAbsScaler, RandomForest\", \"run_properties\": \"copy=True\", \"primary_metric\": 0.96689703, \"best_metric\": 0.96945271}, {\"run_id\": \"AutoML_f0513c5f-59c5-4e33-b4b1-b87086271b45_18\", \"run_number\": 23, \"metric\": null, \"status\": \"Completed\", \"run_type\": \"azureml.scriptrun\", \"training_percent\": \"100\", \"start_time\": \"2021-04-10T22:08:07.699007Z\", \"end_time\": \"2021-04-10T22:09:03.891576Z\", \"created_time\": \"2021-04-10T22:07:30.932489Z\", \"created_time_dt\": \"2021-04-10T22:07:30.932489Z\", \"duration\": \"0:01:32\", \"iteration\": \"18\", \"goal\": \"AUC_weighted_max\", \"run_name\": \"MaxAbsScaler, RandomForest\", \"run_properties\": \"copy=True\", \"primary_metric\": 0.96945487, \"best_metric\": 0.96945487}, {\"run_id\": \"AutoML_f0513c5f-59c5-4e33-b4b1-b87086271b45_19\", \"run_number\": 24, \"metric\": null, \"status\": \"Completed\", \"run_type\": \"azureml.scriptrun\", \"training_percent\": \"100\", \"start_time\": \"2021-04-10T22:08:24.318964Z\", \"end_time\": \"2021-04-10T22:09:17.172066Z\", \"created_time\": \"2021-04-10T22:07:52.906924Z\", \"created_time_dt\": \"2021-04-10T22:07:52.906924Z\", \"duration\": \"0:01:24\", \"iteration\": \"19\", \"goal\": \"AUC_weighted_max\", \"run_name\": \"StandardScalerWrapper, ExtremeRandomTrees\", \"run_properties\": \"<azureml.automl.runtime.shared.model_wrappers.StandardScalerWrapper object at 0x7fbf6c004c50\", \"primary_metric\": 0.95683794, \"best_metric\": 0.96945487}, {\"run_id\": \"AutoML_f0513c5f-59c5-4e33-b4b1-b87086271b45_20\", \"run_number\": 25, \"metric\": null, \"status\": \"Completed\", \"run_type\": \"azureml.scriptrun\", \"training_percent\": \"100\", \"start_time\": \"2021-04-10T22:08:40.473443Z\", \"end_time\": \"2021-04-10T22:09:33.723998Z\", \"created_time\": \"2021-04-10T22:08:13.847785Z\", \"created_time_dt\": \"2021-04-10T22:08:13.847785Z\", \"duration\": \"0:01:19\", \"iteration\": \"20\", \"goal\": \"AUC_weighted_max\", \"run_name\": \"MaxAbsScaler, ExtremeRandomTrees\", \"run_properties\": \"copy=True\", \"primary_metric\": 0.93903356, \"best_metric\": 0.96945487}, {\"run_id\": \"AutoML_f0513c5f-59c5-4e33-b4b1-b87086271b45_21\", \"run_number\": 26, \"metric\": null, \"status\": \"Completed\", \"run_type\": \"azureml.scriptrun\", \"training_percent\": \"100\", \"start_time\": \"2021-04-10T22:08:57.307277Z\", \"end_time\": \"2021-04-10T22:09:48.212436Z\", \"created_time\": \"2021-04-10T22:08:29.955259Z\", \"created_time_dt\": \"2021-04-10T22:08:29.955259Z\", \"duration\": \"0:01:18\", \"iteration\": \"21\", \"goal\": \"AUC_weighted_max\", \"run_name\": \"MaxAbsScaler, ExtremeRandomTrees\", \"run_properties\": \"copy=True\", \"primary_metric\": 0.95906057, \"best_metric\": 0.96945487}, {\"run_id\": \"AutoML_f0513c5f-59c5-4e33-b4b1-b87086271b45_22\", \"run_number\": 27, \"metric\": null, \"status\": \"Completed\", \"run_type\": \"azureml.scriptrun\", \"training_percent\": \"100\", \"start_time\": \"2021-04-10T22:09:20.497179Z\", \"end_time\": \"2021-04-10T22:10:25.90021Z\", \"created_time\": \"2021-04-10T22:08:46.523762Z\", \"created_time_dt\": \"2021-04-10T22:08:46.523762Z\", \"duration\": \"0:01:39\", \"iteration\": \"22\", \"goal\": \"AUC_weighted_max\", \"run_name\": \"MaxAbsScaler, RandomForest\", \"run_properties\": \"copy=True\", \"primary_metric\": 0.97078457, \"best_metric\": 0.97078457}, {\"run_id\": \"AutoML_f0513c5f-59c5-4e33-b4b1-b87086271b45_23\", \"run_number\": 28, \"metric\": null, \"status\": \"Completed\", \"run_type\": \"azureml.scriptrun\", \"training_percent\": \"100\", \"start_time\": \"2021-04-10T22:09:31.128911Z\", \"end_time\": \"2021-04-10T22:10:32.340101Z\", \"created_time\": \"2021-04-10T22:09:08.244215Z\", \"created_time_dt\": \"2021-04-10T22:09:08.244215Z\", \"duration\": \"0:01:24\", \"iteration\": \"23\", \"goal\": \"AUC_weighted_max\", \"run_name\": \"StandardScalerWrapper, LightGBM\", \"run_properties\": \"<azureml.automl.runtime.shared.model_wrappers.StandardScalerWrapper object at 0x7f1ad3945a58\", \"primary_metric\": 0.96825796, \"best_metric\": 0.97078457}, {\"run_id\": \"AutoML_f0513c5f-59c5-4e33-b4b1-b87086271b45_24\", \"run_number\": 29, \"metric\": null, \"status\": \"Completed\", \"run_type\": \"azureml.scriptrun\", \"training_percent\": \"100\", \"start_time\": \"2021-04-10T22:09:49.873696Z\", \"end_time\": \"2021-04-10T22:10:49.888113Z\", \"created_time\": \"2021-04-10T22:09:21.506634Z\", \"created_time_dt\": \"2021-04-10T22:09:21.506634Z\", \"duration\": \"0:01:28\", \"iteration\": \"24\", \"goal\": \"AUC_weighted_max\", \"run_name\": \"RobustScaler, LightGBM\", \"run_properties\": \"copy=True, quantile_range=[25, 75], with_centering=False,\\n             with_scaling=True\", \"primary_metric\": 0.97084199, \"best_metric\": 0.97084199}, {\"run_id\": \"AutoML_f0513c5f-59c5-4e33-b4b1-b87086271b45_25\", \"run_number\": 30, \"metric\": null, \"status\": \"Completed\", \"run_type\": \"azureml.scriptrun\", \"training_percent\": \"100\", \"start_time\": \"2021-04-10T22:10:06.267373Z\", \"end_time\": \"2021-04-10T22:10:49.934422Z\", \"created_time\": \"2021-04-10T22:09:37.735401Z\", \"created_time_dt\": \"2021-04-10T22:09:37.735401Z\", \"duration\": \"0:01:12\", \"iteration\": \"25\", \"goal\": \"AUC_weighted_max\", \"run_name\": \"TruncatedSVDWrapper, RandomForest\", \"run_properties\": \"n_components=0.3068421052631579, random_state=None\", \"primary_metric\": 0.92417354, \"best_metric\": 0.97084199}, {\"run_id\": \"AutoML_f0513c5f-59c5-4e33-b4b1-b87086271b45_26\", \"run_number\": 31, \"metric\": null, \"status\": \"Completed\", \"run_type\": \"azureml.scriptrun\", \"training_percent\": \"100\", \"start_time\": \"2021-04-10T22:10:40.556083Z\", \"end_time\": \"2021-04-10T22:11:38.610792Z\", \"created_time\": \"2021-04-10T22:09:50.76057Z\", \"created_time_dt\": \"2021-04-10T22:09:50.76057Z\", \"duration\": \"0:01:47\", \"iteration\": \"26\", \"goal\": \"AUC_weighted_max\", \"run_name\": \"StandardScalerWrapper, LightGBM\", \"run_properties\": \"<azureml.automl.runtime.shared.model_wrappers.StandardScalerWrapper object at 0x7fb26e32c048\", \"primary_metric\": 0.96641252, \"best_metric\": 0.97084199}, {\"run_id\": \"AutoML_f0513c5f-59c5-4e33-b4b1-b87086271b45_27\", \"run_number\": 32, \"metric\": null, \"status\": \"Completed\", \"run_type\": \"azureml.scriptrun\", \"training_percent\": \"100\", \"start_time\": \"2021-04-10T22:10:47.721769Z\", \"end_time\": \"2021-04-10T22:12:26.102813Z\", \"created_time\": \"2021-04-10T22:10:28.440373Z\", \"created_time_dt\": \"2021-04-10T22:10:28.440373Z\", \"duration\": \"0:01:57\", \"iteration\": \"27\", \"goal\": \"AUC_weighted_max\", \"run_name\": \"StandardScalerWrapper, RandomForest\", \"run_properties\": \"<azureml.automl.runtime.shared.model_wrappers.StandardScalerWrapper object at 0x7f18624c8c50\", \"primary_metric\": 0.96124157, \"best_metric\": 0.97084199}, {\"run_id\": \"AutoML_f0513c5f-59c5-4e33-b4b1-b87086271b45_28\", \"run_number\": 33, \"metric\": null, \"status\": \"Completed\", \"run_type\": \"azureml.scriptrun\", \"training_percent\": \"100\", \"start_time\": \"2021-04-10T22:11:09.648336Z\", \"end_time\": \"2021-04-10T22:11:58.957783Z\", \"created_time\": \"2021-04-10T22:10:34.902548Z\", \"created_time_dt\": \"2021-04-10T22:10:34.902548Z\", \"duration\": \"0:01:24\", \"iteration\": \"28\", \"goal\": \"AUC_weighted_max\", \"run_name\": \"StandardScalerWrapper, LightGBM\", \"run_properties\": \"<azureml.automl.runtime.shared.model_wrappers.StandardScalerWrapper object at 0x7f7611245940\", \"primary_metric\": 0.96827662, \"best_metric\": 0.97084199}, {\"run_id\": \"AutoML_f0513c5f-59c5-4e33-b4b1-b87086271b45_29\", \"run_number\": 34, \"metric\": null, \"status\": \"Completed\", \"run_type\": \"azureml.scriptrun\", \"training_percent\": \"100\", \"start_time\": \"2021-04-10T22:11:08.104222Z\", \"end_time\": \"2021-04-10T22:11:59.763393Z\", \"created_time\": \"2021-04-10T22:10:53.598685Z\", \"created_time_dt\": \"2021-04-10T22:10:53.598685Z\", \"duration\": \"0:01:06\", \"iteration\": \"29\", \"goal\": \"AUC_weighted_max\", \"run_name\": \"RobustScaler, LightGBM\", \"run_properties\": \"copy=True, quantile_range=[10, 90], with_centering=False,\\n             with_scaling=False\", \"primary_metric\": 0.96523463, \"best_metric\": 0.97084199}, {\"run_id\": \"AutoML_f0513c5f-59c5-4e33-b4b1-b87086271b45_30\", \"run_number\": 35, \"metric\": null, \"status\": \"Completed\", \"run_type\": \"azureml.scriptrun\", \"training_percent\": \"100\", \"start_time\": \"2021-04-10T22:11:54.891593Z\", \"end_time\": \"2021-04-10T22:25:50.245503Z\", \"created_time\": \"2021-04-10T22:10:53.704988Z\", \"created_time_dt\": \"2021-04-10T22:10:53.704988Z\", \"duration\": \"0:14:56\", \"iteration\": \"30\", \"goal\": \"AUC_weighted_max\", \"run_name\": \"MinMaxScaler, GradientBoosting\", \"run_properties\": \"copy=True, feature_range=(0, 1\", \"primary_metric\": 0.97101175, \"best_metric\": 0.97101175}, {\"run_id\": \"AutoML_f0513c5f-59c5-4e33-b4b1-b87086271b45_31\", \"run_number\": 36, \"metric\": null, \"status\": \"Completed\", \"run_type\": \"azureml.scriptrun\", \"training_percent\": \"100\", \"start_time\": \"2021-04-10T22:12:14.897678Z\", \"end_time\": \"2021-04-10T22:15:02.825584Z\", \"created_time\": \"2021-04-10T22:11:40.865437Z\", \"created_time_dt\": \"2021-04-10T22:11:40.865437Z\", \"duration\": \"0:03:21\", \"iteration\": \"31\", \"goal\": \"AUC_weighted_max\", \"run_name\": \"MaxAbsScaler, GradientBoosting\", \"run_properties\": \"copy=True\", \"primary_metric\": 0.96772428, \"best_metric\": 0.97101175}, {\"run_id\": \"AutoML_f0513c5f-59c5-4e33-b4b1-b87086271b45_32\", \"run_number\": 37, \"metric\": null, \"status\": \"Completed\", \"run_type\": \"azureml.scriptrun\", \"training_percent\": \"100\", \"start_time\": \"2021-04-10T22:12:18.635499Z\", \"end_time\": \"2021-04-10T22:14:27.036161Z\", \"created_time\": \"2021-04-10T22:12:01.144777Z\", \"created_time_dt\": \"2021-04-10T22:12:01.144777Z\", \"duration\": \"0:02:25\", \"iteration\": \"32\", \"goal\": \"AUC_weighted_max\", \"run_name\": \"MaxAbsScaler, GradientBoosting\", \"run_properties\": \"copy=True\", \"primary_metric\": 0.9609358, \"best_metric\": 0.97101175}, {\"run_id\": \"AutoML_f0513c5f-59c5-4e33-b4b1-b87086271b45_33\", \"run_number\": 38, \"metric\": null, \"status\": \"Completed\", \"run_type\": \"azureml.scriptrun\", \"training_percent\": \"100\", \"start_time\": \"2021-04-10T22:12:39.608086Z\", \"end_time\": \"2021-04-10T22:13:31.303845Z\", \"created_time\": \"2021-04-10T22:12:05.757328Z\", \"created_time_dt\": \"2021-04-10T22:12:05.757328Z\", \"duration\": \"0:01:25\", \"iteration\": \"33\", \"goal\": \"AUC_weighted_max\", \"run_name\": \"StandardScalerWrapper, LightGBM\", \"run_properties\": \"<azureml.automl.runtime.shared.model_wrappers.StandardScalerWrapper object at 0x7f1278186ba8\", \"primary_metric\": 0.96819336, \"best_metric\": 0.97101175}, {\"run_id\": \"AutoML_f0513c5f-59c5-4e33-b4b1-b87086271b45_34\", \"run_number\": 39, \"metric\": null, \"status\": \"Completed\", \"run_type\": \"azureml.scriptrun\", \"training_percent\": \"100\", \"start_time\": \"2021-04-10T22:13:46.754601Z\", \"end_time\": \"2021-04-10T22:17:10.711022Z\", \"created_time\": \"2021-04-10T22:12:28.434681Z\", \"created_time_dt\": \"2021-04-10T22:12:28.434681Z\", \"duration\": \"0:04:42\", \"iteration\": \"34\", \"goal\": \"AUC_weighted_max\", \"run_name\": \"RobustScaler, GradientBoosting\", \"run_properties\": \"copy=True, quantile_range=[10, 90], with_centering=True,\\n             with_scaling=True\", \"primary_metric\": 0.96777417, \"best_metric\": 0.97101175}, {\"run_id\": \"AutoML_f0513c5f-59c5-4e33-b4b1-b87086271b45_35\", \"run_number\": 40, \"metric\": null, \"status\": \"Completed\", \"run_type\": \"azureml.scriptrun\", \"training_percent\": \"100\", \"start_time\": \"2021-04-10T22:14:41.305599Z\", \"end_time\": \"2021-04-10T22:15:36.575282Z\", \"created_time\": \"2021-04-10T22:13:34.082812Z\", \"created_time_dt\": \"2021-04-10T22:13:34.082812Z\", \"duration\": \"0:02:02\", \"iteration\": \"35\", \"goal\": \"AUC_weighted_max\", \"run_name\": \"SparseNormalizer, LightGBM\", \"run_properties\": \"<azureml.automl.runtime.shared.model_wrappers.SparseNormalizer object at 0x7f065fe7e908\", \"primary_metric\": 0.96646994, \"best_metric\": 0.97101175}, {\"run_id\": \"AutoML_f0513c5f-59c5-4e33-b4b1-b87086271b45_36\", \"run_number\": 41, \"metric\": null, \"status\": \"Completed\", \"run_type\": \"azureml.scriptrun\", \"training_percent\": \"100\", \"start_time\": \"2021-04-10T22:15:16.285891Z\", \"end_time\": \"2021-04-10T22:16:13.396621Z\", \"created_time\": \"2021-04-10T22:14:28.809911Z\", \"created_time_dt\": \"2021-04-10T22:14:28.809911Z\", \"duration\": \"0:01:44\", \"iteration\": \"36\", \"goal\": \"AUC_weighted_max\", \"run_name\": \"MinMaxScaler, LightGBM\", \"run_properties\": \"copy=True, feature_range=(0, 1\", \"primary_metric\": 0.95210664, \"best_metric\": 0.97101175}, {\"run_id\": \"AutoML_f0513c5f-59c5-4e33-b4b1-b87086271b45_37\", \"run_number\": 42, \"metric\": null, \"status\": \"Completed\", \"run_type\": \"azureml.scriptrun\", \"training_percent\": \"100\", \"start_time\": \"2021-04-10T22:15:51.544212Z\", \"end_time\": \"2021-04-10T22:16:44.778603Z\", \"created_time\": \"2021-04-10T22:15:04.651192Z\", \"created_time_dt\": \"2021-04-10T22:15:04.651192Z\", \"duration\": \"0:01:40\", \"iteration\": \"37\", \"goal\": \"AUC_weighted_max\", \"run_name\": \"MaxAbsScaler, LightGBM\", \"run_properties\": \"copy=True\", \"primary_metric\": 0.97046228, \"best_metric\": 0.97101175}, {\"run_id\": \"AutoML_f0513c5f-59c5-4e33-b4b1-b87086271b45_38\", \"run_number\": 43, \"metric\": null, \"status\": \"Completed\", \"run_type\": \"azureml.scriptrun\", \"training_percent\": \"100\", \"start_time\": \"2021-04-10T22:16:30.784397Z\", \"end_time\": \"2021-04-10T22:17:33.009653Z\", \"created_time\": \"2021-04-10T22:15:38.442909Z\", \"created_time_dt\": \"2021-04-10T22:15:38.442909Z\", \"duration\": \"0:01:54\", \"iteration\": \"38\", \"goal\": \"AUC_weighted_max\", \"run_name\": \"RobustScaler, ExtremeRandomTrees\", \"run_properties\": \"copy=True, quantile_range=[25, 75], with_centering=True,\\n             with_scaling=False\", \"primary_metric\": 0.96581712, \"best_metric\": 0.97101175}, {\"run_id\": \"AutoML_f0513c5f-59c5-4e33-b4b1-b87086271b45_39\", \"run_number\": 44, \"metric\": null, \"status\": \"Completed\", \"run_type\": \"azureml.scriptrun\", \"training_percent\": \"100\", \"start_time\": \"2021-04-10T22:16:59.894944Z\", \"end_time\": \"2021-04-10T22:18:47.082626Z\", \"created_time\": \"2021-04-10T22:16:15.203544Z\", \"created_time_dt\": \"2021-04-10T22:16:15.203544Z\", \"duration\": \"0:02:31\", \"iteration\": \"39\", \"goal\": \"AUC_weighted_max\", \"run_name\": \"RobustScaler, GradientBoosting\", \"run_properties\": \"copy=True, quantile_range=[10, 90], with_centering=True,\\n             with_scaling=False\", \"primary_metric\": 0.96846181, \"best_metric\": 0.97101175}, {\"run_id\": \"AutoML_f0513c5f-59c5-4e33-b4b1-b87086271b45_40\", \"run_number\": 45, \"metric\": null, \"status\": \"Completed\", \"run_type\": \"azureml.scriptrun\", \"training_percent\": \"100\", \"start_time\": \"2021-04-10T22:17:24.46091Z\", \"end_time\": \"2021-04-10T22:18:17.106565Z\", \"created_time\": \"2021-04-10T22:16:48.64198Z\", \"created_time_dt\": \"2021-04-10T22:16:48.64198Z\", \"duration\": \"0:01:28\", \"iteration\": \"40\", \"goal\": \"AUC_weighted_max\", \"run_name\": \"StandardScalerWrapper, LightGBM\", \"run_properties\": \"<azureml.automl.runtime.shared.model_wrappers.StandardScalerWrapper object at 0x7f47cac2e710\", \"primary_metric\": 0.98158298, \"best_metric\": 0.98158298}, {\"run_id\": \"AutoML_f0513c5f-59c5-4e33-b4b1-b87086271b45_41\", \"run_number\": 46, \"metric\": null, \"status\": \"Completed\", \"run_type\": \"azureml.scriptrun\", \"training_percent\": \"100\", \"start_time\": \"2021-04-10T22:17:51.878574Z\", \"end_time\": \"2021-04-10T22:19:08.508697Z\", \"created_time\": \"2021-04-10T22:17:12.405988Z\", \"created_time_dt\": \"2021-04-10T22:17:12.405988Z\", \"duration\": \"0:01:56\", \"iteration\": \"41\", \"goal\": \"AUC_weighted_max\", \"run_name\": \"StandardScalerWrapper, RandomForest\", \"run_properties\": \"<azureml.automl.runtime.shared.model_wrappers.StandardScalerWrapper object at 0x7f1c0ac6c7b8\", \"primary_metric\": 0.96718379, \"best_metric\": 0.98158298}, {\"run_id\": \"AutoML_f0513c5f-59c5-4e33-b4b1-b87086271b45_42\", \"run_number\": 47, \"metric\": null, \"status\": \"Canceled\", \"run_type\": \"azureml.scriptrun\", \"training_percent\": \"100\", \"start_time\": \"2021-04-10T22:18:30.18764Z\", \"end_time\": \"2021-04-10T22:29:05.029896Z\", \"created_time\": \"2021-04-10T22:17:34.869094Z\", \"created_time_dt\": \"2021-04-10T22:17:34.869094Z\", \"duration\": \"0:11:30\", \"iteration\": \"42\", \"goal\": null, \"run_name\": \"SparseNormalizer, GradientBoosting\", \"run_properties\": null}, {\"run_id\": \"AutoML_f0513c5f-59c5-4e33-b4b1-b87086271b45_43\", \"run_number\": 48, \"metric\": null, \"status\": \"Completed\", \"run_type\": \"azureml.scriptrun\", \"training_percent\": \"100\", \"start_time\": \"2021-04-10T22:19:00.591555Z\", \"end_time\": \"2021-04-10T22:20:03.36554Z\", \"created_time\": \"2021-04-10T22:18:18.889139Z\", \"created_time_dt\": \"2021-04-10T22:18:18.889139Z\", \"duration\": \"0:01:44\", \"iteration\": \"43\", \"goal\": \"AUC_weighted_max\", \"run_name\": \"StandardScalerWrapper, LogisticRegression\", \"run_properties\": \"<azureml.automl.runtime.shared.model_wrappers.StandardScalerWrapper object at 0x7f1b81aaac18\", \"primary_metric\": 0.9563179, \"best_metric\": 0.98158298}, {\"run_id\": \"AutoML_f0513c5f-59c5-4e33-b4b1-b87086271b45_44\", \"run_number\": 49, \"metric\": null, \"status\": \"Completed\", \"run_type\": \"azureml.scriptrun\", \"training_percent\": \"100\", \"start_time\": \"2021-04-10T22:19:24.165533Z\", \"end_time\": \"2021-04-10T22:20:19.905254Z\", \"created_time\": \"2021-04-10T22:18:48.880076Z\", \"created_time_dt\": \"2021-04-10T22:18:48.880076Z\", \"duration\": \"0:01:31\", \"iteration\": \"44\", \"goal\": \"AUC_weighted_max\", \"run_name\": \"RobustScaler, LightGBM\", \"run_properties\": \"copy=True, quantile_range=[10, 90], with_centering=True,\\n             with_scaling=False\", \"primary_metric\": 0.96787896, \"best_metric\": 0.98158298}, {\"run_id\": \"AutoML_f0513c5f-59c5-4e33-b4b1-b87086271b45_45\", \"run_number\": 50, \"metric\": null, \"status\": \"Completed\", \"run_type\": \"azureml.scriptrun\", \"training_percent\": \"100\", \"start_time\": \"2021-04-10T22:20:20.291604Z\", \"end_time\": \"2021-04-10T22:21:40.657994Z\", \"created_time\": \"2021-04-10T22:19:11.29789Z\", \"created_time_dt\": \"2021-04-10T22:19:11.29789Z\", \"duration\": \"0:02:29\", \"iteration\": \"45\", \"goal\": \"AUC_weighted_max\", \"run_name\": \"RobustScaler, LightGBM\", \"run_properties\": \"copy=True, quantile_range=[25, 75], with_centering=False,\\n             with_scaling=False\", \"primary_metric\": 0.97402108, \"best_metric\": 0.98158298}, {\"run_id\": \"AutoML_f0513c5f-59c5-4e33-b4b1-b87086271b45_46\", \"run_number\": 51, \"metric\": null, \"status\": \"Completed\", \"run_type\": \"azureml.scriptrun\", \"training_percent\": \"100\", \"start_time\": \"2021-04-10T22:20:34.182148Z\", \"end_time\": \"2021-04-10T22:28:55.928666Z\", \"created_time\": \"2021-04-10T22:20:08.546847Z\", \"created_time_dt\": \"2021-04-10T22:20:08.546847Z\", \"duration\": \"0:08:47\", \"iteration\": \"46\", \"goal\": \"AUC_weighted_max\", \"run_name\": \"StandardScalerWrapper, GradientBoosting\", \"run_properties\": \"<azureml.automl.runtime.shared.model_wrappers.StandardScalerWrapper object at 0x7f8bcb40abe0\", \"primary_metric\": 0.97274629, \"best_metric\": 0.98158298}, {\"run_id\": \"AutoML_f0513c5f-59c5-4e33-b4b1-b87086271b45_47\", \"run_number\": 52, \"metric\": null, \"status\": \"Completed\", \"run_type\": \"azureml.scriptrun\", \"training_percent\": \"100\", \"start_time\": \"2021-04-10T22:21:59.363199Z\", \"end_time\": \"2021-04-10T22:23:09.34879Z\", \"created_time\": \"2021-04-10T22:20:22.652657Z\", \"created_time_dt\": \"2021-04-10T22:20:22.652657Z\", \"duration\": \"0:02:46\", \"iteration\": \"47\", \"goal\": \"AUC_weighted_max\", \"run_name\": \"MaxAbsScaler, LightGBM\", \"run_properties\": \"copy=True\", \"primary_metric\": 0.96302887, \"best_metric\": 0.98158298}, {\"run_id\": \"AutoML_f0513c5f-59c5-4e33-b4b1-b87086271b45_48\", \"run_number\": 53, \"metric\": null, \"status\": \"Completed\", \"run_type\": \"azureml.scriptrun\", \"training_percent\": \"100\", \"start_time\": \"2021-04-10T22:23:25.354793Z\", \"end_time\": \"2021-04-10T22:24:44.013157Z\", \"created_time\": \"2021-04-10T22:21:43.647243Z\", \"created_time_dt\": \"2021-04-10T22:21:43.647243Z\", \"duration\": \"0:03:00\", \"iteration\": \"48\", \"goal\": \"AUC_weighted_max\", \"run_name\": \"StandardScalerWrapper, GradientBoosting\", \"run_properties\": \"<azureml.automl.runtime.shared.model_wrappers.StandardScalerWrapper object at 0x7f07e7e2b588\", \"primary_metric\": 0.95630857, \"best_metric\": 0.98158298}, {\"run_id\": \"AutoML_f0513c5f-59c5-4e33-b4b1-b87086271b45_49\", \"run_number\": 54, \"metric\": null, \"status\": \"Completed\", \"run_type\": \"azureml.scriptrun\", \"training_percent\": \"100\", \"start_time\": \"2021-04-10T22:24:59.698059Z\", \"end_time\": \"2021-04-10T22:26:26.010334Z\", \"created_time\": \"2021-04-10T22:23:11.95282Z\", \"created_time_dt\": \"2021-04-10T22:23:11.95282Z\", \"duration\": \"0:03:14\", \"iteration\": \"49\", \"goal\": \"AUC_weighted_max\", \"run_name\": \"StandardScalerWrapper, GradientBoosting\", \"run_properties\": \"<azureml.automl.runtime.shared.model_wrappers.StandardScalerWrapper object at 0x7f827bef7470\", \"primary_metric\": 0.96229206, \"best_metric\": 0.98158298}, {\"run_id\": \"AutoML_f0513c5f-59c5-4e33-b4b1-b87086271b45_50\", \"run_number\": 55, \"metric\": null, \"status\": \"Completed\", \"run_type\": \"azureml.scriptrun\", \"training_percent\": \"100\", \"start_time\": \"2021-04-10T22:25:56.428457Z\", \"end_time\": \"2021-04-10T22:27:06.787099Z\", \"created_time\": \"2021-04-10T22:24:49.73546Z\", \"created_time_dt\": \"2021-04-10T22:24:49.73546Z\", \"duration\": \"0:02:17\", \"iteration\": \"50\", \"goal\": \"AUC_weighted_max\", \"run_name\": \"MaxAbsScaler, LightGBM\", \"run_properties\": \"copy=True\", \"primary_metric\": 0.97870393, \"best_metric\": 0.98158298}, {\"run_id\": \"AutoML_f0513c5f-59c5-4e33-b4b1-b87086271b45_51\", \"run_number\": 56, \"metric\": null, \"status\": \"Completed\", \"run_type\": \"azureml.scriptrun\", \"training_percent\": \"100\", \"start_time\": \"2021-04-10T22:26:41.516687Z\", \"end_time\": \"2021-04-10T22:27:45.275207Z\", \"created_time\": \"2021-04-10T22:25:53.153771Z\", \"created_time_dt\": \"2021-04-10T22:25:53.153771Z\", \"duration\": \"0:01:52\", \"iteration\": \"51\", \"goal\": \"AUC_weighted_max\", \"run_name\": \"StandardScalerWrapper, LightGBM\", \"run_properties\": \"<azureml.automl.runtime.shared.model_wrappers.StandardScalerWrapper object at 0x7f54f2f81c88\", \"primary_metric\": 0.97801342, \"best_metric\": 0.98158298}, {\"run_id\": \"AutoML_f0513c5f-59c5-4e33-b4b1-b87086271b45_52\", \"run_number\": 57, \"metric\": null, \"status\": \"Completed\", \"run_type\": \"azureml.scriptrun\", \"training_percent\": \"100\", \"start_time\": \"2021-04-10T22:27:19.813682Z\", \"end_time\": \"2021-04-10T22:28:13.30171Z\", \"created_time\": \"2021-04-10T22:26:28.873516Z\", \"created_time_dt\": \"2021-04-10T22:26:28.873516Z\", \"duration\": \"0:01:44\", \"iteration\": \"52\", \"goal\": \"AUC_weighted_max\", \"run_name\": \"StandardScalerWrapper, RandomForest\", \"run_properties\": \"<azureml.automl.runtime.shared.model_wrappers.StandardScalerWrapper object at 0x7f3984068da0\", \"primary_metric\": 0.96337735, \"best_metric\": 0.98158298}, {\"run_id\": \"AutoML_f0513c5f-59c5-4e33-b4b1-b87086271b45_53\", \"run_number\": 58, \"metric\": null, \"status\": \"Completed\", \"run_type\": \"azureml.scriptrun\", \"training_percent\": \"100\", \"start_time\": \"2021-04-10T22:28:01.198825Z\", \"end_time\": \"2021-04-10T22:28:51.681536Z\", \"created_time\": \"2021-04-10T22:27:09.542967Z\", \"created_time_dt\": \"2021-04-10T22:27:09.542967Z\", \"duration\": \"0:01:42\", \"iteration\": \"53\", \"goal\": \"AUC_weighted_max\", \"run_name\": \"SparseNormalizer, LightGBM\", \"run_properties\": \"<azureml.automl.runtime.shared.model_wrappers.SparseNormalizer object at 0x7f11f3c12f98\", \"primary_metric\": 0.96466686, \"best_metric\": 0.98158298}, {\"run_id\": \"AutoML_f0513c5f-59c5-4e33-b4b1-b87086271b45_54\", \"run_number\": 59, \"metric\": null, \"status\": \"Canceled\", \"run_type\": \"azureml.scriptrun\", \"training_percent\": \"100\", \"start_time\": \"2021-04-10T22:28:28.522822Z\", \"end_time\": \"2021-04-10T22:29:05.245861Z\", \"created_time\": \"2021-04-10T22:27:48.011702Z\", \"created_time_dt\": \"2021-04-10T22:27:48.011702Z\", \"duration\": \"0:01:17\", \"iteration\": \"54\", \"goal\": \"AUC_weighted_max\", \"run_name\": \"StandardScalerWrapper, LightGBM\", \"run_properties\": \"<azureml.automl.runtime.shared.model_wrappers.StandardScalerWrapper object at 0x7f4ca26e3550\", \"primary_metric\": 0.9773064, \"best_metric\": 0.98158298}, {\"run_id\": \"AutoML_f0513c5f-59c5-4e33-b4b1-b87086271b45_55\", \"run_number\": 60, \"metric\": null, \"status\": \"Canceled\", \"run_type\": \"azureml.scriptrun\", \"training_percent\": \"100\", \"start_time\": \"2021-04-10T22:28:18.152989Z\", \"end_time\": \"2021-04-10T22:29:05.11549Z\", \"created_time\": \"2021-04-10T22:28:18.152989Z\", \"created_time_dt\": \"2021-04-10T22:28:18.152989Z\", \"duration\": \"0:00:46\", \"iteration\": \"55\", \"goal\": null, \"run_name\": \"Canceled\", \"run_properties\": null}, {\"run_id\": \"AutoML_f0513c5f-59c5-4e33-b4b1-b87086271b45_56\", \"run_number\": 61, \"metric\": null, \"status\": \"Canceled\", \"run_type\": \"azureml.scriptrun\", \"training_percent\": \"100\", \"start_time\": \"2021-04-10T22:28:55.390352Z\", \"end_time\": \"2021-04-10T22:29:12.73037Z\", \"created_time\": \"2021-04-10T22:28:55.390352Z\", \"created_time_dt\": \"2021-04-10T22:28:55.390352Z\", \"duration\": \"0:00:17\", \"iteration\": \"56\", \"goal\": null, \"run_name\": \"Canceled\", \"run_properties\": null}, {\"run_id\": \"AutoML_f0513c5f-59c5-4e33-b4b1-b87086271b45_57\", \"run_number\": 62, \"metric\": null, \"status\": \"Completed\", \"run_type\": \"azureml.scriptrun\", \"training_percent\": \"100\", \"start_time\": \"2021-04-10T22:29:25.399424Z\", \"end_time\": \"2021-04-10T22:31:10.345115Z\", \"created_time\": \"2021-04-10T22:29:14.271585Z\", \"created_time_dt\": \"2021-04-10T22:29:14.271585Z\", \"duration\": \"0:01:56\", \"iteration\": \"57\", \"goal\": \"AUC_weighted_max\", \"run_name\": \"VotingEnsemble\", \"run_properties\": \"classification_labels=None,\\n                              estimators=[('40',\\n                                           Pipeline(memory=None,\\n                                                    steps=[('standardscalerwrapper',\\n                                                            <azureml.automl.runtime.shared.model_wrappers.StandardScalerWrapper object at 0x7fa5d022fc18>\", \"primary_metric\": 0.98201724, \"best_metric\": 0.98201724}, {\"run_id\": \"AutoML_f0513c5f-59c5-4e33-b4b1-b87086271b45_58\", \"run_number\": 63, \"metric\": null, \"status\": \"Completed\", \"run_type\": \"azureml.scriptrun\", \"training_percent\": \"100\", \"start_time\": \"2021-04-10T22:29:27.286245Z\", \"end_time\": \"2021-04-10T22:42:40.966148Z\", \"created_time\": \"2021-04-10T22:29:14.394329Z\", \"created_time_dt\": \"2021-04-10T22:29:14.394329Z\", \"duration\": \"0:13:26\", \"iteration\": \"58\", \"goal\": \"AUC_weighted_max\", \"run_name\": \"StackEnsemble\", \"run_properties\": \"base_learners=[('40',\\n                                        Pipeline(memory=None,\\n                                                 steps=[('standardscalerwrapper',\\n                                                         <azureml.automl.runtime.shared.model_wrappers.StandardScalerWrapper object at 0x7f8d5c3e0940>\", \"primary_metric\": 0.9764874, \"best_metric\": 0.98201724}], \"children_metrics\": {\"categories\": [0], \"series\": {\"average_precision_score_macro\": [{\"categories\": [\"0\", \"1\", \"2\", \"3\", \"4\", \"5\", \"6\", \"7\", \"8\", \"9\", \"10\", \"11\", \"12\", \"13\", \"14\", \"15\", \"16\", \"17\", \"18\", \"19\", \"20\", \"21\", \"22\", \"23\", \"24\", \"25\", \"26\", \"27\", \"28\", \"29\", \"30\", \"31\", \"32\", \"33\", \"34\", \"35\", \"36\", \"37\", \"38\", \"39\", \"40\", \"41\", \"43\", \"44\", \"45\", \"46\", \"47\", \"48\", \"49\", \"50\", \"51\", \"52\", \"53\", \"54\", \"57\", \"58\"], \"mode\": \"markers\", \"name\": \"average_precision_score_macro\", \"stepped\": false, \"type\": \"scatter\", \"data\": [0.9230587466456577, 0.8578274740755645, 0.7706940753604238, 0.801197677187556, 0.8339011830488536, 0.8485321896618611, 0.8030502288872866, 0.8408219101013339, 0.8505712920713084, 0.821639904803353, 0.8177245151240374, 0.509651886744208, 0.8557287003587162, 0.8276162946527692, 0.7931882609277597, 0.8362392877577471, 0.8050469526683379, 0.832268707466875, 0.8296301869717964, 0.8557679167270322, 0.8342905231490028, 0.8277239299859875, 0.7912527351279159, 0.8929140924483917, 0.8490069828817144, 0.5749067555995826, 0.9223625422841505, 0.815567111189277, 0.8358402772170992, 0.8219783968251362, 0.8704293675006465, 0.8263315272302055, 0.8182039427143436, 0.8347677071496578, 0.8325134187785661, 0.785788800585648, 0.8385128476699385, 0.6680164716211654, 0.7994591922085251, 0.8575172789178651, 0.8924192168763724, 0.8140377120391351, 0.8600108791361432, 0.8582470117741215, 0.9316531478924244, 0.8714891452845581, 0.8430951954095831, 0.8251183612331844, 0.8448722269784743, 0.9246562522287726, 0.8812847606259324, 0.8359978843399993, 0.6758660719142934, 0.8485974201338429, 0.9112134050846963, 0.6612774942969216]}, {\"categories\": [\"0\", \"1\", \"2\", \"3\", \"4\", \"5\", \"6\", \"7\", \"8\", \"9\", \"10\", \"11\", \"12\", \"13\", \"14\", \"15\", \"16\", \"17\", \"18\", \"19\", \"20\", \"21\", \"22\", \"23\", \"24\", \"25\", \"26\", \"27\", \"28\", \"29\", \"30\", \"31\", \"32\", \"33\", \"34\", \"35\", \"36\", \"37\", \"38\", \"39\", \"40\", \"41\", \"43\", \"44\", \"45\", \"46\", \"47\", \"48\", \"49\", \"50\", \"51\", \"52\", \"53\", \"54\", \"57\", \"58\"], \"mode\": \"lines\", \"name\": \"average_precision_score_macro_max\", \"stepped\": true, \"type\": \"scatter\", \"data\": [0.9230587466456577, 0.9230587466456577, 0.9230587466456577, 0.9230587466456577, 0.9230587466456577, 0.9230587466456577, 0.9230587466456577, 0.9230587466456577, 0.9230587466456577, 0.9230587466456577, 0.9230587466456577, 0.9230587466456577, 0.9230587466456577, 0.9230587466456577, 0.9230587466456577, 0.9230587466456577, 0.9230587466456577, 0.9230587466456577, 0.9230587466456577, 0.9230587466456577, 0.9230587466456577, 0.9230587466456577, 0.9230587466456577, 0.9230587466456577, 0.9230587466456577, 0.9230587466456577, 0.9230587466456577, 0.9230587466456577, 0.9230587466456577, 0.9230587466456577, 0.9230587466456577, 0.9230587466456577, 0.9230587466456577, 0.9230587466456577, 0.9230587466456577, 0.9230587466456577, 0.9230587466456577, 0.9230587466456577, 0.9230587466456577, 0.9230587466456577, 0.9230587466456577, 0.9230587466456577, 0.9230587466456577, 0.9230587466456577, 0.9316531478924244, 0.9316531478924244, 0.9316531478924244, 0.9316531478924244, 0.9316531478924244, 0.9316531478924244, 0.9316531478924244, 0.9316531478924244, 0.9316531478924244, 0.9316531478924244, 0.9316531478924244, 0.9316531478924244]}], \"precision_score_macro\": [{\"categories\": [\"0\", \"1\", \"2\", \"3\", \"4\", \"5\", \"6\", \"7\", \"8\", \"9\", \"10\", \"11\", \"12\", \"13\", \"14\", \"15\", \"16\", \"17\", \"18\", \"19\", \"20\", \"21\", \"22\", \"23\", \"24\", \"25\", \"26\", \"27\", \"28\", \"29\", \"30\", \"31\", \"32\", \"33\", \"34\", \"35\", \"36\", \"37\", \"38\", \"39\", \"40\", \"41\", \"43\", \"44\", \"45\", \"46\", \"47\", \"48\", \"49\", \"50\", \"51\", \"52\", \"53\", \"54\", \"57\", \"58\"], \"mode\": \"markers\", \"name\": \"precision_score_macro\", \"stepped\": false, \"type\": \"scatter\", \"data\": [0.9182266603884097, 0.5093454616430946, 0.5209691855329948, 0.5109479471307368, 0.515715552927262, 0.537999355699421, 0.5090657609984005, 0.5341825666734118, 0.5332606632787843, 0.5368740562062744, 0.50109673664891, 0.5053790666125189, 0.5032643652359022, 0.5182976964404025, 0.0008602226045433798, 0.5013253989721396, 0.5010548069057562, 0.0008602226045433798, 0.5299679345526715, 0.5158497814669655, 0.5008605247444768, 0.0008602226045433798, 0.500879681160461, 0.5377761429743552, 0.5311599974799295, 0.506513176100027, 0.890803553724823, 0.0008602226045433798, 0.5276175134798962, 0.5226775043446777, 0.5255804441439149, 0.5189561310874347, 0.5293609958209802, 0.5256404996903079, 0.5206244532345882, 0.5155104871324709, 0.5312789321154228, 0.5088086711241512, 0.5570741084913338, 0.526706206300096, 0.5460323203303991, 0.0008602226045433798, 0.5290351925485721, 0.5323955589537855, 0.8619458258064439, 0.5266410804702149, 0.5273667204243714, 0.5317019438597673, 0.5227931184510594, 0.7618167244360152, 0.6072286589678741, 0.5011449352554426, 0.5086872223136597, 0.5504855733724808, 0.5371985009440503, 0.5073571759551457]}, {\"categories\": [\"0\", \"1\", \"2\", \"3\", \"4\", \"5\", \"6\", \"7\", \"8\", \"9\", \"10\", \"11\", \"12\", \"13\", \"14\", \"15\", \"16\", \"17\", \"18\", \"19\", \"20\", \"21\", \"22\", \"23\", \"24\", \"25\", \"26\", \"27\", \"28\", \"29\", \"30\", \"31\", \"32\", \"33\", \"34\", \"35\", \"36\", \"37\", \"38\", \"39\", \"40\", \"41\", \"43\", \"44\", \"45\", \"46\", \"47\", \"48\", \"49\", \"50\", \"51\", \"52\", \"53\", \"54\", \"57\", \"58\"], \"mode\": \"lines\", \"name\": \"precision_score_macro_max\", \"stepped\": true, \"type\": \"scatter\", \"data\": [0.9182266603884097, 0.9182266603884097, 0.9182266603884097, 0.9182266603884097, 0.9182266603884097, 0.9182266603884097, 0.9182266603884097, 0.9182266603884097, 0.9182266603884097, 0.9182266603884097, 0.9182266603884097, 0.9182266603884097, 0.9182266603884097, 0.9182266603884097, 0.9182266603884097, 0.9182266603884097, 0.9182266603884097, 0.9182266603884097, 0.9182266603884097, 0.9182266603884097, 0.9182266603884097, 0.9182266603884097, 0.9182266603884097, 0.9182266603884097, 0.9182266603884097, 0.9182266603884097, 0.9182266603884097, 0.9182266603884097, 0.9182266603884097, 0.9182266603884097, 0.9182266603884097, 0.9182266603884097, 0.9182266603884097, 0.9182266603884097, 0.9182266603884097, 0.9182266603884097, 0.9182266603884097, 0.9182266603884097, 0.9182266603884097, 0.9182266603884097, 0.9182266603884097, 0.9182266603884097, 0.9182266603884097, 0.9182266603884097, 0.9182266603884097, 0.9182266603884097, 0.9182266603884097, 0.9182266603884097, 0.9182266603884097, 0.9182266603884097, 0.9182266603884097, 0.9182266603884097, 0.9182266603884097, 0.9182266603884097, 0.9182266603884097, 0.9182266603884097]}], \"precision_score_weighted\": [{\"categories\": [\"0\", \"1\", \"2\", \"3\", \"4\", \"5\", \"6\", \"7\", \"8\", \"9\", \"10\", \"11\", \"12\", \"13\", \"14\", \"15\", \"16\", \"17\", \"18\", \"19\", \"20\", \"21\", \"22\", \"23\", \"24\", \"25\", \"26\", \"27\", \"28\", \"29\", \"30\", \"31\", \"32\", \"33\", \"34\", \"35\", \"36\", \"37\", \"38\", \"39\", \"40\", \"41\", \"43\", \"44\", \"45\", \"46\", \"47\", \"48\", \"49\", \"50\", \"51\", \"52\", \"53\", \"54\", \"57\", \"58\"], \"mode\": \"markers\", \"name\": \"precision_score_weighted\", \"stepped\": false, \"type\": \"scatter\", \"data\": [0.9994382219725431, 0.9981589411619936, 0.9981339675873071, 0.9982039415043964, 0.9981862974789484, 0.9982673793234853, 0.9981575501403156, 0.9981825055376009, 0.9981435374317674, 0.9982634149875839, 0.9982833285415397, 0.9981344316810731, 0.9981077391074392, 0.9981235954266334, 2.959931717469584e-06, 0.9982841153435367, 0.9982831842658882, 2.959931717469584e-06, 0.998238929772165, 0.998150231942215, 0.9982825157622611, 2.959931717469584e-06, 0.9982825816773893, 0.9982309435368036, 0.998207387265149, 0.9981038743383506, 0.9994139189095494, 2.959931717469584e-06, 0.9981946148507298, 0.9982125893652958, 0.9981871950769791, 0.9981624344404599, 0.9982009189702441, 0.9981874147801896, 0.9981687934379677, 0.998148860714264, 0.9981720665169179, 0.9981943749381716, 0.9982631899779447, 0.9981913034680748, 0.9982600153958056, 2.959931717469584e-06, 0.9982355958038156, 0.9982475726377624, 0.9992795387137353, 0.9981910663506598, 0.9982296103253, 0.9982093295065655, 0.9982130135465943, 0.9990049683664146, 0.9984722968975612, 0.9981667876175986, 0.9981937962158692, 0.9982756050111202, 0.9982288983040528, 0.9981096958968093]}, {\"categories\": [\"0\", \"1\", \"2\", \"3\", \"4\", \"5\", \"6\", \"7\", \"8\", \"9\", \"10\", \"11\", \"12\", \"13\", \"14\", \"15\", \"16\", \"17\", \"18\", \"19\", \"20\", \"21\", \"22\", \"23\", \"24\", \"25\", \"26\", \"27\", \"28\", \"29\", \"30\", \"31\", \"32\", \"33\", \"34\", \"35\", \"36\", \"37\", \"38\", \"39\", \"40\", \"41\", \"43\", \"44\", \"45\", \"46\", \"47\", \"48\", \"49\", \"50\", \"51\", \"52\", \"53\", \"54\", \"57\", \"58\"], \"mode\": \"lines\", \"name\": \"precision_score_weighted_max\", \"stepped\": true, \"type\": \"scatter\", \"data\": [0.9994382219725431, 0.9994382219725431, 0.9994382219725431, 0.9994382219725431, 0.9994382219725431, 0.9994382219725431, 0.9994382219725431, 0.9994382219725431, 0.9994382219725431, 0.9994382219725431, 0.9994382219725431, 0.9994382219725431, 0.9994382219725431, 0.9994382219725431, 0.9994382219725431, 0.9994382219725431, 0.9994382219725431, 0.9994382219725431, 0.9994382219725431, 0.9994382219725431, 0.9994382219725431, 0.9994382219725431, 0.9994382219725431, 0.9994382219725431, 0.9994382219725431, 0.9994382219725431, 0.9994382219725431, 0.9994382219725431, 0.9994382219725431, 0.9994382219725431, 0.9994382219725431, 0.9994382219725431, 0.9994382219725431, 0.9994382219725431, 0.9994382219725431, 0.9994382219725431, 0.9994382219725431, 0.9994382219725431, 0.9994382219725431, 0.9994382219725431, 0.9994382219725431, 0.9994382219725431, 0.9994382219725431, 0.9994382219725431, 0.9994382219725431, 0.9994382219725431, 0.9994382219725431, 0.9994382219725431, 0.9994382219725431, 0.9994382219725431, 0.9994382219725431, 0.9994382219725431, 0.9994382219725431, 0.9994382219725431, 0.9994382219725431, 0.9994382219725431]}], \"AUC_weighted\": [{\"categories\": [\"0\", \"1\", \"2\", \"3\", \"4\", \"5\", \"6\", \"7\", \"8\", \"9\", \"10\", \"11\", \"12\", \"13\", \"14\", \"15\", \"16\", \"17\", \"18\", \"19\", \"20\", \"21\", \"22\", \"23\", \"24\", \"25\", \"26\", \"27\", \"28\", \"29\", \"30\", \"31\", \"32\", \"33\", \"34\", \"35\", \"36\", \"37\", \"38\", \"39\", \"40\", \"41\", \"43\", \"44\", \"45\", \"46\", \"47\", \"48\", \"49\", \"50\", \"51\", \"52\", \"53\", \"54\", \"57\", \"58\"], \"mode\": \"markers\", \"name\": \"AUC_weighted\", \"stepped\": false, \"type\": \"scatter\", \"data\": [0.9251518840513135, 0.9625780953912235, 0.9586995251111137, 0.969262501004904, 0.9655849115110309, 0.9667732042350771, 0.9552566524640247, 0.9463772495492289, 0.9539197713412886, 0.9536488061741298, 0.9535206809229038, 0.9115729931275175, 0.9639677339703469, 0.9569377131831911, 0.9680849689341127, 0.9694527149633066, 0.9628745420509227, 0.9668970289297486, 0.9694548683288735, 0.956837940578595, 0.9390335551778394, 0.9590605727378179, 0.9707845715663866, 0.9682579559679808, 0.9708419946481688, 0.9241735382954533, 0.9664125216772134, 0.9612415731627484, 0.9682766184695599, 0.965234630712161, 0.9710117516336867, 0.9677242802016698, 0.9609357952522596, 0.968193355000976, 0.9677741665039679, 0.9664699447589952, 0.9521066375340232, 0.9704622845198855, 0.9658171160979869, 0.9684618079083068, 0.9815829820954832, 0.9671837854443971, 0.956317902794207, 0.9678789636282201, 0.9740210800133221, 0.9727462875977629, 0.9630288665832117, 0.9563085715434178, 0.962292056665097, 0.9787039323326402, 0.9780134197742125, 0.963377352910776, 0.9646668599910418, 0.9773063980797723, 0.9820172441514591, 0.976487401375857]}, {\"categories\": [\"0\", \"1\", \"2\", \"3\", \"4\", \"5\", \"6\", \"7\", \"8\", \"9\", \"10\", \"11\", \"12\", \"13\", \"14\", \"15\", \"16\", \"17\", \"18\", \"19\", \"20\", \"21\", \"22\", \"23\", \"24\", \"25\", \"26\", \"27\", \"28\", \"29\", \"30\", \"31\", \"32\", \"33\", \"34\", \"35\", \"36\", \"37\", \"38\", \"39\", \"40\", \"41\", \"43\", \"44\", \"45\", \"46\", \"47\", \"48\", \"49\", \"50\", \"51\", \"52\", \"53\", \"54\", \"57\", \"58\"], \"mode\": \"lines\", \"name\": \"AUC_weighted_max\", \"stepped\": true, \"type\": \"scatter\", \"data\": [0.9251518840513135, 0.9625780953912235, 0.9625780953912235, 0.969262501004904, 0.969262501004904, 0.969262501004904, 0.969262501004904, 0.969262501004904, 0.969262501004904, 0.969262501004904, 0.969262501004904, 0.969262501004904, 0.969262501004904, 0.969262501004904, 0.969262501004904, 0.9694527149633066, 0.9694527149633066, 0.9694527149633066, 0.9694548683288735, 0.9694548683288735, 0.9694548683288735, 0.9694548683288735, 0.9707845715663866, 0.9707845715663866, 0.9708419946481688, 0.9708419946481688, 0.9708419946481688, 0.9708419946481688, 0.9708419946481688, 0.9708419946481688, 0.9710117516336867, 0.9710117516336867, 0.9710117516336867, 0.9710117516336867, 0.9710117516336867, 0.9710117516336867, 0.9710117516336867, 0.9710117516336867, 0.9710117516336867, 0.9710117516336867, 0.9815829820954832, 0.9815829820954832, 0.9815829820954832, 0.9815829820954832, 0.9815829820954832, 0.9815829820954832, 0.9815829820954832, 0.9815829820954832, 0.9815829820954832, 0.9815829820954832, 0.9815829820954832, 0.9815829820954832, 0.9815829820954832, 0.9815829820954832, 0.9820172441514591, 0.9820172441514591]}], \"average_precision_score_weighted\": [{\"categories\": [\"0\", \"1\", \"2\", \"3\", \"4\", \"5\", \"6\", \"7\", \"8\", \"9\", \"10\", \"11\", \"12\", \"13\", \"14\", \"15\", \"16\", \"17\", \"18\", \"19\", \"20\", \"21\", \"22\", \"23\", \"24\", \"25\", \"26\", \"27\", \"28\", \"29\", \"30\", \"31\", \"32\", \"33\", \"34\", \"35\", \"36\", \"37\", \"38\", \"39\", \"40\", \"41\", \"43\", \"44\", \"45\", \"46\", \"47\", \"48\", \"49\", \"50\", \"51\", \"52\", \"53\", \"54\", \"57\", \"58\"], \"mode\": \"markers\", \"name\": \"average_precision_score_weighted\", \"stepped\": false, \"type\": \"scatter\", \"data\": [0.9991205202051671, 0.9994217225298712, 0.9991144733237997, 0.9992462537169988, 0.9993471656687404, 0.9993997227445207, 0.9991971190142297, 0.9991553635954499, 0.9993688608866534, 0.9992399930675613, 0.9992552893763322, 0.9979990924274812, 0.9994093258167507, 0.999286759798386, 0.9992150259536388, 0.9993668063669053, 0.9992409321324826, 0.9993416527899431, 0.9993443130443808, 0.9993979985708888, 0.9991902957665619, 0.9992631752669457, 0.9992203267893754, 0.9995480262761828, 0.9994118012991573, 0.9983198892314988, 0.9996427273304337, 0.9991706046422437, 0.999363850769949, 0.999306928981223, 0.999480448687194, 0.9993222394419564, 0.999279791527125, 0.9993606068284282, 0.9993394726611166, 0.9991822651415443, 0.9993168408182617, 0.9987771262921363, 0.9992154750912612, 0.9994372510647421, 0.9995937241467634, 0.9992854100808718, 0.9993864617508901, 0.9994356759833901, 0.9997046959207736, 0.9994956744781605, 0.9993677855218921, 0.9992663691319636, 0.9993671249050895, 0.9996968656204201, 0.9995467499758048, 0.9993342511097468, 0.9987545173824937, 0.9994316612340868, 0.9996585751287641, 0.9987869078412981]}, {\"categories\": [\"0\", \"1\", \"2\", \"3\", \"4\", \"5\", \"6\", \"7\", \"8\", \"9\", \"10\", \"11\", \"12\", \"13\", \"14\", \"15\", \"16\", \"17\", \"18\", \"19\", \"20\", \"21\", \"22\", \"23\", \"24\", \"25\", \"26\", \"27\", \"28\", \"29\", \"30\", \"31\", \"32\", \"33\", \"34\", \"35\", \"36\", \"37\", \"38\", \"39\", \"40\", \"41\", \"43\", \"44\", \"45\", \"46\", \"47\", \"48\", \"49\", \"50\", \"51\", \"52\", \"53\", \"54\", \"57\", \"58\"], \"mode\": \"lines\", \"name\": \"average_precision_score_weighted_max\", \"stepped\": true, \"type\": \"scatter\", \"data\": [0.9991205202051671, 0.9994217225298712, 0.9994217225298712, 0.9994217225298712, 0.9994217225298712, 0.9994217225298712, 0.9994217225298712, 0.9994217225298712, 0.9994217225298712, 0.9994217225298712, 0.9994217225298712, 0.9994217225298712, 0.9994217225298712, 0.9994217225298712, 0.9994217225298712, 0.9994217225298712, 0.9994217225298712, 0.9994217225298712, 0.9994217225298712, 0.9994217225298712, 0.9994217225298712, 0.9994217225298712, 0.9994217225298712, 0.9995480262761828, 0.9995480262761828, 0.9995480262761828, 0.9996427273304337, 0.9996427273304337, 0.9996427273304337, 0.9996427273304337, 0.9996427273304337, 0.9996427273304337, 0.9996427273304337, 0.9996427273304337, 0.9996427273304337, 0.9996427273304337, 0.9996427273304337, 0.9996427273304337, 0.9996427273304337, 0.9996427273304337, 0.9996427273304337, 0.9996427273304337, 0.9996427273304337, 0.9996427273304337, 0.9997046959207736, 0.9997046959207736, 0.9997046959207736, 0.9997046959207736, 0.9997046959207736, 0.9997046959207736, 0.9997046959207736, 0.9997046959207736, 0.9997046959207736, 0.9997046959207736, 0.9997046959207736, 0.9997046959207736]}], \"accuracy\": [{\"categories\": [\"0\", \"1\", \"2\", \"3\", \"4\", \"5\", \"6\", \"7\", \"8\", \"9\", \"10\", \"11\", \"12\", \"13\", \"14\", \"15\", \"16\", \"17\", \"18\", \"19\", \"20\", \"21\", \"22\", \"23\", \"24\", \"25\", \"26\", \"27\", \"28\", \"29\", \"30\", \"31\", \"32\", \"33\", \"34\", \"35\", \"36\", \"37\", \"38\", \"39\", \"40\", \"41\", \"43\", \"44\", \"45\", \"46\", \"47\", \"48\", \"49\", \"50\", \"51\", \"52\", \"53\", \"54\", \"57\", \"58\"], \"mode\": \"markers\", \"name\": \"accuracy\", \"stepped\": false, \"type\": \"scatter\", \"data\": [0.9994382219725431, 0.9175941855974158, 0.9654857624381167, 0.9281275236122327, 0.951406200624978, 0.9806888803061691, 0.9150310733471437, 0.9792844352375267, 0.9791439907306625, 0.98005688002528, 0.21737298549910467, 0.8567817141252063, 0.7660545626909168, 0.9602893156841403, 0.0017204452090867595, 0.3526912678627857, 0.18619430497524667, 0.0017204452090867595, 0.9751413222850321, 0.9529159790737685, 0.002071556476247323, 0.0017204452090867595, 0.02384045504020224, 0.9809697693198974, 0.9766511007338226, 0.8845546153576068, 0.9993679997191109, 0.0017204452090867595, 0.9734910993293775, 0.9667146518731786, 0.9712790983462659, 0.9608159825848811, 0.9751413222850321, 0.971349320599698, 0.9640813173694743, 0.9518626452722868, 0.9772479898879955, 0.9104315157473404, 0.9880973280432569, 0.9725430989080439, 0.9846213264983673, 0.0017204452090867595, 0.9742986552438467, 0.9771075453811313, 0.9991924440855307, 0.9724728766546118, 0.9726484322881921, 0.9770724342544153, 0.9668902075067589, 0.9984199992977775, 0.9941715529651346, 0.3014641339840595, 0.9091675151855623, 0.9860959938204417, 0.980653769179453, 0.897756399002844]}, {\"categories\": [\"0\", \"1\", \"2\", \"3\", \"4\", \"5\", \"6\", \"7\", \"8\", \"9\", \"10\", \"11\", \"12\", \"13\", \"14\", \"15\", \"16\", \"17\", \"18\", \"19\", \"20\", \"21\", \"22\", \"23\", \"24\", \"25\", \"26\", \"27\", \"28\", \"29\", \"30\", \"31\", \"32\", \"33\", \"34\", \"35\", \"36\", \"37\", \"38\", \"39\", \"40\", \"41\", \"43\", \"44\", \"45\", \"46\", \"47\", \"48\", \"49\", \"50\", \"51\", \"52\", \"53\", \"54\", \"57\", \"58\"], \"mode\": \"lines\", \"name\": \"accuracy_max\", \"stepped\": true, \"type\": \"scatter\", \"data\": [0.9994382219725431, 0.9994382219725431, 0.9994382219725431, 0.9994382219725431, 0.9994382219725431, 0.9994382219725431, 0.9994382219725431, 0.9994382219725431, 0.9994382219725431, 0.9994382219725431, 0.9994382219725431, 0.9994382219725431, 0.9994382219725431, 0.9994382219725431, 0.9994382219725431, 0.9994382219725431, 0.9994382219725431, 0.9994382219725431, 0.9994382219725431, 0.9994382219725431, 0.9994382219725431, 0.9994382219725431, 0.9994382219725431, 0.9994382219725431, 0.9994382219725431, 0.9994382219725431, 0.9994382219725431, 0.9994382219725431, 0.9994382219725431, 0.9994382219725431, 0.9994382219725431, 0.9994382219725431, 0.9994382219725431, 0.9994382219725431, 0.9994382219725431, 0.9994382219725431, 0.9994382219725431, 0.9994382219725431, 0.9994382219725431, 0.9994382219725431, 0.9994382219725431, 0.9994382219725431, 0.9994382219725431, 0.9994382219725431, 0.9994382219725431, 0.9994382219725431, 0.9994382219725431, 0.9994382219725431, 0.9994382219725431, 0.9994382219725431, 0.9994382219725431, 0.9994382219725431, 0.9994382219725431, 0.9994382219725431, 0.9994382219725431, 0.9994382219725431]}], \"recall_score_macro\": [{\"categories\": [\"0\", \"1\", \"2\", \"3\", \"4\", \"5\", \"6\", \"7\", \"8\", \"9\", \"10\", \"11\", \"12\", \"13\", \"14\", \"15\", \"16\", \"17\", \"18\", \"19\", \"20\", \"21\", \"22\", \"23\", \"24\", \"25\", \"26\", \"27\", \"28\", \"29\", \"30\", \"31\", \"32\", \"33\", \"34\", \"35\", \"36\", \"37\", \"38\", \"39\", \"40\", \"41\", \"43\", \"44\", \"45\", \"46\", \"47\", \"48\", \"49\", \"50\", \"51\", \"52\", \"53\", \"54\", \"57\", \"58\"], \"mode\": \"markers\", \"name\": \"recall_score_macro\", \"stepped\": false, \"type\": \"scatter\", \"data\": [0.9182266603884097, 0.9179801000310085, 0.9215941652406601, 0.9334423414835827, 0.9349152435312899, 0.949581816406923, 0.9166963352589207, 0.9285053920273794, 0.9182485529383391, 0.9492652716685999, 0.6080120990433314, 0.887521461876816, 0.8420797061086674, 0.9189914640588931, 0.5, 0.6757878446820484, 0.5923958919527293, 0.5, 0.9468032570371987, 0.9254849379256486, 0.5001758581879572, 0.5, 0.5110790658413056, 0.9395360071434313, 0.9373729514315574, 0.8912453487303756, 0.9385644803785329, 0.5, 0.9357902277399424, 0.9425826605262251, 0.9346823211558117, 0.9294417471546863, 0.9366167612233414, 0.9347174927934032, 0.9310772283026885, 0.9249573633617769, 0.9274854145372273, 0.9245790888105383, 0.9329194325451058, 0.9353154106324578, 0.9413649322981865, 0.5, 0.9463811973861014, 0.9477880628897593, 0.928290055470697, 0.9352802389948665, 0.9455546639027024, 0.9375839812571061, 0.9426705896202037, 0.9482761590849058, 0.9461482750106233, 0.639943639245231, 0.9239459993338923, 0.9421035366876069, 0.9393777347742699, 0.8978576165975676]}, {\"categories\": [\"0\", \"1\", \"2\", \"3\", \"4\", \"5\", \"6\", \"7\", \"8\", \"9\", \"10\", \"11\", \"12\", \"13\", \"14\", \"15\", \"16\", \"17\", \"18\", \"19\", \"20\", \"21\", \"22\", \"23\", \"24\", \"25\", \"26\", \"27\", \"28\", \"29\", \"30\", \"31\", \"32\", \"33\", \"34\", \"35\", \"36\", \"37\", \"38\", \"39\", \"40\", \"41\", \"43\", \"44\", \"45\", \"46\", \"47\", \"48\", \"49\", \"50\", \"51\", \"52\", \"53\", \"54\", \"57\", \"58\"], \"mode\": \"lines\", \"name\": \"recall_score_macro_max\", \"stepped\": true, \"type\": \"scatter\", \"data\": [0.9182266603884097, 0.9182266603884097, 0.9215941652406601, 0.9334423414835827, 0.9349152435312899, 0.949581816406923, 0.949581816406923, 0.949581816406923, 0.949581816406923, 0.949581816406923, 0.949581816406923, 0.949581816406923, 0.949581816406923, 0.949581816406923, 0.949581816406923, 0.949581816406923, 0.949581816406923, 0.949581816406923, 0.949581816406923, 0.949581816406923, 0.949581816406923, 0.949581816406923, 0.949581816406923, 0.949581816406923, 0.949581816406923, 0.949581816406923, 0.949581816406923, 0.949581816406923, 0.949581816406923, 0.949581816406923, 0.949581816406923, 0.949581816406923, 0.949581816406923, 0.949581816406923, 0.949581816406923, 0.949581816406923, 0.949581816406923, 0.949581816406923, 0.949581816406923, 0.949581816406923, 0.949581816406923, 0.949581816406923, 0.949581816406923, 0.949581816406923, 0.949581816406923, 0.949581816406923, 0.949581816406923, 0.949581816406923, 0.949581816406923, 0.949581816406923, 0.949581816406923, 0.949581816406923, 0.949581816406923, 0.949581816406923, 0.949581816406923, 0.949581816406923]}], \"f1_score_macro\": [{\"categories\": [\"0\", \"1\", \"2\", \"3\", \"4\", \"5\", \"6\", \"7\", \"8\", \"9\", \"10\", \"11\", \"12\", \"13\", \"14\", \"15\", \"16\", \"17\", \"18\", \"19\", \"20\", \"21\", \"22\", \"23\", \"24\", \"25\", \"26\", \"27\", \"28\", \"29\", \"30\", \"31\", \"32\", \"33\", \"34\", \"35\", \"36\", \"37\", \"38\", \"39\", \"40\", \"41\", \"43\", \"44\", \"45\", \"46\", \"47\", \"48\", \"49\", \"50\", \"51\", \"52\", \"53\", \"54\", \"57\", \"58\"], \"mode\": \"markers\", \"name\": \"f1_score_macro\", \"stepped\": false, \"type\": \"scatter\", \"data\": [0.9182266603884097, 0.49694308871503196, 0.5314309211387915, 0.502836204646076, 0.5180580073836543, 0.565429860889173, 0.49570688084362763, 0.5583683773088708, 0.556670092193635, 0.563345011146611, 0.17983661604451617, 0.4721619397768546, 0.44031105908002016, 0.525188377968023, 0.0017174903610234842, 0.26276661689696984, 0.15807501181238534, 0.0017174903610234842, 0.5500880075696685, 0.5187168607669549, 0.002069685281618861, 0.0017174903610234842, 0.023434064707537883, 0.5650305050894414, 0.5525175121298979, 0.4823535202216466, 0.9133032493905194, 0.0017174903610234842, 0.545467766270358, 0.5348768125858668, 0.5412688462593854, 0.526537317946956, 0.5489736364763674, 0.5413943901970052, 0.5304456642151297, 0.5178069584738746, 0.5528208525855901, 0.4939228099538971, 0.5981784339042938, 0.5436040216360478, 0.5797696883067115, 0.0017174903610234842, 0.5482251098010968, 0.55484825210163, 0.8923210955562477, 0.5434699475449842, 0.5448398339458327, 0.5535717787723267, 0.5351321081836972, 0.8304311430532197, 0.6717647081693261, 0.23333884251591774, 0.49334176301946864, 0.5874033010440107, 0.5639661601954544, 0.4876847164053717]}, {\"categories\": [\"0\", \"1\", \"2\", \"3\", \"4\", \"5\", \"6\", \"7\", \"8\", \"9\", \"10\", \"11\", \"12\", \"13\", \"14\", \"15\", \"16\", \"17\", \"18\", \"19\", \"20\", \"21\", \"22\", \"23\", \"24\", \"25\", \"26\", \"27\", \"28\", \"29\", \"30\", \"31\", \"32\", \"33\", \"34\", \"35\", \"36\", \"37\", \"38\", \"39\", \"40\", \"41\", \"43\", \"44\", \"45\", \"46\", \"47\", \"48\", \"49\", \"50\", \"51\", \"52\", \"53\", \"54\", \"57\", \"58\"], \"mode\": \"lines\", \"name\": \"f1_score_macro_max\", \"stepped\": true, \"type\": \"scatter\", \"data\": [0.9182266603884097, 0.9182266603884097, 0.9182266603884097, 0.9182266603884097, 0.9182266603884097, 0.9182266603884097, 0.9182266603884097, 0.9182266603884097, 0.9182266603884097, 0.9182266603884097, 0.9182266603884097, 0.9182266603884097, 0.9182266603884097, 0.9182266603884097, 0.9182266603884097, 0.9182266603884097, 0.9182266603884097, 0.9182266603884097, 0.9182266603884097, 0.9182266603884097, 0.9182266603884097, 0.9182266603884097, 0.9182266603884097, 0.9182266603884097, 0.9182266603884097, 0.9182266603884097, 0.9182266603884097, 0.9182266603884097, 0.9182266603884097, 0.9182266603884097, 0.9182266603884097, 0.9182266603884097, 0.9182266603884097, 0.9182266603884097, 0.9182266603884097, 0.9182266603884097, 0.9182266603884097, 0.9182266603884097, 0.9182266603884097, 0.9182266603884097, 0.9182266603884097, 0.9182266603884097, 0.9182266603884097, 0.9182266603884097, 0.9182266603884097, 0.9182266603884097, 0.9182266603884097, 0.9182266603884097, 0.9182266603884097, 0.9182266603884097, 0.9182266603884097, 0.9182266603884097, 0.9182266603884097, 0.9182266603884097, 0.9182266603884097, 0.9182266603884097]}], \"f1_score_weighted\": [{\"categories\": [\"0\", \"1\", \"2\", \"3\", \"4\", \"5\", \"6\", \"7\", \"8\", \"9\", \"10\", \"11\", \"12\", \"13\", \"14\", \"15\", \"16\", \"17\", \"18\", \"19\", \"20\", \"21\", \"22\", \"23\", \"24\", \"25\", \"26\", \"27\", \"28\", \"29\", \"30\", \"31\", \"32\", \"33\", \"34\", \"35\", \"36\", \"37\", \"38\", \"39\", \"40\", \"41\", \"43\", \"44\", \"45\", \"46\", \"47\", \"48\", \"49\", \"50\", \"51\", \"52\", \"53\", \"54\", \"57\", \"58\"], \"mode\": \"markers\", \"name\": \"f1_score_weighted\", \"stepped\": false, \"type\": \"scatter\", \"data\": [0.9994382219725431, 0.9553726726043232, 0.980861045193904, 0.9610794476123059, 0.9734851843662325, 0.9887730148029188, 0.9539748934664491, 0.9880342817213521, 0.9879572432987839, 0.9884441368477668, 0.3546921509582837, 0.9211855929246527, 0.8658255041733594, 0.9781472216885541, 5.909696126551085e-06, 0.5193596970580988, 0.31141024674831097, 5.909696126551085e-06, 0.9858893380456346, 0.9742792433967896, 0.0007078874062437686, 5.909696126551085e-06, 0.04328703684525295, 0.9889148947577849, 0.986670124844309, 0.9370706555828878, 0.9993861971501986, 5.909696126551085e-06, 0.9850287425426696, 0.9815063134601069, 0.9838792174282674, 0.9784246713369265, 0.9858859509537857, 0.9839157228154781, 0.9801307480105175, 0.9737244537887785, 0.9869764527605341, 0.9514569301077519, 0.9926419344869211, 0.9845361802036863, 0.9908197346953277, 5.909696126551085e-06, 0.9854515258067937, 0.9869108903060384, 0.9992263428004373, 0.9844996891842527, 0.9845939787651572, 0.9868889779269092, 0.9815977935919767, 0.9986274075794396, 0.9959533741926171, 0.4610891543816738, 0.9507629832245007, 0.9915928463193417, 0.9887504575086083, 0.944458962595241]}, {\"categories\": [\"0\", \"1\", \"2\", \"3\", \"4\", \"5\", \"6\", \"7\", \"8\", \"9\", \"10\", \"11\", \"12\", \"13\", \"14\", \"15\", \"16\", \"17\", \"18\", \"19\", \"20\", \"21\", \"22\", \"23\", \"24\", \"25\", \"26\", \"27\", \"28\", \"29\", \"30\", \"31\", \"32\", \"33\", \"34\", \"35\", \"36\", \"37\", \"38\", \"39\", \"40\", \"41\", \"43\", \"44\", \"45\", \"46\", \"47\", \"48\", \"49\", \"50\", \"51\", \"52\", \"53\", \"54\", \"57\", \"58\"], \"mode\": \"lines\", \"name\": \"f1_score_weighted_max\", \"stepped\": true, \"type\": \"scatter\", \"data\": [0.9994382219725431, 0.9994382219725431, 0.9994382219725431, 0.9994382219725431, 0.9994382219725431, 0.9994382219725431, 0.9994382219725431, 0.9994382219725431, 0.9994382219725431, 0.9994382219725431, 0.9994382219725431, 0.9994382219725431, 0.9994382219725431, 0.9994382219725431, 0.9994382219725431, 0.9994382219725431, 0.9994382219725431, 0.9994382219725431, 0.9994382219725431, 0.9994382219725431, 0.9994382219725431, 0.9994382219725431, 0.9994382219725431, 0.9994382219725431, 0.9994382219725431, 0.9994382219725431, 0.9994382219725431, 0.9994382219725431, 0.9994382219725431, 0.9994382219725431, 0.9994382219725431, 0.9994382219725431, 0.9994382219725431, 0.9994382219725431, 0.9994382219725431, 0.9994382219725431, 0.9994382219725431, 0.9994382219725431, 0.9994382219725431, 0.9994382219725431, 0.9994382219725431, 0.9994382219725431, 0.9994382219725431, 0.9994382219725431, 0.9994382219725431, 0.9994382219725431, 0.9994382219725431, 0.9994382219725431, 0.9994382219725431, 0.9994382219725431, 0.9994382219725431, 0.9994382219725431, 0.9994382219725431, 0.9994382219725431, 0.9994382219725431, 0.9994382219725431]}], \"f1_score_micro\": [{\"categories\": [\"0\", \"1\", \"2\", \"3\", \"4\", \"5\", \"6\", \"7\", \"8\", \"9\", \"10\", \"11\", \"12\", \"13\", \"14\", \"15\", \"16\", \"17\", \"18\", \"19\", \"20\", \"21\", \"22\", \"23\", \"24\", \"25\", \"26\", \"27\", \"28\", \"29\", \"30\", \"31\", \"32\", \"33\", \"34\", \"35\", \"36\", \"37\", \"38\", \"39\", \"40\", \"41\", \"43\", \"44\", \"45\", \"46\", \"47\", \"48\", \"49\", \"50\", \"51\", \"52\", \"53\", \"54\", \"57\", \"58\"], \"mode\": \"markers\", \"name\": \"f1_score_micro\", \"stepped\": false, \"type\": \"scatter\", \"data\": [0.9994382219725431, 0.9175941855974158, 0.9654857624381167, 0.9281275236122327, 0.951406200624978, 0.9806888803061691, 0.9150310733471437, 0.9792844352375267, 0.9791439907306625, 0.98005688002528, 0.2173729854991047, 0.8567817141252063, 0.7660545626909167, 0.9602893156841403, 0.0017204452090867595, 0.3526912678627857, 0.18619430497524667, 0.0017204452090867595, 0.9751413222850321, 0.9529159790737685, 0.002071556476247323, 0.0017204452090867595, 0.02384045504020224, 0.9809697693198974, 0.9766511007338226, 0.8845546153576068, 0.9993679997191109, 0.0017204452090867595, 0.9734910993293775, 0.9667146518731785, 0.9712790983462659, 0.9608159825848811, 0.9751413222850321, 0.971349320599698, 0.9640813173694743, 0.9518626452722868, 0.9772479898879955, 0.9104315157473404, 0.9880973280432569, 0.9725430989080439, 0.9846213264983673, 0.0017204452090867595, 0.9742986552438467, 0.9771075453811313, 0.9991924440855307, 0.9724728766546118, 0.9726484322881921, 0.9770724342544153, 0.9668902075067589, 0.9984199992977775, 0.9941715529651346, 0.3014641339840595, 0.9091675151855624, 0.9860959938204417, 0.980653769179453, 0.8977563990028441]}, {\"categories\": [\"0\", \"1\", \"2\", \"3\", \"4\", \"5\", \"6\", \"7\", \"8\", \"9\", \"10\", \"11\", \"12\", \"13\", \"14\", \"15\", \"16\", \"17\", \"18\", \"19\", \"20\", \"21\", \"22\", \"23\", \"24\", \"25\", \"26\", \"27\", \"28\", \"29\", \"30\", \"31\", \"32\", \"33\", \"34\", \"35\", \"36\", \"37\", \"38\", \"39\", \"40\", \"41\", \"43\", \"44\", \"45\", \"46\", \"47\", \"48\", \"49\", \"50\", \"51\", \"52\", \"53\", \"54\", \"57\", \"58\"], \"mode\": \"lines\", \"name\": \"f1_score_micro_max\", \"stepped\": true, \"type\": \"scatter\", \"data\": [0.9994382219725431, 0.9994382219725431, 0.9994382219725431, 0.9994382219725431, 0.9994382219725431, 0.9994382219725431, 0.9994382219725431, 0.9994382219725431, 0.9994382219725431, 0.9994382219725431, 0.9994382219725431, 0.9994382219725431, 0.9994382219725431, 0.9994382219725431, 0.9994382219725431, 0.9994382219725431, 0.9994382219725431, 0.9994382219725431, 0.9994382219725431, 0.9994382219725431, 0.9994382219725431, 0.9994382219725431, 0.9994382219725431, 0.9994382219725431, 0.9994382219725431, 0.9994382219725431, 0.9994382219725431, 0.9994382219725431, 0.9994382219725431, 0.9994382219725431, 0.9994382219725431, 0.9994382219725431, 0.9994382219725431, 0.9994382219725431, 0.9994382219725431, 0.9994382219725431, 0.9994382219725431, 0.9994382219725431, 0.9994382219725431, 0.9994382219725431, 0.9994382219725431, 0.9994382219725431, 0.9994382219725431, 0.9994382219725431, 0.9994382219725431, 0.9994382219725431, 0.9994382219725431, 0.9994382219725431, 0.9994382219725431, 0.9994382219725431, 0.9994382219725431, 0.9994382219725431, 0.9994382219725431, 0.9994382219725431, 0.9994382219725431, 0.9994382219725431]}], \"AUC_micro\": [{\"categories\": [\"0\", \"1\", \"2\", \"3\", \"4\", \"5\", \"6\", \"7\", \"8\", \"9\", \"10\", \"11\", \"12\", \"13\", \"14\", \"15\", \"16\", \"17\", \"18\", \"19\", \"20\", \"21\", \"22\", \"23\", \"24\", \"25\", \"26\", \"27\", \"28\", \"29\", \"30\", \"31\", \"32\", \"33\", \"34\", \"35\", \"36\", \"37\", \"38\", \"39\", \"40\", \"41\", \"43\", \"44\", \"45\", \"46\", \"47\", \"48\", \"49\", \"50\", \"51\", \"52\", \"53\", \"54\", \"57\", \"58\"], \"mode\": \"markers\", \"name\": \"AUC_micro\", \"stepped\": false, \"type\": \"scatter\", \"data\": [0.9997415009403958, 0.9879670811853585, 0.992706930425915, 0.976593042431351, 0.9909427420859948, 0.9974326136625709, 0.9831909089843174, 0.9977744062609046, 0.9974579709451599, 0.9974601369593321, 0.14212400737854639, 0.8684086045222423, 0.8153387744603792, 0.9948089368452783, 0.0033283032944911592, 0.22731598048112295, 0.06771724263200478, 0.0033242227555553725, 0.9966692730379717, 0.9916489798213171, 0.003228635822786757, 0.0032973047592825895, 0.006324341001190753, 0.9975290327294123, 0.9969619968474053, 0.95166006685518, 0.9998588577333055, 0.0033047964315220998, 0.9949534298385064, 0.993185652843347, 0.9956325597277083, 0.9920157105532258, 0.9954620388134675, 0.9943903684753904, 0.992688607450023, 0.9901139599723121, 0.9969660823175057, 0.9822457489139532, 0.9987555416446299, 0.9952655984638415, 0.9981683138752424, 0.00332520775573957, 0.9927743604072354, 0.9973935958204807, 0.999899975018842, 0.9957121770830225, 0.9954418247358452, 0.9956657624936169, 0.9940438555194777, 0.9997342755510598, 0.9993459278251211, 0.17275971363941506, 0.9786401773135446, 0.9984638065337543, 0.9939439168337051, 0.9427106288612122]}, {\"categories\": [\"0\", \"1\", \"2\", \"3\", \"4\", \"5\", \"6\", \"7\", \"8\", \"9\", \"10\", \"11\", \"12\", \"13\", \"14\", \"15\", \"16\", \"17\", \"18\", \"19\", \"20\", \"21\", \"22\", \"23\", \"24\", \"25\", \"26\", \"27\", \"28\", \"29\", \"30\", \"31\", \"32\", \"33\", \"34\", \"35\", \"36\", \"37\", \"38\", \"39\", \"40\", \"41\", \"43\", \"44\", \"45\", \"46\", \"47\", \"48\", \"49\", \"50\", \"51\", \"52\", \"53\", \"54\", \"57\", \"58\"], \"mode\": \"lines\", \"name\": \"AUC_micro_max\", \"stepped\": true, \"type\": \"scatter\", \"data\": [0.9997415009403958, 0.9997415009403958, 0.9997415009403958, 0.9997415009403958, 0.9997415009403958, 0.9997415009403958, 0.9997415009403958, 0.9997415009403958, 0.9997415009403958, 0.9997415009403958, 0.9997415009403958, 0.9997415009403958, 0.9997415009403958, 0.9997415009403958, 0.9997415009403958, 0.9997415009403958, 0.9997415009403958, 0.9997415009403958, 0.9997415009403958, 0.9997415009403958, 0.9997415009403958, 0.9997415009403958, 0.9997415009403958, 0.9997415009403958, 0.9997415009403958, 0.9997415009403958, 0.9998588577333055, 0.9998588577333055, 0.9998588577333055, 0.9998588577333055, 0.9998588577333055, 0.9998588577333055, 0.9998588577333055, 0.9998588577333055, 0.9998588577333055, 0.9998588577333055, 0.9998588577333055, 0.9998588577333055, 0.9998588577333055, 0.9998588577333055, 0.9998588577333055, 0.9998588577333055, 0.9998588577333055, 0.9998588577333055, 0.999899975018842, 0.999899975018842, 0.999899975018842, 0.999899975018842, 0.999899975018842, 0.999899975018842, 0.999899975018842, 0.999899975018842, 0.999899975018842, 0.999899975018842, 0.999899975018842, 0.999899975018842]}], \"balanced_accuracy\": [{\"categories\": [\"0\", \"1\", \"2\", \"3\", \"4\", \"5\", \"6\", \"7\", \"8\", \"9\", \"10\", \"11\", \"12\", \"13\", \"14\", \"15\", \"16\", \"17\", \"18\", \"19\", \"20\", \"21\", \"22\", \"23\", \"24\", \"25\", \"26\", \"27\", \"28\", \"29\", \"30\", \"31\", \"32\", \"33\", \"34\", \"35\", \"36\", \"37\", \"38\", \"39\", \"40\", \"41\", \"43\", \"44\", \"45\", \"46\", \"47\", \"48\", \"49\", \"50\", \"51\", \"52\", \"53\", \"54\", \"57\", \"58\"], \"mode\": \"markers\", \"name\": \"balanced_accuracy\", \"stepped\": false, \"type\": \"scatter\", \"data\": [0.9182266603884097, 0.9179801000310085, 0.9215941652406601, 0.9334423414835827, 0.9349152435312899, 0.949581816406923, 0.9166963352589207, 0.9285053920273794, 0.9182485529383391, 0.9492652716685999, 0.6080120990433314, 0.887521461876816, 0.8420797061086674, 0.9189914640588931, 0.5, 0.6757878446820484, 0.5923958919527293, 0.5, 0.9468032570371987, 0.9254849379256486, 0.5001758581879572, 0.5, 0.5110790658413056, 0.9395360071434313, 0.9373729514315574, 0.8912453487303756, 0.9385644803785329, 0.5, 0.9357902277399424, 0.9425826605262251, 0.9346823211558117, 0.9294417471546863, 0.9366167612233414, 0.9347174927934032, 0.9310772283026885, 0.9249573633617769, 0.9274854145372273, 0.9245790888105383, 0.9329194325451058, 0.9353154106324578, 0.9413649322981865, 0.5, 0.9463811973861014, 0.9477880628897593, 0.928290055470697, 0.9352802389948665, 0.9455546639027024, 0.9375839812571061, 0.9426705896202037, 0.9482761590849058, 0.9461482750106233, 0.639943639245231, 0.9239459993338923, 0.9421035366876069, 0.9393777347742699, 0.8978576165975676]}, {\"categories\": [\"0\", \"1\", \"2\", \"3\", \"4\", \"5\", \"6\", \"7\", \"8\", \"9\", \"10\", \"11\", \"12\", \"13\", \"14\", \"15\", \"16\", \"17\", \"18\", \"19\", \"20\", \"21\", \"22\", \"23\", \"24\", \"25\", \"26\", \"27\", \"28\", \"29\", \"30\", \"31\", \"32\", \"33\", \"34\", \"35\", \"36\", \"37\", \"38\", \"39\", \"40\", \"41\", \"43\", \"44\", \"45\", \"46\", \"47\", \"48\", \"49\", \"50\", \"51\", \"52\", \"53\", \"54\", \"57\", \"58\"], \"mode\": \"lines\", \"name\": \"balanced_accuracy_max\", \"stepped\": true, \"type\": \"scatter\", \"data\": [0.9182266603884097, 0.9182266603884097, 0.9215941652406601, 0.9334423414835827, 0.9349152435312899, 0.949581816406923, 0.949581816406923, 0.949581816406923, 0.949581816406923, 0.949581816406923, 0.949581816406923, 0.949581816406923, 0.949581816406923, 0.949581816406923, 0.949581816406923, 0.949581816406923, 0.949581816406923, 0.949581816406923, 0.949581816406923, 0.949581816406923, 0.949581816406923, 0.949581816406923, 0.949581816406923, 0.949581816406923, 0.949581816406923, 0.949581816406923, 0.949581816406923, 0.949581816406923, 0.949581816406923, 0.949581816406923, 0.949581816406923, 0.949581816406923, 0.949581816406923, 0.949581816406923, 0.949581816406923, 0.949581816406923, 0.949581816406923, 0.949581816406923, 0.949581816406923, 0.949581816406923, 0.949581816406923, 0.949581816406923, 0.949581816406923, 0.949581816406923, 0.949581816406923, 0.949581816406923, 0.949581816406923, 0.949581816406923, 0.949581816406923, 0.949581816406923, 0.949581816406923, 0.949581816406923, 0.949581816406923, 0.949581816406923, 0.949581816406923, 0.949581816406923]}], \"log_loss\": [{\"categories\": [\"0\", \"1\", \"2\", \"3\", \"4\", \"5\", \"6\", \"7\", \"8\", \"9\", \"10\", \"11\", \"12\", \"13\", \"14\", \"15\", \"16\", \"17\", \"18\", \"19\", \"20\", \"21\", \"22\", \"23\", \"24\", \"25\", \"26\", \"27\", \"28\", \"29\", \"30\", \"31\", \"32\", \"33\", \"34\", \"35\", \"36\", \"37\", \"38\", \"39\", \"40\", \"41\", \"43\", \"44\", \"45\", \"46\", \"47\", \"48\", \"49\", \"50\", \"51\", \"52\", \"53\", \"54\", \"57\", \"58\"], \"mode\": \"markers\", \"name\": \"log_loss\", \"stepped\": false, \"type\": \"scatter\", \"data\": [0.0039053037916055794, 0.16869493513989528, 0.6012145439126405, 0.2831970039277099, 0.21962952445776673, 0.12411506238788182, 0.26583721326371335, 0.41121254331095175, 0.5554120781053518, 0.2881142548663772, 1.314662560700088, 3.6038375165126206, 0.6113985894583002, 0.24760223861728387, 5.4462480651479295, 1.2696649325462157, 1.7810721829300493, 2.018549133932016, 0.1329939388880062, 0.32750964635573526, 3.6963341205035447, 4.260179338224937, 1.9525942240279606, 0.07970671618875425, 0.10471593537566475, 0.43324948223385407, 0.004493534143993899, 3.623729263724937, 0.14436073254128723, 0.1356308817460603, 0.0965827358931098, 0.1302528169300604, 0.17444093963557825, 0.1199870160999083, 0.12498809347417945, 0.4107896294756057, 0.3324732648939226, 0.3485944784876092, 0.41951390685560264, 0.1278834438323222, 0.06476036075537507, 2.4495803672242595, 0.11653371612680795, 0.12566536914644594, 0.0038737626455840773, 0.08734228161811651, 0.1522137638560819, 0.1322367866001605, 0.2916747484886808, 0.00903676521944945, 0.02802805644983123, 1.4580296250853364, 0.40221554423428585, 0.07403493423570226, 0.38552618426197854, 0.31190300878669797]}, {\"categories\": [\"0\", \"1\", \"2\", \"3\", \"4\", \"5\", \"6\", \"7\", \"8\", \"9\", \"10\", \"11\", \"12\", \"13\", \"14\", \"15\", \"16\", \"17\", \"18\", \"19\", \"20\", \"21\", \"22\", \"23\", \"24\", \"25\", \"26\", \"27\", \"28\", \"29\", \"30\", \"31\", \"32\", \"33\", \"34\", \"35\", \"36\", \"37\", \"38\", \"39\", \"40\", \"41\", \"43\", \"44\", \"45\", \"46\", \"47\", \"48\", \"49\", \"50\", \"51\", \"52\", \"53\", \"54\", \"57\", \"58\"], \"mode\": \"lines\", \"name\": \"log_loss_min\", \"stepped\": true, \"type\": \"scatter\", \"data\": [0.0039053037916055794, 0.0039053037916055794, 0.0039053037916055794, 0.0039053037916055794, 0.0039053037916055794, 0.0039053037916055794, 0.0039053037916055794, 0.0039053037916055794, 0.0039053037916055794, 0.0039053037916055794, 0.0039053037916055794, 0.0039053037916055794, 0.0039053037916055794, 0.0039053037916055794, 0.0039053037916055794, 0.0039053037916055794, 0.0039053037916055794, 0.0039053037916055794, 0.0039053037916055794, 0.0039053037916055794, 0.0039053037916055794, 0.0039053037916055794, 0.0039053037916055794, 0.0039053037916055794, 0.0039053037916055794, 0.0039053037916055794, 0.0039053037916055794, 0.0039053037916055794, 0.0039053037916055794, 0.0039053037916055794, 0.0039053037916055794, 0.0039053037916055794, 0.0039053037916055794, 0.0039053037916055794, 0.0039053037916055794, 0.0039053037916055794, 0.0039053037916055794, 0.0039053037916055794, 0.0039053037916055794, 0.0039053037916055794, 0.0039053037916055794, 0.0039053037916055794, 0.0039053037916055794, 0.0039053037916055794, 0.0038737626455840773, 0.0038737626455840773, 0.0038737626455840773, 0.0038737626455840773, 0.0038737626455840773, 0.0038737626455840773, 0.0038737626455840773, 0.0038737626455840773, 0.0038737626455840773, 0.0038737626455840773, 0.0038737626455840773, 0.0038737626455840773]}], \"norm_macro_recall\": [{\"categories\": [\"0\", \"1\", \"2\", \"3\", \"4\", \"5\", \"6\", \"7\", \"8\", \"9\", \"10\", \"11\", \"12\", \"13\", \"14\", \"15\", \"16\", \"17\", \"18\", \"19\", \"20\", \"21\", \"22\", \"23\", \"24\", \"25\", \"26\", \"27\", \"28\", \"29\", \"30\", \"31\", \"32\", \"33\", \"34\", \"35\", \"36\", \"37\", \"38\", \"39\", \"40\", \"41\", \"43\", \"44\", \"45\", \"46\", \"47\", \"48\", \"49\", \"50\", \"51\", \"52\", \"53\", \"54\", \"57\", \"58\"], \"mode\": \"markers\", \"name\": \"norm_macro_recall\", \"stepped\": false, \"type\": \"scatter\", \"data\": [0.8364533207768194, 0.835960200062017, 0.8431883304813201, 0.8668846829671655, 0.8698304870625797, 0.8991636328138459, 0.8333926705178414, 0.8570107840547587, 0.8364971058766781, 0.8985305433371997, 0.21602419808666284, 0.775042923753632, 0.6841594122173349, 0.8379829281177862, 0.0, 0.3515756893640969, 0.1847917839054587, 0.0, 0.8936065140743974, 0.8509698758512971, 0.0003517163759143571, 0.0, 0.02215813168261116, 0.8790720142868627, 0.8747459028631148, 0.7824906974607513, 0.8771289607570658, 0.0, 0.8715804554798847, 0.8851653210524502, 0.8693646423116235, 0.8588834943093726, 0.8732335224466827, 0.8694349855868064, 0.8621544566053769, 0.8499147267235538, 0.8549708290744547, 0.8491581776210766, 0.8658388650902116, 0.8706308212649156, 0.882729864596373, 0.0, 0.8927623947722028, 0.8955761257795185, 0.856580110941394, 0.8705604779897329, 0.8911093278054047, 0.8751679625142121, 0.8853411792404073, 0.8965523181698116, 0.8922965500212465, 0.279887278490462, 0.8478919986677846, 0.8842070733752139, 0.8787554695485398, 0.7957152331951352]}, {\"categories\": [\"0\", \"1\", \"2\", \"3\", \"4\", \"5\", \"6\", \"7\", \"8\", \"9\", \"10\", \"11\", \"12\", \"13\", \"14\", \"15\", \"16\", \"17\", \"18\", \"19\", \"20\", \"21\", \"22\", \"23\", \"24\", \"25\", \"26\", \"27\", \"28\", \"29\", \"30\", \"31\", \"32\", \"33\", \"34\", \"35\", \"36\", \"37\", \"38\", \"39\", \"40\", \"41\", \"43\", \"44\", \"45\", \"46\", \"47\", \"48\", \"49\", \"50\", \"51\", \"52\", \"53\", \"54\", \"57\", \"58\"], \"mode\": \"lines\", \"name\": \"norm_macro_recall_max\", \"stepped\": true, \"type\": \"scatter\", \"data\": [0.8364533207768194, 0.8364533207768194, 0.8431883304813201, 0.8668846829671655, 0.8698304870625797, 0.8991636328138459, 0.8991636328138459, 0.8991636328138459, 0.8991636328138459, 0.8991636328138459, 0.8991636328138459, 0.8991636328138459, 0.8991636328138459, 0.8991636328138459, 0.8991636328138459, 0.8991636328138459, 0.8991636328138459, 0.8991636328138459, 0.8991636328138459, 0.8991636328138459, 0.8991636328138459, 0.8991636328138459, 0.8991636328138459, 0.8991636328138459, 0.8991636328138459, 0.8991636328138459, 0.8991636328138459, 0.8991636328138459, 0.8991636328138459, 0.8991636328138459, 0.8991636328138459, 0.8991636328138459, 0.8991636328138459, 0.8991636328138459, 0.8991636328138459, 0.8991636328138459, 0.8991636328138459, 0.8991636328138459, 0.8991636328138459, 0.8991636328138459, 0.8991636328138459, 0.8991636328138459, 0.8991636328138459, 0.8991636328138459, 0.8991636328138459, 0.8991636328138459, 0.8991636328138459, 0.8991636328138459, 0.8991636328138459, 0.8991636328138459, 0.8991636328138459, 0.8991636328138459, 0.8991636328138459, 0.8991636328138459, 0.8991636328138459, 0.8991636328138459]}], \"precision_score_micro\": [{\"categories\": [\"0\", \"1\", \"2\", \"3\", \"4\", \"5\", \"6\", \"7\", \"8\", \"9\", \"10\", \"11\", \"12\", \"13\", \"14\", \"15\", \"16\", \"17\", \"18\", \"19\", \"20\", \"21\", \"22\", \"23\", \"24\", \"25\", \"26\", \"27\", \"28\", \"29\", \"30\", \"31\", \"32\", \"33\", \"34\", \"35\", \"36\", \"37\", \"38\", \"39\", \"40\", \"41\", \"43\", \"44\", \"45\", \"46\", \"47\", \"48\", \"49\", \"50\", \"51\", \"52\", \"53\", \"54\", \"57\", \"58\"], \"mode\": \"markers\", \"name\": \"precision_score_micro\", \"stepped\": false, \"type\": \"scatter\", \"data\": [0.9994382219725431, 0.9175941855974158, 0.9654857624381167, 0.9281275236122327, 0.951406200624978, 0.9806888803061691, 0.9150310733471437, 0.9792844352375267, 0.9791439907306625, 0.98005688002528, 0.21737298549910467, 0.8567817141252063, 0.7660545626909168, 0.9602893156841403, 0.0017204452090867595, 0.3526912678627857, 0.18619430497524667, 0.0017204452090867595, 0.9751413222850321, 0.9529159790737685, 0.002071556476247323, 0.0017204452090867595, 0.02384045504020224, 0.9809697693198974, 0.9766511007338226, 0.8845546153576068, 0.9993679997191109, 0.0017204452090867595, 0.9734910993293775, 0.9667146518731786, 0.9712790983462659, 0.9608159825848811, 0.9751413222850321, 0.971349320599698, 0.9640813173694743, 0.9518626452722868, 0.9772479898879955, 0.9104315157473404, 0.9880973280432569, 0.9725430989080439, 0.9846213264983673, 0.0017204452090867595, 0.9742986552438467, 0.9771075453811313, 0.9991924440855307, 0.9724728766546118, 0.9726484322881921, 0.9770724342544153, 0.9668902075067589, 0.9984199992977775, 0.9941715529651346, 0.3014641339840595, 0.9091675151855623, 0.9860959938204417, 0.980653769179453, 0.897756399002844]}, {\"categories\": [\"0\", \"1\", \"2\", \"3\", \"4\", \"5\", \"6\", \"7\", \"8\", \"9\", \"10\", \"11\", \"12\", \"13\", \"14\", \"15\", \"16\", \"17\", \"18\", \"19\", \"20\", \"21\", \"22\", \"23\", \"24\", \"25\", \"26\", \"27\", \"28\", \"29\", \"30\", \"31\", \"32\", \"33\", \"34\", \"35\", \"36\", \"37\", \"38\", \"39\", \"40\", \"41\", \"43\", \"44\", \"45\", \"46\", \"47\", \"48\", \"49\", \"50\", \"51\", \"52\", \"53\", \"54\", \"57\", \"58\"], \"mode\": \"lines\", \"name\": \"precision_score_micro_max\", \"stepped\": true, \"type\": \"scatter\", \"data\": [0.9994382219725431, 0.9994382219725431, 0.9994382219725431, 0.9994382219725431, 0.9994382219725431, 0.9994382219725431, 0.9994382219725431, 0.9994382219725431, 0.9994382219725431, 0.9994382219725431, 0.9994382219725431, 0.9994382219725431, 0.9994382219725431, 0.9994382219725431, 0.9994382219725431, 0.9994382219725431, 0.9994382219725431, 0.9994382219725431, 0.9994382219725431, 0.9994382219725431, 0.9994382219725431, 0.9994382219725431, 0.9994382219725431, 0.9994382219725431, 0.9994382219725431, 0.9994382219725431, 0.9994382219725431, 0.9994382219725431, 0.9994382219725431, 0.9994382219725431, 0.9994382219725431, 0.9994382219725431, 0.9994382219725431, 0.9994382219725431, 0.9994382219725431, 0.9994382219725431, 0.9994382219725431, 0.9994382219725431, 0.9994382219725431, 0.9994382219725431, 0.9994382219725431, 0.9994382219725431, 0.9994382219725431, 0.9994382219725431, 0.9994382219725431, 0.9994382219725431, 0.9994382219725431, 0.9994382219725431, 0.9994382219725431, 0.9994382219725431, 0.9994382219725431, 0.9994382219725431, 0.9994382219725431, 0.9994382219725431, 0.9994382219725431, 0.9994382219725431]}], \"weighted_accuracy\": [{\"categories\": [\"0\", \"1\", \"2\", \"3\", \"4\", \"5\", \"6\", \"7\", \"8\", \"9\", \"10\", \"11\", \"12\", \"13\", \"14\", \"15\", \"16\", \"17\", \"18\", \"19\", \"20\", \"21\", \"22\", \"23\", \"24\", \"25\", \"26\", \"27\", \"28\", \"29\", \"30\", \"31\", \"32\", \"33\", \"34\", \"35\", \"36\", \"37\", \"38\", \"39\", \"40\", \"41\", \"43\", \"44\", \"45\", \"46\", \"47\", \"48\", \"49\", \"50\", \"51\", \"52\", \"53\", \"54\", \"57\", \"58\"], \"mode\": \"markers\", \"name\": \"weighted_accuracy\", \"stepped\": false, \"type\": \"scatter\", \"data\": [0.999718142815141, 0.9175928554235918, 0.9656370484450696, 0.9281092044435358, 0.9514630418248623, 0.9807961004527537, 0.9150253335053232, 0.979459460963968, 0.9793538857496068, 0.9801630128564682, 0.21602652659987903, 0.856675760047683, 0.765792518447597, 0.9604316615422782, 2.9701340404421287e-06, 0.3515776152712144, 0.18479420518313128, 2.9701340404421287e-06, 0.9752389982186928, 0.9530105286674683, 0.00035468546531012386, 2.9701340404421287e-06, 0.022161036004030396, 0.9811125836359158, 0.976786485061299, 0.8845315536692612, 0.9995775779125939, 2.9701340404421287e-06, 0.9736210470798716, 0.9667978302682203, 0.9714052404928729, 0.9609241236210363, 0.9752741091368392, 0.9714755835591267, 0.9641950762018443, 0.9519553826736593, 0.9774195120426039, 0.9103827517475438, 0.9882875157788371, 0.9726714156854435, 0.9847704230811206, 2.9701340404421287e-06, 0.9743948814236455, 0.9772086040738028, 0.9994368311651056, 0.9726010726191897, 0.9727418193666778, 0.9772085434588226, 0.9669736879338552, 0.9985928356000192, 0.994337080091656, 0.3002974593571143, 0.909116576554973, 0.9862476274724533, 0.9807960398377732, 0.8977560501250014]}, {\"categories\": [\"0\", \"1\", \"2\", \"3\", \"4\", \"5\", \"6\", \"7\", \"8\", \"9\", \"10\", \"11\", \"12\", \"13\", \"14\", \"15\", \"16\", \"17\", \"18\", \"19\", \"20\", \"21\", \"22\", \"23\", \"24\", \"25\", \"26\", \"27\", \"28\", \"29\", \"30\", \"31\", \"32\", \"33\", \"34\", \"35\", \"36\", \"37\", \"38\", \"39\", \"40\", \"41\", \"43\", \"44\", \"45\", \"46\", \"47\", \"48\", \"49\", \"50\", \"51\", \"52\", \"53\", \"54\", \"57\", \"58\"], \"mode\": \"lines\", \"name\": \"weighted_accuracy_max\", \"stepped\": true, \"type\": \"scatter\", \"data\": [0.999718142815141, 0.999718142815141, 0.999718142815141, 0.999718142815141, 0.999718142815141, 0.999718142815141, 0.999718142815141, 0.999718142815141, 0.999718142815141, 0.999718142815141, 0.999718142815141, 0.999718142815141, 0.999718142815141, 0.999718142815141, 0.999718142815141, 0.999718142815141, 0.999718142815141, 0.999718142815141, 0.999718142815141, 0.999718142815141, 0.999718142815141, 0.999718142815141, 0.999718142815141, 0.999718142815141, 0.999718142815141, 0.999718142815141, 0.999718142815141, 0.999718142815141, 0.999718142815141, 0.999718142815141, 0.999718142815141, 0.999718142815141, 0.999718142815141, 0.999718142815141, 0.999718142815141, 0.999718142815141, 0.999718142815141, 0.999718142815141, 0.999718142815141, 0.999718142815141, 0.999718142815141, 0.999718142815141, 0.999718142815141, 0.999718142815141, 0.999718142815141, 0.999718142815141, 0.999718142815141, 0.999718142815141, 0.999718142815141, 0.999718142815141, 0.999718142815141, 0.999718142815141, 0.999718142815141, 0.999718142815141, 0.999718142815141, 0.999718142815141]}], \"recall_score_weighted\": [{\"categories\": [\"0\", \"1\", \"2\", \"3\", \"4\", \"5\", \"6\", \"7\", \"8\", \"9\", \"10\", \"11\", \"12\", \"13\", \"14\", \"15\", \"16\", \"17\", \"18\", \"19\", \"20\", \"21\", \"22\", \"23\", \"24\", \"25\", \"26\", \"27\", \"28\", \"29\", \"30\", \"31\", \"32\", \"33\", \"34\", \"35\", \"36\", \"37\", \"38\", \"39\", \"40\", \"41\", \"43\", \"44\", \"45\", \"46\", \"47\", \"48\", \"49\", \"50\", \"51\", \"52\", \"53\", \"54\", \"57\", \"58\"], \"mode\": \"markers\", \"name\": \"recall_score_weighted\", \"stepped\": false, \"type\": \"scatter\", \"data\": [0.9994382219725431, 0.9175941855974158, 0.9654857624381167, 0.9281275236122327, 0.951406200624978, 0.9806888803061691, 0.9150310733471437, 0.9792844352375267, 0.9791439907306625, 0.98005688002528, 0.21737298549910467, 0.8567817141252063, 0.7660545626909168, 0.9602893156841403, 0.0017204452090867595, 0.3526912678627857, 0.18619430497524667, 0.0017204452090867595, 0.9751413222850321, 0.9529159790737685, 0.002071556476247323, 0.0017204452090867595, 0.02384045504020224, 0.9809697693198974, 0.9766511007338226, 0.8845546153576068, 0.9993679997191109, 0.0017204452090867595, 0.9734910993293775, 0.9667146518731786, 0.9712790983462659, 0.9608159825848811, 0.9751413222850321, 0.971349320599698, 0.9640813173694743, 0.9518626452722868, 0.9772479898879955, 0.9104315157473404, 0.9880973280432569, 0.9725430989080439, 0.9846213264983673, 0.0017204452090867595, 0.9742986552438467, 0.9771075453811313, 0.9991924440855307, 0.9724728766546118, 0.9726484322881921, 0.9770724342544153, 0.9668902075067589, 0.9984199992977775, 0.9941715529651346, 0.3014641339840595, 0.9091675151855623, 0.9860959938204417, 0.980653769179453, 0.897756399002844]}, {\"categories\": [\"0\", \"1\", \"2\", \"3\", \"4\", \"5\", \"6\", \"7\", \"8\", \"9\", \"10\", \"11\", \"12\", \"13\", \"14\", \"15\", \"16\", \"17\", \"18\", \"19\", \"20\", \"21\", \"22\", \"23\", \"24\", \"25\", \"26\", \"27\", \"28\", \"29\", \"30\", \"31\", \"32\", \"33\", \"34\", \"35\", \"36\", \"37\", \"38\", \"39\", \"40\", \"41\", \"43\", \"44\", \"45\", \"46\", \"47\", \"48\", \"49\", \"50\", \"51\", \"52\", \"53\", \"54\", \"57\", \"58\"], \"mode\": \"lines\", \"name\": \"recall_score_weighted_max\", \"stepped\": true, \"type\": \"scatter\", \"data\": [0.9994382219725431, 0.9994382219725431, 0.9994382219725431, 0.9994382219725431, 0.9994382219725431, 0.9994382219725431, 0.9994382219725431, 0.9994382219725431, 0.9994382219725431, 0.9994382219725431, 0.9994382219725431, 0.9994382219725431, 0.9994382219725431, 0.9994382219725431, 0.9994382219725431, 0.9994382219725431, 0.9994382219725431, 0.9994382219725431, 0.9994382219725431, 0.9994382219725431, 0.9994382219725431, 0.9994382219725431, 0.9994382219725431, 0.9994382219725431, 0.9994382219725431, 0.9994382219725431, 0.9994382219725431, 0.9994382219725431, 0.9994382219725431, 0.9994382219725431, 0.9994382219725431, 0.9994382219725431, 0.9994382219725431, 0.9994382219725431, 0.9994382219725431, 0.9994382219725431, 0.9994382219725431, 0.9994382219725431, 0.9994382219725431, 0.9994382219725431, 0.9994382219725431, 0.9994382219725431, 0.9994382219725431, 0.9994382219725431, 0.9994382219725431, 0.9994382219725431, 0.9994382219725431, 0.9994382219725431, 0.9994382219725431, 0.9994382219725431, 0.9994382219725431, 0.9994382219725431, 0.9994382219725431, 0.9994382219725431, 0.9994382219725431, 0.9994382219725431]}], \"matthews_correlation\": [{\"categories\": [\"0\", \"1\", \"2\", \"3\", \"4\", \"5\", \"6\", \"7\", \"8\", \"9\", \"10\", \"11\", \"12\", \"13\", \"14\", \"15\", \"16\", \"17\", \"18\", \"19\", \"20\", \"21\", \"22\", \"23\", \"24\", \"25\", \"26\", \"27\", \"28\", \"29\", \"30\", \"31\", \"32\", \"33\", \"34\", \"35\", \"36\", \"37\", \"38\", \"39\", \"40\", \"41\", \"43\", \"44\", \"45\", \"46\", \"47\", \"48\", \"49\", \"50\", \"51\", \"52\", \"53\", \"54\", \"57\", \"58\"], \"mode\": \"markers\", \"name\": \"matthews_correlation\", \"stepped\": false, \"type\": \"scatter\", \"data\": [0.8364533207768194, 0.12499947187755021, 0.18804772022611116, 0.1377723316023213, 0.16534731359884886, 0.2614101708628681, 0.12292549588050104, 0.2420530035582484, 0.2358917063919024, 0.2574197574315934, 0.021767942258882993, 0.0913127320194965, 0.06683331805406027, 0.1751180015928622, 0.0, 0.030527956279857174, 0.019744348547900543, 0.0, 0.2314283540520585, 0.16424181299056473, 0.0007780239642994446, 0.0, 0.00624373141514072, 0.25771282504545606, 0.23348267656849087, 0.10096038539144739, 0.8279916846669683, 0.0, 0.2194123286327809, 0.20036636650857886, 0.2108968168244701, 0.18045003799923326, 0.22644648729135458, 0.21115277634301338, 0.18858135788698377, 0.16237359041755053, 0.23126856476091434, 0.12231071186979195, 0.3143786930508239, 0.21564436613982252, 0.2850757930526898, 0.0, 0.22769070263115793, 0.2408845747668091, 0.7874459925913118, 0.2153725690440318, 0.2208471862696014, 0.23556114117354984, 0.20089642290507426, 0.6851750013372294, 0.43744659665024005, 0.025316113947191857, 0.1213740193814174, 0.29879658993820835, 0.25568881932376614, 0.10820551724201864]}, {\"categories\": [\"0\", \"1\", \"2\", \"3\", \"4\", \"5\", \"6\", \"7\", \"8\", \"9\", \"10\", \"11\", \"12\", \"13\", \"14\", \"15\", \"16\", \"17\", \"18\", \"19\", \"20\", \"21\", \"22\", \"23\", \"24\", \"25\", \"26\", \"27\", \"28\", \"29\", \"30\", \"31\", \"32\", \"33\", \"34\", \"35\", \"36\", \"37\", \"38\", \"39\", \"40\", \"41\", \"43\", \"44\", \"45\", \"46\", \"47\", \"48\", \"49\", \"50\", \"51\", \"52\", \"53\", \"54\", \"57\", \"58\"], \"mode\": \"lines\", \"name\": \"matthews_correlation_max\", \"stepped\": true, \"type\": \"scatter\", \"data\": [0.8364533207768194, 0.8364533207768194, 0.8364533207768194, 0.8364533207768194, 0.8364533207768194, 0.8364533207768194, 0.8364533207768194, 0.8364533207768194, 0.8364533207768194, 0.8364533207768194, 0.8364533207768194, 0.8364533207768194, 0.8364533207768194, 0.8364533207768194, 0.8364533207768194, 0.8364533207768194, 0.8364533207768194, 0.8364533207768194, 0.8364533207768194, 0.8364533207768194, 0.8364533207768194, 0.8364533207768194, 0.8364533207768194, 0.8364533207768194, 0.8364533207768194, 0.8364533207768194, 0.8364533207768194, 0.8364533207768194, 0.8364533207768194, 0.8364533207768194, 0.8364533207768194, 0.8364533207768194, 0.8364533207768194, 0.8364533207768194, 0.8364533207768194, 0.8364533207768194, 0.8364533207768194, 0.8364533207768194, 0.8364533207768194, 0.8364533207768194, 0.8364533207768194, 0.8364533207768194, 0.8364533207768194, 0.8364533207768194, 0.8364533207768194, 0.8364533207768194, 0.8364533207768194, 0.8364533207768194, 0.8364533207768194, 0.8364533207768194, 0.8364533207768194, 0.8364533207768194, 0.8364533207768194, 0.8364533207768194, 0.8364533207768194, 0.8364533207768194]}], \"AUC_macro\": [{\"categories\": [\"0\", \"1\", \"2\", \"3\", \"4\", \"5\", \"6\", \"7\", \"8\", \"9\", \"10\", \"11\", \"12\", \"13\", \"14\", \"15\", \"16\", \"17\", \"18\", \"19\", \"20\", \"21\", \"22\", \"23\", \"24\", \"25\", \"26\", \"27\", \"28\", \"29\", \"30\", \"31\", \"32\", \"33\", \"34\", \"35\", \"36\", \"37\", \"38\", \"39\", \"40\", \"41\", \"43\", \"44\", \"45\", \"46\", \"47\", \"48\", \"49\", \"50\", \"51\", \"52\", \"53\", \"54\", \"57\", \"58\"], \"mode\": \"markers\", \"name\": \"AUC_macro\", \"stepped\": false, \"type\": \"scatter\", \"data\": [0.9251518840513133, 0.9625780953912235, 0.9586995251111137, 0.9692625010049039, 0.9655849115110309, 0.9667714159383506, 0.9552566524640245, 0.9463772495492289, 0.9539197713412885, 0.9536488061741297, 0.9535206809229038, 0.9174611389294041, 0.9639677339703467, 0.9569377131831911, 0.9680849689341128, 0.9694527149633065, 0.9628745420509228, 0.9668970289297485, 0.9694548683288735, 0.956837940578595, 0.9390335551778393, 0.9590605727378176, 0.9707845715663868, 0.9682579559679809, 0.9708419946481688, 0.9241735382954532, 0.9664125216772135, 0.9612415731627484, 0.9682766184695599, 0.9652346307121611, 0.9710117516336867, 0.9677242802016699, 0.9609357952522595, 0.968193355000976, 0.9677741665039679, 0.9664699447589953, 0.9521066375340231, 0.9704622845198856, 0.9658171160979867, 0.9684618079083069, 0.9815829820954831, 0.9671837854443972, 0.9563179027942071, 0.96787896362822, 0.9740210800133222, 0.9727462875977628, 0.9630288665832119, 0.9563085715434176, 0.9622920566650971, 0.9787039323326404, 0.9780134197742125, 0.9633773529107759, 0.964666859991042, 0.9773063980797722, 0.9820172441514591, 0.976487401375857]}, {\"categories\": [\"0\", \"1\", \"2\", \"3\", \"4\", \"5\", \"6\", \"7\", \"8\", \"9\", \"10\", \"11\", \"12\", \"13\", \"14\", \"15\", \"16\", \"17\", \"18\", \"19\", \"20\", \"21\", \"22\", \"23\", \"24\", \"25\", \"26\", \"27\", \"28\", \"29\", \"30\", \"31\", \"32\", \"33\", \"34\", \"35\", \"36\", \"37\", \"38\", \"39\", \"40\", \"41\", \"43\", \"44\", \"45\", \"46\", \"47\", \"48\", \"49\", \"50\", \"51\", \"52\", \"53\", \"54\", \"57\", \"58\"], \"mode\": \"lines\", \"name\": \"AUC_macro_max\", \"stepped\": true, \"type\": \"scatter\", \"data\": [0.9251518840513133, 0.9625780953912235, 0.9625780953912235, 0.9692625010049039, 0.9692625010049039, 0.9692625010049039, 0.9692625010049039, 0.9692625010049039, 0.9692625010049039, 0.9692625010049039, 0.9692625010049039, 0.9692625010049039, 0.9692625010049039, 0.9692625010049039, 0.9692625010049039, 0.9694527149633065, 0.9694527149633065, 0.9694527149633065, 0.9694548683288735, 0.9694548683288735, 0.9694548683288735, 0.9694548683288735, 0.9707845715663868, 0.9707845715663868, 0.9708419946481688, 0.9708419946481688, 0.9708419946481688, 0.9708419946481688, 0.9708419946481688, 0.9708419946481688, 0.9710117516336867, 0.9710117516336867, 0.9710117516336867, 0.9710117516336867, 0.9710117516336867, 0.9710117516336867, 0.9710117516336867, 0.9710117516336867, 0.9710117516336867, 0.9710117516336867, 0.9815829820954831, 0.9815829820954831, 0.9815829820954831, 0.9815829820954831, 0.9815829820954831, 0.9815829820954831, 0.9815829820954831, 0.9815829820954831, 0.9815829820954831, 0.9815829820954831, 0.9815829820954831, 0.9815829820954831, 0.9815829820954831, 0.9815829820954831, 0.9820172441514591, 0.9820172441514591]}], \"recall_score_micro\": [{\"categories\": [\"0\", \"1\", \"2\", \"3\", \"4\", \"5\", \"6\", \"7\", \"8\", \"9\", \"10\", \"11\", \"12\", \"13\", \"14\", \"15\", \"16\", \"17\", \"18\", \"19\", \"20\", \"21\", \"22\", \"23\", \"24\", \"25\", \"26\", \"27\", \"28\", \"29\", \"30\", \"31\", \"32\", \"33\", \"34\", \"35\", \"36\", \"37\", \"38\", \"39\", \"40\", \"41\", \"43\", \"44\", \"45\", \"46\", \"47\", \"48\", \"49\", \"50\", \"51\", \"52\", \"53\", \"54\", \"57\", \"58\"], \"mode\": \"markers\", \"name\": \"recall_score_micro\", \"stepped\": false, \"type\": \"scatter\", \"data\": [0.9994382219725431, 0.9175941855974158, 0.9654857624381167, 0.9281275236122327, 0.951406200624978, 0.9806888803061691, 0.9150310733471437, 0.9792844352375267, 0.9791439907306625, 0.98005688002528, 0.21737298549910467, 0.8567817141252063, 0.7660545626909168, 0.9602893156841403, 0.0017204452090867595, 0.3526912678627857, 0.18619430497524667, 0.0017204452090867595, 0.9751413222850321, 0.9529159790737685, 0.002071556476247323, 0.0017204452090867595, 0.02384045504020224, 0.9809697693198974, 0.9766511007338226, 0.8845546153576068, 0.9993679997191109, 0.0017204452090867595, 0.9734910993293775, 0.9667146518731786, 0.9712790983462659, 0.9608159825848811, 0.9751413222850321, 0.971349320599698, 0.9640813173694743, 0.9518626452722868, 0.9772479898879955, 0.9104315157473404, 0.9880973280432569, 0.9725430989080439, 0.9846213264983673, 0.0017204452090867595, 0.9742986552438467, 0.9771075453811313, 0.9991924440855307, 0.9724728766546118, 0.9726484322881921, 0.9770724342544153, 0.9668902075067589, 0.9984199992977775, 0.9941715529651346, 0.3014641339840595, 0.9091675151855623, 0.9860959938204417, 0.980653769179453, 0.897756399002844]}, {\"categories\": [\"0\", \"1\", \"2\", \"3\", \"4\", \"5\", \"6\", \"7\", \"8\", \"9\", \"10\", \"11\", \"12\", \"13\", \"14\", \"15\", \"16\", \"17\", \"18\", \"19\", \"20\", \"21\", \"22\", \"23\", \"24\", \"25\", \"26\", \"27\", \"28\", \"29\", \"30\", \"31\", \"32\", \"33\", \"34\", \"35\", \"36\", \"37\", \"38\", \"39\", \"40\", \"41\", \"43\", \"44\", \"45\", \"46\", \"47\", \"48\", \"49\", \"50\", \"51\", \"52\", \"53\", \"54\", \"57\", \"58\"], \"mode\": \"lines\", \"name\": \"recall_score_micro_max\", \"stepped\": true, \"type\": \"scatter\", \"data\": [0.9994382219725431, 0.9994382219725431, 0.9994382219725431, 0.9994382219725431, 0.9994382219725431, 0.9994382219725431, 0.9994382219725431, 0.9994382219725431, 0.9994382219725431, 0.9994382219725431, 0.9994382219725431, 0.9994382219725431, 0.9994382219725431, 0.9994382219725431, 0.9994382219725431, 0.9994382219725431, 0.9994382219725431, 0.9994382219725431, 0.9994382219725431, 0.9994382219725431, 0.9994382219725431, 0.9994382219725431, 0.9994382219725431, 0.9994382219725431, 0.9994382219725431, 0.9994382219725431, 0.9994382219725431, 0.9994382219725431, 0.9994382219725431, 0.9994382219725431, 0.9994382219725431, 0.9994382219725431, 0.9994382219725431, 0.9994382219725431, 0.9994382219725431, 0.9994382219725431, 0.9994382219725431, 0.9994382219725431, 0.9994382219725431, 0.9994382219725431, 0.9994382219725431, 0.9994382219725431, 0.9994382219725431, 0.9994382219725431, 0.9994382219725431, 0.9994382219725431, 0.9994382219725431, 0.9994382219725431, 0.9994382219725431, 0.9994382219725431, 0.9994382219725431, 0.9994382219725431, 0.9994382219725431, 0.9994382219725431, 0.9994382219725431, 0.9994382219725431]}], \"average_precision_score_micro\": [{\"categories\": [\"0\", \"1\", \"2\", \"3\", \"4\", \"5\", \"6\", \"7\", \"8\", \"9\", \"10\", \"11\", \"12\", \"13\", \"14\", \"15\", \"16\", \"17\", \"18\", \"19\", \"20\", \"21\", \"22\", \"23\", \"24\", \"25\", \"26\", \"27\", \"28\", \"29\", \"30\", \"31\", \"32\", \"33\", \"34\", \"35\", \"36\", \"37\", \"38\", \"39\", \"40\", \"41\", \"43\", \"44\", \"45\", \"46\", \"47\", \"48\", \"49\", \"50\", \"51\", \"52\", \"53\", \"54\", \"57\", \"58\"], \"mode\": \"markers\", \"name\": \"average_precision_score_micro\", \"stepped\": false, \"type\": \"scatter\", \"data\": [0.9993073134574981, 0.9884834740026934, 0.9923584627226156, 0.9747251588887019, 0.9911895179317999, 0.9974399796585939, 0.9837718269340197, 0.997458913394613, 0.9973094827647394, 0.9970879732796911, 0.3286679861831358, 0.8616956954208146, 0.8090391991088299, 0.9948557683116867, 0.30821098561590865, 0.352955029438705, 0.3149940906555166, 0.3083230686777496, 0.9967045671725681, 0.9918117088322497, 0.3083451770689311, 0.308313002052807, 0.308294209546849, 0.9972871199284875, 0.9964527859477582, 0.9539474500247237, 0.9998462351229211, 0.308264520461882, 0.9945146447517536, 0.9931933082498003, 0.9955856026133824, 0.9920146499817287, 0.9954246177759137, 0.9941627076047086, 0.9925699683119775, 0.9902819333188732, 0.9966673971434822, 0.9828653702753103, 0.9983047149408455, 0.9949863914982419, 0.9979389547489963, 0.3082606573728829, 0.9896522991807796, 0.9973640452758081, 0.9998970261552853, 0.9957191141101365, 0.9954567481153331, 0.9948677193838358, 0.9941105765615549, 0.9997378639696992, 0.9992795175251483, 0.3365444162951157, 0.9793247678394951, 0.9975904937586975, 0.9863116779174768, 0.9133082599754316]}, {\"categories\": [\"0\", \"1\", \"2\", \"3\", \"4\", \"5\", \"6\", \"7\", \"8\", \"9\", \"10\", \"11\", \"12\", \"13\", \"14\", \"15\", \"16\", \"17\", \"18\", \"19\", \"20\", \"21\", \"22\", \"23\", \"24\", \"25\", \"26\", \"27\", \"28\", \"29\", \"30\", \"31\", \"32\", \"33\", \"34\", \"35\", \"36\", \"37\", \"38\", \"39\", \"40\", \"41\", \"43\", \"44\", \"45\", \"46\", \"47\", \"48\", \"49\", \"50\", \"51\", \"52\", \"53\", \"54\", \"57\", \"58\"], \"mode\": \"lines\", \"name\": \"average_precision_score_micro_max\", \"stepped\": true, \"type\": \"scatter\", \"data\": [0.9993073134574981, 0.9993073134574981, 0.9993073134574981, 0.9993073134574981, 0.9993073134574981, 0.9993073134574981, 0.9993073134574981, 0.9993073134574981, 0.9993073134574981, 0.9993073134574981, 0.9993073134574981, 0.9993073134574981, 0.9993073134574981, 0.9993073134574981, 0.9993073134574981, 0.9993073134574981, 0.9993073134574981, 0.9993073134574981, 0.9993073134574981, 0.9993073134574981, 0.9993073134574981, 0.9993073134574981, 0.9993073134574981, 0.9993073134574981, 0.9993073134574981, 0.9993073134574981, 0.9998462351229211, 0.9998462351229211, 0.9998462351229211, 0.9998462351229211, 0.9998462351229211, 0.9998462351229211, 0.9998462351229211, 0.9998462351229211, 0.9998462351229211, 0.9998462351229211, 0.9998462351229211, 0.9998462351229211, 0.9998462351229211, 0.9998462351229211, 0.9998462351229211, 0.9998462351229211, 0.9998462351229211, 0.9998462351229211, 0.9998970261552853, 0.9998970261552853, 0.9998970261552853, 0.9998970261552853, 0.9998970261552853, 0.9998970261552853, 0.9998970261552853, 0.9998970261552853, 0.9998970261552853, 0.9998970261552853, 0.9998970261552853, 0.9998970261552853]}]}, \"metricName\": null, \"primaryMetricName\": \"AUC_weighted\", \"showLegend\": false}, \"run_metrics\": [{\"name\": \"experiment_status\", \"run_id\": \"AutoML_f0513c5f-59c5-4e33-b4b1-b87086271b45\", \"categories\": [0, 1, 2, 3, 4, 5, 6, 7, 8, 9, 10, 11, 12, 13], \"series\": [{\"data\": [\"DatasetEvaluation\", \"FeaturesGeneration\", \"DatasetFeaturization\", \"DatasetFeaturizationCompleted\", \"DatasetBalancing\", \"ModelSelection\", \"BestRunExplainModel\", \"ModelExplanationDataSetSetup\", \"PickSurrogateModel\", \"EngineeredFeatureExplanations\", \"EngineeredFeatureExplanations\", \"RawFeaturesExplanations\", \"RawFeaturesExplanations\", \"BestRunExplainModel\"]}]}, {\"name\": \"experiment_status_description\", \"run_id\": \"AutoML_f0513c5f-59c5-4e33-b4b1-b87086271b45\", \"categories\": [0, 1, 2, 3, 4, 5, 6, 7, 8, 9, 10, 11, 12, 13], \"series\": [{\"data\": [\"Gathering dataset statistics.\", \"Generating features for the dataset.\", \"Beginning to fit featurizers and featurize the dataset.\", \"Completed fit featurizers and featurizing the dataset.\", \"Performing class balancing sweeping\", \"Beginning model selection.\", \"Best run model explanations started\", \"Model explanations data setup completed\", \"Choosing LightGBM as the surrogate model for explanations\", \"Computation of engineered features started\", \"Computation of engineered features completed\", \"Computation of raw features started\", \"Computation of raw features completed\", \"Best run model explanations completed\"]}]}], \"run_logs\": \"\\nRun is completed.\", \"graph\": {}, \"widget_settings\": {\"childWidgetDisplay\": \"popup\", \"send_telemetry\": false, \"log_level\": \"INFO\", \"sdk_version\": \"1.26.0\"}, \"loading\": false}"
          },
          "metadata": {}
        }
      ],
      "execution_count": 7,
      "metadata": {
        "gather": {
          "logged": 1618091517145
        },
        "jupyter": {
          "outputs_hidden": false,
          "source_hidden": false
        },
        "nteract": {
          "transient": {
            "deleting": false
          }
        }
      }
    },
    {
      "cell_type": "markdown",
      "source": [
        "## Best Model\n",
        "\n",
        "TODO: In the cell below, get the best model from the automl experiments and display all the properties of the model.\n",
        "\n"
      ],
      "metadata": {}
    },
    {
      "cell_type": "code",
      "source": [
        "automl_best_run, automl_fitted_model = remote_run.get_output()\r\n",
        "print(automl_fitted_model)"
      ],
      "outputs": [
        {
          "output_type": "stream",
          "name": "stdout",
          "text": [
            "Pipeline(memory=None,\n",
            "         steps=[('datatransformer',\n",
            "                 DataTransformer(enable_dnn=None, enable_feature_sweeping=None,\n",
            "                                 feature_sweeping_config=None,\n",
            "                                 feature_sweeping_timeout=None,\n",
            "                                 featurization_config=None, force_text_dnn=None,\n",
            "                                 is_cross_validation=None,\n",
            "                                 is_onnx_compatible=None, logger=None,\n",
            "                                 observer=None, task=None, working_dir=None)),\n",
            "                ('prefittedsoftvotingclassifier',...\n",
            "                                                                                                  min_samples_split=0.15052631578947367,\n",
            "                                                                                                  min_weight_fraction_leaf=0.0,\n",
            "                                                                                                  n_estimators=50,\n",
            "                                                                                                  n_jobs=1,\n",
            "                                                                                                  oob_score=False,\n",
            "                                                                                                  random_state=None,\n",
            "                                                                                                  verbose=0,\n",
            "                                                                                                  warm_start=False))],\n",
            "                                                                     verbose=False))],\n",
            "                                               flatten_transform=None,\n",
            "                                               weights=[0.2,\n",
            "                                                        0.06666666666666667,\n",
            "                                                        0.06666666666666667,\n",
            "                                                        0.06666666666666667,\n",
            "                                                        0.06666666666666667,\n",
            "                                                        0.06666666666666667,\n",
            "                                                        0.13333333333333333,\n",
            "                                                        0.13333333333333333,\n",
            "                                                        0.2]))],\n",
            "         verbose=False)\n"
          ]
        }
      ],
      "execution_count": 9,
      "metadata": {
        "gather": {
          "logged": 1618094617337
        },
        "jupyter": {
          "outputs_hidden": false,
          "source_hidden": false
        },
        "nteract": {
          "transient": {
            "deleting": false
          }
        }
      }
    },
    {
      "cell_type": "code",
      "source": [
        "automl_best_run.properties"
      ],
      "outputs": [
        {
          "output_type": "execute_result",
          "execution_count": 10,
          "data": {
            "text/plain": "{'runTemplate': 'automl_child',\n 'pipeline_id': '__AutoML_Ensemble__',\n 'pipeline_spec': '{\"pipeline_id\":\"__AutoML_Ensemble__\",\"objects\":[{\"module\":\"azureml.train.automl.ensemble\",\"class_name\":\"Ensemble\",\"spec_class\":\"sklearn\",\"param_args\":[],\"param_kwargs\":{\"automl_settings\":\"{\\'task_type\\':\\'classification\\',\\'primary_metric\\':\\'AUC_weighted\\',\\'verbosity\\':20,\\'ensemble_iterations\\':15,\\'is_timeseries\\':False,\\'name\\':\\'capstone-fraud-credit-exp\\',\\'compute_target\\':\\'auto-ml\\',\\'subscription_id\\':\\'6b4af8be-9931-443e-90f6-c4c34a1f9737\\',\\'region\\':\\'southcentralus\\',\\'spark_service\\':None}\",\"ensemble_run_id\":\"AutoML_f0513c5f-59c5-4e33-b4b1-b87086271b45_57\",\"experiment_name\":\"capstone-fraud-credit-exp\",\"workspace_name\":\"quick-starts-ws-142346\",\"subscription_id\":\"6b4af8be-9931-443e-90f6-c4c34a1f9737\",\"resource_group_name\":\"aml-quickstarts-142346\"}}]}',\n 'training_percent': '100',\n 'predicted_cost': None,\n 'iteration': '57',\n '_aml_system_scenario_identification': 'Remote.Child',\n '_azureml.ComputeTargetType': 'amlcompute',\n 'ContentSnapshotId': '101d428c-19a1-4cce-a698-3d1d41a63206',\n 'ProcessInfoFile': 'azureml-logs/process_info.json',\n 'ProcessStatusFile': 'azureml-logs/process_status.json',\n 'run_template': 'automl_child',\n 'run_preprocessor': '',\n 'run_algorithm': 'VotingEnsemble',\n 'model_output_path': 'outputs/model.pkl',\n 'conda_env_data_location': 'aml://artifact/ExperimentRun/dcid.AutoML_f0513c5f-59c5-4e33-b4b1-b87086271b45_57/outputs/conda_env_v_1_0_0.yml',\n 'model_data_location': 'aml://artifact/ExperimentRun/dcid.AutoML_f0513c5f-59c5-4e33-b4b1-b87086271b45_57/outputs/model.pkl',\n 'model_size_on_disk': '3350399',\n 'scoring_data_location': 'aml://artifact/ExperimentRun/dcid.AutoML_f0513c5f-59c5-4e33-b4b1-b87086271b45_57/outputs/scoring_file_v_1_0_0.py',\n 'model_exp_support': 'True',\n 'pipeline_graph_version': '1.0.0',\n 'model_name': 'AutoMLf0513c5f557',\n 'staticProperties': '{}',\n 'score': '0.9820172441514591',\n 'score_table': 'NaN',\n 'run_properties': \"classification_labels=None,\\n                              estimators=[('40',\\n                                           Pipeline(memory=None,\\n                                                    steps=[('standardscalerwrapper',\\n                                                            <azureml.automl.runtime.shared.model_wrappers.StandardScalerWrapper object at 0x7fa5d022fc18>\",\n 'pipeline_script': '{\"pipeline_id\":\"__AutoML_Ensemble__\",\"objects\":[{\"module\":\"azureml.train.automl.ensemble\",\"class_name\":\"Ensemble\",\"spec_class\":\"sklearn\",\"param_args\":[],\"param_kwargs\":{\"automl_settings\":\"{\\'task_type\\':\\'classification\\',\\'primary_metric\\':\\'AUC_weighted\\',\\'verbosity\\':20,\\'ensemble_iterations\\':15,\\'is_timeseries\\':False,\\'name\\':\\'capstone-fraud-credit-exp\\',\\'compute_target\\':\\'auto-ml\\',\\'subscription_id\\':\\'6b4af8be-9931-443e-90f6-c4c34a1f9737\\',\\'region\\':\\'southcentralus\\',\\'spark_service\\':None}\",\"ensemble_run_id\":\"AutoML_f0513c5f-59c5-4e33-b4b1-b87086271b45_57\",\"experiment_name\":\"capstone-fraud-credit-exp\",\"workspace_name\":\"quick-starts-ws-142346\",\"subscription_id\":\"6b4af8be-9931-443e-90f6-c4c34a1f9737\",\"resource_group_name\":\"aml-quickstarts-142346\"}}]}',\n 'training_type': 'train_valid',\n 'num_classes': '',\n 'framework': 'sklearn',\n 'fit_time': '36',\n 'goal': 'AUC_weighted_max',\n 'class_labels': '',\n 'primary_metric': 'AUC_weighted',\n 'errors': '{}',\n 'onnx_model_resource': '{}',\n 'error_code': '',\n 'failure_reason': '',\n 'dependencies_versions': '{\"azureml-train-automl-runtime\": \"1.25.0\", \"azureml-train-automl-client\": \"1.25.0\", \"azureml-telemetry\": \"1.25.0\", \"azureml-pipeline-core\": \"1.25.0\", \"azureml-model-management-sdk\": \"1.0.1b6.post1\", \"azureml-mlflow\": \"1.25.0\", \"azureml-interpret\": \"1.25.0\", \"azureml-defaults\": \"1.25.0\", \"azureml-dataset-runtime\": \"1.25.0\", \"azureml-dataprep\": \"2.11.2\", \"azureml-dataprep-rslex\": \"1.9.1\", \"azureml-dataprep-native\": \"30.0.0\", \"azureml-core\": \"1.25.0\", \"azureml-automl-runtime\": \"1.25.0\", \"azureml-automl-core\": \"1.25.0\"}',\n 'num_cores': '4',\n 'num_logical_cores': '4',\n 'peak_memory_usage': '892184',\n 'vm_configuration': 'Intel(R) Xeon(R) CPU E5-2673 v4 @ 2.30GHz',\n 'core_hours': '0.0145795375',\n 'feature_skus': 'automatedml_sdk_guardrails'}"
          },
          "metadata": {}
        }
      ],
      "execution_count": 10,
      "metadata": {
        "collapsed": true,
        "jupyter": {
          "source_hidden": false,
          "outputs_hidden": false
        },
        "nteract": {
          "transient": {
            "deleting": false
          }
        },
        "gather": {
          "logged": 1618094632428
        }
      }
    },
    {
      "cell_type": "code",
      "source": [
        "#TODO: Save the best model\r\n",
        "import joblib\r\n",
        "\r\n",
        "joblib.dump(automl_fitted_model,\"best_automl_model.joblib\")"
      ],
      "outputs": [
        {
          "output_type": "execute_result",
          "execution_count": 11,
          "data": {
            "text/plain": "['best_automl_model.joblib']"
          },
          "metadata": {}
        }
      ],
      "execution_count": 11,
      "metadata": {
        "gather": {
          "logged": 1618094642844
        },
        "jupyter": {
          "outputs_hidden": false,
          "source_hidden": false
        },
        "nteract": {
          "transient": {
            "deleting": false
          }
        }
      }
    },
    {
      "cell_type": "markdown",
      "source": [
        "## Model Deployment\n",
        "\n",
        "Remember you have to deploy only one of the two models you trained.. Perform the steps in the rest of this notebook only if you wish to deploy this model.\n",
        "\n",
        "TODO: In the cell below, register the model, create an inference config and deploy the model as a web service.\n",
        "\n",
        "All the information about the deployment of the model are coming from https://docs.microsoft.com/en-us/azure/machine-learning/how-to-deploy-and-where?tabs=python\n"
      ],
      "metadata": {}
    },
    {
      "cell_type": "code",
      "source": [
        "automl_best_run.properties['model_name']"
      ],
      "outputs": [
        {
          "output_type": "execute_result",
          "execution_count": 12,
          "data": {
            "text/plain": "'AutoMLf0513c5f557'"
          },
          "metadata": {}
        }
      ],
      "execution_count": 12,
      "metadata": {
        "collapsed": true,
        "jupyter": {
          "source_hidden": false,
          "outputs_hidden": false
        },
        "nteract": {
          "transient": {
            "deleting": false
          }
        },
        "gather": {
          "logged": 1618094876114
        }
      }
    },
    {
      "cell_type": "code",
      "source": [
        "model = remote_run.register_model(model_name=automl_best_run.properties['model_name'])\r\n",
        "print(model.name, model.id, model.version, sep='\\t')\r\n"
      ],
      "outputs": [
        {
          "output_type": "stream",
          "name": "stdout",
          "text": [
            "AutoMLf0513c5f557\tAutoMLf0513c5f557:1\t1\n"
          ]
        }
      ],
      "execution_count": 13,
      "metadata": {
        "gather": {
          "logged": 1618094905321
        },
        "jupyter": {
          "outputs_hidden": false,
          "source_hidden": false
        },
        "nteract": {
          "transient": {
            "deleting": false
          }
        }
      }
    },
    {
      "cell_type": "code",
      "source": [
        "from azureml.core.environment import Environment\r\n",
        "from azureml.core.model import InferenceConfig\r\n",
        "\r\n",
        "\r\n",
        "env = automl_best_run.get_environment()\r\n",
        "\r\n",
        "for pip_package in [\"scikit-learn\"]:\r\n",
        "    env.python.conda_dependencies.add_pip_package(pip_package)\r\n",
        "\r\n",
        "inference_config = InferenceConfig(entry_script='score.py',\r\n",
        "                                    environment=env)"
      ],
      "outputs": [],
      "execution_count": 14,
      "metadata": {
        "collapsed": true,
        "jupyter": {
          "source_hidden": false,
          "outputs_hidden": false
        },
        "nteract": {
          "transient": {
            "deleting": false
          }
        },
        "gather": {
          "logged": 1618095070478
        }
      }
    },
    {
      "cell_type": "code",
      "source": [
        "from azureml.core.webservice import AciWebservice\r\n",
        "from azureml.core.model import Model\r\n",
        "\r\n",
        "\r\n",
        "deployment_config = AciWebservice.deploy_configuration(cpu_cores=1, memory_gb=1)\r\n",
        "service = Model.deploy(ws, 'capstone-fraud-service', [model], inference_config, deployment_config, overwrite=True)\r\n",
        "service.wait_for_deployment(show_output=True)\r\n",
        "print(service.state)"
      ],
      "outputs": [
        {
          "output_type": "stream",
          "name": "stdout",
          "text": [
            "Tips: You can try get_logs(): https://aka.ms/debugimage#dockerlog or local deployment: https://aka.ms/debugimage#debug-locally to debug if deployment takes longer than 10 minutes.\n",
            "Running\n",
            "2021-04-10 23:05:27+00:00 Creating Container Registry if not exists..\n",
            "2021-04-10 23:05:43+00:00 Registering the environment..\n",
            "2021-04-10 23:05:44+00:00 Building image..\n",
            "2021-04-10 23:18:46+00:00 Generating deployment configuration.\n",
            "2021-04-10 23:18:47+00:00 Submitting deployment to compute.\n",
            "2021-04-10 23:18:50+00:00 Checking the status of deployment capstone-fraud-service..\n",
            "2021-04-10 23:23:16+00:00 Checking the status of inference endpoint capstone-fraud-service.\n",
            "Succeeded\n",
            "ACI service creation operation finished, operation \"Succeeded\"\n",
            "Healthy\n"
          ]
        }
      ],
      "execution_count": 17,
      "metadata": {
        "collapsed": true,
        "jupyter": {
          "source_hidden": false,
          "outputs_hidden": false
        },
        "nteract": {
          "transient": {
            "deleting": false
          }
        },
        "gather": {
          "logged": 1618097005639
        }
      }
    },
    {
      "cell_type": "markdown",
      "source": [
        "TODO: In the cell below, send a request to the web service you deployed to test it."
      ],
      "metadata": {
        "collapsed": true,
        "gather": {
          "logged": 1598431657736
        },
        "jupyter": {
          "outputs_hidden": false,
          "source_hidden": false
        },
        "nteract": {
          "transient": {
            "deleting": false
          }
        }
      }
    },
    {
      "cell_type": "code",
      "source": [
        "import json\r\n",
        "\r\n",
        "data = {\"data\":\r\n",
        "        [\r\n",
        "          {\r\n",
        "            \"Time\": 0.0, \"V1\": 0.0, \"V2\": 0.0, \"V3\": 0.0, \"V4\": 0.0, \"V5\": 0.0, \"V6\": 0.0, \"V7\": 0.0, \"V8\": 0.0, \"V9\": 0.0, \"V10\": 0.0, \"V11\": 0.0, \"V12\": 0.0, \"V13\": 0.0, \"V14\": 0.0, \"V15\": 0.0, \"V16\": 0.0, \"V17\": 0.0, \"V18\": 0.0, \"V19\": 0.0, \"V20\": 0.0, \"V21\": 0.0, \"V22\": 0.0, \"V23\": 0.0, \"V24\": 0.0, \"V25\": 0.0, \"V26\": 0.0, \"V27\": 0.0, \"V28\": 0.0, \"Amount\": 0.0\r\n",
        "          }\r\n",
        "        ]\r\n",
        "    }\r\n",
        "# Convert to JSON string\r\n",
        "input_data = json.dumps(data)"
      ],
      "outputs": [],
      "execution_count": 31,
      "metadata": {
        "gather": {
          "logged": 1618098277447
        },
        "jupyter": {
          "outputs_hidden": false,
          "source_hidden": false
        },
        "nteract": {
          "transient": {
            "deleting": false
          }
        }
      }
    },
    {
      "cell_type": "code",
      "source": [
        "input_data"
      ],
      "outputs": [
        {
          "output_type": "execute_result",
          "execution_count": 32,
          "data": {
            "text/plain": "'{\"data\": [{\"Time\": 0.0, \"V1\": 0.0, \"V2\": 0.0, \"V3\": 0.0, \"V4\": 0.0, \"V5\": 0.0, \"V6\": 0.0, \"V7\": 0.0, \"V8\": 0.0, \"V9\": 0.0, \"V10\": 0.0, \"V11\": 0.0, \"V12\": 0.0, \"V13\": 0.0, \"V14\": 0.0, \"V15\": 0.0, \"V16\": 0.0, \"V17\": 0.0, \"V18\": 0.0, \"V19\": 0.0, \"V20\": 0.0, \"V21\": 0.0, \"V22\": 0.0, \"V23\": 0.0, \"V24\": 0.0, \"V25\": 0.0, \"V26\": 0.0, \"V27\": 0.0, \"V28\": 0.0, \"Amount\": 0.0}]}'"
          },
          "metadata": {}
        }
      ],
      "execution_count": 32,
      "metadata": {
        "collapsed": true,
        "jupyter": {
          "source_hidden": false,
          "outputs_hidden": false
        },
        "nteract": {
          "transient": {
            "deleting": false
          }
        },
        "gather": {
          "logged": 1618098280419
        }
      }
    },
    {
      "cell_type": "code",
      "source": [
        "service.run(input_data)\r\n"
      ],
      "outputs": [
        {
          "output_type": "execute_result",
          "execution_count": 33,
          "data": {
            "text/plain": "'{\"error\": \"\\'MinMaxScaler\\' object has no attribute \\'clip\\'\"}'"
          },
          "metadata": {}
        }
      ],
      "execution_count": 33,
      "metadata": {
        "collapsed": true,
        "jupyter": {
          "source_hidden": false,
          "outputs_hidden": false
        },
        "nteract": {
          "transient": {
            "deleting": false
          }
        },
        "gather": {
          "logged": 1618098282865
        }
      }
    },
    {
      "cell_type": "code",
      "source": [
        "service.scoring_uri"
      ],
      "outputs": [
        {
          "output_type": "execute_result",
          "execution_count": 28,
          "data": {
            "text/plain": "'http://d0357a2d-a43d-4883-bf1b-776196908eb7.southcentralus.azurecontainer.io/score'"
          },
          "metadata": {}
        }
      ],
      "execution_count": 28,
      "metadata": {
        "collapsed": true,
        "jupyter": {
          "source_hidden": false,
          "outputs_hidden": false
        },
        "nteract": {
          "transient": {
            "deleting": false
          }
        },
        "gather": {
          "logged": 1618097961738
        }
      }
    },
    {
      "cell_type": "markdown",
      "source": [
        "TODO: In the cell below, print the logs of the web service and delete the service"
      ],
      "metadata": {
        "collapsed": true,
        "gather": {
          "logged": 1598432765711
        },
        "jupyter": {
          "outputs_hidden": false,
          "source_hidden": false
        },
        "nteract": {
          "transient": {
            "deleting": false
          }
        }
      }
    },
    {
      "cell_type": "code",
      "source": [
        "service.get_logs()\r\n"
      ],
      "outputs": [
        {
          "output_type": "execute_result",
          "execution_count": 34,
          "data": {
            "text/plain": "'2021-04-10T23:23:14,160727800+00:00 - iot-server/run \\n2021-04-10T23:23:14,164857400+00:00 - gunicorn/run \\n2021-04-10T23:23:14,162616000+00:00 - rsyslog/run \\n2021-04-10T23:23:14,202436500+00:00 - nginx/run \\n/usr/sbin/nginx: /azureml-envs/azureml_29318f7eab6a00068bd5370f799e3963/lib/libcrypto.so.1.0.0: no version information available (required by /usr/sbin/nginx)\\n/usr/sbin/nginx: /azureml-envs/azureml_29318f7eab6a00068bd5370f799e3963/lib/libcrypto.so.1.0.0: no version information available (required by /usr/sbin/nginx)\\n/usr/sbin/nginx: /azureml-envs/azureml_29318f7eab6a00068bd5370f799e3963/lib/libssl.so.1.0.0: no version information available (required by /usr/sbin/nginx)\\n/usr/sbin/nginx: /azureml-envs/azureml_29318f7eab6a00068bd5370f799e3963/lib/libssl.so.1.0.0: no version information available (required by /usr/sbin/nginx)\\n/usr/sbin/nginx: /azureml-envs/azureml_29318f7eab6a00068bd5370f799e3963/lib/libssl.so.1.0.0: no version information available (required by /usr/sbin/nginx)\\nrsyslogd: /azureml-envs/azureml_29318f7eab6a00068bd5370f799e3963/lib/libuuid.so.1: no version information available (required by rsyslogd)\\nEdgeHubConnectionString and IOTEDGE_IOTHUBHOSTNAME are not set. Exiting...\\n2021-04-10T23:23:14,468002600+00:00 - iot-server/finish 1 0\\n2021-04-10T23:23:14,491077700+00:00 - Exit code 1 is normal. Not restarting iot-server.\\nStarting gunicorn 19.9.0\\nListening at: http://127.0.0.1:31311 (67)\\nUsing worker: sync\\nworker timeout is set to 300\\nBooting worker with pid: 96\\nSPARK_HOME not set. Skipping PySpark Initialization.\\nGenerating new fontManager, this may take some time...\\nInitializing logger\\n2021-04-10 23:23:16,663 | root | INFO | Starting up app insights client\\n2021-04-10 23:23:16,663 | root | INFO | Starting up request id generator\\n2021-04-10 23:23:16,663 | root | INFO | Starting up app insight hooks\\n2021-04-10 23:23:16,664 | root | INFO | Invoking user\\'s init function\\n2021-04-10 23:23:20,903 | azureml.core | WARNING | Failure while loading azureml_run_type_providers. Failed to load entrypoint automl = azureml.train.automl.run:AutoMLRun._from_run_dto with exception cannot import name \\'RunType\\'.\\nFailure while loading azureml_run_type_providers. Failed to load entrypoint automl = azureml.train.automl.run:AutoMLRun._from_run_dto with exception cannot import name \\'RunType\\'.\\n2021-04-10 23:23:21,758 | root | INFO | Users\\'s init has completed successfully\\n2021-04-10 23:23:21,767 | root | INFO | Skipping middleware: dbg_model_info as it\\'s not enabled.\\n2021-04-10 23:23:21,788 | root | INFO | Skipping middleware: dbg_resource_usage as it\\'s not enabled.\\n2021-04-10 23:23:21,791 | root | INFO | Scoring timeout is found from os.environ: 60000 ms\\n2021-04-10 23:23:23,443 | root | INFO | 200\\n127.0.0.1 - - [10/Apr/2021:23:23:23 +0000] \"GET /swagger.json HTTP/1.0\" 200 3740 \"-\" \"Go-http-client/1.1\"\\n2021-04-10 23:23:24,987 | root | INFO | 200\\n127.0.0.1 - - [10/Apr/2021:23:23:24 +0000] \"GET /swagger.json HTTP/1.0\" 200 3740 \"-\" \"Go-http-client/1.1\"\\n2021-04-10 23:24:46,445 | root | INFO | Validation Request Content-Type\\n2021-04-10 23:24:46,446 | root | INFO | Scoring Timer is set to 60.0 seconds\\n2021-04-10 23:24:46,694 | root | INFO | 200\\n127.0.0.1 - - [10/Apr/2021:23:24:46 +0000] \"POST /score HTTP/1.0\" 200 64 \"-\" \"python-requests/2.25.1\"\\n2021-04-10 23:27:19,417 | root | INFO | Validation Request Content-Type\\n2021-04-10 23:27:19,422 | root | INFO | Scoring Timer is set to 60.0 seconds\\n2021-04-10 23:27:19,653 | root | INFO | 200\\n127.0.0.1 - - [10/Apr/2021:23:27:19 +0000] \"POST /score HTTP/1.0\" 200 64 \"-\" \"python-requests/2.25.1\"\\n2021-04-10 23:28:01,833 | root | INFO | Validation Request Content-Type\\n2021-04-10 23:28:01,835 | root | INFO | Scoring Timer is set to 60.0 seconds\\n2021-04-10 23:28:02,154 | root | INFO | 200\\n127.0.0.1 - - [10/Apr/2021:23:28:02 +0000] \"POST /score HTTP/1.0\" 200 64 \"-\" \"python-requests/2.25.1\"\\n2021-04-10 23:30:19,385 | root | INFO | 200\\n127.0.0.1 - - [10/Apr/2021:23:30:19 +0000] \"GET /swagger.json HTTP/1.0\" 200 3740 \"-\" \"Go-http-client/1.1\"\\n2021-04-10 23:30:24,722 | root | INFO | 200\\n127.0.0.1 - - [10/Apr/2021:23:30:24 +0000] \"GET /swagger.json HTTP/1.0\" 200 3740 \"-\" \"Mozilla/5.0 (Windows NT 10.0; Win64; x64) AppleWebKit/537.36 (KHTML, like Gecko) Chrome/86.0.4240.75 Safari/537.36\"\\n127.0.0.1 - - [10/Apr/2021:23:30:24 +0000] \"GET /favicon.ico HTTP/1.0\" 404 232 \"http://d0357a2d-a43d-4883-bf1b-776196908eb7.southcentralus.azurecontainer.io/swagger.json\" \"Mozilla/5.0 (Windows NT 10.0; Win64; x64) AppleWebKit/537.36 (KHTML, like Gecko) Chrome/86.0.4240.75 Safari/537.36\"\\n2021-04-10 23:34:28,339 | root | INFO | 200\\n127.0.0.1 - - [10/Apr/2021:23:34:28 +0000] \"GET /swagger.json HTTP/1.0\" 200 3740 \"-\" \"Go-http-client/1.1\"\\n2021-04-10 23:34:34,285 | root | INFO | 200\\n127.0.0.1 - - [10/Apr/2021:23:34:34 +0000] \"GET /swagger.json HTTP/1.0\" 200 3740 \"-\" \"Go-http-client/1.1\"\\n2021-04-10 23:34:36,694 | root | INFO | 200\\n127.0.0.1 - - [10/Apr/2021:23:34:36 +0000] \"GET /swagger.json HTTP/1.0\" 200 3740 \"-\" \"Go-http-client/1.1\"\\n2021-04-10 23:37:54,712 | root | INFO | 200\\n127.0.0.1 - - [10/Apr/2021:23:37:54 +0000] \"GET /swagger.json HTTP/1.0\" 200 3740 \"-\" \"Go-http-client/1.1\"\\n2021-04-10 23:37:59,273 | root | INFO | 200\\n127.0.0.1 - - [10/Apr/2021:23:37:59 +0000] \"GET /swagger.json HTTP/1.0\" 200 3740 \"-\" \"Go-http-client/1.1\"\\n2021-04-10 23:38:07,673 | root | INFO | 200\\n127.0.0.1 - - [10/Apr/2021:23:38:07 +0000] \"GET /swagger.json HTTP/1.0\" 200 3740 \"-\" \"Go-http-client/1.1\"\\n2021-04-10 23:39:34,625 | root | INFO | Validation Request Content-Type\\n2021-04-10 23:39:34,627 | root | INFO | Scoring Timer is set to 60.0 seconds\\n2021-04-10 23:39:34,892 | root | INFO | 200\\n127.0.0.1 - - [10/Apr/2021:23:39:34 +0000] \"POST /score HTTP/1.0\" 200 64 \"-\" \"python-requests/2.25.1\"\\n2021-04-10 23:44:42,341 | root | INFO | Validation Request Content-Type\\n2021-04-10 23:44:42,342 | root | INFO | Scoring Timer is set to 60.0 seconds\\n2021-04-10 23:44:42,635 | root | INFO | 200\\n127.0.0.1 - - [10/Apr/2021:23:44:42 +0000] \"POST /score HTTP/1.0\" 200 64 \"-\" \"python-requests/2.25.1\"\\n'"
          },
          "metadata": {}
        }
      ],
      "execution_count": 34,
      "metadata": {
        "jupyter": {
          "outputs_hidden": false,
          "source_hidden": false
        },
        "nteract": {
          "transient": {
            "deleting": false
          }
        },
        "gather": {
          "logged": 1618098292849
        }
      }
    },
    {
      "cell_type": "code",
      "source": [
        "service.delete()"
      ],
      "outputs": [],
      "execution_count": 35,
      "metadata": {
        "collapsed": true,
        "jupyter": {
          "source_hidden": false,
          "outputs_hidden": false
        },
        "nteract": {
          "transient": {
            "deleting": false
          }
        },
        "gather": {
          "logged": 1618098340360
        }
      }
    },
    {
      "cell_type": "code",
      "source": [],
      "outputs": [],
      "execution_count": null,
      "metadata": {
        "collapsed": true,
        "jupyter": {
          "source_hidden": false,
          "outputs_hidden": false
        },
        "nteract": {
          "transient": {
            "deleting": false
          }
        }
      }
    }
  ],
  "metadata": {
    "kernel_info": {
      "name": "python3"
    },
    "kernelspec": {
      "name": "python3",
      "language": "python",
      "display_name": "Python 3"
    },
    "language_info": {
      "name": "python",
      "version": "3.6.9",
      "mimetype": "text/x-python",
      "codemirror_mode": {
        "name": "ipython",
        "version": 3
      },
      "pygments_lexer": "ipython3",
      "nbconvert_exporter": "python",
      "file_extension": ".py"
    },
    "nteract": {
      "version": "nteract-front-end@1.0.0"
    },
    "microsoft": {
      "host": {
        "AzureML": {
          "notebookHasBeenCompleted": true
        }
      }
    }
  },
  "nbformat": 4,
  "nbformat_minor": 2
}