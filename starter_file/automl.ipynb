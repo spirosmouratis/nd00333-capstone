{
 "cells": [
  {
   "cell_type": "markdown",
   "metadata": {},
   "source": [
    "# Automated ML\n",
    "\n",
    "TODO: Import Dependencies. In the cell below, import all the dependencies that you will need to complete the project."
   ]
  },
  {
   "cell_type": "code",
   "execution_count": 1,
   "metadata": {
    "gather": {
     "logged": 1618177404196
    },
    "jupyter": {
     "outputs_hidden": false,
     "source_hidden": false
    },
    "nteract": {
     "transient": {
      "deleting": false
     }
    }
   },
   "outputs": [
    {
     "name": "stdout",
     "output_type": "stream",
     "text": [
      "SDK version: 1.26.0\n"
     ]
    }
   ],
   "source": [
    "import azureml\n",
    "from azureml.core.experiment import Experiment\n",
    "from azureml.core.workspace import Workspace\n",
    "from azureml.core.compute import AmlCompute\n",
    "from azureml.core.compute import ComputeTarget\n",
    "from azureml.core.compute_target import ComputeTargetException\n",
    "from azureml.train.automl import AutoMLConfig\n",
    "from azureml.widgets import RunDetails\n",
    "\n",
    "print(\"SDK version:\", azureml.core.VERSION)"
   ]
  },
  {
   "cell_type": "markdown",
   "metadata": {},
   "source": [
    "## Dataset\n",
    "\n",
    "### Overview\n",
    "TODO: In this markdown cell, give an overview of the dataset you are using. Also mention the task you will be performing.\n",
    "\n",
    "The dataset we are using here is the \"hottest\" dataset in Kaggle for credit card fraud detection.<br>\n",
    "The target of problem is to identify based on the given features if a transaction is fraudulent or not. <br>\n",
    "The dataset contains only numerical input variables which are a result of a PCA transformation. <br>\n",
    "This means that the datset does not require any cleaning, nomralisation or any kind of encoding. <br>\n",
    "\n",
    "TODO: Get data. In the cell below, write code to access the data you will be using in this project. Remember that the dataset needs to be external."
   ]
  },
  {
   "cell_type": "code",
   "execution_count": 2,
   "metadata": {
    "gather": {
     "logged": 1618177422606
    },
    "jupyter": {
     "outputs_hidden": false,
     "source_hidden": false
    },
    "nteract": {
     "transient": {
      "deleting": false
     }
    }
   },
   "outputs": [],
   "source": [
    "ws = Workspace.from_config()\n",
    "\n",
    "# choose a name for experiment\n",
    "experiment_name = 'capstone-fraud-credit-exp'\n",
    "\n",
    "experiment=Experiment(ws, experiment_name)"
   ]
  },
  {
   "cell_type": "markdown",
   "metadata": {
    "nteract": {
     "transient": {
      "deleting": false
     }
    }
   },
   "source": [
    "In the cell below we are creating a cluster to run our AutoML experiment"
   ]
  },
  {
   "cell_type": "code",
   "execution_count": 3,
   "metadata": {
    "gather": {
     "logged": 1618178050498
    },
    "jupyter": {
     "outputs_hidden": false,
     "source_hidden": false
    },
    "nteract": {
     "transient": {
      "deleting": false
     }
    }
   },
   "outputs": [
    {
     "name": "stdout",
     "output_type": "stream",
     "text": [
      "Creating....\n",
      "SucceededProvisioning operation finished, operation \"Succeeded\"\n",
      "Succeeded\n",
      "AmlCompute wait for completion finished\n",
      "\n",
      "Minimum number of nodes requested have been provisioned\n"
     ]
    }
   ],
   "source": [
    "# NOTE: update the cluster name to match the existing cluster\n",
    "# Choose a name for your CPU cluster\n",
    "amlcompute_cluster_name = \"auto-ml\"\n",
    "\n",
    "# Verify that cluster does not exist already\n",
    "try:\n",
    "    compute_target = ComputeTarget(workspace=ws, name=amlcompute_cluster_name)\n",
    "    print('Found existing cluster, use it.')\n",
    "except ComputeTargetException:\n",
    "    compute_config = AmlCompute.provisioning_configuration(vm_size='STANDARD_DS12_V2',# for GPU, use \"STANDARD_NC6\"\n",
    "                                                           #vm_priority = 'lowpriority', # optional\n",
    "                                                           max_nodes=10)\n",
    "    compute_target = ComputeTarget.create(ws, amlcompute_cluster_name, compute_config)\n",
    "\n",
    "compute_target.wait_for_completion(show_output=True)\n",
    "# For a more detailed view of current AmlCompute status, use get_status()."
   ]
  },
  {
   "cell_type": "markdown",
   "metadata": {
    "nteract": {
     "transient": {
      "deleting": false
     }
    }
   },
   "source": [
    "In the cell below we read the data if they are already saved in the Workspace <br>\n",
    "If they are not then we can download the data from a URL <br>\n",
    "Here the URL thought doesn't work properly so it's in comments <br>"
   ]
  },
  {
   "cell_type": "code",
   "execution_count": 4,
   "metadata": {
    "gather": {
     "logged": 1618178496786
    },
    "jupyter": {
     "outputs_hidden": false,
     "source_hidden": false
    },
    "nteract": {
     "transient": {
      "deleting": false
     }
    }
   },
   "outputs": [
    {
     "data": {
      "text/html": [
       "<div>\n",
       "<style scoped>\n",
       "    .dataframe tbody tr th:only-of-type {\n",
       "        vertical-align: middle;\n",
       "    }\n",
       "\n",
       "    .dataframe tbody tr th {\n",
       "        vertical-align: top;\n",
       "    }\n",
       "\n",
       "    .dataframe thead th {\n",
       "        text-align: right;\n",
       "    }\n",
       "</style>\n",
       "<table border=\"1\" class=\"dataframe\">\n",
       "  <thead>\n",
       "    <tr style=\"text-align: right;\">\n",
       "      <th></th>\n",
       "      <th>Time</th>\n",
       "      <th>V1</th>\n",
       "      <th>V2</th>\n",
       "      <th>V3</th>\n",
       "      <th>V4</th>\n",
       "      <th>V5</th>\n",
       "      <th>V6</th>\n",
       "      <th>V7</th>\n",
       "      <th>V8</th>\n",
       "      <th>V9</th>\n",
       "      <th>...</th>\n",
       "      <th>V21</th>\n",
       "      <th>V22</th>\n",
       "      <th>V23</th>\n",
       "      <th>V24</th>\n",
       "      <th>V25</th>\n",
       "      <th>V26</th>\n",
       "      <th>V27</th>\n",
       "      <th>V28</th>\n",
       "      <th>Amount</th>\n",
       "      <th>Class</th>\n",
       "    </tr>\n",
       "  </thead>\n",
       "  <tbody>\n",
       "    <tr>\n",
       "      <th>count</th>\n",
       "      <td>284806.000000</td>\n",
       "      <td>2.848070e+05</td>\n",
       "      <td>2.848070e+05</td>\n",
       "      <td>2.848070e+05</td>\n",
       "      <td>2.848070e+05</td>\n",
       "      <td>2.848070e+05</td>\n",
       "      <td>2.848070e+05</td>\n",
       "      <td>2.848070e+05</td>\n",
       "      <td>2.848070e+05</td>\n",
       "      <td>2.848070e+05</td>\n",
       "      <td>...</td>\n",
       "      <td>2.848070e+05</td>\n",
       "      <td>2.848070e+05</td>\n",
       "      <td>2.848070e+05</td>\n",
       "      <td>2.848070e+05</td>\n",
       "      <td>2.848070e+05</td>\n",
       "      <td>2.848070e+05</td>\n",
       "      <td>2.848070e+05</td>\n",
       "      <td>2.848070e+05</td>\n",
       "      <td>284807.000000</td>\n",
       "      <td>284807.000000</td>\n",
       "    </tr>\n",
       "    <tr>\n",
       "      <th>mean</th>\n",
       "      <td>94813.841366</td>\n",
       "      <td>3.918649e-15</td>\n",
       "      <td>5.682686e-16</td>\n",
       "      <td>-8.761736e-15</td>\n",
       "      <td>2.811118e-15</td>\n",
       "      <td>-1.552103e-15</td>\n",
       "      <td>2.040130e-15</td>\n",
       "      <td>-1.698953e-15</td>\n",
       "      <td>-1.958151e-16</td>\n",
       "      <td>-3.147640e-15</td>\n",
       "      <td>...</td>\n",
       "      <td>1.471982e-16</td>\n",
       "      <td>8.042109e-16</td>\n",
       "      <td>5.282450e-16</td>\n",
       "      <td>4.458267e-15</td>\n",
       "      <td>1.426896e-15</td>\n",
       "      <td>1.701640e-15</td>\n",
       "      <td>-3.671606e-16</td>\n",
       "      <td>-1.218152e-16</td>\n",
       "      <td>88.349619</td>\n",
       "      <td>0.001727</td>\n",
       "    </tr>\n",
       "    <tr>\n",
       "      <th>std</th>\n",
       "      <td>47488.228330</td>\n",
       "      <td>1.958696e+00</td>\n",
       "      <td>1.651309e+00</td>\n",
       "      <td>1.516255e+00</td>\n",
       "      <td>1.415869e+00</td>\n",
       "      <td>1.380247e+00</td>\n",
       "      <td>1.332271e+00</td>\n",
       "      <td>1.237094e+00</td>\n",
       "      <td>1.194353e+00</td>\n",
       "      <td>1.098632e+00</td>\n",
       "      <td>...</td>\n",
       "      <td>7.345240e-01</td>\n",
       "      <td>7.257016e-01</td>\n",
       "      <td>6.244603e-01</td>\n",
       "      <td>6.056471e-01</td>\n",
       "      <td>5.212781e-01</td>\n",
       "      <td>4.822270e-01</td>\n",
       "      <td>4.036325e-01</td>\n",
       "      <td>3.300833e-01</td>\n",
       "      <td>250.120109</td>\n",
       "      <td>0.041527</td>\n",
       "    </tr>\n",
       "    <tr>\n",
       "      <th>min</th>\n",
       "      <td>0.000000</td>\n",
       "      <td>-5.640751e+01</td>\n",
       "      <td>-7.271573e+01</td>\n",
       "      <td>-4.832559e+01</td>\n",
       "      <td>-5.683171e+00</td>\n",
       "      <td>-1.137433e+02</td>\n",
       "      <td>-2.616051e+01</td>\n",
       "      <td>-4.355724e+01</td>\n",
       "      <td>-7.321672e+01</td>\n",
       "      <td>-1.343407e+01</td>\n",
       "      <td>...</td>\n",
       "      <td>-3.483038e+01</td>\n",
       "      <td>-1.093314e+01</td>\n",
       "      <td>-4.480774e+01</td>\n",
       "      <td>-2.836627e+00</td>\n",
       "      <td>-1.029540e+01</td>\n",
       "      <td>-2.604551e+00</td>\n",
       "      <td>-2.256568e+01</td>\n",
       "      <td>-1.543008e+01</td>\n",
       "      <td>0.000000</td>\n",
       "      <td>0.000000</td>\n",
       "    </tr>\n",
       "    <tr>\n",
       "      <th>25%</th>\n",
       "      <td>54201.250000</td>\n",
       "      <td>-9.203734e-01</td>\n",
       "      <td>-5.985499e-01</td>\n",
       "      <td>-8.903648e-01</td>\n",
       "      <td>-8.486401e-01</td>\n",
       "      <td>-6.915971e-01</td>\n",
       "      <td>-7.682956e-01</td>\n",
       "      <td>-5.540759e-01</td>\n",
       "      <td>-2.086297e-01</td>\n",
       "      <td>-6.430976e-01</td>\n",
       "      <td>...</td>\n",
       "      <td>-2.283949e-01</td>\n",
       "      <td>-5.423504e-01</td>\n",
       "      <td>-1.618463e-01</td>\n",
       "      <td>-3.545861e-01</td>\n",
       "      <td>-3.171451e-01</td>\n",
       "      <td>-3.269839e-01</td>\n",
       "      <td>-7.083953e-02</td>\n",
       "      <td>-5.295979e-02</td>\n",
       "      <td>5.600000</td>\n",
       "      <td>0.000000</td>\n",
       "    </tr>\n",
       "    <tr>\n",
       "      <th>50%</th>\n",
       "      <td>84691.500000</td>\n",
       "      <td>1.810880e-02</td>\n",
       "      <td>6.548556e-02</td>\n",
       "      <td>1.798463e-01</td>\n",
       "      <td>-1.984653e-02</td>\n",
       "      <td>-5.433583e-02</td>\n",
       "      <td>-2.741871e-01</td>\n",
       "      <td>4.010308e-02</td>\n",
       "      <td>2.235804e-02</td>\n",
       "      <td>-5.142873e-02</td>\n",
       "      <td>...</td>\n",
       "      <td>-2.945017e-02</td>\n",
       "      <td>6.781943e-03</td>\n",
       "      <td>-1.119293e-02</td>\n",
       "      <td>4.097606e-02</td>\n",
       "      <td>1.659350e-02</td>\n",
       "      <td>-5.213911e-02</td>\n",
       "      <td>1.342146e-03</td>\n",
       "      <td>1.124383e-02</td>\n",
       "      <td>22.000000</td>\n",
       "      <td>0.000000</td>\n",
       "    </tr>\n",
       "    <tr>\n",
       "      <th>75%</th>\n",
       "      <td>139320.750000</td>\n",
       "      <td>1.315642e+00</td>\n",
       "      <td>8.037239e-01</td>\n",
       "      <td>1.027196e+00</td>\n",
       "      <td>7.433413e-01</td>\n",
       "      <td>6.119264e-01</td>\n",
       "      <td>3.985649e-01</td>\n",
       "      <td>5.704361e-01</td>\n",
       "      <td>3.273459e-01</td>\n",
       "      <td>5.971390e-01</td>\n",
       "      <td>...</td>\n",
       "      <td>1.863772e-01</td>\n",
       "      <td>5.285536e-01</td>\n",
       "      <td>1.476421e-01</td>\n",
       "      <td>4.395266e-01</td>\n",
       "      <td>3.507156e-01</td>\n",
       "      <td>2.409522e-01</td>\n",
       "      <td>9.104512e-02</td>\n",
       "      <td>7.827995e-02</td>\n",
       "      <td>77.165000</td>\n",
       "      <td>0.000000</td>\n",
       "    </tr>\n",
       "    <tr>\n",
       "      <th>max</th>\n",
       "      <td>172792.000000</td>\n",
       "      <td>2.454930e+00</td>\n",
       "      <td>2.205773e+01</td>\n",
       "      <td>9.382558e+00</td>\n",
       "      <td>1.687534e+01</td>\n",
       "      <td>3.480167e+01</td>\n",
       "      <td>7.330163e+01</td>\n",
       "      <td>1.205895e+02</td>\n",
       "      <td>2.000721e+01</td>\n",
       "      <td>1.559499e+01</td>\n",
       "      <td>...</td>\n",
       "      <td>2.720284e+01</td>\n",
       "      <td>1.050309e+01</td>\n",
       "      <td>2.252841e+01</td>\n",
       "      <td>4.584549e+00</td>\n",
       "      <td>7.519589e+00</td>\n",
       "      <td>3.517346e+00</td>\n",
       "      <td>3.161220e+01</td>\n",
       "      <td>3.384781e+01</td>\n",
       "      <td>25691.160000</td>\n",
       "      <td>1.000000</td>\n",
       "    </tr>\n",
       "  </tbody>\n",
       "</table>\n",
       "<p>8 rows × 31 columns</p>\n",
       "</div>"
      ],
      "text/plain": [
       "                Time            V1            V2            V3            V4  \\\n",
       "count  284806.000000  2.848070e+05  2.848070e+05  2.848070e+05  2.848070e+05   \n",
       "mean    94813.841366  3.918649e-15  5.682686e-16 -8.761736e-15  2.811118e-15   \n",
       "std     47488.228330  1.958696e+00  1.651309e+00  1.516255e+00  1.415869e+00   \n",
       "min         0.000000 -5.640751e+01 -7.271573e+01 -4.832559e+01 -5.683171e+00   \n",
       "25%     54201.250000 -9.203734e-01 -5.985499e-01 -8.903648e-01 -8.486401e-01   \n",
       "50%     84691.500000  1.810880e-02  6.548556e-02  1.798463e-01 -1.984653e-02   \n",
       "75%    139320.750000  1.315642e+00  8.037239e-01  1.027196e+00  7.433413e-01   \n",
       "max    172792.000000  2.454930e+00  2.205773e+01  9.382558e+00  1.687534e+01   \n",
       "\n",
       "                 V5            V6            V7            V8            V9  \\\n",
       "count  2.848070e+05  2.848070e+05  2.848070e+05  2.848070e+05  2.848070e+05   \n",
       "mean  -1.552103e-15  2.040130e-15 -1.698953e-15 -1.958151e-16 -3.147640e-15   \n",
       "std    1.380247e+00  1.332271e+00  1.237094e+00  1.194353e+00  1.098632e+00   \n",
       "min   -1.137433e+02 -2.616051e+01 -4.355724e+01 -7.321672e+01 -1.343407e+01   \n",
       "25%   -6.915971e-01 -7.682956e-01 -5.540759e-01 -2.086297e-01 -6.430976e-01   \n",
       "50%   -5.433583e-02 -2.741871e-01  4.010308e-02  2.235804e-02 -5.142873e-02   \n",
       "75%    6.119264e-01  3.985649e-01  5.704361e-01  3.273459e-01  5.971390e-01   \n",
       "max    3.480167e+01  7.330163e+01  1.205895e+02  2.000721e+01  1.559499e+01   \n",
       "\n",
       "       ...           V21           V22           V23           V24  \\\n",
       "count  ...  2.848070e+05  2.848070e+05  2.848070e+05  2.848070e+05   \n",
       "mean   ...  1.471982e-16  8.042109e-16  5.282450e-16  4.458267e-15   \n",
       "std    ...  7.345240e-01  7.257016e-01  6.244603e-01  6.056471e-01   \n",
       "min    ... -3.483038e+01 -1.093314e+01 -4.480774e+01 -2.836627e+00   \n",
       "25%    ... -2.283949e-01 -5.423504e-01 -1.618463e-01 -3.545861e-01   \n",
       "50%    ... -2.945017e-02  6.781943e-03 -1.119293e-02  4.097606e-02   \n",
       "75%    ...  1.863772e-01  5.285536e-01  1.476421e-01  4.395266e-01   \n",
       "max    ...  2.720284e+01  1.050309e+01  2.252841e+01  4.584549e+00   \n",
       "\n",
       "                V25           V26           V27           V28         Amount  \\\n",
       "count  2.848070e+05  2.848070e+05  2.848070e+05  2.848070e+05  284807.000000   \n",
       "mean   1.426896e-15  1.701640e-15 -3.671606e-16 -1.218152e-16      88.349619   \n",
       "std    5.212781e-01  4.822270e-01  4.036325e-01  3.300833e-01     250.120109   \n",
       "min   -1.029540e+01 -2.604551e+00 -2.256568e+01 -1.543008e+01       0.000000   \n",
       "25%   -3.171451e-01 -3.269839e-01 -7.083953e-02 -5.295979e-02       5.600000   \n",
       "50%    1.659350e-02 -5.213911e-02  1.342146e-03  1.124383e-02      22.000000   \n",
       "75%    3.507156e-01  2.409522e-01  9.104512e-02  7.827995e-02      77.165000   \n",
       "max    7.519589e+00  3.517346e+00  3.161220e+01  3.384781e+01   25691.160000   \n",
       "\n",
       "               Class  \n",
       "count  284807.000000  \n",
       "mean        0.001727  \n",
       "std         0.041527  \n",
       "min         0.000000  \n",
       "25%         0.000000  \n",
       "50%         0.000000  \n",
       "75%         0.000000  \n",
       "max         1.000000  \n",
       "\n",
       "[8 rows x 31 columns]"
      ]
     },
     "metadata": {},
     "output_type": "display_data"
    },
    {
     "data": {
      "text/html": [
       "<div>\n",
       "<style scoped>\n",
       "    .dataframe tbody tr th:only-of-type {\n",
       "        vertical-align: middle;\n",
       "    }\n",
       "\n",
       "    .dataframe tbody tr th {\n",
       "        vertical-align: top;\n",
       "    }\n",
       "\n",
       "    .dataframe thead th {\n",
       "        text-align: right;\n",
       "    }\n",
       "</style>\n",
       "<table border=\"1\" class=\"dataframe\">\n",
       "  <thead>\n",
       "    <tr style=\"text-align: right;\">\n",
       "      <th></th>\n",
       "      <th>Time</th>\n",
       "      <th>V1</th>\n",
       "      <th>V2</th>\n",
       "      <th>V3</th>\n",
       "      <th>V4</th>\n",
       "      <th>V5</th>\n",
       "      <th>V6</th>\n",
       "      <th>V7</th>\n",
       "      <th>V8</th>\n",
       "      <th>V9</th>\n",
       "      <th>...</th>\n",
       "      <th>V21</th>\n",
       "      <th>V22</th>\n",
       "      <th>V23</th>\n",
       "      <th>V24</th>\n",
       "      <th>V25</th>\n",
       "      <th>V26</th>\n",
       "      <th>V27</th>\n",
       "      <th>V28</th>\n",
       "      <th>Amount</th>\n",
       "      <th>Class</th>\n",
       "    </tr>\n",
       "  </thead>\n",
       "  <tbody>\n",
       "    <tr>\n",
       "      <th>0</th>\n",
       "      <td>0.0</td>\n",
       "      <td>-1.359807</td>\n",
       "      <td>-0.072781</td>\n",
       "      <td>2.536347</td>\n",
       "      <td>1.378155</td>\n",
       "      <td>-0.338321</td>\n",
       "      <td>0.462388</td>\n",
       "      <td>0.239599</td>\n",
       "      <td>0.098698</td>\n",
       "      <td>0.363787</td>\n",
       "      <td>...</td>\n",
       "      <td>-0.018307</td>\n",
       "      <td>0.277838</td>\n",
       "      <td>-0.110474</td>\n",
       "      <td>0.066928</td>\n",
       "      <td>0.128539</td>\n",
       "      <td>-0.189115</td>\n",
       "      <td>0.133558</td>\n",
       "      <td>-0.021053</td>\n",
       "      <td>149.62</td>\n",
       "      <td>0</td>\n",
       "    </tr>\n",
       "    <tr>\n",
       "      <th>1</th>\n",
       "      <td>0.0</td>\n",
       "      <td>1.191857</td>\n",
       "      <td>0.266151</td>\n",
       "      <td>0.166480</td>\n",
       "      <td>0.448154</td>\n",
       "      <td>0.060018</td>\n",
       "      <td>-0.082361</td>\n",
       "      <td>-0.078803</td>\n",
       "      <td>0.085102</td>\n",
       "      <td>-0.255425</td>\n",
       "      <td>...</td>\n",
       "      <td>-0.225775</td>\n",
       "      <td>-0.638672</td>\n",
       "      <td>0.101288</td>\n",
       "      <td>-0.339846</td>\n",
       "      <td>0.167170</td>\n",
       "      <td>0.125895</td>\n",
       "      <td>-0.008983</td>\n",
       "      <td>0.014724</td>\n",
       "      <td>2.69</td>\n",
       "      <td>0</td>\n",
       "    </tr>\n",
       "    <tr>\n",
       "      <th>2</th>\n",
       "      <td>1.0</td>\n",
       "      <td>-1.358354</td>\n",
       "      <td>-1.340163</td>\n",
       "      <td>1.773209</td>\n",
       "      <td>0.379780</td>\n",
       "      <td>-0.503198</td>\n",
       "      <td>1.800499</td>\n",
       "      <td>0.791461</td>\n",
       "      <td>0.247676</td>\n",
       "      <td>-1.514654</td>\n",
       "      <td>...</td>\n",
       "      <td>0.247998</td>\n",
       "      <td>0.771679</td>\n",
       "      <td>0.909412</td>\n",
       "      <td>-0.689281</td>\n",
       "      <td>-0.327642</td>\n",
       "      <td>-0.139097</td>\n",
       "      <td>-0.055353</td>\n",
       "      <td>-0.059752</td>\n",
       "      <td>378.66</td>\n",
       "      <td>0</td>\n",
       "    </tr>\n",
       "    <tr>\n",
       "      <th>3</th>\n",
       "      <td>1.0</td>\n",
       "      <td>-0.966272</td>\n",
       "      <td>-0.185226</td>\n",
       "      <td>1.792993</td>\n",
       "      <td>-0.863291</td>\n",
       "      <td>-0.010309</td>\n",
       "      <td>1.247203</td>\n",
       "      <td>0.237609</td>\n",
       "      <td>0.377436</td>\n",
       "      <td>-1.387024</td>\n",
       "      <td>...</td>\n",
       "      <td>-0.108300</td>\n",
       "      <td>0.005274</td>\n",
       "      <td>-0.190321</td>\n",
       "      <td>-1.175575</td>\n",
       "      <td>0.647376</td>\n",
       "      <td>-0.221929</td>\n",
       "      <td>0.062723</td>\n",
       "      <td>0.061458</td>\n",
       "      <td>123.50</td>\n",
       "      <td>0</td>\n",
       "    </tr>\n",
       "    <tr>\n",
       "      <th>4</th>\n",
       "      <td>2.0</td>\n",
       "      <td>-1.158233</td>\n",
       "      <td>0.877737</td>\n",
       "      <td>1.548718</td>\n",
       "      <td>0.403034</td>\n",
       "      <td>-0.407193</td>\n",
       "      <td>0.095921</td>\n",
       "      <td>0.592941</td>\n",
       "      <td>-0.270533</td>\n",
       "      <td>0.817739</td>\n",
       "      <td>...</td>\n",
       "      <td>-0.009431</td>\n",
       "      <td>0.798278</td>\n",
       "      <td>-0.137458</td>\n",
       "      <td>0.141267</td>\n",
       "      <td>-0.206010</td>\n",
       "      <td>0.502292</td>\n",
       "      <td>0.219422</td>\n",
       "      <td>0.215153</td>\n",
       "      <td>69.99</td>\n",
       "      <td>0</td>\n",
       "    </tr>\n",
       "  </tbody>\n",
       "</table>\n",
       "<p>5 rows × 31 columns</p>\n",
       "</div>"
      ],
      "text/plain": [
       "   Time        V1        V2        V3        V4        V5        V6        V7  \\\n",
       "0   0.0 -1.359807 -0.072781  2.536347  1.378155 -0.338321  0.462388  0.239599   \n",
       "1   0.0  1.191857  0.266151  0.166480  0.448154  0.060018 -0.082361 -0.078803   \n",
       "2   1.0 -1.358354 -1.340163  1.773209  0.379780 -0.503198  1.800499  0.791461   \n",
       "3   1.0 -0.966272 -0.185226  1.792993 -0.863291 -0.010309  1.247203  0.237609   \n",
       "4   2.0 -1.158233  0.877737  1.548718  0.403034 -0.407193  0.095921  0.592941   \n",
       "\n",
       "         V8        V9  ...       V21       V22       V23       V24       V25  \\\n",
       "0  0.098698  0.363787  ... -0.018307  0.277838 -0.110474  0.066928  0.128539   \n",
       "1  0.085102 -0.255425  ... -0.225775 -0.638672  0.101288 -0.339846  0.167170   \n",
       "2  0.247676 -1.514654  ...  0.247998  0.771679  0.909412 -0.689281 -0.327642   \n",
       "3  0.377436 -1.387024  ... -0.108300  0.005274 -0.190321 -1.175575  0.647376   \n",
       "4 -0.270533  0.817739  ... -0.009431  0.798278 -0.137458  0.141267 -0.206010   \n",
       "\n",
       "        V26       V27       V28  Amount  Class  \n",
       "0 -0.189115  0.133558 -0.021053  149.62      0  \n",
       "1  0.125895 -0.008983  0.014724    2.69      0  \n",
       "2 -0.139097 -0.055353 -0.059752  378.66      0  \n",
       "3 -0.221929  0.062723  0.061458  123.50      0  \n",
       "4  0.502292  0.219422  0.215153   69.99      0  \n",
       "\n",
       "[5 rows x 31 columns]"
      ]
     },
     "metadata": {},
     "output_type": "display_data"
    }
   ],
   "source": [
    "# Try to load the dataset from the Workspace. Otherwise, create it from the file\n",
    "# NOTE: update the key to match the dataset name\n",
    "found = False\n",
    "key = \"fraud-capstone\"\n",
    "description_text = \"Credit Card Fraud Detection Data\"\n",
    "\n",
    "if key in ws.datasets.keys(): \n",
    "        found = True\n",
    "        dataset = ws.datasets[key] \n",
    "\n",
    "# if not found:\n",
    "#         # Create AML Dataset and register it into Workspace\n",
    "#         example_data = 'https://drive.google.com/file/d/1qEMDzGfw-iT4H127-ph3h_gmUfrSocpQ/view?usp=sharing'\n",
    "#         dataset = Dataset.Tabular.from_delimited_files(example_data)        \n",
    "#         #Register Dataset in Workspace\n",
    "#         dataset = dataset.register(workspace=ws,\n",
    "#                                    name=key,\n",
    "#                                    description=description_text)\n",
    "\n",
    "\n",
    "df = dataset.to_pandas_dataframe()\n",
    "display(df.describe())\n",
    "display(df.head())"
   ]
  },
  {
   "cell_type": "markdown",
   "metadata": {},
   "source": [
    "## AutoML Configuration\n",
    "\n",
    "TODO: Explain why you chose the automl settings and cofiguration you used below.\n",
    "\n",
    "I am giving the experiment a timeout after 30 minutes <br>\n",
    "It can run up to 5 Runs at the same time <br>\n",
    "Because the dataset is highly imbalanced we use AUC and its weighted <br>\n",
    "The problem is a binary classification <br>\n",
    "XGboostClassifier was giving me an error so I removed it <br>"
   ]
  },
  {
   "cell_type": "code",
   "execution_count": 5,
   "metadata": {
    "gather": {
     "logged": 1618178077178
    },
    "jupyter": {
     "outputs_hidden": false,
     "source_hidden": false
    },
    "nteract": {
     "transient": {
      "deleting": false
     }
    }
   },
   "outputs": [],
   "source": [
    "# TODO: Put your automl settings here\n",
    "automl_settings = {\n",
    "    \"experiment_timeout_minutes\": 30,\n",
    "    \"max_concurrent_iterations\": 5,\n",
    "    \"primary_metric\" : 'AUC_weighted'\n",
    "}\n",
    "\n",
    "# TODO: Put your automl config here\n",
    "automl_config = AutoMLConfig(compute_target=compute_target,\n",
    "                             task = \"classification\",\n",
    "                             training_data=dataset,\n",
    "                             label_column_name=\"Class\",   \n",
    "                             enable_early_stopping= True,\n",
    "                             featurization= 'auto',\n",
    "                             debug_log = \"automl_errors.log\",\n",
    "                             blocked_models=[\"XGBoostClassifier\"],\n",
    "                             **automl_settings\n",
    "                            )"
   ]
  },
  {
   "cell_type": "code",
   "execution_count": 6,
   "metadata": {
    "gather": {
     "logged": 1618178085926
    },
    "jupyter": {
     "outputs_hidden": false,
     "source_hidden": false
    },
    "nteract": {
     "transient": {
      "deleting": false
     }
    }
   },
   "outputs": [
    {
     "name": "stdout",
     "output_type": "stream",
     "text": [
      "Submitting remote run.\n"
     ]
    },
    {
     "data": {
      "text/html": [
       "<table style=\"width:100%\"><tr><th>Experiment</th><th>Id</th><th>Type</th><th>Status</th><th>Details Page</th><th>Docs Page</th></tr><tr><td>capstone-fraud-credit-exp</td><td>AutoML_f79a4e5e-9017-454a-b0d8-e8793c5705d8</td><td>automl</td><td>NotStarted</td><td><a href=\"https://ml.azure.com/runs/AutoML_f79a4e5e-9017-454a-b0d8-e8793c5705d8?wsid=/subscriptions/48a74bb7-9950-4cc1-9caa-5d50f995cc55/resourcegroups/aml-quickstarts-142700/workspaces/quick-starts-ws-142700&amp;tid=660b3398-b80e-49d2-bc5b-ac1dc93b5254\" target=\"_blank\" rel=\"noopener\">Link to Azure Machine Learning studio</a></td><td><a href=\"https://docs.microsoft.com/en-us/python/api/overview/azure/ml/intro?view=azure-ml-py\" target=\"_blank\" rel=\"noopener\">Link to Documentation</a></td></tr></table>"
      ],
      "text/plain": [
       "<IPython.core.display.HTML object>"
      ]
     },
     "metadata": {},
     "output_type": "display_data"
    }
   ],
   "source": [
    "# TODO: Submit your experiment\n",
    "remote_run = experiment.submit(automl_config)"
   ]
  },
  {
   "cell_type": "markdown",
   "metadata": {},
   "source": [
    "## Run Details\n",
    "\n",
    "OPTIONAL: Write about the different models trained and their performance. Why do you think some models did better than others?\n",
    "\n",
    "TODO: In the cell below, use the `RunDetails` widget to show the different experiments."
   ]
  },
  {
   "cell_type": "code",
   "execution_count": 7,
   "metadata": {
    "gather": {
     "logged": 1618178638116
    },
    "jupyter": {
     "outputs_hidden": false,
     "source_hidden": false
    },
    "nteract": {
     "transient": {
      "deleting": false
     }
    }
   },
   "outputs": [
    {
     "data": {
      "application/vnd.jupyter.widget-view+json": {
       "model_id": "bd734c782e4b47e0b7303bb9b292efae",
       "version_major": 2,
       "version_minor": 0
      },
      "text/plain": [
       "_AutoMLWidget(widget_settings={'childWidgetDisplay': 'popup', 'send_telemetry': False, 'log_level': 'INFO', 's…"
      ]
     },
     "metadata": {},
     "output_type": "display_data"
    },
    {
     "data": {
      "application/aml.mini.widget.v1": "{\"status\": \"Completed\", \"workbench_run_details_uri\": \"https://ml.azure.com/runs/AutoML_f79a4e5e-9017-454a-b0d8-e8793c5705d8?wsid=/subscriptions/48a74bb7-9950-4cc1-9caa-5d50f995cc55/resourcegroups/aml-quickstarts-142700/workspaces/quick-starts-ws-142700&tid=660b3398-b80e-49d2-bc5b-ac1dc93b5254\", \"run_id\": \"AutoML_f79a4e5e-9017-454a-b0d8-e8793c5705d8\", \"run_properties\": {\"run_id\": \"AutoML_f79a4e5e-9017-454a-b0d8-e8793c5705d8\", \"created_utc\": \"2021-04-14T18:46:54.883345Z\", \"properties\": {\"num_iterations\": \"1000\", \"training_type\": \"TrainFull\", \"acquisition_function\": \"EI\", \"primary_metric\": \"AUC_weighted\", \"train_split\": \"0\", \"acquisition_parameter\": \"0\", \"num_cross_validation\": null, \"target\": \"auto-ml\", \"AMLSettingsJsonString\": \"{\\\"path\\\":null,\\\"name\\\":\\\"capstone-fraud-credit-exp\\\",\\\"subscription_id\\\":\\\"48a74bb7-9950-4cc1-9caa-5d50f995cc55\\\",\\\"resource_group\\\":\\\"aml-quickstarts-142700\\\",\\\"workspace_name\\\":\\\"quick-starts-ws-142700\\\",\\\"region\\\":\\\"southcentralus\\\",\\\"compute_target\\\":\\\"auto-ml\\\",\\\"spark_service\\\":null,\\\"azure_service\\\":\\\"remote\\\",\\\"many_models\\\":false,\\\"pipeline_fetch_max_batch_size\\\":1,\\\"enable_batch_run\\\":false,\\\"enable_run_restructure\\\":false,\\\"iterations\\\":1000,\\\"primary_metric\\\":\\\"AUC_weighted\\\",\\\"task_type\\\":\\\"classification\\\",\\\"data_script\\\":null,\\\"test_size\\\":0.0,\\\"validation_size\\\":0.0,\\\"n_cross_validations\\\":null,\\\"y_min\\\":null,\\\"y_max\\\":null,\\\"num_classes\\\":null,\\\"featurization\\\":\\\"auto\\\",\\\"_ignore_package_version_incompatibilities\\\":false,\\\"is_timeseries\\\":false,\\\"max_cores_per_iteration\\\":1,\\\"max_concurrent_iterations\\\":5,\\\"iteration_timeout_minutes\\\":null,\\\"mem_in_mb\\\":null,\\\"enforce_time_on_windows\\\":false,\\\"experiment_timeout_minutes\\\":30,\\\"experiment_exit_score\\\":null,\\\"whitelist_models\\\":null,\\\"blacklist_algos\\\":[\\\"XGBoostClassifier\\\",\\\"TensorFlowLinearClassifier\\\",\\\"TensorFlowDNN\\\"],\\\"supported_models\\\":[\\\"LogisticRegression\\\",\\\"RandomForest\\\",\\\"MultinomialNaiveBayes\\\",\\\"TensorFlowLinearClassifier\\\",\\\"LinearSVM\\\",\\\"SVM\\\",\\\"GradientBoosting\\\",\\\"SGD\\\",\\\"LightGBM\\\",\\\"TensorFlowDNN\\\",\\\"ExtremeRandomTrees\\\",\\\"KNN\\\",\\\"DecisionTree\\\",\\\"AveragedPerceptronClassifier\\\",\\\"XGBoostClassifier\\\",\\\"BernoulliNaiveBayes\\\"],\\\"private_models\\\":[],\\\"auto_blacklist\\\":true,\\\"blacklist_samples_reached\\\":false,\\\"exclude_nan_labels\\\":true,\\\"verbosity\\\":20,\\\"_debug_log\\\":\\\"azureml_automl.log\\\",\\\"show_warnings\\\":false,\\\"model_explainability\\\":true,\\\"service_url\\\":null,\\\"sdk_url\\\":null,\\\"sdk_packages\\\":null,\\\"enable_onnx_compatible_models\\\":false,\\\"enable_split_onnx_featurizer_estimator_models\\\":false,\\\"vm_type\\\":\\\"STANDARD_DS12_V2\\\",\\\"telemetry_verbosity\\\":20,\\\"send_telemetry\\\":true,\\\"enable_dnn\\\":false,\\\"scenario\\\":\\\"SDK-1.13.0\\\",\\\"environment_label\\\":null,\\\"save_mlflow\\\":false,\\\"force_text_dnn\\\":false,\\\"enable_feature_sweeping\\\":true,\\\"enable_early_stopping\\\":true,\\\"early_stopping_n_iters\\\":10,\\\"metrics\\\":null,\\\"enable_metric_confidence\\\":false,\\\"enable_ensembling\\\":true,\\\"enable_stack_ensembling\\\":true,\\\"ensemble_iterations\\\":15,\\\"enable_tf\\\":false,\\\"enable_subsampling\\\":null,\\\"subsample_seed\\\":null,\\\"enable_nimbusml\\\":false,\\\"enable_streaming\\\":false,\\\"force_streaming\\\":false,\\\"track_child_runs\\\":true,\\\"allowed_private_models\\\":[],\\\"label_column_name\\\":\\\"Class\\\",\\\"weight_column_name\\\":null,\\\"cv_split_column_names\\\":null,\\\"enable_local_managed\\\":false,\\\"_local_managed_run_id\\\":null,\\\"cost_mode\\\":1,\\\"lag_length\\\":0,\\\"metric_operation\\\":\\\"maximize\\\",\\\"preprocess\\\":true}\", \"DataPrepJsonString\": \"{\\\\\\\"training_data\\\\\\\": {\\\\\\\"datasetId\\\\\\\": \\\\\\\"e20ac66a-f67c-498b-afab-3d8bbab9a424\\\\\\\"}, \\\\\\\"datasets\\\\\\\": 0}\", \"EnableSubsampling\": null, \"runTemplate\": \"AutoML\", \"azureml.runsource\": \"automl\", \"display_task_type\": \"classification\", \"dependencies_versions\": \"{\\\"azureml-widgets\\\": \\\"1.26.0\\\", \\\"azureml-train\\\": \\\"1.26.0\\\", \\\"azureml-train-restclients-hyperdrive\\\": \\\"1.26.0\\\", \\\"azureml-train-core\\\": \\\"1.26.0\\\", \\\"azureml-train-automl\\\": \\\"1.26.0\\\", \\\"azureml-train-automl-runtime\\\": \\\"1.26.0\\\", \\\"azureml-train-automl-client\\\": \\\"1.26.0\\\", \\\"azureml-tensorboard\\\": \\\"1.26.0\\\", \\\"azureml-telemetry\\\": \\\"1.26.0\\\", \\\"azureml-sdk\\\": \\\"1.26.0\\\", \\\"azureml-samples\\\": \\\"0+unknown\\\", \\\"azureml-pipeline\\\": \\\"1.26.0\\\", \\\"azureml-pipeline-steps\\\": \\\"1.26.0\\\", \\\"azureml-pipeline-core\\\": \\\"1.26.0\\\", \\\"azureml-opendatasets\\\": \\\"1.26.0\\\", \\\"azureml-model-management-sdk\\\": \\\"1.0.1b6.post1\\\", \\\"azureml-mlflow\\\": \\\"1.26.0\\\", \\\"azureml-interpret\\\": \\\"1.26.0\\\", \\\"azureml-explain-model\\\": \\\"1.26.0\\\", \\\"azureml-defaults\\\": \\\"1.26.0\\\", \\\"azureml-dataset-runtime\\\": \\\"1.26.0\\\", \\\"azureml-dataprep\\\": \\\"2.13.2\\\", \\\"azureml-dataprep-rslex\\\": \\\"1.11.2\\\", \\\"azureml-dataprep-native\\\": \\\"32.0.0\\\", \\\"azureml-datadrift\\\": \\\"1.26.0\\\", \\\"azureml-core\\\": \\\"1.26.0\\\", \\\"azureml-contrib-services\\\": \\\"1.26.0\\\", \\\"azureml-contrib-server\\\": \\\"1.26.0\\\", \\\"azureml-contrib-reinforcementlearning\\\": \\\"1.26.0\\\", \\\"azureml-contrib-pipeline-steps\\\": \\\"1.26.0\\\", \\\"azureml-contrib-notebook\\\": \\\"1.26.0\\\", \\\"azureml-contrib-gbdt\\\": \\\"1.26.0\\\", \\\"azureml-contrib-fairness\\\": \\\"1.26.0\\\", \\\"azureml-contrib-dataset\\\": \\\"1.26.0\\\", \\\"azureml-cli-common\\\": \\\"1.26.0\\\", \\\"azureml-automl-runtime\\\": \\\"1.26.0\\\", \\\"azureml-automl-dnn-nlp\\\": \\\"1.26.0\\\", \\\"azureml-automl-core\\\": \\\"1.26.0\\\", \\\"azureml-accel-models\\\": \\\"1.26.0\\\"}\", \"_aml_system_scenario_identification\": \"Remote.Parent\", \"ClientType\": \"SDK\", \"environment_cpu_name\": \"AzureML-AutoML\", \"environment_cpu_label\": \"prod\", \"environment_gpu_name\": \"AzureML-AutoML-GPU\", \"environment_gpu_label\": \"prod\", \"root_attribution\": \"automl\", \"attribution\": \"AutoML\", \"Orchestrator\": \"AutoML\", \"CancelUri\": \"https://southcentralus.experiments.azureml.net/jasmine/v1.0/subscriptions/48a74bb7-9950-4cc1-9caa-5d50f995cc55/resourceGroups/aml-quickstarts-142700/providers/Microsoft.MachineLearningServices/workspaces/quick-starts-ws-142700/experimentids/c22ee8ff-43cf-4fd1-a771-15294a98ab07/cancel/AutoML_f79a4e5e-9017-454a-b0d8-e8793c5705d8\", \"ClientSdkVersion\": \"1.25.0\", \"snapshotId\": \"00000000-0000-0000-0000-000000000000\", \"SetupRunId\": \"AutoML_f79a4e5e-9017-454a-b0d8-e8793c5705d8_setup\", \"SetupRunContainerId\": \"dcid.AutoML_f79a4e5e-9017-454a-b0d8-e8793c5705d8_setup\", \"FeaturizationRunJsonPath\": \"featurizer_container.json\", \"FeaturizationRunId\": \"AutoML_f79a4e5e-9017-454a-b0d8-e8793c5705d8_featurize\", \"ProblemInfoJsonString\": \"{\\\"dataset_num_categorical\\\": 0, \\\"is_sparse\\\": false, \\\"subsampling\\\": false, \\\"dataset_classes\\\": 2, \\\"dataset_features\\\": 30, \\\"dataset_samples\\\": 256326, \\\"single_frequency_class_detected\\\": false}\", \"ModelExplainRunId\": \"AutoML_f79a4e5e-9017-454a-b0d8-e8793c5705d8_ModelExplain\"}, \"tags\": {\"model_explain_run\": \"best_run\", \"_aml_system_azureml.automlComponent\": \"AutoML\", \"pipeline_id\": \"\", \"score\": \"\", \"predicted_cost\": \"\", \"fit_time\": \"\", \"training_percent\": \"\", \"iteration\": \"\", \"run_preprocessor\": \"\", \"run_algorithm\": \"\", \"dynamic_whitelisting_iterations\": \"<25>;<30>;<35>;\", \"automl_best_child_run_id\": \"AutoML_f79a4e5e-9017-454a-b0d8-e8793c5705d8_38\", \"model_explain_best_run_child_id\": \"AutoML_f79a4e5e-9017-454a-b0d8-e8793c5705d8_38\"}, \"end_time_utc\": \"2021-04-14T19:21:10.812701Z\", \"status\": \"Completed\", \"log_files\": {}, \"log_groups\": [], \"run_duration\": \"0:34:15\", \"run_number\": \"1\", \"run_queued_details\": {\"status\": \"Completed\", \"details\": null}}, \"child_runs\": [{\"run_id\": \"AutoML_f79a4e5e-9017-454a-b0d8-e8793c5705d8_0\", \"run_number\": 5, \"metric\": null, \"status\": \"Completed\", \"run_type\": \"azureml.scriptrun\", \"training_percent\": \"100\", \"start_time\": \"2021-04-14T18:57:53.98696Z\", \"end_time\": \"2021-04-14T18:58:46.081605Z\", \"created_time\": \"2021-04-14T18:54:55.285114Z\", \"created_time_dt\": \"2021-04-14T18:54:55.285114Z\", \"duration\": \"0:03:50\", \"iteration\": \"0\", \"goal\": \"AUC_weighted_max\", \"run_name\": \"MaxAbsScaler, LightGBM\", \"run_properties\": \"copy=True\", \"primary_metric\": 0.92515188, \"best_metric\": 0.92515188}, {\"run_id\": \"AutoML_f79a4e5e-9017-454a-b0d8-e8793c5705d8_3\", \"run_number\": 6, \"metric\": null, \"status\": \"Completed\", \"run_type\": \"azureml.scriptrun\", \"training_percent\": \"100\", \"start_time\": \"2021-04-14T18:56:32.398637Z\", \"end_time\": \"2021-04-14T18:57:37.135548Z\", \"created_time\": \"2021-04-14T18:54:55.303567Z\", \"created_time_dt\": \"2021-04-14T18:54:55.303567Z\", \"duration\": \"0:02:41\", \"iteration\": \"3\", \"goal\": \"AUC_weighted_max\", \"run_name\": \"MinMaxScaler, RandomForest\", \"run_properties\": \"copy=True, feature_range=(0, 1\", \"primary_metric\": 0.97312313, \"best_metric\": 0.97312313}, {\"run_id\": \"AutoML_f79a4e5e-9017-454a-b0d8-e8793c5705d8_2\", \"run_number\": 7, \"metric\": null, \"status\": \"Completed\", \"run_type\": \"azureml.scriptrun\", \"training_percent\": \"100\", \"start_time\": \"2021-04-14T18:58:40.244413Z\", \"end_time\": \"2021-04-14T19:00:41.362206Z\", \"created_time\": \"2021-04-14T18:54:55.308777Z\", \"created_time_dt\": \"2021-04-14T18:54:55.308777Z\", \"duration\": \"0:05:46\", \"iteration\": \"2\", \"goal\": \"AUC_weighted_max\", \"run_name\": \"RobustScaler, ExtremeRandomTrees\", \"run_properties\": \"copy=True, quantile_range=[10, 90], with_centering=False,\\n             with_scaling=False\", \"primary_metric\": 0.93590041, \"best_metric\": 0.95107051}, {\"run_id\": \"AutoML_f79a4e5e-9017-454a-b0d8-e8793c5705d8_1\", \"run_number\": 8, \"metric\": null, \"status\": \"Completed\", \"run_type\": \"azureml.scriptrun\", \"training_percent\": \"100\", \"start_time\": \"2021-04-14T18:55:07.445644Z\", \"end_time\": \"2021-04-14T18:56:17.228183Z\", \"created_time\": \"2021-04-14T18:54:55.308303Z\", \"created_time_dt\": \"2021-04-14T18:54:55.308303Z\", \"duration\": \"0:01:21\", \"iteration\": \"1\", \"goal\": \"AUC_weighted_max\", \"run_name\": \"MinMaxScaler, RandomForest\", \"run_properties\": \"copy=True, feature_range=(0, 1\", \"primary_metric\": 0.95107051, \"best_metric\": 0.95107051}, {\"run_id\": \"AutoML_f79a4e5e-9017-454a-b0d8-e8793c5705d8_4\", \"run_number\": 9, \"metric\": null, \"status\": \"Completed\", \"run_type\": \"azureml.scriptrun\", \"training_percent\": \"100\", \"start_time\": \"2021-04-14T18:58:39.207973Z\", \"end_time\": \"2021-04-14T19:00:18.265123Z\", \"created_time\": \"2021-04-14T18:54:55.310054Z\", \"created_time_dt\": \"2021-04-14T18:54:55.310054Z\", \"duration\": \"0:05:22\", \"iteration\": \"4\", \"goal\": \"AUC_weighted_max\", \"run_name\": \"MinMaxScaler, RandomForest\", \"run_properties\": \"copy=True, feature_range=(0, 1\", \"primary_metric\": 0.9555653, \"best_metric\": 0.97312313}, {\"run_id\": \"AutoML_f79a4e5e-9017-454a-b0d8-e8793c5705d8_5\", \"run_number\": 10, \"metric\": null, \"status\": \"Completed\", \"run_type\": \"azureml.scriptrun\", \"training_percent\": \"100\", \"start_time\": \"2021-04-14T18:58:40.570002Z\", \"end_time\": \"2021-04-14T19:00:42.334423Z\", \"created_time\": \"2021-04-14T18:56:20.861592Z\", \"created_time_dt\": \"2021-04-14T18:56:20.861592Z\", \"duration\": \"0:04:21\", \"iteration\": \"5\", \"goal\": \"AUC_weighted_max\", \"run_name\": \"StandardScalerWrapper, RandomForest\", \"run_properties\": \"<azureml.automl.runtime.shared.model_wrappers.StandardScalerWrapper object at 0x7f254b6b15c0\", \"primary_metric\": 0.94885003, \"best_metric\": 0.97312313}, {\"run_id\": \"AutoML_f79a4e5e-9017-454a-b0d8-e8793c5705d8_6\", \"run_number\": 11, \"metric\": null, \"status\": \"Completed\", \"run_type\": \"azureml.scriptrun\", \"training_percent\": \"100\", \"start_time\": \"2021-04-14T18:58:35.652212Z\", \"end_time\": \"2021-04-14T19:00:12.409223Z\", \"created_time\": \"2021-04-14T18:57:40.294753Z\", \"created_time_dt\": \"2021-04-14T18:57:40.294753Z\", \"duration\": \"0:02:32\", \"iteration\": \"6\", \"goal\": \"AUC_weighted_max\", \"run_name\": \"MinMaxScaler, ExtremeRandomTrees\", \"run_properties\": \"copy=True, feature_range=(0, 1\", \"primary_metric\": 0.97101498, \"best_metric\": 0.97312313}, {\"run_id\": \"AutoML_f79a4e5e-9017-454a-b0d8-e8793c5705d8_7\", \"run_number\": 12, \"metric\": null, \"status\": \"Completed\", \"run_type\": \"azureml.scriptrun\", \"training_percent\": \"100\", \"start_time\": \"2021-04-14T18:59:00.965883Z\", \"end_time\": \"2021-04-14T18:59:56.099156Z\", \"created_time\": \"2021-04-14T18:58:49.7112Z\", \"created_time_dt\": \"2021-04-14T18:58:49.7112Z\", \"duration\": \"0:01:06\", \"iteration\": \"7\", \"goal\": \"AUC_weighted_max\", \"run_name\": \"MinMaxScaler, ExtremeRandomTrees\", \"run_properties\": \"copy=True, feature_range=(0, 1\", \"primary_metric\": 0.9549297, \"best_metric\": 0.97312313}, {\"run_id\": \"AutoML_f79a4e5e-9017-454a-b0d8-e8793c5705d8_8\", \"run_number\": 13, \"metric\": null, \"status\": \"Completed\", \"run_type\": \"azureml.scriptrun\", \"training_percent\": \"100\", \"start_time\": \"2021-04-14T19:00:13.174264Z\", \"end_time\": \"2021-04-14T19:01:00.069677Z\", \"created_time\": \"2021-04-14T18:59:59.445349Z\", \"created_time_dt\": \"2021-04-14T18:59:59.445349Z\", \"duration\": \"0:01:00\", \"iteration\": \"8\", \"goal\": \"AUC_weighted_max\", \"run_name\": \"MinMaxScaler, ExtremeRandomTrees\", \"run_properties\": \"copy=True, feature_range=(0, 1\", \"primary_metric\": 0.95426359, \"best_metric\": 0.97312313}, {\"run_id\": \"AutoML_f79a4e5e-9017-454a-b0d8-e8793c5705d8_9\", \"run_number\": 14, \"metric\": null, \"status\": \"Completed\", \"run_type\": \"azureml.scriptrun\", \"training_percent\": \"100\", \"start_time\": \"2021-04-14T19:00:26.289205Z\", \"end_time\": \"2021-04-14T19:01:14.519021Z\", \"created_time\": \"2021-04-14T19:00:15.983Z\", \"created_time_dt\": \"2021-04-14T19:00:15.983Z\", \"duration\": \"0:00:58\", \"iteration\": \"9\", \"goal\": \"AUC_weighted_max\", \"run_name\": \"RobustScaler, ExtremeRandomTrees\", \"run_properties\": \"copy=True, quantile_range=[10, 90], with_centering=True,\\n             with_scaling=False\", \"primary_metric\": 0.95249101, \"best_metric\": 0.97312313}, {\"run_id\": \"AutoML_f79a4e5e-9017-454a-b0d8-e8793c5705d8_10\", \"run_number\": 15, \"metric\": null, \"status\": \"Completed\", \"run_type\": \"azureml.scriptrun\", \"training_percent\": \"100\", \"start_time\": \"2021-04-14T19:00:33.65527Z\", \"end_time\": \"2021-04-14T19:02:02.523424Z\", \"created_time\": \"2021-04-14T19:00:21.299049Z\", \"created_time_dt\": \"2021-04-14T19:00:21.299049Z\", \"duration\": \"0:01:41\", \"iteration\": \"10\", \"goal\": \"AUC_weighted_max\", \"run_name\": \"StandardScalerWrapper, RandomForest\", \"run_properties\": \"<azureml.automl.runtime.shared.model_wrappers.StandardScalerWrapper object at 0x7fcd7afc7898\", \"primary_metric\": 0.96268684, \"best_metric\": 0.97312313}, {\"run_id\": \"AutoML_f79a4e5e-9017-454a-b0d8-e8793c5705d8_12\", \"run_number\": 16, \"metric\": null, \"status\": \"Completed\", \"run_type\": \"azureml.scriptrun\", \"training_percent\": \"100\", \"start_time\": \"2021-04-14T19:00:55.557322Z\", \"end_time\": \"2021-04-14T19:01:59.324145Z\", \"created_time\": \"2021-04-14T19:00:45.701641Z\", \"created_time_dt\": \"2021-04-14T19:00:45.701641Z\", \"duration\": \"0:01:13\", \"iteration\": \"12\", \"goal\": \"AUC_weighted_max\", \"run_name\": \"RobustScaler, RandomForest\", \"run_properties\": \"copy=True, quantile_range=[10, 90], with_centering=True,\\n             with_scaling=False\", \"primary_metric\": 0.97812827, \"best_metric\": 0.97812827}, {\"run_id\": \"AutoML_f79a4e5e-9017-454a-b0d8-e8793c5705d8_11\", \"run_number\": 17, \"metric\": null, \"status\": \"Completed\", \"run_type\": \"azureml.scriptrun\", \"training_percent\": \"100\", \"start_time\": \"2021-04-14T19:00:58.518036Z\", \"end_time\": \"2021-04-14T19:01:51.517819Z\", \"created_time\": \"2021-04-14T19:00:45.708868Z\", \"created_time_dt\": \"2021-04-14T19:00:45.708868Z\", \"duration\": \"0:01:05\", \"iteration\": \"11\", \"goal\": \"AUC_weighted_max\", \"run_name\": \"StandardScalerWrapper, SGD\", \"run_properties\": \"<azureml.automl.runtime.shared.model_wrappers.StandardScalerWrapper object at 0x7f146af2b048\", \"primary_metric\": 0.95526882, \"best_metric\": 0.97312313}, {\"run_id\": \"AutoML_f79a4e5e-9017-454a-b0d8-e8793c5705d8_13\", \"run_number\": 18, \"metric\": null, \"status\": \"Completed\", \"run_type\": \"azureml.scriptrun\", \"training_percent\": \"100\", \"start_time\": \"2021-04-14T19:01:17.575751Z\", \"end_time\": \"2021-04-14T19:02:19.835396Z\", \"created_time\": \"2021-04-14T19:01:02.805378Z\", \"created_time_dt\": \"2021-04-14T19:01:02.805378Z\", \"duration\": \"0:01:17\", \"iteration\": \"13\", \"goal\": \"AUC_weighted_max\", \"run_name\": \"MinMaxScaler, RandomForest\", \"run_properties\": \"copy=True, feature_range=(0, 1\", \"primary_metric\": 0.95740822, \"best_metric\": 0.97812827}, {\"run_id\": \"AutoML_f79a4e5e-9017-454a-b0d8-e8793c5705d8_14\", \"run_number\": 19, \"metric\": null, \"status\": \"Completed\", \"run_type\": \"azureml.scriptrun\", \"training_percent\": \"100\", \"start_time\": \"2021-04-14T19:01:29.966671Z\", \"end_time\": \"2021-04-14T19:02:25.332436Z\", \"created_time\": \"2021-04-14T19:01:17.591673Z\", \"created_time_dt\": \"2021-04-14T19:01:17.591673Z\", \"duration\": \"0:01:07\", \"iteration\": \"14\", \"goal\": \"AUC_weighted_max\", \"run_name\": \"MinMaxScaler, ExtremeRandomTrees\", \"run_properties\": \"copy=True, feature_range=(0, 1\", \"primary_metric\": 0.95199107, \"best_metric\": 0.97812827}, {\"run_id\": \"AutoML_f79a4e5e-9017-454a-b0d8-e8793c5705d8_15\", \"run_number\": 20, \"metric\": null, \"status\": \"Completed\", \"run_type\": \"azureml.scriptrun\", \"training_percent\": \"100\", \"start_time\": \"2021-04-14T19:02:07.746263Z\", \"end_time\": \"2021-04-14T19:03:06.849951Z\", \"created_time\": \"2021-04-14T19:01:54.408129Z\", \"created_time_dt\": \"2021-04-14T19:01:54.408129Z\", \"duration\": \"0:01:12\", \"iteration\": \"15\", \"goal\": \"AUC_weighted_max\", \"run_name\": \"MinMaxScaler, RandomForest\", \"run_properties\": \"copy=True, feature_range=(0, 1\", \"primary_metric\": 0.95216765, \"best_metric\": 0.97812827}, {\"run_id\": \"AutoML_f79a4e5e-9017-454a-b0d8-e8793c5705d8_16\", \"run_number\": 21, \"metric\": null, \"status\": \"Completed\", \"run_type\": \"azureml.scriptrun\", \"training_percent\": \"100\", \"start_time\": \"2021-04-14T19:02:15.382175Z\", \"end_time\": \"2021-04-14T19:03:07.721475Z\", \"created_time\": \"2021-04-14T19:02:02.322683Z\", \"created_time_dt\": \"2021-04-14T19:02:02.322683Z\", \"duration\": \"0:01:05\", \"iteration\": \"16\", \"goal\": \"AUC_weighted_max\", \"run_name\": \"MinMaxScaler, RandomForest\", \"run_properties\": \"copy=True, feature_range=(0, 1\", \"primary_metric\": 0.96223715, \"best_metric\": 0.97812827}, {\"run_id\": \"AutoML_f79a4e5e-9017-454a-b0d8-e8793c5705d8_17\", \"run_number\": 22, \"metric\": null, \"status\": \"Completed\", \"run_type\": \"azureml.scriptrun\", \"training_percent\": \"100\", \"start_time\": \"2021-04-14T19:02:16.421104Z\", \"end_time\": \"2021-04-14T19:03:19.029131Z\", \"created_time\": \"2021-04-14T19:02:07.416216Z\", \"created_time_dt\": \"2021-04-14T19:02:07.416216Z\", \"duration\": \"0:01:11\", \"iteration\": \"17\", \"goal\": \"AUC_weighted_max\", \"run_name\": \"MaxAbsScaler, RandomForest\", \"run_properties\": \"copy=True\", \"primary_metric\": 0.96839864, \"best_metric\": 0.97812827}, {\"run_id\": \"AutoML_f79a4e5e-9017-454a-b0d8-e8793c5705d8_18\", \"run_number\": 23, \"metric\": null, \"status\": \"Completed\", \"run_type\": \"azureml.scriptrun\", \"training_percent\": \"100\", \"start_time\": \"2021-04-14T19:02:34.344834Z\", \"end_time\": \"2021-04-14T19:03:26.087423Z\", \"created_time\": \"2021-04-14T19:02:24.176612Z\", \"created_time_dt\": \"2021-04-14T19:02:24.176612Z\", \"duration\": \"0:01:01\", \"iteration\": \"18\", \"goal\": \"AUC_weighted_max\", \"run_name\": \"MaxAbsScaler, RandomForest\", \"run_properties\": \"copy=True\", \"primary_metric\": 0.9651022, \"best_metric\": 0.97812827}, {\"run_id\": \"AutoML_f79a4e5e-9017-454a-b0d8-e8793c5705d8_19\", \"run_number\": 24, \"metric\": null, \"status\": \"Completed\", \"run_type\": \"azureml.scriptrun\", \"training_percent\": \"100\", \"start_time\": \"2021-04-14T19:02:37.971139Z\", \"end_time\": \"2021-04-14T19:03:34.540748Z\", \"created_time\": \"2021-04-14T19:02:29.69357Z\", \"created_time_dt\": \"2021-04-14T19:02:29.69357Z\", \"duration\": \"0:01:04\", \"iteration\": \"19\", \"goal\": \"AUC_weighted_max\", \"run_name\": \"StandardScalerWrapper, ExtremeRandomTrees\", \"run_properties\": \"<azureml.automl.runtime.shared.model_wrappers.StandardScalerWrapper object at 0x7f4777c86940\", \"primary_metric\": 0.94875169, \"best_metric\": 0.97812827}, {\"run_id\": \"AutoML_f79a4e5e-9017-454a-b0d8-e8793c5705d8_20\", \"run_number\": 25, \"metric\": null, \"status\": \"Completed\", \"run_type\": \"azureml.scriptrun\", \"training_percent\": \"100\", \"start_time\": \"2021-04-14T19:03:22.443864Z\", \"end_time\": \"2021-04-14T19:04:15.229149Z\", \"created_time\": \"2021-04-14T19:03:09.570193Z\", \"created_time_dt\": \"2021-04-14T19:03:09.570193Z\", \"duration\": \"0:01:05\", \"iteration\": \"20\", \"goal\": \"AUC_weighted_max\", \"run_name\": \"MaxAbsScaler, ExtremeRandomTrees\", \"run_properties\": \"copy=True\", \"primary_metric\": 0.95447642, \"best_metric\": 0.97812827}, {\"run_id\": \"AutoML_f79a4e5e-9017-454a-b0d8-e8793c5705d8_21\", \"run_number\": 26, \"metric\": null, \"status\": \"Completed\", \"run_type\": \"azureml.scriptrun\", \"training_percent\": \"100\", \"start_time\": \"2021-04-14T19:03:24.863522Z\", \"end_time\": \"2021-04-14T19:04:17.613243Z\", \"created_time\": \"2021-04-14T19:03:14.495725Z\", \"created_time_dt\": \"2021-04-14T19:03:14.495725Z\", \"duration\": \"0:01:03\", \"iteration\": \"21\", \"goal\": \"AUC_weighted_max\", \"run_name\": \"MaxAbsScaler, ExtremeRandomTrees\", \"run_properties\": \"copy=True\", \"primary_metric\": 0.94521479, \"best_metric\": 0.97812827}, {\"run_id\": \"AutoML_f79a4e5e-9017-454a-b0d8-e8793c5705d8_22\", \"run_number\": 27, \"metric\": null, \"status\": \"Completed\", \"run_type\": \"azureml.scriptrun\", \"training_percent\": \"100\", \"start_time\": \"2021-04-14T19:03:37.05758Z\", \"end_time\": \"2021-04-14T19:04:42.888825Z\", \"created_time\": \"2021-04-14T19:03:22.502365Z\", \"created_time_dt\": \"2021-04-14T19:03:22.502365Z\", \"duration\": \"0:01:20\", \"iteration\": \"22\", \"goal\": \"AUC_weighted_max\", \"run_name\": \"MaxAbsScaler, RandomForest\", \"run_properties\": \"copy=True\", \"primary_metric\": 0.97266769, \"best_metric\": 0.97812827}, {\"run_id\": \"AutoML_f79a4e5e-9017-454a-b0d8-e8793c5705d8_23\", \"run_number\": 28, \"metric\": null, \"status\": \"Canceled\", \"run_type\": \"azureml.scriptrun\", \"training_percent\": \"100\", \"start_time\": \"2021-04-14T19:03:42.161979Z\", \"end_time\": \"2021-04-14T19:12:53.25484Z\", \"created_time\": \"2021-04-14T19:03:29.385422Z\", \"created_time_dt\": \"2021-04-14T19:03:29.385422Z\", \"duration\": \"0:09:23\", \"iteration\": \"23\", \"goal\": null, \"run_name\": \"StandardScalerWrapper, GradientBoosting\", \"run_properties\": null}, {\"run_id\": \"AutoML_f79a4e5e-9017-454a-b0d8-e8793c5705d8_24\", \"run_number\": 29, \"metric\": null, \"status\": \"Completed\", \"run_type\": \"azureml.scriptrun\", \"training_percent\": \"100\", \"start_time\": \"2021-04-14T19:03:51.74508Z\", \"end_time\": \"2021-04-14T19:12:31.75637Z\", \"created_time\": \"2021-04-14T19:03:37.228132Z\", \"created_time_dt\": \"2021-04-14T19:03:37.228132Z\", \"duration\": \"0:08:54\", \"iteration\": \"24\", \"goal\": \"AUC_weighted_max\", \"run_name\": \"StandardScalerWrapper, GradientBoosting\", \"run_properties\": \"<azureml.automl.runtime.shared.model_wrappers.StandardScalerWrapper object at 0x7fdd1cf33710\", \"primary_metric\": 0.97415531, \"best_metric\": 0.97812827}, {\"run_id\": \"AutoML_f79a4e5e-9017-454a-b0d8-e8793c5705d8_25\", \"run_number\": 30, \"metric\": null, \"status\": \"Completed\", \"run_type\": \"azureml.scriptrun\", \"training_percent\": \"100\", \"start_time\": \"2021-04-14T19:04:30.436537Z\", \"end_time\": \"2021-04-14T19:11:23.932995Z\", \"created_time\": \"2021-04-14T19:04:18.280648Z\", \"created_time_dt\": \"2021-04-14T19:04:18.280648Z\", \"duration\": \"0:07:05\", \"iteration\": \"25\", \"goal\": \"AUC_weighted_max\", \"run_name\": \"SparseNormalizer, RandomForest\", \"run_properties\": \"<azureml.automl.runtime.shared.model_wrappers.SparseNormalizer object at 0x7f67c38b2d30\", \"primary_metric\": 0.67216373, \"best_metric\": 0.97812827}, {\"run_id\": \"AutoML_f79a4e5e-9017-454a-b0d8-e8793c5705d8_26\", \"run_number\": 31, \"metric\": null, \"status\": \"Completed\", \"run_type\": \"azureml.scriptrun\", \"training_percent\": \"100\", \"start_time\": \"2021-04-14T19:04:33.406509Z\", \"end_time\": \"2021-04-14T19:05:50.021728Z\", \"created_time\": \"2021-04-14T19:04:22.286567Z\", \"created_time_dt\": \"2021-04-14T19:04:22.286567Z\", \"duration\": \"0:01:27\", \"iteration\": \"26\", \"goal\": \"AUC_weighted_max\", \"run_name\": \"StandardScalerWrapper, LogisticRegression\", \"run_properties\": \"<azureml.automl.runtime.shared.model_wrappers.StandardScalerWrapper object at 0x7f2980d69ef0\", \"primary_metric\": 0.97040016, \"best_metric\": 0.97812827}, {\"run_id\": \"AutoML_f79a4e5e-9017-454a-b0d8-e8793c5705d8_27\", \"run_number\": 32, \"metric\": null, \"status\": \"Completed\", \"run_type\": \"azureml.scriptrun\", \"training_percent\": \"100\", \"start_time\": \"2021-04-14T19:04:59.202951Z\", \"end_time\": \"2021-04-14T19:06:13.95233Z\", \"created_time\": \"2021-04-14T19:04:46.266733Z\", \"created_time_dt\": \"2021-04-14T19:04:46.266733Z\", \"duration\": \"0:01:27\", \"iteration\": \"27\", \"goal\": \"AUC_weighted_max\", \"run_name\": \"MinMaxScaler, LogisticRegression\", \"run_properties\": \"copy=True, feature_range=(0, 1\", \"primary_metric\": 0.5, \"best_metric\": 0.97812827}, {\"run_id\": \"AutoML_f79a4e5e-9017-454a-b0d8-e8793c5705d8_28\", \"run_number\": 33, \"metric\": null, \"status\": \"Completed\", \"run_type\": \"azureml.scriptrun\", \"training_percent\": \"100\", \"start_time\": \"2021-04-14T19:06:07.983492Z\", \"end_time\": \"2021-04-14T19:07:04.757944Z\", \"created_time\": \"2021-04-14T19:05:52.928831Z\", \"created_time_dt\": \"2021-04-14T19:05:52.928831Z\", \"duration\": \"0:01:11\", \"iteration\": \"28\", \"goal\": \"AUC_weighted_max\", \"run_name\": \"StandardScalerWrapper, LightGBM\", \"run_properties\": \"<azureml.automl.runtime.shared.model_wrappers.StandardScalerWrapper object at 0x7ff9b8cb5a20\", \"primary_metric\": 0.9776897, \"best_metric\": 0.97812827}, {\"run_id\": \"AutoML_f79a4e5e-9017-454a-b0d8-e8793c5705d8_29\", \"run_number\": 34, \"metric\": null, \"status\": \"Completed\", \"run_type\": \"azureml.scriptrun\", \"training_percent\": \"100\", \"start_time\": \"2021-04-14T19:06:25.311149Z\", \"end_time\": \"2021-04-14T19:07:37.509833Z\", \"created_time\": \"2021-04-14T19:06:16.557254Z\", \"created_time_dt\": \"2021-04-14T19:06:16.557254Z\", \"duration\": \"0:01:20\", \"iteration\": \"29\", \"goal\": \"AUC_weighted_max\", \"run_name\": \"StandardScalerWrapper, LogisticRegression\", \"run_properties\": \"<azureml.automl.runtime.shared.model_wrappers.StandardScalerWrapper object at 0x7fe54ceb5c88\", \"primary_metric\": 0.96123655, \"best_metric\": 0.97812827}, {\"run_id\": \"AutoML_f79a4e5e-9017-454a-b0d8-e8793c5705d8_30\", \"run_number\": 35, \"metric\": null, \"status\": \"Canceled\", \"run_type\": \"azureml.scriptrun\", \"training_percent\": \"100\", \"start_time\": \"2021-04-14T19:07:18.943042Z\", \"end_time\": \"2021-04-14T19:12:53.386284Z\", \"created_time\": \"2021-04-14T19:07:08.01524Z\", \"created_time_dt\": \"2021-04-14T19:07:08.01524Z\", \"duration\": \"0:05:45\", \"iteration\": \"30\", \"goal\": \"AUC_weighted_max\", \"run_name\": \"StandardScalerWrapper, RandomForest\", \"run_properties\": \"<azureml.automl.runtime.shared.model_wrappers.StandardScalerWrapper object at 0x7efcbc206048\", \"primary_metric\": 0.96892945, \"best_metric\": 0.97812827}, {\"run_id\": \"AutoML_f79a4e5e-9017-454a-b0d8-e8793c5705d8_31\", \"run_number\": 36, \"metric\": null, \"status\": \"Completed\", \"run_type\": \"azureml.scriptrun\", \"training_percent\": \"100\", \"start_time\": \"2021-04-14T19:07:53.829988Z\", \"end_time\": \"2021-04-14T19:08:43.03243Z\", \"created_time\": \"2021-04-14T19:07:40.076903Z\", \"created_time_dt\": \"2021-04-14T19:07:40.076903Z\", \"duration\": \"0:01:02\", \"iteration\": \"31\", \"goal\": \"AUC_weighted_max\", \"run_name\": \"SparseNormalizer, LightGBM\", \"run_properties\": \"<azureml.automl.runtime.shared.model_wrappers.SparseNormalizer object at 0x7f3d466f0898\", \"primary_metric\": 0.97465417, \"best_metric\": 0.97812827}, {\"run_id\": \"AutoML_f79a4e5e-9017-454a-b0d8-e8793c5705d8_32\", \"run_number\": 37, \"metric\": null, \"status\": \"Completed\", \"run_type\": \"azureml.scriptrun\", \"training_percent\": \"100\", \"start_time\": \"2021-04-14T19:08:57.974574Z\", \"end_time\": \"2021-04-14T19:09:49.321923Z\", \"created_time\": \"2021-04-14T19:08:45.856689Z\", \"created_time_dt\": \"2021-04-14T19:08:45.856689Z\", \"duration\": \"0:01:03\", \"iteration\": \"32\", \"goal\": \"AUC_weighted_max\", \"run_name\": \"RobustScaler, LightGBM\", \"run_properties\": \"copy=True, quantile_range=[25, 75], with_centering=True,\\n             with_scaling=False\", \"primary_metric\": 0.96480826, \"best_metric\": 0.97812827}, {\"run_id\": \"AutoML_f79a4e5e-9017-454a-b0d8-e8793c5705d8_33\", \"run_number\": 38, \"metric\": null, \"status\": \"Completed\", \"run_type\": \"azureml.scriptrun\", \"training_percent\": \"100\", \"start_time\": \"2021-04-14T19:10:06.921176Z\", \"end_time\": \"2021-04-14T19:11:05.723834Z\", \"created_time\": \"2021-04-14T19:09:52.861861Z\", \"created_time_dt\": \"2021-04-14T19:09:52.861861Z\", \"duration\": \"0:01:12\", \"iteration\": \"33\", \"goal\": \"AUC_weighted_max\", \"run_name\": \"MaxAbsScaler, ExtremeRandomTrees\", \"run_properties\": \"copy=True\", \"primary_metric\": 0.94383233, \"best_metric\": 0.97812827}, {\"run_id\": \"AutoML_f79a4e5e-9017-454a-b0d8-e8793c5705d8_34\", \"run_number\": 39, \"metric\": null, \"status\": \"Completed\", \"run_type\": \"azureml.scriptrun\", \"training_percent\": \"100\", \"start_time\": \"2021-04-14T19:11:50.132747Z\", \"end_time\": \"2021-04-14T19:12:46.055489Z\", \"created_time\": \"2021-04-14T19:11:08.754626Z\", \"created_time_dt\": \"2021-04-14T19:11:08.754626Z\", \"duration\": \"0:01:37\", \"iteration\": \"34\", \"goal\": \"AUC_weighted_max\", \"run_name\": \"StandardScalerWrapper, LightGBM\", \"run_properties\": \"<azureml.automl.runtime.shared.model_wrappers.StandardScalerWrapper object at 0x7ff159a645c0\", \"primary_metric\": 0.97126118, \"best_metric\": 0.97812827}, {\"run_id\": \"AutoML_f79a4e5e-9017-454a-b0d8-e8793c5705d8_35\", \"run_number\": 40, \"metric\": null, \"status\": \"Completed\", \"run_type\": \"azureml.scriptrun\", \"training_percent\": \"100\", \"start_time\": \"2021-04-14T19:11:52.36303Z\", \"end_time\": \"2021-04-14T19:12:40.250505Z\", \"created_time\": \"2021-04-14T19:11:37.185113Z\", \"created_time_dt\": \"2021-04-14T19:11:37.185113Z\", \"duration\": \"0:01:03\", \"iteration\": \"35\", \"goal\": \"AUC_weighted_max\", \"run_name\": \"TruncatedSVDWrapper, RandomForest\", \"run_properties\": \"n_components=0.8015789473684211, random_state=None\", \"primary_metric\": 0.9724301, \"best_metric\": 0.97812827}, {\"run_id\": \"AutoML_f79a4e5e-9017-454a-b0d8-e8793c5705d8_36\", \"run_number\": 41, \"metric\": null, \"status\": \"Canceled\", \"run_type\": \"azureml.scriptrun\", \"training_percent\": \"100\", \"start_time\": \"2021-04-14T19:12:47.75026Z\", \"end_time\": \"2021-04-14T19:12:54.269883Z\", \"created_time\": \"2021-04-14T19:12:34.059711Z\", \"created_time_dt\": \"2021-04-14T19:12:34.059711Z\", \"duration\": \"0:00:20\", \"iteration\": \"36\", \"goal\": null, \"run_name\": \"Canceled\", \"run_properties\": null}, {\"run_id\": \"AutoML_f79a4e5e-9017-454a-b0d8-e8793c5705d8_37\", \"run_number\": 42, \"metric\": null, \"status\": \"Canceled\", \"run_type\": \"azureml.scriptrun\", \"training_percent\": \"100\", \"start_time\": \"2021-04-14T19:12:42.713627Z\", \"end_time\": \"2021-04-14T19:12:58.09377Z\", \"created_time\": \"2021-04-14T19:12:42.713627Z\", \"created_time_dt\": \"2021-04-14T19:12:42.713627Z\", \"duration\": \"0:00:15\", \"iteration\": \"37\", \"goal\": null, \"run_name\": \"Canceled\", \"run_properties\": null}, {\"run_id\": \"AutoML_f79a4e5e-9017-454a-b0d8-e8793c5705d8_38\", \"run_number\": 43, \"metric\": null, \"status\": \"Completed\", \"run_type\": \"azureml.scriptrun\", \"training_percent\": \"100\", \"start_time\": \"2021-04-14T19:13:11.740439Z\", \"end_time\": \"2021-04-14T19:14:29.942673Z\", \"created_time\": \"2021-04-14T19:13:00.454454Z\", \"created_time_dt\": \"2021-04-14T19:13:00.454454Z\", \"duration\": \"0:01:29\", \"iteration\": \"38\", \"goal\": \"AUC_weighted_max\", \"run_name\": \"VotingEnsemble\", \"run_properties\": \"classification_labels=None,\\n                              estimators=[('12',\\n                                           Pipeline(memory=None,\\n                                                    steps=[('robustscaler',\\n                                                            RobustScaler(copy=True,\\n                                                                         quantile_range=[10,\\n                                                                                         90],\\n                                                                         with_centering=True,\\n                                                                         with_scaling=False\", \"primary_metric\": 0.9805465, \"best_metric\": 0.9805465}, {\"run_id\": \"AutoML_f79a4e5e-9017-454a-b0d8-e8793c5705d8_39\", \"run_number\": 44, \"metric\": null, \"status\": \"Completed\", \"run_type\": \"azureml.scriptrun\", \"training_percent\": \"100\", \"start_time\": \"2021-04-14T19:13:11.00293Z\", \"end_time\": \"2021-04-14T19:21:07.730207Z\", \"created_time\": \"2021-04-14T19:13:00.519364Z\", \"created_time_dt\": \"2021-04-14T19:13:00.519364Z\", \"duration\": \"0:08:07\", \"iteration\": \"39\", \"goal\": \"AUC_weighted_max\", \"run_name\": \"StackEnsemble\", \"run_properties\": \"base_learners=[('12',\\n                                        Pipeline(memory=None,\\n                                                 steps=[('robustscaler',\\n                                                         RobustScaler(copy=True,\\n                                                                      quantile_range=[10,\\n                                                                                      90],\\n                                                                      with_centering=True,\\n                                                                      with_scaling=False\", \"primary_metric\": 0.97927816, \"best_metric\": 0.9805465}], \"children_metrics\": {\"categories\": [0], \"series\": {\"weighted_accuracy\": [{\"categories\": [\"0\", \"1\", \"2\", \"3\", \"4\", \"5\", \"6\", \"7\", \"8\", \"9\", \"10\", \"11\", \"12\", \"13\", \"14\", \"15\", \"16\", \"17\", \"18\", \"19\", \"20\", \"21\", \"22\", \"24\", \"25\", \"26\", \"27\", \"28\", \"29\", \"30\", \"31\", \"32\", \"33\", \"34\", \"35\", \"38\", \"39\"], \"mode\": \"markers\", \"name\": \"weighted_accuracy\", \"stepped\": false, \"type\": \"scatter\", \"data\": [0.999718142815141, 0.9300084066174115, 0.9904680296027484, 0.9262449919578456, 0.9647578813468561, 0.9748168792061888, 0.9778768632032152, 0.980584950024031, 0.9646171345993679, 0.9806201821721383, 0.33188155672011216, 0.9315559540749982, 0.7137036597314985, 0.9722140039098518, 2.9701340404421287e-06, 0.30641736673618725, 0.1427642230964043, 7.331320029437848e-05, 0.980514728187738, 0.9594469192297037, 0.0014450029922461374, 2.9701340404421287e-06, 0.02655747764490142, 0.9711590397609839, 2.9701340404421287e-06, 0.5443527277251465, 2.9701340404421287e-06, 0.9875489741981509, 0.46982418841412066, 0.15697352247969945, 0.9785450617176472, 0.9495637790360059, 0.9820271041121975, 0.9633861915549045, 2.9701340404421287e-06, 0.920582435739384, 0.9610648703685246]}, {\"categories\": [\"0\", \"1\", \"2\", \"3\", \"4\", \"5\", \"6\", \"7\", \"8\", \"9\", \"10\", \"11\", \"12\", \"13\", \"14\", \"15\", \"16\", \"17\", \"18\", \"19\", \"20\", \"21\", \"22\", \"24\", \"25\", \"26\", \"27\", \"28\", \"29\", \"30\", \"31\", \"32\", \"33\", \"34\", \"35\", \"38\", \"39\"], \"mode\": \"lines\", \"name\": \"weighted_accuracy_max\", \"stepped\": true, \"type\": \"scatter\", \"data\": [0.999718142815141, 0.999718142815141, 0.999718142815141, 0.999718142815141, 0.999718142815141, 0.999718142815141, 0.999718142815141, 0.999718142815141, 0.999718142815141, 0.999718142815141, 0.999718142815141, 0.999718142815141, 0.999718142815141, 0.999718142815141, 0.999718142815141, 0.999718142815141, 0.999718142815141, 0.999718142815141, 0.999718142815141, 0.999718142815141, 0.999718142815141, 0.999718142815141, 0.999718142815141, 0.999718142815141, 0.999718142815141, 0.999718142815141, 0.999718142815141, 0.999718142815141, 0.999718142815141, 0.999718142815141, 0.999718142815141, 0.999718142815141, 0.999718142815141, 0.999718142815141, 0.999718142815141, 0.999718142815141, 0.999718142815141]}], \"recall_score_micro\": [{\"categories\": [\"0\", \"1\", \"2\", \"3\", \"4\", \"5\", \"6\", \"7\", \"8\", \"9\", \"10\", \"11\", \"12\", \"13\", \"14\", \"15\", \"16\", \"17\", \"18\", \"19\", \"20\", \"21\", \"22\", \"24\", \"25\", \"26\", \"27\", \"28\", \"29\", \"30\", \"31\", \"32\", \"33\", \"34\", \"35\", \"38\", \"39\"], \"mode\": \"markers\", \"name\": \"recall_score_micro\", \"stepped\": false, \"type\": \"scatter\", \"data\": [0.9994382219725431, 0.9299884133281837, 0.9902039956462203, 0.9261964116428496, 0.9646782065236473, 0.9746848776377234, 0.9777746567887363, 0.9804079912924406, 0.964502650890067, 0.9804782135458727, 0.3330290369017942, 0.9315333029036902, 0.7141603174045855, 0.9719813208805871, 0.0017204452090867595, 0.3076085811593694, 0.14423650854955936, 0.0017906674625188723, 0.9804079912924406, 0.9593413152628067, 0.0031600014044450685, 0.0017204452090867595, 0.02822934587970928, 0.9710333204592535, 0.0017204452090867595, 0.5451002422667743, 0.0017204452090867595, 0.9873951055089358, 0.47066465362873494, 0.1584214037428461, 0.9784066570696254, 0.949510199782311, 0.981917769741231, 0.9633088725817212, 0.0017204452090867595, 0.9205786313682806, 0.9609915382184614]}, {\"categories\": [\"0\", \"1\", \"2\", \"3\", \"4\", \"5\", \"6\", \"7\", \"8\", \"9\", \"10\", \"11\", \"12\", \"13\", \"14\", \"15\", \"16\", \"17\", \"18\", \"19\", \"20\", \"21\", \"22\", \"24\", \"25\", \"26\", \"27\", \"28\", \"29\", \"30\", \"31\", \"32\", \"33\", \"34\", \"35\", \"38\", \"39\"], \"mode\": \"lines\", \"name\": \"recall_score_micro_max\", \"stepped\": true, \"type\": \"scatter\", \"data\": [0.9994382219725431, 0.9994382219725431, 0.9994382219725431, 0.9994382219725431, 0.9994382219725431, 0.9994382219725431, 0.9994382219725431, 0.9994382219725431, 0.9994382219725431, 0.9994382219725431, 0.9994382219725431, 0.9994382219725431, 0.9994382219725431, 0.9994382219725431, 0.9994382219725431, 0.9994382219725431, 0.9994382219725431, 0.9994382219725431, 0.9994382219725431, 0.9994382219725431, 0.9994382219725431, 0.9994382219725431, 0.9994382219725431, 0.9994382219725431, 0.9994382219725431, 0.9994382219725431, 0.9994382219725431, 0.9994382219725431, 0.9994382219725431, 0.9994382219725431, 0.9994382219725431, 0.9994382219725431, 0.9994382219725431, 0.9994382219725431, 0.9994382219725431, 0.9994382219725431, 0.9994382219725431]}], \"average_precision_score_macro\": [{\"categories\": [\"0\", \"1\", \"2\", \"3\", \"4\", \"5\", \"6\", \"7\", \"8\", \"9\", \"10\", \"11\", \"12\", \"13\", \"14\", \"15\", \"16\", \"17\", \"18\", \"19\", \"20\", \"21\", \"22\", \"24\", \"25\", \"26\", \"27\", \"28\", \"29\", \"30\", \"31\", \"32\", \"33\", \"34\", \"35\", \"38\", \"39\"], \"mode\": \"markers\", \"name\": \"average_precision_score_macro\", \"stepped\": false, \"type\": \"scatter\", \"data\": [0.9230587466456577, 0.8525482162932425, 0.8445515376229751, 0.8697228525052583, 0.8531550229331062, 0.8457979232699206, 0.829341060489911, 0.8461930512435318, 0.7268746686132358, 0.8728609792255236, 0.8759395669620929, 0.5220562822708346, 0.8310214440391742, 0.8480063615872699, 0.7983360072850666, 0.8178708254153828, 0.8076882715789142, 0.8253178193306294, 0.8568078441794388, 0.7959089154217651, 0.7854591399797419, 0.7800663495643037, 0.8109491211761606, 0.864555776178177, 0.5008786020190752, 0.5021140778642625, 0.5, 0.8721011394112672, 0.7615035057788444, 0.8171608969013475, 0.825196633890315, 0.7606774123574138, 0.8127173371627503, 0.8057903813649245, 0.8185107291076744, 0.9272379012533563, 0.9291378222279698]}, {\"categories\": [\"0\", \"1\", \"2\", \"3\", \"4\", \"5\", \"6\", \"7\", \"8\", \"9\", \"10\", \"11\", \"12\", \"13\", \"14\", \"15\", \"16\", \"17\", \"18\", \"19\", \"20\", \"21\", \"22\", \"24\", \"25\", \"26\", \"27\", \"28\", \"29\", \"30\", \"31\", \"32\", \"33\", \"34\", \"35\", \"38\", \"39\"], \"mode\": \"lines\", \"name\": \"average_precision_score_macro_max\", \"stepped\": true, \"type\": \"scatter\", \"data\": [0.9230587466456577, 0.9230587466456577, 0.9230587466456577, 0.9230587466456577, 0.9230587466456577, 0.9230587466456577, 0.9230587466456577, 0.9230587466456577, 0.9230587466456577, 0.9230587466456577, 0.9230587466456577, 0.9230587466456577, 0.9230587466456577, 0.9230587466456577, 0.9230587466456577, 0.9230587466456577, 0.9230587466456577, 0.9230587466456577, 0.9230587466456577, 0.9230587466456577, 0.9230587466456577, 0.9230587466456577, 0.9230587466456577, 0.9230587466456577, 0.9230587466456577, 0.9230587466456577, 0.9230587466456577, 0.9230587466456577, 0.9230587466456577, 0.9230587466456577, 0.9230587466456577, 0.9230587466456577, 0.9230587466456577, 0.9230587466456577, 0.9230587466456577, 0.9272379012533563, 0.9291378222279698]}], \"AUC_macro\": [{\"categories\": [\"0\", \"1\", \"2\", \"3\", \"4\", \"5\", \"6\", \"7\", \"8\", \"9\", \"10\", \"11\", \"12\", \"13\", \"14\", \"15\", \"16\", \"17\", \"18\", \"19\", \"20\", \"21\", \"22\", \"24\", \"25\", \"26\", \"27\", \"28\", \"29\", \"30\", \"31\", \"32\", \"33\", \"34\", \"35\", \"38\", \"39\"], \"mode\": \"markers\", \"name\": \"AUC_macro\", \"stepped\": false, \"type\": \"scatter\", \"data\": [0.9251518840513133, 0.95107050980212, 0.9359004082781115, 0.9731231265719569, 0.9555653015286025, 0.9488509282441171, 0.9710149816820368, 0.9549296997921284, 0.9542635920434577, 0.9524910132877011, 0.962686840352348, 0.9613926676466873, 0.9781282659377764, 0.9574082235595419, 0.951991073581937, 0.9521676495584165, 0.9622371458431431, 0.9683986425183466, 0.9651021987298014, 0.9487516939809126, 0.954476416340312, 0.9452147910374054, 0.9726676897545737, 0.9741553064669874, 0.672163730433085, 0.8848448284772548, 0.5, 0.9776896971506668, 0.9612365486430927, 0.9689294471305685, 0.9746541694899682, 0.96480826432993, 0.9438323303435048, 0.971261183145177, 0.9724301017537009, 0.9805464954693188, 0.9792781631504599]}, {\"categories\": [\"0\", \"1\", \"2\", \"3\", \"4\", \"5\", \"6\", \"7\", \"8\", \"9\", \"10\", \"11\", \"12\", \"13\", \"14\", \"15\", \"16\", \"17\", \"18\", \"19\", \"20\", \"21\", \"22\", \"24\", \"25\", \"26\", \"27\", \"28\", \"29\", \"30\", \"31\", \"32\", \"33\", \"34\", \"35\", \"38\", \"39\"], \"mode\": \"lines\", \"name\": \"AUC_macro_max\", \"stepped\": true, \"type\": \"scatter\", \"data\": [0.9251518840513133, 0.95107050980212, 0.95107050980212, 0.9731231265719569, 0.9731231265719569, 0.9731231265719569, 0.9731231265719569, 0.9731231265719569, 0.9731231265719569, 0.9731231265719569, 0.9731231265719569, 0.9731231265719569, 0.9781282659377764, 0.9781282659377764, 0.9781282659377764, 0.9781282659377764, 0.9781282659377764, 0.9781282659377764, 0.9781282659377764, 0.9781282659377764, 0.9781282659377764, 0.9781282659377764, 0.9781282659377764, 0.9781282659377764, 0.9781282659377764, 0.9781282659377764, 0.9781282659377764, 0.9781282659377764, 0.9781282659377764, 0.9781282659377764, 0.9781282659377764, 0.9781282659377764, 0.9781282659377764, 0.9781282659377764, 0.9781282659377764, 0.9805464954693188, 0.9805464954693188]}], \"AUC_weighted\": [{\"categories\": [\"0\", \"1\", \"2\", \"3\", \"4\", \"5\", \"6\", \"7\", \"8\", \"9\", \"10\", \"11\", \"12\", \"13\", \"14\", \"15\", \"16\", \"17\", \"18\", \"19\", \"20\", \"21\", \"22\", \"24\", \"25\", \"26\", \"27\", \"28\", \"29\", \"30\", \"31\", \"32\", \"33\", \"34\", \"35\", \"38\", \"39\"], \"mode\": \"markers\", \"name\": \"AUC_weighted\", \"stepped\": false, \"type\": \"scatter\", \"data\": [0.9251518840513135, 0.95107050980212, 0.9359004082781115, 0.9731231265719569, 0.9555653015286025, 0.9488500340957539, 0.9710149816820368, 0.9549296997921284, 0.9542635920434578, 0.952491013287701, 0.9626868403523481, 0.9552688243362395, 0.9781282659377762, 0.9574082235595419, 0.951991073581937, 0.9521676495584165, 0.9622371458431429, 0.9683986425183466, 0.9651021987298014, 0.9487516939809125, 0.9544764163403119, 0.9452147910374055, 0.9726676897545737, 0.9741553064669874, 0.672163730433085, 0.9704001628102136, 0.5, 0.9776896971506668, 0.9612365486430926, 0.9689294471305685, 0.9746541694899681, 0.96480826432993, 0.9438323303435048, 0.971261183145177, 0.9724301017537008, 0.9805464954693188, 0.9792781631504598]}, {\"categories\": [\"0\", \"1\", \"2\", \"3\", \"4\", \"5\", \"6\", \"7\", \"8\", \"9\", \"10\", \"11\", \"12\", \"13\", \"14\", \"15\", \"16\", \"17\", \"18\", \"19\", \"20\", \"21\", \"22\", \"24\", \"25\", \"26\", \"27\", \"28\", \"29\", \"30\", \"31\", \"32\", \"33\", \"34\", \"35\", \"38\", \"39\"], \"mode\": \"lines\", \"name\": \"AUC_weighted_max\", \"stepped\": true, \"type\": \"scatter\", \"data\": [0.9251518840513135, 0.95107050980212, 0.95107050980212, 0.9731231265719569, 0.9731231265719569, 0.9731231265719569, 0.9731231265719569, 0.9731231265719569, 0.9731231265719569, 0.9731231265719569, 0.9731231265719569, 0.9731231265719569, 0.9781282659377762, 0.9781282659377762, 0.9781282659377762, 0.9781282659377762, 0.9781282659377762, 0.9781282659377762, 0.9781282659377762, 0.9781282659377762, 0.9781282659377762, 0.9781282659377762, 0.9781282659377762, 0.9781282659377762, 0.9781282659377762, 0.9781282659377762, 0.9781282659377762, 0.9781282659377762, 0.9781282659377762, 0.9781282659377762, 0.9781282659377762, 0.9781282659377762, 0.9781282659377762, 0.9781282659377762, 0.9781282659377762, 0.9805464954693188, 0.9805464954693188]}], \"balanced_accuracy\": [{\"categories\": [\"0\", \"1\", \"2\", \"3\", \"4\", \"5\", \"6\", \"7\", \"8\", \"9\", \"10\", \"11\", \"12\", \"13\", \"14\", \"15\", \"16\", \"17\", \"18\", \"19\", \"20\", \"21\", \"22\", \"24\", \"25\", \"26\", \"27\", \"28\", \"29\", \"30\", \"31\", \"32\", \"33\", \"34\", \"35\", \"38\", \"39\"], \"mode\": \"markers\", \"name\": \"balanced_accuracy\", \"stepped\": false, \"type\": \"scatter\", \"data\": [0.9182266603884097, 0.9241878940658987, 0.9136015900451346, 0.9121021298221033, 0.9415626830360733, 0.9363881455789969, 0.948122193446878, 0.9290681382288424, 0.9312882581282372, 0.9392898056802912, 0.6659397861564434, 0.9249616700929106, 0.8466473533701606, 0.9044745500901543, 0.5, 0.65320765334834, 0.5713808384918402, 0.5000351716375915, 0.9494411298565572, 0.9287031427652659, 0.5007210185706247, 0.5, 0.513277293190771, 0.9345592204242417, 0.5, 0.7619716358687538, 0.5, 0.9427542119830488, 0.7145032042079634, 0.5784855092853123, 0.9382522423713435, 0.9339656093163208, 0.9501973200647733, 0.94087683610304, 0.5, 0.919474894628645, 0.9397161720625222]}, {\"categories\": [\"0\", \"1\", \"2\", \"3\", \"4\", \"5\", \"6\", \"7\", \"8\", \"9\", \"10\", \"11\", \"12\", \"13\", \"14\", \"15\", \"16\", \"17\", \"18\", \"19\", \"20\", \"21\", \"22\", \"24\", \"25\", \"26\", \"27\", \"28\", \"29\", \"30\", \"31\", \"32\", \"33\", \"34\", \"35\", \"38\", \"39\"], \"mode\": \"lines\", \"name\": \"balanced_accuracy_max\", \"stepped\": true, \"type\": \"scatter\", \"data\": [0.9182266603884097, 0.9241878940658987, 0.9241878940658987, 0.9241878940658987, 0.9415626830360733, 0.9415626830360733, 0.948122193446878, 0.948122193446878, 0.948122193446878, 0.948122193446878, 0.948122193446878, 0.948122193446878, 0.948122193446878, 0.948122193446878, 0.948122193446878, 0.948122193446878, 0.948122193446878, 0.948122193446878, 0.9494411298565572, 0.9494411298565572, 0.9494411298565572, 0.9494411298565572, 0.9494411298565572, 0.9494411298565572, 0.9494411298565572, 0.9494411298565572, 0.9494411298565572, 0.9494411298565572, 0.9494411298565572, 0.9494411298565572, 0.9494411298565572, 0.9494411298565572, 0.9501973200647733, 0.9501973200647733, 0.9501973200647733, 0.9501973200647733, 0.9501973200647733]}], \"matthews_correlation\": [{\"categories\": [\"0\", \"1\", \"2\", \"3\", \"4\", \"5\", \"6\", \"7\", \"8\", \"9\", \"10\", \"11\", \"12\", \"13\", \"14\", \"15\", \"16\", \"17\", \"18\", \"19\", \"20\", \"21\", \"22\", \"24\", \"25\", \"26\", \"27\", \"28\", \"29\", \"30\", \"31\", \"32\", \"33\", \"34\", \"35\", \"38\", \"39\"], \"mode\": \"markers\", \"name\": \"matthews_correlation\", \"stepped\": false, \"type\": \"scatter\", \"data\": [0.8364533207768194, 0.1364984775071692, 0.3293448894068849, 0.1295449181652604, 0.19449399474909385, 0.22443647697435964, 0.24435497033050602, 0.24866027659050458, 0.18970724010615653, 0.2545840971430756, 0.029221184232436477, 0.13813536891023737, 0.06348302091103682, 0.19919336203342114, 0.0, 0.027558838987887847, 0.01692439866991538, 0.00034789402092699604, 0.2596146416041482, 0.17708725764484567, 0.0015762368162005275, 0.0, 0.006850530451256463, 0.21000787905779622, 0.0, 0.043592001567064706, 0.0, 0.31263036400364574, 0.03562640815622035, 0.01789531543484144, 0.24251232742717965, 0.16210820673272847, 0.26971224230114443, 0.19080882504600977, 0.0, 0.12753298179657752, 0.18499758949696354]}, {\"categories\": [\"0\", \"1\", \"2\", \"3\", \"4\", \"5\", \"6\", \"7\", \"8\", \"9\", \"10\", \"11\", \"12\", \"13\", \"14\", \"15\", \"16\", \"17\", \"18\", \"19\", \"20\", \"21\", \"22\", \"24\", \"25\", \"26\", \"27\", \"28\", \"29\", \"30\", \"31\", \"32\", \"33\", \"34\", \"35\", \"38\", \"39\"], \"mode\": \"lines\", \"name\": \"matthews_correlation_max\", \"stepped\": true, \"type\": \"scatter\", \"data\": [0.8364533207768194, 0.8364533207768194, 0.8364533207768194, 0.8364533207768194, 0.8364533207768194, 0.8364533207768194, 0.8364533207768194, 0.8364533207768194, 0.8364533207768194, 0.8364533207768194, 0.8364533207768194, 0.8364533207768194, 0.8364533207768194, 0.8364533207768194, 0.8364533207768194, 0.8364533207768194, 0.8364533207768194, 0.8364533207768194, 0.8364533207768194, 0.8364533207768194, 0.8364533207768194, 0.8364533207768194, 0.8364533207768194, 0.8364533207768194, 0.8364533207768194, 0.8364533207768194, 0.8364533207768194, 0.8364533207768194, 0.8364533207768194, 0.8364533207768194, 0.8364533207768194, 0.8364533207768194, 0.8364533207768194, 0.8364533207768194, 0.8364533207768194, 0.8364533207768194, 0.8364533207768194]}], \"AUC_micro\": [{\"categories\": [\"0\", \"1\", \"2\", \"3\", \"4\", \"5\", \"6\", \"7\", \"8\", \"9\", \"10\", \"11\", \"12\", \"13\", \"14\", \"15\", \"16\", \"17\", \"18\", \"19\", \"20\", \"21\", \"22\", \"24\", \"25\", \"26\", \"27\", \"28\", \"29\", \"30\", \"31\", \"32\", \"33\", \"34\", \"35\", \"38\", \"39\"], \"mode\": \"markers\", \"name\": \"AUC_micro\", \"stepped\": false, \"type\": \"scatter\", \"data\": [0.9997415009403958, 0.990188594385518, 0.9988514897852256, 0.9763886727686026, 0.9953506216086523, 0.9964720356888225, 0.9966071699475098, 0.997757467709552, 0.9930507854839588, 0.9972141457994389, 0.27285592670684394, 0.9456809659529681, 0.7443570821878767, 0.995915366964574, 0.0032730212378453893, 0.20761659072720012, 0.041282526405793094, 0.0033294029442587497, 0.9979494453549641, 0.9922655850054598, 0.003283630639078435, 0.0032497449068343343, 0.006041743338832391, 0.9954237470854057, 0.0023118225537183644, 0.559497235490963, 0.001720445209086761, 0.9986594221460543, 0.45522249322849667, 0.036215198505749537, 0.9968396324565629, 0.991191763446705, 0.9976612089055688, 0.9939434952191081, 0.0033432286977828733, 0.9414148987190326, 0.9814137948284631]}, {\"categories\": [\"0\", \"1\", \"2\", \"3\", \"4\", \"5\", \"6\", \"7\", \"8\", \"9\", \"10\", \"11\", \"12\", \"13\", \"14\", \"15\", \"16\", \"17\", \"18\", \"19\", \"20\", \"21\", \"22\", \"24\", \"25\", \"26\", \"27\", \"28\", \"29\", \"30\", \"31\", \"32\", \"33\", \"34\", \"35\", \"38\", \"39\"], \"mode\": \"lines\", \"name\": \"AUC_micro_max\", \"stepped\": true, \"type\": \"scatter\", \"data\": [0.9997415009403958, 0.9997415009403958, 0.9997415009403958, 0.9997415009403958, 0.9997415009403958, 0.9997415009403958, 0.9997415009403958, 0.9997415009403958, 0.9997415009403958, 0.9997415009403958, 0.9997415009403958, 0.9997415009403958, 0.9997415009403958, 0.9997415009403958, 0.9997415009403958, 0.9997415009403958, 0.9997415009403958, 0.9997415009403958, 0.9997415009403958, 0.9997415009403958, 0.9997415009403958, 0.9997415009403958, 0.9997415009403958, 0.9997415009403958, 0.9997415009403958, 0.9997415009403958, 0.9997415009403958, 0.9997415009403958, 0.9997415009403958, 0.9997415009403958, 0.9997415009403958, 0.9997415009403958, 0.9997415009403958, 0.9997415009403958, 0.9997415009403958, 0.9997415009403958, 0.9997415009403958]}], \"accuracy\": [{\"categories\": [\"0\", \"1\", \"2\", \"3\", \"4\", \"5\", \"6\", \"7\", \"8\", \"9\", \"10\", \"11\", \"12\", \"13\", \"14\", \"15\", \"16\", \"17\", \"18\", \"19\", \"20\", \"21\", \"22\", \"24\", \"25\", \"26\", \"27\", \"28\", \"29\", \"30\", \"31\", \"32\", \"33\", \"34\", \"35\", \"38\", \"39\"], \"mode\": \"markers\", \"name\": \"accuracy\", \"stepped\": false, \"type\": \"scatter\", \"data\": [0.9994382219725431, 0.9299884133281837, 0.9902039956462203, 0.9261964116428496, 0.9646782065236473, 0.9746848776377234, 0.9777746567887363, 0.9804079912924406, 0.964502650890067, 0.9804782135458727, 0.3330290369017942, 0.9315333029036902, 0.7141603174045855, 0.9719813208805871, 0.0017204452090867595, 0.3076085811593694, 0.14423650854955936, 0.0017906674625188723, 0.9804079912924406, 0.9593413152628067, 0.0031600014044450685, 0.0017204452090867595, 0.02822934587970928, 0.9710333204592535, 0.0017204452090867595, 0.5451002422667743, 0.0017204452090867595, 0.9873951055089358, 0.47066465362873494, 0.1584214037428461, 0.9784066570696254, 0.949510199782311, 0.981917769741231, 0.9633088725817212, 0.0017204452090867595, 0.9205786313682806, 0.9609915382184614]}, {\"categories\": [\"0\", \"1\", \"2\", \"3\", \"4\", \"5\", \"6\", \"7\", \"8\", \"9\", \"10\", \"11\", \"12\", \"13\", \"14\", \"15\", \"16\", \"17\", \"18\", \"19\", \"20\", \"21\", \"22\", \"24\", \"25\", \"26\", \"27\", \"28\", \"29\", \"30\", \"31\", \"32\", \"33\", \"34\", \"35\", \"38\", \"39\"], \"mode\": \"lines\", \"name\": \"accuracy_max\", \"stepped\": true, \"type\": \"scatter\", \"data\": [0.9994382219725431, 0.9994382219725431, 0.9994382219725431, 0.9994382219725431, 0.9994382219725431, 0.9994382219725431, 0.9994382219725431, 0.9994382219725431, 0.9994382219725431, 0.9994382219725431, 0.9994382219725431, 0.9994382219725431, 0.9994382219725431, 0.9994382219725431, 0.9994382219725431, 0.9994382219725431, 0.9994382219725431, 0.9994382219725431, 0.9994382219725431, 0.9994382219725431, 0.9994382219725431, 0.9994382219725431, 0.9994382219725431, 0.9994382219725431, 0.9994382219725431, 0.9994382219725431, 0.9994382219725431, 0.9994382219725431, 0.9994382219725431, 0.9994382219725431, 0.9994382219725431, 0.9994382219725431, 0.9994382219725431, 0.9994382219725431, 0.9994382219725431, 0.9994382219725431, 0.9994382219725431]}], \"recall_score_weighted\": [{\"categories\": [\"0\", \"1\", \"2\", \"3\", \"4\", \"5\", \"6\", \"7\", \"8\", \"9\", \"10\", \"11\", \"12\", \"13\", \"14\", \"15\", \"16\", \"17\", \"18\", \"19\", \"20\", \"21\", \"22\", \"24\", \"25\", \"26\", \"27\", \"28\", \"29\", \"30\", \"31\", \"32\", \"33\", \"34\", \"35\", \"38\", \"39\"], \"mode\": \"markers\", \"name\": \"recall_score_weighted\", \"stepped\": false, \"type\": \"scatter\", \"data\": [0.9994382219725431, 0.9299884133281837, 0.9902039956462203, 0.9261964116428496, 0.9646782065236473, 0.9746848776377234, 0.9777746567887363, 0.9804079912924406, 0.964502650890067, 0.9804782135458727, 0.3330290369017942, 0.9315333029036902, 0.7141603174045855, 0.9719813208805871, 0.0017204452090867595, 0.3076085811593694, 0.14423650854955936, 0.0017906674625188723, 0.9804079912924406, 0.9593413152628067, 0.0031600014044450685, 0.0017204452090867595, 0.02822934587970928, 0.9710333204592535, 0.0017204452090867595, 0.5451002422667742, 0.0017204452090867595, 0.9873951055089358, 0.47066465362873494, 0.1584214037428461, 0.9784066570696254, 0.949510199782311, 0.981917769741231, 0.9633088725817212, 0.0017204452090867595, 0.9205786313682806, 0.9609915382184614]}, {\"categories\": [\"0\", \"1\", \"2\", \"3\", \"4\", \"5\", \"6\", \"7\", \"8\", \"9\", \"10\", \"11\", \"12\", \"13\", \"14\", \"15\", \"16\", \"17\", \"18\", \"19\", \"20\", \"21\", \"22\", \"24\", \"25\", \"26\", \"27\", \"28\", \"29\", \"30\", \"31\", \"32\", \"33\", \"34\", \"35\", \"38\", \"39\"], \"mode\": \"lines\", \"name\": \"recall_score_weighted_max\", \"stepped\": true, \"type\": \"scatter\", \"data\": [0.9994382219725431, 0.9994382219725431, 0.9994382219725431, 0.9994382219725431, 0.9994382219725431, 0.9994382219725431, 0.9994382219725431, 0.9994382219725431, 0.9994382219725431, 0.9994382219725431, 0.9994382219725431, 0.9994382219725431, 0.9994382219725431, 0.9994382219725431, 0.9994382219725431, 0.9994382219725431, 0.9994382219725431, 0.9994382219725431, 0.9994382219725431, 0.9994382219725431, 0.9994382219725431, 0.9994382219725431, 0.9994382219725431, 0.9994382219725431, 0.9994382219725431, 0.9994382219725431, 0.9994382219725431, 0.9994382219725431, 0.9994382219725431, 0.9994382219725431, 0.9994382219725431, 0.9994382219725431, 0.9994382219725431, 0.9994382219725431, 0.9994382219725431, 0.9994382219725431, 0.9994382219725431]}], \"average_precision_score_micro\": [{\"categories\": [\"0\", \"1\", \"2\", \"3\", \"4\", \"5\", \"6\", \"7\", \"8\", \"9\", \"10\", \"11\", \"12\", \"13\", \"14\", \"15\", \"16\", \"17\", \"18\", \"19\", \"20\", \"21\", \"22\", \"24\", \"25\", \"26\", \"27\", \"28\", \"29\", \"30\", \"31\", \"32\", \"33\", \"34\", \"35\", \"38\", \"39\"], \"mode\": \"markers\", \"name\": \"average_precision_score_micro\", \"stepped\": false, \"type\": \"scatter\", \"data\": [0.9993073134574981, 0.9904751705615908, 0.9983573668022041, 0.9751387708470882, 0.9954107324662161, 0.9964800782167802, 0.9965543583826573, 0.9975593149273181, 0.991564621047262, 0.9971339293530043, 0.36740709198314514, 0.9431271822846543, 0.7365158545435901, 0.9959004331908177, 0.30823145383397493, 0.3466137258900763, 0.31146093780409617, 0.308300048011317, 0.9979582924239003, 0.9923132020622754, 0.3081855248293314, 0.3081465978513947, 0.3083347593880232, 0.9954029448414579, 0.33786362156757443, 0.5400141242275066, 0.49914273732717407, 0.9983115142417429, 0.4721604762058515, 0.31099468683267745, 0.9966403265028962, 0.9913494171970134, 0.9975070458102757, 0.993918397592054, 0.3098388980656097, 0.9000934908008547, 0.9664377286160584]}, {\"categories\": [\"0\", \"1\", \"2\", \"3\", \"4\", \"5\", \"6\", \"7\", \"8\", \"9\", \"10\", \"11\", \"12\", \"13\", \"14\", \"15\", \"16\", \"17\", \"18\", \"19\", \"20\", \"21\", \"22\", \"24\", \"25\", \"26\", \"27\", \"28\", \"29\", \"30\", \"31\", \"32\", \"33\", \"34\", \"35\", \"38\", \"39\"], \"mode\": \"lines\", \"name\": \"average_precision_score_micro_max\", \"stepped\": true, \"type\": \"scatter\", \"data\": [0.9993073134574981, 0.9993073134574981, 0.9993073134574981, 0.9993073134574981, 0.9993073134574981, 0.9993073134574981, 0.9993073134574981, 0.9993073134574981, 0.9993073134574981, 0.9993073134574981, 0.9993073134574981, 0.9993073134574981, 0.9993073134574981, 0.9993073134574981, 0.9993073134574981, 0.9993073134574981, 0.9993073134574981, 0.9993073134574981, 0.9993073134574981, 0.9993073134574981, 0.9993073134574981, 0.9993073134574981, 0.9993073134574981, 0.9993073134574981, 0.9993073134574981, 0.9993073134574981, 0.9993073134574981, 0.9993073134574981, 0.9993073134574981, 0.9993073134574981, 0.9993073134574981, 0.9993073134574981, 0.9993073134574981, 0.9993073134574981, 0.9993073134574981, 0.9993073134574981, 0.9993073134574981]}], \"f1_score_macro\": [{\"categories\": [\"0\", \"1\", \"2\", \"3\", \"4\", \"5\", \"6\", \"7\", \"8\", \"9\", \"10\", \"11\", \"12\", \"13\", \"14\", \"15\", \"16\", \"17\", \"18\", \"19\", \"20\", \"21\", \"22\", \"24\", \"25\", \"26\", \"27\", \"28\", \"29\", \"30\", \"31\", \"32\", \"33\", \"34\", \"35\", \"38\", \"39\"], \"mode\": \"markers\", \"name\": \"f1_score_macro\", \"stepped\": false, \"type\": \"scatter\", \"data\": [0.9182266603884097, 0.5034255185066242, 0.6111087864357985, 0.5009026876712996, 0.5320547067657463, 0.5479681737453277, 0.5566128966926054, 0.5618161751844396, 0.5309874734656084, 0.5633867265278645, 0.25174761803166046, 0.5043063746018418, 0.42228708726651254, 0.5394763268720153, 0.0017174903610234842, 0.23701912908218611, 0.12692927298705645, 0.0017879490957224949, 0.5644900814086097, 0.5249210136663038, 0.003159922755120637, 0.0017174903610234842, 0.027631857234443766, 0.5408331393335479, 0.0017174903610234842, 0.3561485606371878, 0.0017174903610234842, 0.5952578565489434, 0.3227287714730754, 0.13771009748820667, 0.5571231125542436, 0.5164798825904378, 0.569811078929088, 0.5302883064886814, 0.0017174903610234842, 0.4984221604774486, 0.527506616087414]}, {\"categories\": [\"0\", \"1\", \"2\", \"3\", \"4\", \"5\", \"6\", \"7\", \"8\", \"9\", \"10\", \"11\", \"12\", \"13\", \"14\", \"15\", \"16\", \"17\", \"18\", \"19\", \"20\", \"21\", \"22\", \"24\", \"25\", \"26\", \"27\", \"28\", \"29\", \"30\", \"31\", \"32\", \"33\", \"34\", \"35\", \"38\", \"39\"], \"mode\": \"lines\", \"name\": \"f1_score_macro_max\", \"stepped\": true, \"type\": \"scatter\", \"data\": [0.9182266603884097, 0.9182266603884097, 0.9182266603884097, 0.9182266603884097, 0.9182266603884097, 0.9182266603884097, 0.9182266603884097, 0.9182266603884097, 0.9182266603884097, 0.9182266603884097, 0.9182266603884097, 0.9182266603884097, 0.9182266603884097, 0.9182266603884097, 0.9182266603884097, 0.9182266603884097, 0.9182266603884097, 0.9182266603884097, 0.9182266603884097, 0.9182266603884097, 0.9182266603884097, 0.9182266603884097, 0.9182266603884097, 0.9182266603884097, 0.9182266603884097, 0.9182266603884097, 0.9182266603884097, 0.9182266603884097, 0.9182266603884097, 0.9182266603884097, 0.9182266603884097, 0.9182266603884097, 0.9182266603884097, 0.9182266603884097, 0.9182266603884097, 0.9182266603884097, 0.9182266603884097]}], \"precision_score_micro\": [{\"categories\": [\"0\", \"1\", \"2\", \"3\", \"4\", \"5\", \"6\", \"7\", \"8\", \"9\", \"10\", \"11\", \"12\", \"13\", \"14\", \"15\", \"16\", \"17\", \"18\", \"19\", \"20\", \"21\", \"22\", \"24\", \"25\", \"26\", \"27\", \"28\", \"29\", \"30\", \"31\", \"32\", \"33\", \"34\", \"35\", \"38\", \"39\"], \"mode\": \"markers\", \"name\": \"precision_score_micro\", \"stepped\": false, \"type\": \"scatter\", \"data\": [0.9994382219725431, 0.9299884133281837, 0.9902039956462203, 0.9261964116428496, 0.9646782065236473, 0.9746848776377234, 0.9777746567887363, 0.9804079912924406, 0.964502650890067, 0.9804782135458727, 0.3330290369017942, 0.9315333029036902, 0.7141603174045855, 0.9719813208805871, 0.0017204452090867595, 0.3076085811593694, 0.14423650854955936, 0.0017906674625188723, 0.9804079912924406, 0.9593413152628067, 0.0031600014044450685, 0.0017204452090867595, 0.02822934587970928, 0.9710333204592535, 0.0017204452090867595, 0.5451002422667743, 0.0017204452090867595, 0.9873951055089358, 0.47066465362873494, 0.1584214037428461, 0.9784066570696254, 0.949510199782311, 0.981917769741231, 0.9633088725817212, 0.0017204452090867595, 0.9205786313682806, 0.9609915382184614]}, {\"categories\": [\"0\", \"1\", \"2\", \"3\", \"4\", \"5\", \"6\", \"7\", \"8\", \"9\", \"10\", \"11\", \"12\", \"13\", \"14\", \"15\", \"16\", \"17\", \"18\", \"19\", \"20\", \"21\", \"22\", \"24\", \"25\", \"26\", \"27\", \"28\", \"29\", \"30\", \"31\", \"32\", \"33\", \"34\", \"35\", \"38\", \"39\"], \"mode\": \"lines\", \"name\": \"precision_score_micro_max\", \"stepped\": true, \"type\": \"scatter\", \"data\": [0.9994382219725431, 0.9994382219725431, 0.9994382219725431, 0.9994382219725431, 0.9994382219725431, 0.9994382219725431, 0.9994382219725431, 0.9994382219725431, 0.9994382219725431, 0.9994382219725431, 0.9994382219725431, 0.9994382219725431, 0.9994382219725431, 0.9994382219725431, 0.9994382219725431, 0.9994382219725431, 0.9994382219725431, 0.9994382219725431, 0.9994382219725431, 0.9994382219725431, 0.9994382219725431, 0.9994382219725431, 0.9994382219725431, 0.9994382219725431, 0.9994382219725431, 0.9994382219725431, 0.9994382219725431, 0.9994382219725431, 0.9994382219725431, 0.9994382219725431, 0.9994382219725431, 0.9994382219725431, 0.9994382219725431, 0.9994382219725431, 0.9994382219725431, 0.9994382219725431, 0.9994382219725431]}], \"precision_score_macro\": [{\"categories\": [\"0\", \"1\", \"2\", \"3\", \"4\", \"5\", \"6\", \"7\", \"8\", \"9\", \"10\", \"11\", \"12\", \"13\", \"14\", \"15\", \"16\", \"17\", \"18\", \"19\", \"20\", \"21\", \"22\", \"24\", \"25\", \"26\", \"27\", \"28\", \"29\", \"30\", \"31\", \"32\", \"33\", \"34\", \"35\", \"38\", \"39\"], \"mode\": \"markers\", \"name\": \"precision_score_macro\", \"stepped\": false, \"type\": \"scatter\", \"data\": [0.9182266603884097, 0.5109808852529869, 0.5655631281341282, 0.5101806594822068, 0.5214170691086062, 0.5288571840842683, 0.5333108649819085, 0.5360268729165625, 0.5208612431885371, 0.5368851391951746, 0.5012864268836965, 0.5112253536535398, 0.5029064796722158, 0.5245244079444144, 0.0008602226045433798, 0.5012393140775963, 0.5010031938416182, 0.5008602830155553, 0.5374908734747761, 0.5182876527437442, 0.5008614627285514, 0.0008602226045433798, 0.5008836471182284, 0.525372439010325, 0.0008602226045433798, 0.5018134239937095, 0.0008602226045433798, 0.5551873600813955, 0.5014792797184547, 0.5010200682821218, 0.5335493029287882, 0.5151389131569099, 0.5403960054874632, 0.520645226021202, 0.0008602226045433798, 0.5096934653624057, 0.5194580676662154]}, {\"categories\": [\"0\", \"1\", \"2\", \"3\", \"4\", \"5\", \"6\", \"7\", \"8\", \"9\", \"10\", \"11\", \"12\", \"13\", \"14\", \"15\", \"16\", \"17\", \"18\", \"19\", \"20\", \"21\", \"22\", \"24\", \"25\", \"26\", \"27\", \"28\", \"29\", \"30\", \"31\", \"32\", \"33\", \"34\", \"35\", \"38\", \"39\"], \"mode\": \"lines\", \"name\": \"precision_score_macro_max\", \"stepped\": true, \"type\": \"scatter\", \"data\": [0.9182266603884097, 0.9182266603884097, 0.9182266603884097, 0.9182266603884097, 0.9182266603884097, 0.9182266603884097, 0.9182266603884097, 0.9182266603884097, 0.9182266603884097, 0.9182266603884097, 0.9182266603884097, 0.9182266603884097, 0.9182266603884097, 0.9182266603884097, 0.9182266603884097, 0.9182266603884097, 0.9182266603884097, 0.9182266603884097, 0.9182266603884097, 0.9182266603884097, 0.9182266603884097, 0.9182266603884097, 0.9182266603884097, 0.9182266603884097, 0.9182266603884097, 0.9182266603884097, 0.9182266603884097, 0.9182266603884097, 0.9182266603884097, 0.9182266603884097, 0.9182266603884097, 0.9182266603884097, 0.9182266603884097, 0.9182266603884097, 0.9182266603884097, 0.9182266603884097, 0.9182266603884097]}], \"precision_score_weighted\": [{\"categories\": [\"0\", \"1\", \"2\", \"3\", \"4\", \"5\", \"6\", \"7\", \"8\", \"9\", \"10\", \"11\", \"12\", \"13\", \"14\", \"15\", \"16\", \"17\", \"18\", \"19\", \"20\", \"21\", \"22\", \"24\", \"25\", \"26\", \"27\", \"28\", \"29\", \"30\", \"31\", \"32\", \"33\", \"34\", \"35\", \"38\", \"39\"], \"mode\": \"markers\", \"name\": \"precision_score_weighted\", \"stepped\": false, \"type\": \"scatter\", \"data\": [0.9994382219725431, 0.9981666076469204, 0.9982221274016627, 0.9981254131321728, 0.9982079457998222, 0.9981991011543961, 0.9982508201233671, 0.9981890979307632, 0.9981696877051408, 0.9982277880279716, 0.998283981244851, 0.9981676992009915, 0.9982404471532441, 0.9980756052249762, 2.959931717469584e-06, 0.9982838191348479, 0.9982830066709903, 0.9982825149304984, 0.9982655886827361, 0.9981598535824207, 0.9982825189897615, 2.959931717469584e-06, 0.9982825953238154, 0.9981864336339162, 2.959931717469584e-06, 0.9982214090621531, 2.959931717469584e-06, 0.9982920174218282, 0.9981354593348759, 0.998283064734091, 0.9982159309264101, 0.9981840186808985, 0.9982758050714703, 0.9982050831167667, 2.959931717469584e-06, 0.9981606346501438, 0.9982006468267152]}, {\"categories\": [\"0\", \"1\", \"2\", \"3\", \"4\", \"5\", \"6\", \"7\", \"8\", \"9\", \"10\", \"11\", \"12\", \"13\", \"14\", \"15\", \"16\", \"17\", \"18\", \"19\", \"20\", \"21\", \"22\", \"24\", \"25\", \"26\", \"27\", \"28\", \"29\", \"30\", \"31\", \"32\", \"33\", \"34\", \"35\", \"38\", \"39\"], \"mode\": \"lines\", \"name\": \"precision_score_weighted_max\", \"stepped\": true, \"type\": \"scatter\", \"data\": [0.9994382219725431, 0.9994382219725431, 0.9994382219725431, 0.9994382219725431, 0.9994382219725431, 0.9994382219725431, 0.9994382219725431, 0.9994382219725431, 0.9994382219725431, 0.9994382219725431, 0.9994382219725431, 0.9994382219725431, 0.9994382219725431, 0.9994382219725431, 0.9994382219725431, 0.9994382219725431, 0.9994382219725431, 0.9994382219725431, 0.9994382219725431, 0.9994382219725431, 0.9994382219725431, 0.9994382219725431, 0.9994382219725431, 0.9994382219725431, 0.9994382219725431, 0.9994382219725431, 0.9994382219725431, 0.9994382219725431, 0.9994382219725431, 0.9994382219725431, 0.9994382219725431, 0.9994382219725431, 0.9994382219725431, 0.9994382219725431, 0.9994382219725431, 0.9994382219725431, 0.9994382219725431]}], \"f1_score_weighted\": [{\"categories\": [\"0\", \"1\", \"2\", \"3\", \"4\", \"5\", \"6\", \"7\", \"8\", \"9\", \"10\", \"11\", \"12\", \"13\", \"14\", \"15\", \"16\", \"17\", \"18\", \"19\", \"20\", \"21\", \"22\", \"24\", \"25\", \"26\", \"27\", \"28\", \"29\", \"30\", \"31\", \"32\", \"33\", \"34\", \"35\", \"38\", \"39\"], \"mode\": \"markers\", \"name\": \"f1_score_weighted\", \"stepped\": false, \"type\": \"scatter\", \"data\": [0.9994382219725431, 0.9620812234625026, 0.9937495873966592, 0.9600374397721899, 0.9804444381379759, 0.9856488692706914, 0.9872575482095911, 0.988618327592867, 0.9803506054807429, 0.9886591221176236, 0.49751415811805716, 0.9629116431617057, 0.8315065049215672, 0.9842351850635769, 5.909696126551085e-06, 0.4682947170201629, 0.24943083582259762, 0.00014634473866755512, 0.988626826863026, 0.9776528447738326, 0.0028808847832026184, 5.909696126551085e-06, 0.05165242411627253, 0.9837514410199562, 5.909696126551085e-06, 0.7037417669170863, 5.909696126551085e-06, 0.992276888340035, 0.6381719495381406, 0.2708883950472078, 0.9875821392653129, 0.972484761188625, 0.9894130377940993, 0.9797296407759173, 5.909696126551085e-06, 0.9569956655214412, 0.9785184395788187]}, {\"categories\": [\"0\", \"1\", \"2\", \"3\", \"4\", \"5\", \"6\", \"7\", \"8\", \"9\", \"10\", \"11\", \"12\", \"13\", \"14\", \"15\", \"16\", \"17\", \"18\", \"19\", \"20\", \"21\", \"22\", \"24\", \"25\", \"26\", \"27\", \"28\", \"29\", \"30\", \"31\", \"32\", \"33\", \"34\", \"35\", \"38\", \"39\"], \"mode\": \"lines\", \"name\": \"f1_score_weighted_max\", \"stepped\": true, \"type\": \"scatter\", \"data\": [0.9994382219725431, 0.9994382219725431, 0.9994382219725431, 0.9994382219725431, 0.9994382219725431, 0.9994382219725431, 0.9994382219725431, 0.9994382219725431, 0.9994382219725431, 0.9994382219725431, 0.9994382219725431, 0.9994382219725431, 0.9994382219725431, 0.9994382219725431, 0.9994382219725431, 0.9994382219725431, 0.9994382219725431, 0.9994382219725431, 0.9994382219725431, 0.9994382219725431, 0.9994382219725431, 0.9994382219725431, 0.9994382219725431, 0.9994382219725431, 0.9994382219725431, 0.9994382219725431, 0.9994382219725431, 0.9994382219725431, 0.9994382219725431, 0.9994382219725431, 0.9994382219725431, 0.9994382219725431, 0.9994382219725431, 0.9994382219725431, 0.9994382219725431, 0.9994382219725431, 0.9994382219725431]}], \"norm_macro_recall\": [{\"categories\": [\"0\", \"1\", \"2\", \"3\", \"4\", \"5\", \"6\", \"7\", \"8\", \"9\", \"10\", \"11\", \"12\", \"13\", \"14\", \"15\", \"16\", \"17\", \"18\", \"19\", \"20\", \"21\", \"22\", \"24\", \"25\", \"26\", \"27\", \"28\", \"29\", \"30\", \"31\", \"32\", \"33\", \"34\", \"35\", \"38\", \"39\"], \"mode\": \"markers\", \"name\": \"norm_macro_recall\", \"stepped\": false, \"type\": \"scatter\", \"data\": [0.8364533207768194, 0.8483757881317975, 0.8272031800902693, 0.8242042596442065, 0.8831253660721465, 0.8727762911579937, 0.896244386893756, 0.8581362764576848, 0.8625765162564745, 0.8785796113605824, 0.3318795723128869, 0.8499233401858213, 0.6932947067403212, 0.8089491001803086, 0.0, 0.30641530669667993, 0.14276167698368036, 7.034327518296024e-05, 0.8988822597131143, 0.8574062855305318, 0.0014420371412493527, 0.0, 0.026554586381541956, 0.8691184408484833, 0.0, 0.5239432717375077, 0.0, 0.8855084239660975, 0.42900640841592685, 0.15697101857062457, 0.876504484742687, 0.8679312186326416, 0.9003946401295466, 0.8817536722060799, 0.0, 0.8389497892572899, 0.8794323441250445]}, {\"categories\": [\"0\", \"1\", \"2\", \"3\", \"4\", \"5\", \"6\", \"7\", \"8\", \"9\", \"10\", \"11\", \"12\", \"13\", \"14\", \"15\", \"16\", \"17\", \"18\", \"19\", \"20\", \"21\", \"22\", \"24\", \"25\", \"26\", \"27\", \"28\", \"29\", \"30\", \"31\", \"32\", \"33\", \"34\", \"35\", \"38\", \"39\"], \"mode\": \"lines\", \"name\": \"norm_macro_recall_max\", \"stepped\": true, \"type\": \"scatter\", \"data\": [0.8364533207768194, 0.8483757881317975, 0.8483757881317975, 0.8483757881317975, 0.8831253660721465, 0.8831253660721465, 0.896244386893756, 0.896244386893756, 0.896244386893756, 0.896244386893756, 0.896244386893756, 0.896244386893756, 0.896244386893756, 0.896244386893756, 0.896244386893756, 0.896244386893756, 0.896244386893756, 0.896244386893756, 0.8988822597131143, 0.8988822597131143, 0.8988822597131143, 0.8988822597131143, 0.8988822597131143, 0.8988822597131143, 0.8988822597131143, 0.8988822597131143, 0.8988822597131143, 0.8988822597131143, 0.8988822597131143, 0.8988822597131143, 0.8988822597131143, 0.8988822597131143, 0.9003946401295466, 0.9003946401295466, 0.9003946401295466, 0.9003946401295466, 0.9003946401295466]}], \"log_loss\": [{\"categories\": [\"0\", \"1\", \"2\", \"3\", \"4\", \"5\", \"6\", \"7\", \"8\", \"9\", \"10\", \"11\", \"12\", \"13\", \"14\", \"15\", \"16\", \"17\", \"18\", \"19\", \"20\", \"21\", \"22\", \"24\", \"25\", \"26\", \"27\", \"28\", \"29\", \"30\", \"31\", \"32\", \"33\", \"34\", \"35\", \"38\", \"39\"], \"mode\": \"markers\", \"name\": \"log_loss\", \"stepped\": false, \"type\": \"scatter\", \"data\": [0.0039053037916055794, 0.16842183524502588, 0.5826984794920016, 0.271990291016165, 0.1956227234308997, 0.11698078521521574, 0.22316978725073444, 0.3566471195514111, 0.5556756064462717, 0.31019038195700377, 1.1075016180954613, 1.6264772574068862, 0.7013797154986121, 0.23698112462839602, 5.551724351276179, 1.41943017704707, 1.6594388537716132, 2.00211943564255, 0.12336252953211183, 0.35229939050103987, 3.0209174225266597, 4.564141260896854, 2.0765103658619313, 0.08915977627169894, 6.2464202176205506, 14.513003965700477, 34.47935432253433, 0.06883090309345222, 2.0914196458944705, 2.463696088473177, 0.12561076259802975, 0.28654826284780766, 0.18811364908585568, 0.1972788837431607, 4.107873537474483, 0.5117522590437409, 0.162728812049166]}, {\"categories\": [\"0\", \"1\", \"2\", \"3\", \"4\", \"5\", \"6\", \"7\", \"8\", \"9\", \"10\", \"11\", \"12\", \"13\", \"14\", \"15\", \"16\", \"17\", \"18\", \"19\", \"20\", \"21\", \"22\", \"24\", \"25\", \"26\", \"27\", \"28\", \"29\", \"30\", \"31\", \"32\", \"33\", \"34\", \"35\", \"38\", \"39\"], \"mode\": \"lines\", \"name\": \"log_loss_min\", \"stepped\": true, \"type\": \"scatter\", \"data\": [0.0039053037916055794, 0.0039053037916055794, 0.0039053037916055794, 0.0039053037916055794, 0.0039053037916055794, 0.0039053037916055794, 0.0039053037916055794, 0.0039053037916055794, 0.0039053037916055794, 0.0039053037916055794, 0.0039053037916055794, 0.0039053037916055794, 0.0039053037916055794, 0.0039053037916055794, 0.0039053037916055794, 0.0039053037916055794, 0.0039053037916055794, 0.0039053037916055794, 0.0039053037916055794, 0.0039053037916055794, 0.0039053037916055794, 0.0039053037916055794, 0.0039053037916055794, 0.0039053037916055794, 0.0039053037916055794, 0.0039053037916055794, 0.0039053037916055794, 0.0039053037916055794, 0.0039053037916055794, 0.0039053037916055794, 0.0039053037916055794, 0.0039053037916055794, 0.0039053037916055794, 0.0039053037916055794, 0.0039053037916055794, 0.0039053037916055794, 0.0039053037916055794]}], \"average_precision_score_weighted\": [{\"categories\": [\"0\", \"1\", \"2\", \"3\", \"4\", \"5\", \"6\", \"7\", \"8\", \"9\", \"10\", \"11\", \"12\", \"13\", \"14\", \"15\", \"16\", \"17\", \"18\", \"19\", \"20\", \"21\", \"22\", \"24\", \"25\", \"26\", \"27\", \"28\", \"29\", \"30\", \"31\", \"32\", \"33\", \"34\", \"35\", \"38\", \"39\"], \"mode\": \"markers\", \"name\": \"average_precision_score_weighted\", \"stepped\": false, \"type\": \"scatter\", \"data\": [0.9991205202051671, 0.9993124941542577, 0.9992492237588751, 0.9994972801917607, 0.9993766147977261, 0.9993115569909532, 0.9993425666540386, 0.9993279593147444, 0.9989352557756979, 0.9994131524451081, 0.999491305661759, 0.9982086224674935, 0.9993744502450091, 0.999372809221932, 0.9991338127673701, 0.9992673636234289, 0.9992496070036717, 0.9993131133293642, 0.999428519845009, 0.99915249155965, 0.999145084221457, 0.9990673796932712, 0.9992934900649021, 0.9994777281181515, 0.9973231043532262, 0.9982171601449533, 0.9965650294452614, 0.9995135124163295, 0.9990809049102617, 0.9992814923782667, 0.9993435865531812, 0.9990979078320978, 0.9991321647859439, 0.9992685238731247, 0.9993102138751107, 0.9997113533588814, 0.9997152377029165]}, {\"categories\": [\"0\", \"1\", \"2\", \"3\", \"4\", \"5\", \"6\", \"7\", \"8\", \"9\", \"10\", \"11\", \"12\", \"13\", \"14\", \"15\", \"16\", \"17\", \"18\", \"19\", \"20\", \"21\", \"22\", \"24\", \"25\", \"26\", \"27\", \"28\", \"29\", \"30\", \"31\", \"32\", \"33\", \"34\", \"35\", \"38\", \"39\"], \"mode\": \"lines\", \"name\": \"average_precision_score_weighted_max\", \"stepped\": true, \"type\": \"scatter\", \"data\": [0.9991205202051671, 0.9993124941542577, 0.9993124941542577, 0.9994972801917607, 0.9994972801917607, 0.9994972801917607, 0.9994972801917607, 0.9994972801917607, 0.9994972801917607, 0.9994972801917607, 0.9994972801917607, 0.9994972801917607, 0.9994972801917607, 0.9994972801917607, 0.9994972801917607, 0.9994972801917607, 0.9994972801917607, 0.9994972801917607, 0.9994972801917607, 0.9994972801917607, 0.9994972801917607, 0.9994972801917607, 0.9994972801917607, 0.9994972801917607, 0.9994972801917607, 0.9994972801917607, 0.9994972801917607, 0.9995135124163295, 0.9995135124163295, 0.9995135124163295, 0.9995135124163295, 0.9995135124163295, 0.9995135124163295, 0.9995135124163295, 0.9995135124163295, 0.9997113533588814, 0.9997152377029165]}], \"f1_score_micro\": [{\"categories\": [\"0\", \"1\", \"2\", \"3\", \"4\", \"5\", \"6\", \"7\", \"8\", \"9\", \"10\", \"11\", \"12\", \"13\", \"14\", \"15\", \"16\", \"17\", \"18\", \"19\", \"20\", \"21\", \"22\", \"24\", \"25\", \"26\", \"27\", \"28\", \"29\", \"30\", \"31\", \"32\", \"33\", \"34\", \"35\", \"38\", \"39\"], \"mode\": \"markers\", \"name\": \"f1_score_micro\", \"stepped\": false, \"type\": \"scatter\", \"data\": [0.9994382219725431, 0.9299884133281837, 0.9902039956462203, 0.9261964116428496, 0.9646782065236473, 0.9746848776377234, 0.9777746567887363, 0.9804079912924406, 0.964502650890067, 0.9804782135458727, 0.3330290369017942, 0.9315333029036902, 0.7141603174045855, 0.9719813208805871, 0.0017204452090867595, 0.3076085811593694, 0.14423650854955936, 0.001790667462518872, 0.9804079912924406, 0.9593413152628067, 0.0031600014044450685, 0.0017204452090867595, 0.02822934587970928, 0.9710333204592535, 0.0017204452090867595, 0.5451002422667743, 0.0017204452090867595, 0.9873951055089358, 0.47066465362873494, 0.1584214037428461, 0.9784066570696254, 0.949510199782311, 0.981917769741231, 0.9633088725817212, 0.0017204452090867595, 0.9205786313682806, 0.9609915382184614]}, {\"categories\": [\"0\", \"1\", \"2\", \"3\", \"4\", \"5\", \"6\", \"7\", \"8\", \"9\", \"10\", \"11\", \"12\", \"13\", \"14\", \"15\", \"16\", \"17\", \"18\", \"19\", \"20\", \"21\", \"22\", \"24\", \"25\", \"26\", \"27\", \"28\", \"29\", \"30\", \"31\", \"32\", \"33\", \"34\", \"35\", \"38\", \"39\"], \"mode\": \"lines\", \"name\": \"f1_score_micro_max\", \"stepped\": true, \"type\": \"scatter\", \"data\": [0.9994382219725431, 0.9994382219725431, 0.9994382219725431, 0.9994382219725431, 0.9994382219725431, 0.9994382219725431, 0.9994382219725431, 0.9994382219725431, 0.9994382219725431, 0.9994382219725431, 0.9994382219725431, 0.9994382219725431, 0.9994382219725431, 0.9994382219725431, 0.9994382219725431, 0.9994382219725431, 0.9994382219725431, 0.9994382219725431, 0.9994382219725431, 0.9994382219725431, 0.9994382219725431, 0.9994382219725431, 0.9994382219725431, 0.9994382219725431, 0.9994382219725431, 0.9994382219725431, 0.9994382219725431, 0.9994382219725431, 0.9994382219725431, 0.9994382219725431, 0.9994382219725431, 0.9994382219725431, 0.9994382219725431, 0.9994382219725431, 0.9994382219725431, 0.9994382219725431, 0.9994382219725431]}], \"recall_score_macro\": [{\"categories\": [\"0\", \"1\", \"2\", \"3\", \"4\", \"5\", \"6\", \"7\", \"8\", \"9\", \"10\", \"11\", \"12\", \"13\", \"14\", \"15\", \"16\", \"17\", \"18\", \"19\", \"20\", \"21\", \"22\", \"24\", \"25\", \"26\", \"27\", \"28\", \"29\", \"30\", \"31\", \"32\", \"33\", \"34\", \"35\", \"38\", \"39\"], \"mode\": \"markers\", \"name\": \"recall_score_macro\", \"stepped\": false, \"type\": \"scatter\", \"data\": [0.9182266603884097, 0.9241878940658987, 0.9136015900451346, 0.9121021298221033, 0.9415626830360733, 0.9363881455789969, 0.948122193446878, 0.9290681382288424, 0.9312882581282372, 0.9392898056802912, 0.6659397861564434, 0.9249616700929106, 0.8466473533701606, 0.9044745500901543, 0.5, 0.65320765334834, 0.5713808384918402, 0.5000351716375915, 0.9494411298565572, 0.9287031427652659, 0.5007210185706247, 0.5, 0.513277293190771, 0.9345592204242417, 0.5, 0.7619716358687538, 0.5, 0.9427542119830488, 0.7145032042079634, 0.5784855092853123, 0.9382522423713435, 0.9339656093163208, 0.9501973200647733, 0.94087683610304, 0.5, 0.919474894628645, 0.9397161720625222]}, {\"categories\": [\"0\", \"1\", \"2\", \"3\", \"4\", \"5\", \"6\", \"7\", \"8\", \"9\", \"10\", \"11\", \"12\", \"13\", \"14\", \"15\", \"16\", \"17\", \"18\", \"19\", \"20\", \"21\", \"22\", \"24\", \"25\", \"26\", \"27\", \"28\", \"29\", \"30\", \"31\", \"32\", \"33\", \"34\", \"35\", \"38\", \"39\"], \"mode\": \"lines\", \"name\": \"recall_score_macro_max\", \"stepped\": true, \"type\": \"scatter\", \"data\": [0.9182266603884097, 0.9241878940658987, 0.9241878940658987, 0.9241878940658987, 0.9415626830360733, 0.9415626830360733, 0.948122193446878, 0.948122193446878, 0.948122193446878, 0.948122193446878, 0.948122193446878, 0.948122193446878, 0.948122193446878, 0.948122193446878, 0.948122193446878, 0.948122193446878, 0.948122193446878, 0.948122193446878, 0.9494411298565572, 0.9494411298565572, 0.9494411298565572, 0.9494411298565572, 0.9494411298565572, 0.9494411298565572, 0.9494411298565572, 0.9494411298565572, 0.9494411298565572, 0.9494411298565572, 0.9494411298565572, 0.9494411298565572, 0.9494411298565572, 0.9494411298565572, 0.9501973200647733, 0.9501973200647733, 0.9501973200647733, 0.9501973200647733, 0.9501973200647733]}]}, \"metricName\": null, \"primaryMetricName\": \"AUC_weighted\", \"showLegend\": false}, \"run_metrics\": [{\"name\": \"experiment_status\", \"run_id\": \"AutoML_f79a4e5e-9017-454a-b0d8-e8793c5705d8\", \"categories\": [0, 1, 2, 3, 4, 5, 6, 7, 8, 9, 10, 11, 12, 13], \"series\": [{\"data\": [\"DatasetEvaluation\", \"FeaturesGeneration\", \"DatasetFeaturization\", \"DatasetFeaturizationCompleted\", \"DatasetBalancing\", \"ModelSelection\", \"BestRunExplainModel\", \"ModelExplanationDataSetSetup\", \"PickSurrogateModel\", \"EngineeredFeatureExplanations\", \"EngineeredFeatureExplanations\", \"RawFeaturesExplanations\", \"RawFeaturesExplanations\", \"BestRunExplainModel\"]}]}, {\"name\": \"experiment_status_description\", \"run_id\": \"AutoML_f79a4e5e-9017-454a-b0d8-e8793c5705d8\", \"categories\": [0, 1, 2, 3, 4, 5, 6, 7, 8, 9, 10, 11, 12, 13], \"series\": [{\"data\": [\"Gathering dataset statistics.\", \"Generating features for the dataset.\", \"Beginning to fit featurizers and featurize the dataset.\", \"Completed fit featurizers and featurizing the dataset.\", \"Performing class balancing sweeping\", \"Beginning model selection.\", \"Best run model explanations started\", \"Model explanations data setup completed\", \"Choosing LightGBM as the surrogate model for explanations\", \"Computation of engineered features started\", \"Computation of engineered features completed\", \"Computation of raw features started\", \"Computation of raw features completed\", \"Best run model explanations completed\"]}]}], \"run_logs\": \"\\nRun is completed.\", \"graph\": {}, \"widget_settings\": {\"childWidgetDisplay\": \"popup\", \"send_telemetry\": false, \"log_level\": \"INFO\", \"sdk_version\": \"1.26.0\"}, \"loading\": false}"
     },
     "metadata": {},
     "output_type": "display_data"
    }
   ],
   "source": [
    "# submit script to AML\n",
    "RunDetails(remote_run).show()"
   ]
  },
  {
   "cell_type": "markdown",
   "metadata": {},
   "source": [
    "## Best Model\n",
    "\n",
    "TODO: In the cell below, get the best model from the automl experiments and display all the properties of the model.\n",
    "\n"
   ]
  },
  {
   "cell_type": "code",
   "execution_count": 8,
   "metadata": {
    "gather": {
     "logged": 1618180707097
    },
    "jupyter": {
     "outputs_hidden": false,
     "source_hidden": false
    },
    "nteract": {
     "transient": {
      "deleting": false
     }
    }
   },
   "outputs": [
    {
     "name": "stdout",
     "output_type": "stream",
     "text": [
      "Pipeline(memory=None,\n",
      "         steps=[('datatransformer',\n",
      "                 DataTransformer(enable_dnn=None, enable_feature_sweeping=None,\n",
      "                                 feature_sweeping_config=None,\n",
      "                                 feature_sweeping_timeout=None,\n",
      "                                 featurization_config=None, force_text_dnn=None,\n",
      "                                 is_cross_validation=None,\n",
      "                                 is_onnx_compatible=None, logger=None,\n",
      "                                 observer=None, task=None, working_dir=None)),\n",
      "                ('prefittedsoftvotingclassifier',...\n",
      "                                                                                                    min_weight_fraction_leaf=0.0,\n",
      "                                                                                                    n_estimators=10,\n",
      "                                                                                                    n_jobs=1,\n",
      "                                                                                                    oob_score=False,\n",
      "                                                                                                    random_state=None,\n",
      "                                                                                                    verbose=0,\n",
      "                                                                                                    warm_start=False))],\n",
      "                                                                     verbose=False))],\n",
      "                                               flatten_transform=None,\n",
      "                                               weights=[0.06666666666666667,\n",
      "                                                        0.06666666666666667,\n",
      "                                                        0.06666666666666667,\n",
      "                                                        0.26666666666666666,\n",
      "                                                        0.06666666666666667,\n",
      "                                                        0.06666666666666667,\n",
      "                                                        0.06666666666666667,\n",
      "                                                        0.06666666666666667,\n",
      "                                                        0.26666666666666666]))],\n",
      "         verbose=False)\n"
     ]
    }
   ],
   "source": [
    "automl_best_run, automl_fitted_model = remote_run.get_output()\n",
    "print(automl_fitted_model)"
   ]
  },
  {
   "cell_type": "code",
   "execution_count": 9,
   "metadata": {
    "gather": {
     "logged": 1618180707405
    },
    "jupyter": {
     "outputs_hidden": false,
     "source_hidden": false
    },
    "nteract": {
     "transient": {
      "deleting": false
     }
    }
   },
   "outputs": [
    {
     "name": "stdout",
     "output_type": "stream",
     "text": [
      "{'runTemplate': 'automl_child', 'pipeline_id': '__AutoML_Ensemble__', 'pipeline_spec': '{\"pipeline_id\":\"__AutoML_Ensemble__\",\"objects\":[{\"module\":\"azureml.train.automl.ensemble\",\"class_name\":\"Ensemble\",\"spec_class\":\"sklearn\",\"param_args\":[],\"param_kwargs\":{\"automl_settings\":\"{\\'task_type\\':\\'classification\\',\\'primary_metric\\':\\'AUC_weighted\\',\\'verbosity\\':20,\\'ensemble_iterations\\':15,\\'is_timeseries\\':False,\\'name\\':\\'capstone-fraud-credit-exp\\',\\'compute_target\\':\\'auto-ml\\',\\'subscription_id\\':\\'48a74bb7-9950-4cc1-9caa-5d50f995cc55\\',\\'region\\':\\'southcentralus\\',\\'spark_service\\':None}\",\"ensemble_run_id\":\"AutoML_f79a4e5e-9017-454a-b0d8-e8793c5705d8_38\",\"experiment_name\":\"capstone-fraud-credit-exp\",\"workspace_name\":\"quick-starts-ws-142700\",\"subscription_id\":\"48a74bb7-9950-4cc1-9caa-5d50f995cc55\",\"resource_group_name\":\"aml-quickstarts-142700\"}}]}', 'training_percent': '100', 'predicted_cost': None, 'iteration': '38', '_aml_system_scenario_identification': 'Remote.Child', '_azureml.ComputeTargetType': 'amlcompute', 'ContentSnapshotId': 'e7ccc77e-ce55-4cb2-a2f1-b649d831c6ad', 'ProcessInfoFile': 'azureml-logs/process_info.json', 'ProcessStatusFile': 'azureml-logs/process_status.json', 'run_template': 'automl_child', 'run_preprocessor': '', 'run_algorithm': 'VotingEnsemble', 'model_output_path': 'outputs/model.pkl', 'conda_env_data_location': 'aml://artifact/ExperimentRun/dcid.AutoML_f79a4e5e-9017-454a-b0d8-e8793c5705d8_38/outputs/conda_env_v_1_0_0.yml', 'model_data_location': 'aml://artifact/ExperimentRun/dcid.AutoML_f79a4e5e-9017-454a-b0d8-e8793c5705d8_38/outputs/model.pkl', 'model_size_on_disk': '9356629', 'scoring_data_location': 'aml://artifact/ExperimentRun/dcid.AutoML_f79a4e5e-9017-454a-b0d8-e8793c5705d8_38/outputs/scoring_file_v_1_0_0.py', 'model_exp_support': 'True', 'pipeline_graph_version': '1.0.0', 'model_name': 'AutoMLf79a4e5e938', 'staticProperties': '{}', 'score': '0.9805464954693188', 'score_table': 'NaN', 'run_properties': \"classification_labels=None,\\n                              estimators=[('12',\\n                                           Pipeline(memory=None,\\n                                                    steps=[('robustscaler',\\n                                                            RobustScaler(copy=True,\\n                                                                         quantile_range=[10,\\n                                                                                         90],\\n                                                                         with_centering=True,\\n                                                                         with_scaling=False\", 'pipeline_script': '{\"pipeline_id\":\"__AutoML_Ensemble__\",\"objects\":[{\"module\":\"azureml.train.automl.ensemble\",\"class_name\":\"Ensemble\",\"spec_class\":\"sklearn\",\"param_args\":[],\"param_kwargs\":{\"automl_settings\":\"{\\'task_type\\':\\'classification\\',\\'primary_metric\\':\\'AUC_weighted\\',\\'verbosity\\':20,\\'ensemble_iterations\\':15,\\'is_timeseries\\':False,\\'name\\':\\'capstone-fraud-credit-exp\\',\\'compute_target\\':\\'auto-ml\\',\\'subscription_id\\':\\'48a74bb7-9950-4cc1-9caa-5d50f995cc55\\',\\'region\\':\\'southcentralus\\',\\'spark_service\\':None}\",\"ensemble_run_id\":\"AutoML_f79a4e5e-9017-454a-b0d8-e8793c5705d8_38\",\"experiment_name\":\"capstone-fraud-credit-exp\",\"workspace_name\":\"quick-starts-ws-142700\",\"subscription_id\":\"48a74bb7-9950-4cc1-9caa-5d50f995cc55\",\"resource_group_name\":\"aml-quickstarts-142700\"}}]}', 'training_type': 'train_valid', 'num_classes': '', 'framework': 'sklearn', 'fit_time': '21', 'goal': 'AUC_weighted_max', 'class_labels': '', 'primary_metric': 'AUC_weighted', 'errors': '{}', 'onnx_model_resource': '{}', 'error_code': '', 'failure_reason': '', 'dependencies_versions': '{\"azureml-train-automl-runtime\": \"1.25.0\", \"azureml-train-automl-client\": \"1.25.0\", \"azureml-telemetry\": \"1.25.0\", \"azureml-pipeline-core\": \"1.25.0\", \"azureml-model-management-sdk\": \"1.0.1b6.post1\", \"azureml-mlflow\": \"1.25.0\", \"azureml-interpret\": \"1.25.0\", \"azureml-defaults\": \"1.25.0\", \"azureml-dataset-runtime\": \"1.25.0\", \"azureml-dataprep\": \"2.11.2\", \"azureml-dataprep-rslex\": \"1.9.1\", \"azureml-dataprep-native\": \"30.0.0\", \"azureml-core\": \"1.25.0\", \"azureml-automl-runtime\": \"1.25.0\", \"azureml-automl-core\": \"1.25.0\"}', 'num_cores': '4', 'num_logical_cores': '4', 'peak_memory_usage': '900728', 'vm_configuration': 'Intel(R) Xeon(R) Platinum 8171M CPU @ 2.60GHz', 'core_hours': '0.008239295833333334', 'feature_skus': 'automatedml_sdk_guardrails'}\n"
     ]
    }
   ],
   "source": [
    "print(automl_best_run.properties)"
   ]
  },
  {
   "cell_type": "code",
   "execution_count": 10,
   "metadata": {
    "gather": {
     "logged": 1618180707713
    },
    "jupyter": {
     "outputs_hidden": false,
     "source_hidden": false
    },
    "nteract": {
     "transient": {
      "deleting": false
     }
    }
   },
   "outputs": [],
   "source": [
    "#TODO: Save the best model\n",
    "import joblib\n",
    "\n",
    "joblib.dump(automl_fitted_model,\"best_automl_model.joblib\")\n",
    "# automl_best_run.download_file('outputs/model.pkl', 'outputs/fraud_model.pkl')\n",
    "automl_best_run.download_file('outputs/scoring_file_v_1_0_0.py', 'score.py')\n",
    "# automl_best_run.download_file('automl_driver.py', 'outputs/automl_driver.py')"
   ]
  },
  {
   "cell_type": "markdown",
   "metadata": {},
   "source": [
    "## Model Deployment\n",
    "\n",
    "Remember you have to deploy only one of the two models you trained.. Perform the steps in the rest of this notebook only if you wish to deploy this model.\n",
    "\n",
    "TODO: In the cell below, register the model, create an inference config and deploy the model as a web service.\n",
    "\n",
    "All the information about the deployment of the model are coming from https://docs.microsoft.com/en-us/azure/machine-learning/how-to-deploy-and-where?tabs=python\n"
   ]
  },
  {
   "cell_type": "code",
   "execution_count": 11,
   "metadata": {
    "gather": {
     "logged": 1618182585794
    },
    "jupyter": {
     "outputs_hidden": false,
     "source_hidden": false
    },
    "nteract": {
     "transient": {
      "deleting": false
     }
    }
   },
   "outputs": [
    {
     "data": {
      "text/plain": [
       "'AutoMLf79a4e5e938'"
      ]
     },
     "execution_count": 11,
     "metadata": {},
     "output_type": "execute_result"
    }
   ],
   "source": [
    "automl_best_run.properties['model_name']"
   ]
  },
  {
   "cell_type": "code",
   "execution_count": 12,
   "metadata": {
    "gather": {
     "logged": 1618182588795
    },
    "jupyter": {
     "outputs_hidden": false,
     "source_hidden": false
    },
    "nteract": {
     "transient": {
      "deleting": false
     }
    }
   },
   "outputs": [
    {
     "name": "stdout",
     "output_type": "stream",
     "text": [
      "AutoMLf79a4e5e938\tAutoMLf79a4e5e938:1\t1\n"
     ]
    }
   ],
   "source": [
    "model = remote_run.register_model(model_name=automl_best_run.properties['model_name'])\n",
    "# automl_best_run.register_model(model_name=automl_best_run.properties['model_name'], model_path='/model.pkl')\n",
    "print(model.name, model.id, model.version, sep='\\t')\n"
   ]
  },
  {
   "cell_type": "code",
   "execution_count": 13,
   "metadata": {
    "gather": {
     "logged": 1618182590279
    },
    "jupyter": {
     "outputs_hidden": false,
     "source_hidden": false
    },
    "nteract": {
     "transient": {
      "deleting": false
     }
    }
   },
   "outputs": [],
   "source": [
    "from azureml.core.environment import Environment\n",
    "from azureml.core.model import InferenceConfig\n",
    "\n",
    "\n",
    "env = automl_best_run.get_environment()\n",
    "\n",
    "# for pip_package in [\"scikit-learn\"]:\n",
    "#     env.python.conda_dependencies.add_pip_package(pip_package)\n",
    "\n",
    "inference_config = InferenceConfig(entry_script='score.py',environment=env)"
   ]
  },
  {
   "cell_type": "code",
   "execution_count": 14,
   "metadata": {
    "gather": {
     "logged": 1618183884957
    },
    "jupyter": {
     "outputs_hidden": false,
     "source_hidden": false
    },
    "nteract": {
     "transient": {
      "deleting": false
     }
    }
   },
   "outputs": [
    {
     "name": "stdout",
     "output_type": "stream",
     "text": [
      "Tips: You can try get_logs(): https://aka.ms/debugimage#dockerlog or local deployment: https://aka.ms/debugimage#debug-locally to debug if deployment takes longer than 10 minutes.\n",
      "Running\n",
      "2021-04-14 19:27:58+00:00 Creating Container Registry if not exists..\n",
      "2021-04-14 19:28:10+00:00 Registering the environment.\n",
      "2021-04-14 19:28:12+00:00 Use the existing image.\n",
      "2021-04-14 19:28:12+00:00 Generating deployment configuration.\n",
      "2021-04-14 19:28:13+00:00 Submitting deployment to compute..\n",
      "2021-04-14 19:28:17+00:00 Checking the status of deployment capstone-fraud-service..\n",
      "2021-04-14 19:32:04+00:00 Checking the status of inference endpoint capstone-fraud-service.\n",
      "Succeeded\n",
      "ACI service creation operation finished, operation \"Succeeded\"\n",
      "Healthy\n"
     ]
    }
   ],
   "source": [
    "from azureml.core.webservice import AciWebservice\n",
    "from azureml.core.model import Model\n",
    "\n",
    "\n",
    "deployment_config = AciWebservice.deploy_configuration(cpu_cores=1, memory_gb=1)\n",
    "service = Model.deploy(ws, 'capstone-fraud-service', [model], inference_config, deployment_config, overwrite=True)\n",
    "service.wait_for_deployment(show_output=True)\n",
    "print(service.state)"
   ]
  },
  {
   "cell_type": "markdown",
   "metadata": {
    "collapsed": true,
    "gather": {
     "logged": 1598431657736
    },
    "jupyter": {
     "outputs_hidden": false,
     "source_hidden": false
    },
    "nteract": {
     "transient": {
      "deleting": false
     }
    }
   },
   "source": [
    "TODO: In the cell below, send a request to the web service you deployed to test it."
   ]
  },
  {
   "cell_type": "code",
   "execution_count": 15,
   "metadata": {
    "gather": {
     "logged": 1618183631812
    },
    "jupyter": {
     "outputs_hidden": false,
     "source_hidden": false
    },
    "nteract": {
     "transient": {
      "deleting": false
     }
    }
   },
   "outputs": [],
   "source": [
    "import json\n",
    "\n",
    "data = {\"data\":\n",
    "        [\n",
    "          {\n",
    "            \"Time\": 0.0, \"V1\": 0.0, \"V2\": 0.0, \"V3\": 0.0, \"V4\": 0.0, \"V5\": 0.0, \"V6\": 0.0, \"V7\": 0.0, \"V8\": 0.0, \"V9\": 0.0, \"V10\": 0.0, \"V11\": 0.0, \"V12\": 0.0, \"V13\": 0.0, \"V14\": 0.0, \"V15\": 0.0, \"V16\": 0.0, \"V17\": 0.0, \"V18\": 0.0, \"V19\": 0.0, \"V20\": 0.0, \"V21\": 0.0, \"V22\": 0.0, \"V23\": 0.0, \"V24\": 0.0, \"V25\": 0.0, \"V26\": 0.0, \"V27\": 0.0, \"V28\": 0.0, \"Amount\": 0.0\n",
    "          },\n",
    "            {\n",
    "            \"Time\": 0.0, \"V1\": 0.0, \"V2\": 0.0, \"V3\": 0.0, \"V4\": 0.0, \"V5\": 0.0, \"V6\": 0.0, \"V7\": 0.0, \"V8\": 0.0, \"V9\": 0.0, \"V10\": 0.0, \"V11\": 0.0, \"V12\": 0.0, \"V13\": 0.0, \"V14\": 0.0, \"V15\": 0.0, \"V16\": 0.0, \"V17\": 0.0, \"V18\": 0.0, \"V19\": 0.0, \"V20\": 0.0, \"V21\": 0.0, \"V22\": 0.0, \"V23\": 0.0, \"V24\": 0.0, \"V25\": 0.0, \"V26\": 0.0, \"V27\": 0.0, \"V28\": 0.0, \"Amount\": 0.0\n",
    "          }\n",
    "        ]\n",
    "    }\n",
    "# Convert to JSON string\n",
    "input_data = json.dumps(data)"
   ]
  },
  {
   "cell_type": "code",
   "execution_count": 16,
   "metadata": {
    "gather": {
     "logged": 1618183631873
    },
    "jupyter": {
     "outputs_hidden": false,
     "source_hidden": false
    },
    "nteract": {
     "transient": {
      "deleting": false
     }
    }
   },
   "outputs": [
    {
     "data": {
      "text/plain": [
       "'{\"data\": [{\"Time\": 0.0, \"V1\": 0.0, \"V2\": 0.0, \"V3\": 0.0, \"V4\": 0.0, \"V5\": 0.0, \"V6\": 0.0, \"V7\": 0.0, \"V8\": 0.0, \"V9\": 0.0, \"V10\": 0.0, \"V11\": 0.0, \"V12\": 0.0, \"V13\": 0.0, \"V14\": 0.0, \"V15\": 0.0, \"V16\": 0.0, \"V17\": 0.0, \"V18\": 0.0, \"V19\": 0.0, \"V20\": 0.0, \"V21\": 0.0, \"V22\": 0.0, \"V23\": 0.0, \"V24\": 0.0, \"V25\": 0.0, \"V26\": 0.0, \"V27\": 0.0, \"V28\": 0.0, \"Amount\": 0.0}, {\"Time\": 0.0, \"V1\": 0.0, \"V2\": 0.0, \"V3\": 0.0, \"V4\": 0.0, \"V5\": 0.0, \"V6\": 0.0, \"V7\": 0.0, \"V8\": 0.0, \"V9\": 0.0, \"V10\": 0.0, \"V11\": 0.0, \"V12\": 0.0, \"V13\": 0.0, \"V14\": 0.0, \"V15\": 0.0, \"V16\": 0.0, \"V17\": 0.0, \"V18\": 0.0, \"V19\": 0.0, \"V20\": 0.0, \"V21\": 0.0, \"V22\": 0.0, \"V23\": 0.0, \"V24\": 0.0, \"V25\": 0.0, \"V26\": 0.0, \"V27\": 0.0, \"V28\": 0.0, \"Amount\": 0.0}]}'"
      ]
     },
     "execution_count": 16,
     "metadata": {},
     "output_type": "execute_result"
    }
   ],
   "source": [
    "input_data"
   ]
  },
  {
   "cell_type": "code",
   "execution_count": 17,
   "metadata": {
    "gather": {
     "logged": 1618183632057
    },
    "jupyter": {
     "outputs_hidden": false,
     "source_hidden": false
    },
    "nteract": {
     "transient": {
      "deleting": false
     }
    }
   },
   "outputs": [
    {
     "data": {
      "text/plain": [
       "'{\"result\": [0, 0]}'"
      ]
     },
     "execution_count": 17,
     "metadata": {},
     "output_type": "execute_result"
    }
   ],
   "source": [
    "service.run(input_data)\n"
   ]
  },
  {
   "cell_type": "code",
   "execution_count": 68,
   "metadata": {
    "gather": {
     "logged": 1618183632101
    },
    "jupyter": {
     "outputs_hidden": false,
     "source_hidden": false
    },
    "nteract": {
     "transient": {
      "deleting": false
     }
    }
   },
   "outputs": [
    {
     "data": {
      "text/plain": [
       "'http://dfffdb5f-4b7b-4d0b-8f40-459ca5b05955.southcentralus.azurecontainer.io/score'"
      ]
     },
     "execution_count": 68,
     "metadata": {},
     "output_type": "execute_result"
    }
   ],
   "source": [
    "service.scoring_uri"
   ]
  },
  {
   "cell_type": "markdown",
   "metadata": {
    "collapsed": true,
    "gather": {
     "logged": 1598432765711
    },
    "jupyter": {
     "outputs_hidden": false,
     "source_hidden": false
    },
    "nteract": {
     "transient": {
      "deleting": false
     }
    }
   },
   "source": [
    "TODO: In the cell below, print the logs of the web service and delete the service"
   ]
  },
  {
   "cell_type": "code",
   "execution_count": 18,
   "metadata": {
    "gather": {
     "logged": 1618183632475
    },
    "jupyter": {
     "outputs_hidden": false,
     "source_hidden": false
    },
    "nteract": {
     "transient": {
      "deleting": false
     }
    }
   },
   "outputs": [
    {
     "name": "stdout",
     "output_type": "stream",
     "text": [
      "2021-04-14T19:31:59,430609500+00:00 - rsyslog/run \n",
      "2021-04-14T19:31:59,431707000+00:00 - gunicorn/run \n",
      "2021-04-14T19:31:59,452227000+00:00 - iot-server/run \n",
      "2021-04-14T19:31:59,482094900+00:00 - nginx/run \n",
      "/usr/sbin/nginx: /azureml-envs/azureml_8e5a5a51349877e7d47c6a2872e0ebfd/lib/libcrypto.so.1.0.0: no version information available (required by /usr/sbin/nginx)\n",
      "/usr/sbin/nginx: /azureml-envs/azureml_8e5a5a51349877e7d47c6a2872e0ebfd/lib/libcrypto.so.1.0.0: no version information available (required by /usr/sbin/nginx)\n",
      "/usr/sbin/nginx: /azureml-envs/azureml_8e5a5a51349877e7d47c6a2872e0ebfd/lib/libssl.so.1.0.0: no version information available (required by /usr/sbin/nginx)\n",
      "/usr/sbin/nginx: /azureml-envs/azureml_8e5a5a51349877e7d47c6a2872e0ebfd/lib/libssl.so.1.0.0: no version information available (required by /usr/sbin/nginx)\n",
      "/usr/sbin/nginx: /azureml-envs/azureml_8e5a5a51349877e7d47c6a2872e0ebfd/lib/libssl.so.1.0.0: no version information available (required by /usr/sbin/nginx)\n",
      "rsyslogd: /azureml-envs/azureml_8e5a5a51349877e7d47c6a2872e0ebfd/lib/libuuid.so.1: no version information available (required by rsyslogd)\n",
      "EdgeHubConnectionString and IOTEDGE_IOTHUBHOSTNAME are not set. Exiting...\n",
      "2021-04-14T19:32:00,126511700+00:00 - iot-server/finish 1 0\n",
      "2021-04-14T19:32:00,133290300+00:00 - Exit code 1 is normal. Not restarting iot-server.\n",
      "Starting gunicorn 19.9.0\n",
      "Listening at: http://127.0.0.1:31311 (66)\n",
      "Using worker: sync\n",
      "worker timeout is set to 300\n",
      "Booting worker with pid: 94\n",
      "SPARK_HOME not set. Skipping PySpark Initialization.\n",
      "Generating new fontManager, this may take some time...\n",
      "Initializing logger\n",
      "2021-04-14 19:32:02,982 | root | INFO | Starting up app insights client\n",
      "2021-04-14 19:32:02,982 | root | INFO | Starting up request id generator\n",
      "2021-04-14 19:32:02,982 | root | INFO | Starting up app insight hooks\n",
      "2021-04-14 19:32:02,982 | root | INFO | Invoking user's init function\n",
      "2021-04-14 19:32:08,501 | azureml.core | WARNING | Failure while loading azureml_run_type_providers. Failed to load entrypoint automl = azureml.train.automl.run:AutoMLRun._from_run_dto with exception cannot import name 'RunType'.\n",
      "Failure while loading azureml_run_type_providers. Failed to load entrypoint automl = azureml.train.automl.run:AutoMLRun._from_run_dto with exception cannot import name 'RunType'.\n",
      "2021-04-14 19:32:09,272 | root | INFO | Users's init has completed successfully\n",
      "2021-04-14 19:32:09,277 | root | INFO | Skipping middleware: dbg_model_info as it's not enabled.\n",
      "2021-04-14 19:32:09,278 | root | INFO | Skipping middleware: dbg_resource_usage as it's not enabled.\n",
      "2021-04-14 19:32:09,283 | root | INFO | Scoring timeout is found from os.environ: 60000 ms\n",
      "2021-04-14 19:32:09,383 | root | INFO | 200\n",
      "127.0.0.1 - - [14/Apr/2021:19:32:09 +0000] \"GET /swagger.json HTTP/1.0\" 200 3740 \"-\" \"Go-http-client/1.1\"\n",
      "2021-04-14 19:32:12,369 | root | INFO | 200\n",
      "127.0.0.1 - - [14/Apr/2021:19:32:12 +0000] \"GET /swagger.json HTTP/1.0\" 200 3740 \"-\" \"Go-http-client/1.1\"\n",
      "2021-04-14 19:44:22,156 | root | INFO | 200\n",
      "127.0.0.1 - - [14/Apr/2021:19:44:22 +0000] \"GET /swagger.json HTTP/1.0\" 200 3740 \"-\" \"Go-http-client/1.1\"\n",
      "2021-04-14 19:44:23,144 | root | INFO | 200\n",
      "127.0.0.1 - - [14/Apr/2021:19:44:23 +0000] \"GET /swagger.json HTTP/1.0\" 200 3740 \"-\" \"Go-http-client/1.1\"\n",
      "2021-04-14 19:44:36,144 | root | INFO | Validation Request Content-Type\n",
      "2021-04-14 19:44:36,151 | root | INFO | Scoring Timer is set to 60.0 seconds\n",
      "2021-04-14 19:44:36,563 | root | INFO | 200\n",
      "127.0.0.1 - - [14/Apr/2021:19:44:36 +0000] \"POST /score?verbose=true HTTP/1.0\" 200 19 \"-\" \"Go-http-client/1.1\"\n",
      "2021-04-14 19:44:49,470 | root | INFO | Validation Request Content-Type\n",
      "2021-04-14 19:44:49,471 | root | INFO | Scoring Timer is set to 60.0 seconds\n",
      "2021-04-14 19:44:49,694 | root | INFO | 200\n",
      "127.0.0.1 - - [14/Apr/2021:19:44:49 +0000] \"POST /score HTTP/1.0\" 200 22 \"-\" \"python-requests/2.25.1\"\n",
      "\n"
     ]
    }
   ],
   "source": [
    "print(service.get_logs())"
   ]
  },
  {
   "cell_type": "code",
   "execution_count": 32,
   "metadata": {
    "collapsed": true,
    "gather": {
     "logged": 1618183633889
    },
    "jupyter": {
     "outputs_hidden": false,
     "source_hidden": false
    },
    "nteract": {
     "transient": {
      "deleting": false
     }
    }
   },
   "outputs": [],
   "source": [
    "service.delete()"
   ]
  },
  {
   "cell_type": "code",
   "execution_count": null,
   "metadata": {
    "collapsed": true,
    "jupyter": {
     "outputs_hidden": false,
     "source_hidden": false
    },
    "nteract": {
     "transient": {
      "deleting": false
     }
    }
   },
   "outputs": [],
   "source": []
  }
 ],
 "metadata": {
  "kernel_info": {
   "name": "python3"
  },
  "kernelspec": {
   "display_name": "Python 3.6 - AzureML",
   "language": "python",
   "name": "python3-azureml"
  },
  "language_info": {
   "codemirror_mode": {
    "name": "ipython",
    "version": 3
   },
   "file_extension": ".py",
   "mimetype": "text/x-python",
   "name": "python",
   "nbconvert_exporter": "python",
   "pygments_lexer": "ipython3",
   "version": "3.6.9"
  },
  "microsoft": {
   "host": {
    "AzureML": {
     "notebookHasBeenCompleted": true
    }
   }
  },
  "nteract": {
   "version": "nteract-front-end@1.0.0"
  }
 },
 "nbformat": 4,
 "nbformat_minor": 2
}
